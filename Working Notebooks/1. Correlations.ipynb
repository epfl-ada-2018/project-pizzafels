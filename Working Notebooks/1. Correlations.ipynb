{
 "cells": [
  {
   "cell_type": "markdown",
   "metadata": {},
   "source": [
    "### Imports"
   ]
  },
  {
   "cell_type": "code",
   "execution_count": 1,
   "metadata": {},
   "outputs": [],
   "source": [
    "import re\n",
    "import os\n",
    "import pandas as pd\n",
    "import numpy as np\n",
    "import matplotlib.pyplot as plt\n",
    "from scipy import stats"
   ]
  },
  {
   "cell_type": "markdown",
   "metadata": {},
   "source": [
    "## Useful expressions and functions"
   ]
  },
  {
   "cell_type": "code",
   "execution_count": 2,
   "metadata": {},
   "outputs": [],
   "source": [
    "DATA_FOLDER = '../data_clean'\n",
    "# Precomputed regular expression to check if a column is corresponding to a date\n",
    "IS_DATE = re.compile(\"^[1-2]{1}[0-9]{3}$\")"
   ]
  },
  {
   "cell_type": "code",
   "execution_count": 3,
   "metadata": {},
   "outputs": [],
   "source": [
    "def describeDf(df,name=\"DESCRIPTION\",level=1):\n",
    "    \"\"\"\n",
    "    Describe the data. Different levels are possible.\n",
    "    Level 0: Name the different columns\n",
    "    Level 1: Explore the values of each column\n",
    "    \"\"\"\n",
    "    # Print a header\n",
    "    print(\"______________________________ \" + name+\" ______________________________\\n\")\n",
    "    \n",
    "    date = []\n",
    "    \n",
    "    # For level 1\n",
    "    if(level==1):\n",
    "        print(\"\\n\")\n",
    "        # Go through the columns\n",
    "        for col in df.columns:\n",
    "            # Explore and print the unique values of columns not corresponding to a date\n",
    "            if((not IS_DATE.match(col)) & (not re.compile(\"[0-9]+ an\").match(col))):\n",
    "                # Header\n",
    "                print(\"         ATTRIBUTE: \"+col)\n",
    "                # Values in the columns\n",
    "                print(\"   \"+str(df[col].unique()))\n",
    "                print(\"\\n\")\n",
    "            else:\n",
    "                date.append(col)\n",
    "        # Print the dates columns\n",
    "        print(\"         VALUES: \"+str(date))\n",
    "        print(\"\\n\\n\\n\")\n",
    "    # For level 0\n",
    "    elif(level==0) :\n",
    "        print(df.columns.values)\n",
    "        print(\"\\n\\n\\n\")\n",
    "    # Raise an error if the level value doesn't exist\n",
    "    else:\n",
    "        raise NotImplementedError"
   ]
  },
  {
   "cell_type": "markdown",
   "metadata": {},
   "source": [
    "## Load and describe the data"
   ]
  },
  {
   "cell_type": "code",
   "execution_count": 121,
   "metadata": {},
   "outputs": [
    {
     "name": "stdout",
     "output_type": "stream",
     "text": [
      "Dataframes available:\n",
      "\n",
      "\n",
      "______________________________ df_Accident_cantons ______________________________\n",
      "\n",
      "['canton_index' 'canton' 'gravite_index' 'gravite' 'ruralite_index'\n",
      " 'ruralite' '1992' '1993' '1994' '1995' '1996' '1997' '1998' '1999' '2000'\n",
      " '2001' '2002' '2003' '2004' '2005' '2006' '2007' '2008' '2009' '2010'\n",
      " '2011' '2012' '2013' '2014' '2015' '2016' '2017']\n",
      "\n",
      "\n",
      "\n",
      "\n",
      "______________________________ df_Accident_circonstances ______________________________\n",
      "\n",
      "['mois_index' 'mois' 'day_index' 'day' 'hours_index' 'hours'\n",
      " 'gravite_index' 'gravite' 'ruralite_index' 'ruralite' 'contexte_index'\n",
      " 'contexte' 'circonstance_index' 'circonstance' '1992' '1993' '1994'\n",
      " '1995' '1996' '1997' '1998' '1999' '2000' '2001' '2002' '2003' '2004'\n",
      " '2005' '2006' '2007' '2008' '2009' '2010' '2011' '2012' '2013' '2014'\n",
      " '2015' '2016' '2017']\n",
      "\n",
      "\n",
      "\n",
      "\n",
      "______________________________ df_Accident_objets ______________________________\n",
      "\n",
      "['voiture_index' 'voiture' 'age_index' 'age' 'sexe_index' 'sexe'\n",
      " 'annee_permis_index' 'annee_permis' 'faute_index' 'faute' 'gravite_index'\n",
      " 'gravite' '1992' '1993' '1994' '1995' '1996' '1997' '1998' '1999' '2000'\n",
      " '2001' '2002' '2003' '2004' '2005' '2006' '2007' '2008' '2009' '2010'\n",
      " '2011' '2012' '2013' '2014' '2015' '2016' '2017']\n",
      "\n",
      "\n",
      "\n",
      "\n",
      "______________________________ df_Accident_type_route ______________________________\n",
      "\n",
      "['gravite_index' 'gravite' 'ruralite_index' 'ruralite' 'voie_index' 'voie'\n",
      " 'vitesse_index' 'vitesse' 'temps_index' 'temps' 'signalisation_index'\n",
      " 'signalisation' '1992' '1993' '1994' '1995' '1996' '1997' '1998' '1999'\n",
      " '2000' '2001' '2002' '2003' '2004' '2005' '2006' '2007' '2008' '2009'\n",
      " '2010' '2011' '2012' '2013' '2014' '2015' '2016' '2017']\n",
      "\n",
      "\n",
      "\n",
      "\n",
      "______________________________ df_Accident_victimes ______________________________\n",
      "\n",
      "['voiture_index' 'voiture' 'sexe_index' 'sexe' 'role_index' 'role'\n",
      " 'age_index' 'age' 'consequence_index' 'consequence' '1992' '1993' '1994'\n",
      " '1995' '1996' '1997' '1998' '1999' '2000' '2001' '2002' '2003' '2004'\n",
      " '2005' '2006' '2007' '2008' '2009' '2010' '2011' '2012' '2013' '2014'\n",
      " '2015' '2016' '2017']\n",
      "\n",
      "\n",
      "\n",
      "\n",
      "______________________________ df_Besoin_sante ______________________________\n",
      "\n",
      "['annee' 'canton' 'Total' 'Soins hopitaux' 'Soins domicile'\n",
      " 'Administration Prevention' 'besoin_par_habitant']\n",
      "\n",
      "\n",
      "\n",
      "\n",
      "______________________________ df_Depense_menages_canton ______________________________\n",
      "\n",
      "['annee' 'Canton' 'Mode' 'Eaux-de-vie' 'Vins' 'Bières'\n",
      " 'Boissons alcoolisées dans les restaurants, cafés et bars'\n",
      " 'Boissons alcoolisées en petite restauration'\n",
      " 'Boissons alcoolisées dans les cantines'\n",
      " \"Boissons alcoolisées chez des privés lors d'invitations\" 'Automobiles'\n",
      " 'Motos, scooters et vélomoteurs' 'Vélos' 'Carburants et lubrifiants'\n",
      " 'Train, billets et abonnements' 'Tram, billets et abonnements'\n",
      " 'Bus, billets et abonnements' 'Bateau, billets et abonnements'\n",
      " 'Transport multimodal' 'Services de téléphonie mobile'\n",
      " 'Assurance véhicule']\n",
      "\n",
      "\n",
      "\n",
      "\n",
      "______________________________ df_Frais_routes_cantonales ______________________________\n",
      "\n",
      "['annee' 'canton' 'Total' 'Constructions' 'Amélio-' 'Acquisition'\n",
      " 'Entretien Construction' 'Entretien Exploitation' 'Administration'\n",
      " 'Surveillance Policiere']\n",
      "\n",
      "\n",
      "\n",
      "\n",
      "______________________________ df_Frais_routes_communales ______________________________\n",
      "\n",
      "['annee' 'canton' 'Total' 'Constructions' 'Améliorations' 'Acquisition'\n",
      " 'Entretien Construction' 'Entretien Exploitation' 'Administration'\n",
      " 'Surveillance Policiere' 'Depense_habitants']\n",
      "\n",
      "\n",
      "\n",
      "\n",
      "______________________________ df_Frais_routes_nationales ______________________________\n",
      "\n",
      "['annee' 'canton' 'Acquisition' 'Administration' 'Améliorations'\n",
      " 'Constructions' 'Entretien Construction' 'Entretien Exploitation'\n",
      " 'Surveillance Policiere' 'Total']\n",
      "\n",
      "\n",
      "\n",
      "\n",
      "______________________________ df_hacked_accident ______________________________\n",
      "\n",
      "['id' 'localisation' 'roadtype' 'severitycategory' 'accidentyear'\n",
      " 'accidenttype' 'fsocommunecode' 'accidenttypecode' 'canton' 'accidentday'\n",
      " 'accidentmonth' 'accidenthour']\n",
      "\n",
      "\n",
      "\n",
      "\n",
      "______________________________ df_Longueur_routes ______________________________\n",
      "\n",
      "['annee' 'canton' 'Total' 'Routes nationales' 'Routes cantonales'\n",
      " 'Routes communales']\n",
      "\n",
      "\n",
      "\n",
      "\n",
      "______________________________ df_Population_2010 ______________________________\n",
      "\n",
      "['annee' 'canton_index' 'canton' 'permanente' 'sexe' 'etat_civil'\n",
      " 'Age - Total' '0 ans' '1 an' '2 ans' '3 ans' '4 ans' '5 ans' '6 ans'\n",
      " '7 ans' '8 ans' '9 ans' '10 ans' '11 ans' '12 ans' '13 ans' '14 ans'\n",
      " '15 ans' '16 ans' '17 ans' '18 ans' '19 ans' '20 ans' '21 ans' '22 ans'\n",
      " '23 ans' '24 ans' '25 ans' '26 ans' '27 ans' '28 ans' '29 ans' '30 ans'\n",
      " '31 ans' '32 ans' '33 ans' '34 ans' '35 ans' '36 ans' '37 ans' '38 ans'\n",
      " '39 ans' '40 ans' '41 ans' '42 ans' '43 ans' '44 ans' '45 ans' '46 ans'\n",
      " '47 ans' '48 ans' '49 ans' '50 ans' '51 ans' '52 ans' '53 ans' '54 ans'\n",
      " '55 ans' '56 ans' '57 ans' '58 ans' '59 ans' '60 ans' '61 ans' '62 ans'\n",
      " '63 ans' '64 ans' '65 ans' '66 ans' '67 ans' '68 ans' '69 ans' '70 ans'\n",
      " '71 ans' '72 ans' '73 ans' '74 ans' '75 ans' '76 ans' '77 ans' '78 ans'\n",
      " '79 ans' '80 ans' '81 ans' '82 ans' '83 ans' '84 ans' '85 ans' '86 ans'\n",
      " '87 ans' '88 ans' '89 ans' '90 ans' '91 ans' '92 ans' '93 ans' '94 ans'\n",
      " '95 ans' '96 ans' '97 ans' '98 ans' '99 ans' '100 ans ou plus']\n",
      "\n",
      "\n",
      "\n",
      "\n",
      "______________________________ df_Population_age_1992 ______________________________\n",
      "\n",
      "['age' 'sexe' '1992' '1993' '1994' '1995' '1996' '1997' '1998' '1999'\n",
      " '2000' '2001' '2002' '2003' '2004' '2005' '2006' '2007' '2008' '2009'\n",
      " '2010']\n",
      "\n",
      "\n",
      "\n",
      "\n",
      "______________________________ df_Population_canton_1992 ______________________________\n",
      "\n",
      "['canton' 'sexe' '1992' '1993' '1994' '1995' '1996' '1997' '1998' '1999'\n",
      " '2000' '2001' '2002' '2003' '2004' '2005' '2006' '2007' '2008' '2009'\n",
      " '2010']\n",
      "\n",
      "\n",
      "\n",
      "\n",
      "______________________________ df_proportion_permis ______________________________\n",
      "\n",
      "['critere' '1994' '2000' '2005' '2010' '2015']\n",
      "\n",
      "\n",
      "\n",
      "\n",
      "______________________________ df_Qualite_vie_agglo ______________________________\n",
      "\n",
      "['agglo_index' 'agglo' 'type_index' 'type' '2011' '2012' '2013' '2014']\n",
      "\n",
      "\n",
      "\n",
      "\n",
      "______________________________ df_Recettes_routes ______________________________\n",
      "\n",
      "['annee' 'canton' 'Total' 'Total contributions' 'Total taxes']\n",
      "\n",
      "\n",
      "\n",
      "\n",
      "______________________________ df_Voitures ______________________________\n",
      "\n",
      "['canton_index' 'canton' 'carosserie_index' 'carosserie' 'carburant_index'\n",
      " 'carburant' 'cylindre_index' 'cylindre' 'traction_index' 'traction'\n",
      " 'boite_index' 'boite' '1990' '1991' '1992' '1993' '1994' '1995' '1996'\n",
      " '1997' '1998' '1999' '2000' '2001' '2002' '2003' '2004' '2005' '2006'\n",
      " '2007' '2008' '2009' '2010' '2011' '2012' '2013' '2014' '2015' '2016'\n",
      " '2017']\n",
      "\n",
      "\n",
      "\n",
      "\n"
     ]
    }
   ],
   "source": [
    "print(\"Dataframes available:\\n\\n\")\n",
    "for file in os.listdir(DATA_FOLDER):\n",
    "    filename = os.fsdecode(file)\n",
    "    tablename = \"df_\"+os.path.splitext(os.path.splitext(filename)[0])[0]\n",
    "    globals()[tablename] = pd.read_csv(DATA_FOLDER + '/' + filename)\n",
    "    try:\n",
    "        globals()[tablename] = globals()[tablename].drop(columns=['Unnamed: 0'])\n",
    "    except:\n",
    "        pass\n",
    "    describeDf(globals()[tablename], name=tablename,level=0)\n",
    "    "
   ]
  },
  {
   "cell_type": "markdown",
   "metadata": {},
   "source": [
    "### Study of correlations with household spendings"
   ]
  },
  {
   "cell_type": "code",
   "execution_count": 122,
   "metadata": {},
   "outputs": [],
   "source": [
    "# RUN ONLY ONCE\n",
    "df_Depense_menages_canton['Canton'] = df_Depense_menages_canton['Canton'].apply(lambda x: getKeysByValue(dict_cantons, x))\n",
    "spend_fuel = df_Depense_menages_canton[df_Depense_menages_canton['Mode'] == 'Tot']\\\n",
    "                                    [['annee', 'Canton','Carburants et lubrifiants']]\n",
    "spend_alcool = df_Depense_menages_canton[df_Depense_menages_canton['Mode'] == 'Tot']\\\n",
    "                                    [['annee', 'Canton','Eaux-de-vie']]\n",
    "spend_biere = df_Depense_menages_canton[df_Depense_menages_canton['Mode'] == 'Tot']\\\n",
    "                                    [['annee', 'Canton','Bières']]\n",
    "df_Accident_cantons['canton'] = df_Accident_cantons['canton'].apply(lambda x: getKeysByValue(dict_cantons, x))"
   ]
  },
  {
   "cell_type": "code",
   "execution_count": 125,
   "metadata": {},
   "outputs": [],
   "source": [
    "df_Accident_cantons = df_Accident_cantons.dropna(axis=0)\n",
    "df_Accident_cantons['2006–2008'] = df_Accident_cantons.apply(lambda df: df['2006'] + df['2007'] + df['2008'], axis=1)\n",
    "df_Accident_cantons['2009–2011'] = df_Accident_cantons.apply(lambda df: df['2009'] + df['2010'] + df['2011'], axis=1)\n",
    "df_Accident_cantons['2012–2014'] = df_Accident_cantons.apply(lambda df: df['2012'] + df['2013'] + df['2014'], axis=1)"
   ]
  },
  {
   "cell_type": "code",
   "execution_count": 129,
   "metadata": {},
   "outputs": [
    {
     "data": {
      "image/png": "[encoded data removed]",
      "text/plain": [
       "<Figure size 432x288 with 1 Axes>"
      ]
     },
     "metadata": {},
     "output_type": "display_data"
    }
   ],
   "source": [
    "df_accident_canton = df_Accident_cantons.groupby(['canton']).sum()[['2006–2008', '2009–2011', '2012–2014']]\n",
    "xSpendFuel = []\n",
    "yAccident = []\n",
    "for canton in spend_fuel['Canton'].unique():\n",
    "    xSpendFuel = []\n",
    "    yAccident = []\n",
    "    for period in spend_fuel['annee'].unique():\n",
    "        xSpendFuel.append(float(spend_fuel[(spend_fuel.Canton == canton) & (spend_fuel.annee == period)]['Carburants et lubrifiants']))\n",
    "        yAccident.append(df_accident_canton[period][canton])\n",
    "        plt.scatter(xSpendFuel, yAccident)\n",
    "        \n",
    "plt.legend(spend_fuel['Canton'].unique())\n",
    "plt.title('Accidents versus total spendings in fuel')\n",
    "plt.show()"
   ]
  },
  {
   "cell_type": "code",
   "execution_count": 130,
   "metadata": {},
   "outputs": [
    {
     "ename": "ValueError",
     "evalue": "could not convert string to float: '( )'",
     "output_type": "error",
     "traceback": [
      "\u001b[1;31m---------------------------------------------------------------------------\u001b[0m",
      "\u001b[1;31mValueError\u001b[0m                                Traceback (most recent call last)",
      "\u001b[1;32m<ipython-input-130-d77b980ddded>\u001b[0m in \u001b[0;36m<module>\u001b[1;34m()\u001b[0m\n\u001b[0;32m      7\u001b[0m     \u001b[0myAccident\u001b[0m \u001b[1;33m=\u001b[0m \u001b[1;33m[\u001b[0m\u001b[1;33m]\u001b[0m\u001b[1;33m\u001b[0m\u001b[0m\n\u001b[0;32m      8\u001b[0m     \u001b[1;32mfor\u001b[0m \u001b[0mperiod\u001b[0m \u001b[1;32min\u001b[0m \u001b[0mspend_alcool\u001b[0m\u001b[1;33m[\u001b[0m\u001b[1;34m'annee'\u001b[0m\u001b[1;33m]\u001b[0m\u001b[1;33m.\u001b[0m\u001b[0munique\u001b[0m\u001b[1;33m(\u001b[0m\u001b[1;33m)\u001b[0m\u001b[1;33m:\u001b[0m\u001b[1;33m\u001b[0m\u001b[0m\n\u001b[1;32m----> 9\u001b[1;33m         \u001b[0mxSpendFuel\u001b[0m\u001b[1;33m.\u001b[0m\u001b[0mappend\u001b[0m\u001b[1;33m(\u001b[0m\u001b[0mfloat\u001b[0m\u001b[1;33m(\u001b[0m\u001b[0mspend_alcool\u001b[0m\u001b[1;33m[\u001b[0m\u001b[1;33m(\u001b[0m\u001b[0mspend_alcool\u001b[0m\u001b[1;33m.\u001b[0m\u001b[0mCanton\u001b[0m \u001b[1;33m==\u001b[0m \u001b[0mcanton\u001b[0m\u001b[1;33m)\u001b[0m \u001b[1;33m&\u001b[0m \u001b[1;33m(\u001b[0m\u001b[0mspend_alcool\u001b[0m\u001b[1;33m.\u001b[0m\u001b[0mannee\u001b[0m \u001b[1;33m==\u001b[0m \u001b[0mperiod\u001b[0m\u001b[1;33m)\u001b[0m\u001b[1;33m]\u001b[0m\u001b[1;33m[\u001b[0m\u001b[1;34m'Eaux-de-vie'\u001b[0m\u001b[1;33m]\u001b[0m\u001b[1;33m)\u001b[0m\u001b[1;33m)\u001b[0m\u001b[1;33m\u001b[0m\u001b[0m\n\u001b[0m\u001b[0;32m     10\u001b[0m         \u001b[0myAccident\u001b[0m\u001b[1;33m.\u001b[0m\u001b[0mappend\u001b[0m\u001b[1;33m(\u001b[0m\u001b[0mdf_accident_canton\u001b[0m\u001b[1;33m[\u001b[0m\u001b[0mperiod\u001b[0m\u001b[1;33m]\u001b[0m\u001b[1;33m[\u001b[0m\u001b[0mcanton\u001b[0m\u001b[1;33m]\u001b[0m\u001b[1;33m)\u001b[0m\u001b[1;33m\u001b[0m\u001b[0m\n\u001b[0;32m     11\u001b[0m         \u001b[0mplt\u001b[0m\u001b[1;33m.\u001b[0m\u001b[0mscatter\u001b[0m\u001b[1;33m(\u001b[0m\u001b[0mxSpendFuel\u001b[0m\u001b[1;33m,\u001b[0m \u001b[0myAccident\u001b[0m\u001b[1;33m)\u001b[0m\u001b[1;33m\u001b[0m\u001b[0m\n",
      "\u001b[1;32m~\\Anaconda3\\lib\\site-packages\\pandas\\core\\series.py\u001b[0m in \u001b[0;36mwrapper\u001b[1;34m(self)\u001b[0m\n\u001b[0;32m    113\u001b[0m     \u001b[1;32mdef\u001b[0m \u001b[0mwrapper\u001b[0m\u001b[1;33m(\u001b[0m\u001b[0mself\u001b[0m\u001b[1;33m)\u001b[0m\u001b[1;33m:\u001b[0m\u001b[1;33m\u001b[0m\u001b[0m\n\u001b[0;32m    114\u001b[0m         \u001b[1;32mif\u001b[0m \u001b[0mlen\u001b[0m\u001b[1;33m(\u001b[0m\u001b[0mself\u001b[0m\u001b[1;33m)\u001b[0m \u001b[1;33m==\u001b[0m \u001b[1;36m1\u001b[0m\u001b[1;33m:\u001b[0m\u001b[1;33m\u001b[0m\u001b[0m\n\u001b[1;32m--> 115\u001b[1;33m             \u001b[1;32mreturn\u001b[0m \u001b[0mconverter\u001b[0m\u001b[1;33m(\u001b[0m\u001b[0mself\u001b[0m\u001b[1;33m.\u001b[0m\u001b[0miloc\u001b[0m\u001b[1;33m[\u001b[0m\u001b[1;36m0\u001b[0m\u001b[1;33m]\u001b[0m\u001b[1;33m)\u001b[0m\u001b[1;33m\u001b[0m\u001b[0m\n\u001b[0m\u001b[0;32m    116\u001b[0m         raise TypeError(\"cannot convert the series to \"\n\u001b[0;32m    117\u001b[0m                         \"{0}\".format(str(converter)))\n",
      "\u001b[1;31mValueError\u001b[0m: could not convert string to float: '( )'"
     ]
    },
    {
     "data": {
      "image/png": "[encoded data removed]",
      "text/plain": [
       "<Figure size 432x288 with 1 Axes>"
      ]
     },
     "metadata": {},
     "output_type": "display_data"
    }
   ],
   "source": [
    "df_accident_canton = df_Accident_cantons.groupby(['canton']).sum()[['2006–2008', '2009–2011', '2012–2014']]\n",
    "\n",
    "xSpendFuel = []\n",
    "yAccident = []\n",
    "for canton in spend_alcool['Canton'].unique():\n",
    "    xSpendFuel = []\n",
    "    yAccident = []\n",
    "    for period in spend_alcool['annee'].unique():\n",
    "        xSpendFuel.append(float(spend_alcool[(spend_alcool.Canton == canton) & (spend_alcool.annee == period)]['Eaux-de-vie']))\n",
    "        yAccident.append(df_accident_canton[period][canton])\n",
    "        plt.scatter(xSpendFuel, yAccident)\n",
    "        \n",
    "plt.legend(spend_alcool['Canton'].unique())\n",
    "plt.title('Accidents versus total spendings in Eau-de-vie')\n",
    "plt.show()"
   ]
  },
  {
   "cell_type": "code",
   "execution_count": 131,
   "metadata": {},
   "outputs": [
    {
     "data": {
      "image/png": "[encoded data removed]",
      "text/plain": [
       "<Figure size 432x288 with 1 Axes>"
      ]
     },
     "metadata": {},
     "output_type": "display_data"
    }
   ],
   "source": [
    "df_accident_canton = df_Accident_cantons.groupby(['canton']).sum()[['2006–2008', '2009–2011', '2012–2014']]\n",
    "\n",
    "xSpendFuel = []\n",
    "yAccident = []\n",
    "for canton in spend_biere['Canton'].unique():\n",
    "    xSpendFuel = []\n",
    "    yAccident = []\n",
    "    for period in spend_biere['annee'].unique():\n",
    "        xSpendFuel.append(float(spend_biere[(spend_biere.Canton == canton) & (spend_biere.annee == period)]['Bières']))\n",
    "        yAccident.append(df_accident_canton[period][canton])\n",
    "        plt.scatter(xSpendFuel, yAccident)\n",
    "        \n",
    "plt.legend(spend_biere['Canton'].unique())\n",
    "plt.title('Accidents versus total spendings in beer')\n",
    "plt.show()"
   ]
  },
  {
   "cell_type": "code",
   "execution_count": 38,
   "metadata": {},
   "outputs": [],
   "source": [
    "dict_cantons = dict()\n",
    "dict_cantons['AA'] = ['Appenzell Rh.-Ext.','Appenzell Ausserrhoden']\n",
    "dict_cantons['AG'] = ['Argovie','Aargau']\n",
    "dict_cantons['AI'] = ['Appenzell Rh.-Int.','Appenzell Innerrhoden']\n",
    "dict_cantons['BE'] = ['Berne', 'Bern', 'Bern / Berne']\n",
    "dict_cantons['BL'] = ['Bâle-Campagne','Basel-Landschaft']\n",
    "dict_cantons['BS'] = ['Bâle-Ville','Basel-Stadt']\n",
    "dict_cantons['FR'] = ['Fribourg', 'Fribourg / Freiburg']\n",
    "dict_cantons['GE'] = ['Genève', 'Genf']\n",
    "dict_cantons['GL'] = ['Glaris', 'Glarus']\n",
    "dict_cantons['GR'] = ['Grisons', 'Graubünden', 'Grigioni', 'Grischun', 'Graubünden / Grigioni / Grischun']\n",
    "dict_cantons['JU'] = ['Jura']\n",
    "dict_cantons['LU'] = ['Lucerne', 'Luzern']\n",
    "dict_cantons['NE'] = ['Neuchâtel']\n",
    "dict_cantons['NW'] = ['Nidwald', 'Nidwalden']\n",
    "dict_cantons['OW'] = ['Obwald', 'Obwalden']\n",
    "dict_cantons['SG'] = ['St. Gall', 'St. Gallen', 'Saint-Gall']\n",
    "dict_cantons['SH'] = ['Schaffhouse', 'Schaffhausen']\n",
    "dict_cantons['SO'] = ['Soleure', 'Solothurn']\n",
    "dict_cantons['SZ'] = ['Schwytz', 'Schwyz']\n",
    "dict_cantons['TE'] = ['Tessin', 'Ticino']\n",
    "dict_cantons['TG'] = ['Thurgovie', 'Thurgau']\n",
    "dict_cantons['UR'] = ['Uri']\n",
    "dict_cantons['VS'] = ['Valais', 'Wallis', 'Valais / Wallis']\n",
    "dict_cantons['VD'] = ['Vaud']\n",
    "dict_cantons['ZG'] = ['Zoug', 'Zug']\n",
    "dict_cantons['ZH'] = ['Zurich', 'Zürich']"
   ]
  },
  {
   "cell_type": "code",
   "execution_count": 25,
   "metadata": {},
   "outputs": [],
   "source": [
    "def getKeysByValue(dictOfElements, valueToFind):\n",
    "    '''\n",
    "    find the key of a canton\n",
    "    '''\n",
    "    for item  in dictOfElements.items():\n",
    "        if valueToFind in item[1]:\n",
    "            return item[0]\n",
    "            break\n",
    "    raise NotImplementedError"
   ]
  },
  {
   "cell_type": "code",
   "execution_count": null,
   "metadata": {},
   "outputs": [],
   "source": []
  }
 ],
 "metadata": {
  "kernelspec": {
   "display_name": "Python 3",
   "language": "python",
   "name": "python3"
  },
  "language_info": {
   "codemirror_mode": {
    "name": "ipython",
    "version": 3
   },
   "file_extension": ".py",
   "mimetype": "text/x-python",
   "name": "python",
   "nbconvert_exporter": "python",
   "pygments_lexer": "ipython3",
   "version": "3.6.5"
  }
 },
 "nbformat": 4,
 "nbformat_minor": 2
}
