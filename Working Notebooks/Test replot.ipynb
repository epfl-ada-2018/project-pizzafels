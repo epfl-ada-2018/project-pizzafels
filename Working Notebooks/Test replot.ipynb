{
 "cells": [
  {
   "cell_type": "markdown",
   "metadata": {},
   "source": [
    "# CAR ACCIDENTS IN SWITZERLAND\n",
    "\n",
    "## The Pizzafels\n",
    "\n",
    "### Notebook for milestone 3"
   ]
  },
  {
   "cell_type": "markdown",
   "metadata": {},
   "source": [
    "## Introduction\n",
    "\n",
    "This notebook presents our analysis of the car accidents in Switzerland over the past years. From the different datasets that could be correlated to the accidents that we found online on the Swiss OpenData platform, we wanted to identify the ones with the highest impact, so as to be able to make predictions for the future and advise the government/the cantons on the matter.\n",
    "\n",
    "### Important prior note\n",
    "\n",
    "We tried to keep a clean tracking of the data in English, but it would have been a pain to manually rewrite every French - German - Italian - Romansh (yes, it exists) information in Shakespeare's language. This is why you can see some of the Swiss languages sometimes in our data, for example in the names of the dataframes, or their columns. We are sorry for the inconvenient and we commented it in a way that is hopefully sufficiently clear to understand what is going on even if you solely understand English!"
   ]
  },
  {
   "cell_type": "markdown",
   "metadata": {},
   "source": [
    "### .Imports"
   ]
  },
  {
   "cell_type": "code",
   "execution_count": 33,
   "metadata": {},
   "outputs": [],
   "source": [
    "import plotly\n",
    "plotly.tools.set_credentials_file(username='clementg20', api_key='DqIypbzBxQGr32fyKO5R')"
   ]
  },
  {
   "cell_type": "code",
   "execution_count": 1,
   "metadata": {},
   "outputs": [],
   "source": [
    "import os\n",
    "import pandas as pd\n",
    "import json\n",
    "import numpy as np\n",
    "import re\n",
    "import math\n",
    "import numpy as np\n",
    "import codecs\n",
    "import folium\n",
    "from scipy.stats.stats import pearsonr\n",
    "from sklearn.preprocessing import normalize\n",
    "import plotly.plotly as py\n",
    "import plotly.graph_objs as go\n",
    "import plotly.figure_factory as FF\n",
    "from plotly.offline import download_plotlyjs, init_notebook_mode, plot, iplot\n",
    "\n"
   ]
  },
  {
   "cell_type": "markdown",
   "metadata": {},
   "source": [
    "### .Constants"
   ]
  },
  {
   "cell_type": "code",
   "execution_count": 2,
   "metadata": {},
   "outputs": [],
   "source": [
    "DATA_FOLDER = '../data_clean'\n",
    "IS_DATE = re.compile(\"^[1-2]{1}[0-9]{3}$\") #will be useful to detect values that correspond to dates\n",
    "\n",
    "geo_center_ch = [46.8, 8.23] # Alggi-Alp\n",
    "\n",
    "CANTON_TOPO_PATH = '../ch-cantons.topojson.json'\n",
    "CANTON_TOPO = json.load(open(CANTON_TOPO_PATH)) #GeoJson file of cantons used in Homework2\n",
    "\n",
    "PLOT_FOLDER = './test_output/'\n",
    "DF_FOLDER = './test_output/'\n",
    "MAP_FOLDER = './test_output/'"
   ]
  },
  {
   "cell_type": "markdown",
   "metadata": {},
   "source": [
    "### .Useful functions"
   ]
  },
  {
   "cell_type": "code",
   "execution_count": null,
   "metadata": {},
   "outputs": [],
   "source": []
  },
  {
   "cell_type": "markdown",
   "metadata": {},
   "source": [
    "#### Function to quickly describe a dataframe"
   ]
  },
  {
   "cell_type": "code",
   "execution_count": 3,
   "metadata": {},
   "outputs": [],
   "source": [
    "def describeDf(df,name=\"DESCRIPTION\",level=2):\n",
    "    \"\"\"\n",
    "    Describe the data. Different levels are possible.\n",
    "    Level 0: Print the title of the dataset\n",
    "    Level 1: Name the different columns\n",
    "    Level 2: Explore the values of each column\n",
    "    \"\"\"\n",
    "    date=[]\n",
    "    \n",
    "    # Explore each column of the dataset\n",
    "    if(level==2):\n",
    "        # Print a header\n",
    "        print(\"______________________________ \" + name+\" ______________________________\\n\")\n",
    "        print(\"\\n\")\n",
    "        for col in df.columns:\n",
    "            # Print the attributes of each column\n",
    "            if((not IS_DATE.match(col)) & (not re.compile(\"[0-9]+ an\").match(col))):\n",
    "                print(\"         ATTRIBUTE: \"+col)\n",
    "                print(\"   \"+str(df[col].unique()))\n",
    "                print(\"\\n\")\n",
    "            else:\n",
    "                date.append(col)\n",
    "        # Print the years we have information on\n",
    "        print(\"         VALUES: \"+str(date))\n",
    "        print(\"\\n\\n\\n\")\n",
    "        return\n",
    "    \n",
    "    # Recover and print the columns of the datasets\n",
    "    elif(level==1):\n",
    "        # Print a header\n",
    "        print(\"______________________________ \" + name+\" ______________________________\\n\")\n",
    "        val = []\n",
    "        # Print the different columns\n",
    "        for col in df.columns:\n",
    "            if((not IS_DATE.match(col)) & (not re.compile(\"[0-9]+ an\").match(col))):\n",
    "                val.append(col)\n",
    "        print(val)\n",
    "        print(\"\\n\\n\\n\")\n",
    "        return\n",
    "    \n",
    "    # Simply print the name of the dataset\n",
    "    elif(level==0):\n",
    "        print(\"   >  \" + name+\"\\n\")\n",
    "    \n",
    "    # Sanity check: the given level does exist\n",
    "    else:\n",
    "        raise NotImplementedError"
   ]
  },
  {
   "cell_type": "markdown",
   "metadata": {},
   "source": [
    "#### Function to restrict the dataframe to a fix period in term of years\n",
    "\n",
    "We need this function as our different datasets are often based on different yearly periods."
   ]
  },
  {
   "cell_type": "code",
   "execution_count": 4,
   "metadata": {},
   "outputs": [],
   "source": [
    "def get_period(df, start=None,end=None):\n",
    "    \"\"\"\n",
    "    Function to keep the columns of interest of a dataset, between a starting and an ending date.\n",
    "    \"\"\"\n",
    "    columns_to_keep = []\n",
    "    dates = []\n",
    "    \n",
    "    # Go through the columns\n",
    "    for elem in df.columns:\n",
    "        # If it is not a date we keep it\n",
    "        if not IS_DATE.match(elem):\n",
    "            columns_to_keep.append(elem)\n",
    "        # Else we store it to see later if we keep it\n",
    "        else:\n",
    "            dates.append(int(elem))\n",
    "    \n",
    "    # Define the starting and ending dates in the case they are not\n",
    "    if start == None:\n",
    "        start = np.min(dates)\n",
    "    if end == None:\n",
    "        end = np.max(dates)\n",
    "    \n",
    "    # Only keep the columns of interest\n",
    "    for date in dates:\n",
    "        if (date<=end) & (date>=start):\n",
    "            columns_to_keep.append(str(date))\n",
    "    \n",
    "    return df[columns_to_keep]"
   ]
  },
  {
   "cell_type": "markdown",
   "metadata": {},
   "source": [
    "#### Function to get the age corresponding to the intervals as input\n",
    "\n",
    "Using this functions will allow us to treat people between 40 and 50 years old as one group for example. Again, this is needed because of the disparity among the datasets, with some of them considering each age category differently, while others  groupped the people in different intervals. This functions allow us to compare and work with those different datasets."
   ]
  },
  {
   "cell_type": "code",
   "execution_count": 5,
   "metadata": {},
   "outputs": [],
   "source": [
    "def map_int_to_age(k,age_max):\n",
    "    \"\"\"\n",
    "    Transform an integer to what is define as an age, i.e. 20 to '20 ans' ('20 years old')\n",
    "    \"\"\"\n",
    "    if(k != 1 and k<age_max):\n",
    "        return '{} ans'.format(k)\n",
    "    if(k == 1):\n",
    "        return '{} an'.format(k)\n",
    "    if(k==age_max):\n",
    "        if (age_max == 100):\n",
    "            return '{} ans ou plus'.format(age_max)\n",
    "        else:\n",
    "            return '{} ans et plus'.format(age_max)"
   ]
  },
  {
   "cell_type": "code",
   "execution_count": 6,
   "metadata": {},
   "outputs": [],
   "source": [
    "def build_age(intervals,age_max):\n",
    "    \"\"\"\n",
    "    INPUT:  intervals: Array corresponding to the delimitation of the wanted intervals.\n",
    "            age_max: The maximal age to consider.\n",
    "    \"\"\"\n",
    "    ages_total = []\n",
    "    \n",
    "    # Build the intervals\n",
    "    for i in range(len(intervals)-1):\n",
    "        ages = []\n",
    "        \n",
    "        # We keep the first limit of the interval as its first element: this will\n",
    "        # allow us to identify the different intervals later\n",
    "        ages.append(intervals[i])\n",
    "        \n",
    "        # Put the corresponding ages in the interval\n",
    "        for k in range(int(intervals[i]),int(intervals[i+1])):\n",
    "            # Use our function\n",
    "            age = map_int_to_age(k,age_max)\n",
    "            ages.append(age)\n",
    "            if(k==100):\n",
    "                break\n",
    "                \n",
    "        # Store the interval we just created\n",
    "        ages_total.append(ages)\n",
    "    \n",
    "    return ages_total"
   ]
  },
  {
   "cell_type": "markdown",
   "metadata": {},
   "source": [
    "#### Mapping for the cantons\n",
    "\n",
    "One recurrent problem we encountered, as presented in introduction, is the fact that different datasets have information in different languages. In general, we can treat them case by case, but it becomes a major issue when it comes to the Swiss cantons. As we wanted to do an in depth analysis and comparison of them, we needed to be able to refer them in different datasets.\n",
    "\n",
    "We thus decided to build a dictionnary of every different mentioning of the cantons we found, with a little function to get the corresponding key, allowing us to compare cantons in different datasets."
   ]
  },
  {
   "cell_type": "code",
   "execution_count": 7,
   "metadata": {},
   "outputs": [],
   "source": [
    "dict_cantons = dict()\n",
    "dict_cantons['AA'] = ['Appenzell Rh.-Ext.','Appenzell Ausserrhoden','AR']\n",
    "dict_cantons['AG'] = ['Argovie','Aargau']\n",
    "dict_cantons['AI'] = ['Appenzell Rh.-Int.','Appenzell Innerrhoden']\n",
    "dict_cantons['BE'] = ['Berne', 'Bern', 'Bern / Berne']\n",
    "dict_cantons['BL'] = ['Bâle-Campagne','Basel-Landschaft']\n",
    "dict_cantons['BS'] = ['Bâle-Ville','Basel-Stadt','Bâle-Ville   2)','Bâle-Ville  2)']\n",
    "dict_cantons['FR'] = ['Fribourg', 'Fribourg / Freiburg']\n",
    "dict_cantons['GE'] = ['Genève', 'Genf']\n",
    "dict_cantons['GL'] = ['Glaris', 'Glarus']\n",
    "dict_cantons['GR'] = ['Grisons', 'Graubünden', 'Grigioni', 'Grischun', 'Graubünden / Grigioni / Grischun']\n",
    "dict_cantons['JU'] = ['Jura']\n",
    "dict_cantons['LU'] = ['Lucerne', 'Luzern']\n",
    "dict_cantons['NE'] = ['Neuchâtel']\n",
    "dict_cantons['NW'] = ['Nidwald', 'Nidwalden']\n",
    "dict_cantons['OW'] = ['Obwald', 'Obwalden']\n",
    "dict_cantons['SG'] = ['St. Gall', 'St. Gallen','Saint-Gall']\n",
    "dict_cantons['SH'] = ['Schaffhouse', 'Schaffhausen']\n",
    "dict_cantons['SO'] = ['Soleure', 'Solothurn']\n",
    "dict_cantons['SZ'] = ['Schwytz', 'Schwyz']\n",
    "dict_cantons['TE'] = ['Tessin', 'Ticino','TI']\n",
    "dict_cantons['TG'] = ['Thurgovie', 'Thurgau']\n",
    "dict_cantons['UR'] = ['Uri']\n",
    "dict_cantons['VS'] = ['Valais', 'Wallis', 'Valais / Wallis']\n",
    "dict_cantons['VD'] = ['Vaud']\n",
    "dict_cantons['ZG'] = ['Zoug', 'Zug']\n",
    "dict_cantons['ZH'] = ['Zurich', 'Zürich']\n",
    "\n",
    "\n",
    "def getKeysByValue(dictOfElements, valueToFind):\n",
    "    '''\n",
    "    Find the key of a canton.\n",
    "    '''\n",
    "    for item  in dictOfElements.items():\n",
    "        if valueToFind==item[0]:\n",
    "            return valueToFind\n",
    "        if valueToFind in item[1]:\n",
    "            return item[0]\n",
    "            break\n",
    "    raise NotImplementedError"
   ]
  },
  {
   "cell_type": "markdown",
   "metadata": {},
   "source": [
    "We also implemented the following function to change all the cantons names to their key"
   ]
  },
  {
   "cell_type": "code",
   "execution_count": 8,
   "metadata": {},
   "outputs": [],
   "source": [
    "def clean_cantons_names(x):\n",
    "    clean = x.copy()\n",
    "    for cant in clean['canton'].unique():\n",
    "        # Check if what is recorded as a 'canton' really is a canton, i.e. is in our\n",
    "        # dictionary (this doesn't keep the Swiss totals for example)\n",
    "        try:\n",
    "            getKeysByValue(dict_cantons, cant)\n",
    "        # If not, we don't keep the rows with those 'cantons'\n",
    "        except:\n",
    "            clean = clean[clean.canton!=cant]\n",
    "\n",
    "    # Replace the cantons name by their keys to compare them below\n",
    "    clean['canton'] = [getKeysByValue(dict_cantons, cant) for cant in clean['canton']]\n",
    "    \n",
    "    return clean"
   ]
  },
  {
   "cell_type": "markdown",
   "metadata": {},
   "source": [
    "And the list of the cantons keys to be able to put every dataframe in the same order"
   ]
  },
  {
   "cell_type": "code",
   "execution_count": 9,
   "metadata": {},
   "outputs": [],
   "source": [
    "list_cantons_keys = []\n",
    "for key in dict_cantons.keys():\n",
    "    list_cantons_keys.append(key)"
   ]
  },
  {
   "cell_type": "markdown",
   "metadata": {},
   "source": [
    "#### Function to plot a set of data"
   ]
  },
  {
   "cell_type": "code",
   "execution_count": 10,
   "metadata": {},
   "outputs": [],
   "source": [
    "def plot_dataframe(x, y=None, title=None, xlabel=None, ylabel=None, labels=None,\\\n",
    "                   rotation=0, number_to_plot=None, bars=None,name_save=None):\n",
    "    if number_to_plot == None:\n",
    "        try:\n",
    "            number_to_plot = y.shape[0]\n",
    "        except:\n",
    "            pass\n",
    "    if bars == None:\n",
    "        plt.figure(figsize=(12,7))\n",
    "        for j in range(number_to_plot):\n",
    "            plt.plot(x, y.iloc[j], label = labels[j])\n",
    "    else:\n",
    "        x.plot(kind=bars, figsize=(12,7))\n",
    "    plt.title(title, fontsize=18)\n",
    "    plt.legend(fontsize=10, loc=0, bbox_to_anchor=(1,1))\n",
    "    plt.xticks(rotation=rotation, fontsize=12)\n",
    "    plt.yticks(fontsize=12)\n",
    "    plt.xlabel(xlabel, fontsize=15)\n",
    "    plt.ylabel(ylabel, fontsize=15)\n",
    "    if (name_save!=None):\n",
    "        plt.savefig(PLOT_FOLDER+name_save+'.png')\n",
    "    plt.show()\n",
    "    "
   ]
  },
  {
   "cell_type": "markdown",
   "metadata": {},
   "source": [
    "#### Function to scatter plot correlations"
   ]
  },
  {
   "cell_type": "code",
   "execution_count": 11,
   "metadata": {},
   "outputs": [],
   "source": [
    "def plot_correlation(x, y, title=None, xlabel=None, ylabel=None, labels=None,\\\n",
    "                   rotation=0, number_to_plot=None,name_save=None):\n",
    "    if number_to_plot == None:\n",
    "        try:\n",
    "            number_to_plot = y.shape[0]\n",
    "        except:\n",
    "            pass\n",
    "    plt.figure(figsize=(12,7))\n",
    "    for j in range(number_to_plot):\n",
    "        plt.scatter(x.iloc[j], y.iloc[j], label = labels[j])\n",
    "    plt.title(title, fontsize=18)\n",
    "    plt.legend(fontsize=10, loc=\"best\", bbox_to_anchor=(1,1))\n",
    "    plt.xticks(rotation=rotation, fontsize=12)\n",
    "    plt.yticks(fontsize=12)\n",
    "    plt.xlabel(xlabel, fontsize=15)\n",
    "    plt.ylabel(ylabel, fontsize=15)\n",
    "    if (name_save!=None):\n",
    "        plt.savefig(PLOT_FOLDER+name_save+'.png')\n",
    "    plt.show()\n",
    "    "
   ]
  },
  {
   "cell_type": "markdown",
   "metadata": {},
   "source": [
    "#### Function to save results in order to put in the datastory"
   ]
  },
  {
   "cell_type": "code",
   "execution_count": 12,
   "metadata": {},
   "outputs": [],
   "source": [
    "def save_it(data, name):\n",
    "    if (type(data) == type(pd.DataFrame())):\n",
    "        with codecs.open(DF_FOLDER+name+'.html','w',\"utf-8\") as f: \n",
    "            f.write(data.to_html())\n",
    "            return\n",
    "    if (type(data) == type(NewMap())):\n",
    "        data.save(MAP_FOLDER+name+\".html\")\n",
    "        return\n",
    "    raise NotImplementedError"
   ]
  },
  {
   "cell_type": "code",
   "execution_count": null,
   "metadata": {},
   "outputs": [],
   "source": []
  },
  {
   "cell_type": "markdown",
   "metadata": {},
   "source": [
    "#### Homemade rewriting of the folium\n",
    "\n",
    "Since the `choropleth` method in folium is depreciated and doesn't display the `NaN values` right, we decide to add a new function to folium to make choropleth map."
   ]
  },
  {
   "cell_type": "code",
   "execution_count": 13,
   "metadata": {},
   "outputs": [],
   "source": [
    "import branca\n",
    "from folium.folium import color_brewer, StepColormap\n",
    "\n",
    "class NewMap(folium.Map):\n",
    "\n",
    "    def color_map(self, data, columns, topo_data, objects,\n",
    "                  legend=None, all_columns = None, layer_name ='', color_domain=[], fill_opacity=0.8, nan_opacity=0.3,\n",
    "                  line_weight=1, line_opacity=1, key_on='id',show=True, multiMap=False):\n",
    "\n",
    "        \"\"\"\n",
    "        data: dataframe\n",
    "        columns: tuple of the column headers of the keys and the data to be used\n",
    "        topo_data: topojson file\n",
    "        objects: objects path of your topo json file\n",
    "        layer_name: Name of the color layer. Put 'None' if you don't want to print any \n",
    "                    legend\n",
    "        color_domain: list of the color scale in legend, it is automatically defined with\n",
    "                        the minimum and maximum of your data if no list is provided.\n",
    "        multiMap: bool that informs wether it is possible to change the map interactively or not,\n",
    "                        if yes, we want that both maps plotted interactively use the same color scale\n",
    "        \"\"\"\n",
    "        \n",
    "        # Fix the color scale: from yellow to red in our case\n",
    "\n",
    "        if all_columns == None:\n",
    "            all_columns = [columns[1]]\n",
    "                # only for interactive maps with two input choices\n",
    "        lowLim=min( [min(data[all_columns[i]]) for i in range(0,len(all_columns))])   #we select overall min of both sets for the min of color scale\n",
    "        upLim=max([max(data[all_columns[i]]) for i in range(0,len(all_columns))])    #same for max value of color scale\n",
    "        colorscale = branca.colormap.linear.YlOrRd_09.scale(lowLim,upLim)\n",
    "        \n",
    "        # Redefine the styling function to blacken the NAN entries and color the other \n",
    "        # entries with the right color\n",
    "        def style_function(feature):\n",
    "            variation = (data[data[columns[0]] == feature[key_on]][columns[1]].values)\n",
    "            try:\n",
    "                return {\n",
    "                    'weight': line_weight,\n",
    "                    'opacity': line_opacity,\n",
    "                    'fillOpacity': fill_opacity,\n",
    "                    'color': 'black',\n",
    "                    'fillColor': colorscale(variation)\n",
    "                }\n",
    "            except:\n",
    "                return {\n",
    "                'weight': line_weight,\n",
    "                'opacity': line_opacity,\n",
    "                'fillOpacity': nan_opacity,\n",
    "                'color': 'black',\n",
    "                'fillColor': '#black'\n",
    "                }\n",
    "\n",
    "        # Define the colored layer using the predefine styling function\n",
    "        geo_json = folium.TopoJson(topo_data,\n",
    "                                   objects,\n",
    "                                   style_function = style_function,\n",
    "                                   name = layer_name,\n",
    "                                   show=show\n",
    "                                  )\n",
    "        \n",
    "        # Add the colored layer to our map\n",
    "        self.add_child(geo_json)\n",
    "\n",
    "        # If you want a color scale legend, add it\n",
    "        if legend != None:\n",
    "            \n",
    "            # If the scale is not defined, define it automatically through the minimal\n",
    "            # and maximal values\n",
    "            if not color_domain:\n",
    "                color_domain = np.arange(lowLim, upLim,(upLim-lowLim)/10)\n",
    "                \n",
    "            # Create the legend with the existing function\n",
    "            brewed = color_brewer('YlOrRd', n=len(color_domain)-1)\n",
    "            color_scale = StepColormap(\n",
    "            brewed[0:len(color_domain)-1],    \n",
    "            index=color_domain,\n",
    "            vmin=color_domain[0],\n",
    "            vmax=color_domain[-1],\n",
    "            caption=legend,\n",
    "            )\n",
    "            \n",
    "            # Add the legend to the map\n",
    "            self.add_child(color_scale)"
   ]
  },
  {
   "cell_type": "markdown",
   "metadata": {},
   "source": [
    "#### Function to create a map\n",
    "Easy function to transform a dataframe with cantons to a map"
   ]
  },
  {
   "cell_type": "code",
   "execution_count": 14,
   "metadata": {},
   "outputs": [],
   "source": [
    "def create_map(dataframe,columns,legend,column_canton='canton'):\n",
    "    layerControl = True\n",
    "    if (type(columns)!=type([])):\n",
    "        columns=[columns]\n",
    "        layerControl = False\n",
    "    MAP = NewMap(geo_center_ch,  zoom_start=8, tiles='cartodbpositron')\n",
    "    show = True\n",
    "    for elem in reversed(columns):\n",
    "        MAP.color_map(data=dataframe,\n",
    "                      columns=[column_canton, elem],\n",
    "                      all_columns=columns,\n",
    "                      topo_data=CANTON_TOPO,\n",
    "                      objects='objects.cantons',\n",
    "                      layer_name = str(elem),\n",
    "                      legend=legend,\n",
    "                    show=show)\n",
    "        show = False\n",
    "        legend = None\n",
    "    if layerControl:\n",
    "        folium.LayerControl().add_to(MAP)\n",
    "    return MAP"
   ]
  },
  {
   "cell_type": "markdown",
   "metadata": {},
   "source": [
    "### .Datasets Loading"
   ]
  },
  {
   "cell_type": "markdown",
   "metadata": {},
   "source": [
    "As mentioned, to perform our analysis, we took many datasets from the Swiss OpenData website. All these datasets are excels spreedsheet in differents forms, we hence needed to do a pre-treatment to transform them into clear `csv`\n",
    " files. They are stored in the folder `data_clean`.\n",
    "\n",
    "The pre-treatment was huge since the datasets were sometimes split into multiple spreedsheets (on for each year) for example. Moreover, the excel files were organized to be visually good looking, with many merged cells and various hierachical levels in the data, thus requiring more work to clean and ready it for the future processings with pandas. "
   ]
  },
  {
   "cell_type": "markdown",
   "metadata": {},
   "source": [
    "#### Snapshot of our different datasets"
   ]
  },
  {
   "cell_type": "code",
   "execution_count": 15,
   "metadata": {
    "scrolled": false
   },
   "outputs": [
    {
     "name": "stdout",
     "output_type": "stream",
     "text": [
      "  DATAFRAMES AVAILABLES:\n",
      "\n",
      "   >  df_Accident_cantons\n",
      "\n",
      "   >  df_Accident_circonstances\n",
      "\n",
      "   >  df_Accident_objets\n",
      "\n",
      "   >  df_Accident_type_route\n",
      "\n",
      "   >  df_Accident_victimes\n",
      "\n",
      "   >  df_Besoin_sante\n",
      "\n",
      "   >  df_Depense_menages_canton\n",
      "\n",
      "   >  df_Frais_routes_cantonales\n",
      "\n",
      "   >  df_Frais_routes_communales\n",
      "\n",
      "   >  df_Frais_routes_nationales\n",
      "\n",
      "   >  df_hacked_accident\n",
      "\n",
      "   >  df_Longueur_routes\n",
      "\n",
      "   >  df_Population_2010\n",
      "\n",
      "   >  df_Population_age_1992\n",
      "\n",
      "   >  df_Population_canton_1992\n",
      "\n",
      "   >  df_Proportion_permis\n",
      "\n",
      "   >  df_Qualite_vie_agglo\n",
      "\n",
      "   >  df_Recettes_routes\n",
      "\n",
      "   >  df_Voitures\n",
      "\n"
     ]
    }
   ],
   "source": [
    "dataframes = {}\n",
    "print(\"  DATAFRAMES AVAILABLES:\\n\")\n",
    "\n",
    "for file in os.listdir(DATA_FOLDER):\n",
    "    # Load the filename\n",
    "    filename = os.fsdecode(file)\n",
    "    # Name the corresponding DataFrame \"df_.....\"\n",
    "    tablename = \"df_\"+os.path.splitext(os.path.splitext(filename)[0])[0]\n",
    "    # Load the values in the DataFrame\n",
    "    globals()[tablename] = pd.read_csv(DATA_FOLDER + '/' + filename)\n",
    "    try:\n",
    "        globals()[tablename] = globals()[tablename].drop(columns=['Unnamed: 0'])\n",
    "    except:\n",
    "        pass\n",
    "    # Print the title of the datasets\n",
    "    describeDf(globals()[tablename], name=tablename,level=0)\n",
    "    dataframes[tablename] = globals()[tablename] "
   ]
  },
  {
   "cell_type": "markdown",
   "metadata": {},
   "source": [
    "# ANALYSIS"
   ]
  },
  {
   "cell_type": "markdown",
   "metadata": {},
   "source": [
    "## 1. Accidents in Switzerland: A description"
   ]
  },
  {
   "cell_type": "markdown",
   "metadata": {},
   "source": [
    "### 1.1. Who?"
   ]
  },
  {
   "cell_type": "markdown",
   "metadata": {},
   "source": [
    "#### 1.1.1 Sex and age "
   ]
  },
  {
   "cell_type": "markdown",
   "metadata": {},
   "source": [
    "In this part, we work with the dataset `df_Population_2010`, which records the population by canton, sex and age between 2010 \\& 2017. We change the disposition of the dataframe and group it by age and sex for each year. We then consider `df_Population_Age_1992` to have access to the population by age and sex between 1992 \\& 2010 and put it in the same form. \n",
    "\n",
    "This will allow us to perform a normalization of the number of accidents (by 10'000 people in that case) to have an insight on the more dangerous categories of people."
   ]
  },
  {
   "cell_type": "markdown",
   "metadata": {},
   "source": [
    "##### Sex and age of the population on a yearly basis"
   ]
  },
  {
   "cell_type": "markdown",
   "metadata": {},
   "source": [
    "2010-2017"
   ]
  },
  {
   "cell_type": "code",
   "execution_count": 16,
   "metadata": {},
   "outputs": [],
   "source": [
    "# Build the age intervals corresponding to the ones in 'df_Accident_objets' with our function\n",
    "ages = build_age(df_Accident_objets.age_index.unique(),100)\n",
    "\n",
    "# Group the population by the age intervals to be considered\n",
    "df_Population_2010_trancheAge = df_Population_2010.copy()\n",
    "for age in ages:\n",
    "    # Sum the population of each age in the interval considered and indexing the column\n",
    "    # by the index of each interval (the number stored at position 0)\n",
    "    df_Population_2010_trancheAge[str(age[0])] =\\\n",
    "            df_Population_2010_trancheAge.loc[:,age[1:]].sum(axis=1)\n",
    "\n",
    "# Define the columns of the dataframe we want to keep, i.e. the population for each interval\n",
    "# of ages, the corresponding year and the sex\n",
    "toKeep = []\n",
    "for age in ages :\n",
    "    toKeep.append(str(age[0]))\n",
    "toKeep.append('annee')\n",
    "toKeep.append('sexe')\n",
    "\n",
    "# We are only interested in the total Swiss population independant of the marital status\n",
    "# We also delete the rows containing the sum of both men and women\n",
    "df_pop_Suisse =\\\n",
    "        df_Population_2010_trancheAge[(df_Population_2010_trancheAge['canton'] == 'Suisse')\\\n",
    "                    & (df_Population_2010_trancheAge.etat_civil == \"Etat civil - Total\")\\\n",
    "                    & (df_Population_2010_trancheAge['sexe'] != 'Sexe - Total')]\n",
    "\n",
    "# We only keep the wanted columns\n",
    "df_pop_Suisse = df_pop_Suisse[toKeep]\n",
    "\n",
    "# Group by year and sex and transpose the dataframe to have each sex & age category\n",
    "# as a new row and the corresponding years as the different columns\n",
    "df_pop_Suisse['annee'] = df_pop_Suisse['annee'].map(int).map(str)\n",
    "df_pop_Suisse = df_pop_Suisse.groupby(['annee','sexe']).sum()\n",
    "df_pop_Suisse = df_pop_Suisse.transpose()\n",
    "df_pop_Suisse.index = df_pop_Suisse.index.map(float)"
   ]
  },
  {
   "cell_type": "markdown",
   "metadata": {},
   "source": [
    "1992-2010"
   ]
  },
  {
   "cell_type": "code",
   "execution_count": 17,
   "metadata": {},
   "outputs": [
    {
     "name": "stderr",
     "output_type": "stream",
     "text": [
      "C:\\Users\\Clementg20\\Anaconda3\\lib\\site-packages\\pandas\\core\\indexing.py:979: FutureWarning:\n",
      "\n",
      "\n",
      "Passing list-likes to .loc or [] with any missing label will raise\n",
      "KeyError in the future, you can use .reindex() as an alternative.\n",
      "\n",
      "See the documentation here:\n",
      "https://pandas.pydata.org/pandas-docs/stable/indexing.html#deprecate-loc-reindex-listlike\n",
      "\n"
     ]
    }
   ],
   "source": [
    "# Delete the rows corresponding to the totals of the different age and sex categories\n",
    "df_pop_Suisse_1992 = df_Population_age_1992[(df_Population_age_1992.sexe != 'Sexe - Total')\\\n",
    "                                        & (df_Population_age_1992.age != 'Age - Total')]\n",
    "\n",
    "# Group by sex and age and compute the corresponding population\n",
    "df_pop_Suisse_1992 = df_pop_Suisse_1992.groupby(['age','sexe']).sum().transpose()\n",
    "\n",
    "# As before, we create the wanted age intervals\n",
    "for age in ages:\n",
    "    # For the different sexes\n",
    "    for s in df_Population_age_1992[df_Population_age_1992.sexe != 'Sexe - Total'].sexe.unique():\n",
    "        # Get the columns corresponding to the ages in the interval and the wanted sex\n",
    "        # to be able to sum them and get the total corresponding population\n",
    "        index_to = [(annee,s) for annee in age[1:]]\n",
    "        # Sum the population of each age in the interval considered and indexing the column\n",
    "        # by the index of each interval (the number stored at position 0)\n",
    "        df_pop_Suisse_1992[(str(age[0]),s)] = df_pop_Suisse_1992.loc[:,index_to].sum(axis=1)\n",
    "\n",
    "# Trick to redefine the age as unique column index\n",
    "df_pop_Suisse_1992 = df_pop_Suisse_1992.transpose().reset_index().set_index('age').transpose()\n",
    "\n",
    "# Keep only the columns interesting us, i.e. the different intervals\n",
    "toKeep = []\n",
    "for age in ages :\n",
    "    toKeep.append(str(age[0]))\n",
    "df_pop_Suisse_1992 = df_pop_Suisse_1992[toKeep]\n",
    "# Transpose the data to have it in the same form as df_pop_Suisse\n",
    "df_pop_Suisse_1992 = df_pop_Suisse_1992.transpose()"
   ]
  },
  {
   "cell_type": "markdown",
   "metadata": {},
   "source": [
    "Merge both datasets"
   ]
  },
  {
   "cell_type": "code",
   "execution_count": 18,
   "metadata": {},
   "outputs": [],
   "source": [
    "# From 1992 to 2010\n",
    "for year in range(1992,2010):\n",
    "    # For each sex\n",
    "    for sexe in np.unique([sexe[1] for sexe in df_pop_Suisse.columns.values]):\n",
    "        # Insert the population corresponding to the tuple\n",
    "        df_pop_Suisse[(str(year),sexe)] =\\\n",
    "                    df_pop_Suisse_1992.loc[df_pop_Suisse_1992.sexe==sexe][str(year)]"
   ]
  },
  {
   "cell_type": "markdown",
   "metadata": {},
   "source": [
    "##### Number of accidents normalized for each category"
   ]
  },
  {
   "cell_type": "code",
   "execution_count": 19,
   "metadata": {},
   "outputs": [],
   "source": [
    "df_Accident_objets_normalized = df_Accident_objets.copy()\n",
    "\n",
    "# Delet the accident for which the sex or age is unknown\n",
    "df_Accident_objets_normalized =\\\n",
    "            df_Accident_objets_normalized[(df_Accident_objets_normalized.sexe_index!=9)\\\n",
    "                                          &(df_Accident_objets_normalized.age_index != 999)]\n",
    "\n",
    "# Go through each year, sex and age category of the population and normalize the number\n",
    "# of accident by 10'000 people\n",
    "for year,sexe in df_pop_Suisse.columns.values:\n",
    "    for age in df_pop_Suisse.index.values:\n",
    "        # At each corresponding location, normalize by the corresponding population\n",
    "        df_Accident_objets_normalized.loc[(df_Accident_objets_normalized.age_index==age) &\\\n",
    "                                           (df_Accident_objets_normalized.sexe==sexe),year]\\\n",
    "        = df_Accident_objets_normalized[year]*10000 /\\\n",
    "                            df_pop_Suisse.loc[df_pop_Suisse.index==age,year][sexe].values[0]"
   ]
  },
  {
   "cell_type": "code",
   "execution_count": 20,
   "metadata": {},
   "outputs": [
    {
     "ename": "NameError",
     "evalue": "name 'plt' is not defined",
     "output_type": "error",
     "traceback": [
      "\u001b[1;31m---------------------------------------------------------------------------\u001b[0m",
      "\u001b[1;31mNameError\u001b[0m                                 Traceback (most recent call last)",
      "\u001b[1;32m<ipython-input-20-733a562fd7f2>\u001b[0m in \u001b[0;36m<module>\u001b[1;34m()\u001b[0m\n\u001b[0;32m      7\u001b[0m \u001b[1;33m\u001b[0m\u001b[0m\n\u001b[0;32m      8\u001b[0m \u001b[1;31m# Plot the top 5 categories with our homemade function\u001b[0m\u001b[1;33m\u001b[0m\u001b[1;33m\u001b[0m\u001b[0m\n\u001b[1;32m----> 9\u001b[1;33m \u001b[0mplot_dataframe\u001b[0m\u001b[1;33m(\u001b[0m\u001b[0mx\u001b[0m\u001b[1;33m=\u001b[0m\u001b[0mdf_conducteur\u001b[0m\u001b[1;33m.\u001b[0m\u001b[0mcolumns\u001b[0m\u001b[1;33m.\u001b[0m\u001b[0mvalues\u001b[0m\u001b[1;33m,\u001b[0m \u001b[0my\u001b[0m\u001b[1;33m=\u001b[0m\u001b[0mdf_conducteur\u001b[0m\u001b[1;33m.\u001b[0m\u001b[0mhead\u001b[0m\u001b[1;33m(\u001b[0m\u001b[1;36m5\u001b[0m\u001b[1;33m)\u001b[0m\u001b[1;33m,\u001b[0m               \u001b[0mtitle\u001b[0m\u001b[1;33m=\u001b[0m\u001b[1;34m'Yearly accident for the top 5 categories'\u001b[0m\u001b[1;33m,\u001b[0m \u001b[0mxlabel\u001b[0m\u001b[1;33m=\u001b[0m\u001b[1;34m'Year'\u001b[0m\u001b[1;33m,\u001b[0m               \u001b[0mylabel\u001b[0m\u001b[1;33m=\u001b[0m\u001b[1;34m\"Accidents per 10'000 people\"\u001b[0m\u001b[1;33m,\u001b[0m \u001b[0mlabels\u001b[0m\u001b[1;33m=\u001b[0m\u001b[0mdf_conducteur\u001b[0m\u001b[1;33m.\u001b[0m\u001b[0mindex\u001b[0m\u001b[1;33m.\u001b[0m\u001b[0mvalues\u001b[0m\u001b[1;33m,\u001b[0m               \u001b[0mrotation\u001b[0m\u001b[1;33m=\u001b[0m\u001b[1;36m45\u001b[0m\u001b[1;33m,\u001b[0m \u001b[0mnumber_to_plot\u001b[0m\u001b[1;33m=\u001b[0m\u001b[1;32mNone\u001b[0m\u001b[1;33m,\u001b[0m\u001b[0mname_save\u001b[0m\u001b[1;33m=\u001b[0m\u001b[1;34m'accident_sexe&age_top5'\u001b[0m\u001b[1;33m)\u001b[0m\u001b[1;33m\u001b[0m\u001b[0m\n\u001b[0m\u001b[0;32m     10\u001b[0m \u001b[1;33m\u001b[0m\u001b[0m\n\u001b[0;32m     11\u001b[0m \u001b[0mprint\u001b[0m\u001b[1;33m(\u001b[0m\u001b[1;34m\"Number of accident for different sexe and age for 1/10.000 inhabitants in Switzerland\\nfor the interesting categories:\"\u001b[0m\u001b[1;33m)\u001b[0m\u001b[1;33m\u001b[0m\u001b[0m\n",
      "\u001b[1;32m<ipython-input-10-16d013d40e57>\u001b[0m in \u001b[0;36mplot_dataframe\u001b[1;34m(x, y, title, xlabel, ylabel, labels, rotation, number_to_plot, bars, name_save)\u001b[0m\n\u001b[0;32m      6\u001b[0m             \u001b[1;32mpass\u001b[0m\u001b[1;33m\u001b[0m\u001b[0m\n\u001b[0;32m      7\u001b[0m     \u001b[1;32mif\u001b[0m \u001b[0mbars\u001b[0m \u001b[1;33m==\u001b[0m \u001b[1;32mNone\u001b[0m\u001b[1;33m:\u001b[0m\u001b[1;33m\u001b[0m\u001b[0m\n\u001b[1;32m----> 8\u001b[1;33m         \u001b[0mplt\u001b[0m\u001b[1;33m.\u001b[0m\u001b[0mfigure\u001b[0m\u001b[1;33m(\u001b[0m\u001b[0mfigsize\u001b[0m\u001b[1;33m=\u001b[0m\u001b[1;33m(\u001b[0m\u001b[1;36m12\u001b[0m\u001b[1;33m,\u001b[0m\u001b[1;36m7\u001b[0m\u001b[1;33m)\u001b[0m\u001b[1;33m)\u001b[0m\u001b[1;33m\u001b[0m\u001b[0m\n\u001b[0m\u001b[0;32m      9\u001b[0m         \u001b[1;32mfor\u001b[0m \u001b[0mj\u001b[0m \u001b[1;32min\u001b[0m \u001b[0mrange\u001b[0m\u001b[1;33m(\u001b[0m\u001b[0mnumber_to_plot\u001b[0m\u001b[1;33m)\u001b[0m\u001b[1;33m:\u001b[0m\u001b[1;33m\u001b[0m\u001b[0m\n\u001b[0;32m     10\u001b[0m             \u001b[0mplt\u001b[0m\u001b[1;33m.\u001b[0m\u001b[0mplot\u001b[0m\u001b[1;33m(\u001b[0m\u001b[0mx\u001b[0m\u001b[1;33m,\u001b[0m \u001b[0my\u001b[0m\u001b[1;33m.\u001b[0m\u001b[0miloc\u001b[0m\u001b[1;33m[\u001b[0m\u001b[0mj\u001b[0m\u001b[1;33m]\u001b[0m\u001b[1;33m,\u001b[0m \u001b[0mlabel\u001b[0m \u001b[1;33m=\u001b[0m \u001b[0mlabels\u001b[0m\u001b[1;33m[\u001b[0m\u001b[0mj\u001b[0m\u001b[1;33m]\u001b[0m\u001b[1;33m)\u001b[0m\u001b[1;33m\u001b[0m\u001b[0m\n",
      "\u001b[1;31mNameError\u001b[0m: name 'plt' is not defined"
     ]
    }
   ],
   "source": [
    "# We only consider the private vehicles accidents where there was a mistake from the driver\n",
    "df_conducteur = df_Accident_objets_normalized[(df_Accident_objets_normalized.faute_index==1)\\\n",
    "                                        & (df_Accident_objets_normalized.voiture_index==210)]\n",
    "\n",
    "# Group by sex and age as wanted, sum the number of accidents and sort them to see which \n",
    "# category had the biggest impact in 2017, and keep the columns interesting us, i.e. the years\n",
    "df_conducteur = df_conducteur.groupby(['sexe','age']).sum().\\\n",
    "        sort_values(['2017'], ascending=False)\\\n",
    "        [[col for col in df_conducteur.columns if IS_DATE.match(col)]]\n",
    "\n",
    "# Plot the top 5 categories with our homemade function\n",
    "plot_dataframe(x=df_conducteur.columns.values, y=df_conducteur.head(5),\\\n",
    "               title='Yearly accident for the top 5 categories', xlabel='Year',\\\n",
    "               ylabel=\"Accidents per 10'000 people\", labels=df_conducteur.index.values,\\\n",
    "               rotation=45, number_to_plot=None,name_save='accident_sexe&age_top5')\n",
    "\n",
    "print(\"Number of accident for different sexe and age for 1/10.000 inhabitants in Switzerland\\n\\\n",
    "for the interesting categories:\")\n",
    "df_display = df_conducteur.loc[[('Homme', '20 ans'), ('Homme', '18-19 ans'),\n",
    "       ('Homme', '21-29 ans'), ('Femme', '20 ans'),\n",
    "       ('Homme', '30-39 ans'), ('Femme', '21-29 ans'),\n",
    "       ('Homme', '70 ans et plus'),\n",
    "       ('Homme', '15-17 ans'), ('Homme', '10-14 ans'),\n",
    "       ('Homme', '6-9 ans'), ('Femme', '10-14 ans'),\n",
    "       ('Femme', '15-17 ans')],['1992', '2017']]\n",
    "\n",
    "display(df_display)\n",
    "save_it(df_display,'accident_sexe&age')"
   ]
  },
  {
   "cell_type": "code",
   "execution_count": 21,
   "metadata": {},
   "outputs": [
    {
     "data": {
      "text/plain": [
       "'file://C:\\\\Users\\\\Clementg20\\\\OneDrive\\\\INSA _ Mes Cours\\\\EPFL\\\\Applied Data Analysis\\\\Git\\\\project-pizzafels\\\\Working Notebooks\\\\test_output\\\\test.html'"
      ]
     },
     "execution_count": 21,
     "metadata": {},
     "output_type": "execute_result"
    }
   ],
   "source": [
    "plot([go.Scatter(x=[1, 2, 3], y=[3, 1, 6])],filename='test_output/test.html')"
   ]
  },
  {
   "cell_type": "code",
   "execution_count": 50,
   "metadata": {},
   "outputs": [
    {
     "data": {
      "application/vnd.plotly.v1+json": {
       "config": {
        "linkText": "Export to plot.ly",
        "plotlyServerURL": "https://plot.ly",
        "showLink": true
       },
       "data": [
        {
         "colorscale": [
          [
           0,
           "#00083e"
          ],
          [
           0.5,
           "#ededee"
          ],
          [
           1,
           "#ffffff"
          ]
         ],
         "hoverinfo": "none",
         "opacity": 0.75,
         "showscale": false,
         "type": "heatmap",
         "uid": "50ba73e2-264a-44a7-b120-274dca72b90d",
         "z": [
          [
           0,
           0,
           0,
           0
          ],
          [
           0.5,
           0.5,
           0.5,
           0.5
          ],
          [
           1,
           1,
           1,
           1
          ],
          [
           0.5,
           0.5,
           0.5,
           0.5
          ],
          [
           1,
           1,
           1,
           1
          ],
          [
           0.5,
           0.5,
           0.5,
           0.5
          ],
          [
           1,
           1,
           1,
           1
          ],
          [
           0.5,
           0.5,
           0.5,
           0.5
          ],
          [
           1,
           1,
           1,
           1
          ],
          [
           0.5,
           0.5,
           0.5,
           0.5
          ],
          [
           1,
           1,
           1,
           1
          ],
          [
           0.5,
           0.5,
           0.5,
           0.5
          ],
          [
           1,
           1,
           1,
           1
          ]
         ]
        }
       ],
       "layout": {
        "annotations": [
         {
          "align": "left",
          "font": {
           "color": "#ffffff"
          },
          "showarrow": false,
          "text": "<b>sexe</b>",
          "x": -0.45,
          "xanchor": "left",
          "xref": "x",
          "y": 0,
          "yref": "y"
         },
         {
          "align": "left",
          "font": {
           "color": "#ffffff"
          },
          "showarrow": false,
          "text": "<b>age</b>",
          "x": 0.55,
          "xanchor": "left",
          "xref": "x",
          "y": 0,
          "yref": "y"
         },
         {
          "align": "left",
          "font": {
           "color": "#ffffff"
          },
          "showarrow": false,
          "text": "<b>1992</b>",
          "x": 1.55,
          "xanchor": "left",
          "xref": "x",
          "y": 0,
          "yref": "y"
         },
         {
          "align": "left",
          "font": {
           "color": "#ffffff"
          },
          "showarrow": false,
          "text": "<b>2017</b>",
          "x": 2.55,
          "xanchor": "left",
          "xref": "x",
          "y": 0,
          "yref": "y"
         },
         {
          "align": "left",
          "font": {
           "color": "#000000"
          },
          "showarrow": false,
          "text": "Homme",
          "x": -0.45,
          "xanchor": "left",
          "xref": "x",
          "y": 1,
          "yref": "y"
         },
         {
          "align": "left",
          "font": {
           "color": "#000000"
          },
          "showarrow": false,
          "text": "20 ans",
          "x": 0.55,
          "xanchor": "left",
          "xref": "x",
          "y": 1,
          "yref": "y"
         },
         {
          "align": "left",
          "font": {
           "color": "#000000"
          },
          "showarrow": false,
          "text": "127.97152421712784",
          "x": 1.55,
          "xanchor": "left",
          "xref": "x",
          "y": 1,
          "yref": "y"
         },
         {
          "align": "left",
          "font": {
           "color": "#000000"
          },
          "showarrow": false,
          "text": "39.736441966548405",
          "x": 2.55,
          "xanchor": "left",
          "xref": "x",
          "y": 1,
          "yref": "y"
         },
         {
          "align": "left",
          "font": {
           "color": "#000000"
          },
          "showarrow": false,
          "text": "Homme",
          "x": -0.45,
          "xanchor": "left",
          "xref": "x",
          "y": 2,
          "yref": "y"
         },
         {
          "align": "left",
          "font": {
           "color": "#000000"
          },
          "showarrow": false,
          "text": "18-19 ans",
          "x": 0.55,
          "xanchor": "left",
          "xref": "x",
          "y": 2,
          "yref": "y"
         },
         {
          "align": "left",
          "font": {
           "color": "#000000"
          },
          "showarrow": false,
          "text": "91.26244487884712",
          "x": 1.55,
          "xanchor": "left",
          "xref": "x",
          "y": 2,
          "yref": "y"
         },
         {
          "align": "left",
          "font": {
           "color": "#000000"
          },
          "showarrow": false,
          "text": "35.44556346772223",
          "x": 2.55,
          "xanchor": "left",
          "xref": "x",
          "y": 2,
          "yref": "y"
         },
         {
          "align": "left",
          "font": {
           "color": "#000000"
          },
          "showarrow": false,
          "text": "Homme",
          "x": -0.45,
          "xanchor": "left",
          "xref": "x",
          "y": 3,
          "yref": "y"
         },
         {
          "align": "left",
          "font": {
           "color": "#000000"
          },
          "showarrow": false,
          "text": "21-29 ans",
          "x": 0.55,
          "xanchor": "left",
          "xref": "x",
          "y": 3,
          "yref": "y"
         },
         {
          "align": "left",
          "font": {
           "color": "#000000"
          },
          "showarrow": false,
          "text": "79.56253162992124",
          "x": 1.55,
          "xanchor": "left",
          "xref": "x",
          "y": 3,
          "yref": "y"
         },
         {
          "align": "left",
          "font": {
           "color": "#000000"
          },
          "showarrow": false,
          "text": "28.468725832162754",
          "x": 2.55,
          "xanchor": "left",
          "xref": "x",
          "y": 3,
          "yref": "y"
         },
         {
          "align": "left",
          "font": {
           "color": "#000000"
          },
          "showarrow": false,
          "text": "Femme",
          "x": -0.45,
          "xanchor": "left",
          "xref": "x",
          "y": 4,
          "yref": "y"
         },
         {
          "align": "left",
          "font": {
           "color": "#000000"
          },
          "showarrow": false,
          "text": "20 ans",
          "x": 0.55,
          "xanchor": "left",
          "xref": "x",
          "y": 4,
          "yref": "y"
         },
         {
          "align": "left",
          "font": {
           "color": "#000000"
          },
          "showarrow": false,
          "text": "41.20429919989535",
          "x": 1.55,
          "xanchor": "left",
          "xref": "x",
          "y": 4,
          "yref": "y"
         },
         {
          "align": "left",
          "font": {
           "color": "#000000"
          },
          "showarrow": false,
          "text": "25.532472067039105",
          "x": 2.55,
          "xanchor": "left",
          "xref": "x",
          "y": 4,
          "yref": "y"
         },
         {
          "align": "left",
          "font": {
           "color": "#000000"
          },
          "showarrow": false,
          "text": "Homme",
          "x": -0.45,
          "xanchor": "left",
          "xref": "x",
          "y": 5,
          "yref": "y"
         },
         {
          "align": "left",
          "font": {
           "color": "#000000"
          },
          "showarrow": false,
          "text": "30-39 ans",
          "x": 0.55,
          "xanchor": "left",
          "xref": "x",
          "y": 5,
          "yref": "y"
         },
         {
          "align": "left",
          "font": {
           "color": "#000000"
          },
          "showarrow": false,
          "text": "43.85257964595568",
          "x": 1.55,
          "xanchor": "left",
          "xref": "x",
          "y": 5,
          "yref": "y"
         },
         {
          "align": "left",
          "font": {
           "color": "#000000"
          },
          "showarrow": false,
          "text": "21.087092114235485",
          "x": 2.55,
          "xanchor": "left",
          "xref": "x",
          "y": 5,
          "yref": "y"
         },
         {
          "align": "left",
          "font": {
           "color": "#000000"
          },
          "showarrow": false,
          "text": "Femme",
          "x": -0.45,
          "xanchor": "left",
          "xref": "x",
          "y": 6,
          "yref": "y"
         },
         {
          "align": "left",
          "font": {
           "color": "#000000"
          },
          "showarrow": false,
          "text": "21-29 ans",
          "x": 0.55,
          "xanchor": "left",
          "xref": "x",
          "y": 6,
          "yref": "y"
         },
         {
          "align": "left",
          "font": {
           "color": "#000000"
          },
          "showarrow": false,
          "text": "30.755825920826226",
          "x": 1.55,
          "xanchor": "left",
          "xref": "x",
          "y": 6,
          "yref": "y"
         },
         {
          "align": "left",
          "font": {
           "color": "#000000"
          },
          "showarrow": false,
          "text": "19.82176857879564",
          "x": 2.55,
          "xanchor": "left",
          "xref": "x",
          "y": 6,
          "yref": "y"
         },
         {
          "align": "left",
          "font": {
           "color": "#000000"
          },
          "showarrow": false,
          "text": "Homme",
          "x": -0.45,
          "xanchor": "left",
          "xref": "x",
          "y": 7,
          "yref": "y"
         },
         {
          "align": "left",
          "font": {
           "color": "#000000"
          },
          "showarrow": false,
          "text": "70 ans et plus",
          "x": 0.55,
          "xanchor": "left",
          "xref": "x",
          "y": 7,
          "yref": "y"
         },
         {
          "align": "left",
          "font": {
           "color": "#000000"
          },
          "showarrow": false,
          "text": "27.131433381433386",
          "x": 1.55,
          "xanchor": "left",
          "xref": "x",
          "y": 7,
          "yref": "y"
         },
         {
          "align": "left",
          "font": {
           "color": "#000000"
          },
          "showarrow": false,
          "text": "19.782824854535",
          "x": 2.55,
          "xanchor": "left",
          "xref": "x",
          "y": 7,
          "yref": "y"
         },
         {
          "align": "left",
          "font": {
           "color": "#000000"
          },
          "showarrow": false,
          "text": "Homme",
          "x": -0.45,
          "xanchor": "left",
          "xref": "x",
          "y": 8,
          "yref": "y"
         },
         {
          "align": "left",
          "font": {
           "color": "#000000"
          },
          "showarrow": false,
          "text": "15-17 ans",
          "x": 0.55,
          "xanchor": "left",
          "xref": "x",
          "y": 8,
          "yref": "y"
         },
         {
          "align": "left",
          "font": {
           "color": "#000000"
          },
          "showarrow": false,
          "text": "4.312239296109862",
          "x": 1.55,
          "xanchor": "left",
          "xref": "x",
          "y": 8,
          "yref": "y"
         },
         {
          "align": "left",
          "font": {
           "color": "#000000"
          },
          "showarrow": false,
          "text": "0.5348696828222781",
          "x": 2.55,
          "xanchor": "left",
          "xref": "x",
          "y": 8,
          "yref": "y"
         },
         {
          "align": "left",
          "font": {
           "color": "#000000"
          },
          "showarrow": false,
          "text": "Homme",
          "x": -0.45,
          "xanchor": "left",
          "xref": "x",
          "y": 9,
          "yref": "y"
         },
         {
          "align": "left",
          "font": {
           "color": "#000000"
          },
          "showarrow": false,
          "text": "10-14 ans",
          "x": 0.55,
          "xanchor": "left",
          "xref": "x",
          "y": 9,
          "yref": "y"
         },
         {
          "align": "left",
          "font": {
           "color": "#000000"
          },
          "showarrow": false,
          "text": "2.4232755617708084",
          "x": 1.55,
          "xanchor": "left",
          "xref": "x",
          "y": 9,
          "yref": "y"
         },
         {
          "align": "left",
          "font": {
           "color": "#000000"
          },
          "showarrow": false,
          "text": "0.0475694394892945",
          "x": 2.55,
          "xanchor": "left",
          "xref": "x",
          "y": 9,
          "yref": "y"
         },
         {
          "align": "left",
          "font": {
           "color": "#000000"
          },
          "showarrow": false,
          "text": "Homme",
          "x": -0.45,
          "xanchor": "left",
          "xref": "x",
          "y": 10,
          "yref": "y"
         },
         {
          "align": "left",
          "font": {
           "color": "#000000"
          },
          "showarrow": false,
          "text": "6-9 ans",
          "x": 0.55,
          "xanchor": "left",
          "xref": "x",
          "y": 10,
          "yref": "y"
         },
         {
          "align": "left",
          "font": {
           "color": "#000000"
          },
          "showarrow": false,
          "text": "0.06228162505216086",
          "x": 1.55,
          "xanchor": "left",
          "xref": "x",
          "y": 10,
          "yref": "y"
         },
         {
          "align": "left",
          "font": {
           "color": "#000000"
          },
          "showarrow": false,
          "text": "0.0",
          "x": 2.55,
          "xanchor": "left",
          "xref": "x",
          "y": 10,
          "yref": "y"
         },
         {
          "align": "left",
          "font": {
           "color": "#000000"
          },
          "showarrow": false,
          "text": "Femme",
          "x": -0.45,
          "xanchor": "left",
          "xref": "x",
          "y": 11,
          "yref": "y"
         },
         {
          "align": "left",
          "font": {
           "color": "#000000"
          },
          "showarrow": false,
          "text": "10-14 ans",
          "x": 0.55,
          "xanchor": "left",
          "xref": "x",
          "y": 11,
          "yref": "y"
         },
         {
          "align": "left",
          "font": {
           "color": "#000000"
          },
          "showarrow": false,
          "text": "0.7462328566326775",
          "x": 1.55,
          "xanchor": "left",
          "xref": "x",
          "y": 11,
          "yref": "y"
         },
         {
          "align": "left",
          "font": {
           "color": "#000000"
          },
          "showarrow": false,
          "text": "0.0",
          "x": 2.55,
          "xanchor": "left",
          "xref": "x",
          "y": 11,
          "yref": "y"
         },
         {
          "align": "left",
          "font": {
           "color": "#000000"
          },
          "showarrow": false,
          "text": "Femme",
          "x": -0.45,
          "xanchor": "left",
          "xref": "x",
          "y": 12,
          "yref": "y"
         },
         {
          "align": "left",
          "font": {
           "color": "#000000"
          },
          "showarrow": false,
          "text": "15-17 ans",
          "x": 0.55,
          "xanchor": "left",
          "xref": "x",
          "y": 12,
          "yref": "y"
         },
         {
          "align": "left",
          "font": {
           "color": "#000000"
          },
          "showarrow": false,
          "text": "1.575919943266882",
          "x": 1.55,
          "xanchor": "left",
          "xref": "x",
          "y": 12,
          "yref": "y"
         },
         {
          "align": "left",
          "font": {
           "color": "#000000"
          },
          "showarrow": false,
          "text": "0.0",
          "x": 2.55,
          "xanchor": "left",
          "xref": "x",
          "y": 12,
          "yref": "y"
         }
        ],
        "height": 440,
        "margin": {
         "b": 0,
         "l": 0,
         "r": 0,
         "t": 0
        },
        "xaxis": {
         "dtick": 1,
         "gridwidth": 2,
         "showticklabels": false,
         "tick0": -0.5,
         "ticks": "",
         "zeroline": false
        },
        "yaxis": {
         "autorange": "reversed",
         "dtick": 1,
         "gridwidth": 2,
         "showticklabels": false,
         "tick0": 0.5,
         "ticks": "",
         "zeroline": false
        }
       }
      }
     },
     "metadata": {},
     "output_type": "display_data"
    }
   ],
   "source": [
    "plotly.offline.iplot(sample_data_table, filename='./sample-data-table.html')"
   ]
  },
  {
   "cell_type": "code",
   "execution_count": 45,
   "metadata": {},
   "outputs": [],
   "source": [
    "def plot_dataframe_2(x, y=None, title=None, xlabel=None, ylabel=None, labels=None,\\\n",
    "                   rotation=0, number_to_plot=None, bars=None,name_save=None):\n",
    "    if number_to_plot == None:\n",
    "        try:\n",
    "            number_to_plot = y.shape[0]\n",
    "        except:\n",
    "            pass\n",
    "    traces = []\n",
    "    if bars == None:\n",
    "        for j in range(number_to_plot):\n",
    "            traces.append(go.Scatter(x=x, y=y.iloc[j].values,name=str(labels[j])))\n",
    "        \n",
    "    else:\n",
    "        traces.append(go.Bar(y=x.index.values, x=[d[0] for d in x[::-1].values],orientation = 'h'))\n",
    "    \n",
    "    layout = go.Layout(\n",
    "        title='<b>'+title+'</b>',\n",
    "        titlefont=dict(\n",
    "                family='Courier New, monospace',\n",
    "                size=18,\n",
    "                color='#7f7f7f',\n",
    "                \n",
    "            ),\n",
    "        xaxis=dict(\n",
    "            title=xlabel,\n",
    "            titlefont=dict(\n",
    "                family='Courier New, monospace',\n",
    "                size=15,\n",
    "                color='#7f7f7f'\n",
    "            )\n",
    "        ),\n",
    "        yaxis=dict(\n",
    "            title=ylabel,\n",
    "            titlefont=dict(\n",
    "                family='Courier New, monospace',\n",
    "                size=15,\n",
    "                color='#7f7f7f'\n",
    "            )\n",
    "        )\n",
    "    )\n",
    "    \n",
    "    fig = go.Figure(data=traces,layout=layout)\n",
    "    iplot(fig,filename='test_output/test.html')\n",
    "    if name_save!=None:\n",
    "        plot(fig,filename=PLOTLY_FOLDER+name_save+'.html',auto_open=False)\n",
    "    \n",
    "#     plt.title(title, fontsize=18)\n",
    "#     plt.legend(fontsize=10, loc=0, bbox_to_anchor=(1,1))\n",
    "#     plt.xticks(rotation=rotation, fontsize=12)\n",
    "#     plt.yticks(fontsize=12)\n",
    "#     plt.xlabel(xlabel, fontsize=15)\n",
    "#     plt.ylabel(ylabel, fontsize=15)\n",
    "#     if (name_save!=None):\n",
    "#         plt.savefig(PLOT_FOLDER+name_save+'.png')\n",
    "#     plt.show()"
   ]
  },
  {
   "cell_type": "code",
   "execution_count": 43,
   "metadata": {},
   "outputs": [
    {
     "ename": "NameError",
     "evalue": "name 'df_day' is not defined",
     "output_type": "error",
     "traceback": [
      "\u001b[1;31m---------------------------------------------------------------------------\u001b[0m",
      "\u001b[1;31mNameError\u001b[0m                                 Traceback (most recent call last)",
      "\u001b[1;32m<ipython-input-43-c9107c17d163>\u001b[0m in \u001b[0;36m<module>\u001b[1;34m()\u001b[0m\n\u001b[1;32m----> 1\u001b[1;33m \u001b[0mplot_dataframe_2\u001b[0m\u001b[1;33m(\u001b[0m\u001b[0mx\u001b[0m\u001b[1;33m=\u001b[0m\u001b[0mdf_day\u001b[0m\u001b[1;33m[\u001b[0m\u001b[1;33m:\u001b[0m\u001b[1;33m:\u001b[0m\u001b[1;33m-\u001b[0m\u001b[1;36m1\u001b[0m\u001b[1;33m]\u001b[0m\u001b[1;33m,\u001b[0m \u001b[0mtitle\u001b[0m\u001b[1;33m=\u001b[0m\u001b[1;34m\"Number of accidents per weekday\"\u001b[0m\u001b[1;33m,\u001b[0m               \u001b[0mxlabel\u001b[0m\u001b[1;33m=\u001b[0m\u001b[1;34m'Number of accidents'\u001b[0m\u001b[1;33m,\u001b[0m \u001b[0mylabel\u001b[0m\u001b[1;33m=\u001b[0m\u001b[1;34m'Weekday'\u001b[0m\u001b[1;33m,\u001b[0m \u001b[0mbars\u001b[0m\u001b[1;33m=\u001b[0m\u001b[1;34m'barh'\u001b[0m\u001b[1;33m,\u001b[0m\u001b[0mname_save\u001b[0m\u001b[1;33m=\u001b[0m\u001b[1;34m'accident_weekday'\u001b[0m\u001b[1;33m)\u001b[0m\u001b[1;33m\u001b[0m\u001b[0m\n\u001b[0m",
      "\u001b[1;31mNameError\u001b[0m: name 'df_day' is not defined"
     ]
    }
   ],
   "source": [
    "plot_dataframe_2(x=df_day[::-1], title=\"Number of accidents per weekday\",\\\n",
    "               xlabel='Number of accidents', ylabel='Weekday', bars='barh',name_save='accident_weekday')"
   ]
  },
  {
   "cell_type": "code",
   "execution_count": 46,
   "metadata": {},
   "outputs": [
    {
     "data": {
      "application/vnd.plotly.v1+json": {
       "config": {
        "linkText": "Export to plot.ly",
        "plotlyServerURL": "https://plot.ly",
        "showLink": true
       },
       "data": [
        {
         "name": "('Homme', '20 ans')",
         "type": "scatter",
         "uid": "6e97cc7e-b167-4671-957c-fa8e7b8c1d68",
         "x": [
          "1992",
          "1993",
          "1994",
          "1995",
          "1996",
          "1997",
          "1998",
          "1999",
          "2000",
          "2001",
          "2002",
          "2003",
          "2004",
          "2005",
          "2006",
          "2007",
          "2008",
          "2009",
          "2010",
          "2011",
          "2012",
          "2013",
          "2014",
          "2015",
          "2016",
          "2017"
         ],
         "y": [
          127.97152421712784,
          117.85294964666271,
          125.85969738651997,
          115.4262071559547,
          92.97720247295207,
          111.42669871094607,
          117.7921826625387,
          130.88376560999038,
          118.05961426066627,
          131.88269982400402,
          123.93983942101094,
          123.01094684572848,
          113.14438741352379,
          89.19062832800851,
          87.9213358727909,
          90.96276211925743,
          76.84632857112533,
          68.90397027997426,
          60.46167090432242,
          61.10262463546731,
          55.48237735999682,
          45.5995419597579,
          47.26826273787599,
          40.24592484730818,
          43.55418180358468,
          39.736441966548405
         ]
        },
        {
         "name": "('Homme', '18-19 ans')",
         "type": "scatter",
         "uid": "fd0741b3-fe43-4ad4-98a3-8fce4339838c",
         "x": [
          "1992",
          "1993",
          "1994",
          "1995",
          "1996",
          "1997",
          "1998",
          "1999",
          "2000",
          "2001",
          "2002",
          "2003",
          "2004",
          "2005",
          "2006",
          "2007",
          "2008",
          "2009",
          "2010",
          "2011",
          "2012",
          "2013",
          "2014",
          "2015",
          "2016",
          "2017"
         ],
         "y": [
          91.26244487884712,
          85.54821169080765,
          79.80097828307717,
          79.26361544362057,
          84.05613487964138,
          78.97298612801168,
          86.30755341558829,
          87.90588898943483,
          97.5750911511083,
          99.3093538518587,
          89.94107309004445,
          91.68356073893534,
          88.27595585069011,
          76.58038684937686,
          73.98287412928701,
          79.97919240522792,
          68.300947741833,
          65.1153083585516,
          55.68659624653883,
          59.96238062082368,
          49.94667426954309,
          47.05107643941245,
          43.54014021401086,
          37.90539144804792,
          37.81604525424259,
          35.44556346772223
         ]
        },
        {
         "name": "('Homme', '21-29 ans')",
         "type": "scatter",
         "uid": "1851a115-dd16-447d-ae6b-d9c736180d1e",
         "x": [
          "1992",
          "1993",
          "1994",
          "1995",
          "1996",
          "1997",
          "1998",
          "1999",
          "2000",
          "2001",
          "2002",
          "2003",
          "2004",
          "2005",
          "2006",
          "2007",
          "2008",
          "2009",
          "2010",
          "2011",
          "2012",
          "2013",
          "2014",
          "2015",
          "2016",
          "2017"
         ],
         "y": [
          79.56253162992124,
          75.56845017205316,
          75.1042035049991,
          74.62260862216495,
          67.3040993515771,
          67.51663860155564,
          73.53618798042503,
          76.9993893151882,
          74.37763777601076,
          72.57855476512772,
          71.15534309769295,
          68.91139962904836,
          63.9183136768102,
          58.51152896450396,
          55.88570337014786,
          54.139600694603956,
          50.19148456859652,
          48.99651162533484,
          42.968643196210856,
          39.242457152904926,
          35.12225403191224,
          33.92148044473037,
          31.927447421544134,
          29.64489162379155,
          30.09258346898315,
          28.468725832162754
         ]
        },
        {
         "name": "('Femme', '20 ans')",
         "type": "scatter",
         "uid": "45f56a54-ce72-4ad3-8289-0d0806342ebc",
         "x": [
          "1992",
          "1993",
          "1994",
          "1995",
          "1996",
          "1997",
          "1998",
          "1999",
          "2000",
          "2001",
          "2002",
          "2003",
          "2004",
          "2005",
          "2006",
          "2007",
          "2008",
          "2009",
          "2010",
          "2011",
          "2012",
          "2013",
          "2014",
          "2015",
          "2016",
          "2017"
         ],
         "y": [
          41.20429919989535,
          47.217153284671525,
          39.88294709019681,
          42.637724695963946,
          36.786490223187826,
          33.91098366787184,
          38.310313539671334,
          41.47097032077546,
          47.580899667419224,
          48.58050144556615,
          46.431321309409924,
          43.859649122807014,
          37.71827706635623,
          39.1470547598213,
          44.90642594998746,
          45.59304818869203,
          33.49788434414669,
          37.03544205675897,
          32.691987339663505,
          24.248202109800836,
          27.28738578575268,
          26.002259212685697,
          31.368167755242357,
          26.29497402569639,
          25.347732549470685,
          25.532472067039105
         ]
        },
        {
         "name": "('Homme', '30-39 ans')",
         "type": "scatter",
         "uid": "4518e62f-4f5f-4a6e-9b28-2c1a8debeb80",
         "x": [
          "1992",
          "1993",
          "1994",
          "1995",
          "1996",
          "1997",
          "1998",
          "1999",
          "2000",
          "2001",
          "2002",
          "2003",
          "2004",
          "2005",
          "2006",
          "2007",
          "2008",
          "2009",
          "2010",
          "2011",
          "2012",
          "2013",
          "2014",
          "2015",
          "2016",
          "2017"
         ],
         "y": [
          43.85257964595568,
          41.86802701874158,
          41.974275572591196,
          41.39282889139855,
          39.75456733614804,
          40.106225520137905,
          39.88331657794552,
          44.419720969541714,
          41.375974770262296,
          42.328751669688586,
          39.88892191525945,
          39.29849452456446,
          35.808270359197486,
          33.40642065199404,
          30.303242744923462,
          31.123444493564925,
          28.826622590790468,
          28.567288755006434,
          27.008355989053847,
          24.289025279297313,
          23.592174014482637,
          23.07079668753372,
          22.080219186566072,
          19.29266829009428,
          20.161949140911442,
          21.087092114235485
         ]
        }
       ],
       "layout": {
        "title": "<b>Yearly accident for the top 5 categories</b>",
        "titlefont": {
         "color": "#7f7f7f",
         "family": "Courier New, monospace",
         "size": 18
        },
        "xaxis": {
         "title": "Year",
         "titlefont": {
          "color": "#7f7f7f",
          "family": "Courier New, monospace",
          "size": 15
         }
        },
        "yaxis": {
         "title": "Accidents per 10'000 people",
         "titlefont": {
          "color": "#7f7f7f",
          "family": "Courier New, monospace",
          "size": 15
         }
        }
       }
      },
      "text/html": [
       "<div id=\"33adff64-b0a2-45ee-a6a0-dbc41f4f518e\" style=\"height: 525px; width: 100%;\" class=\"plotly-graph-div\"></div><script type=\"text/javascript\">require([\"plotly\"], function(Plotly) { window.PLOTLYENV=window.PLOTLYENV || {};window.PLOTLYENV.BASE_URL=\"https://plot.ly\";Plotly.newPlot(\"33adff64-b0a2-45ee-a6a0-dbc41f4f518e\", [{\"name\": \"('Homme', '20 ans')\", \"x\": [\"1992\", \"1993\", \"1994\", \"1995\", \"1996\", \"1997\", \"1998\", \"1999\", \"2000\", \"2001\", \"2002\", \"2003\", \"2004\", \"2005\", \"2006\", \"2007\", \"2008\", \"2009\", \"2010\", \"2011\", \"2012\", \"2013\", \"2014\", \"2015\", \"2016\", \"2017\"], \"y\": [127.97152421712784, 117.85294964666271, 125.85969738651997, 115.4262071559547, 92.97720247295207, 111.42669871094607, 117.7921826625387, 130.88376560999038, 118.05961426066627, 131.88269982400402, 123.93983942101094, 123.01094684572848, 113.14438741352379, 89.19062832800851, 87.9213358727909, 90.96276211925743, 76.84632857112533, 68.90397027997426, 60.46167090432242, 61.10262463546731, 55.48237735999682, 45.5995419597579, 47.26826273787599, 40.24592484730818, 43.55418180358468, 39.736441966548405], \"type\": \"scatter\", \"uid\": \"6e97cc7e-b167-4671-957c-fa8e7b8c1d68\"}, {\"name\": \"('Homme', '18-19 ans')\", \"x\": [\"1992\", \"1993\", \"1994\", \"1995\", \"1996\", \"1997\", \"1998\", \"1999\", \"2000\", \"2001\", \"2002\", \"2003\", \"2004\", \"2005\", \"2006\", \"2007\", \"2008\", \"2009\", \"2010\", \"2011\", \"2012\", \"2013\", \"2014\", \"2015\", \"2016\", \"2017\"], \"y\": [91.26244487884712, 85.54821169080765, 79.80097828307717, 79.26361544362057, 84.05613487964138, 78.97298612801168, 86.30755341558829, 87.90588898943483, 97.5750911511083, 99.3093538518587, 89.94107309004445, 91.68356073893534, 88.27595585069011, 76.58038684937686, 73.98287412928701, 79.97919240522792, 68.300947741833, 65.1153083585516, 55.68659624653883, 59.96238062082368, 49.94667426954309, 47.05107643941245, 43.54014021401086, 37.90539144804792, 37.81604525424259, 35.44556346772223], \"type\": \"scatter\", \"uid\": \"fd0741b3-fe43-4ad4-98a3-8fce4339838c\"}, {\"name\": \"('Homme', '21-29 ans')\", \"x\": [\"1992\", \"1993\", \"1994\", \"1995\", \"1996\", \"1997\", \"1998\", \"1999\", \"2000\", \"2001\", \"2002\", \"2003\", \"2004\", \"2005\", \"2006\", \"2007\", \"2008\", \"2009\", \"2010\", \"2011\", \"2012\", \"2013\", \"2014\", \"2015\", \"2016\", \"2017\"], \"y\": [79.56253162992124, 75.56845017205316, 75.1042035049991, 74.62260862216495, 67.3040993515771, 67.51663860155564, 73.53618798042503, 76.9993893151882, 74.37763777601076, 72.57855476512772, 71.15534309769295, 68.91139962904836, 63.9183136768102, 58.51152896450396, 55.88570337014786, 54.139600694603956, 50.19148456859652, 48.99651162533484, 42.968643196210856, 39.242457152904926, 35.12225403191224, 33.92148044473037, 31.927447421544134, 29.64489162379155, 30.09258346898315, 28.468725832162754], \"type\": \"scatter\", \"uid\": \"1851a115-dd16-447d-ae6b-d9c736180d1e\"}, {\"name\": \"('Femme', '20 ans')\", \"x\": [\"1992\", \"1993\", \"1994\", \"1995\", \"1996\", \"1997\", \"1998\", \"1999\", \"2000\", \"2001\", \"2002\", \"2003\", \"2004\", \"2005\", \"2006\", \"2007\", \"2008\", \"2009\", \"2010\", \"2011\", \"2012\", \"2013\", \"2014\", \"2015\", \"2016\", \"2017\"], \"y\": [41.20429919989535, 47.217153284671525, 39.88294709019681, 42.637724695963946, 36.786490223187826, 33.91098366787184, 38.310313539671334, 41.47097032077546, 47.580899667419224, 48.58050144556615, 46.431321309409924, 43.859649122807014, 37.71827706635623, 39.1470547598213, 44.90642594998746, 45.59304818869203, 33.49788434414669, 37.03544205675897, 32.691987339663505, 24.248202109800836, 27.28738578575268, 26.002259212685697, 31.368167755242357, 26.29497402569639, 25.347732549470685, 25.532472067039105], \"type\": \"scatter\", \"uid\": \"45f56a54-ce72-4ad3-8289-0d0806342ebc\"}, {\"name\": \"('Homme', '30-39 ans')\", \"x\": [\"1992\", \"1993\", \"1994\", \"1995\", \"1996\", \"1997\", \"1998\", \"1999\", \"2000\", \"2001\", \"2002\", \"2003\", \"2004\", \"2005\", \"2006\", \"2007\", \"2008\", \"2009\", \"2010\", \"2011\", \"2012\", \"2013\", \"2014\", \"2015\", \"2016\", \"2017\"], \"y\": [43.85257964595568, 41.86802701874158, 41.974275572591196, 41.39282889139855, 39.75456733614804, 40.106225520137905, 39.88331657794552, 44.419720969541714, 41.375974770262296, 42.328751669688586, 39.88892191525945, 39.29849452456446, 35.808270359197486, 33.40642065199404, 30.303242744923462, 31.123444493564925, 28.826622590790468, 28.567288755006434, 27.008355989053847, 24.289025279297313, 23.592174014482637, 23.07079668753372, 22.080219186566072, 19.29266829009428, 20.161949140911442, 21.087092114235485], \"type\": \"scatter\", \"uid\": \"4518e62f-4f5f-4a6e-9b28-2c1a8debeb80\"}], {\"title\": \"<b>Yearly accident for the top 5 categories</b>\", \"titlefont\": {\"color\": \"#7f7f7f\", \"family\": \"Courier New, monospace\", \"size\": 18}, \"xaxis\": {\"title\": \"Year\", \"titlefont\": {\"color\": \"#7f7f7f\", \"family\": \"Courier New, monospace\", \"size\": 15}}, \"yaxis\": {\"title\": \"Accidents per 10'000 people\", \"titlefont\": {\"color\": \"#7f7f7f\", \"family\": \"Courier New, monospace\", \"size\": 15}}}, {\"showLink\": true, \"linkText\": \"Export to plot.ly\", \"plotlyServerURL\": \"https://plot.ly\"})});</script><script type=\"text/javascript\">window.addEventListener(\"resize\", function(){window._Plotly.Plots.resize(document.getElementById(\"33adff64-b0a2-45ee-a6a0-dbc41f4f518e\"));});</script>"
      ],
      "text/vnd.plotly.v1+html": [
       "<div id=\"33adff64-b0a2-45ee-a6a0-dbc41f4f518e\" style=\"height: 525px; width: 100%;\" class=\"plotly-graph-div\"></div><script type=\"text/javascript\">require([\"plotly\"], function(Plotly) { window.PLOTLYENV=window.PLOTLYENV || {};window.PLOTLYENV.BASE_URL=\"https://plot.ly\";Plotly.newPlot(\"33adff64-b0a2-45ee-a6a0-dbc41f4f518e\", [{\"name\": \"('Homme', '20 ans')\", \"x\": [\"1992\", \"1993\", \"1994\", \"1995\", \"1996\", \"1997\", \"1998\", \"1999\", \"2000\", \"2001\", \"2002\", \"2003\", \"2004\", \"2005\", \"2006\", \"2007\", \"2008\", \"2009\", \"2010\", \"2011\", \"2012\", \"2013\", \"2014\", \"2015\", \"2016\", \"2017\"], \"y\": [127.97152421712784, 117.85294964666271, 125.85969738651997, 115.4262071559547, 92.97720247295207, 111.42669871094607, 117.7921826625387, 130.88376560999038, 118.05961426066627, 131.88269982400402, 123.93983942101094, 123.01094684572848, 113.14438741352379, 89.19062832800851, 87.9213358727909, 90.96276211925743, 76.84632857112533, 68.90397027997426, 60.46167090432242, 61.10262463546731, 55.48237735999682, 45.5995419597579, 47.26826273787599, 40.24592484730818, 43.55418180358468, 39.736441966548405], \"type\": \"scatter\", \"uid\": \"6e97cc7e-b167-4671-957c-fa8e7b8c1d68\"}, {\"name\": \"('Homme', '18-19 ans')\", \"x\": [\"1992\", \"1993\", \"1994\", \"1995\", \"1996\", \"1997\", \"1998\", \"1999\", \"2000\", \"2001\", \"2002\", \"2003\", \"2004\", \"2005\", \"2006\", \"2007\", \"2008\", \"2009\", \"2010\", \"2011\", \"2012\", \"2013\", \"2014\", \"2015\", \"2016\", \"2017\"], \"y\": [91.26244487884712, 85.54821169080765, 79.80097828307717, 79.26361544362057, 84.05613487964138, 78.97298612801168, 86.30755341558829, 87.90588898943483, 97.5750911511083, 99.3093538518587, 89.94107309004445, 91.68356073893534, 88.27595585069011, 76.58038684937686, 73.98287412928701, 79.97919240522792, 68.300947741833, 65.1153083585516, 55.68659624653883, 59.96238062082368, 49.94667426954309, 47.05107643941245, 43.54014021401086, 37.90539144804792, 37.81604525424259, 35.44556346772223], \"type\": \"scatter\", \"uid\": \"fd0741b3-fe43-4ad4-98a3-8fce4339838c\"}, {\"name\": \"('Homme', '21-29 ans')\", \"x\": [\"1992\", \"1993\", \"1994\", \"1995\", \"1996\", \"1997\", \"1998\", \"1999\", \"2000\", \"2001\", \"2002\", \"2003\", \"2004\", \"2005\", \"2006\", \"2007\", \"2008\", \"2009\", \"2010\", \"2011\", \"2012\", \"2013\", \"2014\", \"2015\", \"2016\", \"2017\"], \"y\": [79.56253162992124, 75.56845017205316, 75.1042035049991, 74.62260862216495, 67.3040993515771, 67.51663860155564, 73.53618798042503, 76.9993893151882, 74.37763777601076, 72.57855476512772, 71.15534309769295, 68.91139962904836, 63.9183136768102, 58.51152896450396, 55.88570337014786, 54.139600694603956, 50.19148456859652, 48.99651162533484, 42.968643196210856, 39.242457152904926, 35.12225403191224, 33.92148044473037, 31.927447421544134, 29.64489162379155, 30.09258346898315, 28.468725832162754], \"type\": \"scatter\", \"uid\": \"1851a115-dd16-447d-ae6b-d9c736180d1e\"}, {\"name\": \"('Femme', '20 ans')\", \"x\": [\"1992\", \"1993\", \"1994\", \"1995\", \"1996\", \"1997\", \"1998\", \"1999\", \"2000\", \"2001\", \"2002\", \"2003\", \"2004\", \"2005\", \"2006\", \"2007\", \"2008\", \"2009\", \"2010\", \"2011\", \"2012\", \"2013\", \"2014\", \"2015\", \"2016\", \"2017\"], \"y\": [41.20429919989535, 47.217153284671525, 39.88294709019681, 42.637724695963946, 36.786490223187826, 33.91098366787184, 38.310313539671334, 41.47097032077546, 47.580899667419224, 48.58050144556615, 46.431321309409924, 43.859649122807014, 37.71827706635623, 39.1470547598213, 44.90642594998746, 45.59304818869203, 33.49788434414669, 37.03544205675897, 32.691987339663505, 24.248202109800836, 27.28738578575268, 26.002259212685697, 31.368167755242357, 26.29497402569639, 25.347732549470685, 25.532472067039105], \"type\": \"scatter\", \"uid\": \"45f56a54-ce72-4ad3-8289-0d0806342ebc\"}, {\"name\": \"('Homme', '30-39 ans')\", \"x\": [\"1992\", \"1993\", \"1994\", \"1995\", \"1996\", \"1997\", \"1998\", \"1999\", \"2000\", \"2001\", \"2002\", \"2003\", \"2004\", \"2005\", \"2006\", \"2007\", \"2008\", \"2009\", \"2010\", \"2011\", \"2012\", \"2013\", \"2014\", \"2015\", \"2016\", \"2017\"], \"y\": [43.85257964595568, 41.86802701874158, 41.974275572591196, 41.39282889139855, 39.75456733614804, 40.106225520137905, 39.88331657794552, 44.419720969541714, 41.375974770262296, 42.328751669688586, 39.88892191525945, 39.29849452456446, 35.808270359197486, 33.40642065199404, 30.303242744923462, 31.123444493564925, 28.826622590790468, 28.567288755006434, 27.008355989053847, 24.289025279297313, 23.592174014482637, 23.07079668753372, 22.080219186566072, 19.29266829009428, 20.161949140911442, 21.087092114235485], \"type\": \"scatter\", \"uid\": \"4518e62f-4f5f-4a6e-9b28-2c1a8debeb80\"}], {\"title\": \"<b>Yearly accident for the top 5 categories</b>\", \"titlefont\": {\"color\": \"#7f7f7f\", \"family\": \"Courier New, monospace\", \"size\": 18}, \"xaxis\": {\"title\": \"Year\", \"titlefont\": {\"color\": \"#7f7f7f\", \"family\": \"Courier New, monospace\", \"size\": 15}}, \"yaxis\": {\"title\": \"Accidents per 10'000 people\", \"titlefont\": {\"color\": \"#7f7f7f\", \"family\": \"Courier New, monospace\", \"size\": 15}}}, {\"showLink\": true, \"linkText\": \"Export to plot.ly\", \"plotlyServerURL\": \"https://plot.ly\"})});</script><script type=\"text/javascript\">window.addEventListener(\"resize\", function(){window._Plotly.Plots.resize(document.getElementById(\"33adff64-b0a2-45ee-a6a0-dbc41f4f518e\"));});</script>"
      ]
     },
     "metadata": {},
     "output_type": "display_data"
    }
   ],
   "source": [
    "plot_dataframe_2(x=df_conducteur.columns.values, y=df_conducteur.head(5),\\\n",
    "               title='Yearly accident for the top 5 categories', xlabel='Year',\\\n",
    "               ylabel=\"Accidents per 10'000 people\", labels=df_conducteur.index.values,\\\n",
    "               rotation=45, number_to_plot=None,name_save='accident_sexe&age_top5')\n"
   ]
  },
  {
   "cell_type": "code",
   "execution_count": 70,
   "metadata": {},
   "outputs": [
    {
     "data": {
      "text/plain": [
       "\"('Homme', '20 ans')\""
      ]
     },
     "execution_count": 70,
     "metadata": {},
     "output_type": "execute_result"
    }
   ],
   "source": [
    "str(df_conducteur.index.values[0])"
   ]
  },
  {
   "cell_type": "code",
   "execution_count": 64,
   "metadata": {},
   "outputs": [
    {
     "data": {
      "text/plain": [
       "array([91.26244488, 85.54821169, 79.80097828, 79.26361544, 84.05613488,\n",
       "       78.97298613, 86.30755342, 87.90588899, 97.57509115, 99.30935385,\n",
       "       89.94107309, 91.68356074, 88.27595585, 76.58038685, 73.98287413,\n",
       "       79.97919241, 68.30094774, 65.11530836, 55.68659625, 59.96238062,\n",
       "       49.94667427, 47.05107644, 43.54014021, 37.90539145, 37.81604525,\n",
       "       35.44556347])"
      ]
     },
     "execution_count": 64,
     "metadata": {},
     "output_type": "execute_result"
    }
   ],
   "source": [
    "df_conducteur.head(5).iloc[1].values"
   ]
  },
  {
   "cell_type": "code",
   "execution_count": 93,
   "metadata": {},
   "outputs": [
    {
     "data": {
      "image/png": "[encoded data removed]",
      "text/plain": [
       "<Figure size 864x504 with 1 Axes>"
      ]
     },
     "metadata": {},
     "output_type": "display_data"
    }
   ],
   "source": [
    "# Compute the number of accidents per weekday, rename the index and the columns\n",
    "df_day = df_hacked_accident[['accidentday', 'id']].\\\n",
    "    groupby('accidentday')[['id']].count().\\\n",
    "    reindex(['lundi','mardi','mercredi','jeudi','vendredi','samedi','dimanche']).\\\n",
    "    rename(columns = {'id' : 'accidents'})\n",
    "\n",
    "# Plot the results\n",
    "plot_dataframe(x=df_day[::-1], title=\"Number of accidents per weekday\",\\\n",
    "               xlabel='Number of accidents', ylabel='Weekday', bars='barh',name_save='accident_weekday')"
   ]
  },
  {
   "cell_type": "code",
   "execution_count": 114,
   "metadata": {},
   "outputs": [
    {
     "data": {
      "text/plain": [
       "[12584, 17882, 21599, 19387, 18593, 17864, 17617]"
      ]
     },
     "execution_count": 114,
     "metadata": {},
     "output_type": "execute_result"
    }
   ],
   "source": [
    "[d[0] for d in df_day[::-1].values]"
   ]
  },
  {
   "cell_type": "code",
   "execution_count": 117,
   "metadata": {},
   "outputs": [
    {
     "data": {
      "text/plain": [
       "'file://C:\\\\Users\\\\Clementg20\\\\OneDrive\\\\INSA _ Mes Cours\\\\EPFL\\\\Applied Data Analysis\\\\Git\\\\project-pizzafels\\\\Working Notebooks\\\\test_output\\\\test.html'"
      ]
     },
     "execution_count": 117,
     "metadata": {},
     "output_type": "execute_result"
    }
   ],
   "source": [
    "plot([go.Bar(x=df_day[::-1].index.values, y=[d[0] for d in df_day[::-1].values])],filename='test_output/test.html')"
   ]
  },
  {
   "cell_type": "code",
   "execution_count": 126,
   "metadata": {},
   "outputs": [
    {
     "ename": "NameError",
     "evalue": "name 'traces' is not defined",
     "output_type": "error",
     "traceback": [
      "\u001b[1;31m---------------------------------------------------------------------------\u001b[0m",
      "\u001b[1;31mNameError\u001b[0m                                 Traceback (most recent call last)",
      "\u001b[1;32m<ipython-input-126-1131a0669f67>\u001b[0m in \u001b[0;36m<module>\u001b[1;34m()\u001b[0m\n\u001b[0;32m     41\u001b[0m     )\n\u001b[0;32m     42\u001b[0m \u001b[1;33m\u001b[0m\u001b[0m\n\u001b[1;32m---> 43\u001b[1;33m \u001b[0mfig\u001b[0m \u001b[1;33m=\u001b[0m \u001b[0mgo\u001b[0m\u001b[1;33m.\u001b[0m\u001b[0mFigure\u001b[0m\u001b[1;33m(\u001b[0m\u001b[0mdata\u001b[0m\u001b[1;33m=\u001b[0m\u001b[0mtraces\u001b[0m\u001b[1;33m,\u001b[0m\u001b[0mlayout\u001b[0m\u001b[1;33m=\u001b[0m\u001b[0mlayout\u001b[0m\u001b[1;33m)\u001b[0m\u001b[1;33m\u001b[0m\u001b[0m\n\u001b[0m\u001b[0;32m     44\u001b[0m \u001b[0mplot\u001b[0m\u001b[1;33m(\u001b[0m\u001b[0mfig\u001b[0m\u001b[1;33m,\u001b[0m\u001b[0mfilename\u001b[0m\u001b[1;33m=\u001b[0m\u001b[1;34m'test_output/test.html'\u001b[0m\u001b[1;33m)\u001b[0m\u001b[1;33m\u001b[0m\u001b[0m\n",
      "\u001b[1;31mNameError\u001b[0m: name 'traces' is not defined"
     ]
    },
    {
     "data": {
      "image/png": "[encoded data removed]",
      "text/plain": [
       "<Figure size 864x504 with 1 Axes>"
      ]
     },
     "metadata": {},
     "output_type": "display_data"
    }
   ],
   "source": [
    "# Number of months to plot for each year\n",
    "months_to_plot = 2\n",
    "\n",
    "# Group by month and only keep the biggest values\n",
    "monthly_basis = df_Accident_circonstances.groupby('mois_index').sum().\\\n",
    "        reset_index().apply(lambda x: x.nlargest(months_to_plot))\n",
    "# Plot the results (we cannot use our function here)\n",
    "plt.figure(figsize=(12,7))\n",
    "for month in range(monthly_basis.shape[0]):\n",
    "    to_plot = monthly_basis.iloc[month].values[6:]\n",
    "    # Check if there is something to plot: this will control the labels and\n",
    "    # not print the names of the months that don't appear in the plot\n",
    "    if len(to_plot[np.isnan(to_plot)==False]) != 0:\n",
    "        # Scatter plot, where the months indices are transformed to strings\n",
    "        plt.scatter(np.arange(1992,2018,1), monthly_basis.iloc[month].values[6:],\\\n",
    "            label=datetime.date(1900, int(monthly_basis.index[month]+1), 1).strftime('%B'))\n",
    "# Customization\n",
    "plt.title('Accidents by month for the {} months with the most accidents each year'.\\\n",
    "          format(months_to_plot), fontsize=23)\n",
    "plt.legend(fontsize=10, loc=\"best\", bbox_to_anchor=(1,1))\n",
    "plt.xticks(fontsize=12)\n",
    "plt.yticks(fontsize=12)\n",
    "plt.xlabel('Year', fontsize=15)\n",
    "plt.ylabel('Number of accidents', fontsize=15)\n",
    "plt.savefig(PLOT_FOLDER+'accident_2months'+'.png')\n",
    "plt.show()\n",
    "\n"
   ]
  },
  {
   "cell_type": "code",
   "execution_count": 25,
   "metadata": {},
   "outputs": [
    {
     "ename": "NameError",
     "evalue": "name 'monthly_basis' is not defined",
     "output_type": "error",
     "traceback": [
      "\u001b[1;31m---------------------------------------------------------------------------\u001b[0m",
      "\u001b[1;31mNameError\u001b[0m                                 Traceback (most recent call last)",
      "\u001b[1;32m<ipython-input-25-c33e04278da9>\u001b[0m in \u001b[0;36m<module>\u001b[1;34m()\u001b[0m\n\u001b[0;32m      1\u001b[0m \u001b[1;31m# Plot the results (we cannot use our function here)\u001b[0m\u001b[1;33m\u001b[0m\u001b[1;33m\u001b[0m\u001b[0m\n\u001b[0;32m      2\u001b[0m \u001b[0mtraces\u001b[0m \u001b[1;33m=\u001b[0m \u001b[1;33m[\u001b[0m\u001b[1;33m]\u001b[0m\u001b[1;33m\u001b[0m\u001b[0m\n\u001b[1;32m----> 3\u001b[1;33m \u001b[1;32mfor\u001b[0m \u001b[0mmonth\u001b[0m \u001b[1;32min\u001b[0m \u001b[0mrange\u001b[0m\u001b[1;33m(\u001b[0m\u001b[0mmonthly_basis\u001b[0m\u001b[1;33m.\u001b[0m\u001b[0mshape\u001b[0m\u001b[1;33m[\u001b[0m\u001b[1;36m0\u001b[0m\u001b[1;33m]\u001b[0m\u001b[1;33m)\u001b[0m\u001b[1;33m:\u001b[0m\u001b[1;33m\u001b[0m\u001b[0m\n\u001b[0m\u001b[0;32m      4\u001b[0m     \u001b[0mto_plot\u001b[0m \u001b[1;33m=\u001b[0m \u001b[0mmonthly_basis\u001b[0m\u001b[1;33m.\u001b[0m\u001b[0miloc\u001b[0m\u001b[1;33m[\u001b[0m\u001b[0mmonth\u001b[0m\u001b[1;33m]\u001b[0m\u001b[1;33m.\u001b[0m\u001b[0mvalues\u001b[0m\u001b[1;33m[\u001b[0m\u001b[1;36m6\u001b[0m\u001b[1;33m:\u001b[0m\u001b[1;33m]\u001b[0m\u001b[1;33m\u001b[0m\u001b[0m\n\u001b[0;32m      5\u001b[0m     \u001b[1;31m# Check if there is something to plot: this will control the labels and\u001b[0m\u001b[1;33m\u001b[0m\u001b[1;33m\u001b[0m\u001b[0m\n",
      "\u001b[1;31mNameError\u001b[0m: name 'monthly_basis' is not defined"
     ]
    }
   ],
   "source": [
    "# Plot the results (we cannot use our function here)\n",
    "traces = []\n",
    "for month in range(monthly_basis.shape[0]):\n",
    "    to_plot = monthly_basis.iloc[month].values[6:]\n",
    "    # Check if there is something to plot: this will control the labels and\n",
    "    # not print the names of the months that don't appear in the plot\n",
    "    if len(to_plot[np.isnan(to_plot)==False]) != 0:\n",
    "        # Scatter plot, where the months indices are transformed to strings\n",
    "        traces.append(go.Scatter(x=np.arange(1992,2018,1),y=monthly_basis.iloc[month].values[6:],name=datetime.date(1900, int(monthly_basis.index[month]+1), 1).strftime('%B'),mode = 'markers'))\n",
    "# Customization\n",
    "layout = go.Layout(\n",
    "        title='Accidents by month for the {} months with the most accidents each year'.\\\n",
    "          format(months_to_plot),\n",
    "        titlefont=dict(\n",
    "                family='Courier New, monospace',\n",
    "                size=18,\n",
    "                color='#7f7f7f'\n",
    "            ),\n",
    "        xaxis=dict(\n",
    "            title='Year',\n",
    "            titlefont=dict(\n",
    "                family='Courier New, monospace',\n",
    "                size=15,\n",
    "                color='#7f7f7f'\n",
    "            )\n",
    "        ),\n",
    "        yaxis=dict(\n",
    "            title='Number of accidents',\n",
    "            titlefont=dict(\n",
    "                family='Courier New, monospace',\n",
    "                size=15,\n",
    "                color='#7f7f7f'\n",
    "            )\n",
    "        )\n",
    "    )\n",
    "init_notebook_mode(connected=True)\n",
    "fig = go.Figure(data=traces,layout=layout)\n",
    "iplot(fig,filename='test_output/test.html')\n",
    "plot(fig,filename='test.html',auto_open=False)"
   ]
  },
  {
   "cell_type": "code",
   "execution_count": 23,
   "metadata": {},
   "outputs": [],
   "source": [
    "df_display = df_conducteur.loc[[('Homme', '20 ans'), ('Homme', '18-19 ans'),\n",
    "       ('Homme', '21-29 ans'), ('Femme', '20 ans'),\n",
    "       ('Homme', '30-39 ans'), ('Femme', '21-29 ans'),\n",
    "       ('Homme', '70 ans et plus'),\n",
    "       ('Homme', '15-17 ans'), ('Homme', '10-14 ans'),\n",
    "       ('Homme', '6-9 ans'), ('Femme', '10-14 ans'),\n",
    "       ('Femme', '15-17 ans')],['1992', '2017']]"
   ]
  },
  {
   "cell_type": "code",
   "execution_count": 41,
   "metadata": {},
   "outputs": [],
   "source": [
    "sample_data_table = FF.create_table(df_display.head(),index=True)"
   ]
  },
  {
   "cell_type": "code",
   "execution_count": 39,
   "metadata": {},
   "outputs": [
    {
     "data": {
      "text/html": [
       "<script type=\"text/javascript\">window.PlotlyConfig = {MathJaxConfig: 'local'};</script><script type=\"text/javascript\">if (window.MathJax) {MathJax.Hub.Config({SVG: {font: \"STIX-Web\"}});}</script><script>requirejs.config({paths: { 'plotly': ['https://cdn.plot.ly/plotly-latest.min']},});if(!window._Plotly) {require(['plotly'],function(plotly) {window._Plotly=plotly;});}</script>"
      ],
      "text/vnd.plotly.v1+html": [
       "<script type=\"text/javascript\">window.PlotlyConfig = {MathJaxConfig: 'local'};</script><script type=\"text/javascript\">if (window.MathJax) {MathJax.Hub.Config({SVG: {font: \"STIX-Web\"}});}</script><script>requirejs.config({paths: { 'plotly': ['https://cdn.plot.ly/plotly-latest.min']},});if(!window._Plotly) {require(['plotly'],function(plotly) {window._Plotly=plotly;});}</script>"
      ]
     },
     "metadata": {},
     "output_type": "display_data"
    }
   ],
   "source": [
    "init_notebook_mode(connected=True)"
   ]
  },
  {
   "cell_type": "code",
   "execution_count": 40,
   "metadata": {},
   "outputs": [
    {
     "data": {
      "application/vnd.plotly.v1+json": {
       "config": {
        "linkText": "Export to plot.ly",
        "plotlyServerURL": "https://plot.ly",
        "showLink": true
       },
       "data": [
        {
         "colorscale": [
          [
           0,
           "#00083e"
          ],
          [
           0.5,
           "#ededee"
          ],
          [
           1,
           "#ffffff"
          ]
         ],
         "hoverinfo": "none",
         "opacity": 0.75,
         "showscale": false,
         "type": "heatmap",
         "uid": "8fac517b-b0ab-47e9-a304-6f680c7ee2e1",
         "z": [
          [
           0,
           0,
           0
          ],
          [
           0,
           0.5,
           0.5
          ],
          [
           0,
           1,
           1
          ],
          [
           0,
           0.5,
           0.5
          ],
          [
           0,
           1,
           1
          ],
          [
           0,
           0.5,
           0.5
          ]
         ]
        }
       ],
       "layout": {
        "annotations": [
         {
          "align": "left",
          "font": {
           "color": "#ffffff"
          },
          "showarrow": false,
          "text": "<b></b>",
          "x": -0.45,
          "xanchor": "left",
          "xref": "x",
          "y": 0,
          "yref": "y"
         },
         {
          "align": "left",
          "font": {
           "color": "#ffffff"
          },
          "showarrow": false,
          "text": "<b>1992</b>",
          "x": 0.55,
          "xanchor": "left",
          "xref": "x",
          "y": 0,
          "yref": "y"
         },
         {
          "align": "left",
          "font": {
           "color": "#ffffff"
          },
          "showarrow": false,
          "text": "<b>2017</b>",
          "x": 1.55,
          "xanchor": "left",
          "xref": "x",
          "y": 0,
          "yref": "y"
         },
         {
          "align": "left",
          "font": {
           "color": "#ffffff"
          },
          "showarrow": false,
          "text": "<b>('Homme', '20 ans')</b>",
          "x": -0.45,
          "xanchor": "left",
          "xref": "x",
          "y": 1,
          "yref": "y"
         },
         {
          "align": "left",
          "font": {
           "color": "#000000"
          },
          "showarrow": false,
          "text": "127.97152421712784",
          "x": 0.55,
          "xanchor": "left",
          "xref": "x",
          "y": 1,
          "yref": "y"
         },
         {
          "align": "left",
          "font": {
           "color": "#000000"
          },
          "showarrow": false,
          "text": "39.736441966548405",
          "x": 1.55,
          "xanchor": "left",
          "xref": "x",
          "y": 1,
          "yref": "y"
         },
         {
          "align": "left",
          "font": {
           "color": "#ffffff"
          },
          "showarrow": false,
          "text": "<b>('Homme', '18-19 ans')</b>",
          "x": -0.45,
          "xanchor": "left",
          "xref": "x",
          "y": 2,
          "yref": "y"
         },
         {
          "align": "left",
          "font": {
           "color": "#000000"
          },
          "showarrow": false,
          "text": "91.26244487884712",
          "x": 0.55,
          "xanchor": "left",
          "xref": "x",
          "y": 2,
          "yref": "y"
         },
         {
          "align": "left",
          "font": {
           "color": "#000000"
          },
          "showarrow": false,
          "text": "35.44556346772223",
          "x": 1.55,
          "xanchor": "left",
          "xref": "x",
          "y": 2,
          "yref": "y"
         },
         {
          "align": "left",
          "font": {
           "color": "#ffffff"
          },
          "showarrow": false,
          "text": "<b>('Homme', '21-29 ans')</b>",
          "x": -0.45,
          "xanchor": "left",
          "xref": "x",
          "y": 3,
          "yref": "y"
         },
         {
          "align": "left",
          "font": {
           "color": "#000000"
          },
          "showarrow": false,
          "text": "79.56253162992124",
          "x": 0.55,
          "xanchor": "left",
          "xref": "x",
          "y": 3,
          "yref": "y"
         },
         {
          "align": "left",
          "font": {
           "color": "#000000"
          },
          "showarrow": false,
          "text": "28.468725832162754",
          "x": 1.55,
          "xanchor": "left",
          "xref": "x",
          "y": 3,
          "yref": "y"
         },
         {
          "align": "left",
          "font": {
           "color": "#ffffff"
          },
          "showarrow": false,
          "text": "<b>('Femme', '20 ans')</b>",
          "x": -0.45,
          "xanchor": "left",
          "xref": "x",
          "y": 4,
          "yref": "y"
         },
         {
          "align": "left",
          "font": {
           "color": "#000000"
          },
          "showarrow": false,
          "text": "41.20429919989535",
          "x": 0.55,
          "xanchor": "left",
          "xref": "x",
          "y": 4,
          "yref": "y"
         },
         {
          "align": "left",
          "font": {
           "color": "#000000"
          },
          "showarrow": false,
          "text": "25.532472067039105",
          "x": 1.55,
          "xanchor": "left",
          "xref": "x",
          "y": 4,
          "yref": "y"
         },
         {
          "align": "left",
          "font": {
           "color": "#ffffff"
          },
          "showarrow": false,
          "text": "<b>('Homme', '30-39 ans')</b>",
          "x": -0.45,
          "xanchor": "left",
          "xref": "x",
          "y": 5,
          "yref": "y"
         },
         {
          "align": "left",
          "font": {
           "color": "#000000"
          },
          "showarrow": false,
          "text": "43.85257964595568",
          "x": 0.55,
          "xanchor": "left",
          "xref": "x",
          "y": 5,
          "yref": "y"
         },
         {
          "align": "left",
          "font": {
           "color": "#000000"
          },
          "showarrow": false,
          "text": "21.087092114235485",
          "x": 1.55,
          "xanchor": "left",
          "xref": "x",
          "y": 5,
          "yref": "y"
         }
        ],
        "height": 230,
        "margin": {
         "b": 0,
         "l": 0,
         "r": 0,
         "t": 0
        },
        "xaxis": {
         "dtick": 1,
         "gridwidth": 2,
         "showticklabels": false,
         "tick0": -0.5,
         "ticks": "",
         "zeroline": false
        },
        "yaxis": {
         "autorange": "reversed",
         "dtick": 1,
         "gridwidth": 2,
         "showticklabels": false,
         "tick0": 0.5,
         "ticks": "",
         "zeroline": false
        }
       }
      },
      "text/html": [
       "<div id=\"77329415-a478-4bb4-b93f-ac14bfb6bd73\" style=\"height: 230px; width: 100%;\" class=\"plotly-graph-div\"></div><script type=\"text/javascript\">require([\"plotly\"], function(Plotly) { window.PLOTLYENV=window.PLOTLYENV || {};window.PLOTLYENV.BASE_URL=\"https://plot.ly\";Plotly.newPlot(\"77329415-a478-4bb4-b93f-ac14bfb6bd73\", [{\"colorscale\": [[0, \"#00083e\"], [0.5, \"#ededee\"], [1, \"#ffffff\"]], \"hoverinfo\": \"none\", \"opacity\": 0.75, \"showscale\": false, \"z\": [[0, 0, 0], [0, 0.5, 0.5], [0, 1, 1], [0, 0.5, 0.5], [0, 1, 1], [0, 0.5, 0.5]], \"type\": \"heatmap\", \"uid\": \"8fac517b-b0ab-47e9-a304-6f680c7ee2e1\"}], {\"annotations\": [{\"align\": \"left\", \"font\": {\"color\": \"#ffffff\"}, \"showarrow\": false, \"text\": \"<b></b>\", \"x\": -0.45, \"xanchor\": \"left\", \"xref\": \"x\", \"y\": 0, \"yref\": \"y\"}, {\"align\": \"left\", \"font\": {\"color\": \"#ffffff\"}, \"showarrow\": false, \"text\": \"<b>1992</b>\", \"x\": 0.55, \"xanchor\": \"left\", \"xref\": \"x\", \"y\": 0, \"yref\": \"y\"}, {\"align\": \"left\", \"font\": {\"color\": \"#ffffff\"}, \"showarrow\": false, \"text\": \"<b>2017</b>\", \"x\": 1.55, \"xanchor\": \"left\", \"xref\": \"x\", \"y\": 0, \"yref\": \"y\"}, {\"align\": \"left\", \"font\": {\"color\": \"#ffffff\"}, \"showarrow\": false, \"text\": \"<b>('Homme', '20 ans')</b>\", \"x\": -0.45, \"xanchor\": \"left\", \"xref\": \"x\", \"y\": 1, \"yref\": \"y\"}, {\"align\": \"left\", \"font\": {\"color\": \"#000000\"}, \"showarrow\": false, \"text\": \"127.97152421712784\", \"x\": 0.55, \"xanchor\": \"left\", \"xref\": \"x\", \"y\": 1, \"yref\": \"y\"}, {\"align\": \"left\", \"font\": {\"color\": \"#000000\"}, \"showarrow\": false, \"text\": \"39.736441966548405\", \"x\": 1.55, \"xanchor\": \"left\", \"xref\": \"x\", \"y\": 1, \"yref\": \"y\"}, {\"align\": \"left\", \"font\": {\"color\": \"#ffffff\"}, \"showarrow\": false, \"text\": \"<b>('Homme', '18-19 ans')</b>\", \"x\": -0.45, \"xanchor\": \"left\", \"xref\": \"x\", \"y\": 2, \"yref\": \"y\"}, {\"align\": \"left\", \"font\": {\"color\": \"#000000\"}, \"showarrow\": false, \"text\": \"91.26244487884712\", \"x\": 0.55, \"xanchor\": \"left\", \"xref\": \"x\", \"y\": 2, \"yref\": \"y\"}, {\"align\": \"left\", \"font\": {\"color\": \"#000000\"}, \"showarrow\": false, \"text\": \"35.44556346772223\", \"x\": 1.55, \"xanchor\": \"left\", \"xref\": \"x\", \"y\": 2, \"yref\": \"y\"}, {\"align\": \"left\", \"font\": {\"color\": \"#ffffff\"}, \"showarrow\": false, \"text\": \"<b>('Homme', '21-29 ans')</b>\", \"x\": -0.45, \"xanchor\": \"left\", \"xref\": \"x\", \"y\": 3, \"yref\": \"y\"}, {\"align\": \"left\", \"font\": {\"color\": \"#000000\"}, \"showarrow\": false, \"text\": \"79.56253162992124\", \"x\": 0.55, \"xanchor\": \"left\", \"xref\": \"x\", \"y\": 3, \"yref\": \"y\"}, {\"align\": \"left\", \"font\": {\"color\": \"#000000\"}, \"showarrow\": false, \"text\": \"28.468725832162754\", \"x\": 1.55, \"xanchor\": \"left\", \"xref\": \"x\", \"y\": 3, \"yref\": \"y\"}, {\"align\": \"left\", \"font\": {\"color\": \"#ffffff\"}, \"showarrow\": false, \"text\": \"<b>('Femme', '20 ans')</b>\", \"x\": -0.45, \"xanchor\": \"left\", \"xref\": \"x\", \"y\": 4, \"yref\": \"y\"}, {\"align\": \"left\", \"font\": {\"color\": \"#000000\"}, \"showarrow\": false, \"text\": \"41.20429919989535\", \"x\": 0.55, \"xanchor\": \"left\", \"xref\": \"x\", \"y\": 4, \"yref\": \"y\"}, {\"align\": \"left\", \"font\": {\"color\": \"#000000\"}, \"showarrow\": false, \"text\": \"25.532472067039105\", \"x\": 1.55, \"xanchor\": \"left\", \"xref\": \"x\", \"y\": 4, \"yref\": \"y\"}, {\"align\": \"left\", \"font\": {\"color\": \"#ffffff\"}, \"showarrow\": false, \"text\": \"<b>('Homme', '30-39 ans')</b>\", \"x\": -0.45, \"xanchor\": \"left\", \"xref\": \"x\", \"y\": 5, \"yref\": \"y\"}, {\"align\": \"left\", \"font\": {\"color\": \"#000000\"}, \"showarrow\": false, \"text\": \"43.85257964595568\", \"x\": 0.55, \"xanchor\": \"left\", \"xref\": \"x\", \"y\": 5, \"yref\": \"y\"}, {\"align\": \"left\", \"font\": {\"color\": \"#000000\"}, \"showarrow\": false, \"text\": \"21.087092114235485\", \"x\": 1.55, \"xanchor\": \"left\", \"xref\": \"x\", \"y\": 5, \"yref\": \"y\"}], \"height\": 230, \"margin\": {\"b\": 0, \"l\": 0, \"r\": 0, \"t\": 0}, \"xaxis\": {\"dtick\": 1, \"gridwidth\": 2, \"showticklabels\": false, \"tick0\": -0.5, \"ticks\": \"\", \"zeroline\": false}, \"yaxis\": {\"autorange\": \"reversed\", \"dtick\": 1, \"gridwidth\": 2, \"showticklabels\": false, \"tick0\": 0.5, \"ticks\": \"\", \"zeroline\": false}}, {\"showLink\": true, \"linkText\": \"Export to plot.ly\", \"plotlyServerURL\": \"https://plot.ly\"})});</script><script type=\"text/javascript\">window.addEventListener(\"resize\", function(){window._Plotly.Plots.resize(document.getElementById(\"77329415-a478-4bb4-b93f-ac14bfb6bd73\"));});</script>"
      ],
      "text/vnd.plotly.v1+html": [
       "<div id=\"77329415-a478-4bb4-b93f-ac14bfb6bd73\" style=\"height: 230px; width: 100%;\" class=\"plotly-graph-div\"></div><script type=\"text/javascript\">require([\"plotly\"], function(Plotly) { window.PLOTLYENV=window.PLOTLYENV || {};window.PLOTLYENV.BASE_URL=\"https://plot.ly\";Plotly.newPlot(\"77329415-a478-4bb4-b93f-ac14bfb6bd73\", [{\"colorscale\": [[0, \"#00083e\"], [0.5, \"#ededee\"], [1, \"#ffffff\"]], \"hoverinfo\": \"none\", \"opacity\": 0.75, \"showscale\": false, \"z\": [[0, 0, 0], [0, 0.5, 0.5], [0, 1, 1], [0, 0.5, 0.5], [0, 1, 1], [0, 0.5, 0.5]], \"type\": \"heatmap\", \"uid\": \"8fac517b-b0ab-47e9-a304-6f680c7ee2e1\"}], {\"annotations\": [{\"align\": \"left\", \"font\": {\"color\": \"#ffffff\"}, \"showarrow\": false, \"text\": \"<b></b>\", \"x\": -0.45, \"xanchor\": \"left\", \"xref\": \"x\", \"y\": 0, \"yref\": \"y\"}, {\"align\": \"left\", \"font\": {\"color\": \"#ffffff\"}, \"showarrow\": false, \"text\": \"<b>1992</b>\", \"x\": 0.55, \"xanchor\": \"left\", \"xref\": \"x\", \"y\": 0, \"yref\": \"y\"}, {\"align\": \"left\", \"font\": {\"color\": \"#ffffff\"}, \"showarrow\": false, \"text\": \"<b>2017</b>\", \"x\": 1.55, \"xanchor\": \"left\", \"xref\": \"x\", \"y\": 0, \"yref\": \"y\"}, {\"align\": \"left\", \"font\": {\"color\": \"#ffffff\"}, \"showarrow\": false, \"text\": \"<b>('Homme', '20 ans')</b>\", \"x\": -0.45, \"xanchor\": \"left\", \"xref\": \"x\", \"y\": 1, \"yref\": \"y\"}, {\"align\": \"left\", \"font\": {\"color\": \"#000000\"}, \"showarrow\": false, \"text\": \"127.97152421712784\", \"x\": 0.55, \"xanchor\": \"left\", \"xref\": \"x\", \"y\": 1, \"yref\": \"y\"}, {\"align\": \"left\", \"font\": {\"color\": \"#000000\"}, \"showarrow\": false, \"text\": \"39.736441966548405\", \"x\": 1.55, \"xanchor\": \"left\", \"xref\": \"x\", \"y\": 1, \"yref\": \"y\"}, {\"align\": \"left\", \"font\": {\"color\": \"#ffffff\"}, \"showarrow\": false, \"text\": \"<b>('Homme', '18-19 ans')</b>\", \"x\": -0.45, \"xanchor\": \"left\", \"xref\": \"x\", \"y\": 2, \"yref\": \"y\"}, {\"align\": \"left\", \"font\": {\"color\": \"#000000\"}, \"showarrow\": false, \"text\": \"91.26244487884712\", \"x\": 0.55, \"xanchor\": \"left\", \"xref\": \"x\", \"y\": 2, \"yref\": \"y\"}, {\"align\": \"left\", \"font\": {\"color\": \"#000000\"}, \"showarrow\": false, \"text\": \"35.44556346772223\", \"x\": 1.55, \"xanchor\": \"left\", \"xref\": \"x\", \"y\": 2, \"yref\": \"y\"}, {\"align\": \"left\", \"font\": {\"color\": \"#ffffff\"}, \"showarrow\": false, \"text\": \"<b>('Homme', '21-29 ans')</b>\", \"x\": -0.45, \"xanchor\": \"left\", \"xref\": \"x\", \"y\": 3, \"yref\": \"y\"}, {\"align\": \"left\", \"font\": {\"color\": \"#000000\"}, \"showarrow\": false, \"text\": \"79.56253162992124\", \"x\": 0.55, \"xanchor\": \"left\", \"xref\": \"x\", \"y\": 3, \"yref\": \"y\"}, {\"align\": \"left\", \"font\": {\"color\": \"#000000\"}, \"showarrow\": false, \"text\": \"28.468725832162754\", \"x\": 1.55, \"xanchor\": \"left\", \"xref\": \"x\", \"y\": 3, \"yref\": \"y\"}, {\"align\": \"left\", \"font\": {\"color\": \"#ffffff\"}, \"showarrow\": false, \"text\": \"<b>('Femme', '20 ans')</b>\", \"x\": -0.45, \"xanchor\": \"left\", \"xref\": \"x\", \"y\": 4, \"yref\": \"y\"}, {\"align\": \"left\", \"font\": {\"color\": \"#000000\"}, \"showarrow\": false, \"text\": \"41.20429919989535\", \"x\": 0.55, \"xanchor\": \"left\", \"xref\": \"x\", \"y\": 4, \"yref\": \"y\"}, {\"align\": \"left\", \"font\": {\"color\": \"#000000\"}, \"showarrow\": false, \"text\": \"25.532472067039105\", \"x\": 1.55, \"xanchor\": \"left\", \"xref\": \"x\", \"y\": 4, \"yref\": \"y\"}, {\"align\": \"left\", \"font\": {\"color\": \"#ffffff\"}, \"showarrow\": false, \"text\": \"<b>('Homme', '30-39 ans')</b>\", \"x\": -0.45, \"xanchor\": \"left\", \"xref\": \"x\", \"y\": 5, \"yref\": \"y\"}, {\"align\": \"left\", \"font\": {\"color\": \"#000000\"}, \"showarrow\": false, \"text\": \"43.85257964595568\", \"x\": 0.55, \"xanchor\": \"left\", \"xref\": \"x\", \"y\": 5, \"yref\": \"y\"}, {\"align\": \"left\", \"font\": {\"color\": \"#000000\"}, \"showarrow\": false, \"text\": \"21.087092114235485\", \"x\": 1.55, \"xanchor\": \"left\", \"xref\": \"x\", \"y\": 5, \"yref\": \"y\"}], \"height\": 230, \"margin\": {\"b\": 0, \"l\": 0, \"r\": 0, \"t\": 0}, \"xaxis\": {\"dtick\": 1, \"gridwidth\": 2, \"showticklabels\": false, \"tick0\": -0.5, \"ticks\": \"\", \"zeroline\": false}, \"yaxis\": {\"autorange\": \"reversed\", \"dtick\": 1, \"gridwidth\": 2, \"showticklabels\": false, \"tick0\": 0.5, \"ticks\": \"\", \"zeroline\": false}}, {\"showLink\": true, \"linkText\": \"Export to plot.ly\", \"plotlyServerURL\": \"https://plot.ly\"})});</script><script type=\"text/javascript\">window.addEventListener(\"resize\", function(){window._Plotly.Plots.resize(document.getElementById(\"77329415-a478-4bb4-b93f-ac14bfb6bd73\"));});</script>"
      ]
     },
     "metadata": {},
     "output_type": "display_data"
    }
   ],
   "source": [
    "iplot(sample_data_table)"
   ]
  },
  {
   "cell_type": "code",
   "execution_count": 47,
   "metadata": {},
   "outputs": [
    {
     "ename": "KeyError",
     "evalue": "'the label [St. Gall] is not in the [index]'",
     "output_type": "error",
     "traceback": [
      "\u001b[1;31m---------------------------------------------------------------------------\u001b[0m",
      "\u001b[1;31mKeyError\u001b[0m                                  Traceback (most recent call last)",
      "\u001b[1;32m~\\Anaconda3\\lib\\site-packages\\pandas\\core\\indexing.py\u001b[0m in \u001b[0;36m_validate_key\u001b[1;34m(self, key, axis)\u001b[0m\n\u001b[0;32m   1789\u001b[0m                 \u001b[1;32mif\u001b[0m \u001b[1;32mnot\u001b[0m \u001b[0max\u001b[0m\u001b[1;33m.\u001b[0m\u001b[0mcontains\u001b[0m\u001b[1;33m(\u001b[0m\u001b[0mkey\u001b[0m\u001b[1;33m)\u001b[0m\u001b[1;33m:\u001b[0m\u001b[1;33m\u001b[0m\u001b[0m\n\u001b[1;32m-> 1790\u001b[1;33m                     \u001b[0merror\u001b[0m\u001b[1;33m(\u001b[0m\u001b[1;33m)\u001b[0m\u001b[1;33m\u001b[0m\u001b[0m\n\u001b[0m\u001b[0;32m   1791\u001b[0m             \u001b[1;32mexcept\u001b[0m \u001b[0mTypeError\u001b[0m \u001b[1;32mas\u001b[0m \u001b[0me\u001b[0m\u001b[1;33m:\u001b[0m\u001b[1;33m\u001b[0m\u001b[0m\n",
      "\u001b[1;32m~\\Anaconda3\\lib\\site-packages\\pandas\\core\\indexing.py\u001b[0m in \u001b[0;36merror\u001b[1;34m()\u001b[0m\n\u001b[0;32m   1784\u001b[0m                                .format(key=key,\n\u001b[1;32m-> 1785\u001b[1;33m                                        axis=self.obj._get_axis_name(axis)))\n\u001b[0m\u001b[0;32m   1786\u001b[0m \u001b[1;33m\u001b[0m\u001b[0m\n",
      "\u001b[1;31mKeyError\u001b[0m: 'the label [St. Gall] is not in the [index]'",
      "\nDuring handling of the above exception, another exception occurred:\n",
      "\u001b[1;31mKeyError\u001b[0m                                  Traceback (most recent call last)",
      "\u001b[1;32m<ipython-input-47-c3bf9bbe27d4>\u001b[0m in \u001b[0;36m<module>\u001b[1;34m()\u001b[0m\n\u001b[0;32m     17\u001b[0m \u001b[1;32mfor\u001b[0m \u001b[0mcant\u001b[0m \u001b[1;32min\u001b[0m \u001b[0mdf_frais_cantons_normalized\u001b[0m\u001b[1;33m.\u001b[0m\u001b[0mindex\u001b[0m\u001b[1;33m.\u001b[0m\u001b[0mvalues\u001b[0m\u001b[1;33m:\u001b[0m\u001b[1;33m\u001b[0m\u001b[0m\n\u001b[0;32m     18\u001b[0m     \u001b[1;32mfor\u001b[0m \u001b[0myear\u001b[0m \u001b[1;32min\u001b[0m \u001b[0mdf_frais_cantons_normalized\u001b[0m\u001b[1;33m.\u001b[0m\u001b[0mcolumns\u001b[0m\u001b[1;33m:\u001b[0m\u001b[1;33m\u001b[0m\u001b[0m\n\u001b[1;32m---> 19\u001b[1;33m         \u001b[0mdf_frais_cantons_normalized\u001b[0m\u001b[1;33m.\u001b[0m\u001b[0mloc\u001b[0m\u001b[1;33m[\u001b[0m\u001b[0mcant\u001b[0m\u001b[1;33m]\u001b[0m\u001b[1;33m[\u001b[0m\u001b[0myear\u001b[0m\u001b[1;33m]\u001b[0m \u001b[1;33m=\u001b[0m                    \u001b[0mdf_frais_cantons_normalized\u001b[0m\u001b[1;33m.\u001b[0m\u001b[0mloc\u001b[0m\u001b[1;33m[\u001b[0m\u001b[0mcant\u001b[0m\u001b[1;33m]\u001b[0m\u001b[1;33m[\u001b[0m\u001b[0myear\u001b[0m\u001b[1;33m]\u001b[0m\u001b[1;33m/\u001b[0m                    \u001b[0mdf_routes_cantons\u001b[0m\u001b[1;33m.\u001b[0m\u001b[0mloc\u001b[0m\u001b[1;33m[\u001b[0m\u001b[0mcant\u001b[0m\u001b[1;33m]\u001b[0m\u001b[1;33m[\u001b[0m\u001b[0myear\u001b[0m\u001b[1;33m]\u001b[0m\u001b[1;33m*\u001b[0m\u001b[1;36m100\u001b[0m\u001b[1;33m\u001b[0m\u001b[0m\n\u001b[0m",
      "\u001b[1;32m~\\Anaconda3\\lib\\site-packages\\pandas\\core\\indexing.py\u001b[0m in \u001b[0;36m__getitem__\u001b[1;34m(self, key)\u001b[0m\n\u001b[0;32m   1476\u001b[0m \u001b[1;33m\u001b[0m\u001b[0m\n\u001b[0;32m   1477\u001b[0m             \u001b[0mmaybe_callable\u001b[0m \u001b[1;33m=\u001b[0m \u001b[0mcom\u001b[0m\u001b[1;33m.\u001b[0m\u001b[0m_apply_if_callable\u001b[0m\u001b[1;33m(\u001b[0m\u001b[0mkey\u001b[0m\u001b[1;33m,\u001b[0m \u001b[0mself\u001b[0m\u001b[1;33m.\u001b[0m\u001b[0mobj\u001b[0m\u001b[1;33m)\u001b[0m\u001b[1;33m\u001b[0m\u001b[0m\n\u001b[1;32m-> 1478\u001b[1;33m             \u001b[1;32mreturn\u001b[0m \u001b[0mself\u001b[0m\u001b[1;33m.\u001b[0m\u001b[0m_getitem_axis\u001b[0m\u001b[1;33m(\u001b[0m\u001b[0mmaybe_callable\u001b[0m\u001b[1;33m,\u001b[0m \u001b[0maxis\u001b[0m\u001b[1;33m=\u001b[0m\u001b[0maxis\u001b[0m\u001b[1;33m)\u001b[0m\u001b[1;33m\u001b[0m\u001b[0m\n\u001b[0m\u001b[0;32m   1479\u001b[0m \u001b[1;33m\u001b[0m\u001b[0m\n\u001b[0;32m   1480\u001b[0m     \u001b[1;32mdef\u001b[0m \u001b[0m_is_scalar_access\u001b[0m\u001b[1;33m(\u001b[0m\u001b[0mself\u001b[0m\u001b[1;33m,\u001b[0m \u001b[0mkey\u001b[0m\u001b[1;33m)\u001b[0m\u001b[1;33m:\u001b[0m\u001b[1;33m\u001b[0m\u001b[0m\n",
      "\u001b[1;32m~\\Anaconda3\\lib\\site-packages\\pandas\\core\\indexing.py\u001b[0m in \u001b[0;36m_getitem_axis\u001b[1;34m(self, key, axis)\u001b[0m\n\u001b[0;32m   1909\u001b[0m \u001b[1;33m\u001b[0m\u001b[0m\n\u001b[0;32m   1910\u001b[0m         \u001b[1;31m# fall thru to straight lookup\u001b[0m\u001b[1;33m\u001b[0m\u001b[1;33m\u001b[0m\u001b[0m\n\u001b[1;32m-> 1911\u001b[1;33m         \u001b[0mself\u001b[0m\u001b[1;33m.\u001b[0m\u001b[0m_validate_key\u001b[0m\u001b[1;33m(\u001b[0m\u001b[0mkey\u001b[0m\u001b[1;33m,\u001b[0m \u001b[0maxis\u001b[0m\u001b[1;33m)\u001b[0m\u001b[1;33m\u001b[0m\u001b[0m\n\u001b[0m\u001b[0;32m   1912\u001b[0m         \u001b[1;32mreturn\u001b[0m \u001b[0mself\u001b[0m\u001b[1;33m.\u001b[0m\u001b[0m_get_label\u001b[0m\u001b[1;33m(\u001b[0m\u001b[0mkey\u001b[0m\u001b[1;33m,\u001b[0m \u001b[0maxis\u001b[0m\u001b[1;33m=\u001b[0m\u001b[0maxis\u001b[0m\u001b[1;33m)\u001b[0m\u001b[1;33m\u001b[0m\u001b[0m\n\u001b[0;32m   1913\u001b[0m \u001b[1;33m\u001b[0m\u001b[0m\n",
      "\u001b[1;32m~\\Anaconda3\\lib\\site-packages\\pandas\\core\\indexing.py\u001b[0m in \u001b[0;36m_validate_key\u001b[1;34m(self, key, axis)\u001b[0m\n\u001b[0;32m   1796\u001b[0m                 \u001b[1;32mraise\u001b[0m\u001b[1;33m\u001b[0m\u001b[0m\n\u001b[0;32m   1797\u001b[0m             \u001b[1;32mexcept\u001b[0m\u001b[1;33m:\u001b[0m\u001b[1;33m\u001b[0m\u001b[0m\n\u001b[1;32m-> 1798\u001b[1;33m                 \u001b[0merror\u001b[0m\u001b[1;33m(\u001b[0m\u001b[1;33m)\u001b[0m\u001b[1;33m\u001b[0m\u001b[0m\n\u001b[0m\u001b[0;32m   1799\u001b[0m \u001b[1;33m\u001b[0m\u001b[0m\n\u001b[0;32m   1800\u001b[0m     \u001b[1;32mdef\u001b[0m \u001b[0m_is_scalar_access\u001b[0m\u001b[1;33m(\u001b[0m\u001b[0mself\u001b[0m\u001b[1;33m,\u001b[0m \u001b[0mkey\u001b[0m\u001b[1;33m)\u001b[0m\u001b[1;33m:\u001b[0m\u001b[1;33m\u001b[0m\u001b[0m\n",
      "\u001b[1;32m~\\Anaconda3\\lib\\site-packages\\pandas\\core\\indexing.py\u001b[0m in \u001b[0;36merror\u001b[1;34m()\u001b[0m\n\u001b[0;32m   1783\u001b[0m                 raise KeyError(u\"the label [{key}] is not in the [{axis}]\"\n\u001b[0;32m   1784\u001b[0m                                .format(key=key,\n\u001b[1;32m-> 1785\u001b[1;33m                                        axis=self.obj._get_axis_name(axis)))\n\u001b[0m\u001b[0;32m   1786\u001b[0m \u001b[1;33m\u001b[0m\u001b[0m\n\u001b[0;32m   1787\u001b[0m             \u001b[1;32mtry\u001b[0m\u001b[1;33m:\u001b[0m\u001b[1;33m\u001b[0m\u001b[0m\n",
      "\u001b[1;31mKeyError\u001b[0m: 'the label [St. Gall] is not in the [index]'"
     ]
    }
   ],
   "source": [
    "df_frais_cantons_normalized = df_Frais_routes_cantonales.copy()\n",
    "\n",
    "# Sum the different types of expenses (with the police surveillance) in a new column\n",
    "df_frais_cantons_normalized['Expenses'] =\\\n",
    "    df_frais_cantons_normalized[['Constructions', 'Amélio-', 'Entretien Construction',\\\n",
    "                      'Entretien Exploitation']].sum(axis=1)\n",
    "\n",
    "# Drop the now useless columns\n",
    "df_frais_cantons_normalized =\\\n",
    "    df_frais_cantons_normalized[['annee', 'canton', 'Expenses']]\n",
    "\n",
    "# Create a dataframe with the cantons in index and the years in columns\n",
    "df_frais_cantons_normalized = df_frais_cantons_normalized.\\\n",
    "    pivot(index = 'canton', columns = 'annee', values = 'Expenses').\\\n",
    "    rename(columns = lambda x : str(x))\n",
    "\n",
    "# Create a dataframe with the cantons in index and the years in columns for\n",
    "# the road length\n",
    "df_routes_cantons =\\\n",
    "    df_Longueur_routes.pivot(index = 'canton', columns='annee', values = 'Total').\\\n",
    "    rename(columns = lambda x : str(x))\n",
    "\n",
    "# Normalization\n",
    "for cant in df_frais_cantons_normalized.index.values:\n",
    "    for year in df_frais_cantons_normalized.columns:\n",
    "        df_frais_cantons_normalized.loc[cant][year] =\\\n",
    "                    df_frais_cantons_normalized.loc[cant][year]/\\\n",
    "                    df_routes_cantons.loc[cant][year]*100"
   ]
  },
  {
   "cell_type": "markdown",
   "metadata": {},
   "source": [
    "To analyze the correlations, we need to restrain ourselves to the period between 1994 and 2015, because of the lack of information."
   ]
  },
  {
   "cell_type": "code",
   "execution_count": 57,
   "metadata": {
    "scrolled": false
   },
   "outputs": [
    {
     "data": {
      "image/png": "[encoded data removed]",
      "text/plain": [
       "<Figure size 864x504 with 1 Axes>"
      ]
     },
     "metadata": {},
     "output_type": "display_data"
    }
   ],
   "source": [
    "df_victimes_cantons_normalized_toplot = df_victimes_cantons_normalized.copy()\n",
    "\n",
    "# Drop the uninteresting columns\n",
    "df_victimes_cantons_normalized_toplot = df_victimes_cantons_normalized_toplot.\\\n",
    "    drop(columns = ['1992', '1993', '2016', '2017'])\n",
    "\n",
    "# Order the dataframe wrt to 2015\n",
    "df_victimes_cantons_normalized_toplot =\\\n",
    "    df_victimes_cantons_normalized_toplot.sort_values('2015', ascending = False)\n",
    "\n",
    "# Order both dataframes to have a 1-1 correspondance between the rows\n",
    "df_frais_cantons_normalized =\\\n",
    "    df_frais_cantons_normalized.reindex(df_victimes_cantons_normalized_toplot.index)\n",
    "\n",
    "# Plot with our function\n",
    "plot_correlation(x = df_frais_cantons_normalized[1:6], y = df_victimes_cantons_normalized_toplot[1:6],\\\n",
    "                title='Correlation wrt. the expenses in the roads', xlabel='Total expenses',\\\n",
    "                ylabel='Number of victimes', labels=df_frais_cantons_normalized.index[1:6],name_save='correlation_expenses_roads')"
   ]
  },
  {
   "cell_type": "code",
   "execution_count": null,
   "metadata": {},
   "outputs": [],
   "source": []
  },
  {
   "cell_type": "code",
   "execution_count": null,
   "metadata": {},
   "outputs": [],
   "source": []
  },
  {
   "cell_type": "code",
   "execution_count": null,
   "metadata": {},
   "outputs": [],
   "source": []
  },
  {
   "cell_type": "code",
   "execution_count": null,
   "metadata": {},
   "outputs": [],
   "source": []
  },
  {
   "cell_type": "code",
   "execution_count": null,
   "metadata": {},
   "outputs": [],
   "source": []
  },
  {
   "cell_type": "code",
   "execution_count": null,
   "metadata": {},
   "outputs": [],
   "source": []
  },
  {
   "cell_type": "code",
   "execution_count": null,
   "metadata": {},
   "outputs": [],
   "source": []
  },
  {
   "cell_type": "code",
   "execution_count": null,
   "metadata": {},
   "outputs": [],
   "source": []
  }
 ],
 "metadata": {
  "kernelspec": {
   "display_name": "Python 3",
   "language": "python",
   "name": "python3"
  },
  "language_info": {
   "codemirror_mode": {
    "name": "ipython",
    "version": 3
   },
   "file_extension": ".py",
   "mimetype": "text/x-python",
   "name": "python",
   "nbconvert_exporter": "python",
   "pygments_lexer": "ipython3",
   "version": "3.6.5"
  }
 },
 "nbformat": 4,
 "nbformat_minor": 2
}
