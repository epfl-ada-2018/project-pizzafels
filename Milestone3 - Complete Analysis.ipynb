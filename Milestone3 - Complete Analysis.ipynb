{
 "cells": [
  {
   "cell_type": "markdown",
   "metadata": {},
   "source": [
    "# CAR ACCIDENTS IN SWITZERLAND\n",
    "\n",
    "## The Pizzafels\n",
    "\n",
    "### Notebook for milestone 3"
   ]
  },
  {
   "cell_type": "markdown",
   "metadata": {},
   "source": [
    "## Introduction\n",
    "\n",
    "This notebook presents our analysis of the car accidents in Switzerland over the past years. From the different datasets that could be correlated to the accidents that we found online on the Swiss OpenData platform, we wanted to identify the ones with the highest impact, so as to be able to make predictions for the future and advise the government/the cantons on the matter.\n",
    "\n",
    "### Important prior note\n",
    "\n",
    "We tried to keep a clean tracking of the data in English, but it would have been a pain to manually rewrite every French - German - Italian - Romansh (yes, it exists) information in Shakespeare's language. This is why you can see some of the Swiss languages sometimes in our data, for example in the names of the dataframes, or their columns. We are sorry for the inconvenient and we commented it in a way that is hopefully sufficiently clear to understand what is going on even if you solely understand English!"
   ]
  },
  {
   "cell_type": "markdown",
   "metadata": {},
   "source": [
    "### .Imports"
   ]
  },
  {
   "cell_type": "code",
   "execution_count": 1,
   "metadata": {},
   "outputs": [
    {
     "name": "stdout",
     "output_type": "stream",
     "text": [
      "Populating the interactive namespace from numpy and matplotlib\n"
     ]
    }
   ],
   "source": [
    "import os\n",
    "import pandas as pd\n",
    "import json\n",
    "import matplotlib.pyplot as plt\n",
    "import numpy as np\n",
    "import re\n",
    "import math\n",
    "import numpy as np\n",
    "import codecs\n",
    "import folium\n",
    "from scipy.stats.stats import pearsonr\n",
    "from sklearn.preprocessing import normalize\n",
    "\n",
    "%pylab inline\n",
    "pylab.rcParams['figure.figsize'] = (20,12)"
   ]
  },
  {
   "cell_type": "code",
   "execution_count": 2,
   "metadata": {},
   "outputs": [
    {
     "data": {
      "text/html": [
       "<script type=\"text/javascript\">window.PlotlyConfig = {MathJaxConfig: 'local'};</script><script type=\"text/javascript\">if (window.MathJax) {MathJax.Hub.Config({SVG: {font: \"STIX-Web\"}});}</script><script>requirejs.config({paths: { 'plotly': ['https://cdn.plot.ly/plotly-latest.min']},});if(!window._Plotly) {require(['plotly'],function(plotly) {window._Plotly=plotly;});}</script>"
      ],
      "text/vnd.plotly.v1+html": [
       "<script type=\"text/javascript\">window.PlotlyConfig = {MathJaxConfig: 'local'};</script><script type=\"text/javascript\">if (window.MathJax) {MathJax.Hub.Config({SVG: {font: \"STIX-Web\"}});}</script><script>requirejs.config({paths: { 'plotly': ['https://cdn.plot.ly/plotly-latest.min']},});if(!window._Plotly) {require(['plotly'],function(plotly) {window._Plotly=plotly;});}</script>"
      ]
     },
     "metadata": {},
     "output_type": "display_data"
    }
   ],
   "source": [
    "# Plotly is a free library for python (you may pay to use it online)\n",
    "try:\n",
    "    import plotly.plotly as py\n",
    "    import plotly.graph_objs as go\n",
    "    import plotly.figure_factory as FF\n",
    "    from plotly.offline import download_plotlyjs, init_notebook_mode, plot, iplot\n",
    "    init_notebook_mode(connected=True)\n",
    "    plotly_ready = True\n",
    "except:\n",
    "    plotly_ready = False\n",
    "    print('Please install Plotly for better results')"
   ]
  },
  {
   "cell_type": "markdown",
   "metadata": {},
   "source": [
    "### .Constants"
   ]
  },
  {
   "cell_type": "code",
   "execution_count": 3,
   "metadata": {},
   "outputs": [],
   "source": [
    "DATA_FOLDER = 'data_clean'\n",
    "IS_DATE = re.compile(\"^[1-2]{1}[0-9]{3}$\") #will be useful to detect values that correspond to dates\n",
    "\n",
    "geo_center_ch = [46.8, 8.23] # Alggi-Alp\n",
    "\n",
    "CANTON_TOPO_PATH = './ch-cantons.topojson.json'\n",
    "CANTON_TOPO = json.load(open(CANTON_TOPO_PATH)) #GeoJson file of cantons used in Homework2\n",
    "\n",
    "PLOT_FOLDER = 'docs/img/plots/'\n",
    "PLOTLY_FOLDER = 'docs/img/plotly/'\n",
    "DFLY_FOLDER = 'docs/img/dataframesly/'\n",
    "DF_FOLDER = 'docs/img/dataframes/'\n",
    "MAP_FOLDER = 'docs/img/maps/'"
   ]
  },
  {
   "cell_type": "markdown",
   "metadata": {},
   "source": [
    "### .Useful functions"
   ]
  },
  {
   "cell_type": "markdown",
   "metadata": {},
   "source": [
    "#### Function to quickly describe a dataframe"
   ]
  },
  {
   "cell_type": "code",
   "execution_count": 4,
   "metadata": {},
   "outputs": [],
   "source": [
    "def describeDf(df,name=\"DESCRIPTION\",level=2):\n",
    "    \"\"\"\n",
    "    Describe the data. Different levels are possible.\n",
    "    Level 0: Print the title of the dataset\n",
    "    Level 1: Name the different columns\n",
    "    Level 2: Explore the values of each column\n",
    "    \"\"\"\n",
    "    date=[]\n",
    "    \n",
    "    # Explore each column of the dataset\n",
    "    if(level==2):\n",
    "        # Print a header\n",
    "        print(\"______________________________ \" + name+\" ______________________________\\n\")\n",
    "        print(\"\\n\")\n",
    "        for col in df.columns:\n",
    "            # Print the attributes of each column\n",
    "            if((not IS_DATE.match(col)) & (not re.compile(\"[0-9]+ an\").match(col))):\n",
    "                print(\"         ATTRIBUTE: \"+col)\n",
    "                print(\"   \"+str(df[col].unique()))\n",
    "                print(\"\\n\")\n",
    "            else:\n",
    "                date.append(col)\n",
    "        # Print the years we have information on\n",
    "        print(\"         VALUES: \"+str(date))\n",
    "        print(\"\\n\\n\\n\")\n",
    "        return\n",
    "    \n",
    "    # Recover and print the columns of the datasets\n",
    "    elif(level==1):\n",
    "        # Print a header\n",
    "        print(\"______________________________ \" + name+\" ______________________________\\n\")\n",
    "        val = []\n",
    "        # Print the different columns\n",
    "        for col in df.columns:\n",
    "            if((not IS_DATE.match(col)) & (not re.compile(\"[0-9]+ an\").match(col))):\n",
    "                val.append(col)\n",
    "        print(val)\n",
    "        print(\"\\n\\n\\n\")\n",
    "        return\n",
    "    \n",
    "    # Simply print the name of the dataset\n",
    "    elif(level==0):\n",
    "        print(\"   >  \" + name+\"\\n\")\n",
    "    \n",
    "    # Sanity check: the given level does exist\n",
    "    else:\n",
    "        raise NotImplementedError"
   ]
  },
  {
   "cell_type": "markdown",
   "metadata": {},
   "source": [
    "#### Function to restrict the dataframe to a fix period in term of years\n",
    "\n",
    "We need this function as our different datasets are often based on different yearly periods."
   ]
  },
  {
   "cell_type": "code",
   "execution_count": 5,
   "metadata": {},
   "outputs": [],
   "source": [
    "def get_period(df, start=None,end=None):\n",
    "    \"\"\"\n",
    "    Function to keep the columns of interest of a dataset, between a starting and an ending date.\n",
    "    \"\"\"\n",
    "    columns_to_keep = []\n",
    "    dates = []\n",
    "    \n",
    "    # Go through the columns\n",
    "    for elem in df.columns:\n",
    "        # If it is not a date we keep it\n",
    "        if not IS_DATE.match(elem):\n",
    "            columns_to_keep.append(elem)\n",
    "        # Else we store it to see later if we keep it\n",
    "        else:\n",
    "            dates.append(int(elem))\n",
    "    \n",
    "    # Define the starting and ending dates in the case they are not\n",
    "    if start == None:\n",
    "        start = np.min(dates)\n",
    "    if end == None:\n",
    "        end = np.max(dates)\n",
    "    \n",
    "    # Only keep the columns of interest\n",
    "    for date in dates:\n",
    "        if (date<=end) & (date>=start):\n",
    "            columns_to_keep.append(str(date))\n",
    "    \n",
    "    return df[columns_to_keep]"
   ]
  },
  {
   "cell_type": "markdown",
   "metadata": {},
   "source": [
    "#### Function to get the age corresponding to the intervals as input\n",
    "\n",
    "Using this functions will allow us to treat people between 40 and 50 years old as one group for example. Again, this is needed because of the disparity among the datasets, with some of them considering each age category differently, while others  groupped the people in different intervals. This functions allow us to compare and work with those different datasets."
   ]
  },
  {
   "cell_type": "code",
   "execution_count": 6,
   "metadata": {},
   "outputs": [],
   "source": [
    "def map_int_to_age(k,age_max):\n",
    "    \"\"\"\n",
    "    Transform an integer to what is define as an age, i.e. 20 to '20 ans' ('20 years old')\n",
    "    \"\"\"\n",
    "    if(k != 1 and k<age_max):\n",
    "        return '{} ans'.format(k)\n",
    "    if(k == 1):\n",
    "        return '{} an'.format(k)\n",
    "    if(k==age_max):\n",
    "        if (age_max == 100):\n",
    "            return '{} ans ou plus'.format(age_max)\n",
    "        else:\n",
    "            return '{} ans et plus'.format(age_max)"
   ]
  },
  {
   "cell_type": "code",
   "execution_count": 7,
   "metadata": {},
   "outputs": [],
   "source": [
    "def build_age(intervals,age_max):\n",
    "    \"\"\"\n",
    "    INPUT:  intervals: Array corresponding to the delimitation of the wanted intervals.\n",
    "            age_max: The maximal age to consider.\n",
    "    \"\"\"\n",
    "    ages_total = []\n",
    "    \n",
    "    # Build the intervals\n",
    "    for i in range(len(intervals)-1):\n",
    "        ages = []\n",
    "        \n",
    "        # We keep the first limit of the interval as its first element: this will\n",
    "        # allow us to identify the different intervals later\n",
    "        ages.append(intervals[i])\n",
    "        \n",
    "        # Put the corresponding ages in the interval\n",
    "        for k in range(int(intervals[i]),int(intervals[i+1])):\n",
    "            # Use our function\n",
    "            age = map_int_to_age(k,age_max)\n",
    "            ages.append(age)\n",
    "            if(k==100):\n",
    "                break\n",
    "                \n",
    "        # Store the interval we just created\n",
    "        ages_total.append(ages)\n",
    "    \n",
    "    return ages_total"
   ]
  },
  {
   "cell_type": "markdown",
   "metadata": {},
   "source": [
    "#### Mapping for the cantons\n",
    "\n",
    "One recurrent problem we encountered, as presented in introduction, is the fact that different datasets have information in different languages. In general, we can treat them case by case, but it becomes a major issue when it comes to the Swiss cantons. As we wanted to do an in depth analysis and comparison of them, we needed to be able to refer them in different datasets.\n",
    "\n",
    "We thus decided to build a dictionnary of every different mentioning of the cantons we found, with a little function to get the corresponding key, allowing us to compare cantons in different datasets."
   ]
  },
  {
   "cell_type": "code",
   "execution_count": 8,
   "metadata": {},
   "outputs": [],
   "source": [
    "dict_cantons = dict()\n",
    "dict_cantons['AA'] = ['Appenzell Rh.-Ext.','Appenzell Ausserrhoden','AR']\n",
    "dict_cantons['AG'] = ['Argovie','Aargau']\n",
    "dict_cantons['AI'] = ['Appenzell Rh.-Int.','Appenzell Innerrhoden']\n",
    "dict_cantons['BE'] = ['Berne', 'Bern', 'Bern / Berne']\n",
    "dict_cantons['BL'] = ['Bâle-Campagne','Basel-Landschaft']\n",
    "dict_cantons['BS'] = ['Bâle-Ville','Basel-Stadt','Bâle-Ville   2)','Bâle-Ville  2)']\n",
    "dict_cantons['FR'] = ['Fribourg', 'Fribourg / Freiburg']\n",
    "dict_cantons['GE'] = ['Genève', 'Genf']\n",
    "dict_cantons['GL'] = ['Glaris', 'Glarus']\n",
    "dict_cantons['GR'] = ['Grisons', 'Graubünden', 'Grigioni', 'Grischun', 'Graubünden / Grigioni / Grischun']\n",
    "dict_cantons['JU'] = ['Jura']\n",
    "dict_cantons['LU'] = ['Lucerne', 'Luzern']\n",
    "dict_cantons['NE'] = ['Neuchâtel']\n",
    "dict_cantons['NW'] = ['Nidwald', 'Nidwalden']\n",
    "dict_cantons['OW'] = ['Obwald', 'Obwalden']\n",
    "dict_cantons['SG'] = ['St. Gall', 'St. Gallen','Saint-Gall']\n",
    "dict_cantons['SH'] = ['Schaffhouse', 'Schaffhausen']\n",
    "dict_cantons['SO'] = ['Soleure', 'Solothurn']\n",
    "dict_cantons['SZ'] = ['Schwytz', 'Schwyz']\n",
    "dict_cantons['TE'] = ['Tessin', 'Ticino','TI']\n",
    "dict_cantons['TG'] = ['Thurgovie', 'Thurgau']\n",
    "dict_cantons['UR'] = ['Uri']\n",
    "dict_cantons['VS'] = ['Valais', 'Wallis', 'Valais / Wallis']\n",
    "dict_cantons['VD'] = ['Vaud']\n",
    "dict_cantons['ZG'] = ['Zoug', 'Zug']\n",
    "dict_cantons['ZH'] = ['Zurich', 'Zürich']\n",
    "\n",
    "\n",
    "def getKeysByValue(dictOfElements, valueToFind):\n",
    "    '''\n",
    "    Find the key of a canton.\n",
    "    '''\n",
    "    for item  in dictOfElements.items():\n",
    "        if valueToFind==item[0]:\n",
    "            return valueToFind\n",
    "        if valueToFind in item[1]:\n",
    "            return item[0]\n",
    "            break\n",
    "    raise NotImplementedError"
   ]
  },
  {
   "cell_type": "markdown",
   "metadata": {},
   "source": [
    "We also implemented the following function to change all the cantons names to their key"
   ]
  },
  {
   "cell_type": "code",
   "execution_count": 9,
   "metadata": {},
   "outputs": [],
   "source": [
    "def clean_cantons_names(x):\n",
    "    clean = x.copy()\n",
    "    for cant in clean['canton'].unique():\n",
    "        # Check if what is recorded as a 'canton' really is a canton, i.e. is in our\n",
    "        # dictionary (this doesn't keep the Swiss totals for example)\n",
    "        try:\n",
    "            getKeysByValue(dict_cantons, cant)\n",
    "        # If not, we don't keep the rows with those 'cantons'\n",
    "        except:\n",
    "            clean = clean[clean.canton!=cant]\n",
    "\n",
    "    # Replace the cantons name by their keys to compare them below\n",
    "    clean['canton'] = [getKeysByValue(dict_cantons, cant) for cant in clean['canton']]\n",
    "    \n",
    "    return clean"
   ]
  },
  {
   "cell_type": "markdown",
   "metadata": {},
   "source": [
    "And the list of the cantons keys to be able to put every dataframe in the same order"
   ]
  },
  {
   "cell_type": "code",
   "execution_count": 10,
   "metadata": {},
   "outputs": [],
   "source": [
    "list_cantons_keys = []\n",
    "for key in dict_cantons.keys():\n",
    "    list_cantons_keys.append(key)"
   ]
  },
  {
   "cell_type": "markdown",
   "metadata": {},
   "source": [
    "#### Function to give a score to the level of cylinders of the cars"
   ]
  },
  {
   "cell_type": "code",
   "execution_count": 11,
   "metadata": {},
   "outputs": [],
   "source": [
    "def cylScore(vect):\n",
    "    # Give more weight to big cylinders\n",
    "    scoreTot = 0.2*vect[0] + 0.4*vect[1] + 0.6*vect[2] + 0.8*vect[3] + vect[4]\n",
    "    # Normalization\n",
    "    nTot = sum(vect)\n",
    "    scoreNormalized = scoreTot/nTot\n",
    "    return scoreNormalized"
   ]
  },
  {
   "cell_type": "markdown",
   "metadata": {},
   "source": [
    "#### Function to plot a set of data"
   ]
  },
  {
   "cell_type": "code",
   "execution_count": 12,
   "metadata": {},
   "outputs": [],
   "source": [
    "if plotly_ready != True:\n",
    "    def plot_dataframe(x, y=None, title=None, xlabel=None, ylabel=None, labels=None,\\\n",
    "                       rotation=0, number_to_plot=None, bars=None,name_save=None):\n",
    "        if number_to_plot == None:\n",
    "            try:\n",
    "                number_to_plot = y.shape[0]\n",
    "            except:\n",
    "                pass\n",
    "        if bars == None:\n",
    "            plt.figure(figsize=(12,7))\n",
    "            for j in range(number_to_plot):\n",
    "                plt.plot(x, y.iloc[j], label = labels[j])\n",
    "        else:\n",
    "            x.plot(kind=bars, figsize=(12,7))\n",
    "        plt.title(title, fontsize=18)\n",
    "        plt.legend(fontsize=10, loc=0, bbox_to_anchor=(1,1))\n",
    "        plt.xticks(rotation=rotation, fontsize=12)\n",
    "        plt.yticks(fontsize=12)\n",
    "        plt.xlabel(xlabel, fontsize=15)\n",
    "        plt.ylabel(ylabel, fontsize=15)\n",
    "        if (name_save!=None):\n",
    "            plt.savefig(PLOT_FOLDER+name_save+'.png')\n",
    "        plt.show()\n",
    "else:\n",
    "    def plot_dataframe(x, y=None, title=None, xlabel=None, ylabel=None, labels=None,\\\n",
    "                   rotation=0, number_to_plot=None, bars=None,name_save=None,margin=50):\n",
    "        if number_to_plot == None:\n",
    "            try:\n",
    "                number_to_plot = y.shape[0]\n",
    "            except:\n",
    "                pass\n",
    "        traces = []\n",
    "        if bars == None:\n",
    "            for j in range(number_to_plot):\n",
    "                traces.append(go.Scatter(x=x, y=y.iloc[j].values,name=str(labels[j])))\n",
    "\n",
    "        else:\n",
    "            traces.append(go.Bar(y=x[::-1].index.values, x=[d[0] for d in x[::-1].values],orientation = 'h'))\n",
    "\n",
    "        layout = go.Layout(\n",
    "            title='<b>'+title+'</b>',\n",
    "            titlefont=dict(\n",
    "                    family='Courier New, monospace',\n",
    "                    size=18,\n",
    "                    color='#7f7f7f',\n",
    "\n",
    "                ),\n",
    "            xaxis=dict(\n",
    "                title=xlabel,\n",
    "                titlefont=dict(\n",
    "                    family='Courier New, monospace',\n",
    "                    size=15,\n",
    "                    color='#7f7f7f'\n",
    "                )\n",
    "            ),\n",
    "            yaxis=dict(\n",
    "                title=ylabel,\n",
    "                titlefont=dict(\n",
    "                    family='Courier New, monospace',\n",
    "                    size=15,\n",
    "                    color='#7f7f7f'\n",
    "                )\n",
    "                \n",
    "            ),\n",
    "            margin=go.layout.Margin(\n",
    "                l=margin,\n",
    "                r=50,\n",
    "                b=50,\n",
    "                t=50,\n",
    "                pad=4\n",
    "    ),\n",
    "        )\n",
    "\n",
    "        fig = go.Figure(data=traces,layout=layout)\n",
    "        iplot(fig)\n",
    "        if name_save!=None:\n",
    "            plot(fig,filename=PLOTLY_FOLDER+name_save+'.html',auto_open=False)\n",
    "        \n",
    "    "
   ]
  },
  {
   "cell_type": "markdown",
   "metadata": {},
   "source": [
    "#### Function to scatter plot correlations"
   ]
  },
  {
   "cell_type": "code",
   "execution_count": 139,
   "metadata": {},
   "outputs": [],
   "source": [
    "if plotly_ready != True:\n",
    "    def plot_correlation(x, y, title=None, xlabel=None, ylabel=None, labels=None,\\\n",
    "                       rotation=0, number_to_plot=None,name_save=None):\n",
    "        if number_to_plot == None:\n",
    "            try:\n",
    "                number_to_plot = y.shape[0]\n",
    "            except:\n",
    "                pass\n",
    "        plt.figure(figsize=(12,7))\n",
    "        for j in range(number_to_plot):\n",
    "            plt.scatter(x.iloc[j], y.iloc[j], label = labels[j])\n",
    "        plt.title(title, fontsize=18)\n",
    "        plt.legend(fontsize=10, loc=\"best\", bbox_to_anchor=(1,1))\n",
    "        plt.xticks(rotation=rotation, fontsize=12)\n",
    "        plt.yticks(fontsize=12)\n",
    "        plt.xlabel(xlabel, fontsize=15)\n",
    "        plt.ylabel(ylabel, fontsize=15)\n",
    "        if (name_save!=None):\n",
    "            plt.savefig(PLOT_FOLDER+name_save+'.png')\n",
    "        plt.show()\n",
    "else:\n",
    "    def plot_correlation(x, y, title=None, xlabel=None, ylabel=None, labels=None,\\\n",
    "                   rotation=0, number_to_plot=None,name_save=None):\n",
    "        if number_to_plot == None:\n",
    "            try:\n",
    "                number_to_plot = y.shape[0]\n",
    "            except:\n",
    "                pass\n",
    "        traces = []\n",
    "        for j in range(number_to_plot):\n",
    "            traces.append(go.Scatter(x=x.iloc[j].values,y=y.iloc[j].values,\\\n",
    "                                     name=labels[j],mode = 'markers'))\n",
    "        layout = go.Layout(\n",
    "            title=title,\n",
    "            titlefont=dict(\n",
    "                    family='Courier New, monospace',\n",
    "                    size=18,\n",
    "                    color='#7f7f7f'\n",
    "                ),\n",
    "            xaxis=dict(\n",
    "                title=xlabel,\n",
    "                titlefont=dict(\n",
    "                    family='Courier New, monospace',\n",
    "                    size=15,\n",
    "                    color='#7f7f7f'\n",
    "                )\n",
    "            ),\n",
    "            yaxis=dict(\n",
    "                title=ylabel,\n",
    "                titlefont=dict(\n",
    "                    family='Courier New, monospace',\n",
    "                    size=15,\n",
    "                    color='#7f7f7f'\n",
    "                )\n",
    "            )\n",
    "        )\n",
    "        fig = go.Figure(data=traces,layout=layout)\n",
    "        iplot(fig,filename='test_output/test.html')\n",
    "        if name_save!=None:\n",
    "            plot(fig,filename=PLOTLY_FOLDER+name_save+'.html',auto_open=False)\n",
    "    "
   ]
  },
  {
   "cell_type": "markdown",
   "metadata": {},
   "source": [
    "#### Function to print the correlations and print the interesting cantons"
   ]
  },
  {
   "cell_type": "code",
   "execution_count": 145,
   "metadata": {},
   "outputs": [],
   "source": [
    "def plot_high_correlation(x, y, title=None, xlabel=None, ylabel=None,\\\n",
    "                   labels=None, rotation=0, number_to_plot=None,name_save=None,\\\n",
    "                         alpha=0.05, threshold_of_interest=0.75):\n",
    "    \n",
    "    # Make sure both indexes are the same\n",
    "    x = x.reindex(y.index)\n",
    "\n",
    "    print('Significant correlations:')\n",
    "\n",
    "    # Check the correlation coefficient for every canton to keep the interesting ones\n",
    "    low_correlation = []\n",
    "    i = 0\n",
    "    for j in range(26):\n",
    "        # Pearson coefficient\n",
    "        pear = pearsonr(x.iloc[j,:],\\\n",
    "                        y.iloc[j,:])\n",
    "        # If not interesting: store it\n",
    "        if abs(pear[0]) < threshold_of_interest:\n",
    "            low_correlation.append(j)\n",
    "        # If interesting: print tje correlation\n",
    "        if pear[1] < alpha:\n",
    "            i += 1\n",
    "            print(i, 'Canton:', x.index[j], '/ Correlation:', pear[0])\n",
    "\n",
    "    # Only keep the interesting cantons for the plot\n",
    "    high_correlation_x = x.drop(x.index[[low_correlation]])\n",
    "    high_correlation_y = y.drop(y.index[[low_correlation]])\n",
    "\n",
    "    print('Plot the cantons with a correlation of more than {}:'.\\\n",
    "          format(threshold_of_interest))\n",
    "\n",
    "    # Plot with our function\n",
    "    plot_correlation(x = high_correlation_x, y = high_correlation_y,title=title,\\\n",
    "                     xlabel=xlabel, ylabel=ylabel, labels=high_correlation_x.index, rotation=rotation,\\\n",
    "                     number_to_plot=number_to_plot,name_save=name_save)"
   ]
  },
  {
   "cell_type": "markdown",
   "metadata": {},
   "source": [
    "#### Function to save results in order to put in the datastory"
   ]
  },
  {
   "cell_type": "code",
   "execution_count": 14,
   "metadata": {},
   "outputs": [],
   "source": [
    "def save_it(data, name):\n",
    "    if (type(data) == type(pd.DataFrame())):\n",
    "        if plotly_ready != True:\n",
    "            with codecs.open(DF_FOLDER+name+'.html','w',\"utf-8\") as f: \n",
    "                f.write(data.to_html())\n",
    "                return\n",
    "        else:\n",
    "            sample_data_table = FF.create_table(data,index=True)\n",
    "            plot(sample_data_table,filename=DFLY_FOLDER+name+'.html',auto_open=False)\n",
    "            return\n",
    "    if (type(data) == type(NewMap())):\n",
    "        data.save(MAP_FOLDER+name+\".html\")\n",
    "        return\n",
    "    raise NotImplementedError"
   ]
  },
  {
   "cell_type": "markdown",
   "metadata": {},
   "source": [
    "#### Homemade rewriting of the folium\n",
    "\n",
    "Since the `choropleth` method in folium is depreciated and doesn't display the `NaN values` right, we decide to add a new function to folium to make choropleth map."
   ]
  },
  {
   "cell_type": "code",
   "execution_count": 15,
   "metadata": {},
   "outputs": [],
   "source": [
    "import branca\n",
    "from folium.folium import color_brewer, StepColormap\n",
    "\n",
    "class NewMap(folium.Map):\n",
    "\n",
    "    def color_map(self, data, columns, topo_data, objects,\n",
    "                  legend=None, all_columns = None, layer_name ='', color_domain=[], fill_opacity=0.8, nan_opacity=0.3,\n",
    "                  line_weight=1, line_opacity=1, key_on='id',show=True, multiMap=False):\n",
    "\n",
    "        \"\"\"\n",
    "        data: dataframe\n",
    "        columns: tuple of the column headers of the keys and the data to be used\n",
    "        topo_data: topojson file\n",
    "        objects: objects path of your topo json file\n",
    "        layer_name: Name of the color layer. Put 'None' if you don't want to print any \n",
    "                    legend\n",
    "        color_domain: list of the color scale in legend, it is automatically defined with\n",
    "                        the minimum and maximum of your data if no list is provided.\n",
    "        multiMap: bool that informs wether it is possible to change the map interactively or not,\n",
    "                        if yes, we want that both maps plotted interactively use the same color scale\n",
    "        \"\"\"\n",
    "        \n",
    "        # Fix the color scale: from yellow to red in our case\n",
    "\n",
    "        if all_columns == None:\n",
    "            all_columns = [columns[1]]\n",
    "                # only for interactive maps with two input choices\n",
    "        lowLim=min( [min(data[all_columns[i]]) for i in range(0,len(all_columns))])   #we select overall min of both sets for the min of color scale\n",
    "        upLim=max([max(data[all_columns[i]]) for i in range(0,len(all_columns))])    #same for max value of color scale\n",
    "        colorscale = branca.colormap.linear.YlOrRd_09.scale(lowLim,upLim)\n",
    "        \n",
    "        # Redefine the styling function to blacken the NAN entries and color the other \n",
    "        # entries with the right color\n",
    "        def style_function(feature):\n",
    "            variation = (data[data[columns[0]] == feature[key_on]][columns[1]].values)\n",
    "            try:\n",
    "                return {\n",
    "                    'weight': line_weight,\n",
    "                    'opacity': line_opacity,\n",
    "                    'fillOpacity': fill_opacity,\n",
    "                    'color': 'black',\n",
    "                    'fillColor': colorscale(variation)\n",
    "                }\n",
    "            except:\n",
    "                return {\n",
    "                'weight': line_weight,\n",
    "                'opacity': line_opacity,\n",
    "                'fillOpacity': nan_opacity,\n",
    "                'color': 'black',\n",
    "                'fillColor': '#black'\n",
    "                }\n",
    "\n",
    "        # Define the colored layer using the predefine styling function\n",
    "        geo_json = folium.TopoJson(topo_data,\n",
    "                                   objects,\n",
    "                                   style_function = style_function,\n",
    "                                   name = layer_name,\n",
    "                                   show=show\n",
    "                                  )\n",
    "        \n",
    "        # Add the colored layer to our map\n",
    "        self.add_child(geo_json)\n",
    "\n",
    "        # If you want a color scale legend, add it\n",
    "        if legend != None:\n",
    "            \n",
    "            # If the scale is not defined, define it automatically through the minimal\n",
    "            # and maximal values\n",
    "            if not color_domain:\n",
    "                color_domain = np.arange(lowLim, upLim,(upLim-lowLim)/10)\n",
    "                \n",
    "            # Create the legend with the existing function\n",
    "            brewed = color_brewer('YlOrRd', n=len(color_domain)-1)\n",
    "            color_scale = StepColormap(\n",
    "            brewed[0:len(color_domain)-1],    \n",
    "            index=color_domain,\n",
    "            vmin=color_domain[0],\n",
    "            vmax=color_domain[-1],\n",
    "            caption=legend,\n",
    "            )\n",
    "            \n",
    "            # Add the legend to the map\n",
    "            self.add_child(color_scale)"
   ]
  },
  {
   "cell_type": "markdown",
   "metadata": {},
   "source": [
    "#### Function to create a map\n",
    "Easy function to transform a dataframe with cantons to a map"
   ]
  },
  {
   "cell_type": "code",
   "execution_count": 16,
   "metadata": {},
   "outputs": [],
   "source": [
    "def create_map(dataframe,columns,legend,column_canton='canton'):\n",
    "    layerControl = True\n",
    "    if (type(columns)!=type([])):\n",
    "        columns=[columns]\n",
    "        layerControl = False\n",
    "    MAP = NewMap(geo_center_ch,  zoom_start=8, tiles='cartodbpositron')\n",
    "    show = True\n",
    "    for elem in reversed(columns):\n",
    "        MAP.color_map(data=dataframe,\n",
    "                      columns=[column_canton, elem],\n",
    "                      all_columns=columns,\n",
    "                      topo_data=CANTON_TOPO,\n",
    "                      objects='objects.cantons',\n",
    "                      layer_name = str(elem),\n",
    "                      legend=legend,\n",
    "                    show=show)\n",
    "        show = False\n",
    "        legend = None\n",
    "    if layerControl:\n",
    "        folium.LayerControl().add_to(MAP)\n",
    "    return MAP"
   ]
  },
  {
   "cell_type": "markdown",
   "metadata": {},
   "source": [
    "### .Datasets Loading"
   ]
  },
  {
   "cell_type": "markdown",
   "metadata": {},
   "source": [
    "As mentioned, to perform our analysis, we took many datasets from the Swiss OpenData website. All these datasets are excels spreedsheet in differents forms, we hence needed to do a pre-treatment to transform them into clear `csv`\n",
    " files. They are stored in the folder `data_clean`.\n",
    "\n",
    "The pre-treatment was huge since the datasets were sometimes split into multiple spreedsheets (on for each year) for example. Moreover, the excel files were organized to be visually good looking, with many merged cells and various hierachical levels in the data, thus requiring more work to clean and ready it for the future processings with pandas. "
   ]
  },
  {
   "cell_type": "markdown",
   "metadata": {},
   "source": [
    "#### Snapshot of our different datasets"
   ]
  },
  {
   "cell_type": "code",
   "execution_count": 17,
   "metadata": {
    "scrolled": false
   },
   "outputs": [
    {
     "name": "stdout",
     "output_type": "stream",
     "text": [
      "  DATAFRAMES AVAILABLES:\n",
      "\n",
      "   >  df_Qualite_vie_agglo\n",
      "\n",
      "   >  df_Depense_menages_canton\n",
      "\n",
      "   >  df_hacked_accident\n",
      "\n",
      "   >  df_Population_age_1992\n",
      "\n",
      "   >  df_Accident_cantons\n",
      "\n",
      "   >  df_Frais_routes_cantonales\n",
      "\n",
      "   >  df_Frais_routes_nationales\n",
      "\n",
      "   >  df_Population_canton_1992\n",
      "\n",
      "   >  df_Longueur_routes\n",
      "\n",
      "   >  df_Accident_type_route\n",
      "\n",
      "   >  df_proportion_permis\n",
      "\n",
      "   >  df_Population_2010\n",
      "\n",
      "   >  df_Accident_circonstances\n",
      "\n",
      "   >  df_Recettes_routes\n",
      "\n",
      "   >  df_Besoin_sante\n",
      "\n",
      "   >  df_Accident_objets\n",
      "\n",
      "   >  df_Voitures\n",
      "\n",
      "   >  df_Frais_routes_communales\n",
      "\n",
      "   >  df_Accident_victimes\n",
      "\n"
     ]
    }
   ],
   "source": [
    "dataframes = {}\n",
    "print(\"  DATAFRAMES AVAILABLES:\\n\")\n",
    "\n",
    "for file in os.listdir(DATA_FOLDER):\n",
    "    # Load the filename\n",
    "    filename = os.fsdecode(file)\n",
    "    # Name the corresponding DataFrame \"df_.....\"\n",
    "    tablename = \"df_\"+os.path.splitext(os.path.splitext(filename)[0])[0]\n",
    "    # Load the values in the DataFrame\n",
    "    globals()[tablename] = pd.read_csv(DATA_FOLDER + '/' + filename)\n",
    "    try:\n",
    "        globals()[tablename] = globals()[tablename].drop(columns=['Unnamed: 0'])\n",
    "    except:\n",
    "        pass\n",
    "    # Print the title of the datasets\n",
    "    describeDf(globals()[tablename], name=tablename,level=0)\n",
    "    dataframes[tablename] = globals()[tablename] "
   ]
  },
  {
   "cell_type": "markdown",
   "metadata": {},
   "source": [
    "# ANALYSIS"
   ]
  },
  {
   "cell_type": "markdown",
   "metadata": {},
   "source": [
    "## 1. Accidents in Switzerland: A description"
   ]
  },
  {
   "cell_type": "markdown",
   "metadata": {},
   "source": [
    "### 1.1. Who?"
   ]
  },
  {
   "cell_type": "markdown",
   "metadata": {},
   "source": [
    "#### 1.1.1 Sex and age "
   ]
  },
  {
   "cell_type": "markdown",
   "metadata": {},
   "source": [
    "In this part, we work with the dataset `df_Population_2010`, which records the population by canton, sex and age between 2010 \\& 2017. We change the disposition of the dataframe and group it by age and sex for each year. We then consider `df_Population_Age_1992` to have access to the population by age and sex between 1992 \\& 2010 and put it in the same form. \n",
    "\n",
    "This will allow us to perform a normalization of the number of accidents (by 10'000 people in that case) to have an insight on the more dangerous categories of people."
   ]
  },
  {
   "cell_type": "markdown",
   "metadata": {},
   "source": [
    "##### Sex and age of the population on a yearly basis"
   ]
  },
  {
   "cell_type": "markdown",
   "metadata": {},
   "source": [
    "2010-2017"
   ]
  },
  {
   "cell_type": "code",
   "execution_count": 18,
   "metadata": {},
   "outputs": [],
   "source": [
    "# Build the age intervals corresponding to the ones in 'df_Accident_objets' with our function\n",
    "ages = build_age(df_Accident_objets.age_index.unique(),100)\n",
    "\n",
    "# Group the population by the age intervals to be considered\n",
    "df_Population_2010_trancheAge = df_Population_2010.copy()\n",
    "for age in ages:\n",
    "    # Sum the population of each age in the interval considered and indexing the column\n",
    "    # by the index of each interval (the number stored at position 0)\n",
    "    df_Population_2010_trancheAge[str(age[0])] =\\\n",
    "            df_Population_2010_trancheAge.loc[:,age[1:]].sum(axis=1)\n",
    "\n",
    "# Define the columns of the dataframe we want to keep, i.e. the population for each interval\n",
    "# of ages, the corresponding year and the sex\n",
    "toKeep = []\n",
    "for age in ages :\n",
    "    toKeep.append(str(age[0]))\n",
    "toKeep.append('annee')\n",
    "toKeep.append('sexe')\n",
    "\n",
    "# We are only interested in the total Swiss population independant of the marital status\n",
    "# We also delete the rows containing the sum of both men and women\n",
    "df_pop_Suisse =\\\n",
    "        df_Population_2010_trancheAge[(df_Population_2010_trancheAge['canton'] == 'Suisse')\\\n",
    "                    & (df_Population_2010_trancheAge.etat_civil == \"Etat civil - Total\")\\\n",
    "                    & (df_Population_2010_trancheAge['sexe'] != 'Sexe - Total')]\n",
    "\n",
    "# We only keep the wanted columns\n",
    "df_pop_Suisse = df_pop_Suisse[toKeep]\n",
    "\n",
    "# Group by year and sex and transpose the dataframe to have each sex & age category\n",
    "# as a new row and the corresponding years as the different columns\n",
    "df_pop_Suisse['annee'] = df_pop_Suisse['annee'].map(int).map(str)\n",
    "df_pop_Suisse = df_pop_Suisse.groupby(['annee','sexe']).sum()\n",
    "df_pop_Suisse = df_pop_Suisse.transpose()\n",
    "df_pop_Suisse.index = df_pop_Suisse.index.map(float)"
   ]
  },
  {
   "cell_type": "markdown",
   "metadata": {},
   "source": [
    "1992-2010"
   ]
  },
  {
   "cell_type": "code",
   "execution_count": 19,
   "metadata": {},
   "outputs": [
    {
     "name": "stderr",
     "output_type": "stream",
     "text": [
      "/Users/loris/anaconda3/lib/python3.6/site-packages/pandas/core/indexing.py:979: FutureWarning:\n",
      "\n",
      "\n",
      "Passing list-likes to .loc or [] with any missing label will raise\n",
      "KeyError in the future, you can use .reindex() as an alternative.\n",
      "\n",
      "See the documentation here:\n",
      "https://pandas.pydata.org/pandas-docs/stable/indexing.html#deprecate-loc-reindex-listlike\n",
      "\n"
     ]
    }
   ],
   "source": [
    "# Delete the rows corresponding to the totals of the different age and sex categories\n",
    "df_pop_Suisse_1992 = df_Population_age_1992[(df_Population_age_1992.sexe != 'Sexe - Total')\\\n",
    "                                        & (df_Population_age_1992.age != 'Age - Total')]\n",
    "\n",
    "# Group by sex and age and compute the corresponding population\n",
    "df_pop_Suisse_1992 = df_pop_Suisse_1992.groupby(['age','sexe']).sum().transpose()\n",
    "\n",
    "# As before, we create the wanted age intervals\n",
    "for age in ages:\n",
    "    # For the different sexes\n",
    "    for s in df_Population_age_1992[df_Population_age_1992.sexe != 'Sexe - Total'].sexe.unique():\n",
    "        # Get the columns corresponding to the ages in the interval and the wanted sex\n",
    "        # to be able to sum them and get the total corresponding population\n",
    "        index_to = [(annee,s) for annee in age[1:]]\n",
    "        # Sum the population of each age in the interval considered and indexing the column\n",
    "        # by the index of each interval (the number stored at position 0)\n",
    "        df_pop_Suisse_1992[(str(age[0]),s)] = df_pop_Suisse_1992.loc[:,index_to].sum(axis=1)\n",
    "\n",
    "# Trick to redefine the age as unique column index\n",
    "df_pop_Suisse_1992 = df_pop_Suisse_1992.transpose().reset_index().set_index('age').transpose()\n",
    "\n",
    "# Keep only the columns interesting us, i.e. the different intervals\n",
    "toKeep = []\n",
    "for age in ages :\n",
    "    toKeep.append(str(age[0]))\n",
    "df_pop_Suisse_1992 = df_pop_Suisse_1992[toKeep]\n",
    "# Transpose the data to have it in the same form as df_pop_Suisse\n",
    "df_pop_Suisse_1992 = df_pop_Suisse_1992.transpose()"
   ]
  },
  {
   "cell_type": "markdown",
   "metadata": {},
   "source": [
    "Merge both datasets"
   ]
  },
  {
   "cell_type": "code",
   "execution_count": 20,
   "metadata": {},
   "outputs": [],
   "source": [
    "# From 1992 to 2010\n",
    "for year in range(1992,2010):\n",
    "    # For each sex\n",
    "    for sexe in np.unique([sexe[1] for sexe in df_pop_Suisse.columns.values]):\n",
    "        # Insert the population corresponding to the tuple\n",
    "        df_pop_Suisse[(str(year),sexe)] =\\\n",
    "                    df_pop_Suisse_1992.loc[df_pop_Suisse_1992.sexe==sexe][str(year)]"
   ]
  },
  {
   "cell_type": "markdown",
   "metadata": {},
   "source": [
    "##### Number of accidents normalized for each category"
   ]
  },
  {
   "cell_type": "code",
   "execution_count": 21,
   "metadata": {},
   "outputs": [],
   "source": [
    "df_Accident_objets_normalized = df_Accident_objets.copy()\n",
    "\n",
    "# Delet the accident for which the sex or age is unknown\n",
    "df_Accident_objets_normalized =\\\n",
    "            df_Accident_objets_normalized[(df_Accident_objets_normalized.sexe_index!=9)\\\n",
    "                                          &(df_Accident_objets_normalized.age_index != 999)]\n",
    "\n",
    "# Go through each year, sex and age category of the population and normalize the number\n",
    "# of accident by 10'000 people\n",
    "for year,sexe in df_pop_Suisse.columns.values:\n",
    "    for age in df_pop_Suisse.index.values:\n",
    "        # At each corresponding location, normalize by the corresponding population\n",
    "        df_Accident_objets_normalized.loc[(df_Accident_objets_normalized.age_index==age) &\\\n",
    "                                           (df_Accident_objets_normalized.sexe==sexe),year]\\\n",
    "        = df_Accident_objets_normalized[year]*10000 /\\\n",
    "                            df_pop_Suisse.loc[df_pop_Suisse.index==age,year][sexe].values[0]"
   ]
  },
  {
   "cell_type": "code",
   "execution_count": 22,
   "metadata": {
    "scrolled": false
   },
   "outputs": [
    {
     "data": {
      "application/vnd.plotly.v1+json": {
       "config": {
        "linkText": "Export to plot.ly",
        "plotlyServerURL": "https://plot.ly",
        "showLink": true
       },
       "data": [
        {
         "name": "('Homme', '20 ans')",
         "type": "scatter",
         "uid": "d581dce3-503b-4929-8f1c-d645045103e6",
         "x": [
          "1992",
          "1993",
          "1994",
          "1995",
          "1996",
          "1997",
          "1998",
          "1999",
          "2000",
          "2001",
          "2002",
          "2003",
          "2004",
          "2005",
          "2006",
          "2007",
          "2008",
          "2009",
          "2010",
          "2011",
          "2012",
          "2013",
          "2014",
          "2015",
          "2016",
          "2017"
         ],
         "y": [
          127.97152421712784,
          117.85294964666271,
          125.85969738651997,
          115.4262071559547,
          92.97720247295207,
          111.42669871094607,
          117.7921826625387,
          130.88376560999038,
          118.05961426066627,
          131.88269982400402,
          123.93983942101094,
          123.01094684572848,
          113.14438741352379,
          89.19062832800851,
          87.9213358727909,
          90.96276211925743,
          76.84632857112533,
          68.90397027997426,
          60.46167090432242,
          61.10262463546731,
          55.48237735999682,
          45.5995419597579,
          47.26826273787599,
          40.24592484730818,
          43.55418180358468,
          39.736441966548405
         ]
        },
        {
         "name": "('Homme', '18-19 ans')",
         "type": "scatter",
         "uid": "ded54204-7aa2-42f2-b588-d9de39b59d0c",
         "x": [
          "1992",
          "1993",
          "1994",
          "1995",
          "1996",
          "1997",
          "1998",
          "1999",
          "2000",
          "2001",
          "2002",
          "2003",
          "2004",
          "2005",
          "2006",
          "2007",
          "2008",
          "2009",
          "2010",
          "2011",
          "2012",
          "2013",
          "2014",
          "2015",
          "2016",
          "2017"
         ],
         "y": [
          91.26244487884712,
          85.54821169080765,
          79.80097828307717,
          79.26361544362057,
          84.05613487964138,
          78.97298612801168,
          86.30755341558829,
          87.90588898943483,
          97.5750911511083,
          99.3093538518587,
          89.94107309004445,
          91.68356073893534,
          88.27595585069011,
          76.58038684937686,
          73.98287412928701,
          79.97919240522792,
          68.300947741833,
          65.1153083585516,
          55.68659624653883,
          59.96238062082368,
          49.94667426954309,
          47.05107643941245,
          43.54014021401086,
          37.90539144804792,
          37.81604525424259,
          35.44556346772223
         ]
        },
        {
         "name": "('Homme', '21-29 ans')",
         "type": "scatter",
         "uid": "3bd9ed82-2ced-48aa-a11e-efa6f4a88568",
         "x": [
          "1992",
          "1993",
          "1994",
          "1995",
          "1996",
          "1997",
          "1998",
          "1999",
          "2000",
          "2001",
          "2002",
          "2003",
          "2004",
          "2005",
          "2006",
          "2007",
          "2008",
          "2009",
          "2010",
          "2011",
          "2012",
          "2013",
          "2014",
          "2015",
          "2016",
          "2017"
         ],
         "y": [
          79.56253162992124,
          75.56845017205316,
          75.1042035049991,
          74.62260862216495,
          67.3040993515771,
          67.51663860155564,
          73.53618798042503,
          76.9993893151882,
          74.37763777601076,
          72.57855476512772,
          71.15534309769295,
          68.91139962904836,
          63.9183136768102,
          58.51152896450396,
          55.88570337014786,
          54.139600694603956,
          50.19148456859652,
          48.99651162533484,
          42.968643196210856,
          39.242457152904926,
          35.12225403191224,
          33.92148044473037,
          31.927447421544134,
          29.64489162379155,
          30.09258346898315,
          28.468725832162754
         ]
        },
        {
         "name": "('Femme', '20 ans')",
         "type": "scatter",
         "uid": "d114cebe-c577-4b96-ad73-cfa76e1c01e8",
         "x": [
          "1992",
          "1993",
          "1994",
          "1995",
          "1996",
          "1997",
          "1998",
          "1999",
          "2000",
          "2001",
          "2002",
          "2003",
          "2004",
          "2005",
          "2006",
          "2007",
          "2008",
          "2009",
          "2010",
          "2011",
          "2012",
          "2013",
          "2014",
          "2015",
          "2016",
          "2017"
         ],
         "y": [
          41.20429919989535,
          47.217153284671525,
          39.88294709019681,
          42.637724695963946,
          36.786490223187826,
          33.91098366787184,
          38.310313539671334,
          41.47097032077546,
          47.580899667419224,
          48.58050144556615,
          46.431321309409924,
          43.859649122807014,
          37.71827706635623,
          39.1470547598213,
          44.90642594998746,
          45.59304818869203,
          33.49788434414669,
          37.03544205675897,
          32.691987339663505,
          24.248202109800836,
          27.28738578575268,
          26.002259212685697,
          31.368167755242357,
          26.29497402569639,
          25.347732549470685,
          25.532472067039105
         ]
        },
        {
         "name": "('Homme', '30-39 ans')",
         "type": "scatter",
         "uid": "b05e310e-c95b-47e7-9a17-211fe11c6ef6",
         "x": [
          "1992",
          "1993",
          "1994",
          "1995",
          "1996",
          "1997",
          "1998",
          "1999",
          "2000",
          "2001",
          "2002",
          "2003",
          "2004",
          "2005",
          "2006",
          "2007",
          "2008",
          "2009",
          "2010",
          "2011",
          "2012",
          "2013",
          "2014",
          "2015",
          "2016",
          "2017"
         ],
         "y": [
          43.85257964595568,
          41.86802701874158,
          41.974275572591196,
          41.39282889139855,
          39.75456733614804,
          40.106225520137905,
          39.88331657794552,
          44.419720969541714,
          41.375974770262296,
          42.328751669688586,
          39.88892191525945,
          39.29849452456446,
          35.808270359197486,
          33.40642065199404,
          30.303242744923462,
          31.123444493564925,
          28.826622590790468,
          28.567288755006434,
          27.008355989053847,
          24.289025279297313,
          23.592174014482637,
          23.07079668753372,
          22.080219186566072,
          19.29266829009428,
          20.161949140911442,
          21.087092114235485
         ]
        }
       ],
       "layout": {
        "margin": {
         "b": 50,
         "l": 50,
         "pad": 4,
         "r": 50,
         "t": 50
        },
        "title": "<b>Yearly accident for the top 5 categories</b>",
        "titlefont": {
         "color": "#7f7f7f",
         "family": "Courier New, monospace",
         "size": 18
        },
        "xaxis": {
         "title": "Year",
         "titlefont": {
          "color": "#7f7f7f",
          "family": "Courier New, monospace",
          "size": 15
         }
        },
        "yaxis": {
         "title": "Accidents per 10'000 people",
         "titlefont": {
          "color": "#7f7f7f",
          "family": "Courier New, monospace",
          "size": 15
         }
        }
       }
      },
      "text/html": [
       "<div id=\"c2c66acd-7611-4eac-b1ac-3ec77ef8d91d\" style=\"height: 525px; width: 100%;\" class=\"plotly-graph-div\"></div><script type=\"text/javascript\">require([\"plotly\"], function(Plotly) { window.PLOTLYENV=window.PLOTLYENV || {};window.PLOTLYENV.BASE_URL=\"https://plot.ly\";Plotly.newPlot(\"c2c66acd-7611-4eac-b1ac-3ec77ef8d91d\", [{\"name\": \"('Homme', '20 ans')\", \"x\": [\"1992\", \"1993\", \"1994\", \"1995\", \"1996\", \"1997\", \"1998\", \"1999\", \"2000\", \"2001\", \"2002\", \"2003\", \"2004\", \"2005\", \"2006\", \"2007\", \"2008\", \"2009\", \"2010\", \"2011\", \"2012\", \"2013\", \"2014\", \"2015\", \"2016\", \"2017\"], \"y\": [127.97152421712784, 117.85294964666271, 125.85969738651997, 115.4262071559547, 92.97720247295207, 111.42669871094607, 117.7921826625387, 130.88376560999038, 118.05961426066627, 131.88269982400402, 123.93983942101094, 123.01094684572848, 113.14438741352379, 89.19062832800851, 87.9213358727909, 90.96276211925743, 76.84632857112533, 68.90397027997426, 60.46167090432242, 61.10262463546731, 55.48237735999682, 45.5995419597579, 47.26826273787599, 40.24592484730818, 43.55418180358468, 39.736441966548405], \"type\": \"scatter\", \"uid\": \"d581dce3-503b-4929-8f1c-d645045103e6\"}, {\"name\": \"('Homme', '18-19 ans')\", \"x\": [\"1992\", \"1993\", \"1994\", \"1995\", \"1996\", \"1997\", \"1998\", \"1999\", \"2000\", \"2001\", \"2002\", \"2003\", \"2004\", \"2005\", \"2006\", \"2007\", \"2008\", \"2009\", \"2010\", \"2011\", \"2012\", \"2013\", \"2014\", \"2015\", \"2016\", \"2017\"], \"y\": [91.26244487884712, 85.54821169080765, 79.80097828307717, 79.26361544362057, 84.05613487964138, 78.97298612801168, 86.30755341558829, 87.90588898943483, 97.5750911511083, 99.3093538518587, 89.94107309004445, 91.68356073893534, 88.27595585069011, 76.58038684937686, 73.98287412928701, 79.97919240522792, 68.300947741833, 65.1153083585516, 55.68659624653883, 59.96238062082368, 49.94667426954309, 47.05107643941245, 43.54014021401086, 37.90539144804792, 37.81604525424259, 35.44556346772223], \"type\": \"scatter\", \"uid\": \"ded54204-7aa2-42f2-b588-d9de39b59d0c\"}, {\"name\": \"('Homme', '21-29 ans')\", \"x\": [\"1992\", \"1993\", \"1994\", \"1995\", \"1996\", \"1997\", \"1998\", \"1999\", \"2000\", \"2001\", \"2002\", \"2003\", \"2004\", \"2005\", \"2006\", \"2007\", \"2008\", \"2009\", \"2010\", \"2011\", \"2012\", \"2013\", \"2014\", \"2015\", \"2016\", \"2017\"], \"y\": [79.56253162992124, 75.56845017205316, 75.1042035049991, 74.62260862216495, 67.3040993515771, 67.51663860155564, 73.53618798042503, 76.9993893151882, 74.37763777601076, 72.57855476512772, 71.15534309769295, 68.91139962904836, 63.9183136768102, 58.51152896450396, 55.88570337014786, 54.139600694603956, 50.19148456859652, 48.99651162533484, 42.968643196210856, 39.242457152904926, 35.12225403191224, 33.92148044473037, 31.927447421544134, 29.64489162379155, 30.09258346898315, 28.468725832162754], \"type\": \"scatter\", \"uid\": \"3bd9ed82-2ced-48aa-a11e-efa6f4a88568\"}, {\"name\": \"('Femme', '20 ans')\", \"x\": [\"1992\", \"1993\", \"1994\", \"1995\", \"1996\", \"1997\", \"1998\", \"1999\", \"2000\", \"2001\", \"2002\", \"2003\", \"2004\", \"2005\", \"2006\", \"2007\", \"2008\", \"2009\", \"2010\", \"2011\", \"2012\", \"2013\", \"2014\", \"2015\", \"2016\", \"2017\"], \"y\": [41.20429919989535, 47.217153284671525, 39.88294709019681, 42.637724695963946, 36.786490223187826, 33.91098366787184, 38.310313539671334, 41.47097032077546, 47.580899667419224, 48.58050144556615, 46.431321309409924, 43.859649122807014, 37.71827706635623, 39.1470547598213, 44.90642594998746, 45.59304818869203, 33.49788434414669, 37.03544205675897, 32.691987339663505, 24.248202109800836, 27.28738578575268, 26.002259212685697, 31.368167755242357, 26.29497402569639, 25.347732549470685, 25.532472067039105], \"type\": \"scatter\", \"uid\": \"d114cebe-c577-4b96-ad73-cfa76e1c01e8\"}, {\"name\": \"('Homme', '30-39 ans')\", \"x\": [\"1992\", \"1993\", \"1994\", \"1995\", \"1996\", \"1997\", \"1998\", \"1999\", \"2000\", \"2001\", \"2002\", \"2003\", \"2004\", \"2005\", \"2006\", \"2007\", \"2008\", \"2009\", \"2010\", \"2011\", \"2012\", \"2013\", \"2014\", \"2015\", \"2016\", \"2017\"], \"y\": [43.85257964595568, 41.86802701874158, 41.974275572591196, 41.39282889139855, 39.75456733614804, 40.106225520137905, 39.88331657794552, 44.419720969541714, 41.375974770262296, 42.328751669688586, 39.88892191525945, 39.29849452456446, 35.808270359197486, 33.40642065199404, 30.303242744923462, 31.123444493564925, 28.826622590790468, 28.567288755006434, 27.008355989053847, 24.289025279297313, 23.592174014482637, 23.07079668753372, 22.080219186566072, 19.29266829009428, 20.161949140911442, 21.087092114235485], \"type\": \"scatter\", \"uid\": \"b05e310e-c95b-47e7-9a17-211fe11c6ef6\"}], {\"margin\": {\"b\": 50, \"l\": 50, \"pad\": 4, \"r\": 50, \"t\": 50}, \"title\": \"<b>Yearly accident for the top 5 categories</b>\", \"titlefont\": {\"color\": \"#7f7f7f\", \"family\": \"Courier New, monospace\", \"size\": 18}, \"xaxis\": {\"title\": \"Year\", \"titlefont\": {\"color\": \"#7f7f7f\", \"family\": \"Courier New, monospace\", \"size\": 15}}, \"yaxis\": {\"title\": \"Accidents per 10'000 people\", \"titlefont\": {\"color\": \"#7f7f7f\", \"family\": \"Courier New, monospace\", \"size\": 15}}}, {\"showLink\": true, \"linkText\": \"Export to plot.ly\", \"plotlyServerURL\": \"https://plot.ly\"})});</script><script type=\"text/javascript\">window.addEventListener(\"resize\", function(){window._Plotly.Plots.resize(document.getElementById(\"c2c66acd-7611-4eac-b1ac-3ec77ef8d91d\"));});</script>"
      ],
      "text/vnd.plotly.v1+html": [
       "<div id=\"c2c66acd-7611-4eac-b1ac-3ec77ef8d91d\" style=\"height: 525px; width: 100%;\" class=\"plotly-graph-div\"></div><script type=\"text/javascript\">require([\"plotly\"], function(Plotly) { window.PLOTLYENV=window.PLOTLYENV || {};window.PLOTLYENV.BASE_URL=\"https://plot.ly\";Plotly.newPlot(\"c2c66acd-7611-4eac-b1ac-3ec77ef8d91d\", [{\"name\": \"('Homme', '20 ans')\", \"x\": [\"1992\", \"1993\", \"1994\", \"1995\", \"1996\", \"1997\", \"1998\", \"1999\", \"2000\", \"2001\", \"2002\", \"2003\", \"2004\", \"2005\", \"2006\", \"2007\", \"2008\", \"2009\", \"2010\", \"2011\", \"2012\", \"2013\", \"2014\", \"2015\", \"2016\", \"2017\"], \"y\": [127.97152421712784, 117.85294964666271, 125.85969738651997, 115.4262071559547, 92.97720247295207, 111.42669871094607, 117.7921826625387, 130.88376560999038, 118.05961426066627, 131.88269982400402, 123.93983942101094, 123.01094684572848, 113.14438741352379, 89.19062832800851, 87.9213358727909, 90.96276211925743, 76.84632857112533, 68.90397027997426, 60.46167090432242, 61.10262463546731, 55.48237735999682, 45.5995419597579, 47.26826273787599, 40.24592484730818, 43.55418180358468, 39.736441966548405], \"type\": \"scatter\", \"uid\": \"d581dce3-503b-4929-8f1c-d645045103e6\"}, {\"name\": \"('Homme', '18-19 ans')\", \"x\": [\"1992\", \"1993\", \"1994\", \"1995\", \"1996\", \"1997\", \"1998\", \"1999\", \"2000\", \"2001\", \"2002\", \"2003\", \"2004\", \"2005\", \"2006\", \"2007\", \"2008\", \"2009\", \"2010\", \"2011\", \"2012\", \"2013\", \"2014\", \"2015\", \"2016\", \"2017\"], \"y\": [91.26244487884712, 85.54821169080765, 79.80097828307717, 79.26361544362057, 84.05613487964138, 78.97298612801168, 86.30755341558829, 87.90588898943483, 97.5750911511083, 99.3093538518587, 89.94107309004445, 91.68356073893534, 88.27595585069011, 76.58038684937686, 73.98287412928701, 79.97919240522792, 68.300947741833, 65.1153083585516, 55.68659624653883, 59.96238062082368, 49.94667426954309, 47.05107643941245, 43.54014021401086, 37.90539144804792, 37.81604525424259, 35.44556346772223], \"type\": \"scatter\", \"uid\": \"ded54204-7aa2-42f2-b588-d9de39b59d0c\"}, {\"name\": \"('Homme', '21-29 ans')\", \"x\": [\"1992\", \"1993\", \"1994\", \"1995\", \"1996\", \"1997\", \"1998\", \"1999\", \"2000\", \"2001\", \"2002\", \"2003\", \"2004\", \"2005\", \"2006\", \"2007\", \"2008\", \"2009\", \"2010\", \"2011\", \"2012\", \"2013\", \"2014\", \"2015\", \"2016\", \"2017\"], \"y\": [79.56253162992124, 75.56845017205316, 75.1042035049991, 74.62260862216495, 67.3040993515771, 67.51663860155564, 73.53618798042503, 76.9993893151882, 74.37763777601076, 72.57855476512772, 71.15534309769295, 68.91139962904836, 63.9183136768102, 58.51152896450396, 55.88570337014786, 54.139600694603956, 50.19148456859652, 48.99651162533484, 42.968643196210856, 39.242457152904926, 35.12225403191224, 33.92148044473037, 31.927447421544134, 29.64489162379155, 30.09258346898315, 28.468725832162754], \"type\": \"scatter\", \"uid\": \"3bd9ed82-2ced-48aa-a11e-efa6f4a88568\"}, {\"name\": \"('Femme', '20 ans')\", \"x\": [\"1992\", \"1993\", \"1994\", \"1995\", \"1996\", \"1997\", \"1998\", \"1999\", \"2000\", \"2001\", \"2002\", \"2003\", \"2004\", \"2005\", \"2006\", \"2007\", \"2008\", \"2009\", \"2010\", \"2011\", \"2012\", \"2013\", \"2014\", \"2015\", \"2016\", \"2017\"], \"y\": [41.20429919989535, 47.217153284671525, 39.88294709019681, 42.637724695963946, 36.786490223187826, 33.91098366787184, 38.310313539671334, 41.47097032077546, 47.580899667419224, 48.58050144556615, 46.431321309409924, 43.859649122807014, 37.71827706635623, 39.1470547598213, 44.90642594998746, 45.59304818869203, 33.49788434414669, 37.03544205675897, 32.691987339663505, 24.248202109800836, 27.28738578575268, 26.002259212685697, 31.368167755242357, 26.29497402569639, 25.347732549470685, 25.532472067039105], \"type\": \"scatter\", \"uid\": \"d114cebe-c577-4b96-ad73-cfa76e1c01e8\"}, {\"name\": \"('Homme', '30-39 ans')\", \"x\": [\"1992\", \"1993\", \"1994\", \"1995\", \"1996\", \"1997\", \"1998\", \"1999\", \"2000\", \"2001\", \"2002\", \"2003\", \"2004\", \"2005\", \"2006\", \"2007\", \"2008\", \"2009\", \"2010\", \"2011\", \"2012\", \"2013\", \"2014\", \"2015\", \"2016\", \"2017\"], \"y\": [43.85257964595568, 41.86802701874158, 41.974275572591196, 41.39282889139855, 39.75456733614804, 40.106225520137905, 39.88331657794552, 44.419720969541714, 41.375974770262296, 42.328751669688586, 39.88892191525945, 39.29849452456446, 35.808270359197486, 33.40642065199404, 30.303242744923462, 31.123444493564925, 28.826622590790468, 28.567288755006434, 27.008355989053847, 24.289025279297313, 23.592174014482637, 23.07079668753372, 22.080219186566072, 19.29266829009428, 20.161949140911442, 21.087092114235485], \"type\": \"scatter\", \"uid\": \"b05e310e-c95b-47e7-9a17-211fe11c6ef6\"}], {\"margin\": {\"b\": 50, \"l\": 50, \"pad\": 4, \"r\": 50, \"t\": 50}, \"title\": \"<b>Yearly accident for the top 5 categories</b>\", \"titlefont\": {\"color\": \"#7f7f7f\", \"family\": \"Courier New, monospace\", \"size\": 18}, \"xaxis\": {\"title\": \"Year\", \"titlefont\": {\"color\": \"#7f7f7f\", \"family\": \"Courier New, monospace\", \"size\": 15}}, \"yaxis\": {\"title\": \"Accidents per 10'000 people\", \"titlefont\": {\"color\": \"#7f7f7f\", \"family\": \"Courier New, monospace\", \"size\": 15}}}, {\"showLink\": true, \"linkText\": \"Export to plot.ly\", \"plotlyServerURL\": \"https://plot.ly\"})});</script><script type=\"text/javascript\">window.addEventListener(\"resize\", function(){window._Plotly.Plots.resize(document.getElementById(\"c2c66acd-7611-4eac-b1ac-3ec77ef8d91d\"));});</script>"
      ]
     },
     "metadata": {},
     "output_type": "display_data"
    },
    {
     "name": "stdout",
     "output_type": "stream",
     "text": [
      "Number of accident for different sexe and age for 1/10.000 inhabitants in Switzerland\n",
      "for the interesting categories:\n"
     ]
    },
    {
     "data": {
      "text/html": [
       "<div>\n",
       "<style scoped>\n",
       "    .dataframe tbody tr th:only-of-type {\n",
       "        vertical-align: middle;\n",
       "    }\n",
       "\n",
       "    .dataframe tbody tr th {\n",
       "        vertical-align: top;\n",
       "    }\n",
       "\n",
       "    .dataframe thead th {\n",
       "        text-align: right;\n",
       "    }\n",
       "</style>\n",
       "<table border=\"1\" class=\"dataframe\">\n",
       "  <thead>\n",
       "    <tr style=\"text-align: right;\">\n",
       "      <th></th>\n",
       "      <th></th>\n",
       "      <th>1992</th>\n",
       "      <th>2017</th>\n",
       "    </tr>\n",
       "    <tr>\n",
       "      <th>sexe</th>\n",
       "      <th>age</th>\n",
       "      <th></th>\n",
       "      <th></th>\n",
       "    </tr>\n",
       "  </thead>\n",
       "  <tbody>\n",
       "    <tr>\n",
       "      <th rowspan=\"3\" valign=\"top\">Homme</th>\n",
       "      <th>20 ans</th>\n",
       "      <td>127.971524</td>\n",
       "      <td>39.736442</td>\n",
       "    </tr>\n",
       "    <tr>\n",
       "      <th>18-19 ans</th>\n",
       "      <td>91.262445</td>\n",
       "      <td>35.445563</td>\n",
       "    </tr>\n",
       "    <tr>\n",
       "      <th>21-29 ans</th>\n",
       "      <td>79.562532</td>\n",
       "      <td>28.468726</td>\n",
       "    </tr>\n",
       "    <tr>\n",
       "      <th>Femme</th>\n",
       "      <th>20 ans</th>\n",
       "      <td>41.204299</td>\n",
       "      <td>25.532472</td>\n",
       "    </tr>\n",
       "    <tr>\n",
       "      <th>Homme</th>\n",
       "      <th>30-39 ans</th>\n",
       "      <td>43.852580</td>\n",
       "      <td>21.087092</td>\n",
       "    </tr>\n",
       "    <tr>\n",
       "      <th>Femme</th>\n",
       "      <th>21-29 ans</th>\n",
       "      <td>30.755826</td>\n",
       "      <td>19.821769</td>\n",
       "    </tr>\n",
       "    <tr>\n",
       "      <th rowspan=\"4\" valign=\"top\">Homme</th>\n",
       "      <th>70 ans et plus</th>\n",
       "      <td>27.131433</td>\n",
       "      <td>19.782825</td>\n",
       "    </tr>\n",
       "    <tr>\n",
       "      <th>15-17 ans</th>\n",
       "      <td>4.312239</td>\n",
       "      <td>0.534870</td>\n",
       "    </tr>\n",
       "    <tr>\n",
       "      <th>10-14 ans</th>\n",
       "      <td>2.423276</td>\n",
       "      <td>0.047569</td>\n",
       "    </tr>\n",
       "    <tr>\n",
       "      <th>6-9 ans</th>\n",
       "      <td>0.062282</td>\n",
       "      <td>0.000000</td>\n",
       "    </tr>\n",
       "    <tr>\n",
       "      <th rowspan=\"2\" valign=\"top\">Femme</th>\n",
       "      <th>10-14 ans</th>\n",
       "      <td>0.746233</td>\n",
       "      <td>0.000000</td>\n",
       "    </tr>\n",
       "    <tr>\n",
       "      <th>15-17 ans</th>\n",
       "      <td>1.575920</td>\n",
       "      <td>0.000000</td>\n",
       "    </tr>\n",
       "  </tbody>\n",
       "</table>\n",
       "</div>"
      ],
      "text/plain": [
       "                            1992       2017\n",
       "sexe  age                                  \n",
       "Homme 20 ans          127.971524  39.736442\n",
       "      18-19 ans        91.262445  35.445563\n",
       "      21-29 ans        79.562532  28.468726\n",
       "Femme 20 ans           41.204299  25.532472\n",
       "Homme 30-39 ans        43.852580  21.087092\n",
       "Femme 21-29 ans        30.755826  19.821769\n",
       "Homme 70 ans et plus   27.131433  19.782825\n",
       "      15-17 ans         4.312239   0.534870\n",
       "      10-14 ans         2.423276   0.047569\n",
       "      6-9 ans           0.062282   0.000000\n",
       "Femme 10-14 ans         0.746233   0.000000\n",
       "      15-17 ans         1.575920   0.000000"
      ]
     },
     "metadata": {},
     "output_type": "display_data"
    }
   ],
   "source": [
    "# We only consider the private vehicles accidents where there was a mistake from the driver\n",
    "df_conducteur = df_Accident_objets_normalized[(df_Accident_objets_normalized.faute_index==1)\\\n",
    "                                        & (df_Accident_objets_normalized.voiture_index==210)]\n",
    "\n",
    "# Group by sex and age as wanted, sum the number of accidents and sort them to see which \n",
    "# category had the biggest impact in 2017, and keep the columns interesting us, i.e. the years\n",
    "df_conducteur = df_conducteur.groupby(['sexe','age']).sum().\\\n",
    "        sort_values(['2017'], ascending=False)\\\n",
    "        [[col for col in df_conducteur.columns if IS_DATE.match(col)]]\n",
    "\n",
    "# Plot the top 5 categories with our homemade function\n",
    "plot_dataframe(x=df_conducteur.columns.values, y=df_conducteur.head(5),\\\n",
    "               title='Yearly accident for the top 5 categories', xlabel='Year',\\\n",
    "               ylabel=\"Accidents per 10'000 people\", labels=df_conducteur.index.values,\\\n",
    "               rotation=45, number_to_plot=None,name_save='accident_sexe&age_top5')\n",
    "\n",
    "print(\"Number of accident for different sexe and age for 1/10.000 inhabitants in Switzerland\\n\\\n",
    "for the interesting categories:\")\n",
    "df_display = df_conducteur.loc[[('Homme', '20 ans'), ('Homme', '18-19 ans'),\n",
    "       ('Homme', '21-29 ans'), ('Femme', '20 ans'),\n",
    "       ('Homme', '30-39 ans'), ('Femme', '21-29 ans'),\n",
    "       ('Homme', '70 ans et plus'),\n",
    "       ('Homme', '15-17 ans'), ('Homme', '10-14 ans'),\n",
    "       ('Homme', '6-9 ans'), ('Femme', '10-14 ans'),\n",
    "       ('Femme', '15-17 ans')],['1992', '2017']]\n",
    "\n",
    "display(df_display)\n",
    "save_it(df_display,'accident_sexe&age')"
   ]
  },
  {
   "cell_type": "markdown",
   "metadata": {},
   "source": [
    "As expected, young people are still the ones to have the most accidents in 2017. Men are in particular responsible of more incidents than women, except apparently between 21 and 29 years old, which is the only time we find them having more accidents than men of the same age interval. After the young people, we actually find the very old ones, with men that are 70 years old and more. But they still have half less accidents than young men aged 20.\n",
    "\n",
    "We can interestingly see that more than 1 in 20'000 men is involved in an accident before 18 years old ! Back 25 years ago, some boys even younger than 10 years old were involved in car incidents.\n",
    "\n",
    "If we now compare the records of 2017 with the ones from 1992, we see a drastical decrease, which was to be expected with the numerous improvements observed around the security of travelers, including the improvements of the cars themselves, but also the stricter rules of today. The decrease is more marked for young people, the number of accidents dropped of 2/3 for men aged 20!\n",
    "\n",
    "Nicely, we can see that women did not have any accident before the legal age to drive a car in Switzerland, i.e. 18 years old, in 2017, which wasn't the case 25 years earlier.\n",
    "\n",
    "From the first plot, we can identify a very good progress since the early 2000's for the entire population."
   ]
  },
  {
   "cell_type": "markdown",
   "metadata": {},
   "source": [
    "##### Taking the number of people actually posessing a driver license into account"
   ]
  },
  {
   "cell_type": "markdown",
   "metadata": {},
   "source": [
    "Now that we know the accidents for each age & sex category, it is interesting to take into account the fact that not every man-woman posesses a driver license. However, we are confronted to the usual problem: the dataset containing this new information is built differently, as can be seen below. The age categories are different, and not all the years are represented."
   ]
  },
  {
   "cell_type": "code",
   "execution_count": 23,
   "metadata": {},
   "outputs": [
    {
     "data": {
      "text/html": [
       "<div>\n",
       "<style scoped>\n",
       "    .dataframe tbody tr th:only-of-type {\n",
       "        vertical-align: middle;\n",
       "    }\n",
       "\n",
       "    .dataframe tbody tr th {\n",
       "        vertical-align: top;\n",
       "    }\n",
       "\n",
       "    .dataframe thead th {\n",
       "        text-align: right;\n",
       "    }\n",
       "</style>\n",
       "<table border=\"1\" class=\"dataframe\">\n",
       "  <thead>\n",
       "    <tr style=\"text-align: right;\">\n",
       "      <th></th>\n",
       "      <th>critere</th>\n",
       "      <th>1994</th>\n",
       "      <th>2000</th>\n",
       "      <th>2005</th>\n",
       "      <th>2010</th>\n",
       "      <th>2015</th>\n",
       "    </tr>\n",
       "  </thead>\n",
       "  <tbody>\n",
       "    <tr>\n",
       "      <th>0</th>\n",
       "      <td>Total</td>\n",
       "      <td>76.1925</td>\n",
       "      <td>79.5684</td>\n",
       "      <td>81.4970</td>\n",
       "      <td>80.8099</td>\n",
       "      <td>81.5869</td>\n",
       "    </tr>\n",
       "    <tr>\n",
       "      <th>1</th>\n",
       "      <td>Hommes</td>\n",
       "      <td>86.7108</td>\n",
       "      <td>88.6161</td>\n",
       "      <td>89.1752</td>\n",
       "      <td>87.8091</td>\n",
       "      <td>87.9242</td>\n",
       "    </tr>\n",
       "    <tr>\n",
       "      <th>2</th>\n",
       "      <td>Femmes</td>\n",
       "      <td>66.2318</td>\n",
       "      <td>71.0744</td>\n",
       "      <td>74.4214</td>\n",
       "      <td>74.4154</td>\n",
       "      <td>75.5780</td>\n",
       "    </tr>\n",
       "    <tr>\n",
       "      <th>3</th>\n",
       "      <td>18-24 ans</td>\n",
       "      <td>70.7393</td>\n",
       "      <td>68.7840</td>\n",
       "      <td>62.7032</td>\n",
       "      <td>58.6586</td>\n",
       "      <td>60.9546</td>\n",
       "    </tr>\n",
       "    <tr>\n",
       "      <th>4</th>\n",
       "      <td>25-64 ans</td>\n",
       "      <td>84.8314</td>\n",
       "      <td>87.8657</td>\n",
       "      <td>89.5716</td>\n",
       "      <td>89.3944</td>\n",
       "      <td>88.8073</td>\n",
       "    </tr>\n",
       "    <tr>\n",
       "      <th>5</th>\n",
       "      <td>65 ans et plus</td>\n",
       "      <td>44.2482</td>\n",
       "      <td>53.2861</td>\n",
       "      <td>61.7433</td>\n",
       "      <td>64.0817</td>\n",
       "      <td>69.2718</td>\n",
       "    </tr>\n",
       "  </tbody>\n",
       "</table>\n",
       "</div>"
      ],
      "text/plain": [
       "          critere     1994     2000     2005     2010     2015\n",
       "0           Total  76.1925  79.5684  81.4970  80.8099  81.5869\n",
       "1          Hommes  86.7108  88.6161  89.1752  87.8091  87.9242\n",
       "2          Femmes  66.2318  71.0744  74.4214  74.4154  75.5780\n",
       "3       18-24 ans  70.7393  68.7840  62.7032  58.6586  60.9546\n",
       "4       25-64 ans  84.8314  87.8657  89.5716  89.3944  88.8073\n",
       "5  65 ans et plus  44.2482  53.2861  61.7433  64.0817  69.2718"
      ]
     },
     "metadata": {},
     "output_type": "display_data"
    }
   ],
   "source": [
    "display(df_proportion_permis)\n",
    "save_it(df_proportion_permis,'proportion_permis')"
   ]
  },
  {
   "cell_type": "markdown",
   "metadata": {},
   "source": [
    "In general, we can note an increase in the proportion of people with a driver license. \n",
    "\n",
    "An interesting conclusion comes from the fact that not that many young people posess a license, and yet they are responsible for a lot of accidents. Sadly, since the age intervals are not defined like before and are very vague, we cannot really perform an analysis on them. However, it is to notice that if we did, we would see an even greater gap between younger and older people: young people have more accidents per 10'000 people but less have a driver license. This means that they will have even more accidents per 10'000 people posessing a license!\n",
    "\n",
    "Given the lack of information of this dataset again (the information on the sexes is aggregated and only present for a few years), we can only restrain our analysis on the accidents by sexes for the 5 years in the data."
   ]
  },
  {
   "cell_type": "code",
   "execution_count": 24,
   "metadata": {},
   "outputs": [
    {
     "data": {
      "application/vnd.plotly.v1+json": {
       "config": {
        "linkText": "Export to plot.ly",
        "plotlyServerURL": "https://plot.ly",
        "showLink": true
       },
       "data": [
        {
         "name": "Pondéré Femmes",
         "type": "scatter",
         "uid": "613fb1f6-0dd4-44dd-aef6-e95cdac07b0c",
         "x": [
          "1994",
          "2000",
          "2005",
          "2010",
          "2015"
         ],
         "y": [
          238.96265989184795,
          248.78547816983652,
          212.6642225957221,
          184.4288477731473,
          149.51291077120948
         ]
        },
        {
         "name": "Pondéré Hommes",
         "type": "scatter",
         "uid": "2ca14921-7220-4790-9c51-aa0e07b3a55c",
         "x": [
          "1994",
          "2000",
          "2005",
          "2010",
          "2015"
         ],
         "y": [
          522.542692316527,
          524.4651012734498,
          407.47245518445175,
          313.3163302820568,
          227.88207663150297
         ]
        },
        {
         "name": "Femmes",
         "type": "scatter",
         "uid": "26aac0b2-41d4-48ee-b04f-664d8d88eec1",
         "x": [
          "1994",
          "2000",
          "2005",
          "2010",
          "2015"
         ],
         "y": [
          158.26927097424897,
          176.82278589634228,
          158.26769175485273,
          137.24346478577866,
          112.9988677026647
         ]
        },
        {
         "name": "Hommes",
         "type": "scatter",
         "uid": "0c5bc35d-0af6-47e1-bcfb-674e02e8f472",
         "x": [
          "1994",
          "2000",
          "2005",
          "2010",
          "2015"
         ],
         "y": [
          453.10094884919914,
          464.7605186095816,
          363.3643768556452,
          275.1202497737015,
          200.36349282163593
         ]
        }
       ],
       "layout": {
        "margin": {
         "b": 50,
         "l": 50,
         "pad": 4,
         "r": 50,
         "t": 50
        },
        "title": "<b>Yearly accident for men and women</b>",
        "titlefont": {
         "color": "#7f7f7f",
         "family": "Courier New, monospace",
         "size": 18
        },
        "xaxis": {
         "title": "Year",
         "titlefont": {
          "color": "#7f7f7f",
          "family": "Courier New, monospace",
          "size": 15
         }
        },
        "yaxis": {
         "title": "Accidents per 10'000 people",
         "titlefont": {
          "color": "#7f7f7f",
          "family": "Courier New, monospace",
          "size": 15
         }
        }
       }
      },
      "text/html": [
       "<div id=\"ab3e9e2f-745b-46a5-9412-399c77b8cd59\" style=\"height: 525px; width: 100%;\" class=\"plotly-graph-div\"></div><script type=\"text/javascript\">require([\"plotly\"], function(Plotly) { window.PLOTLYENV=window.PLOTLYENV || {};window.PLOTLYENV.BASE_URL=\"https://plot.ly\";Plotly.newPlot(\"ab3e9e2f-745b-46a5-9412-399c77b8cd59\", [{\"name\": \"Pond\\u00e9r\\u00e9 Femmes\", \"x\": [\"1994\", \"2000\", \"2005\", \"2010\", \"2015\"], \"y\": [238.96265989184795, 248.78547816983652, 212.6642225957221, 184.4288477731473, 149.51291077120948], \"type\": \"scatter\", \"uid\": \"613fb1f6-0dd4-44dd-aef6-e95cdac07b0c\"}, {\"name\": \"Pond\\u00e9r\\u00e9 Hommes\", \"x\": [\"1994\", \"2000\", \"2005\", \"2010\", \"2015\"], \"y\": [522.542692316527, 524.4651012734498, 407.47245518445175, 313.3163302820568, 227.88207663150297], \"type\": \"scatter\", \"uid\": \"2ca14921-7220-4790-9c51-aa0e07b3a55c\"}, {\"name\": \"Femmes\", \"x\": [\"1994\", \"2000\", \"2005\", \"2010\", \"2015\"], \"y\": [158.26927097424897, 176.82278589634228, 158.26769175485273, 137.24346478577866, 112.9988677026647], \"type\": \"scatter\", \"uid\": \"26aac0b2-41d4-48ee-b04f-664d8d88eec1\"}, {\"name\": \"Hommes\", \"x\": [\"1994\", \"2000\", \"2005\", \"2010\", \"2015\"], \"y\": [453.10094884919914, 464.7605186095816, 363.3643768556452, 275.1202497737015, 200.36349282163593], \"type\": \"scatter\", \"uid\": \"0c5bc35d-0af6-47e1-bcfb-674e02e8f472\"}], {\"margin\": {\"b\": 50, \"l\": 50, \"pad\": 4, \"r\": 50, \"t\": 50}, \"title\": \"<b>Yearly accident for men and women</b>\", \"titlefont\": {\"color\": \"#7f7f7f\", \"family\": \"Courier New, monospace\", \"size\": 18}, \"xaxis\": {\"title\": \"Year\", \"titlefont\": {\"color\": \"#7f7f7f\", \"family\": \"Courier New, monospace\", \"size\": 15}}, \"yaxis\": {\"title\": \"Accidents per 10'000 people\", \"titlefont\": {\"color\": \"#7f7f7f\", \"family\": \"Courier New, monospace\", \"size\": 15}}}, {\"showLink\": true, \"linkText\": \"Export to plot.ly\", \"plotlyServerURL\": \"https://plot.ly\"})});</script><script type=\"text/javascript\">window.addEventListener(\"resize\", function(){window._Plotly.Plots.resize(document.getElementById(\"ab3e9e2f-745b-46a5-9412-399c77b8cd59\"));});</script>"
      ],
      "text/vnd.plotly.v1+html": [
       "<div id=\"ab3e9e2f-745b-46a5-9412-399c77b8cd59\" style=\"height: 525px; width: 100%;\" class=\"plotly-graph-div\"></div><script type=\"text/javascript\">require([\"plotly\"], function(Plotly) { window.PLOTLYENV=window.PLOTLYENV || {};window.PLOTLYENV.BASE_URL=\"https://plot.ly\";Plotly.newPlot(\"ab3e9e2f-745b-46a5-9412-399c77b8cd59\", [{\"name\": \"Pond\\u00e9r\\u00e9 Femmes\", \"x\": [\"1994\", \"2000\", \"2005\", \"2010\", \"2015\"], \"y\": [238.96265989184795, 248.78547816983652, 212.6642225957221, 184.4288477731473, 149.51291077120948], \"type\": \"scatter\", \"uid\": \"613fb1f6-0dd4-44dd-aef6-e95cdac07b0c\"}, {\"name\": \"Pond\\u00e9r\\u00e9 Hommes\", \"x\": [\"1994\", \"2000\", \"2005\", \"2010\", \"2015\"], \"y\": [522.542692316527, 524.4651012734498, 407.47245518445175, 313.3163302820568, 227.88207663150297], \"type\": \"scatter\", \"uid\": \"2ca14921-7220-4790-9c51-aa0e07b3a55c\"}, {\"name\": \"Femmes\", \"x\": [\"1994\", \"2000\", \"2005\", \"2010\", \"2015\"], \"y\": [158.26927097424897, 176.82278589634228, 158.26769175485273, 137.24346478577866, 112.9988677026647], \"type\": \"scatter\", \"uid\": \"26aac0b2-41d4-48ee-b04f-664d8d88eec1\"}, {\"name\": \"Hommes\", \"x\": [\"1994\", \"2000\", \"2005\", \"2010\", \"2015\"], \"y\": [453.10094884919914, 464.7605186095816, 363.3643768556452, 275.1202497737015, 200.36349282163593], \"type\": \"scatter\", \"uid\": \"0c5bc35d-0af6-47e1-bcfb-674e02e8f472\"}], {\"margin\": {\"b\": 50, \"l\": 50, \"pad\": 4, \"r\": 50, \"t\": 50}, \"title\": \"<b>Yearly accident for men and women</b>\", \"titlefont\": {\"color\": \"#7f7f7f\", \"family\": \"Courier New, monospace\", \"size\": 18}, \"xaxis\": {\"title\": \"Year\", \"titlefont\": {\"color\": \"#7f7f7f\", \"family\": \"Courier New, monospace\", \"size\": 15}}, \"yaxis\": {\"title\": \"Accidents per 10'000 people\", \"titlefont\": {\"color\": \"#7f7f7f\", \"family\": \"Courier New, monospace\", \"size\": 15}}}, {\"showLink\": true, \"linkText\": \"Export to plot.ly\", \"plotlyServerURL\": \"https://plot.ly\"})});</script><script type=\"text/javascript\">window.addEventListener(\"resize\", function(){window._Plotly.Plots.resize(document.getElementById(\"ab3e9e2f-745b-46a5-9412-399c77b8cd59\"));});</script>"
      ]
     },
     "metadata": {},
     "output_type": "display_data"
    }
   ],
   "source": [
    "# Get the total accident for men and women for the years interesting us\n",
    "df_conducteur_sexe = df_conducteur.groupby('sexe').sum()\\\n",
    "    [['1994', '2000', '2005', '2010', '2015']]\n",
    "\n",
    "# Make the indices plural to match the ones of the other dataset\n",
    "df_conducteur_sexe = df_conducteur_sexe.transpose().add_suffix('s').transpose()\n",
    "\n",
    "# Get the proportion of men and women having a license\n",
    "df_proportion_sexe = df_proportion_permis.iloc[1:3].set_index('critere')\n",
    "\n",
    "# Scale the data given the proportion of people with a license\n",
    "df_conducteur_sexe_scaled = df_conducteur_sexe/df_proportion_sexe*100\n",
    "\n",
    "# Custom the indices\n",
    "df_conducteur_sexe_scaled = df_conducteur_sexe_scaled.transpose().add_prefix('Pondéré ').transpose()\n",
    "\n",
    "# Concatenate the dataframes to plot them\n",
    "df_conducteur_sexe_scaled = df_conducteur_sexe_scaled.append(df_conducteur_sexe)\n",
    "\n",
    "# plot the results with our function\n",
    "plot_dataframe(x=df_conducteur_sexe_scaled.columns.values, y=df_conducteur_sexe_scaled,\\\n",
    "               title='Yearly accident for men and women', xlabel='Year',\\\n",
    "               ylabel=\"Accidents per 10'000 people\",\\\n",
    "               labels=df_conducteur_sexe_scaled.index.values,\\\n",
    "               rotation=45, number_to_plot=None,name_save='accident_driver_sexe')"
   ]
  },
  {
   "cell_type": "markdown",
   "metadata": {},
   "source": [
    "Since the proportion of women having a license hase always been below the one for men, the impact is higher for them. However, even with this scaling, we can still say that women are more cautious with cars with 150 accidents for 10'000 drivers in 2017 against 228 for men. But the gap was still reduced over the last years and men might catch up one day."
   ]
  },
  {
   "cell_type": "markdown",
   "metadata": {},
   "source": [
    "#### 1.1.2 Driver Licence"
   ]
  },
  {
   "cell_type": "markdown",
   "metadata": {},
   "source": [
    "How long had the people in an accident had their license for? In this analysis, we start again from the normalized total of accidents that we created before, i.e. normalized by each 10'000 of people (without taking care of the proportions of driving people as this did not carry enough interesting information). \n",
    "\n",
    "We also take the years of license from the `df_Accident_objects` dataset. Note that they are groupped by interval sometimes (e.g. 6-10 years)."
   ]
  },
  {
   "cell_type": "code",
   "execution_count": 25,
   "metadata": {},
   "outputs": [
    {
     "data": {
      "application/vnd.plotly.v1+json": {
       "config": {
        "linkText": "Export to plot.ly",
        "plotlyServerURL": "https://plot.ly",
        "showLink": true
       },
       "data": [
        {
         "name": "0 an",
         "type": "scatter",
         "uid": "6ff6b69f-7cd8-4184-a97c-8dd9578bd01c",
         "x": [
          "1992",
          "1993",
          "1994",
          "1995",
          "1996",
          "1997",
          "1998",
          "1999",
          "2000",
          "2001",
          "2002",
          "2003",
          "2004",
          "2005",
          "2006",
          "2007",
          "2008",
          "2009",
          "2010",
          "2011",
          "2012",
          "2013",
          "2014",
          "2015",
          "2016",
          "2017"
         ],
         "y": [
          142.49826215729047,
          123.37476877548339,
          123.55649923440322,
          128.2468755819661,
          134.7260540214114,
          128.56031813160038,
          138.59049012360606,
          148.3588983374604,
          156.15050830409461,
          158.15417825885405,
          143.33275932052587,
          153.4171524238373,
          136.09034354206176,
          124.39740908323162,
          124.71705120627576,
          121.10742453469803,
          103.34980447163538,
          107.36998439043553,
          91.84656168188054,
          90.65061981176446,
          82.19310066556663,
          73.99197002722646,
          73.75108702216953,
          66.29735757541648,
          66.4135500735034,
          65.90354716277753
         ]
        },
        {
         "name": "1 an",
         "type": "scatter",
         "uid": "10c15fa3-e152-4fe0-b38d-8b037dd56089",
         "x": [
          "1992",
          "1993",
          "1994",
          "1995",
          "1996",
          "1997",
          "1998",
          "1999",
          "2000",
          "2001",
          "2002",
          "2003",
          "2004",
          "2005",
          "2006",
          "2007",
          "2008",
          "2009",
          "2010",
          "2011",
          "2012",
          "2013",
          "2014",
          "2015",
          "2016",
          "2017"
         ],
         "y": [
          115.05601627241772,
          116.98797043173582,
          105.37978858455428,
          103.90279714636435,
          91.44710468714844,
          92.48722113590078,
          105.40600372431813,
          114.48353002160107,
          107.44953949475973,
          121.96862357551987,
          116.46113317413803,
          109.37787790643705,
          106.63980415015395,
          89.87084326311269,
          87.1791438490622,
          91.35248817322237,
          75.84126702142463,
          69.19013180748705,
          60.50380658880891,
          59.96703458457327,
          59.746204575863516,
          53.24739620569943,
          52.53376778405749,
          43.266116411031554,
          47.13949725688943,
          45.323682820152136
         ]
        },
        {
         "name": "2 ans",
         "type": "scatter",
         "uid": "d136ea83-61aa-48e3-bb38-d7125a06244e",
         "x": [
          "1992",
          "1993",
          "1994",
          "1995",
          "1996",
          "1997",
          "1998",
          "1999",
          "2000",
          "2001",
          "2002",
          "2003",
          "2004",
          "2005",
          "2006",
          "2007",
          "2008",
          "2009",
          "2010",
          "2011",
          "2012",
          "2013",
          "2014",
          "2015",
          "2016",
          "2017"
         ],
         "y": [
          60.729267493493516,
          61.781924614257655,
          67.44619923065292,
          53.471419149088824,
          37.8133901670992,
          45.85964719576307,
          53.98069552905043,
          55.626946272934156,
          53.10101687964514,
          57.69404519168512,
          56.568540787545565,
          56.06547106483405,
          51.6228020510978,
          43.54620206492755,
          45.18975961969924,
          51.5626150907548,
          42.361811133072294,
          39.06367072804083,
          36.45505470670432,
          30.937408048259215,
          28.064216255200698,
          28.548894847547533,
          27.96996953684088,
          26.389337037891917,
          26.58312501084319,
          24.397838954148376
         ]
        },
        {
         "name": "3 ans",
         "type": "scatter",
         "uid": "81e424e1-9111-4620-a60e-fcb687d18477",
         "x": [
          "1992",
          "1993",
          "1994",
          "1995",
          "1996",
          "1997",
          "1998",
          "1999",
          "2000",
          "2001",
          "2002",
          "2003",
          "2004",
          "2005",
          "2006",
          "2007",
          "2008",
          "2009",
          "2010",
          "2011",
          "2012",
          "2013",
          "2014",
          "2015",
          "2016",
          "2017"
         ],
         "y": [
          21.661587293007557,
          19.040297519665362,
          19.630904559997536,
          18.491277004014567,
          15.035515855662585,
          15.24456396284909,
          15.719120708005262,
          18.181269789152836,
          17.416232843621007,
          17.423118370356725,
          17.19348342677325,
          16.070881373354545,
          15.074866352890567,
          12.48794343178943,
          14.831486659722028,
          13.176917647958472,
          12.650185351116313,
          12.532684599182705,
          9.571982992204868,
          9.519723511073988,
          9.023591607780114,
          8.480906945447625,
          8.390982365673818,
          7.787503969989774,
          6.928320343436403,
          7.404766631284694
         ]
        },
        {
         "name": "4 ans",
         "type": "scatter",
         "uid": "fb0ba515-c7a2-4e1e-87f7-165b433cee31",
         "x": [
          "1992",
          "1993",
          "1994",
          "1995",
          "1996",
          "1997",
          "1998",
          "1999",
          "2000",
          "2001",
          "2002",
          "2003",
          "2004",
          "2005",
          "2006",
          "2007",
          "2008",
          "2009",
          "2010",
          "2011",
          "2012",
          "2013",
          "2014",
          "2015",
          "2016",
          "2017"
         ],
         "y": [
          16.808797065372115,
          16.995324465611194,
          17.814825748307623,
          16.588058627741507,
          14.531135477685883,
          15.44618725447347,
          13.960276362771472,
          15.545336503510667,
          15.618945628343575,
          15.944965527213963,
          15.367900383177192,
          13.657900504837993,
          12.273324633241925,
          12.820326218200108,
          11.756259822997635,
          11.071222647774409,
          11.49609526004607,
          9.942997601699314,
          9.450253848336835,
          8.81597374131383,
          7.130637392816472,
          8.006289172715762,
          6.830233555885543,
          6.806710541247391,
          6.956655963410436,
          6.384211919755706
         ]
        },
        {
         "name": "5 ans",
         "type": "scatter",
         "uid": "d33ba4fe-332d-496d-8a64-66a05cb257bc",
         "x": [
          "1992",
          "1993",
          "1994",
          "1995",
          "1996",
          "1997",
          "1998",
          "1999",
          "2000",
          "2001",
          "2002",
          "2003",
          "2004",
          "2005",
          "2006",
          "2007",
          "2008",
          "2009",
          "2010",
          "2011",
          "2012",
          "2013",
          "2014",
          "2015",
          "2016",
          "2017"
         ],
         "y": [
          14.83963199862869,
          14.184733356387603,
          15.103947519589964,
          15.069014009569788,
          14.93823233939851,
          13.351161719400546,
          12.610989527902706,
          13.472995651864906,
          12.903029113672366,
          13.612847551635099,
          12.606097995100813,
          11.457905865614777,
          12.05015098199281,
          10.498647289511277,
          10.496627862560764,
          10.27151259335226,
          9.823983075938221,
          8.726848091027543,
          8.87518813128049,
          7.341963791608643,
          6.291181612287109,
          6.0633232071569845,
          6.05800948062896,
          5.565987506040357,
          6.087783590963734,
          5.788939314394563
         ]
        }
       ],
       "layout": {
        "margin": {
         "b": 50,
         "l": 50,
         "pad": 4,
         "r": 50,
         "t": 50
        },
        "title": "<b>Time after obtention of the driving license</b>",
        "titlefont": {
         "color": "#7f7f7f",
         "family": "Courier New, monospace",
         "size": 18
        },
        "xaxis": {
         "title": "Year",
         "titlefont": {
          "color": "#7f7f7f",
          "family": "Courier New, monospace",
          "size": 15
         }
        },
        "yaxis": {
         "title": "Accidents per 10'000 people",
         "titlefont": {
          "color": "#7f7f7f",
          "family": "Courier New, monospace",
          "size": 15
         }
        }
       }
      },
      "text/html": [
       "<div id=\"b87df28e-27a7-432c-865f-ef5c1040bb5e\" style=\"height: 525px; width: 100%;\" class=\"plotly-graph-div\"></div><script type=\"text/javascript\">require([\"plotly\"], function(Plotly) { window.PLOTLYENV=window.PLOTLYENV || {};window.PLOTLYENV.BASE_URL=\"https://plot.ly\";Plotly.newPlot(\"b87df28e-27a7-432c-865f-ef5c1040bb5e\", [{\"name\": \"0 an\", \"x\": [\"1992\", \"1993\", \"1994\", \"1995\", \"1996\", \"1997\", \"1998\", \"1999\", \"2000\", \"2001\", \"2002\", \"2003\", \"2004\", \"2005\", \"2006\", \"2007\", \"2008\", \"2009\", \"2010\", \"2011\", \"2012\", \"2013\", \"2014\", \"2015\", \"2016\", \"2017\"], \"y\": [142.49826215729047, 123.37476877548339, 123.55649923440322, 128.2468755819661, 134.7260540214114, 128.56031813160038, 138.59049012360606, 148.3588983374604, 156.15050830409461, 158.15417825885405, 143.33275932052587, 153.4171524238373, 136.09034354206176, 124.39740908323162, 124.71705120627576, 121.10742453469803, 103.34980447163538, 107.36998439043553, 91.84656168188054, 90.65061981176446, 82.19310066556663, 73.99197002722646, 73.75108702216953, 66.29735757541648, 66.4135500735034, 65.90354716277753], \"type\": \"scatter\", \"uid\": \"6ff6b69f-7cd8-4184-a97c-8dd9578bd01c\"}, {\"name\": \"1 an\", \"x\": [\"1992\", \"1993\", \"1994\", \"1995\", \"1996\", \"1997\", \"1998\", \"1999\", \"2000\", \"2001\", \"2002\", \"2003\", \"2004\", \"2005\", \"2006\", \"2007\", \"2008\", \"2009\", \"2010\", \"2011\", \"2012\", \"2013\", \"2014\", \"2015\", \"2016\", \"2017\"], \"y\": [115.05601627241772, 116.98797043173582, 105.37978858455428, 103.90279714636435, 91.44710468714844, 92.48722113590078, 105.40600372431813, 114.48353002160107, 107.44953949475973, 121.96862357551987, 116.46113317413803, 109.37787790643705, 106.63980415015395, 89.87084326311269, 87.1791438490622, 91.35248817322237, 75.84126702142463, 69.19013180748705, 60.50380658880891, 59.96703458457327, 59.746204575863516, 53.24739620569943, 52.53376778405749, 43.266116411031554, 47.13949725688943, 45.323682820152136], \"type\": \"scatter\", \"uid\": \"10c15fa3-e152-4fe0-b38d-8b037dd56089\"}, {\"name\": \"2 ans\", \"x\": [\"1992\", \"1993\", \"1994\", \"1995\", \"1996\", \"1997\", \"1998\", \"1999\", \"2000\", \"2001\", \"2002\", \"2003\", \"2004\", \"2005\", \"2006\", \"2007\", \"2008\", \"2009\", \"2010\", \"2011\", \"2012\", \"2013\", \"2014\", \"2015\", \"2016\", \"2017\"], \"y\": [60.729267493493516, 61.781924614257655, 67.44619923065292, 53.471419149088824, 37.8133901670992, 45.85964719576307, 53.98069552905043, 55.626946272934156, 53.10101687964514, 57.69404519168512, 56.568540787545565, 56.06547106483405, 51.6228020510978, 43.54620206492755, 45.18975961969924, 51.5626150907548, 42.361811133072294, 39.06367072804083, 36.45505470670432, 30.937408048259215, 28.064216255200698, 28.548894847547533, 27.96996953684088, 26.389337037891917, 26.58312501084319, 24.397838954148376], \"type\": \"scatter\", \"uid\": \"d136ea83-61aa-48e3-bb38-d7125a06244e\"}, {\"name\": \"3 ans\", \"x\": [\"1992\", \"1993\", \"1994\", \"1995\", \"1996\", \"1997\", \"1998\", \"1999\", \"2000\", \"2001\", \"2002\", \"2003\", \"2004\", \"2005\", \"2006\", \"2007\", \"2008\", \"2009\", \"2010\", \"2011\", \"2012\", \"2013\", \"2014\", \"2015\", \"2016\", \"2017\"], \"y\": [21.661587293007557, 19.040297519665362, 19.630904559997536, 18.491277004014567, 15.035515855662585, 15.24456396284909, 15.719120708005262, 18.181269789152836, 17.416232843621007, 17.423118370356725, 17.19348342677325, 16.070881373354545, 15.074866352890567, 12.48794343178943, 14.831486659722028, 13.176917647958472, 12.650185351116313, 12.532684599182705, 9.571982992204868, 9.519723511073988, 9.023591607780114, 8.480906945447625, 8.390982365673818, 7.787503969989774, 6.928320343436403, 7.404766631284694], \"type\": \"scatter\", \"uid\": \"81e424e1-9111-4620-a60e-fcb687d18477\"}, {\"name\": \"4 ans\", \"x\": [\"1992\", \"1993\", \"1994\", \"1995\", \"1996\", \"1997\", \"1998\", \"1999\", \"2000\", \"2001\", \"2002\", \"2003\", \"2004\", \"2005\", \"2006\", \"2007\", \"2008\", \"2009\", \"2010\", \"2011\", \"2012\", \"2013\", \"2014\", \"2015\", \"2016\", \"2017\"], \"y\": [16.808797065372115, 16.995324465611194, 17.814825748307623, 16.588058627741507, 14.531135477685883, 15.44618725447347, 13.960276362771472, 15.545336503510667, 15.618945628343575, 15.944965527213963, 15.367900383177192, 13.657900504837993, 12.273324633241925, 12.820326218200108, 11.756259822997635, 11.071222647774409, 11.49609526004607, 9.942997601699314, 9.450253848336835, 8.81597374131383, 7.130637392816472, 8.006289172715762, 6.830233555885543, 6.806710541247391, 6.956655963410436, 6.384211919755706], \"type\": \"scatter\", \"uid\": \"fb0ba515-c7a2-4e1e-87f7-165b433cee31\"}, {\"name\": \"5 ans\", \"x\": [\"1992\", \"1993\", \"1994\", \"1995\", \"1996\", \"1997\", \"1998\", \"1999\", \"2000\", \"2001\", \"2002\", \"2003\", \"2004\", \"2005\", \"2006\", \"2007\", \"2008\", \"2009\", \"2010\", \"2011\", \"2012\", \"2013\", \"2014\", \"2015\", \"2016\", \"2017\"], \"y\": [14.83963199862869, 14.184733356387603, 15.103947519589964, 15.069014009569788, 14.93823233939851, 13.351161719400546, 12.610989527902706, 13.472995651864906, 12.903029113672366, 13.612847551635099, 12.606097995100813, 11.457905865614777, 12.05015098199281, 10.498647289511277, 10.496627862560764, 10.27151259335226, 9.823983075938221, 8.726848091027543, 8.87518813128049, 7.341963791608643, 6.291181612287109, 6.0633232071569845, 6.05800948062896, 5.565987506040357, 6.087783590963734, 5.788939314394563], \"type\": \"scatter\", \"uid\": \"d33ba4fe-332d-496d-8a64-66a05cb257bc\"}], {\"margin\": {\"b\": 50, \"l\": 50, \"pad\": 4, \"r\": 50, \"t\": 50}, \"title\": \"<b>Time after obtention of the driving license</b>\", \"titlefont\": {\"color\": \"#7f7f7f\", \"family\": \"Courier New, monospace\", \"size\": 18}, \"xaxis\": {\"title\": \"Year\", \"titlefont\": {\"color\": \"#7f7f7f\", \"family\": \"Courier New, monospace\", \"size\": 15}}, \"yaxis\": {\"title\": \"Accidents per 10'000 people\", \"titlefont\": {\"color\": \"#7f7f7f\", \"family\": \"Courier New, monospace\", \"size\": 15}}}, {\"showLink\": true, \"linkText\": \"Export to plot.ly\", \"plotlyServerURL\": \"https://plot.ly\"})});</script><script type=\"text/javascript\">window.addEventListener(\"resize\", function(){window._Plotly.Plots.resize(document.getElementById(\"b87df28e-27a7-432c-865f-ef5c1040bb5e\"));});</script>"
      ],
      "text/vnd.plotly.v1+html": [
       "<div id=\"b87df28e-27a7-432c-865f-ef5c1040bb5e\" style=\"height: 525px; width: 100%;\" class=\"plotly-graph-div\"></div><script type=\"text/javascript\">require([\"plotly\"], function(Plotly) { window.PLOTLYENV=window.PLOTLYENV || {};window.PLOTLYENV.BASE_URL=\"https://plot.ly\";Plotly.newPlot(\"b87df28e-27a7-432c-865f-ef5c1040bb5e\", [{\"name\": \"0 an\", \"x\": [\"1992\", \"1993\", \"1994\", \"1995\", \"1996\", \"1997\", \"1998\", \"1999\", \"2000\", \"2001\", \"2002\", \"2003\", \"2004\", \"2005\", \"2006\", \"2007\", \"2008\", \"2009\", \"2010\", \"2011\", \"2012\", \"2013\", \"2014\", \"2015\", \"2016\", \"2017\"], \"y\": [142.49826215729047, 123.37476877548339, 123.55649923440322, 128.2468755819661, 134.7260540214114, 128.56031813160038, 138.59049012360606, 148.3588983374604, 156.15050830409461, 158.15417825885405, 143.33275932052587, 153.4171524238373, 136.09034354206176, 124.39740908323162, 124.71705120627576, 121.10742453469803, 103.34980447163538, 107.36998439043553, 91.84656168188054, 90.65061981176446, 82.19310066556663, 73.99197002722646, 73.75108702216953, 66.29735757541648, 66.4135500735034, 65.90354716277753], \"type\": \"scatter\", \"uid\": \"6ff6b69f-7cd8-4184-a97c-8dd9578bd01c\"}, {\"name\": \"1 an\", \"x\": [\"1992\", \"1993\", \"1994\", \"1995\", \"1996\", \"1997\", \"1998\", \"1999\", \"2000\", \"2001\", \"2002\", \"2003\", \"2004\", \"2005\", \"2006\", \"2007\", \"2008\", \"2009\", \"2010\", \"2011\", \"2012\", \"2013\", \"2014\", \"2015\", \"2016\", \"2017\"], \"y\": [115.05601627241772, 116.98797043173582, 105.37978858455428, 103.90279714636435, 91.44710468714844, 92.48722113590078, 105.40600372431813, 114.48353002160107, 107.44953949475973, 121.96862357551987, 116.46113317413803, 109.37787790643705, 106.63980415015395, 89.87084326311269, 87.1791438490622, 91.35248817322237, 75.84126702142463, 69.19013180748705, 60.50380658880891, 59.96703458457327, 59.746204575863516, 53.24739620569943, 52.53376778405749, 43.266116411031554, 47.13949725688943, 45.323682820152136], \"type\": \"scatter\", \"uid\": \"10c15fa3-e152-4fe0-b38d-8b037dd56089\"}, {\"name\": \"2 ans\", \"x\": [\"1992\", \"1993\", \"1994\", \"1995\", \"1996\", \"1997\", \"1998\", \"1999\", \"2000\", \"2001\", \"2002\", \"2003\", \"2004\", \"2005\", \"2006\", \"2007\", \"2008\", \"2009\", \"2010\", \"2011\", \"2012\", \"2013\", \"2014\", \"2015\", \"2016\", \"2017\"], \"y\": [60.729267493493516, 61.781924614257655, 67.44619923065292, 53.471419149088824, 37.8133901670992, 45.85964719576307, 53.98069552905043, 55.626946272934156, 53.10101687964514, 57.69404519168512, 56.568540787545565, 56.06547106483405, 51.6228020510978, 43.54620206492755, 45.18975961969924, 51.5626150907548, 42.361811133072294, 39.06367072804083, 36.45505470670432, 30.937408048259215, 28.064216255200698, 28.548894847547533, 27.96996953684088, 26.389337037891917, 26.58312501084319, 24.397838954148376], \"type\": \"scatter\", \"uid\": \"d136ea83-61aa-48e3-bb38-d7125a06244e\"}, {\"name\": \"3 ans\", \"x\": [\"1992\", \"1993\", \"1994\", \"1995\", \"1996\", \"1997\", \"1998\", \"1999\", \"2000\", \"2001\", \"2002\", \"2003\", \"2004\", \"2005\", \"2006\", \"2007\", \"2008\", \"2009\", \"2010\", \"2011\", \"2012\", \"2013\", \"2014\", \"2015\", \"2016\", \"2017\"], \"y\": [21.661587293007557, 19.040297519665362, 19.630904559997536, 18.491277004014567, 15.035515855662585, 15.24456396284909, 15.719120708005262, 18.181269789152836, 17.416232843621007, 17.423118370356725, 17.19348342677325, 16.070881373354545, 15.074866352890567, 12.48794343178943, 14.831486659722028, 13.176917647958472, 12.650185351116313, 12.532684599182705, 9.571982992204868, 9.519723511073988, 9.023591607780114, 8.480906945447625, 8.390982365673818, 7.787503969989774, 6.928320343436403, 7.404766631284694], \"type\": \"scatter\", \"uid\": \"81e424e1-9111-4620-a60e-fcb687d18477\"}, {\"name\": \"4 ans\", \"x\": [\"1992\", \"1993\", \"1994\", \"1995\", \"1996\", \"1997\", \"1998\", \"1999\", \"2000\", \"2001\", \"2002\", \"2003\", \"2004\", \"2005\", \"2006\", \"2007\", \"2008\", \"2009\", \"2010\", \"2011\", \"2012\", \"2013\", \"2014\", \"2015\", \"2016\", \"2017\"], \"y\": [16.808797065372115, 16.995324465611194, 17.814825748307623, 16.588058627741507, 14.531135477685883, 15.44618725447347, 13.960276362771472, 15.545336503510667, 15.618945628343575, 15.944965527213963, 15.367900383177192, 13.657900504837993, 12.273324633241925, 12.820326218200108, 11.756259822997635, 11.071222647774409, 11.49609526004607, 9.942997601699314, 9.450253848336835, 8.81597374131383, 7.130637392816472, 8.006289172715762, 6.830233555885543, 6.806710541247391, 6.956655963410436, 6.384211919755706], \"type\": \"scatter\", \"uid\": \"fb0ba515-c7a2-4e1e-87f7-165b433cee31\"}, {\"name\": \"5 ans\", \"x\": [\"1992\", \"1993\", \"1994\", \"1995\", \"1996\", \"1997\", \"1998\", \"1999\", \"2000\", \"2001\", \"2002\", \"2003\", \"2004\", \"2005\", \"2006\", \"2007\", \"2008\", \"2009\", \"2010\", \"2011\", \"2012\", \"2013\", \"2014\", \"2015\", \"2016\", \"2017\"], \"y\": [14.83963199862869, 14.184733356387603, 15.103947519589964, 15.069014009569788, 14.93823233939851, 13.351161719400546, 12.610989527902706, 13.472995651864906, 12.903029113672366, 13.612847551635099, 12.606097995100813, 11.457905865614777, 12.05015098199281, 10.498647289511277, 10.496627862560764, 10.27151259335226, 9.823983075938221, 8.726848091027543, 8.87518813128049, 7.341963791608643, 6.291181612287109, 6.0633232071569845, 6.05800948062896, 5.565987506040357, 6.087783590963734, 5.788939314394563], \"type\": \"scatter\", \"uid\": \"d33ba4fe-332d-496d-8a64-66a05cb257bc\"}], {\"margin\": {\"b\": 50, \"l\": 50, \"pad\": 4, \"r\": 50, \"t\": 50}, \"title\": \"<b>Time after obtention of the driving license</b>\", \"titlefont\": {\"color\": \"#7f7f7f\", \"family\": \"Courier New, monospace\", \"size\": 18}, \"xaxis\": {\"title\": \"Year\", \"titlefont\": {\"color\": \"#7f7f7f\", \"family\": \"Courier New, monospace\", \"size\": 15}}, \"yaxis\": {\"title\": \"Accidents per 10'000 people\", \"titlefont\": {\"color\": \"#7f7f7f\", \"family\": \"Courier New, monospace\", \"size\": 15}}}, {\"showLink\": true, \"linkText\": \"Export to plot.ly\", \"plotlyServerURL\": \"https://plot.ly\"})});</script><script type=\"text/javascript\">window.addEventListener(\"resize\", function(){window._Plotly.Plots.resize(document.getElementById(\"b87df28e-27a7-432c-865f-ef5c1040bb5e\"));});</script>"
      ]
     },
     "metadata": {},
     "output_type": "display_data"
    },
    {
     "data": {
      "application/vnd.plotly.v1+json": {
       "config": {
        "linkText": "Export to plot.ly",
        "plotlyServerURL": "https://plot.ly",
        "showLink": true
       },
       "data": [
        {
         "name": "3 ans",
         "type": "scatter",
         "uid": "12c5375f-8073-4a71-8a5d-de991932ecd7",
         "x": [
          "1992",
          "1993",
          "1994",
          "1995",
          "1996",
          "1997",
          "1998",
          "1999",
          "2000",
          "2001",
          "2002",
          "2003",
          "2004",
          "2005",
          "2006",
          "2007",
          "2008",
          "2009",
          "2010",
          "2011",
          "2012",
          "2013",
          "2014",
          "2015",
          "2016",
          "2017"
         ],
         "y": [
          21.661587293007557,
          19.040297519665362,
          19.630904559997536,
          18.491277004014567,
          15.035515855662585,
          15.24456396284909,
          15.719120708005262,
          18.181269789152836,
          17.416232843621007,
          17.423118370356725,
          17.19348342677325,
          16.070881373354545,
          15.074866352890567,
          12.48794343178943,
          14.831486659722028,
          13.176917647958472,
          12.650185351116313,
          12.532684599182705,
          9.571982992204868,
          9.519723511073988,
          9.023591607780114,
          8.480906945447625,
          8.390982365673818,
          7.787503969989774,
          6.928320343436403,
          7.404766631284694
         ]
        },
        {
         "name": "4 ans",
         "type": "scatter",
         "uid": "2b4ed2a1-1cee-4387-9fbb-de59df40caa1",
         "x": [
          "1992",
          "1993",
          "1994",
          "1995",
          "1996",
          "1997",
          "1998",
          "1999",
          "2000",
          "2001",
          "2002",
          "2003",
          "2004",
          "2005",
          "2006",
          "2007",
          "2008",
          "2009",
          "2010",
          "2011",
          "2012",
          "2013",
          "2014",
          "2015",
          "2016",
          "2017"
         ],
         "y": [
          16.808797065372115,
          16.995324465611194,
          17.814825748307623,
          16.588058627741507,
          14.531135477685883,
          15.44618725447347,
          13.960276362771472,
          15.545336503510667,
          15.618945628343575,
          15.944965527213963,
          15.367900383177192,
          13.657900504837993,
          12.273324633241925,
          12.820326218200108,
          11.756259822997635,
          11.071222647774409,
          11.49609526004607,
          9.942997601699314,
          9.450253848336835,
          8.81597374131383,
          7.130637392816472,
          8.006289172715762,
          6.830233555885543,
          6.806710541247391,
          6.956655963410436,
          6.384211919755706
         ]
        },
        {
         "name": "5 ans",
         "type": "scatter",
         "uid": "f015ffd2-0f21-4ffb-a1e0-2fca87e2b398",
         "x": [
          "1992",
          "1993",
          "1994",
          "1995",
          "1996",
          "1997",
          "1998",
          "1999",
          "2000",
          "2001",
          "2002",
          "2003",
          "2004",
          "2005",
          "2006",
          "2007",
          "2008",
          "2009",
          "2010",
          "2011",
          "2012",
          "2013",
          "2014",
          "2015",
          "2016",
          "2017"
         ],
         "y": [
          14.83963199862869,
          14.184733356387603,
          15.103947519589964,
          15.069014009569788,
          14.93823233939851,
          13.351161719400546,
          12.610989527902706,
          13.472995651864906,
          12.903029113672366,
          13.612847551635099,
          12.606097995100813,
          11.457905865614777,
          12.05015098199281,
          10.498647289511277,
          10.496627862560764,
          10.27151259335226,
          9.823983075938221,
          8.726848091027543,
          8.87518813128049,
          7.341963791608643,
          6.291181612287109,
          6.0633232071569845,
          6.05800948062896,
          5.565987506040357,
          6.087783590963734,
          5.788939314394563
         ]
        },
        {
         "name": "6-10 ans",
         "type": "scatter",
         "uid": "d6f11c9b-c16a-4750-9d77-06ddb8979c1d",
         "x": [
          "1992",
          "1993",
          "1994",
          "1995",
          "1996",
          "1997",
          "1998",
          "1999",
          "2000",
          "2001",
          "2002",
          "2003",
          "2004",
          "2005",
          "2006",
          "2007",
          "2008",
          "2009",
          "2010",
          "2011",
          "2012",
          "2013",
          "2014",
          "2015",
          "2016",
          "2017"
         ],
         "y": [
          11.842954293276874,
          11.87844004103431,
          11.847787860958594,
          12.10901769861658,
          11.07304614949254,
          11.179562456099942,
          11.864094388744359,
          12.247333704834855,
          11.82918343603606,
          11.006536764763796,
          10.86188290011138,
          8.817624092182784,
          8.12054981187964,
          7.732963068719816,
          7.713263490842962,
          7.787034272226835,
          7.49795287641024,
          6.91701339198748,
          6.87806136254739,
          6.050665420036388,
          5.474215379380595,
          5.459697787595191,
          5.25762037542071,
          4.839923132483316,
          4.767882622717608,
          4.883310050904813
         ]
        },
        {
         "name": "11-15 ans",
         "type": "scatter",
         "uid": "bc5e5e6d-ff90-47d6-8c2b-782633b07244",
         "x": [
          "1992",
          "1993",
          "1994",
          "1995",
          "1996",
          "1997",
          "1998",
          "1999",
          "2000",
          "2001",
          "2002",
          "2003",
          "2004",
          "2005",
          "2006",
          "2007",
          "2008",
          "2009",
          "2010",
          "2011",
          "2012",
          "2013",
          "2014",
          "2015",
          "2016",
          "2017"
         ],
         "y": [
          7.140737796097364,
          7.221522976534824,
          7.62788740630757,
          7.2374923096672275,
          6.932950654128291,
          6.92492165403048,
          7.010502617101137,
          7.381686499061088,
          7.136686950726767,
          7.308611841259825,
          6.765645081742322,
          6.57544730762517,
          6.00087424284425,
          5.563084563025876,
          4.999643137078772,
          4.9680796214744,
          4.576432338299983,
          4.696055924981654,
          4.416955522310921,
          4.137954099891357,
          4.0842208224225445,
          3.9050221388848514,
          3.7132349161021714,
          3.4478299262056757,
          3.4557127445927307,
          3.4469905282221562
         ]
        },
        {
         "name": "16 ans et plus",
         "type": "scatter",
         "uid": "ff9ea757-c554-426a-8127-a30337f2d65c",
         "x": [
          "1992",
          "1993",
          "1994",
          "1995",
          "1996",
          "1997",
          "1998",
          "1999",
          "2000",
          "2001",
          "2002",
          "2003",
          "2004",
          "2005",
          "2006",
          "2007",
          "2008",
          "2009",
          "2010",
          "2011",
          "2012",
          "2013",
          "2014",
          "2015",
          "2016",
          "2017"
         ],
         "y": [
          2.37235918240681,
          2.429572226097613,
          2.4588028871984022,
          2.4906855554680467,
          2.346793067472385,
          2.4490369391215348,
          2.4286532998305788,
          2.5044033458600152,
          2.7102925402726075,
          2.656739216349482,
          2.6290247519864036,
          2.5923088653152444,
          2.459864706139061,
          2.3795304595704363,
          2.3137461717666596,
          2.371177554658393,
          2.18001504648867,
          2.1634463279036917,
          2.0691668835996078,
          1.9517560873889495,
          1.862073800619002,
          1.8042252058337116,
          1.7876337874278032,
          1.7571339172734461,
          1.7936322770566173,
          1.723074809799288
         ]
        }
       ],
       "layout": {
        "margin": {
         "b": 50,
         "l": 50,
         "pad": 4,
         "r": 50,
         "t": 50
        },
        "title": "<b>Time after obtention of the driving license (experienced drivers)</b>",
        "titlefont": {
         "color": "#7f7f7f",
         "family": "Courier New, monospace",
         "size": 18
        },
        "xaxis": {
         "title": "Year",
         "titlefont": {
          "color": "#7f7f7f",
          "family": "Courier New, monospace",
          "size": 15
         }
        },
        "yaxis": {
         "title": "Accidents per 10'000 people",
         "titlefont": {
          "color": "#7f7f7f",
          "family": "Courier New, monospace",
          "size": 15
         }
        }
       }
      },
      "text/html": [
       "<div id=\"72c4fc88-7108-4378-b5b8-40f0f85fe92d\" style=\"height: 525px; width: 100%;\" class=\"plotly-graph-div\"></div><script type=\"text/javascript\">require([\"plotly\"], function(Plotly) { window.PLOTLYENV=window.PLOTLYENV || {};window.PLOTLYENV.BASE_URL=\"https://plot.ly\";Plotly.newPlot(\"72c4fc88-7108-4378-b5b8-40f0f85fe92d\", [{\"name\": \"3 ans\", \"x\": [\"1992\", \"1993\", \"1994\", \"1995\", \"1996\", \"1997\", \"1998\", \"1999\", \"2000\", \"2001\", \"2002\", \"2003\", \"2004\", \"2005\", \"2006\", \"2007\", \"2008\", \"2009\", \"2010\", \"2011\", \"2012\", \"2013\", \"2014\", \"2015\", \"2016\", \"2017\"], \"y\": [21.661587293007557, 19.040297519665362, 19.630904559997536, 18.491277004014567, 15.035515855662585, 15.24456396284909, 15.719120708005262, 18.181269789152836, 17.416232843621007, 17.423118370356725, 17.19348342677325, 16.070881373354545, 15.074866352890567, 12.48794343178943, 14.831486659722028, 13.176917647958472, 12.650185351116313, 12.532684599182705, 9.571982992204868, 9.519723511073988, 9.023591607780114, 8.480906945447625, 8.390982365673818, 7.787503969989774, 6.928320343436403, 7.404766631284694], \"type\": \"scatter\", \"uid\": \"12c5375f-8073-4a71-8a5d-de991932ecd7\"}, {\"name\": \"4 ans\", \"x\": [\"1992\", \"1993\", \"1994\", \"1995\", \"1996\", \"1997\", \"1998\", \"1999\", \"2000\", \"2001\", \"2002\", \"2003\", \"2004\", \"2005\", \"2006\", \"2007\", \"2008\", \"2009\", \"2010\", \"2011\", \"2012\", \"2013\", \"2014\", \"2015\", \"2016\", \"2017\"], \"y\": [16.808797065372115, 16.995324465611194, 17.814825748307623, 16.588058627741507, 14.531135477685883, 15.44618725447347, 13.960276362771472, 15.545336503510667, 15.618945628343575, 15.944965527213963, 15.367900383177192, 13.657900504837993, 12.273324633241925, 12.820326218200108, 11.756259822997635, 11.071222647774409, 11.49609526004607, 9.942997601699314, 9.450253848336835, 8.81597374131383, 7.130637392816472, 8.006289172715762, 6.830233555885543, 6.806710541247391, 6.956655963410436, 6.384211919755706], \"type\": \"scatter\", \"uid\": \"2b4ed2a1-1cee-4387-9fbb-de59df40caa1\"}, {\"name\": \"5 ans\", \"x\": [\"1992\", \"1993\", \"1994\", \"1995\", \"1996\", \"1997\", \"1998\", \"1999\", \"2000\", \"2001\", \"2002\", \"2003\", \"2004\", \"2005\", \"2006\", \"2007\", \"2008\", \"2009\", \"2010\", \"2011\", \"2012\", \"2013\", \"2014\", \"2015\", \"2016\", \"2017\"], \"y\": [14.83963199862869, 14.184733356387603, 15.103947519589964, 15.069014009569788, 14.93823233939851, 13.351161719400546, 12.610989527902706, 13.472995651864906, 12.903029113672366, 13.612847551635099, 12.606097995100813, 11.457905865614777, 12.05015098199281, 10.498647289511277, 10.496627862560764, 10.27151259335226, 9.823983075938221, 8.726848091027543, 8.87518813128049, 7.341963791608643, 6.291181612287109, 6.0633232071569845, 6.05800948062896, 5.565987506040357, 6.087783590963734, 5.788939314394563], \"type\": \"scatter\", \"uid\": \"f015ffd2-0f21-4ffb-a1e0-2fca87e2b398\"}, {\"name\": \"6-10 ans\", \"x\": [\"1992\", \"1993\", \"1994\", \"1995\", \"1996\", \"1997\", \"1998\", \"1999\", \"2000\", \"2001\", \"2002\", \"2003\", \"2004\", \"2005\", \"2006\", \"2007\", \"2008\", \"2009\", \"2010\", \"2011\", \"2012\", \"2013\", \"2014\", \"2015\", \"2016\", \"2017\"], \"y\": [11.842954293276874, 11.87844004103431, 11.847787860958594, 12.10901769861658, 11.07304614949254, 11.179562456099942, 11.864094388744359, 12.247333704834855, 11.82918343603606, 11.006536764763796, 10.86188290011138, 8.817624092182784, 8.12054981187964, 7.732963068719816, 7.713263490842962, 7.787034272226835, 7.49795287641024, 6.91701339198748, 6.87806136254739, 6.050665420036388, 5.474215379380595, 5.459697787595191, 5.25762037542071, 4.839923132483316, 4.767882622717608, 4.883310050904813], \"type\": \"scatter\", \"uid\": \"d6f11c9b-c16a-4750-9d77-06ddb8979c1d\"}, {\"name\": \"11-15 ans\", \"x\": [\"1992\", \"1993\", \"1994\", \"1995\", \"1996\", \"1997\", \"1998\", \"1999\", \"2000\", \"2001\", \"2002\", \"2003\", \"2004\", \"2005\", \"2006\", \"2007\", \"2008\", \"2009\", \"2010\", \"2011\", \"2012\", \"2013\", \"2014\", \"2015\", \"2016\", \"2017\"], \"y\": [7.140737796097364, 7.221522976534824, 7.62788740630757, 7.2374923096672275, 6.932950654128291, 6.92492165403048, 7.010502617101137, 7.381686499061088, 7.136686950726767, 7.308611841259825, 6.765645081742322, 6.57544730762517, 6.00087424284425, 5.563084563025876, 4.999643137078772, 4.9680796214744, 4.576432338299983, 4.696055924981654, 4.416955522310921, 4.137954099891357, 4.0842208224225445, 3.9050221388848514, 3.7132349161021714, 3.4478299262056757, 3.4557127445927307, 3.4469905282221562], \"type\": \"scatter\", \"uid\": \"bc5e5e6d-ff90-47d6-8c2b-782633b07244\"}, {\"name\": \"16 ans et plus\", \"x\": [\"1992\", \"1993\", \"1994\", \"1995\", \"1996\", \"1997\", \"1998\", \"1999\", \"2000\", \"2001\", \"2002\", \"2003\", \"2004\", \"2005\", \"2006\", \"2007\", \"2008\", \"2009\", \"2010\", \"2011\", \"2012\", \"2013\", \"2014\", \"2015\", \"2016\", \"2017\"], \"y\": [2.37235918240681, 2.429572226097613, 2.4588028871984022, 2.4906855554680467, 2.346793067472385, 2.4490369391215348, 2.4286532998305788, 2.5044033458600152, 2.7102925402726075, 2.656739216349482, 2.6290247519864036, 2.5923088653152444, 2.459864706139061, 2.3795304595704363, 2.3137461717666596, 2.371177554658393, 2.18001504648867, 2.1634463279036917, 2.0691668835996078, 1.9517560873889495, 1.862073800619002, 1.8042252058337116, 1.7876337874278032, 1.7571339172734461, 1.7936322770566173, 1.723074809799288], \"type\": \"scatter\", \"uid\": \"ff9ea757-c554-426a-8127-a30337f2d65c\"}], {\"margin\": {\"b\": 50, \"l\": 50, \"pad\": 4, \"r\": 50, \"t\": 50}, \"title\": \"<b>Time after obtention of the driving license (experienced drivers)</b>\", \"titlefont\": {\"color\": \"#7f7f7f\", \"family\": \"Courier New, monospace\", \"size\": 18}, \"xaxis\": {\"title\": \"Year\", \"titlefont\": {\"color\": \"#7f7f7f\", \"family\": \"Courier New, monospace\", \"size\": 15}}, \"yaxis\": {\"title\": \"Accidents per 10'000 people\", \"titlefont\": {\"color\": \"#7f7f7f\", \"family\": \"Courier New, monospace\", \"size\": 15}}}, {\"showLink\": true, \"linkText\": \"Export to plot.ly\", \"plotlyServerURL\": \"https://plot.ly\"})});</script><script type=\"text/javascript\">window.addEventListener(\"resize\", function(){window._Plotly.Plots.resize(document.getElementById(\"72c4fc88-7108-4378-b5b8-40f0f85fe92d\"));});</script>"
      ],
      "text/vnd.plotly.v1+html": [
       "<div id=\"72c4fc88-7108-4378-b5b8-40f0f85fe92d\" style=\"height: 525px; width: 100%;\" class=\"plotly-graph-div\"></div><script type=\"text/javascript\">require([\"plotly\"], function(Plotly) { window.PLOTLYENV=window.PLOTLYENV || {};window.PLOTLYENV.BASE_URL=\"https://plot.ly\";Plotly.newPlot(\"72c4fc88-7108-4378-b5b8-40f0f85fe92d\", [{\"name\": \"3 ans\", \"x\": [\"1992\", \"1993\", \"1994\", \"1995\", \"1996\", \"1997\", \"1998\", \"1999\", \"2000\", \"2001\", \"2002\", \"2003\", \"2004\", \"2005\", \"2006\", \"2007\", \"2008\", \"2009\", \"2010\", \"2011\", \"2012\", \"2013\", \"2014\", \"2015\", \"2016\", \"2017\"], \"y\": [21.661587293007557, 19.040297519665362, 19.630904559997536, 18.491277004014567, 15.035515855662585, 15.24456396284909, 15.719120708005262, 18.181269789152836, 17.416232843621007, 17.423118370356725, 17.19348342677325, 16.070881373354545, 15.074866352890567, 12.48794343178943, 14.831486659722028, 13.176917647958472, 12.650185351116313, 12.532684599182705, 9.571982992204868, 9.519723511073988, 9.023591607780114, 8.480906945447625, 8.390982365673818, 7.787503969989774, 6.928320343436403, 7.404766631284694], \"type\": \"scatter\", \"uid\": \"12c5375f-8073-4a71-8a5d-de991932ecd7\"}, {\"name\": \"4 ans\", \"x\": [\"1992\", \"1993\", \"1994\", \"1995\", \"1996\", \"1997\", \"1998\", \"1999\", \"2000\", \"2001\", \"2002\", \"2003\", \"2004\", \"2005\", \"2006\", \"2007\", \"2008\", \"2009\", \"2010\", \"2011\", \"2012\", \"2013\", \"2014\", \"2015\", \"2016\", \"2017\"], \"y\": [16.808797065372115, 16.995324465611194, 17.814825748307623, 16.588058627741507, 14.531135477685883, 15.44618725447347, 13.960276362771472, 15.545336503510667, 15.618945628343575, 15.944965527213963, 15.367900383177192, 13.657900504837993, 12.273324633241925, 12.820326218200108, 11.756259822997635, 11.071222647774409, 11.49609526004607, 9.942997601699314, 9.450253848336835, 8.81597374131383, 7.130637392816472, 8.006289172715762, 6.830233555885543, 6.806710541247391, 6.956655963410436, 6.384211919755706], \"type\": \"scatter\", \"uid\": \"2b4ed2a1-1cee-4387-9fbb-de59df40caa1\"}, {\"name\": \"5 ans\", \"x\": [\"1992\", \"1993\", \"1994\", \"1995\", \"1996\", \"1997\", \"1998\", \"1999\", \"2000\", \"2001\", \"2002\", \"2003\", \"2004\", \"2005\", \"2006\", \"2007\", \"2008\", \"2009\", \"2010\", \"2011\", \"2012\", \"2013\", \"2014\", \"2015\", \"2016\", \"2017\"], \"y\": [14.83963199862869, 14.184733356387603, 15.103947519589964, 15.069014009569788, 14.93823233939851, 13.351161719400546, 12.610989527902706, 13.472995651864906, 12.903029113672366, 13.612847551635099, 12.606097995100813, 11.457905865614777, 12.05015098199281, 10.498647289511277, 10.496627862560764, 10.27151259335226, 9.823983075938221, 8.726848091027543, 8.87518813128049, 7.341963791608643, 6.291181612287109, 6.0633232071569845, 6.05800948062896, 5.565987506040357, 6.087783590963734, 5.788939314394563], \"type\": \"scatter\", \"uid\": \"f015ffd2-0f21-4ffb-a1e0-2fca87e2b398\"}, {\"name\": \"6-10 ans\", \"x\": [\"1992\", \"1993\", \"1994\", \"1995\", \"1996\", \"1997\", \"1998\", \"1999\", \"2000\", \"2001\", \"2002\", \"2003\", \"2004\", \"2005\", \"2006\", \"2007\", \"2008\", \"2009\", \"2010\", \"2011\", \"2012\", \"2013\", \"2014\", \"2015\", \"2016\", \"2017\"], \"y\": [11.842954293276874, 11.87844004103431, 11.847787860958594, 12.10901769861658, 11.07304614949254, 11.179562456099942, 11.864094388744359, 12.247333704834855, 11.82918343603606, 11.006536764763796, 10.86188290011138, 8.817624092182784, 8.12054981187964, 7.732963068719816, 7.713263490842962, 7.787034272226835, 7.49795287641024, 6.91701339198748, 6.87806136254739, 6.050665420036388, 5.474215379380595, 5.459697787595191, 5.25762037542071, 4.839923132483316, 4.767882622717608, 4.883310050904813], \"type\": \"scatter\", \"uid\": \"d6f11c9b-c16a-4750-9d77-06ddb8979c1d\"}, {\"name\": \"11-15 ans\", \"x\": [\"1992\", \"1993\", \"1994\", \"1995\", \"1996\", \"1997\", \"1998\", \"1999\", \"2000\", \"2001\", \"2002\", \"2003\", \"2004\", \"2005\", \"2006\", \"2007\", \"2008\", \"2009\", \"2010\", \"2011\", \"2012\", \"2013\", \"2014\", \"2015\", \"2016\", \"2017\"], \"y\": [7.140737796097364, 7.221522976534824, 7.62788740630757, 7.2374923096672275, 6.932950654128291, 6.92492165403048, 7.010502617101137, 7.381686499061088, 7.136686950726767, 7.308611841259825, 6.765645081742322, 6.57544730762517, 6.00087424284425, 5.563084563025876, 4.999643137078772, 4.9680796214744, 4.576432338299983, 4.696055924981654, 4.416955522310921, 4.137954099891357, 4.0842208224225445, 3.9050221388848514, 3.7132349161021714, 3.4478299262056757, 3.4557127445927307, 3.4469905282221562], \"type\": \"scatter\", \"uid\": \"bc5e5e6d-ff90-47d6-8c2b-782633b07244\"}, {\"name\": \"16 ans et plus\", \"x\": [\"1992\", \"1993\", \"1994\", \"1995\", \"1996\", \"1997\", \"1998\", \"1999\", \"2000\", \"2001\", \"2002\", \"2003\", \"2004\", \"2005\", \"2006\", \"2007\", \"2008\", \"2009\", \"2010\", \"2011\", \"2012\", \"2013\", \"2014\", \"2015\", \"2016\", \"2017\"], \"y\": [2.37235918240681, 2.429572226097613, 2.4588028871984022, 2.4906855554680467, 2.346793067472385, 2.4490369391215348, 2.4286532998305788, 2.5044033458600152, 2.7102925402726075, 2.656739216349482, 2.6290247519864036, 2.5923088653152444, 2.459864706139061, 2.3795304595704363, 2.3137461717666596, 2.371177554658393, 2.18001504648867, 2.1634463279036917, 2.0691668835996078, 1.9517560873889495, 1.862073800619002, 1.8042252058337116, 1.7876337874278032, 1.7571339172734461, 1.7936322770566173, 1.723074809799288], \"type\": \"scatter\", \"uid\": \"ff9ea757-c554-426a-8127-a30337f2d65c\"}], {\"margin\": {\"b\": 50, \"l\": 50, \"pad\": 4, \"r\": 50, \"t\": 50}, \"title\": \"<b>Time after obtention of the driving license (experienced drivers)</b>\", \"titlefont\": {\"color\": \"#7f7f7f\", \"family\": \"Courier New, monospace\", \"size\": 18}, \"xaxis\": {\"title\": \"Year\", \"titlefont\": {\"color\": \"#7f7f7f\", \"family\": \"Courier New, monospace\", \"size\": 15}}, \"yaxis\": {\"title\": \"Accidents per 10'000 people\", \"titlefont\": {\"color\": \"#7f7f7f\", \"family\": \"Courier New, monospace\", \"size\": 15}}}, {\"showLink\": true, \"linkText\": \"Export to plot.ly\", \"plotlyServerURL\": \"https://plot.ly\"})});</script><script type=\"text/javascript\">window.addEventListener(\"resize\", function(){window._Plotly.Plots.resize(document.getElementById(\"72c4fc88-7108-4378-b5b8-40f0f85fe92d\"));});</script>"
      ]
     },
     "metadata": {},
     "output_type": "display_data"
    }
   ],
   "source": [
    "index_permis = df_Accident_objets['annee_permis_index'].unique()\n",
    "\n",
    "# Create a mapping to know how many years are accounted for in each interval\n",
    "mapping={}\n",
    "for i in range(len(index_permis)-1):\n",
    "    if (index_permis[i]==16):\n",
    "        mapping[index_permis[i]] = 64 # Until 80 years old\n",
    "    else:\n",
    "        mapping[index_permis[i]] = index_permis[i+1] - index_permis[i] \n",
    "\n",
    "# Focus our analysis on the accidents of tourism cars when there was a mistake and drop\n",
    "# the cases where we don't know for how many years the license was hold\n",
    "df_permis = df_Accident_objets_normalized[(df_Accident_objets_normalized.faute_index==1)\\\n",
    "                            & (df_Accident_objets_normalized.voiture_index==210)\\\n",
    "                            & (df_Accident_objets_normalized.annee_permis!='Inconnu')]\n",
    "\n",
    "# Group by the different categories\n",
    "df_permis = df_permis.groupby(['annee_permis','annee_permis_index']).sum()\n",
    "\n",
    "# Rescale the values: divide the total of accidents by the number of different ages\n",
    "# of the intervals (assumption: if you consider people with 6-10 years of license ther\n",
    "# will be approximately 5 times more people than if only one year is taken into account)\n",
    "for i in range(len(df_permis.index)):\n",
    "    df_permis.loc[df_permis.index.values[i]] = df_permis.loc[df_permis.index.values[i]]/\\\n",
    "                                                    mapping[df_permis.index.values[i][1]]\n",
    "\n",
    "# Get the years for which we have information and sort them (reference: 2017)\n",
    "df_permis = df_permis.sort_values(['2017'], ascending=False).reset_index()\\\n",
    "        [['annee_permis']+[col for col in df_permis.columns if IS_DATE.match(col)]].\\\n",
    "        set_index('annee_permis')\n",
    "\n",
    "# Plot the results with our function\n",
    "plot_dataframe(x=df_permis.columns.values, y=df_permis[:6],\\\n",
    "               title='Time after obtention of the driving license', xlabel='Year',\\\n",
    "               ylabel=\"Accidents per 10'000 people\",\\\n",
    "               labels=df_permis.index.values[:6],\\\n",
    "               rotation=45, number_to_plot=None,name_save='accident_driving_licence')\n",
    "\n",
    "# Plot the results but the top 3 lines with our function\n",
    "plot_dataframe(x=df_permis.columns.values, y=df_permis.iloc[3:],\\\n",
    "               title='Time after obtention of the driving license (experienced drivers)', xlabel='Year',\\\n",
    "               ylabel=\"Accidents per 10'000 people\",\\\n",
    "               labels=df_permis.iloc[3:].index.values,\\\n",
    "               rotation=45, number_to_plot=None,name_save='accident_driving_licence_experienced')"
   ]
  },
  {
   "cell_type": "markdown",
   "metadata": {},
   "source": [
    "In general, the results are as expected: throughout both plots, one can easily see that the more experienced the people are, the less accidents they provoque. As before, and especially for new drivers, we observe a kind of pick in the early 2000's, but the tendency has been clearly decreasing in the past years.\n",
    "\n",
    "Only one confirmed drivers (more than 3 years, as the law is now defined in Switzerland) in a thausend has an accident. Note that the results for the category '16 years and more' are probably twisted: we decided to say the people could drive until 80 years old. The point is that the amount of accidents that category causes is the smallest."
   ]
  },
  {
   "cell_type": "markdown",
   "metadata": {},
   "source": [
    "##### Illgeal drivers"
   ]
  },
  {
   "cell_type": "markdown",
   "metadata": {},
   "source": [
    "We start again from our normalized set of before, assuming that the people for which we don't have any information about how much time they have had a driving license for simply didn't have any."
   ]
  },
  {
   "cell_type": "code",
   "execution_count": 26,
   "metadata": {
    "scrolled": false
   },
   "outputs": [
    {
     "data": {
      "application/vnd.plotly.v1+json": {
       "config": {
        "linkText": "Export to plot.ly",
        "plotlyServerURL": "https://plot.ly",
        "showLink": true
       },
       "data": [
        {
         "name": "('Homme', '15-17 ans')",
         "type": "scatter",
         "uid": "54b73e0e-7d2b-490e-9ee4-2921d915d279",
         "x": [
          "1992",
          "1993",
          "1994",
          "1995",
          "1996",
          "1997",
          "1998",
          "1999",
          "2000",
          "2001",
          "2002",
          "2003",
          "2004",
          "2005",
          "2006",
          "2007",
          "2008",
          "2009",
          "2010",
          "2011",
          "2012",
          "2013",
          "2014",
          "2015",
          "2016",
          "2017"
         ],
         "y": [
          1.8244089329695572,
          1.498339340564208,
          1.408392361542604,
          1.4710930221154317,
          1.5288059221113615,
          1.1115875057564353,
          1.4191106906338695,
          1.5675209655929148,
          1.867965940754347,
          1.4845141732037377,
          1.778011410194963,
          2.6571515335560276,
          1.7858471612471165,
          1.8959143046734288,
          1.5746228062641359,
          1.9139434323385554,
          1.4199301394371397,
          1.1484929618915678,
          1.0339275955275247,
          1.1092869503483163,
          1.487143643204497,
          0.6712961236378283,
          0.4511685264835925,
          0.5933309600094933,
          0.5257821008750516,
          0.5348696828222781
         ]
        },
        {
         "name": "('Homme', '21-29 ans')",
         "type": "scatter",
         "uid": "fb59508a-05ce-4468-891e-65ac08e8f17b",
         "x": [
          "1992",
          "1993",
          "1994",
          "1995",
          "1996",
          "1997",
          "1998",
          "1999",
          "2000",
          "2001",
          "2002",
          "2003",
          "2004",
          "2005",
          "2006",
          "2007",
          "2008",
          "2009",
          "2010",
          "2011",
          "2012",
          "2013",
          "2014",
          "2015",
          "2016",
          "2017"
         ],
         "y": [
          1.6418585065655023,
          1.3097472981500813,
          1.103872343296122,
          1.0563789442548832,
          0.9011979338388834,
          1.0309632633423829,
          1.0869745009959995,
          1.3999888966397853,
          1.370114380084409,
          1.2960456208058524,
          1.05061580412701,
          1.3554001997431873,
          1.1867492327666211,
          1.1556085930111624,
          1.1880662242090623,
          1.194424792583541,
          1.0362694300518136,
          1.2387379914305876,
          0.7571567083032749,
          0.8067769261799111,
          0.6942771145843117,
          0.7663592490486053,
          0.698849693404656,
          0.3939520481566984,
          0.3350189384235191,
          0.3551192411496394
         ]
        },
        {
         "name": "('Homme', '18-19 ans')",
         "type": "scatter",
         "uid": "50239e9e-e3a7-4a7b-a52f-79020fb64833",
         "x": [
          "1992",
          "1993",
          "1994",
          "1995",
          "1996",
          "1997",
          "1998",
          "1999",
          "2000",
          "2001",
          "2002",
          "2003",
          "2004",
          "2005",
          "2006",
          "2007",
          "2008",
          "2009",
          "2010",
          "2011",
          "2012",
          "2013",
          "2014",
          "2015",
          "2016",
          "2017"
         ],
         "y": [
          2.0457335091148794,
          1.6406506351661745,
          2.0430973355607103,
          1.5828371747574,
          1.4618458239937628,
          1.7035775127768313,
          1.6852241950045141,
          1.292733661609336,
          1.851959025406563,
          1.8540836191712247,
          2.182478146501717,
          2.847315550898613,
          3.0596287650431746,
          2.030113347995263,
          2.772971294201162,
          2.38420356763552,
          2.5414306136496,
          2.0870291140561408,
          1.6408573479643112,
          0.8313674956093404,
          1.2671460702632498,
          1.0621010482937345,
          0.6325444098887776,
          0.2065688907250568,
          1.3542936316946381,
          0.3183733245603795
         ]
        },
        {
         "name": "('Homme', '30-39 ans')",
         "type": "scatter",
         "uid": "46fa6844-3062-4bf3-a5bc-dcd70d7338a7",
         "x": [
          "1992",
          "1993",
          "1994",
          "1995",
          "1996",
          "1997",
          "1998",
          "1999",
          "2000",
          "2001",
          "2002",
          "2003",
          "2004",
          "2005",
          "2006",
          "2007",
          "2008",
          "2009",
          "2010",
          "2011",
          "2012",
          "2013",
          "2014",
          "2015",
          "2016",
          "2017"
         ],
         "y": [
          0.508080227619942,
          0.4477863852271827,
          0.5567327547811535,
          0.4975099626370018,
          0.5425561298978021,
          0.3622072912327725,
          0.29665276793513196,
          0.5612302166348636,
          0.6128547103681766,
          0.4250859572854011,
          0.5747683273092139,
          0.6298366899761491,
          0.5405021941010942,
          0.6377902807656242,
          0.47321431701152894,
          0.3728421759069386,
          0.5176297555002624,
          0.28620953041960107,
          0.4819733058192029,
          0.33538625022285534,
          0.41786876483216473,
          0.2569131034246517,
          0.21878265962298699,
          0.24797774151792137,
          0.22874172445118324,
          0.2585390604044197
         ]
        },
        {
         "name": "('Femme', '18-19 ans')",
         "type": "scatter",
         "uid": "68050dd7-cf27-410f-a160-469dd1043a9a",
         "x": [
          "1992",
          "1993",
          "1994",
          "1995",
          "1996",
          "1997",
          "1998",
          "1999",
          "2000",
          "2001",
          "2002",
          "2003",
          "2004",
          "2005",
          "2006",
          "2007",
          "2008",
          "2009",
          "2010",
          "2011",
          "2012",
          "2013",
          "2014",
          "2015",
          "2016",
          "2017"
         ],
         "y": [
          0.2388886898149807,
          0,
          0,
          0.6327672175959907,
          0.12771718306981023,
          0.1281821211577409,
          0.25243282131542744,
          0.24752168908800634,
          0,
          0.3633720930232558,
          0.36180759072325336,
          0.3593416860311909,
          0,
          0,
          0.46385954333027957,
          0.3407193721677702,
          0.11132262409689521,
          0,
          0.10744369950146124,
          0,
          0.22302013871852627,
          0.22361359570661896,
          0,
          0.11135609451905303,
          0,
          0.22884866237956838
         ]
        }
       ],
       "layout": {
        "margin": {
         "b": 50,
         "l": 50,
         "pad": 4,
         "r": 50,
         "t": 50
        },
        "title": "<b>Yearly accident for people without driver licence</b>",
        "titlefont": {
         "color": "#7f7f7f",
         "family": "Courier New, monospace",
         "size": 18
        },
        "xaxis": {
         "title": "Year",
         "titlefont": {
          "color": "#7f7f7f",
          "family": "Courier New, monospace",
          "size": 15
         }
        },
        "yaxis": {
         "title": "Accidents per 10'000 people",
         "titlefont": {
          "color": "#7f7f7f",
          "family": "Courier New, monospace",
          "size": 15
         }
        }
       }
      },
      "text/html": [
       "<div id=\"9d22008f-bc5a-4353-ae51-3f4e7ddb4829\" style=\"height: 525px; width: 100%;\" class=\"plotly-graph-div\"></div><script type=\"text/javascript\">require([\"plotly\"], function(Plotly) { window.PLOTLYENV=window.PLOTLYENV || {};window.PLOTLYENV.BASE_URL=\"https://plot.ly\";Plotly.newPlot(\"9d22008f-bc5a-4353-ae51-3f4e7ddb4829\", [{\"name\": \"('Homme', '15-17 ans')\", \"x\": [\"1992\", \"1993\", \"1994\", \"1995\", \"1996\", \"1997\", \"1998\", \"1999\", \"2000\", \"2001\", \"2002\", \"2003\", \"2004\", \"2005\", \"2006\", \"2007\", \"2008\", \"2009\", \"2010\", \"2011\", \"2012\", \"2013\", \"2014\", \"2015\", \"2016\", \"2017\"], \"y\": [1.8244089329695572, 1.498339340564208, 1.408392361542604, 1.4710930221154317, 1.5288059221113615, 1.1115875057564353, 1.4191106906338695, 1.5675209655929148, 1.867965940754347, 1.4845141732037377, 1.778011410194963, 2.6571515335560276, 1.7858471612471165, 1.8959143046734288, 1.5746228062641359, 1.9139434323385554, 1.4199301394371397, 1.1484929618915678, 1.0339275955275247, 1.1092869503483163, 1.487143643204497, 0.6712961236378283, 0.4511685264835925, 0.5933309600094933, 0.5257821008750516, 0.5348696828222781], \"type\": \"scatter\", \"uid\": \"54b73e0e-7d2b-490e-9ee4-2921d915d279\"}, {\"name\": \"('Homme', '21-29 ans')\", \"x\": [\"1992\", \"1993\", \"1994\", \"1995\", \"1996\", \"1997\", \"1998\", \"1999\", \"2000\", \"2001\", \"2002\", \"2003\", \"2004\", \"2005\", \"2006\", \"2007\", \"2008\", \"2009\", \"2010\", \"2011\", \"2012\", \"2013\", \"2014\", \"2015\", \"2016\", \"2017\"], \"y\": [1.6418585065655023, 1.3097472981500813, 1.103872343296122, 1.0563789442548832, 0.9011979338388834, 1.0309632633423829, 1.0869745009959995, 1.3999888966397853, 1.370114380084409, 1.2960456208058524, 1.05061580412701, 1.3554001997431873, 1.1867492327666211, 1.1556085930111624, 1.1880662242090623, 1.194424792583541, 1.0362694300518136, 1.2387379914305876, 0.7571567083032749, 0.8067769261799111, 0.6942771145843117, 0.7663592490486053, 0.698849693404656, 0.3939520481566984, 0.3350189384235191, 0.3551192411496394], \"type\": \"scatter\", \"uid\": \"fb59508a-05ce-4468-891e-65ac08e8f17b\"}, {\"name\": \"('Homme', '18-19 ans')\", \"x\": [\"1992\", \"1993\", \"1994\", \"1995\", \"1996\", \"1997\", \"1998\", \"1999\", \"2000\", \"2001\", \"2002\", \"2003\", \"2004\", \"2005\", \"2006\", \"2007\", \"2008\", \"2009\", \"2010\", \"2011\", \"2012\", \"2013\", \"2014\", \"2015\", \"2016\", \"2017\"], \"y\": [2.0457335091148794, 1.6406506351661745, 2.0430973355607103, 1.5828371747574, 1.4618458239937628, 1.7035775127768313, 1.6852241950045141, 1.292733661609336, 1.851959025406563, 1.8540836191712247, 2.182478146501717, 2.847315550898613, 3.0596287650431746, 2.030113347995263, 2.772971294201162, 2.38420356763552, 2.5414306136496, 2.0870291140561408, 1.6408573479643112, 0.8313674956093404, 1.2671460702632498, 1.0621010482937345, 0.6325444098887776, 0.2065688907250568, 1.3542936316946381, 0.3183733245603795], \"type\": \"scatter\", \"uid\": \"50239e9e-e3a7-4a7b-a52f-79020fb64833\"}, {\"name\": \"('Homme', '30-39 ans')\", \"x\": [\"1992\", \"1993\", \"1994\", \"1995\", \"1996\", \"1997\", \"1998\", \"1999\", \"2000\", \"2001\", \"2002\", \"2003\", \"2004\", \"2005\", \"2006\", \"2007\", \"2008\", \"2009\", \"2010\", \"2011\", \"2012\", \"2013\", \"2014\", \"2015\", \"2016\", \"2017\"], \"y\": [0.508080227619942, 0.4477863852271827, 0.5567327547811535, 0.4975099626370018, 0.5425561298978021, 0.3622072912327725, 0.29665276793513196, 0.5612302166348636, 0.6128547103681766, 0.4250859572854011, 0.5747683273092139, 0.6298366899761491, 0.5405021941010942, 0.6377902807656242, 0.47321431701152894, 0.3728421759069386, 0.5176297555002624, 0.28620953041960107, 0.4819733058192029, 0.33538625022285534, 0.41786876483216473, 0.2569131034246517, 0.21878265962298699, 0.24797774151792137, 0.22874172445118324, 0.2585390604044197], \"type\": \"scatter\", \"uid\": \"46fa6844-3062-4bf3-a5bc-dcd70d7338a7\"}, {\"name\": \"('Femme', '18-19 ans')\", \"x\": [\"1992\", \"1993\", \"1994\", \"1995\", \"1996\", \"1997\", \"1998\", \"1999\", \"2000\", \"2001\", \"2002\", \"2003\", \"2004\", \"2005\", \"2006\", \"2007\", \"2008\", \"2009\", \"2010\", \"2011\", \"2012\", \"2013\", \"2014\", \"2015\", \"2016\", \"2017\"], \"y\": [0.2388886898149807, 0.0, 0.0, 0.6327672175959907, 0.12771718306981023, 0.1281821211577409, 0.25243282131542744, 0.24752168908800634, 0.0, 0.3633720930232558, 0.36180759072325336, 0.3593416860311909, 0.0, 0.0, 0.46385954333027957, 0.3407193721677702, 0.11132262409689521, 0.0, 0.10744369950146124, 0.0, 0.22302013871852627, 0.22361359570661896, 0.0, 0.11135609451905303, 0.0, 0.22884866237956838], \"type\": \"scatter\", \"uid\": \"68050dd7-cf27-410f-a160-469dd1043a9a\"}], {\"margin\": {\"b\": 50, \"l\": 50, \"pad\": 4, \"r\": 50, \"t\": 50}, \"title\": \"<b>Yearly accident for people without driver licence</b>\", \"titlefont\": {\"color\": \"#7f7f7f\", \"family\": \"Courier New, monospace\", \"size\": 18}, \"xaxis\": {\"title\": \"Year\", \"titlefont\": {\"color\": \"#7f7f7f\", \"family\": \"Courier New, monospace\", \"size\": 15}}, \"yaxis\": {\"title\": \"Accidents per 10'000 people\", \"titlefont\": {\"color\": \"#7f7f7f\", \"family\": \"Courier New, monospace\", \"size\": 15}}}, {\"showLink\": true, \"linkText\": \"Export to plot.ly\", \"plotlyServerURL\": \"https://plot.ly\"})});</script><script type=\"text/javascript\">window.addEventListener(\"resize\", function(){window._Plotly.Plots.resize(document.getElementById(\"9d22008f-bc5a-4353-ae51-3f4e7ddb4829\"));});</script>"
      ],
      "text/vnd.plotly.v1+html": [
       "<div id=\"9d22008f-bc5a-4353-ae51-3f4e7ddb4829\" style=\"height: 525px; width: 100%;\" class=\"plotly-graph-div\"></div><script type=\"text/javascript\">require([\"plotly\"], function(Plotly) { window.PLOTLYENV=window.PLOTLYENV || {};window.PLOTLYENV.BASE_URL=\"https://plot.ly\";Plotly.newPlot(\"9d22008f-bc5a-4353-ae51-3f4e7ddb4829\", [{\"name\": \"('Homme', '15-17 ans')\", \"x\": [\"1992\", \"1993\", \"1994\", \"1995\", \"1996\", \"1997\", \"1998\", \"1999\", \"2000\", \"2001\", \"2002\", \"2003\", \"2004\", \"2005\", \"2006\", \"2007\", \"2008\", \"2009\", \"2010\", \"2011\", \"2012\", \"2013\", \"2014\", \"2015\", \"2016\", \"2017\"], \"y\": [1.8244089329695572, 1.498339340564208, 1.408392361542604, 1.4710930221154317, 1.5288059221113615, 1.1115875057564353, 1.4191106906338695, 1.5675209655929148, 1.867965940754347, 1.4845141732037377, 1.778011410194963, 2.6571515335560276, 1.7858471612471165, 1.8959143046734288, 1.5746228062641359, 1.9139434323385554, 1.4199301394371397, 1.1484929618915678, 1.0339275955275247, 1.1092869503483163, 1.487143643204497, 0.6712961236378283, 0.4511685264835925, 0.5933309600094933, 0.5257821008750516, 0.5348696828222781], \"type\": \"scatter\", \"uid\": \"54b73e0e-7d2b-490e-9ee4-2921d915d279\"}, {\"name\": \"('Homme', '21-29 ans')\", \"x\": [\"1992\", \"1993\", \"1994\", \"1995\", \"1996\", \"1997\", \"1998\", \"1999\", \"2000\", \"2001\", \"2002\", \"2003\", \"2004\", \"2005\", \"2006\", \"2007\", \"2008\", \"2009\", \"2010\", \"2011\", \"2012\", \"2013\", \"2014\", \"2015\", \"2016\", \"2017\"], \"y\": [1.6418585065655023, 1.3097472981500813, 1.103872343296122, 1.0563789442548832, 0.9011979338388834, 1.0309632633423829, 1.0869745009959995, 1.3999888966397853, 1.370114380084409, 1.2960456208058524, 1.05061580412701, 1.3554001997431873, 1.1867492327666211, 1.1556085930111624, 1.1880662242090623, 1.194424792583541, 1.0362694300518136, 1.2387379914305876, 0.7571567083032749, 0.8067769261799111, 0.6942771145843117, 0.7663592490486053, 0.698849693404656, 0.3939520481566984, 0.3350189384235191, 0.3551192411496394], \"type\": \"scatter\", \"uid\": \"fb59508a-05ce-4468-891e-65ac08e8f17b\"}, {\"name\": \"('Homme', '18-19 ans')\", \"x\": [\"1992\", \"1993\", \"1994\", \"1995\", \"1996\", \"1997\", \"1998\", \"1999\", \"2000\", \"2001\", \"2002\", \"2003\", \"2004\", \"2005\", \"2006\", \"2007\", \"2008\", \"2009\", \"2010\", \"2011\", \"2012\", \"2013\", \"2014\", \"2015\", \"2016\", \"2017\"], \"y\": [2.0457335091148794, 1.6406506351661745, 2.0430973355607103, 1.5828371747574, 1.4618458239937628, 1.7035775127768313, 1.6852241950045141, 1.292733661609336, 1.851959025406563, 1.8540836191712247, 2.182478146501717, 2.847315550898613, 3.0596287650431746, 2.030113347995263, 2.772971294201162, 2.38420356763552, 2.5414306136496, 2.0870291140561408, 1.6408573479643112, 0.8313674956093404, 1.2671460702632498, 1.0621010482937345, 0.6325444098887776, 0.2065688907250568, 1.3542936316946381, 0.3183733245603795], \"type\": \"scatter\", \"uid\": \"50239e9e-e3a7-4a7b-a52f-79020fb64833\"}, {\"name\": \"('Homme', '30-39 ans')\", \"x\": [\"1992\", \"1993\", \"1994\", \"1995\", \"1996\", \"1997\", \"1998\", \"1999\", \"2000\", \"2001\", \"2002\", \"2003\", \"2004\", \"2005\", \"2006\", \"2007\", \"2008\", \"2009\", \"2010\", \"2011\", \"2012\", \"2013\", \"2014\", \"2015\", \"2016\", \"2017\"], \"y\": [0.508080227619942, 0.4477863852271827, 0.5567327547811535, 0.4975099626370018, 0.5425561298978021, 0.3622072912327725, 0.29665276793513196, 0.5612302166348636, 0.6128547103681766, 0.4250859572854011, 0.5747683273092139, 0.6298366899761491, 0.5405021941010942, 0.6377902807656242, 0.47321431701152894, 0.3728421759069386, 0.5176297555002624, 0.28620953041960107, 0.4819733058192029, 0.33538625022285534, 0.41786876483216473, 0.2569131034246517, 0.21878265962298699, 0.24797774151792137, 0.22874172445118324, 0.2585390604044197], \"type\": \"scatter\", \"uid\": \"46fa6844-3062-4bf3-a5bc-dcd70d7338a7\"}, {\"name\": \"('Femme', '18-19 ans')\", \"x\": [\"1992\", \"1993\", \"1994\", \"1995\", \"1996\", \"1997\", \"1998\", \"1999\", \"2000\", \"2001\", \"2002\", \"2003\", \"2004\", \"2005\", \"2006\", \"2007\", \"2008\", \"2009\", \"2010\", \"2011\", \"2012\", \"2013\", \"2014\", \"2015\", \"2016\", \"2017\"], \"y\": [0.2388886898149807, 0.0, 0.0, 0.6327672175959907, 0.12771718306981023, 0.1281821211577409, 0.25243282131542744, 0.24752168908800634, 0.0, 0.3633720930232558, 0.36180759072325336, 0.3593416860311909, 0.0, 0.0, 0.46385954333027957, 0.3407193721677702, 0.11132262409689521, 0.0, 0.10744369950146124, 0.0, 0.22302013871852627, 0.22361359570661896, 0.0, 0.11135609451905303, 0.0, 0.22884866237956838], \"type\": \"scatter\", \"uid\": \"68050dd7-cf27-410f-a160-469dd1043a9a\"}], {\"margin\": {\"b\": 50, \"l\": 50, \"pad\": 4, \"r\": 50, \"t\": 50}, \"title\": \"<b>Yearly accident for people without driver licence</b>\", \"titlefont\": {\"color\": \"#7f7f7f\", \"family\": \"Courier New, monospace\", \"size\": 18}, \"xaxis\": {\"title\": \"Year\", \"titlefont\": {\"color\": \"#7f7f7f\", \"family\": \"Courier New, monospace\", \"size\": 15}}, \"yaxis\": {\"title\": \"Accidents per 10'000 people\", \"titlefont\": {\"color\": \"#7f7f7f\", \"family\": \"Courier New, monospace\", \"size\": 15}}}, {\"showLink\": true, \"linkText\": \"Export to plot.ly\", \"plotlyServerURL\": \"https://plot.ly\"})});</script><script type=\"text/javascript\">window.addEventListener(\"resize\", function(){window._Plotly.Plots.resize(document.getElementById(\"9d22008f-bc5a-4353-ae51-3f4e7ddb4829\"));});</script>"
      ]
     },
     "metadata": {},
     "output_type": "display_data"
    }
   ],
   "source": [
    "# Without driver licence\n",
    "df_conducteur_illegal = df_Accident_objets_normalized[(df_Accident_objets_normalized.faute_index==1)\\\n",
    "                                           & (df_Accident_objets_normalized.voiture_index==210)\\\n",
    "                                             &(df_Accident_objets_normalized.annee_permis_index==999)]\n",
    "df_conducteur_illegal = df_conducteur_illegal.groupby(['sexe','age']).sum().sort_values(['2017'], ascending=False)[[col for col in df_conducteur.columns if IS_DATE.match(col)]]\n",
    "\n",
    "plot_dataframe(x=df_conducteur_illegal.columns.values, y=df_conducteur_illegal.head(),\\\n",
    "               title='Yearly accident for people without driver licence', xlabel='Year',\\\n",
    "               ylabel=\"Accidents per 10'000 people\",\\\n",
    "               labels=df_conducteur_illegal.index.values,\\\n",
    "               rotation=45, number_to_plot=None,name_save='accident_illegal_driver')"
   ]
  },
  {
   "cell_type": "markdown",
   "metadata": {},
   "source": [
    "##### A zoom on the victims"
   ]
  },
  {
   "cell_type": "code",
   "execution_count": 27,
   "metadata": {
    "scrolled": false
   },
   "outputs": [
    {
     "data": {
      "text/html": [
       "<div>\n",
       "<style scoped>\n",
       "    .dataframe tbody tr th:only-of-type {\n",
       "        vertical-align: middle;\n",
       "    }\n",
       "\n",
       "    .dataframe tbody tr th {\n",
       "        vertical-align: top;\n",
       "    }\n",
       "\n",
       "    .dataframe thead th {\n",
       "        text-align: right;\n",
       "    }\n",
       "</style>\n",
       "<table border=\"1\" class=\"dataframe\">\n",
       "  <thead>\n",
       "    <tr style=\"text-align: right;\">\n",
       "      <th></th>\n",
       "      <th></th>\n",
       "      <th>1992</th>\n",
       "      <th>2017</th>\n",
       "    </tr>\n",
       "    <tr>\n",
       "      <th>consequence</th>\n",
       "      <th>role</th>\n",
       "      <th></th>\n",
       "      <th></th>\n",
       "    </tr>\n",
       "  </thead>\n",
       "  <tbody>\n",
       "    <tr>\n",
       "      <th rowspan=\"3\" valign=\"top\">Blessé grave</th>\n",
       "      <th>Conducteur</th>\n",
       "      <td>5254.0</td>\n",
       "      <td>2780.0</td>\n",
       "    </tr>\n",
       "    <tr>\n",
       "      <th>Passager</th>\n",
       "      <td>1351.0</td>\n",
       "      <td>297.0</td>\n",
       "    </tr>\n",
       "    <tr>\n",
       "      <th>Piéton</th>\n",
       "      <td>1239.0</td>\n",
       "      <td>577.0</td>\n",
       "    </tr>\n",
       "    <tr>\n",
       "      <th rowspan=\"3\" valign=\"top\">Blessé léger</th>\n",
       "      <th>Conducteur</th>\n",
       "      <td>14214.0</td>\n",
       "      <td>13199.0</td>\n",
       "    </tr>\n",
       "    <tr>\n",
       "      <th>Passager</th>\n",
       "      <td>4929.0</td>\n",
       "      <td>2869.0</td>\n",
       "    </tr>\n",
       "    <tr>\n",
       "      <th>Piéton</th>\n",
       "      <td>1696.0</td>\n",
       "      <td>1691.0</td>\n",
       "    </tr>\n",
       "    <tr>\n",
       "      <th rowspan=\"3\" valign=\"top\">Tué</th>\n",
       "      <th>Conducteur</th>\n",
       "      <td>518.0</td>\n",
       "      <td>156.0</td>\n",
       "    </tr>\n",
       "    <tr>\n",
       "      <th>Passager</th>\n",
       "      <td>168.0</td>\n",
       "      <td>27.0</td>\n",
       "    </tr>\n",
       "    <tr>\n",
       "      <th>Piéton</th>\n",
       "      <td>148.0</td>\n",
       "      <td>47.0</td>\n",
       "    </tr>\n",
       "  </tbody>\n",
       "</table>\n",
       "</div>"
      ],
      "text/plain": [
       "                            1992     2017\n",
       "consequence  role                        \n",
       "Blessé grave Conducteur   5254.0   2780.0\n",
       "             Passager     1351.0    297.0\n",
       "             Piéton       1239.0    577.0\n",
       "Blessé léger Conducteur  14214.0  13199.0\n",
       "             Passager     4929.0   2869.0\n",
       "             Piéton       1696.0   1691.0\n",
       "Tué          Conducteur    518.0    156.0\n",
       "             Passager      168.0     27.0\n",
       "             Piéton        148.0     47.0"
      ]
     },
     "metadata": {},
     "output_type": "display_data"
    }
   ],
   "source": [
    "# Compute the total of accidents for each consequence type and role of\n",
    "# the vicims, keep the columns interesting us: the years\n",
    "req = df_Accident_victimes.groupby(['consequence','role']).sum()\n",
    "\n",
    "# Display the results\n",
    "display(req[['1992', '2017']])\n",
    "save_it(req[['1992', '2017']],'victims')\n"
   ]
  },
  {
   "cell_type": "markdown",
   "metadata": {},
   "source": [
    "We can see the expected drop in the number of victims in 25 years. In the print above, we can clearly distinguish a difference between the pedestrian victims and the ones in the cars. The pedestrian are indeed not protected by the car, the security of which has been greatly improved. We can note that the number of pedestrian victims hasn't had quite the same drop as the other victims."
   ]
  },
  {
   "cell_type": "markdown",
   "metadata": {},
   "source": [
    "##### Analysis of the pedestrian victims"
   ]
  },
  {
   "cell_type": "markdown",
   "metadata": {},
   "source": [
    "Again, we firstly standardize our data by the population (by 10'000 people) to get a meaningful insight. We make use of the population dataset we created above to save computational time"
   ]
  },
  {
   "cell_type": "code",
   "execution_count": 28,
   "metadata": {
    "scrolled": true
   },
   "outputs": [],
   "source": [
    "df_Accident_victimes_normalized = df_Accident_victimes.copy()\n",
    "\n",
    "# Keep the acidents for which the sex and age were known\n",
    "df_Accident_victimes_normalized = df_Accident_victimes_normalized\\\n",
    "        [(df_Accident_victimes_normalized['sexe_index']!=9) &\\\n",
    "         (df_Accident_victimes_normalized.age_index != 999)]\n",
    "\n",
    "# Normalization for each age, sex and year\n",
    "for year,sexe in df_pop_Suisse.columns.values:\n",
    "    for age in df_pop_Suisse.index.values:\n",
    "        df_Accident_victimes_normalized.loc[(df_Accident_victimes_normalized.age_index==age) &\\\n",
    "                                           (df_Accident_victimes_normalized.sexe==sexe),year]\\\n",
    "        = df_Accident_victimes_normalized[year]*10000 / df_pop_Suisse.loc[df_pop_Suisse.index==age,year][sexe].values[0]"
   ]
  },
  {
   "cell_type": "code",
   "execution_count": 29,
   "metadata": {
    "scrolled": true
   },
   "outputs": [
    {
     "data": {
      "text/html": [
       "<div>\n",
       "<style scoped>\n",
       "    .dataframe tbody tr th:only-of-type {\n",
       "        vertical-align: middle;\n",
       "    }\n",
       "\n",
       "    .dataframe tbody tr th {\n",
       "        vertical-align: top;\n",
       "    }\n",
       "\n",
       "    .dataframe thead th {\n",
       "        text-align: right;\n",
       "    }\n",
       "</style>\n",
       "<table border=\"1\" class=\"dataframe\">\n",
       "  <thead>\n",
       "    <tr style=\"text-align: right;\">\n",
       "      <th></th>\n",
       "      <th>1992</th>\n",
       "      <th>2017</th>\n",
       "    </tr>\n",
       "    <tr>\n",
       "      <th>age</th>\n",
       "      <th></th>\n",
       "      <th></th>\n",
       "    </tr>\n",
       "  </thead>\n",
       "  <tbody>\n",
       "    <tr>\n",
       "      <th>15-17 ans</th>\n",
       "      <td>7.717780</td>\n",
       "      <td>10.733823</td>\n",
       "    </tr>\n",
       "    <tr>\n",
       "      <th>20 ans</th>\n",
       "      <td>5.600790</td>\n",
       "      <td>9.837047</td>\n",
       "    </tr>\n",
       "    <tr>\n",
       "      <th>10-14 ans</th>\n",
       "      <td>10.698540</td>\n",
       "      <td>9.755883</td>\n",
       "    </tr>\n",
       "    <tr>\n",
       "      <th>6-9 ans</th>\n",
       "      <td>25.644259</td>\n",
       "      <td>9.501137</td>\n",
       "    </tr>\n",
       "    <tr>\n",
       "      <th>5 ans</th>\n",
       "      <td>22.415872</td>\n",
       "      <td>9.165600</td>\n",
       "    </tr>\n",
       "  </tbody>\n",
       "</table>\n",
       "</div>"
      ],
      "text/plain": [
       "                1992       2017\n",
       "age                            \n",
       "15-17 ans   7.717780  10.733823\n",
       "20 ans      5.600790   9.837047\n",
       "10-14 ans  10.698540   9.755883\n",
       "6-9 ans    25.644259   9.501137\n",
       "5 ans      22.415872   9.165600"
      ]
     },
     "metadata": {},
     "output_type": "display_data"
    }
   ],
   "source": [
    "# Compute the number of pedestrian victims by age category, sort them (reference\n",
    "# year: 2017) and keep the wanted columns: the years\n",
    "req = df_Accident_victimes_normalized[(df_Accident_victimes_normalized.role=='Piéton')]. \\\n",
    "                    groupby(['age']).sum().sort_values(['2017'], ascending=False) \\\n",
    "                    [[col for col in req.columns if IS_DATE.match(col)]]\n",
    "\n",
    "# Print the 5 age categories with the most accidents in 2017\n",
    "display(req[['1992', '2017']].head())\n",
    "save_it(req[['1992', '2017']].head(),'pedestrian_victims')"
   ]
  },
  {
   "cell_type": "markdown",
   "metadata": {},
   "source": [
    "Interestingly, and quite sadly, we can see that the young people are the prior pedestrian victims. It even increased since 1992 for people between 15 and 20 years old. However, it clearly dropped for younger children, which is consolating."
   ]
  },
  {
   "cell_type": "code",
   "execution_count": 30,
   "metadata": {},
   "outputs": [
    {
     "data": {
      "text/html": [
       "<div>\n",
       "<style scoped>\n",
       "    .dataframe tbody tr th:only-of-type {\n",
       "        vertical-align: middle;\n",
       "    }\n",
       "\n",
       "    .dataframe tbody tr th {\n",
       "        vertical-align: top;\n",
       "    }\n",
       "\n",
       "    .dataframe thead th {\n",
       "        text-align: right;\n",
       "    }\n",
       "</style>\n",
       "<table border=\"1\" class=\"dataframe\">\n",
       "  <thead>\n",
       "    <tr style=\"text-align: right;\">\n",
       "      <th></th>\n",
       "      <th>1992</th>\n",
       "      <th>2017</th>\n",
       "    </tr>\n",
       "    <tr>\n",
       "      <th>age</th>\n",
       "      <th></th>\n",
       "      <th></th>\n",
       "    </tr>\n",
       "  </thead>\n",
       "  <tbody>\n",
       "    <tr>\n",
       "      <th>70 ans et +</th>\n",
       "      <td>2.379670</td>\n",
       "      <td>0.390141</td>\n",
       "    </tr>\n",
       "    <tr>\n",
       "      <th>60-69 ans</th>\n",
       "      <td>0.635827</td>\n",
       "      <td>0.174291</td>\n",
       "    </tr>\n",
       "    <tr>\n",
       "      <th>18-19 ans</th>\n",
       "      <td>0.119444</td>\n",
       "      <td>0.114424</td>\n",
       "    </tr>\n",
       "    <tr>\n",
       "      <th>jusqu'à 4 ans</th>\n",
       "      <td>0.145923</td>\n",
       "      <td>0.091718</td>\n",
       "    </tr>\n",
       "    <tr>\n",
       "      <th>21-29 ans</th>\n",
       "      <td>0.117233</td>\n",
       "      <td>0.079749</td>\n",
       "    </tr>\n",
       "  </tbody>\n",
       "</table>\n",
       "</div>"
      ],
      "text/plain": [
       "                   1992      2017\n",
       "age                              \n",
       "70 ans et +    2.379670  0.390141\n",
       "60-69 ans      0.635827  0.174291\n",
       "18-19 ans      0.119444  0.114424\n",
       "jusqu'à 4 ans  0.145923  0.091718\n",
       "21-29 ans      0.117233  0.079749"
      ]
     },
     "metadata": {},
     "output_type": "display_data"
    }
   ],
   "source": [
    "# Compute the number of pedestrian deaths by age category, sort them (reference\n",
    "# year: 2017) and keep the wanted columns: the years\n",
    "req = df_Accident_victimes_normalized[(df_Accident_victimes_normalized.role=='Piéton')\\\n",
    "                        & (df_Accident_victimes_normalized.consequence_index==320.0) ].\\\n",
    "                        groupby(['age']).sum().sort_values(['2017'], ascending=False)\\\n",
    "                            [[col for col in req.columns if IS_DATE.match(col)]]\n",
    "\n",
    "# Print the 5 age categories leading to the most deaths in 2017\n",
    "display(req[['1992', '2017']].head())\n",
    "save_it(req[['1992', '2017']].head(),'pedestrian_victims_death')\n"
   ]
  },
  {
   "cell_type": "markdown",
   "metadata": {},
   "source": [
    "Interestingly, the categories are now completely different! Older people are more likely to die from an accident: they are indeed involed in less accidents while resulting in more deaths. We also sadly find very young children in the top 5 of the deadliest categories."
   ]
  },
  {
   "cell_type": "markdown",
   "metadata": {},
   "source": [
    "### 1.2. Where?"
   ]
  },
  {
   "cell_type": "markdown",
   "metadata": {},
   "source": [
    "#### 1.2.1. Road type"
   ]
  },
  {
   "cell_type": "markdown",
   "metadata": {},
   "source": [
    "In this section, we will analyze on which tpe of road the accidents happended. They are separated in three categories, i.e. accidents in localities, out of them or on the highway."
   ]
  },
  {
   "cell_type": "code",
   "execution_count": 31,
   "metadata": {},
   "outputs": [
    {
     "data": {
      "application/vnd.plotly.v1+json": {
       "config": {
        "linkText": "Export to plot.ly",
        "plotlyServerURL": "https://plot.ly",
        "showLink": true
       },
       "data": [
        {
         "name": "En localité",
         "type": "scatter",
         "uid": "ff60423e-b515-4e87-ad23-ebfd85818aaf",
         "x": [
          "1992",
          "1993",
          "1994",
          "1995",
          "1996",
          "1997",
          "1998",
          "1999",
          "2000",
          "2001",
          "2002",
          "2003",
          "2004",
          "2005",
          "2006",
          "2007",
          "2008",
          "2009",
          "2010",
          "2011",
          "2012",
          "2013",
          "2014",
          "2015",
          "2016",
          "2017"
         ],
         "y": [
          14915,
          14601,
          15123,
          14635,
          13974,
          14376,
          14329,
          14819,
          15098,
          14966,
          15092,
          15158,
          14558,
          14027,
          13859,
          14296,
          13677,
          13372,
          12587,
          12397,
          11574,
          11262,
          11644,
          11742,
          11606,
          11551
         ]
        },
        {
         "name": "Hors localité",
         "type": "scatter",
         "uid": "de47e207-5bde-42b0-88f9-00aa38ab586c",
         "x": [
          "1992",
          "1993",
          "1994",
          "1995",
          "1996",
          "1997",
          "1998",
          "1999",
          "2000",
          "2001",
          "2002",
          "2003",
          "2004",
          "2005",
          "2006",
          "2007",
          "2008",
          "2009",
          "2010",
          "2011",
          "2012",
          "2013",
          "2014",
          "2015",
          "2016",
          "2017"
         ],
         "y": [
          6601,
          6540,
          6576,
          6378,
          5796,
          5837,
          5866,
          6299,
          6383,
          6549,
          6233,
          6494,
          6166,
          5779,
          5710,
          5606,
          5280,
          5251,
          5129,
          4908,
          4754,
          4522,
          4466,
          4412,
          4205,
          4562
         ]
        },
        {
         "name": "Sur autoroute",
         "type": "scatter",
         "uid": "97dd4b35-a15e-4348-9f0c-d3c5f9257d49",
         "x": [
          "1992",
          "1993",
          "1994",
          "1995",
          "1996",
          "1997",
          "1998",
          "1999",
          "2000",
          "2001",
          "2002",
          "2003",
          "2004",
          "2005",
          "2006",
          "2007",
          "2008",
          "2009",
          "2010",
          "2011",
          "2012",
          "2013",
          "2014",
          "2015",
          "2016",
          "2017"
         ],
         "y": [
          1756,
          1711,
          1828,
          2017,
          1808,
          1862,
          2037,
          2316,
          2256,
          2381,
          2322,
          2188,
          2167,
          1900,
          1922,
          2009,
          1779,
          1883,
          1893,
          1685,
          1820,
          1689,
          1693,
          1582,
          1766,
          1686
         ]
        }
       ],
       "layout": {
        "margin": {
         "b": 50,
         "l": 50,
         "pad": 4,
         "r": 50,
         "t": 50
        },
        "title": "<b>Road type</b>",
        "titlefont": {
         "color": "#7f7f7f",
         "family": "Courier New, monospace",
         "size": 18
        },
        "xaxis": {
         "title": "Year",
         "titlefont": {
          "color": "#7f7f7f",
          "family": "Courier New, monospace",
          "size": 15
         }
        },
        "yaxis": {
         "title": "Number of accidents",
         "titlefont": {
          "color": "#7f7f7f",
          "family": "Courier New, monospace",
          "size": 15
         }
        }
       }
      },
      "text/html": [
       "<div id=\"f6e89c0c-7638-4881-9414-f4ec8f039161\" style=\"height: 525px; width: 100%;\" class=\"plotly-graph-div\"></div><script type=\"text/javascript\">require([\"plotly\"], function(Plotly) { window.PLOTLYENV=window.PLOTLYENV || {};window.PLOTLYENV.BASE_URL=\"https://plot.ly\";Plotly.newPlot(\"f6e89c0c-7638-4881-9414-f4ec8f039161\", [{\"name\": \"En localit\\u00e9\", \"x\": [\"1992\", \"1993\", \"1994\", \"1995\", \"1996\", \"1997\", \"1998\", \"1999\", \"2000\", \"2001\", \"2002\", \"2003\", \"2004\", \"2005\", \"2006\", \"2007\", \"2008\", \"2009\", \"2010\", \"2011\", \"2012\", \"2013\", \"2014\", \"2015\", \"2016\", \"2017\"], \"y\": [14915.0, 14601.0, 15123.0, 14635.0, 13974.0, 14376.0, 14329.0, 14819.0, 15098.0, 14966.0, 15092.0, 15158.0, 14558.0, 14027.0, 13859.0, 14296.0, 13677.0, 13372.0, 12587.0, 12397.0, 11574.0, 11262.0, 11644.0, 11742.0, 11606.0, 11551.0], \"type\": \"scatter\", \"uid\": \"ff60423e-b515-4e87-ad23-ebfd85818aaf\"}, {\"name\": \"Hors localit\\u00e9\", \"x\": [\"1992\", \"1993\", \"1994\", \"1995\", \"1996\", \"1997\", \"1998\", \"1999\", \"2000\", \"2001\", \"2002\", \"2003\", \"2004\", \"2005\", \"2006\", \"2007\", \"2008\", \"2009\", \"2010\", \"2011\", \"2012\", \"2013\", \"2014\", \"2015\", \"2016\", \"2017\"], \"y\": [6601.0, 6540.0, 6576.0, 6378.0, 5796.0, 5837.0, 5866.0, 6299.0, 6383.0, 6549.0, 6233.0, 6494.0, 6166.0, 5779.0, 5710.0, 5606.0, 5280.0, 5251.0, 5129.0, 4908.0, 4754.0, 4522.0, 4466.0, 4412.0, 4205.0, 4562.0], \"type\": \"scatter\", \"uid\": \"de47e207-5bde-42b0-88f9-00aa38ab586c\"}, {\"name\": \"Sur autoroute\", \"x\": [\"1992\", \"1993\", \"1994\", \"1995\", \"1996\", \"1997\", \"1998\", \"1999\", \"2000\", \"2001\", \"2002\", \"2003\", \"2004\", \"2005\", \"2006\", \"2007\", \"2008\", \"2009\", \"2010\", \"2011\", \"2012\", \"2013\", \"2014\", \"2015\", \"2016\", \"2017\"], \"y\": [1756.0, 1711.0, 1828.0, 2017.0, 1808.0, 1862.0, 2037.0, 2316.0, 2256.0, 2381.0, 2322.0, 2188.0, 2167.0, 1900.0, 1922.0, 2009.0, 1779.0, 1883.0, 1893.0, 1685.0, 1820.0, 1689.0, 1693.0, 1582.0, 1766.0, 1686.0], \"type\": \"scatter\", \"uid\": \"97dd4b35-a15e-4348-9f0c-d3c5f9257d49\"}], {\"margin\": {\"b\": 50, \"l\": 50, \"pad\": 4, \"r\": 50, \"t\": 50}, \"title\": \"<b>Road type</b>\", \"titlefont\": {\"color\": \"#7f7f7f\", \"family\": \"Courier New, monospace\", \"size\": 18}, \"xaxis\": {\"title\": \"Year\", \"titlefont\": {\"color\": \"#7f7f7f\", \"family\": \"Courier New, monospace\", \"size\": 15}}, \"yaxis\": {\"title\": \"Number of accidents\", \"titlefont\": {\"color\": \"#7f7f7f\", \"family\": \"Courier New, monospace\", \"size\": 15}}}, {\"showLink\": true, \"linkText\": \"Export to plot.ly\", \"plotlyServerURL\": \"https://plot.ly\"})});</script><script type=\"text/javascript\">window.addEventListener(\"resize\", function(){window._Plotly.Plots.resize(document.getElementById(\"f6e89c0c-7638-4881-9414-f4ec8f039161\"));});</script>"
      ],
      "text/vnd.plotly.v1+html": [
       "<div id=\"f6e89c0c-7638-4881-9414-f4ec8f039161\" style=\"height: 525px; width: 100%;\" class=\"plotly-graph-div\"></div><script type=\"text/javascript\">require([\"plotly\"], function(Plotly) { window.PLOTLYENV=window.PLOTLYENV || {};window.PLOTLYENV.BASE_URL=\"https://plot.ly\";Plotly.newPlot(\"f6e89c0c-7638-4881-9414-f4ec8f039161\", [{\"name\": \"En localit\\u00e9\", \"x\": [\"1992\", \"1993\", \"1994\", \"1995\", \"1996\", \"1997\", \"1998\", \"1999\", \"2000\", \"2001\", \"2002\", \"2003\", \"2004\", \"2005\", \"2006\", \"2007\", \"2008\", \"2009\", \"2010\", \"2011\", \"2012\", \"2013\", \"2014\", \"2015\", \"2016\", \"2017\"], \"y\": [14915.0, 14601.0, 15123.0, 14635.0, 13974.0, 14376.0, 14329.0, 14819.0, 15098.0, 14966.0, 15092.0, 15158.0, 14558.0, 14027.0, 13859.0, 14296.0, 13677.0, 13372.0, 12587.0, 12397.0, 11574.0, 11262.0, 11644.0, 11742.0, 11606.0, 11551.0], \"type\": \"scatter\", \"uid\": \"ff60423e-b515-4e87-ad23-ebfd85818aaf\"}, {\"name\": \"Hors localit\\u00e9\", \"x\": [\"1992\", \"1993\", \"1994\", \"1995\", \"1996\", \"1997\", \"1998\", \"1999\", \"2000\", \"2001\", \"2002\", \"2003\", \"2004\", \"2005\", \"2006\", \"2007\", \"2008\", \"2009\", \"2010\", \"2011\", \"2012\", \"2013\", \"2014\", \"2015\", \"2016\", \"2017\"], \"y\": [6601.0, 6540.0, 6576.0, 6378.0, 5796.0, 5837.0, 5866.0, 6299.0, 6383.0, 6549.0, 6233.0, 6494.0, 6166.0, 5779.0, 5710.0, 5606.0, 5280.0, 5251.0, 5129.0, 4908.0, 4754.0, 4522.0, 4466.0, 4412.0, 4205.0, 4562.0], \"type\": \"scatter\", \"uid\": \"de47e207-5bde-42b0-88f9-00aa38ab586c\"}, {\"name\": \"Sur autoroute\", \"x\": [\"1992\", \"1993\", \"1994\", \"1995\", \"1996\", \"1997\", \"1998\", \"1999\", \"2000\", \"2001\", \"2002\", \"2003\", \"2004\", \"2005\", \"2006\", \"2007\", \"2008\", \"2009\", \"2010\", \"2011\", \"2012\", \"2013\", \"2014\", \"2015\", \"2016\", \"2017\"], \"y\": [1756.0, 1711.0, 1828.0, 2017.0, 1808.0, 1862.0, 2037.0, 2316.0, 2256.0, 2381.0, 2322.0, 2188.0, 2167.0, 1900.0, 1922.0, 2009.0, 1779.0, 1883.0, 1893.0, 1685.0, 1820.0, 1689.0, 1693.0, 1582.0, 1766.0, 1686.0], \"type\": \"scatter\", \"uid\": \"97dd4b35-a15e-4348-9f0c-d3c5f9257d49\"}], {\"margin\": {\"b\": 50, \"l\": 50, \"pad\": 4, \"r\": 50, \"t\": 50}, \"title\": \"<b>Road type</b>\", \"titlefont\": {\"color\": \"#7f7f7f\", \"family\": \"Courier New, monospace\", \"size\": 18}, \"xaxis\": {\"title\": \"Year\", \"titlefont\": {\"color\": \"#7f7f7f\", \"family\": \"Courier New, monospace\", \"size\": 15}}, \"yaxis\": {\"title\": \"Number of accidents\", \"titlefont\": {\"color\": \"#7f7f7f\", \"family\": \"Courier New, monospace\", \"size\": 15}}}, {\"showLink\": true, \"linkText\": \"Export to plot.ly\", \"plotlyServerURL\": \"https://plot.ly\"})});</script><script type=\"text/javascript\">window.addEventListener(\"resize\", function(){window._Plotly.Plots.resize(document.getElementById(\"f6e89c0c-7638-4881-9414-f4ec8f039161\"));});</script>"
      ]
     },
     "metadata": {},
     "output_type": "display_data"
    }
   ],
   "source": [
    "# Get the 'rurality' of the accidents by summing all the accidents by type of road\n",
    "# Keep the interesting columns, i.e. the different years\n",
    "req = df_Accident_type_route.groupby(['ruralite']).sum().\\\n",
    "        sort_values(['2017'], ascending=False)\\\n",
    "        [[col for col in df_Accident_type_route.columns if IS_DATE.match(col)]]\n",
    "\n",
    "# Plot the accidents by road type with our function\n",
    "plot_dataframe(x=req.columns.values, y=req, title='Road type', xlabel='Year',\\\n",
    "               ylabel='Number of accidents', labels=req.index.values,\\\n",
    "               rotation=45, number_to_plot=None,name_save='accident_road_type')"
   ]
  },
  {
   "cell_type": "markdown",
   "metadata": {},
   "source": [
    "In general, we can see a decrease of the number of accidents throughout the years. This tenency was also observed above. It is less marked here but one must remember that the data is not normalized here: the number of people on the roads increased while the number of incidents still decreased.\n",
    "\n",
    "We are in particular interested in the amount of accidents leading to deaths. Below, we analyze the proportion of incidents (in %) with tragic consequences."
   ]
  },
  {
   "cell_type": "code",
   "execution_count": 32,
   "metadata": {
    "scrolled": false
   },
   "outputs": [
    {
     "data": {
      "application/vnd.plotly.v1+json": {
       "config": {
        "linkText": "Export to plot.ly",
        "plotlyServerURL": "https://plot.ly",
        "showLink": true
       },
       "data": [
        {
         "name": "Hors localité",
         "type": "scatter",
         "uid": "05db839c-f582-4882-b25b-2ea14a0d892e",
         "x": [
          "1992",
          "1993",
          "1994",
          "1995",
          "1996",
          "1997",
          "1998",
          "1999",
          "2000",
          "2001",
          "2002",
          "2003",
          "2004",
          "2005",
          "2006",
          "2007",
          "2008",
          "2009",
          "2010",
          "2011",
          "2012",
          "2013",
          "2014",
          "2015",
          "2016",
          "2017"
         ],
         "y": [
          5.862748068474471,
          5.30581039755352,
          4.850973236009729,
          5.142677955471939,
          4.951690821256036,
          4.831248929244472,
          4.517558813501533,
          4.492776631211302,
          4.7783174056086475,
          3.6952206443731854,
          4.042996951708648,
          4.327071142593162,
          4.022056438533895,
          3.7549749091538307,
          3.3975481611208416,
          3.2643596146985367,
          3.4090909090909105,
          3.237478575509427,
          3.4899590563462652,
          3.239608801955992,
          3.0079932688262505,
          2.742149491375497,
          2.821316614420063,
          2.4025385312783323,
          2.5445897740784766,
          2.4112231477422177
         ]
        },
        {
         "name": "Sur autoroute",
         "type": "scatter",
         "uid": "e51131a4-2151-4f08-8773-dc4a5cb68162",
         "x": [
          "1992",
          "1993",
          "1994",
          "1995",
          "1996",
          "1997",
          "1998",
          "1999",
          "2000",
          "2001",
          "2002",
          "2003",
          "2004",
          "2005",
          "2006",
          "2007",
          "2008",
          "2009",
          "2010",
          "2011",
          "2012",
          "2013",
          "2014",
          "2015",
          "2016",
          "2017"
         ],
         "y": [
          4.783599088838268,
          3.2144944476914086,
          3.1181619256017505,
          3.76797223599405,
          3.4845132743362837,
          3.114930182599356,
          3.436426116838488,
          2.633851468048359,
          1.6843971631205672,
          2.47795044099118,
          2.7131782945736433,
          2.1937842778793417,
          2.168897092754961,
          1.157894736842105,
          1.4047866805411031,
          2.0408163265306123,
          1.461495222034851,
          1.699415825809878,
          1.1621764395139988,
          1.2462908011869436,
          1.8681318681318682,
          1.2433392539964476,
          0.7088009450679269,
          1.2642225031605563,
          0.8493771234428087,
          1.423487544483986
         ]
        },
        {
         "name": "En localité",
         "type": "scatter",
         "uid": "1ca18386-516d-4e3d-abec-2212c983906c",
         "x": [
          "1992",
          "1993",
          "1994",
          "1995",
          "1996",
          "1997",
          "1998",
          "1999",
          "2000",
          "2001",
          "2002",
          "2003",
          "2004",
          "2005",
          "2006",
          "2007",
          "2008",
          "2009",
          "2010",
          "2011",
          "2012",
          "2013",
          "2014",
          "2015",
          "2016",
          "2017"
         ],
         "y": [
          1.8571907475695617,
          1.7738511060886246,
          1.7258480460226135,
          1.6125725999316711,
          1.5171031916416193,
          1.4816360601001661,
          1.500453625514691,
          1.3833592010257094,
          1.404159491323355,
          1.3029533609514896,
          1.0667903525046385,
          1.1215199894445167,
          1.2570408023080095,
          0.9553004919084618,
          0.8586478100873082,
          0.9583100167879123,
          0.9505008408276672,
          0.99461561471732,
          0.8898069436720419,
          1.0647737355811893,
          1.0713668567478838,
          0.9944947611436695,
          0.7815183785640671,
          0.9538409129620171,
          0.7409960365328279,
          0.7358670245000433
         ]
        }
       ],
       "layout": {
        "margin": {
         "b": 50,
         "l": 50,
         "pad": 4,
         "r": 50,
         "t": 50
        },
        "title": "<b>Proportion of accidents leading to death</b>",
        "titlefont": {
         "color": "#7f7f7f",
         "family": "Courier New, monospace",
         "size": 18
        },
        "xaxis": {
         "title": "Year",
         "titlefont": {
          "color": "#7f7f7f",
          "family": "Courier New, monospace",
          "size": 15
         }
        },
        "yaxis": {
         "title": "Percentage",
         "titlefont": {
          "color": "#7f7f7f",
          "family": "Courier New, monospace",
          "size": 15
         }
        }
       }
      },
      "text/html": [
       "<div id=\"19c3d550-8f46-4cf2-b673-e183f7440274\" style=\"height: 525px; width: 100%;\" class=\"plotly-graph-div\"></div><script type=\"text/javascript\">require([\"plotly\"], function(Plotly) { window.PLOTLYENV=window.PLOTLYENV || {};window.PLOTLYENV.BASE_URL=\"https://plot.ly\";Plotly.newPlot(\"19c3d550-8f46-4cf2-b673-e183f7440274\", [{\"name\": \"Hors localit\\u00e9\", \"x\": [\"1992\", \"1993\", \"1994\", \"1995\", \"1996\", \"1997\", \"1998\", \"1999\", \"2000\", \"2001\", \"2002\", \"2003\", \"2004\", \"2005\", \"2006\", \"2007\", \"2008\", \"2009\", \"2010\", \"2011\", \"2012\", \"2013\", \"2014\", \"2015\", \"2016\", \"2017\"], \"y\": [5.862748068474471, 5.30581039755352, 4.850973236009729, 5.142677955471939, 4.951690821256036, 4.831248929244472, 4.517558813501533, 4.492776631211302, 4.7783174056086475, 3.6952206443731854, 4.042996951708648, 4.327071142593162, 4.022056438533895, 3.7549749091538307, 3.3975481611208416, 3.2643596146985367, 3.4090909090909105, 3.237478575509427, 3.4899590563462652, 3.239608801955992, 3.0079932688262505, 2.742149491375497, 2.821316614420063, 2.4025385312783323, 2.5445897740784766, 2.4112231477422177], \"type\": \"scatter\", \"uid\": \"05db839c-f582-4882-b25b-2ea14a0d892e\"}, {\"name\": \"Sur autoroute\", \"x\": [\"1992\", \"1993\", \"1994\", \"1995\", \"1996\", \"1997\", \"1998\", \"1999\", \"2000\", \"2001\", \"2002\", \"2003\", \"2004\", \"2005\", \"2006\", \"2007\", \"2008\", \"2009\", \"2010\", \"2011\", \"2012\", \"2013\", \"2014\", \"2015\", \"2016\", \"2017\"], \"y\": [4.783599088838268, 3.2144944476914086, 3.1181619256017505, 3.76797223599405, 3.4845132743362837, 3.114930182599356, 3.436426116838488, 2.633851468048359, 1.6843971631205672, 2.47795044099118, 2.7131782945736433, 2.1937842778793417, 2.168897092754961, 1.157894736842105, 1.4047866805411031, 2.0408163265306123, 1.461495222034851, 1.699415825809878, 1.1621764395139988, 1.2462908011869436, 1.8681318681318682, 1.2433392539964476, 0.7088009450679269, 1.2642225031605563, 0.8493771234428087, 1.423487544483986], \"type\": \"scatter\", \"uid\": \"e51131a4-2151-4f08-8773-dc4a5cb68162\"}, {\"name\": \"En localit\\u00e9\", \"x\": [\"1992\", \"1993\", \"1994\", \"1995\", \"1996\", \"1997\", \"1998\", \"1999\", \"2000\", \"2001\", \"2002\", \"2003\", \"2004\", \"2005\", \"2006\", \"2007\", \"2008\", \"2009\", \"2010\", \"2011\", \"2012\", \"2013\", \"2014\", \"2015\", \"2016\", \"2017\"], \"y\": [1.8571907475695617, 1.7738511060886246, 1.7258480460226135, 1.6125725999316711, 1.5171031916416193, 1.4816360601001661, 1.500453625514691, 1.3833592010257094, 1.404159491323355, 1.3029533609514896, 1.0667903525046385, 1.1215199894445167, 1.2570408023080095, 0.9553004919084618, 0.8586478100873082, 0.9583100167879123, 0.9505008408276672, 0.99461561471732, 0.8898069436720419, 1.0647737355811893, 1.0713668567478838, 0.9944947611436695, 0.7815183785640671, 0.9538409129620171, 0.7409960365328279, 0.7358670245000433], \"type\": \"scatter\", \"uid\": \"1ca18386-516d-4e3d-abec-2212c983906c\"}], {\"margin\": {\"b\": 50, \"l\": 50, \"pad\": 4, \"r\": 50, \"t\": 50}, \"title\": \"<b>Proportion of accidents leading to death</b>\", \"titlefont\": {\"color\": \"#7f7f7f\", \"family\": \"Courier New, monospace\", \"size\": 18}, \"xaxis\": {\"title\": \"Year\", \"titlefont\": {\"color\": \"#7f7f7f\", \"family\": \"Courier New, monospace\", \"size\": 15}}, \"yaxis\": {\"title\": \"Percentage\", \"titlefont\": {\"color\": \"#7f7f7f\", \"family\": \"Courier New, monospace\", \"size\": 15}}}, {\"showLink\": true, \"linkText\": \"Export to plot.ly\", \"plotlyServerURL\": \"https://plot.ly\"})});</script><script type=\"text/javascript\">window.addEventListener(\"resize\", function(){window._Plotly.Plots.resize(document.getElementById(\"19c3d550-8f46-4cf2-b673-e183f7440274\"));});</script>"
      ],
      "text/vnd.plotly.v1+html": [
       "<div id=\"19c3d550-8f46-4cf2-b673-e183f7440274\" style=\"height: 525px; width: 100%;\" class=\"plotly-graph-div\"></div><script type=\"text/javascript\">require([\"plotly\"], function(Plotly) { window.PLOTLYENV=window.PLOTLYENV || {};window.PLOTLYENV.BASE_URL=\"https://plot.ly\";Plotly.newPlot(\"19c3d550-8f46-4cf2-b673-e183f7440274\", [{\"name\": \"Hors localit\\u00e9\", \"x\": [\"1992\", \"1993\", \"1994\", \"1995\", \"1996\", \"1997\", \"1998\", \"1999\", \"2000\", \"2001\", \"2002\", \"2003\", \"2004\", \"2005\", \"2006\", \"2007\", \"2008\", \"2009\", \"2010\", \"2011\", \"2012\", \"2013\", \"2014\", \"2015\", \"2016\", \"2017\"], \"y\": [5.862748068474471, 5.30581039755352, 4.850973236009729, 5.142677955471939, 4.951690821256036, 4.831248929244472, 4.517558813501533, 4.492776631211302, 4.7783174056086475, 3.6952206443731854, 4.042996951708648, 4.327071142593162, 4.022056438533895, 3.7549749091538307, 3.3975481611208416, 3.2643596146985367, 3.4090909090909105, 3.237478575509427, 3.4899590563462652, 3.239608801955992, 3.0079932688262505, 2.742149491375497, 2.821316614420063, 2.4025385312783323, 2.5445897740784766, 2.4112231477422177], \"type\": \"scatter\", \"uid\": \"05db839c-f582-4882-b25b-2ea14a0d892e\"}, {\"name\": \"Sur autoroute\", \"x\": [\"1992\", \"1993\", \"1994\", \"1995\", \"1996\", \"1997\", \"1998\", \"1999\", \"2000\", \"2001\", \"2002\", \"2003\", \"2004\", \"2005\", \"2006\", \"2007\", \"2008\", \"2009\", \"2010\", \"2011\", \"2012\", \"2013\", \"2014\", \"2015\", \"2016\", \"2017\"], \"y\": [4.783599088838268, 3.2144944476914086, 3.1181619256017505, 3.76797223599405, 3.4845132743362837, 3.114930182599356, 3.436426116838488, 2.633851468048359, 1.6843971631205672, 2.47795044099118, 2.7131782945736433, 2.1937842778793417, 2.168897092754961, 1.157894736842105, 1.4047866805411031, 2.0408163265306123, 1.461495222034851, 1.699415825809878, 1.1621764395139988, 1.2462908011869436, 1.8681318681318682, 1.2433392539964476, 0.7088009450679269, 1.2642225031605563, 0.8493771234428087, 1.423487544483986], \"type\": \"scatter\", \"uid\": \"e51131a4-2151-4f08-8773-dc4a5cb68162\"}, {\"name\": \"En localit\\u00e9\", \"x\": [\"1992\", \"1993\", \"1994\", \"1995\", \"1996\", \"1997\", \"1998\", \"1999\", \"2000\", \"2001\", \"2002\", \"2003\", \"2004\", \"2005\", \"2006\", \"2007\", \"2008\", \"2009\", \"2010\", \"2011\", \"2012\", \"2013\", \"2014\", \"2015\", \"2016\", \"2017\"], \"y\": [1.8571907475695617, 1.7738511060886246, 1.7258480460226135, 1.6125725999316711, 1.5171031916416193, 1.4816360601001661, 1.500453625514691, 1.3833592010257094, 1.404159491323355, 1.3029533609514896, 1.0667903525046385, 1.1215199894445167, 1.2570408023080095, 0.9553004919084618, 0.8586478100873082, 0.9583100167879123, 0.9505008408276672, 0.99461561471732, 0.8898069436720419, 1.0647737355811893, 1.0713668567478838, 0.9944947611436695, 0.7815183785640671, 0.9538409129620171, 0.7409960365328279, 0.7358670245000433], \"type\": \"scatter\", \"uid\": \"1ca18386-516d-4e3d-abec-2212c983906c\"}], {\"margin\": {\"b\": 50, \"l\": 50, \"pad\": 4, \"r\": 50, \"t\": 50}, \"title\": \"<b>Proportion of accidents leading to death</b>\", \"titlefont\": {\"color\": \"#7f7f7f\", \"family\": \"Courier New, monospace\", \"size\": 18}, \"xaxis\": {\"title\": \"Year\", \"titlefont\": {\"color\": \"#7f7f7f\", \"family\": \"Courier New, monospace\", \"size\": 15}}, \"yaxis\": {\"title\": \"Percentage\", \"titlefont\": {\"color\": \"#7f7f7f\", \"family\": \"Courier New, monospace\", \"size\": 15}}}, {\"showLink\": true, \"linkText\": \"Export to plot.ly\", \"plotlyServerURL\": \"https://plot.ly\"})});</script><script type=\"text/javascript\">window.addEventListener(\"resize\", function(){window._Plotly.Plots.resize(document.getElementById(\"19c3d550-8f46-4cf2-b673-e183f7440274\"));});</script>"
      ]
     },
     "metadata": {},
     "output_type": "display_data"
    }
   ],
   "source": [
    "# Get the yearly total of accidents on each road type\n",
    "total_accident = df_Accident_type_route.groupby(['ruralite']).sum()\\\n",
    "        [[col for col in df_Accident_type_route.columns if IS_DATE.match(col)]]\n",
    "\n",
    "df_Accident_type_route_normalized_ruralite = df_Accident_type_route.copy()\n",
    "\n",
    "# Get the percentage of each category of accidents for each year and road type\n",
    "for ruralite in total_accident.index.values:\n",
    "    for year in total_accident.columns:\n",
    "        df_Accident_type_route_normalized_ruralite.\\\n",
    "        loc[df_Accident_type_route_normalized_ruralite.ruralite==ruralite,year]=\\\n",
    "            df_Accident_type_route_normalized_ruralite.\\\n",
    "            loc[df_Accident_type_route_normalized_ruralite.ruralite==ruralite][year]*100/\\\n",
    "            total_accident.loc[total_accident.index==ruralite,year][0]\n",
    "\n",
    "# We are interested in the deadly accidents on a yearly basis, grouped by the different\n",
    "# road types.\n",
    "req = df_Accident_type_route_normalized_ruralite\\\n",
    "        [df_Accident_type_route_normalized_ruralite.gravite_index==317].\\\n",
    "        groupby(['ruralite']).sum().sort_values(['2017'], ascending=False)\\\n",
    "        [[col for col in df_Accident_type_route.columns if IS_DATE.match(col)]]\n",
    "\n",
    "# Plot the results with our function\n",
    "plot_dataframe(x=req.columns.values, y=req,\\\n",
    "               title='Proportion of accidents leading to death', xlabel='Year',\\\n",
    "               ylabel='Percentage', labels=req.index.values,\\\n",
    "               rotation=45, number_to_plot=None,name_save='accident_proportion_leading_death')"
   ]
  },
  {
   "cell_type": "markdown",
   "metadata": {},
   "source": [
    "We can see the proportion of deadly accidents has been dropping during the last 25 years. This corroborates our previous affirmation: the securtiy of the drivers has been seriously improved."
   ]
  },
  {
   "cell_type": "markdown",
   "metadata": {},
   "source": [
    "#### 1.2.2 Road conditions"
   ]
  },
  {
   "cell_type": "markdown",
   "metadata": {},
   "source": [
    "We can also take a look at the conditions and the speed limit of the roads on which the accidents happened."
   ]
  },
  {
   "cell_type": "code",
   "execution_count": 33,
   "metadata": {},
   "outputs": [
    {
     "data": {
      "application/vnd.plotly.v1+json": {
       "config": {
        "linkText": "Export to plot.ly",
        "plotlyServerURL": "https://plot.ly",
        "showLink": true
       },
       "data": [
        {
         "name": "Sec",
         "type": "scatter",
         "uid": "b4ca402e-eb2e-4e85-af20-6544ab60c7ae",
         "x": [
          "1992",
          "1993",
          "1994",
          "1995",
          "1996",
          "1997",
          "1998",
          "1999",
          "2000",
          "2001",
          "2002",
          "2003",
          "2004",
          "2005",
          "2006",
          "2007",
          "2008",
          "2009",
          "2010",
          "2011",
          "2012",
          "2013",
          "2014",
          "2015",
          "2016",
          "2017"
         ],
         "y": [
          70.37641801306275,
          69.97636968317889,
          72.30841161219031,
          70.01302648719033,
          70.9379923996666,
          74.9671574178938,
          70.83033465275278,
          67.52154988478289,
          71.08733201331285,
          69.1998660863742,
          70.24569712859966,
          77.74328859060451,
          73.8150364772183,
          73.74458675020712,
          74.61728165278464,
          75.00342293825044,
          72.75752314814825,
          73.91982834292382,
          70.06986587791305,
          79.76303317535562,
          72.7959003746971,
          71.08109654896138,
          75.6501713194404,
          78.29837618403255,
          74.62593161517877,
          75.35816618911187
         ]
        },
        {
         "name": "Mouillé",
         "type": "scatter",
         "uid": "a52668fa-7f80-4e46-b3e1-2d8d18cc592d",
         "x": [
          "1992",
          "1993",
          "1994",
          "1995",
          "1996",
          "1997",
          "1998",
          "1999",
          "2000",
          "2001",
          "2002",
          "2003",
          "2004",
          "2005",
          "2006",
          "2007",
          "2008",
          "2009",
          "2010",
          "2011",
          "2012",
          "2013",
          "2014",
          "2015",
          "2016",
          "2017"
         ],
         "y": [
          19.62444138879343,
          18.56292665849817,
          18.871934373273294,
          17.976552323056914,
          16.938548521642446,
          15.415628539071356,
          17.17794170564947,
          18.04642826662108,
          18.047773518136303,
          19.317040508871834,
          19.42318264473299,
          11.711409395973144,
          14.315669913939997,
          12.042753155809441,
          13.940719370899432,
          14.714070558167117,
          15.461033950617313,
          13.025455964108044,
          12.932836962619175,
          11.026856240126357,
          14.679303504518405,
          14.004464030218067,
          13.806661798573272,
          10.103743797925125,
          13.676964214598659,
          12.393954716557124
         ]
        },
        {
         "name": "Humide",
         "type": "scatter",
         "uid": "599a8617-7663-43f8-a356-0088baa6cf5b",
         "x": [
          "1992",
          "1993",
          "1994",
          "1995",
          "1996",
          "1997",
          "1998",
          "1999",
          "2000",
          "2001",
          "2002",
          "2003",
          "2004",
          "2005",
          "2006",
          "2007",
          "2008",
          "2009",
          "2010",
          "2011",
          "2012",
          "2013",
          "2014",
          "2015",
          "2016",
          "2017"
         ],
         "y": [
          6.540048126503958,
          7.067215123402778,
          6.124877799974481,
          6.022579244463749,
          7.24348873852997,
          6.486976217440532,
          7.273299748110835,
          7.856106511905788,
          7.882209209251376,
          7.432206226983586,
          8.280120099801247,
          6.753355704697981,
          7.360971560875449,
          7.435732055652805,
          7.030850123307419,
          7.4209301264205285,
          7.667824074074077,
          8.21223056666342,
          8.174817685756517,
          6.1822011585044665,
          7.515979722283435,
          9.294339838608145,
          8.032354097624003,
          7.865358592692824,
          8.61352904363658,
          7.191415248047633
         ]
        },
        {
         "name": "Enneigé",
         "type": "scatter",
         "uid": "0d3017b7-2755-468c-be59-9be16e7b32ad",
         "x": [
          "1992",
          "1993",
          "1994",
          "1995",
          "1996",
          "1997",
          "1998",
          "1999",
          "2000",
          "2001",
          "2002",
          "2003",
          "2004",
          "2005",
          "2006",
          "2007",
          "2008",
          "2009",
          "2010",
          "2011",
          "2012",
          "2013",
          "2014",
          "2015",
          "2016",
          "2017"
         ],
         "y": [
          0.8980749398418705,
          1.9910729914230723,
          1.1008628384409402,
          2.818063395570992,
          2.3542496987672603,
          1.0056625141562854,
          2.015113350125943,
          3.162072202782284,
          1.1711673758267678,
          1.7534315366588542,
          0.6343299361441196,
          1.8246644295302,
          2.4900615962605412,
          3.7823643232286006,
          1.763528919082404,
          1.26876911140523,
          1.8856095679012346,
          2.579732761143082,
          4.870212657453207,
          0.9531332280147446,
          2.430019836896629,
          2.209122646368684,
          0.9324271190248838,
          1.437753721244925,
          0.9273482391761957,
          2.185516040226979
         ]
        },
        {
         "name": "Verglacé",
         "type": "scatter",
         "uid": "323eff17-6d33-483b-ad5f-2cbe760be272",
         "x": [
          "1992",
          "1993",
          "1994",
          "1995",
          "1996",
          "1997",
          "1998",
          "1999",
          "2000",
          "2001",
          "2002",
          "2003",
          "2004",
          "2005",
          "2006",
          "2007",
          "2008",
          "2009",
          "2010",
          "2011",
          "2012",
          "2013",
          "2014",
          "2015",
          "2016",
          "2017"
         ],
         "y": [
          2.0453764180130625,
          1.7766497461928947,
          1.1646193734857824,
          2.162396873643073,
          1.8259338214848446,
          1.5673839184597966,
          2.055595537963295,
          2.317146027140054,
          1.3017651767283143,
          1.5776699029126207,
          1.1164206876136504,
          1.489093959731543,
          1.3367699095714474,
          2.05473141066986,
          2.1404308780419705,
          1.1135959107297708,
          1.6107253086419755,
          1.5849019799083186,
          2.621245346524556,
          1.390205371248026,
          1.3610315186246424,
          2.134722142734504,
          0.7920013480874011,
          1.381371222372575,
          1.0980258292086247,
          1.3427720658463964
         ]
        },
        {
         "name": "Neige fondante",
         "type": "scatter",
         "uid": "65099428-09d0-49c3-ac57-1e02addf913a",
         "x": [
          "1992",
          "1993",
          "1994",
          "1995",
          "1996",
          "1997",
          "1998",
          "1999",
          "2000",
          "2001",
          "2002",
          "2003",
          "2004",
          "2005",
          "2006",
          "2007",
          "2008",
          "2009",
          "2010",
          "2011",
          "2012",
          "2013",
          "2014",
          "2015",
          "2016",
          "2017"
         ],
         "y": [
          0.3394637332416638,
          0.45510239803955893,
          0.2847791898669614,
          0.8858011289622238,
          0.5653906756882012,
          0.3624009060022651,
          0.449802087081684,
          0.9516087735768534,
          0.37072924126890505,
          0.5733177100770002,
          0.190298980843236,
          0.3817114093959732,
          0.5722773142282994,
          0.7878006081267854,
          0.3862081801684427,
          0.35142166035324723,
          0.5353009259259257,
          0.5461816053837902,
          1.1168341067877001,
          0.44233807266982594,
          0.9587833370068332,
          0.950037200251817,
          0.45497949783744324,
          0.6032927379341455,
          0.7168458781362003,
          1.1742232709702793
         ]
        },
        {
         "name": "Autre état de la route",
         "type": "scatter",
         "uid": "8d0355b1-ecb8-4d10-abff-7d02f94e9704",
         "x": [
          "1992",
          "1993",
          "1994",
          "1995",
          "1996",
          "1997",
          "1998",
          "1999",
          "2000",
          "2001",
          "2002",
          "2003",
          "2004",
          "2005",
          "2006",
          "2007",
          "2008",
          "2009",
          "2010",
          "2011",
          "2012",
          "2013",
          "2014",
          "2015",
          "2016",
          "2017"
         ],
         "y": [
          0.176177380543142,
          0.1706633992648346,
          0.14451481276830874,
          0.12158054711246198,
          0.1343961442209658,
          0.1947904869762174,
          0.197912918315941,
          0.14508833319108994,
          0.13902346547583938,
          0.1464680281218614,
          0.1099505222649808,
          0.09647651006711408,
          0.109213227906164,
          0.15203169630516908,
          0.12098087571541578,
          0.1277896946739081,
          0.081983024691358,
          0.13166877986930656,
          0.21418736294558613,
          0.24223275408109537,
          0.25898170597311004,
          0.32621759285755164,
          0.33140481941245864,
          0.310103743797925,
          0.34135518006485754,
          0.3539524692398449
         ]
        }
       ],
       "layout": {
        "margin": {
         "b": 50,
         "l": 50,
         "pad": 4,
         "r": 50,
         "t": 50
        },
        "title": "<b>Accidents for the different road conditions</b>",
        "titlefont": {
         "color": "#7f7f7f",
         "family": "Courier New, monospace",
         "size": 18
        },
        "xaxis": {
         "title": "Year",
         "titlefont": {
          "color": "#7f7f7f",
          "family": "Courier New, monospace",
          "size": 15
         }
        },
        "yaxis": {
         "title": "Percentage",
         "titlefont": {
          "color": "#7f7f7f",
          "family": "Courier New, monospace",
          "size": 15
         }
        }
       }
      },
      "text/html": [
       "<div id=\"e0c0a66d-f7f3-45c9-a9b2-012cd4bb8068\" style=\"height: 525px; width: 100%;\" class=\"plotly-graph-div\"></div><script type=\"text/javascript\">require([\"plotly\"], function(Plotly) { window.PLOTLYENV=window.PLOTLYENV || {};window.PLOTLYENV.BASE_URL=\"https://plot.ly\";Plotly.newPlot(\"e0c0a66d-f7f3-45c9-a9b2-012cd4bb8068\", [{\"name\": \"Sec\", \"x\": [\"1992\", \"1993\", \"1994\", \"1995\", \"1996\", \"1997\", \"1998\", \"1999\", \"2000\", \"2001\", \"2002\", \"2003\", \"2004\", \"2005\", \"2006\", \"2007\", \"2008\", \"2009\", \"2010\", \"2011\", \"2012\", \"2013\", \"2014\", \"2015\", \"2016\", \"2017\"], \"y\": [70.37641801306275, 69.97636968317889, 72.30841161219031, 70.01302648719033, 70.9379923996666, 74.9671574178938, 70.83033465275278, 67.52154988478289, 71.08733201331285, 69.1998660863742, 70.24569712859966, 77.74328859060451, 73.8150364772183, 73.74458675020712, 74.61728165278464, 75.00342293825044, 72.75752314814825, 73.91982834292382, 70.06986587791305, 79.76303317535562, 72.7959003746971, 71.08109654896138, 75.6501713194404, 78.29837618403255, 74.62593161517877, 75.35816618911187], \"type\": \"scatter\", \"uid\": \"b4ca402e-eb2e-4e85-af20-6544ab60c7ae\"}, {\"name\": \"Mouill\\u00e9\", \"x\": [\"1992\", \"1993\", \"1994\", \"1995\", \"1996\", \"1997\", \"1998\", \"1999\", \"2000\", \"2001\", \"2002\", \"2003\", \"2004\", \"2005\", \"2006\", \"2007\", \"2008\", \"2009\", \"2010\", \"2011\", \"2012\", \"2013\", \"2014\", \"2015\", \"2016\", \"2017\"], \"y\": [19.62444138879343, 18.56292665849817, 18.871934373273294, 17.976552323056914, 16.938548521642446, 15.415628539071356, 17.17794170564947, 18.04642826662108, 18.047773518136303, 19.317040508871834, 19.42318264473299, 11.711409395973144, 14.315669913939997, 12.042753155809441, 13.940719370899432, 14.714070558167117, 15.461033950617313, 13.025455964108044, 12.932836962619175, 11.026856240126357, 14.679303504518405, 14.004464030218067, 13.806661798573272, 10.103743797925125, 13.676964214598659, 12.393954716557124], \"type\": \"scatter\", \"uid\": \"a52668fa-7f80-4e46-b3e1-2d8d18cc592d\"}, {\"name\": \"Humide\", \"x\": [\"1992\", \"1993\", \"1994\", \"1995\", \"1996\", \"1997\", \"1998\", \"1999\", \"2000\", \"2001\", \"2002\", \"2003\", \"2004\", \"2005\", \"2006\", \"2007\", \"2008\", \"2009\", \"2010\", \"2011\", \"2012\", \"2013\", \"2014\", \"2015\", \"2016\", \"2017\"], \"y\": [6.540048126503958, 7.067215123402778, 6.124877799974481, 6.022579244463749, 7.24348873852997, 6.486976217440532, 7.273299748110835, 7.856106511905788, 7.882209209251376, 7.432206226983586, 8.280120099801247, 6.753355704697981, 7.360971560875449, 7.435732055652805, 7.030850123307419, 7.4209301264205285, 7.667824074074077, 8.21223056666342, 8.174817685756517, 6.1822011585044665, 7.515979722283435, 9.294339838608145, 8.032354097624003, 7.865358592692824, 8.61352904363658, 7.191415248047633], \"type\": \"scatter\", \"uid\": \"599a8617-7663-43f8-a356-0088baa6cf5b\"}, {\"name\": \"Enneig\\u00e9\", \"x\": [\"1992\", \"1993\", \"1994\", \"1995\", \"1996\", \"1997\", \"1998\", \"1999\", \"2000\", \"2001\", \"2002\", \"2003\", \"2004\", \"2005\", \"2006\", \"2007\", \"2008\", \"2009\", \"2010\", \"2011\", \"2012\", \"2013\", \"2014\", \"2015\", \"2016\", \"2017\"], \"y\": [0.8980749398418705, 1.9910729914230723, 1.1008628384409402, 2.818063395570992, 2.3542496987672603, 1.0056625141562854, 2.015113350125943, 3.162072202782284, 1.1711673758267678, 1.7534315366588542, 0.6343299361441196, 1.8246644295302, 2.4900615962605412, 3.7823643232286006, 1.763528919082404, 1.26876911140523, 1.8856095679012346, 2.579732761143082, 4.870212657453207, 0.9531332280147446, 2.430019836896629, 2.209122646368684, 0.9324271190248838, 1.437753721244925, 0.9273482391761957, 2.185516040226979], \"type\": \"scatter\", \"uid\": \"0d3017b7-2755-468c-be59-9be16e7b32ad\"}, {\"name\": \"Verglac\\u00e9\", \"x\": [\"1992\", \"1993\", \"1994\", \"1995\", \"1996\", \"1997\", \"1998\", \"1999\", \"2000\", \"2001\", \"2002\", \"2003\", \"2004\", \"2005\", \"2006\", \"2007\", \"2008\", \"2009\", \"2010\", \"2011\", \"2012\", \"2013\", \"2014\", \"2015\", \"2016\", \"2017\"], \"y\": [2.0453764180130625, 1.7766497461928947, 1.1646193734857824, 2.162396873643073, 1.8259338214848446, 1.5673839184597966, 2.055595537963295, 2.317146027140054, 1.3017651767283143, 1.5776699029126207, 1.1164206876136504, 1.489093959731543, 1.3367699095714474, 2.05473141066986, 2.1404308780419705, 1.1135959107297708, 1.6107253086419755, 1.5849019799083186, 2.621245346524556, 1.390205371248026, 1.3610315186246424, 2.134722142734504, 0.7920013480874011, 1.381371222372575, 1.0980258292086247, 1.3427720658463964], \"type\": \"scatter\", \"uid\": \"323eff17-6d33-483b-ad5f-2cbe760be272\"}, {\"name\": \"Neige fondante\", \"x\": [\"1992\", \"1993\", \"1994\", \"1995\", \"1996\", \"1997\", \"1998\", \"1999\", \"2000\", \"2001\", \"2002\", \"2003\", \"2004\", \"2005\", \"2006\", \"2007\", \"2008\", \"2009\", \"2010\", \"2011\", \"2012\", \"2013\", \"2014\", \"2015\", \"2016\", \"2017\"], \"y\": [0.3394637332416638, 0.45510239803955893, 0.2847791898669614, 0.8858011289622238, 0.5653906756882012, 0.3624009060022651, 0.449802087081684, 0.9516087735768534, 0.37072924126890505, 0.5733177100770002, 0.190298980843236, 0.3817114093959732, 0.5722773142282994, 0.7878006081267854, 0.3862081801684427, 0.35142166035324723, 0.5353009259259257, 0.5461816053837902, 1.1168341067877001, 0.44233807266982594, 0.9587833370068332, 0.950037200251817, 0.45497949783744324, 0.6032927379341455, 0.7168458781362003, 1.1742232709702793], \"type\": \"scatter\", \"uid\": \"65099428-09d0-49c3-ac57-1e02addf913a\"}, {\"name\": \"Autre \\u00e9tat de la route\", \"x\": [\"1992\", \"1993\", \"1994\", \"1995\", \"1996\", \"1997\", \"1998\", \"1999\", \"2000\", \"2001\", \"2002\", \"2003\", \"2004\", \"2005\", \"2006\", \"2007\", \"2008\", \"2009\", \"2010\", \"2011\", \"2012\", \"2013\", \"2014\", \"2015\", \"2016\", \"2017\"], \"y\": [0.176177380543142, 0.1706633992648346, 0.14451481276830874, 0.12158054711246198, 0.1343961442209658, 0.1947904869762174, 0.197912918315941, 0.14508833319108994, 0.13902346547583938, 0.1464680281218614, 0.1099505222649808, 0.09647651006711408, 0.109213227906164, 0.15203169630516908, 0.12098087571541578, 0.1277896946739081, 0.081983024691358, 0.13166877986930656, 0.21418736294558613, 0.24223275408109537, 0.25898170597311004, 0.32621759285755164, 0.33140481941245864, 0.310103743797925, 0.34135518006485754, 0.3539524692398449], \"type\": \"scatter\", \"uid\": \"8d0355b1-ecb8-4d10-abff-7d02f94e9704\"}], {\"margin\": {\"b\": 50, \"l\": 50, \"pad\": 4, \"r\": 50, \"t\": 50}, \"title\": \"<b>Accidents for the different road conditions</b>\", \"titlefont\": {\"color\": \"#7f7f7f\", \"family\": \"Courier New, monospace\", \"size\": 18}, \"xaxis\": {\"title\": \"Year\", \"titlefont\": {\"color\": \"#7f7f7f\", \"family\": \"Courier New, monospace\", \"size\": 15}}, \"yaxis\": {\"title\": \"Percentage\", \"titlefont\": {\"color\": \"#7f7f7f\", \"family\": \"Courier New, monospace\", \"size\": 15}}}, {\"showLink\": true, \"linkText\": \"Export to plot.ly\", \"plotlyServerURL\": \"https://plot.ly\"})});</script><script type=\"text/javascript\">window.addEventListener(\"resize\", function(){window._Plotly.Plots.resize(document.getElementById(\"e0c0a66d-f7f3-45c9-a9b2-012cd4bb8068\"));});</script>"
      ],
      "text/vnd.plotly.v1+html": [
       "<div id=\"e0c0a66d-f7f3-45c9-a9b2-012cd4bb8068\" style=\"height: 525px; width: 100%;\" class=\"plotly-graph-div\"></div><script type=\"text/javascript\">require([\"plotly\"], function(Plotly) { window.PLOTLYENV=window.PLOTLYENV || {};window.PLOTLYENV.BASE_URL=\"https://plot.ly\";Plotly.newPlot(\"e0c0a66d-f7f3-45c9-a9b2-012cd4bb8068\", [{\"name\": \"Sec\", \"x\": [\"1992\", \"1993\", \"1994\", \"1995\", \"1996\", \"1997\", \"1998\", \"1999\", \"2000\", \"2001\", \"2002\", \"2003\", \"2004\", \"2005\", \"2006\", \"2007\", \"2008\", \"2009\", \"2010\", \"2011\", \"2012\", \"2013\", \"2014\", \"2015\", \"2016\", \"2017\"], \"y\": [70.37641801306275, 69.97636968317889, 72.30841161219031, 70.01302648719033, 70.9379923996666, 74.9671574178938, 70.83033465275278, 67.52154988478289, 71.08733201331285, 69.1998660863742, 70.24569712859966, 77.74328859060451, 73.8150364772183, 73.74458675020712, 74.61728165278464, 75.00342293825044, 72.75752314814825, 73.91982834292382, 70.06986587791305, 79.76303317535562, 72.7959003746971, 71.08109654896138, 75.6501713194404, 78.29837618403255, 74.62593161517877, 75.35816618911187], \"type\": \"scatter\", \"uid\": \"b4ca402e-eb2e-4e85-af20-6544ab60c7ae\"}, {\"name\": \"Mouill\\u00e9\", \"x\": [\"1992\", \"1993\", \"1994\", \"1995\", \"1996\", \"1997\", \"1998\", \"1999\", \"2000\", \"2001\", \"2002\", \"2003\", \"2004\", \"2005\", \"2006\", \"2007\", \"2008\", \"2009\", \"2010\", \"2011\", \"2012\", \"2013\", \"2014\", \"2015\", \"2016\", \"2017\"], \"y\": [19.62444138879343, 18.56292665849817, 18.871934373273294, 17.976552323056914, 16.938548521642446, 15.415628539071356, 17.17794170564947, 18.04642826662108, 18.047773518136303, 19.317040508871834, 19.42318264473299, 11.711409395973144, 14.315669913939997, 12.042753155809441, 13.940719370899432, 14.714070558167117, 15.461033950617313, 13.025455964108044, 12.932836962619175, 11.026856240126357, 14.679303504518405, 14.004464030218067, 13.806661798573272, 10.103743797925125, 13.676964214598659, 12.393954716557124], \"type\": \"scatter\", \"uid\": \"a52668fa-7f80-4e46-b3e1-2d8d18cc592d\"}, {\"name\": \"Humide\", \"x\": [\"1992\", \"1993\", \"1994\", \"1995\", \"1996\", \"1997\", \"1998\", \"1999\", \"2000\", \"2001\", \"2002\", \"2003\", \"2004\", \"2005\", \"2006\", \"2007\", \"2008\", \"2009\", \"2010\", \"2011\", \"2012\", \"2013\", \"2014\", \"2015\", \"2016\", \"2017\"], \"y\": [6.540048126503958, 7.067215123402778, 6.124877799974481, 6.022579244463749, 7.24348873852997, 6.486976217440532, 7.273299748110835, 7.856106511905788, 7.882209209251376, 7.432206226983586, 8.280120099801247, 6.753355704697981, 7.360971560875449, 7.435732055652805, 7.030850123307419, 7.4209301264205285, 7.667824074074077, 8.21223056666342, 8.174817685756517, 6.1822011585044665, 7.515979722283435, 9.294339838608145, 8.032354097624003, 7.865358592692824, 8.61352904363658, 7.191415248047633], \"type\": \"scatter\", \"uid\": \"599a8617-7663-43f8-a356-0088baa6cf5b\"}, {\"name\": \"Enneig\\u00e9\", \"x\": [\"1992\", \"1993\", \"1994\", \"1995\", \"1996\", \"1997\", \"1998\", \"1999\", \"2000\", \"2001\", \"2002\", \"2003\", \"2004\", \"2005\", \"2006\", \"2007\", \"2008\", \"2009\", \"2010\", \"2011\", \"2012\", \"2013\", \"2014\", \"2015\", \"2016\", \"2017\"], \"y\": [0.8980749398418705, 1.9910729914230723, 1.1008628384409402, 2.818063395570992, 2.3542496987672603, 1.0056625141562854, 2.015113350125943, 3.162072202782284, 1.1711673758267678, 1.7534315366588542, 0.6343299361441196, 1.8246644295302, 2.4900615962605412, 3.7823643232286006, 1.763528919082404, 1.26876911140523, 1.8856095679012346, 2.579732761143082, 4.870212657453207, 0.9531332280147446, 2.430019836896629, 2.209122646368684, 0.9324271190248838, 1.437753721244925, 0.9273482391761957, 2.185516040226979], \"type\": \"scatter\", \"uid\": \"0d3017b7-2755-468c-be59-9be16e7b32ad\"}, {\"name\": \"Verglac\\u00e9\", \"x\": [\"1992\", \"1993\", \"1994\", \"1995\", \"1996\", \"1997\", \"1998\", \"1999\", \"2000\", \"2001\", \"2002\", \"2003\", \"2004\", \"2005\", \"2006\", \"2007\", \"2008\", \"2009\", \"2010\", \"2011\", \"2012\", \"2013\", \"2014\", \"2015\", \"2016\", \"2017\"], \"y\": [2.0453764180130625, 1.7766497461928947, 1.1646193734857824, 2.162396873643073, 1.8259338214848446, 1.5673839184597966, 2.055595537963295, 2.317146027140054, 1.3017651767283143, 1.5776699029126207, 1.1164206876136504, 1.489093959731543, 1.3367699095714474, 2.05473141066986, 2.1404308780419705, 1.1135959107297708, 1.6107253086419755, 1.5849019799083186, 2.621245346524556, 1.390205371248026, 1.3610315186246424, 2.134722142734504, 0.7920013480874011, 1.381371222372575, 1.0980258292086247, 1.3427720658463964], \"type\": \"scatter\", \"uid\": \"323eff17-6d33-483b-ad5f-2cbe760be272\"}, {\"name\": \"Neige fondante\", \"x\": [\"1992\", \"1993\", \"1994\", \"1995\", \"1996\", \"1997\", \"1998\", \"1999\", \"2000\", \"2001\", \"2002\", \"2003\", \"2004\", \"2005\", \"2006\", \"2007\", \"2008\", \"2009\", \"2010\", \"2011\", \"2012\", \"2013\", \"2014\", \"2015\", \"2016\", \"2017\"], \"y\": [0.3394637332416638, 0.45510239803955893, 0.2847791898669614, 0.8858011289622238, 0.5653906756882012, 0.3624009060022651, 0.449802087081684, 0.9516087735768534, 0.37072924126890505, 0.5733177100770002, 0.190298980843236, 0.3817114093959732, 0.5722773142282994, 0.7878006081267854, 0.3862081801684427, 0.35142166035324723, 0.5353009259259257, 0.5461816053837902, 1.1168341067877001, 0.44233807266982594, 0.9587833370068332, 0.950037200251817, 0.45497949783744324, 0.6032927379341455, 0.7168458781362003, 1.1742232709702793], \"type\": \"scatter\", \"uid\": \"65099428-09d0-49c3-ac57-1e02addf913a\"}, {\"name\": \"Autre \\u00e9tat de la route\", \"x\": [\"1992\", \"1993\", \"1994\", \"1995\", \"1996\", \"1997\", \"1998\", \"1999\", \"2000\", \"2001\", \"2002\", \"2003\", \"2004\", \"2005\", \"2006\", \"2007\", \"2008\", \"2009\", \"2010\", \"2011\", \"2012\", \"2013\", \"2014\", \"2015\", \"2016\", \"2017\"], \"y\": [0.176177380543142, 0.1706633992648346, 0.14451481276830874, 0.12158054711246198, 0.1343961442209658, 0.1947904869762174, 0.197912918315941, 0.14508833319108994, 0.13902346547583938, 0.1464680281218614, 0.1099505222649808, 0.09647651006711408, 0.109213227906164, 0.15203169630516908, 0.12098087571541578, 0.1277896946739081, 0.081983024691358, 0.13166877986930656, 0.21418736294558613, 0.24223275408109537, 0.25898170597311004, 0.32621759285755164, 0.33140481941245864, 0.310103743797925, 0.34135518006485754, 0.3539524692398449], \"type\": \"scatter\", \"uid\": \"8d0355b1-ecb8-4d10-abff-7d02f94e9704\"}], {\"margin\": {\"b\": 50, \"l\": 50, \"pad\": 4, \"r\": 50, \"t\": 50}, \"title\": \"<b>Accidents for the different road conditions</b>\", \"titlefont\": {\"color\": \"#7f7f7f\", \"family\": \"Courier New, monospace\", \"size\": 18}, \"xaxis\": {\"title\": \"Year\", \"titlefont\": {\"color\": \"#7f7f7f\", \"family\": \"Courier New, monospace\", \"size\": 15}}, \"yaxis\": {\"title\": \"Percentage\", \"titlefont\": {\"color\": \"#7f7f7f\", \"family\": \"Courier New, monospace\", \"size\": 15}}}, {\"showLink\": true, \"linkText\": \"Export to plot.ly\", \"plotlyServerURL\": \"https://plot.ly\"})});</script><script type=\"text/javascript\">window.addEventListener(\"resize\", function(){window._Plotly.Plots.resize(document.getElementById(\"e0c0a66d-f7f3-45c9-a9b2-012cd4bb8068\"));});</script>"
      ]
     },
     "metadata": {},
     "output_type": "display_data"
    },
    {
     "data": {
      "application/vnd.plotly.v1+json": {
       "config": {
        "linkText": "Export to plot.ly",
        "plotlyServerURL": "https://plot.ly",
        "showLink": true
       },
       "data": [
        {
         "name": "Mouillé",
         "type": "scatter",
         "uid": "cdced5dc-c70c-4978-9ddc-31421c47eab9",
         "x": [
          "1992",
          "1993",
          "1994",
          "1995",
          "1996",
          "1997",
          "1998",
          "1999",
          "2000",
          "2001",
          "2002",
          "2003",
          "2004",
          "2005",
          "2006",
          "2007",
          "2008",
          "2009",
          "2010",
          "2011",
          "2012",
          "2013",
          "2014",
          "2015",
          "2016",
          "2017"
         ],
         "y": [
          19.62444138879343,
          18.56292665849817,
          18.871934373273294,
          17.976552323056914,
          16.938548521642446,
          15.415628539071356,
          17.17794170564947,
          18.04642826662108,
          18.047773518136303,
          19.317040508871834,
          19.42318264473299,
          11.711409395973144,
          14.315669913939997,
          12.042753155809441,
          13.940719370899432,
          14.714070558167117,
          15.461033950617313,
          13.025455964108044,
          12.932836962619175,
          11.026856240126357,
          14.679303504518405,
          14.004464030218067,
          13.806661798573272,
          10.103743797925125,
          13.676964214598659,
          12.393954716557124
         ]
        },
        {
         "name": "Humide",
         "type": "scatter",
         "uid": "b4987af3-49cd-4271-a3be-f21963a60f8f",
         "x": [
          "1992",
          "1993",
          "1994",
          "1995",
          "1996",
          "1997",
          "1998",
          "1999",
          "2000",
          "2001",
          "2002",
          "2003",
          "2004",
          "2005",
          "2006",
          "2007",
          "2008",
          "2009",
          "2010",
          "2011",
          "2012",
          "2013",
          "2014",
          "2015",
          "2016",
          "2017"
         ],
         "y": [
          6.540048126503958,
          7.067215123402778,
          6.124877799974481,
          6.022579244463749,
          7.24348873852997,
          6.486976217440532,
          7.273299748110835,
          7.856106511905788,
          7.882209209251376,
          7.432206226983586,
          8.280120099801247,
          6.753355704697981,
          7.360971560875449,
          7.435732055652805,
          7.030850123307419,
          7.4209301264205285,
          7.667824074074077,
          8.21223056666342,
          8.174817685756517,
          6.1822011585044665,
          7.515979722283435,
          9.294339838608145,
          8.032354097624003,
          7.865358592692824,
          8.61352904363658,
          7.191415248047633
         ]
        },
        {
         "name": "Enneigé",
         "type": "scatter",
         "uid": "e236b89a-028b-4cc7-99bd-87702771fe67",
         "x": [
          "1992",
          "1993",
          "1994",
          "1995",
          "1996",
          "1997",
          "1998",
          "1999",
          "2000",
          "2001",
          "2002",
          "2003",
          "2004",
          "2005",
          "2006",
          "2007",
          "2008",
          "2009",
          "2010",
          "2011",
          "2012",
          "2013",
          "2014",
          "2015",
          "2016",
          "2017"
         ],
         "y": [
          0.8980749398418705,
          1.9910729914230723,
          1.1008628384409402,
          2.818063395570992,
          2.3542496987672603,
          1.0056625141562854,
          2.015113350125943,
          3.162072202782284,
          1.1711673758267678,
          1.7534315366588542,
          0.6343299361441196,
          1.8246644295302,
          2.4900615962605412,
          3.7823643232286006,
          1.763528919082404,
          1.26876911140523,
          1.8856095679012346,
          2.579732761143082,
          4.870212657453207,
          0.9531332280147446,
          2.430019836896629,
          2.209122646368684,
          0.9324271190248838,
          1.437753721244925,
          0.9273482391761957,
          2.185516040226979
         ]
        },
        {
         "name": "Verglacé",
         "type": "scatter",
         "uid": "857bf7de-f9c3-4f56-9099-46c8106b1c35",
         "x": [
          "1992",
          "1993",
          "1994",
          "1995",
          "1996",
          "1997",
          "1998",
          "1999",
          "2000",
          "2001",
          "2002",
          "2003",
          "2004",
          "2005",
          "2006",
          "2007",
          "2008",
          "2009",
          "2010",
          "2011",
          "2012",
          "2013",
          "2014",
          "2015",
          "2016",
          "2017"
         ],
         "y": [
          2.0453764180130625,
          1.7766497461928947,
          1.1646193734857824,
          2.162396873643073,
          1.8259338214848446,
          1.5673839184597966,
          2.055595537963295,
          2.317146027140054,
          1.3017651767283143,
          1.5776699029126207,
          1.1164206876136504,
          1.489093959731543,
          1.3367699095714474,
          2.05473141066986,
          2.1404308780419705,
          1.1135959107297708,
          1.6107253086419755,
          1.5849019799083186,
          2.621245346524556,
          1.390205371248026,
          1.3610315186246424,
          2.134722142734504,
          0.7920013480874011,
          1.381371222372575,
          1.0980258292086247,
          1.3427720658463964
         ]
        },
        {
         "name": "Neige fondante",
         "type": "scatter",
         "uid": "2c35c8e9-28f1-4148-887d-7cddb2d86cdc",
         "x": [
          "1992",
          "1993",
          "1994",
          "1995",
          "1996",
          "1997",
          "1998",
          "1999",
          "2000",
          "2001",
          "2002",
          "2003",
          "2004",
          "2005",
          "2006",
          "2007",
          "2008",
          "2009",
          "2010",
          "2011",
          "2012",
          "2013",
          "2014",
          "2015",
          "2016",
          "2017"
         ],
         "y": [
          0.3394637332416638,
          0.45510239803955893,
          0.2847791898669614,
          0.8858011289622238,
          0.5653906756882012,
          0.3624009060022651,
          0.449802087081684,
          0.9516087735768534,
          0.37072924126890505,
          0.5733177100770002,
          0.190298980843236,
          0.3817114093959732,
          0.5722773142282994,
          0.7878006081267854,
          0.3862081801684427,
          0.35142166035324723,
          0.5353009259259257,
          0.5461816053837902,
          1.1168341067877001,
          0.44233807266982594,
          0.9587833370068332,
          0.950037200251817,
          0.45497949783744324,
          0.6032927379341455,
          0.7168458781362003,
          1.1742232709702793
         ]
        },
        {
         "name": "Autre état de la route",
         "type": "scatter",
         "uid": "0d42f158-24db-47ad-8cdf-6cd4791d9d81",
         "x": [
          "1992",
          "1993",
          "1994",
          "1995",
          "1996",
          "1997",
          "1998",
          "1999",
          "2000",
          "2001",
          "2002",
          "2003",
          "2004",
          "2005",
          "2006",
          "2007",
          "2008",
          "2009",
          "2010",
          "2011",
          "2012",
          "2013",
          "2014",
          "2015",
          "2016",
          "2017"
         ],
         "y": [
          0.176177380543142,
          0.1706633992648346,
          0.14451481276830874,
          0.12158054711246198,
          0.1343961442209658,
          0.1947904869762174,
          0.197912918315941,
          0.14508833319108994,
          0.13902346547583938,
          0.1464680281218614,
          0.1099505222649808,
          0.09647651006711408,
          0.109213227906164,
          0.15203169630516908,
          0.12098087571541578,
          0.1277896946739081,
          0.081983024691358,
          0.13166877986930656,
          0.21418736294558613,
          0.24223275408109537,
          0.25898170597311004,
          0.32621759285755164,
          0.33140481941245864,
          0.310103743797925,
          0.34135518006485754,
          0.3539524692398449
         ]
        }
       ],
       "layout": {
        "margin": {
         "b": 50,
         "l": 50,
         "pad": 4,
         "r": 50,
         "t": 50
        },
        "title": "<b>Road condition when the road wasn't dry</b>",
        "titlefont": {
         "color": "#7f7f7f",
         "family": "Courier New, monospace",
         "size": 18
        },
        "xaxis": {
         "title": "Year",
         "titlefont": {
          "color": "#7f7f7f",
          "family": "Courier New, monospace",
          "size": 15
         }
        },
        "yaxis": {
         "title": "Percentage",
         "titlefont": {
          "color": "#7f7f7f",
          "family": "Courier New, monospace",
          "size": 15
         }
        }
       }
      },
      "text/html": [
       "<div id=\"035ecb8b-6376-4add-bb17-1c386df8690d\" style=\"height: 525px; width: 100%;\" class=\"plotly-graph-div\"></div><script type=\"text/javascript\">require([\"plotly\"], function(Plotly) { window.PLOTLYENV=window.PLOTLYENV || {};window.PLOTLYENV.BASE_URL=\"https://plot.ly\";Plotly.newPlot(\"035ecb8b-6376-4add-bb17-1c386df8690d\", [{\"name\": \"Mouill\\u00e9\", \"x\": [\"1992\", \"1993\", \"1994\", \"1995\", \"1996\", \"1997\", \"1998\", \"1999\", \"2000\", \"2001\", \"2002\", \"2003\", \"2004\", \"2005\", \"2006\", \"2007\", \"2008\", \"2009\", \"2010\", \"2011\", \"2012\", \"2013\", \"2014\", \"2015\", \"2016\", \"2017\"], \"y\": [19.62444138879343, 18.56292665849817, 18.871934373273294, 17.976552323056914, 16.938548521642446, 15.415628539071356, 17.17794170564947, 18.04642826662108, 18.047773518136303, 19.317040508871834, 19.42318264473299, 11.711409395973144, 14.315669913939997, 12.042753155809441, 13.940719370899432, 14.714070558167117, 15.461033950617313, 13.025455964108044, 12.932836962619175, 11.026856240126357, 14.679303504518405, 14.004464030218067, 13.806661798573272, 10.103743797925125, 13.676964214598659, 12.393954716557124], \"type\": \"scatter\", \"uid\": \"cdced5dc-c70c-4978-9ddc-31421c47eab9\"}, {\"name\": \"Humide\", \"x\": [\"1992\", \"1993\", \"1994\", \"1995\", \"1996\", \"1997\", \"1998\", \"1999\", \"2000\", \"2001\", \"2002\", \"2003\", \"2004\", \"2005\", \"2006\", \"2007\", \"2008\", \"2009\", \"2010\", \"2011\", \"2012\", \"2013\", \"2014\", \"2015\", \"2016\", \"2017\"], \"y\": [6.540048126503958, 7.067215123402778, 6.124877799974481, 6.022579244463749, 7.24348873852997, 6.486976217440532, 7.273299748110835, 7.856106511905788, 7.882209209251376, 7.432206226983586, 8.280120099801247, 6.753355704697981, 7.360971560875449, 7.435732055652805, 7.030850123307419, 7.4209301264205285, 7.667824074074077, 8.21223056666342, 8.174817685756517, 6.1822011585044665, 7.515979722283435, 9.294339838608145, 8.032354097624003, 7.865358592692824, 8.61352904363658, 7.191415248047633], \"type\": \"scatter\", \"uid\": \"b4987af3-49cd-4271-a3be-f21963a60f8f\"}, {\"name\": \"Enneig\\u00e9\", \"x\": [\"1992\", \"1993\", \"1994\", \"1995\", \"1996\", \"1997\", \"1998\", \"1999\", \"2000\", \"2001\", \"2002\", \"2003\", \"2004\", \"2005\", \"2006\", \"2007\", \"2008\", \"2009\", \"2010\", \"2011\", \"2012\", \"2013\", \"2014\", \"2015\", \"2016\", \"2017\"], \"y\": [0.8980749398418705, 1.9910729914230723, 1.1008628384409402, 2.818063395570992, 2.3542496987672603, 1.0056625141562854, 2.015113350125943, 3.162072202782284, 1.1711673758267678, 1.7534315366588542, 0.6343299361441196, 1.8246644295302, 2.4900615962605412, 3.7823643232286006, 1.763528919082404, 1.26876911140523, 1.8856095679012346, 2.579732761143082, 4.870212657453207, 0.9531332280147446, 2.430019836896629, 2.209122646368684, 0.9324271190248838, 1.437753721244925, 0.9273482391761957, 2.185516040226979], \"type\": \"scatter\", \"uid\": \"e236b89a-028b-4cc7-99bd-87702771fe67\"}, {\"name\": \"Verglac\\u00e9\", \"x\": [\"1992\", \"1993\", \"1994\", \"1995\", \"1996\", \"1997\", \"1998\", \"1999\", \"2000\", \"2001\", \"2002\", \"2003\", \"2004\", \"2005\", \"2006\", \"2007\", \"2008\", \"2009\", \"2010\", \"2011\", \"2012\", \"2013\", \"2014\", \"2015\", \"2016\", \"2017\"], \"y\": [2.0453764180130625, 1.7766497461928947, 1.1646193734857824, 2.162396873643073, 1.8259338214848446, 1.5673839184597966, 2.055595537963295, 2.317146027140054, 1.3017651767283143, 1.5776699029126207, 1.1164206876136504, 1.489093959731543, 1.3367699095714474, 2.05473141066986, 2.1404308780419705, 1.1135959107297708, 1.6107253086419755, 1.5849019799083186, 2.621245346524556, 1.390205371248026, 1.3610315186246424, 2.134722142734504, 0.7920013480874011, 1.381371222372575, 1.0980258292086247, 1.3427720658463964], \"type\": \"scatter\", \"uid\": \"857bf7de-f9c3-4f56-9099-46c8106b1c35\"}, {\"name\": \"Neige fondante\", \"x\": [\"1992\", \"1993\", \"1994\", \"1995\", \"1996\", \"1997\", \"1998\", \"1999\", \"2000\", \"2001\", \"2002\", \"2003\", \"2004\", \"2005\", \"2006\", \"2007\", \"2008\", \"2009\", \"2010\", \"2011\", \"2012\", \"2013\", \"2014\", \"2015\", \"2016\", \"2017\"], \"y\": [0.3394637332416638, 0.45510239803955893, 0.2847791898669614, 0.8858011289622238, 0.5653906756882012, 0.3624009060022651, 0.449802087081684, 0.9516087735768534, 0.37072924126890505, 0.5733177100770002, 0.190298980843236, 0.3817114093959732, 0.5722773142282994, 0.7878006081267854, 0.3862081801684427, 0.35142166035324723, 0.5353009259259257, 0.5461816053837902, 1.1168341067877001, 0.44233807266982594, 0.9587833370068332, 0.950037200251817, 0.45497949783744324, 0.6032927379341455, 0.7168458781362003, 1.1742232709702793], \"type\": \"scatter\", \"uid\": \"2c35c8e9-28f1-4148-887d-7cddb2d86cdc\"}, {\"name\": \"Autre \\u00e9tat de la route\", \"x\": [\"1992\", \"1993\", \"1994\", \"1995\", \"1996\", \"1997\", \"1998\", \"1999\", \"2000\", \"2001\", \"2002\", \"2003\", \"2004\", \"2005\", \"2006\", \"2007\", \"2008\", \"2009\", \"2010\", \"2011\", \"2012\", \"2013\", \"2014\", \"2015\", \"2016\", \"2017\"], \"y\": [0.176177380543142, 0.1706633992648346, 0.14451481276830874, 0.12158054711246198, 0.1343961442209658, 0.1947904869762174, 0.197912918315941, 0.14508833319108994, 0.13902346547583938, 0.1464680281218614, 0.1099505222649808, 0.09647651006711408, 0.109213227906164, 0.15203169630516908, 0.12098087571541578, 0.1277896946739081, 0.081983024691358, 0.13166877986930656, 0.21418736294558613, 0.24223275408109537, 0.25898170597311004, 0.32621759285755164, 0.33140481941245864, 0.310103743797925, 0.34135518006485754, 0.3539524692398449], \"type\": \"scatter\", \"uid\": \"0d42f158-24db-47ad-8cdf-6cd4791d9d81\"}], {\"margin\": {\"b\": 50, \"l\": 50, \"pad\": 4, \"r\": 50, \"t\": 50}, \"title\": \"<b>Road condition when the road wasn't dry</b>\", \"titlefont\": {\"color\": \"#7f7f7f\", \"family\": \"Courier New, monospace\", \"size\": 18}, \"xaxis\": {\"title\": \"Year\", \"titlefont\": {\"color\": \"#7f7f7f\", \"family\": \"Courier New, monospace\", \"size\": 15}}, \"yaxis\": {\"title\": \"Percentage\", \"titlefont\": {\"color\": \"#7f7f7f\", \"family\": \"Courier New, monospace\", \"size\": 15}}}, {\"showLink\": true, \"linkText\": \"Export to plot.ly\", \"plotlyServerURL\": \"https://plot.ly\"})});</script><script type=\"text/javascript\">window.addEventListener(\"resize\", function(){window._Plotly.Plots.resize(document.getElementById(\"035ecb8b-6376-4add-bb17-1c386df8690d\"));});</script>"
      ],
      "text/vnd.plotly.v1+html": [
       "<div id=\"035ecb8b-6376-4add-bb17-1c386df8690d\" style=\"height: 525px; width: 100%;\" class=\"plotly-graph-div\"></div><script type=\"text/javascript\">require([\"plotly\"], function(Plotly) { window.PLOTLYENV=window.PLOTLYENV || {};window.PLOTLYENV.BASE_URL=\"https://plot.ly\";Plotly.newPlot(\"035ecb8b-6376-4add-bb17-1c386df8690d\", [{\"name\": \"Mouill\\u00e9\", \"x\": [\"1992\", \"1993\", \"1994\", \"1995\", \"1996\", \"1997\", \"1998\", \"1999\", \"2000\", \"2001\", \"2002\", \"2003\", \"2004\", \"2005\", \"2006\", \"2007\", \"2008\", \"2009\", \"2010\", \"2011\", \"2012\", \"2013\", \"2014\", \"2015\", \"2016\", \"2017\"], \"y\": [19.62444138879343, 18.56292665849817, 18.871934373273294, 17.976552323056914, 16.938548521642446, 15.415628539071356, 17.17794170564947, 18.04642826662108, 18.047773518136303, 19.317040508871834, 19.42318264473299, 11.711409395973144, 14.315669913939997, 12.042753155809441, 13.940719370899432, 14.714070558167117, 15.461033950617313, 13.025455964108044, 12.932836962619175, 11.026856240126357, 14.679303504518405, 14.004464030218067, 13.806661798573272, 10.103743797925125, 13.676964214598659, 12.393954716557124], \"type\": \"scatter\", \"uid\": \"cdced5dc-c70c-4978-9ddc-31421c47eab9\"}, {\"name\": \"Humide\", \"x\": [\"1992\", \"1993\", \"1994\", \"1995\", \"1996\", \"1997\", \"1998\", \"1999\", \"2000\", \"2001\", \"2002\", \"2003\", \"2004\", \"2005\", \"2006\", \"2007\", \"2008\", \"2009\", \"2010\", \"2011\", \"2012\", \"2013\", \"2014\", \"2015\", \"2016\", \"2017\"], \"y\": [6.540048126503958, 7.067215123402778, 6.124877799974481, 6.022579244463749, 7.24348873852997, 6.486976217440532, 7.273299748110835, 7.856106511905788, 7.882209209251376, 7.432206226983586, 8.280120099801247, 6.753355704697981, 7.360971560875449, 7.435732055652805, 7.030850123307419, 7.4209301264205285, 7.667824074074077, 8.21223056666342, 8.174817685756517, 6.1822011585044665, 7.515979722283435, 9.294339838608145, 8.032354097624003, 7.865358592692824, 8.61352904363658, 7.191415248047633], \"type\": \"scatter\", \"uid\": \"b4987af3-49cd-4271-a3be-f21963a60f8f\"}, {\"name\": \"Enneig\\u00e9\", \"x\": [\"1992\", \"1993\", \"1994\", \"1995\", \"1996\", \"1997\", \"1998\", \"1999\", \"2000\", \"2001\", \"2002\", \"2003\", \"2004\", \"2005\", \"2006\", \"2007\", \"2008\", \"2009\", \"2010\", \"2011\", \"2012\", \"2013\", \"2014\", \"2015\", \"2016\", \"2017\"], \"y\": [0.8980749398418705, 1.9910729914230723, 1.1008628384409402, 2.818063395570992, 2.3542496987672603, 1.0056625141562854, 2.015113350125943, 3.162072202782284, 1.1711673758267678, 1.7534315366588542, 0.6343299361441196, 1.8246644295302, 2.4900615962605412, 3.7823643232286006, 1.763528919082404, 1.26876911140523, 1.8856095679012346, 2.579732761143082, 4.870212657453207, 0.9531332280147446, 2.430019836896629, 2.209122646368684, 0.9324271190248838, 1.437753721244925, 0.9273482391761957, 2.185516040226979], \"type\": \"scatter\", \"uid\": \"e236b89a-028b-4cc7-99bd-87702771fe67\"}, {\"name\": \"Verglac\\u00e9\", \"x\": [\"1992\", \"1993\", \"1994\", \"1995\", \"1996\", \"1997\", \"1998\", \"1999\", \"2000\", \"2001\", \"2002\", \"2003\", \"2004\", \"2005\", \"2006\", \"2007\", \"2008\", \"2009\", \"2010\", \"2011\", \"2012\", \"2013\", \"2014\", \"2015\", \"2016\", \"2017\"], \"y\": [2.0453764180130625, 1.7766497461928947, 1.1646193734857824, 2.162396873643073, 1.8259338214848446, 1.5673839184597966, 2.055595537963295, 2.317146027140054, 1.3017651767283143, 1.5776699029126207, 1.1164206876136504, 1.489093959731543, 1.3367699095714474, 2.05473141066986, 2.1404308780419705, 1.1135959107297708, 1.6107253086419755, 1.5849019799083186, 2.621245346524556, 1.390205371248026, 1.3610315186246424, 2.134722142734504, 0.7920013480874011, 1.381371222372575, 1.0980258292086247, 1.3427720658463964], \"type\": \"scatter\", \"uid\": \"857bf7de-f9c3-4f56-9099-46c8106b1c35\"}, {\"name\": \"Neige fondante\", \"x\": [\"1992\", \"1993\", \"1994\", \"1995\", \"1996\", \"1997\", \"1998\", \"1999\", \"2000\", \"2001\", \"2002\", \"2003\", \"2004\", \"2005\", \"2006\", \"2007\", \"2008\", \"2009\", \"2010\", \"2011\", \"2012\", \"2013\", \"2014\", \"2015\", \"2016\", \"2017\"], \"y\": [0.3394637332416638, 0.45510239803955893, 0.2847791898669614, 0.8858011289622238, 0.5653906756882012, 0.3624009060022651, 0.449802087081684, 0.9516087735768534, 0.37072924126890505, 0.5733177100770002, 0.190298980843236, 0.3817114093959732, 0.5722773142282994, 0.7878006081267854, 0.3862081801684427, 0.35142166035324723, 0.5353009259259257, 0.5461816053837902, 1.1168341067877001, 0.44233807266982594, 0.9587833370068332, 0.950037200251817, 0.45497949783744324, 0.6032927379341455, 0.7168458781362003, 1.1742232709702793], \"type\": \"scatter\", \"uid\": \"2c35c8e9-28f1-4148-887d-7cddb2d86cdc\"}, {\"name\": \"Autre \\u00e9tat de la route\", \"x\": [\"1992\", \"1993\", \"1994\", \"1995\", \"1996\", \"1997\", \"1998\", \"1999\", \"2000\", \"2001\", \"2002\", \"2003\", \"2004\", \"2005\", \"2006\", \"2007\", \"2008\", \"2009\", \"2010\", \"2011\", \"2012\", \"2013\", \"2014\", \"2015\", \"2016\", \"2017\"], \"y\": [0.176177380543142, 0.1706633992648346, 0.14451481276830874, 0.12158054711246198, 0.1343961442209658, 0.1947904869762174, 0.197912918315941, 0.14508833319108994, 0.13902346547583938, 0.1464680281218614, 0.1099505222649808, 0.09647651006711408, 0.109213227906164, 0.15203169630516908, 0.12098087571541578, 0.1277896946739081, 0.081983024691358, 0.13166877986930656, 0.21418736294558613, 0.24223275408109537, 0.25898170597311004, 0.32621759285755164, 0.33140481941245864, 0.310103743797925, 0.34135518006485754, 0.3539524692398449], \"type\": \"scatter\", \"uid\": \"0d42f158-24db-47ad-8cdf-6cd4791d9d81\"}], {\"margin\": {\"b\": 50, \"l\": 50, \"pad\": 4, \"r\": 50, \"t\": 50}, \"title\": \"<b>Road condition when the road wasn't dry</b>\", \"titlefont\": {\"color\": \"#7f7f7f\", \"family\": \"Courier New, monospace\", \"size\": 18}, \"xaxis\": {\"title\": \"Year\", \"titlefont\": {\"color\": \"#7f7f7f\", \"family\": \"Courier New, monospace\", \"size\": 15}}, \"yaxis\": {\"title\": \"Percentage\", \"titlefont\": {\"color\": \"#7f7f7f\", \"family\": \"Courier New, monospace\", \"size\": 15}}}, {\"showLink\": true, \"linkText\": \"Export to plot.ly\", \"plotlyServerURL\": \"https://plot.ly\"})});</script><script type=\"text/javascript\">window.addEventListener(\"resize\", function(){window._Plotly.Plots.resize(document.getElementById(\"035ecb8b-6376-4add-bb17-1c386df8690d\"));});</script>"
      ]
     },
     "metadata": {},
     "output_type": "display_data"
    },
    {
     "data": {
      "application/vnd.plotly.v1+json": {
       "config": {
        "linkText": "Export to plot.ly",
        "plotlyServerURL": "https://plot.ly",
        "showLink": true
       },
       "data": [
        {
         "name": "40-50 Km/h",
         "type": "scatter",
         "uid": "1623cd43-8de1-43e7-8592-ccad7ccaf724",
         "x": [
          "1992",
          "1993",
          "1994",
          "1995",
          "1996",
          "1997",
          "1998",
          "1999",
          "2000",
          "2001",
          "2002",
          "2003",
          "2004",
          "2005",
          "2006",
          "2007",
          "2008",
          "2009",
          "2010",
          "2011",
          "2012",
          "2013",
          "2014",
          "2015",
          "2016",
          "2017"
         ],
         "y": [
          56.033001031281955,
          55.8113075441975,
          56.66680834785562,
          56.204950065132536,
          56.905181203077426,
          56.97395243488119,
          56.499640158330465,
          56.14491764103453,
          56.173905716813444,
          55.56578506863058,
          56.92899733581406,
          56.28775167785226,
          56.36713118692947,
          56.81839122823167,
          57.08901400586278,
          56.829902788553824,
          57.50868055555545,
          56.84677655320381,
          55.99979601203519,
          56.566614007372394,
          55.34494159135983,
          55.58289933039556,
          56.41184070100535,
          56.36558412268814,
          56.28946919269491,
          55.13231080397759
         ]
        },
        {
         "name": "70-80 Km/h",
         "type": "scatter",
         "uid": "5ea65677-0310-4006-8b40-9bf0d8940258",
         "x": [
          "1992",
          "1993",
          "1994",
          "1995",
          "1996",
          "1997",
          "1998",
          "1999",
          "2000",
          "2001",
          "2002",
          "2003",
          "2004",
          "2005",
          "2006",
          "2007",
          "2008",
          "2009",
          "2010",
          "2011",
          "2012",
          "2013",
          "2014",
          "2015",
          "2016",
          "2017"
         ],
         "y": [
          25.786352698521878,
          26.045860318571712,
          25.302843541463044,
          25.062961354754695,
          24.520344795625267,
          24.271800679501663,
          24.307304785894175,
          24.383374583937794,
          24.543960904916492,
          24.514563106796192,
          23.50403856726015,
          24.014261744966422,
          23.67742781005633,
          23.376025062194756,
          23.335349681261985,
          22.449911003605457,
          21.67727623456786,
          22.232517312006195,
          22.35708093222502,
          22.111637704054775,
          22.53140841966053,
          21.873748068448485,
          21.558164354322276,
          21.075778078484433,
          20.21960516584172,
          21.051744480026983
         ]
        },
        {
         "name": "60 Km/h",
         "type": "scatter",
         "uid": "ee722191-f8a2-467c-b287-eda80be0eaa8",
         "x": [
          "1992",
          "1993",
          "1994",
          "1995",
          "1996",
          "1997",
          "1998",
          "1999",
          "2000",
          "2001",
          "2002",
          "2003",
          "2004",
          "2005",
          "2006",
          "2007",
          "2008",
          "2009",
          "2010",
          "2011",
          "2012",
          "2013",
          "2014",
          "2015",
          "2016",
          "2017"
         ],
         "y": [
          11.528875902371965,
          11.49133555049886,
          11.250903217579772,
          11.016066000868474,
          11.238298266753153,
          11.084937712344283,
          10.979668945663887,
          10.433558078006284,
          10.544719214728053,
          10.7633076665551,
          10.19579650695651,
          10.415268456375822,
          10.40583635489933,
          10.14926748364505,
          10.060025126797246,
          10.141025055907999,
          10.300925925925945,
          9.923924704964382,
          9.985210872558499,
          10.021063717746161,
          9.96253030636985,
          9.82086647971157,
          9.195079480986342,
          9.53991880920164,
          9.392956704784673,
          9.961233777178503
         ]
        },
        {
         "name": "90-120 Km/h",
         "type": "scatter",
         "uid": "66fb4510-c96e-4785-874a-d18de08b4ae1",
         "x": [
          "1992",
          "1993",
          "1994",
          "1995",
          "1996",
          "1997",
          "1998",
          "1999",
          "2000",
          "2001",
          "2002",
          "2003",
          "2004",
          "2005",
          "2006",
          "2007",
          "2008",
          "2009",
          "2010",
          "2011",
          "2012",
          "2013",
          "2014",
          "2015",
          "2016",
          "2017"
         ],
         "y": [
          6.033001031282228,
          5.968842989672681,
          5.942109066179279,
          6.934433347807212,
          6.358327926591897,
          6.405436013590033,
          6.917956099316304,
          7.493385678928053,
          7.144963559000715,
          7.3903582189487755,
          7.18907260963336,
          6.912751677852345,
          7.011489231575728,
          6.717036764028375,
          6.351495975059326,
          6.987357948062617,
          6.794945987654323,
          6.851653174680583,
          7.210974552501398,
          6.4770932069510225,
          7.312100506942909,
          7.365649859783667,
          7.015671516036627,
          6.467072620658547,
          7.43585367241281,
          7.045339625821672
         ]
        },
        {
         "name": "10-30 Km/h",
         "type": "scatter",
         "uid": "9b3ce437-e083-495e-b366-37f24f81c176",
         "x": [
          "1992",
          "1993",
          "1994",
          "1995",
          "1996",
          "1997",
          "1998",
          "1999",
          "2000",
          "2001",
          "2002",
          "2003",
          "2004",
          "2005",
          "2006",
          "2007",
          "2008",
          "2009",
          "2010",
          "2011",
          "2012",
          "2013",
          "2014",
          "2015",
          "2016",
          "2017"
         ],
         "y": [
          0.6187693365417671,
          0.6826535970593379,
          0.837335826922259,
          0.7815892314372561,
          0.977847807952545,
          1.2638731596828996,
          1.295430010795248,
          1.5447640180933686,
          1.5924506045414326,
          1.7659859390692996,
          2.1820949803357697,
          2.3699664429530176,
          2.5381154165392528,
          2.939279461899937,
          3.1641152110185673,
          3.591803203870201,
          3.718171296296294,
          4.14512825514484,
          4.446937630679785,
          4.82359136387572,
          4.849019175666735,
          5.356836261660852,
          5.8192439476492765,
          6.551646368967071,
          6.662115264265796,
          6.80937131299511
         ]
        }
       ],
       "layout": {
        "margin": {
         "b": 50,
         "l": 50,
         "pad": 4,
         "r": 50,
         "t": 50
        },
        "title": "<b>Speed limits on the roads where accidents happened</b>",
        "titlefont": {
         "color": "#7f7f7f",
         "family": "Courier New, monospace",
         "size": 18
        },
        "xaxis": {
         "title": "Year",
         "titlefont": {
          "color": "#7f7f7f",
          "family": "Courier New, monospace",
          "size": 15
         }
        },
        "yaxis": {
         "title": "Percentage",
         "titlefont": {
          "color": "#7f7f7f",
          "family": "Courier New, monospace",
          "size": 15
         }
        }
       }
      },
      "text/html": [
       "<div id=\"d8f53c25-4bcd-432f-b72b-9495f33c2563\" style=\"height: 525px; width: 100%;\" class=\"plotly-graph-div\"></div><script type=\"text/javascript\">require([\"plotly\"], function(Plotly) { window.PLOTLYENV=window.PLOTLYENV || {};window.PLOTLYENV.BASE_URL=\"https://plot.ly\";Plotly.newPlot(\"d8f53c25-4bcd-432f-b72b-9495f33c2563\", [{\"name\": \"40-50 Km/h\", \"x\": [\"1992\", \"1993\", \"1994\", \"1995\", \"1996\", \"1997\", \"1998\", \"1999\", \"2000\", \"2001\", \"2002\", \"2003\", \"2004\", \"2005\", \"2006\", \"2007\", \"2008\", \"2009\", \"2010\", \"2011\", \"2012\", \"2013\", \"2014\", \"2015\", \"2016\", \"2017\"], \"y\": [56.033001031281955, 55.8113075441975, 56.66680834785562, 56.204950065132536, 56.905181203077426, 56.97395243488119, 56.499640158330465, 56.14491764103453, 56.173905716813444, 55.56578506863058, 56.92899733581406, 56.28775167785226, 56.36713118692947, 56.81839122823167, 57.08901400586278, 56.829902788553824, 57.50868055555545, 56.84677655320381, 55.99979601203519, 56.566614007372394, 55.34494159135983, 55.58289933039556, 56.41184070100535, 56.36558412268814, 56.28946919269491, 55.13231080397759], \"type\": \"scatter\", \"uid\": \"1623cd43-8de1-43e7-8592-ccad7ccaf724\"}, {\"name\": \"70-80 Km/h\", \"x\": [\"1992\", \"1993\", \"1994\", \"1995\", \"1996\", \"1997\", \"1998\", \"1999\", \"2000\", \"2001\", \"2002\", \"2003\", \"2004\", \"2005\", \"2006\", \"2007\", \"2008\", \"2009\", \"2010\", \"2011\", \"2012\", \"2013\", \"2014\", \"2015\", \"2016\", \"2017\"], \"y\": [25.786352698521878, 26.045860318571712, 25.302843541463044, 25.062961354754695, 24.520344795625267, 24.271800679501663, 24.307304785894175, 24.383374583937794, 24.543960904916492, 24.514563106796192, 23.50403856726015, 24.014261744966422, 23.67742781005633, 23.376025062194756, 23.335349681261985, 22.449911003605457, 21.67727623456786, 22.232517312006195, 22.35708093222502, 22.111637704054775, 22.53140841966053, 21.873748068448485, 21.558164354322276, 21.075778078484433, 20.21960516584172, 21.051744480026983], \"type\": \"scatter\", \"uid\": \"5ea65677-0310-4006-8b40-9bf0d8940258\"}, {\"name\": \"60 Km/h\", \"x\": [\"1992\", \"1993\", \"1994\", \"1995\", \"1996\", \"1997\", \"1998\", \"1999\", \"2000\", \"2001\", \"2002\", \"2003\", \"2004\", \"2005\", \"2006\", \"2007\", \"2008\", \"2009\", \"2010\", \"2011\", \"2012\", \"2013\", \"2014\", \"2015\", \"2016\", \"2017\"], \"y\": [11.528875902371965, 11.49133555049886, 11.250903217579772, 11.016066000868474, 11.238298266753153, 11.084937712344283, 10.979668945663887, 10.433558078006284, 10.544719214728053, 10.7633076665551, 10.19579650695651, 10.415268456375822, 10.40583635489933, 10.14926748364505, 10.060025126797246, 10.141025055907999, 10.300925925925945, 9.923924704964382, 9.985210872558499, 10.021063717746161, 9.96253030636985, 9.82086647971157, 9.195079480986342, 9.53991880920164, 9.392956704784673, 9.961233777178503], \"type\": \"scatter\", \"uid\": \"ee722191-f8a2-467c-b287-eda80be0eaa8\"}, {\"name\": \"90-120 Km/h\", \"x\": [\"1992\", \"1993\", \"1994\", \"1995\", \"1996\", \"1997\", \"1998\", \"1999\", \"2000\", \"2001\", \"2002\", \"2003\", \"2004\", \"2005\", \"2006\", \"2007\", \"2008\", \"2009\", \"2010\", \"2011\", \"2012\", \"2013\", \"2014\", \"2015\", \"2016\", \"2017\"], \"y\": [6.033001031282228, 5.968842989672681, 5.942109066179279, 6.934433347807212, 6.358327926591897, 6.405436013590033, 6.917956099316304, 7.493385678928053, 7.144963559000715, 7.3903582189487755, 7.18907260963336, 6.912751677852345, 7.011489231575728, 6.717036764028375, 6.351495975059326, 6.987357948062617, 6.794945987654323, 6.851653174680583, 7.210974552501398, 6.4770932069510225, 7.312100506942909, 7.365649859783667, 7.015671516036627, 6.467072620658547, 7.43585367241281, 7.045339625821672], \"type\": \"scatter\", \"uid\": \"66fb4510-c96e-4785-874a-d18de08b4ae1\"}, {\"name\": \"10-30 Km/h\", \"x\": [\"1992\", \"1993\", \"1994\", \"1995\", \"1996\", \"1997\", \"1998\", \"1999\", \"2000\", \"2001\", \"2002\", \"2003\", \"2004\", \"2005\", \"2006\", \"2007\", \"2008\", \"2009\", \"2010\", \"2011\", \"2012\", \"2013\", \"2014\", \"2015\", \"2016\", \"2017\"], \"y\": [0.6187693365417671, 0.6826535970593379, 0.837335826922259, 0.7815892314372561, 0.977847807952545, 1.2638731596828996, 1.295430010795248, 1.5447640180933686, 1.5924506045414326, 1.7659859390692996, 2.1820949803357697, 2.3699664429530176, 2.5381154165392528, 2.939279461899937, 3.1641152110185673, 3.591803203870201, 3.718171296296294, 4.14512825514484, 4.446937630679785, 4.82359136387572, 4.849019175666735, 5.356836261660852, 5.8192439476492765, 6.551646368967071, 6.662115264265796, 6.80937131299511], \"type\": \"scatter\", \"uid\": \"9b3ce437-e083-495e-b366-37f24f81c176\"}], {\"margin\": {\"b\": 50, \"l\": 50, \"pad\": 4, \"r\": 50, \"t\": 50}, \"title\": \"<b>Speed limits on the roads where accidents happened</b>\", \"titlefont\": {\"color\": \"#7f7f7f\", \"family\": \"Courier New, monospace\", \"size\": 18}, \"xaxis\": {\"title\": \"Year\", \"titlefont\": {\"color\": \"#7f7f7f\", \"family\": \"Courier New, monospace\", \"size\": 15}}, \"yaxis\": {\"title\": \"Percentage\", \"titlefont\": {\"color\": \"#7f7f7f\", \"family\": \"Courier New, monospace\", \"size\": 15}}}, {\"showLink\": true, \"linkText\": \"Export to plot.ly\", \"plotlyServerURL\": \"https://plot.ly\"})});</script><script type=\"text/javascript\">window.addEventListener(\"resize\", function(){window._Plotly.Plots.resize(document.getElementById(\"d8f53c25-4bcd-432f-b72b-9495f33c2563\"));});</script>"
      ],
      "text/vnd.plotly.v1+html": [
       "<div id=\"d8f53c25-4bcd-432f-b72b-9495f33c2563\" style=\"height: 525px; width: 100%;\" class=\"plotly-graph-div\"></div><script type=\"text/javascript\">require([\"plotly\"], function(Plotly) { window.PLOTLYENV=window.PLOTLYENV || {};window.PLOTLYENV.BASE_URL=\"https://plot.ly\";Plotly.newPlot(\"d8f53c25-4bcd-432f-b72b-9495f33c2563\", [{\"name\": \"40-50 Km/h\", \"x\": [\"1992\", \"1993\", \"1994\", \"1995\", \"1996\", \"1997\", \"1998\", \"1999\", \"2000\", \"2001\", \"2002\", \"2003\", \"2004\", \"2005\", \"2006\", \"2007\", \"2008\", \"2009\", \"2010\", \"2011\", \"2012\", \"2013\", \"2014\", \"2015\", \"2016\", \"2017\"], \"y\": [56.033001031281955, 55.8113075441975, 56.66680834785562, 56.204950065132536, 56.905181203077426, 56.97395243488119, 56.499640158330465, 56.14491764103453, 56.173905716813444, 55.56578506863058, 56.92899733581406, 56.28775167785226, 56.36713118692947, 56.81839122823167, 57.08901400586278, 56.829902788553824, 57.50868055555545, 56.84677655320381, 55.99979601203519, 56.566614007372394, 55.34494159135983, 55.58289933039556, 56.41184070100535, 56.36558412268814, 56.28946919269491, 55.13231080397759], \"type\": \"scatter\", \"uid\": \"1623cd43-8de1-43e7-8592-ccad7ccaf724\"}, {\"name\": \"70-80 Km/h\", \"x\": [\"1992\", \"1993\", \"1994\", \"1995\", \"1996\", \"1997\", \"1998\", \"1999\", \"2000\", \"2001\", \"2002\", \"2003\", \"2004\", \"2005\", \"2006\", \"2007\", \"2008\", \"2009\", \"2010\", \"2011\", \"2012\", \"2013\", \"2014\", \"2015\", \"2016\", \"2017\"], \"y\": [25.786352698521878, 26.045860318571712, 25.302843541463044, 25.062961354754695, 24.520344795625267, 24.271800679501663, 24.307304785894175, 24.383374583937794, 24.543960904916492, 24.514563106796192, 23.50403856726015, 24.014261744966422, 23.67742781005633, 23.376025062194756, 23.335349681261985, 22.449911003605457, 21.67727623456786, 22.232517312006195, 22.35708093222502, 22.111637704054775, 22.53140841966053, 21.873748068448485, 21.558164354322276, 21.075778078484433, 20.21960516584172, 21.051744480026983], \"type\": \"scatter\", \"uid\": \"5ea65677-0310-4006-8b40-9bf0d8940258\"}, {\"name\": \"60 Km/h\", \"x\": [\"1992\", \"1993\", \"1994\", \"1995\", \"1996\", \"1997\", \"1998\", \"1999\", \"2000\", \"2001\", \"2002\", \"2003\", \"2004\", \"2005\", \"2006\", \"2007\", \"2008\", \"2009\", \"2010\", \"2011\", \"2012\", \"2013\", \"2014\", \"2015\", \"2016\", \"2017\"], \"y\": [11.528875902371965, 11.49133555049886, 11.250903217579772, 11.016066000868474, 11.238298266753153, 11.084937712344283, 10.979668945663887, 10.433558078006284, 10.544719214728053, 10.7633076665551, 10.19579650695651, 10.415268456375822, 10.40583635489933, 10.14926748364505, 10.060025126797246, 10.141025055907999, 10.300925925925945, 9.923924704964382, 9.985210872558499, 10.021063717746161, 9.96253030636985, 9.82086647971157, 9.195079480986342, 9.53991880920164, 9.392956704784673, 9.961233777178503], \"type\": \"scatter\", \"uid\": \"ee722191-f8a2-467c-b287-eda80be0eaa8\"}, {\"name\": \"90-120 Km/h\", \"x\": [\"1992\", \"1993\", \"1994\", \"1995\", \"1996\", \"1997\", \"1998\", \"1999\", \"2000\", \"2001\", \"2002\", \"2003\", \"2004\", \"2005\", \"2006\", \"2007\", \"2008\", \"2009\", \"2010\", \"2011\", \"2012\", \"2013\", \"2014\", \"2015\", \"2016\", \"2017\"], \"y\": [6.033001031282228, 5.968842989672681, 5.942109066179279, 6.934433347807212, 6.358327926591897, 6.405436013590033, 6.917956099316304, 7.493385678928053, 7.144963559000715, 7.3903582189487755, 7.18907260963336, 6.912751677852345, 7.011489231575728, 6.717036764028375, 6.351495975059326, 6.987357948062617, 6.794945987654323, 6.851653174680583, 7.210974552501398, 6.4770932069510225, 7.312100506942909, 7.365649859783667, 7.015671516036627, 6.467072620658547, 7.43585367241281, 7.045339625821672], \"type\": \"scatter\", \"uid\": \"66fb4510-c96e-4785-874a-d18de08b4ae1\"}, {\"name\": \"10-30 Km/h\", \"x\": [\"1992\", \"1993\", \"1994\", \"1995\", \"1996\", \"1997\", \"1998\", \"1999\", \"2000\", \"2001\", \"2002\", \"2003\", \"2004\", \"2005\", \"2006\", \"2007\", \"2008\", \"2009\", \"2010\", \"2011\", \"2012\", \"2013\", \"2014\", \"2015\", \"2016\", \"2017\"], \"y\": [0.6187693365417671, 0.6826535970593379, 0.837335826922259, 0.7815892314372561, 0.977847807952545, 1.2638731596828996, 1.295430010795248, 1.5447640180933686, 1.5924506045414326, 1.7659859390692996, 2.1820949803357697, 2.3699664429530176, 2.5381154165392528, 2.939279461899937, 3.1641152110185673, 3.591803203870201, 3.718171296296294, 4.14512825514484, 4.446937630679785, 4.82359136387572, 4.849019175666735, 5.356836261660852, 5.8192439476492765, 6.551646368967071, 6.662115264265796, 6.80937131299511], \"type\": \"scatter\", \"uid\": \"9b3ce437-e083-495e-b366-37f24f81c176\"}], {\"margin\": {\"b\": 50, \"l\": 50, \"pad\": 4, \"r\": 50, \"t\": 50}, \"title\": \"<b>Speed limits on the roads where accidents happened</b>\", \"titlefont\": {\"color\": \"#7f7f7f\", \"family\": \"Courier New, monospace\", \"size\": 18}, \"xaxis\": {\"title\": \"Year\", \"titlefont\": {\"color\": \"#7f7f7f\", \"family\": \"Courier New, monospace\", \"size\": 15}}, \"yaxis\": {\"title\": \"Percentage\", \"titlefont\": {\"color\": \"#7f7f7f\", \"family\": \"Courier New, monospace\", \"size\": 15}}}, {\"showLink\": true, \"linkText\": \"Export to plot.ly\", \"plotlyServerURL\": \"https://plot.ly\"})});</script><script type=\"text/javascript\">window.addEventListener(\"resize\", function(){window._Plotly.Plots.resize(document.getElementById(\"d8f53c25-4bcd-432f-b72b-9495f33c2563\"));});</script>"
      ]
     },
     "metadata": {},
     "output_type": "display_data"
    }
   ],
   "source": [
    "df_Accident_type_route_normalized = df_Accident_type_route.copy()\n",
    "\n",
    "# Transform the data in percentages along the year\n",
    "for date in [col for col in df_Accident_type_route_normalized.columns if IS_DATE.match(col)]:\n",
    "    df_Accident_type_route_normalized[date]=\\\n",
    "        df_Accident_type_route_normalized[date]*100/\\\n",
    "        (df_Accident_type_route_normalized[date].sum())\n",
    "\n",
    "# Group the accidents by road condition and keep the useful columns\n",
    "req = df_Accident_type_route_normalized.groupby(['temps']).sum().\\\n",
    "    sort_values(['2017'], ascending=False)\\\n",
    "    [[col for col in df_Accident_type_route.columns if IS_DATE.match(col)]]\n",
    "# Plot the results with our function\n",
    "plot_dataframe(x=req.columns.values, y=req,\\\n",
    "               title='Accidents for the different road conditions', xlabel='Year',\\\n",
    "               ylabel='Percentage', labels=req.index.values,\\\n",
    "               rotation=45, number_to_plot=None,name_save='accident_road_condition')\n",
    "\n",
    "# This time without considering the accidents happening when the road is dry\n",
    "req = df_Accident_type_route_normalized[df_Accident_type_route_normalized.temps!='Sec'].\\\n",
    "    groupby(['temps']).sum().sort_values(['2017'], ascending=False)\\\n",
    "    [[col for col in df_Accident_type_route.columns if IS_DATE.match(col)]]\n",
    "# Plot the results with our function\n",
    "plot_dataframe(x=req.columns.values, y=req,\\\n",
    "               title=\"Road condition when the road wasn't dry\", xlabel='Year',\\\n",
    "               ylabel='Percentage', labels=req.index.values,\\\n",
    "               rotation=45, number_to_plot=None,name_save='accident_road_condition_undry')\n",
    "\n",
    "# We can also look at the speed limits of the roads where accidents happened\n",
    "req = df_Accident_type_route_normalized.groupby(['vitesse']).sum().\\\n",
    "    sort_values(['2017'], ascending=False)\\\n",
    "    [[col for col in df_Accident_type_route.columns if IS_DATE.match(col)]]\n",
    "# And plot it with our usual function\n",
    "plot_dataframe(x=req.columns.values, y=req,\\\n",
    "               title=\"Speed limits on the roads where accidents happened\", xlabel='Year',\\\n",
    "               ylabel='Percentage', labels=req.index.values,\\\n",
    "               rotation=45, number_to_plot=None,name_save='accident_speed_limit')"
   ]
  },
  {
   "cell_type": "markdown",
   "metadata": {},
   "source": [
    "We can see that the vast majority of the accidents are happening on dry roads. This might be unexpected and point towards the fact that the people are less careful when the conditions seem ideal. If the road is not dry, then most incidents happen in wet or damp conditions, which is not very surprising.\n",
    "\n",
    "Most of the incidents happened on roads limited at between 40 and 50 km/h, i.e. inside localities. They are probably not the deadliest ones but are surely numerous due to the high number of external factors that can impact the driver and cause an accident. We can see an increase in accidents on roads limited below 30 km/h, which might be due to the growing number of those roads appearing in the cities."
   ]
  },
  {
   "cell_type": "markdown",
   "metadata": {},
   "source": [
    "#### 1.2.3 Cantonal analysis"
   ]
  },
  {
   "cell_type": "markdown",
   "metadata": {},
   "source": [
    "This part describes the main dataset that we plan to use in the scope of a 'canton-scale comparative study'. Since we have an **aggregated** dataset of car accidents in cantons, the possibility of correlations within the dataset are limited. "
   ]
  },
  {
   "cell_type": "markdown",
   "metadata": {},
   "source": [
    "##### Absolute number of accidents"
   ]
  },
  {
   "cell_type": "markdown",
   "metadata": {},
   "source": [
    "We start from the `df_Accident_canton` containing the number of accidents on different road types and with different gravities for each canton on a yearly basis. As usual, we sort them based on the reference year 2017."
   ]
  },
  {
   "cell_type": "code",
   "execution_count": 34,
   "metadata": {
    "scrolled": false
   },
   "outputs": [
    {
     "data": {
      "application/vnd.plotly.v1+json": {
       "config": {
        "linkText": "Export to plot.ly",
        "plotlyServerURL": "https://plot.ly",
        "showLink": true
       },
       "data": [
        {
         "name": "ZH",
         "type": "scatter",
         "uid": "34b09b3f-e295-44cc-85fd-189a1d914d49",
         "x": [
          "1992",
          "1993",
          "1994",
          "1995",
          "1996",
          "1997",
          "1998",
          "1999",
          "2000",
          "2001",
          "2002",
          "2003",
          "2004",
          "2005",
          "2006",
          "2007",
          "2008",
          "2009",
          "2010",
          "2011",
          "2012",
          "2013",
          "2014",
          "2015",
          "2016",
          "2017"
         ],
         "y": [
          3102,
          2960,
          3135,
          3081,
          2922,
          3102,
          3097,
          3283,
          3367,
          3400,
          3321,
          3583,
          3441,
          3152,
          3218,
          3287,
          3115,
          3225,
          3034,
          3012,
          2940,
          2835,
          3044,
          3202,
          3410,
          3352
         ]
        },
        {
         "name": "BE",
         "type": "scatter",
         "uid": "ac972d10-7cdd-4954-8666-d530238e2038",
         "x": [
          "1992",
          "1993",
          "1994",
          "1995",
          "1996",
          "1997",
          "1998",
          "1999",
          "2000",
          "2001",
          "2002",
          "2003",
          "2004",
          "2005",
          "2006",
          "2007",
          "2008",
          "2009",
          "2010",
          "2011",
          "2012",
          "2013",
          "2014",
          "2015",
          "2016",
          "2017"
         ],
         "y": [
          3237,
          3176,
          3234,
          3176,
          3019,
          3058,
          3018,
          3107,
          3053,
          3155,
          3245,
          3319,
          3192,
          2988,
          2898,
          2895,
          2732,
          2534,
          2561,
          2630,
          2596,
          2462,
          2509,
          2551,
          2465,
          2616
         ]
        },
        {
         "name": "VD",
         "type": "scatter",
         "uid": "396608f2-9976-4225-8c47-a1d36dae6c41",
         "x": [
          "1992",
          "1993",
          "1994",
          "1995",
          "1996",
          "1997",
          "1998",
          "1999",
          "2000",
          "2001",
          "2002",
          "2003",
          "2004",
          "2005",
          "2006",
          "2007",
          "2008",
          "2009",
          "2010",
          "2011",
          "2012",
          "2013",
          "2014",
          "2015",
          "2016",
          "2017"
         ],
         "y": [
          2725,
          2620,
          2670,
          2602,
          2349,
          2319,
          2422,
          2573,
          2717,
          2538,
          2531,
          2421,
          2353,
          2111,
          2124,
          2294,
          2043,
          2032,
          1981,
          1802,
          1758,
          1782,
          1609,
          1400,
          1692,
          1646
         ]
        },
        {
         "name": "AG",
         "type": "scatter",
         "uid": "01577fa8-6a13-4f15-bf32-4a9d71621386",
         "x": [
          "1992",
          "1993",
          "1994",
          "1995",
          "1996",
          "1997",
          "1998",
          "1999",
          "2000",
          "2001",
          "2002",
          "2003",
          "2004",
          "2005",
          "2006",
          "2007",
          "2008",
          "2009",
          "2010",
          "2011",
          "2012",
          "2013",
          "2014",
          "2015",
          "2016",
          "2017"
         ],
         "y": [
          1547,
          1531,
          1691,
          1576,
          1544,
          1484,
          1431,
          1722,
          1686,
          1708,
          1709,
          1569,
          1504,
          1542,
          1491,
          1499,
          1408,
          1464,
          1345,
          1358,
          1250,
          1191,
          1215,
          1213,
          1079,
          1155
         ]
        },
        {
         "name": "GE",
         "type": "scatter",
         "uid": "70f93ecc-5f0a-4c7f-b804-51301e5f3a88",
         "x": [
          "1992",
          "1993",
          "1994",
          "1995",
          "1996",
          "1997",
          "1998",
          "1999",
          "2000",
          "2001",
          "2002",
          "2003",
          "2004",
          "2005",
          "2006",
          "2007",
          "2008",
          "2009",
          "2010",
          "2011",
          "2012",
          "2013",
          "2014",
          "2015",
          "2016",
          "2017"
         ],
         "y": [
          1122,
          1084,
          1125,
          1039,
          1033,
          1039,
          1167,
          1222,
          1256,
          1359,
          1360,
          1348,
          1319,
          1226,
          1194,
          1193,
          1238,
          1142,
          1108,
          918,
          1023,
          1181,
          1300,
          1264,
          1170,
          1127
         ]
        }
       ],
       "layout": {
        "margin": {
         "b": 50,
         "l": 50,
         "pad": 4,
         "r": 50,
         "t": 50
        },
        "title": "<b>The 5 cantons with the most accidents</b>",
        "titlefont": {
         "color": "#7f7f7f",
         "family": "Courier New, monospace",
         "size": 18
        },
        "xaxis": {
         "title": "Year",
         "titlefont": {
          "color": "#7f7f7f",
          "family": "Courier New, monospace",
          "size": 15
         }
        },
        "yaxis": {
         "title": "Number of accidents",
         "titlefont": {
          "color": "#7f7f7f",
          "family": "Courier New, monospace",
          "size": 15
         }
        }
       }
      },
      "text/html": [
       "<div id=\"82456301-5e8a-4b99-80a3-a13e26e29f66\" style=\"height: 525px; width: 100%;\" class=\"plotly-graph-div\"></div><script type=\"text/javascript\">require([\"plotly\"], function(Plotly) { window.PLOTLYENV=window.PLOTLYENV || {};window.PLOTLYENV.BASE_URL=\"https://plot.ly\";Plotly.newPlot(\"82456301-5e8a-4b99-80a3-a13e26e29f66\", [{\"name\": \"ZH\", \"x\": [\"1992\", \"1993\", \"1994\", \"1995\", \"1996\", \"1997\", \"1998\", \"1999\", \"2000\", \"2001\", \"2002\", \"2003\", \"2004\", \"2005\", \"2006\", \"2007\", \"2008\", \"2009\", \"2010\", \"2011\", \"2012\", \"2013\", \"2014\", \"2015\", \"2016\", \"2017\"], \"y\": [3102.0, 2960.0, 3135.0, 3081.0, 2922.0, 3102.0, 3097.0, 3283.0, 3367.0, 3400.0, 3321.0, 3583.0, 3441.0, 3152.0, 3218.0, 3287.0, 3115.0, 3225.0, 3034.0, 3012.0, 2940.0, 2835.0, 3044.0, 3202.0, 3410.0, 3352.0], \"type\": \"scatter\", \"uid\": \"34b09b3f-e295-44cc-85fd-189a1d914d49\"}, {\"name\": \"BE\", \"x\": [\"1992\", \"1993\", \"1994\", \"1995\", \"1996\", \"1997\", \"1998\", \"1999\", \"2000\", \"2001\", \"2002\", \"2003\", \"2004\", \"2005\", \"2006\", \"2007\", \"2008\", \"2009\", \"2010\", \"2011\", \"2012\", \"2013\", \"2014\", \"2015\", \"2016\", \"2017\"], \"y\": [3237.0, 3176.0, 3234.0, 3176.0, 3019.0, 3058.0, 3018.0, 3107.0, 3053.0, 3155.0, 3245.0, 3319.0, 3192.0, 2988.0, 2898.0, 2895.0, 2732.0, 2534.0, 2561.0, 2630.0, 2596.0, 2462.0, 2509.0, 2551.0, 2465.0, 2616.0], \"type\": \"scatter\", \"uid\": \"ac972d10-7cdd-4954-8666-d530238e2038\"}, {\"name\": \"VD\", \"x\": [\"1992\", \"1993\", \"1994\", \"1995\", \"1996\", \"1997\", \"1998\", \"1999\", \"2000\", \"2001\", \"2002\", \"2003\", \"2004\", \"2005\", \"2006\", \"2007\", \"2008\", \"2009\", \"2010\", \"2011\", \"2012\", \"2013\", \"2014\", \"2015\", \"2016\", \"2017\"], \"y\": [2725.0, 2620.0, 2670.0, 2602.0, 2349.0, 2319.0, 2422.0, 2573.0, 2717.0, 2538.0, 2531.0, 2421.0, 2353.0, 2111.0, 2124.0, 2294.0, 2043.0, 2032.0, 1981.0, 1802.0, 1758.0, 1782.0, 1609.0, 1400.0, 1692.0, 1646.0], \"type\": \"scatter\", \"uid\": \"396608f2-9976-4225-8c47-a1d36dae6c41\"}, {\"name\": \"AG\", \"x\": [\"1992\", \"1993\", \"1994\", \"1995\", \"1996\", \"1997\", \"1998\", \"1999\", \"2000\", \"2001\", \"2002\", \"2003\", \"2004\", \"2005\", \"2006\", \"2007\", \"2008\", \"2009\", \"2010\", \"2011\", \"2012\", \"2013\", \"2014\", \"2015\", \"2016\", \"2017\"], \"y\": [1547.0, 1531.0, 1691.0, 1576.0, 1544.0, 1484.0, 1431.0, 1722.0, 1686.0, 1708.0, 1709.0, 1569.0, 1504.0, 1542.0, 1491.0, 1499.0, 1408.0, 1464.0, 1345.0, 1358.0, 1250.0, 1191.0, 1215.0, 1213.0, 1079.0, 1155.0], \"type\": \"scatter\", \"uid\": \"01577fa8-6a13-4f15-bf32-4a9d71621386\"}, {\"name\": \"GE\", \"x\": [\"1992\", \"1993\", \"1994\", \"1995\", \"1996\", \"1997\", \"1998\", \"1999\", \"2000\", \"2001\", \"2002\", \"2003\", \"2004\", \"2005\", \"2006\", \"2007\", \"2008\", \"2009\", \"2010\", \"2011\", \"2012\", \"2013\", \"2014\", \"2015\", \"2016\", \"2017\"], \"y\": [1122.0, 1084.0, 1125.0, 1039.0, 1033.0, 1039.0, 1167.0, 1222.0, 1256.0, 1359.0, 1360.0, 1348.0, 1319.0, 1226.0, 1194.0, 1193.0, 1238.0, 1142.0, 1108.0, 918.0, 1023.0, 1181.0, 1300.0, 1264.0, 1170.0, 1127.0], \"type\": \"scatter\", \"uid\": \"70f93ecc-5f0a-4c7f-b804-51301e5f3a88\"}], {\"margin\": {\"b\": 50, \"l\": 50, \"pad\": 4, \"r\": 50, \"t\": 50}, \"title\": \"<b>The 5 cantons with the most accidents</b>\", \"titlefont\": {\"color\": \"#7f7f7f\", \"family\": \"Courier New, monospace\", \"size\": 18}, \"xaxis\": {\"title\": \"Year\", \"titlefont\": {\"color\": \"#7f7f7f\", \"family\": \"Courier New, monospace\", \"size\": 15}}, \"yaxis\": {\"title\": \"Number of accidents\", \"titlefont\": {\"color\": \"#7f7f7f\", \"family\": \"Courier New, monospace\", \"size\": 15}}}, {\"showLink\": true, \"linkText\": \"Export to plot.ly\", \"plotlyServerURL\": \"https://plot.ly\"})});</script><script type=\"text/javascript\">window.addEventListener(\"resize\", function(){window._Plotly.Plots.resize(document.getElementById(\"82456301-5e8a-4b99-80a3-a13e26e29f66\"));});</script>"
      ],
      "text/vnd.plotly.v1+html": [
       "<div id=\"82456301-5e8a-4b99-80a3-a13e26e29f66\" style=\"height: 525px; width: 100%;\" class=\"plotly-graph-div\"></div><script type=\"text/javascript\">require([\"plotly\"], function(Plotly) { window.PLOTLYENV=window.PLOTLYENV || {};window.PLOTLYENV.BASE_URL=\"https://plot.ly\";Plotly.newPlot(\"82456301-5e8a-4b99-80a3-a13e26e29f66\", [{\"name\": \"ZH\", \"x\": [\"1992\", \"1993\", \"1994\", \"1995\", \"1996\", \"1997\", \"1998\", \"1999\", \"2000\", \"2001\", \"2002\", \"2003\", \"2004\", \"2005\", \"2006\", \"2007\", \"2008\", \"2009\", \"2010\", \"2011\", \"2012\", \"2013\", \"2014\", \"2015\", \"2016\", \"2017\"], \"y\": [3102.0, 2960.0, 3135.0, 3081.0, 2922.0, 3102.0, 3097.0, 3283.0, 3367.0, 3400.0, 3321.0, 3583.0, 3441.0, 3152.0, 3218.0, 3287.0, 3115.0, 3225.0, 3034.0, 3012.0, 2940.0, 2835.0, 3044.0, 3202.0, 3410.0, 3352.0], \"type\": \"scatter\", \"uid\": \"34b09b3f-e295-44cc-85fd-189a1d914d49\"}, {\"name\": \"BE\", \"x\": [\"1992\", \"1993\", \"1994\", \"1995\", \"1996\", \"1997\", \"1998\", \"1999\", \"2000\", \"2001\", \"2002\", \"2003\", \"2004\", \"2005\", \"2006\", \"2007\", \"2008\", \"2009\", \"2010\", \"2011\", \"2012\", \"2013\", \"2014\", \"2015\", \"2016\", \"2017\"], \"y\": [3237.0, 3176.0, 3234.0, 3176.0, 3019.0, 3058.0, 3018.0, 3107.0, 3053.0, 3155.0, 3245.0, 3319.0, 3192.0, 2988.0, 2898.0, 2895.0, 2732.0, 2534.0, 2561.0, 2630.0, 2596.0, 2462.0, 2509.0, 2551.0, 2465.0, 2616.0], \"type\": \"scatter\", \"uid\": \"ac972d10-7cdd-4954-8666-d530238e2038\"}, {\"name\": \"VD\", \"x\": [\"1992\", \"1993\", \"1994\", \"1995\", \"1996\", \"1997\", \"1998\", \"1999\", \"2000\", \"2001\", \"2002\", \"2003\", \"2004\", \"2005\", \"2006\", \"2007\", \"2008\", \"2009\", \"2010\", \"2011\", \"2012\", \"2013\", \"2014\", \"2015\", \"2016\", \"2017\"], \"y\": [2725.0, 2620.0, 2670.0, 2602.0, 2349.0, 2319.0, 2422.0, 2573.0, 2717.0, 2538.0, 2531.0, 2421.0, 2353.0, 2111.0, 2124.0, 2294.0, 2043.0, 2032.0, 1981.0, 1802.0, 1758.0, 1782.0, 1609.0, 1400.0, 1692.0, 1646.0], \"type\": \"scatter\", \"uid\": \"396608f2-9976-4225-8c47-a1d36dae6c41\"}, {\"name\": \"AG\", \"x\": [\"1992\", \"1993\", \"1994\", \"1995\", \"1996\", \"1997\", \"1998\", \"1999\", \"2000\", \"2001\", \"2002\", \"2003\", \"2004\", \"2005\", \"2006\", \"2007\", \"2008\", \"2009\", \"2010\", \"2011\", \"2012\", \"2013\", \"2014\", \"2015\", \"2016\", \"2017\"], \"y\": [1547.0, 1531.0, 1691.0, 1576.0, 1544.0, 1484.0, 1431.0, 1722.0, 1686.0, 1708.0, 1709.0, 1569.0, 1504.0, 1542.0, 1491.0, 1499.0, 1408.0, 1464.0, 1345.0, 1358.0, 1250.0, 1191.0, 1215.0, 1213.0, 1079.0, 1155.0], \"type\": \"scatter\", \"uid\": \"01577fa8-6a13-4f15-bf32-4a9d71621386\"}, {\"name\": \"GE\", \"x\": [\"1992\", \"1993\", \"1994\", \"1995\", \"1996\", \"1997\", \"1998\", \"1999\", \"2000\", \"2001\", \"2002\", \"2003\", \"2004\", \"2005\", \"2006\", \"2007\", \"2008\", \"2009\", \"2010\", \"2011\", \"2012\", \"2013\", \"2014\", \"2015\", \"2016\", \"2017\"], \"y\": [1122.0, 1084.0, 1125.0, 1039.0, 1033.0, 1039.0, 1167.0, 1222.0, 1256.0, 1359.0, 1360.0, 1348.0, 1319.0, 1226.0, 1194.0, 1193.0, 1238.0, 1142.0, 1108.0, 918.0, 1023.0, 1181.0, 1300.0, 1264.0, 1170.0, 1127.0], \"type\": \"scatter\", \"uid\": \"70f93ecc-5f0a-4c7f-b804-51301e5f3a88\"}], {\"margin\": {\"b\": 50, \"l\": 50, \"pad\": 4, \"r\": 50, \"t\": 50}, \"title\": \"<b>The 5 cantons with the most accidents</b>\", \"titlefont\": {\"color\": \"#7f7f7f\", \"family\": \"Courier New, monospace\", \"size\": 18}, \"xaxis\": {\"title\": \"Year\", \"titlefont\": {\"color\": \"#7f7f7f\", \"family\": \"Courier New, monospace\", \"size\": 15}}, \"yaxis\": {\"title\": \"Number of accidents\", \"titlefont\": {\"color\": \"#7f7f7f\", \"family\": \"Courier New, monospace\", \"size\": 15}}}, {\"showLink\": true, \"linkText\": \"Export to plot.ly\", \"plotlyServerURL\": \"https://plot.ly\"})});</script><script type=\"text/javascript\">window.addEventListener(\"resize\", function(){window._Plotly.Plots.resize(document.getElementById(\"82456301-5e8a-4b99-80a3-a13e26e29f66\"));});</script>"
      ]
     },
     "metadata": {},
     "output_type": "display_data"
    }
   ],
   "source": [
    "# Delete the row that doesn't contain any information\n",
    "df_Accident_cantons = df_Accident_cantons.dropna()\n",
    "df_Accident_cantons = clean_cantons_names(df_Accident_cantons)\n",
    "# Compute the total accidents per canton, sort them and keep the wanted columns\n",
    "df_cantons = df_Accident_cantons.groupby(['canton']).sum().\\\n",
    "        sort_values(['2017'], ascending=False)\\\n",
    "        [[col for col in df_Accident_cantons.columns if IS_DATE.match(col)]]\n",
    "\n",
    "# As an example, plot the 5 cantons with the most accidents\n",
    "plot_dataframe(x=df_cantons.columns.values, y=df_cantons.head(5),\\\n",
    "               title=\"The 5 cantons with the most accidents\", xlabel='Year',\\\n",
    "               ylabel='Number of accidents', labels=df_cantons.head(5).index.values,\\\n",
    "               rotation=45, number_to_plot=None,name_save='accident_canton_top5')"
   ]
  },
  {
   "cell_type": "markdown",
   "metadata": {},
   "source": [
    "The results are hard to compare due to the different characteristics of the cantons. They are a lot of accidents in Zürich, but this should be dampened by the high population. They are also quite a lot of accident in Geneva and Vaud but both have a very different area. \n",
    "\n",
    "To get a more meaningful insight on the number of accidents in each canton, we identified and found data on 2 key features that we think should impact the number of accidents: the road length and the population in the cantons."
   ]
  },
  {
   "cell_type": "code",
   "execution_count": 35,
   "metadata": {},
   "outputs": [],
   "source": [
    "# See it on a map\n",
    "MAP = create_map(df_cantons.reset_index(),[d for d in df_cantons.columns if IS_DATE.match(d)],'Number of accidents')\n",
    "save_it(MAP,'accident_canton')"
   ]
  },
  {
   "cell_type": "markdown",
   "metadata": {},
   "source": [
    "#### <center>[CLICK HERE TO SEE THE MAPS](./docs/img/maps/accident_canton.html)</center>"
   ]
  },
  {
   "cell_type": "markdown",
   "metadata": {},
   "source": [
    "##### Normalization by road length"
   ]
  },
  {
   "cell_type": "markdown",
   "metadata": {},
   "source": [
    "For this, we use the `df_Longueur_routes` dataset, which records the kilometers of road in each canton and some regions for each year since 1992 and until 2016. Note that this implies the reference year becomes 2016. For visualization purposes, we record the number of accidents per 100 km."
   ]
  },
  {
   "cell_type": "code",
   "execution_count": 36,
   "metadata": {},
   "outputs": [
    {
     "data": {
      "application/vnd.plotly.v1+json": {
       "config": {
        "linkText": "Export to plot.ly",
        "plotlyServerURL": "https://plot.ly",
        "showLink": true
       },
       "data": [
        {
         "name": "BS",
         "type": "scatter",
         "uid": "443d96d4-5411-488e-8738-83a19bf3633b",
         "x": [
          "1992",
          "1993",
          "1994",
          "1995",
          "1996",
          "1997",
          "1998",
          "1999",
          "2000",
          "2001",
          "2002",
          "2003",
          "2004",
          "2005",
          "2006",
          "2007",
          "2008",
          "2009",
          "2010",
          "2011",
          "2012",
          "2013",
          "2014",
          "2015",
          "2016"
         ],
         "y": [
          195.35628502802243,
          209.86666666666667,
          230.4,
          228.9831865492394,
          209.50093408059783,
          218.66666666666666,
          193.33333333333334,
          196.26666666666668,
          175.20573400584018,
          160.339792938678,
          152.5514293347582,
          153.25365205843295,
          141.4033208355651,
          162.56025709694697,
          153.1869309051955,
          141.25500667556742,
          131.8242343541944,
          125.69906790945406,
          101.32978723404256,
          84.30851063829788,
          68.08510638297872,
          86.96808510638297,
          99.6005326231691,
          104.12782956058588,
          109.9866844207723
         ]
        },
        {
         "name": "GE",
         "type": "scatter",
         "uid": "ef83322c-d274-4fa9-b1a9-ff777e1a50e7",
         "x": [
          "1992",
          "1993",
          "1994",
          "1995",
          "1996",
          "1997",
          "1998",
          "1999",
          "2000",
          "2001",
          "2002",
          "2003",
          "2004",
          "2005",
          "2006",
          "2007",
          "2008",
          "2009",
          "2010",
          "2011",
          "2012",
          "2013",
          "2014",
          "2015",
          "2016"
         ],
         "y": [
          81.80227471566054,
          78.5564171316762,
          83.03195807808694,
          76.68462617167319,
          76.24178906192338,
          76.4983065822412,
          85.92254454424975,
          89.97202179355028,
          92.47533500220881,
          100.05890148726255,
          100.13252834634075,
          99.24900603740244,
          97.11382712413489,
          90.86866291135487,
          88.49688704417433,
          87.83684288028273,
          91.15005153880135,
          84.08187306729495,
          81.59057437407952,
          67.59941089837997,
          75.33136966126656,
          86.9661266568483,
          95.71491680164924,
          93.13292071912761,
          86.20689655172413
         ]
        },
        {
         "name": "ZG",
         "type": "scatter",
         "uid": "384194b7-5f7f-4bbe-946b-5b84e7b04dd6",
         "x": [
          "1992",
          "1993",
          "1994",
          "1995",
          "1996",
          "1997",
          "1998",
          "1999",
          "2000",
          "2001",
          "2002",
          "2003",
          "2004",
          "2005",
          "2006",
          "2007",
          "2008",
          "2009",
          "2010",
          "2011",
          "2012",
          "2013",
          "2014",
          "2015",
          "2016"
         ],
         "y": [
          53.888011233982795,
          54.40505440505441,
          44.40877474585339,
          57.96326021045122,
          50.83527932459134,
          54.78713849470091,
          57.48158792886653,
          54.96676845697862,
          55.86491826836716,
          57.48158792886653,
          56.20398635302568,
          53.95232120451694,
          62.195781503515406,
          56.787452677122765,
          60.93383811069046,
          60.57328285559762,
          61.2943933657833,
          62.55633675860825,
          60.18018018018018,
          56.57657657657658,
          50.270270270270274,
          45.765765765765764,
          49.66708655749505,
          48.04750764801151,
          48.40741407234119
         ]
        },
        {
         "name": "ZH",
         "type": "scatter",
         "uid": "9ed4cde5-763d-4b06-b13e-0a15316cd875",
         "x": [
          "1992",
          "1993",
          "1994",
          "1995",
          "1996",
          "1997",
          "1998",
          "1999",
          "2000",
          "2001",
          "2002",
          "2003",
          "2004",
          "2005",
          "2006",
          "2007",
          "2008",
          "2009",
          "2010",
          "2011",
          "2012",
          "2013",
          "2014",
          "2015",
          "2016"
         ],
         "y": [
          42.72844981955426,
          40.77134986225895,
          43.47042347264206,
          42.439185652497315,
          40.20031367801227,
          42.676719038054095,
          42.607930000275154,
          45.1668822056517,
          46.35442480312793,
          46.72511887419949,
          45.63944699447544,
          48.99896066954762,
          47.068640056903675,
          43.08836395450569,
          43.83181007123691,
          44.69858710581068,
          42.35962848634021,
          43.71577292197582,
          41.12782974108716,
          40.8130081300813,
          39.745842909287546,
          38.326348519670134,
          41.15181830471813,
          43.481803367734926,
          46.30635524171646
         ]
        },
        {
         "name": "NW",
         "type": "scatter",
         "uid": "48313883-b75d-4e11-a49e-c774574fcf3f",
         "x": [
          "1992",
          "1993",
          "1994",
          "1995",
          "1996",
          "1997",
          "1998",
          "1999",
          "2000",
          "2001",
          "2002",
          "2003",
          "2004",
          "2005",
          "2006",
          "2007",
          "2008",
          "2009",
          "2010",
          "2011",
          "2012",
          "2013",
          "2014",
          "2015",
          "2016"
         ],
         "y": [
          42.24774405250205,
          33.63412633305988,
          47.47899159663866,
          45.41631623212783,
          47.51892346509672,
          34.87394957983193,
          40.7563025210084,
          53.36134453781513,
          43.313708999158955,
          37.426408746846086,
          43.73423044575273,
          47.539616346955796,
          47.09840201850294,
          35.74432296047098,
          39.52901597981497,
          36.58536585365854,
          38.78231859883236,
          36.69724770642202,
          32.916666666666664,
          34.166666666666664,
          32.916666666666664,
          34.166666666666664,
          33.36113427856547,
          42.95246038365304,
          37.94829024186822
         ]
        }
       ],
       "layout": {
        "margin": {
         "b": 50,
         "l": 50,
         "pad": 4,
         "r": 50,
         "t": 50
        },
        "title": "<b>The 5 cantons with the most accidents per 100 km</b>",
        "titlefont": {
         "color": "#7f7f7f",
         "family": "Courier New, monospace",
         "size": 18
        },
        "xaxis": {
         "title": "Year",
         "titlefont": {
          "color": "#7f7f7f",
          "family": "Courier New, monospace",
          "size": 15
         }
        },
        "yaxis": {
         "title": "Number of accidents per 100 km",
         "titlefont": {
          "color": "#7f7f7f",
          "family": "Courier New, monospace",
          "size": 15
         }
        }
       }
      },
      "text/html": [
       "<div id=\"4d158000-a2d0-4afd-8638-7276dc9338ce\" style=\"height: 525px; width: 100%;\" class=\"plotly-graph-div\"></div><script type=\"text/javascript\">require([\"plotly\"], function(Plotly) { window.PLOTLYENV=window.PLOTLYENV || {};window.PLOTLYENV.BASE_URL=\"https://plot.ly\";Plotly.newPlot(\"4d158000-a2d0-4afd-8638-7276dc9338ce\", [{\"name\": \"BS\", \"x\": [\"1992\", \"1993\", \"1994\", \"1995\", \"1996\", \"1997\", \"1998\", \"1999\", \"2000\", \"2001\", \"2002\", \"2003\", \"2004\", \"2005\", \"2006\", \"2007\", \"2008\", \"2009\", \"2010\", \"2011\", \"2012\", \"2013\", \"2014\", \"2015\", \"2016\"], \"y\": [195.35628502802243, 209.86666666666667, 230.4, 228.9831865492394, 209.50093408059783, 218.66666666666666, 193.33333333333334, 196.26666666666668, 175.20573400584018, 160.339792938678, 152.5514293347582, 153.25365205843295, 141.4033208355651, 162.56025709694697, 153.1869309051955, 141.25500667556742, 131.8242343541944, 125.69906790945406, 101.32978723404256, 84.30851063829788, 68.08510638297872, 86.96808510638297, 99.6005326231691, 104.12782956058588, 109.9866844207723], \"type\": \"scatter\", \"uid\": \"443d96d4-5411-488e-8738-83a19bf3633b\"}, {\"name\": \"GE\", \"x\": [\"1992\", \"1993\", \"1994\", \"1995\", \"1996\", \"1997\", \"1998\", \"1999\", \"2000\", \"2001\", \"2002\", \"2003\", \"2004\", \"2005\", \"2006\", \"2007\", \"2008\", \"2009\", \"2010\", \"2011\", \"2012\", \"2013\", \"2014\", \"2015\", \"2016\"], \"y\": [81.80227471566054, 78.5564171316762, 83.03195807808694, 76.68462617167319, 76.24178906192338, 76.4983065822412, 85.92254454424975, 89.97202179355028, 92.47533500220881, 100.05890148726255, 100.13252834634075, 99.24900603740244, 97.11382712413489, 90.86866291135487, 88.49688704417433, 87.83684288028273, 91.15005153880135, 84.08187306729495, 81.59057437407952, 67.59941089837997, 75.33136966126656, 86.9661266568483, 95.71491680164924, 93.13292071912761, 86.20689655172413], \"type\": \"scatter\", \"uid\": \"ef83322c-d274-4fa9-b1a9-ff777e1a50e7\"}, {\"name\": \"ZG\", \"x\": [\"1992\", \"1993\", \"1994\", \"1995\", \"1996\", \"1997\", \"1998\", \"1999\", \"2000\", \"2001\", \"2002\", \"2003\", \"2004\", \"2005\", \"2006\", \"2007\", \"2008\", \"2009\", \"2010\", \"2011\", \"2012\", \"2013\", \"2014\", \"2015\", \"2016\"], \"y\": [53.888011233982795, 54.40505440505441, 44.40877474585339, 57.96326021045122, 50.83527932459134, 54.78713849470091, 57.48158792886653, 54.96676845697862, 55.86491826836716, 57.48158792886653, 56.20398635302568, 53.95232120451694, 62.195781503515406, 56.787452677122765, 60.93383811069046, 60.57328285559762, 61.2943933657833, 62.55633675860825, 60.18018018018018, 56.57657657657658, 50.270270270270274, 45.765765765765764, 49.66708655749505, 48.04750764801151, 48.40741407234119], \"type\": \"scatter\", \"uid\": \"384194b7-5f7f-4bbe-946b-5b84e7b04dd6\"}, {\"name\": \"ZH\", \"x\": [\"1992\", \"1993\", \"1994\", \"1995\", \"1996\", \"1997\", \"1998\", \"1999\", \"2000\", \"2001\", \"2002\", \"2003\", \"2004\", \"2005\", \"2006\", \"2007\", \"2008\", \"2009\", \"2010\", \"2011\", \"2012\", \"2013\", \"2014\", \"2015\", \"2016\"], \"y\": [42.72844981955426, 40.77134986225895, 43.47042347264206, 42.439185652497315, 40.20031367801227, 42.676719038054095, 42.607930000275154, 45.1668822056517, 46.35442480312793, 46.72511887419949, 45.63944699447544, 48.99896066954762, 47.068640056903675, 43.08836395450569, 43.83181007123691, 44.69858710581068, 42.35962848634021, 43.71577292197582, 41.12782974108716, 40.8130081300813, 39.745842909287546, 38.326348519670134, 41.15181830471813, 43.481803367734926, 46.30635524171646], \"type\": \"scatter\", \"uid\": \"9ed4cde5-763d-4b06-b13e-0a15316cd875\"}, {\"name\": \"NW\", \"x\": [\"1992\", \"1993\", \"1994\", \"1995\", \"1996\", \"1997\", \"1998\", \"1999\", \"2000\", \"2001\", \"2002\", \"2003\", \"2004\", \"2005\", \"2006\", \"2007\", \"2008\", \"2009\", \"2010\", \"2011\", \"2012\", \"2013\", \"2014\", \"2015\", \"2016\"], \"y\": [42.24774405250205, 33.63412633305988, 47.47899159663866, 45.41631623212783, 47.51892346509672, 34.87394957983193, 40.7563025210084, 53.36134453781513, 43.313708999158955, 37.426408746846086, 43.73423044575273, 47.539616346955796, 47.09840201850294, 35.74432296047098, 39.52901597981497, 36.58536585365854, 38.78231859883236, 36.69724770642202, 32.916666666666664, 34.166666666666664, 32.916666666666664, 34.166666666666664, 33.36113427856547, 42.95246038365304, 37.94829024186822], \"type\": \"scatter\", \"uid\": \"48313883-b75d-4e11-a49e-c774574fcf3f\"}], {\"margin\": {\"b\": 50, \"l\": 50, \"pad\": 4, \"r\": 50, \"t\": 50}, \"title\": \"<b>The 5 cantons with the most accidents per 100 km</b>\", \"titlefont\": {\"color\": \"#7f7f7f\", \"family\": \"Courier New, monospace\", \"size\": 18}, \"xaxis\": {\"title\": \"Year\", \"titlefont\": {\"color\": \"#7f7f7f\", \"family\": \"Courier New, monospace\", \"size\": 15}}, \"yaxis\": {\"title\": \"Number of accidents per 100 km\", \"titlefont\": {\"color\": \"#7f7f7f\", \"family\": \"Courier New, monospace\", \"size\": 15}}}, {\"showLink\": true, \"linkText\": \"Export to plot.ly\", \"plotlyServerURL\": \"https://plot.ly\"})});</script><script type=\"text/javascript\">window.addEventListener(\"resize\", function(){window._Plotly.Plots.resize(document.getElementById(\"4d158000-a2d0-4afd-8638-7276dc9338ce\"));});</script>"
      ],
      "text/vnd.plotly.v1+html": [
       "<div id=\"4d158000-a2d0-4afd-8638-7276dc9338ce\" style=\"height: 525px; width: 100%;\" class=\"plotly-graph-div\"></div><script type=\"text/javascript\">require([\"plotly\"], function(Plotly) { window.PLOTLYENV=window.PLOTLYENV || {};window.PLOTLYENV.BASE_URL=\"https://plot.ly\";Plotly.newPlot(\"4d158000-a2d0-4afd-8638-7276dc9338ce\", [{\"name\": \"BS\", \"x\": [\"1992\", \"1993\", \"1994\", \"1995\", \"1996\", \"1997\", \"1998\", \"1999\", \"2000\", \"2001\", \"2002\", \"2003\", \"2004\", \"2005\", \"2006\", \"2007\", \"2008\", \"2009\", \"2010\", \"2011\", \"2012\", \"2013\", \"2014\", \"2015\", \"2016\"], \"y\": [195.35628502802243, 209.86666666666667, 230.4, 228.9831865492394, 209.50093408059783, 218.66666666666666, 193.33333333333334, 196.26666666666668, 175.20573400584018, 160.339792938678, 152.5514293347582, 153.25365205843295, 141.4033208355651, 162.56025709694697, 153.1869309051955, 141.25500667556742, 131.8242343541944, 125.69906790945406, 101.32978723404256, 84.30851063829788, 68.08510638297872, 86.96808510638297, 99.6005326231691, 104.12782956058588, 109.9866844207723], \"type\": \"scatter\", \"uid\": \"443d96d4-5411-488e-8738-83a19bf3633b\"}, {\"name\": \"GE\", \"x\": [\"1992\", \"1993\", \"1994\", \"1995\", \"1996\", \"1997\", \"1998\", \"1999\", \"2000\", \"2001\", \"2002\", \"2003\", \"2004\", \"2005\", \"2006\", \"2007\", \"2008\", \"2009\", \"2010\", \"2011\", \"2012\", \"2013\", \"2014\", \"2015\", \"2016\"], \"y\": [81.80227471566054, 78.5564171316762, 83.03195807808694, 76.68462617167319, 76.24178906192338, 76.4983065822412, 85.92254454424975, 89.97202179355028, 92.47533500220881, 100.05890148726255, 100.13252834634075, 99.24900603740244, 97.11382712413489, 90.86866291135487, 88.49688704417433, 87.83684288028273, 91.15005153880135, 84.08187306729495, 81.59057437407952, 67.59941089837997, 75.33136966126656, 86.9661266568483, 95.71491680164924, 93.13292071912761, 86.20689655172413], \"type\": \"scatter\", \"uid\": \"ef83322c-d274-4fa9-b1a9-ff777e1a50e7\"}, {\"name\": \"ZG\", \"x\": [\"1992\", \"1993\", \"1994\", \"1995\", \"1996\", \"1997\", \"1998\", \"1999\", \"2000\", \"2001\", \"2002\", \"2003\", \"2004\", \"2005\", \"2006\", \"2007\", \"2008\", \"2009\", \"2010\", \"2011\", \"2012\", \"2013\", \"2014\", \"2015\", \"2016\"], \"y\": [53.888011233982795, 54.40505440505441, 44.40877474585339, 57.96326021045122, 50.83527932459134, 54.78713849470091, 57.48158792886653, 54.96676845697862, 55.86491826836716, 57.48158792886653, 56.20398635302568, 53.95232120451694, 62.195781503515406, 56.787452677122765, 60.93383811069046, 60.57328285559762, 61.2943933657833, 62.55633675860825, 60.18018018018018, 56.57657657657658, 50.270270270270274, 45.765765765765764, 49.66708655749505, 48.04750764801151, 48.40741407234119], \"type\": \"scatter\", \"uid\": \"384194b7-5f7f-4bbe-946b-5b84e7b04dd6\"}, {\"name\": \"ZH\", \"x\": [\"1992\", \"1993\", \"1994\", \"1995\", \"1996\", \"1997\", \"1998\", \"1999\", \"2000\", \"2001\", \"2002\", \"2003\", \"2004\", \"2005\", \"2006\", \"2007\", \"2008\", \"2009\", \"2010\", \"2011\", \"2012\", \"2013\", \"2014\", \"2015\", \"2016\"], \"y\": [42.72844981955426, 40.77134986225895, 43.47042347264206, 42.439185652497315, 40.20031367801227, 42.676719038054095, 42.607930000275154, 45.1668822056517, 46.35442480312793, 46.72511887419949, 45.63944699447544, 48.99896066954762, 47.068640056903675, 43.08836395450569, 43.83181007123691, 44.69858710581068, 42.35962848634021, 43.71577292197582, 41.12782974108716, 40.8130081300813, 39.745842909287546, 38.326348519670134, 41.15181830471813, 43.481803367734926, 46.30635524171646], \"type\": \"scatter\", \"uid\": \"9ed4cde5-763d-4b06-b13e-0a15316cd875\"}, {\"name\": \"NW\", \"x\": [\"1992\", \"1993\", \"1994\", \"1995\", \"1996\", \"1997\", \"1998\", \"1999\", \"2000\", \"2001\", \"2002\", \"2003\", \"2004\", \"2005\", \"2006\", \"2007\", \"2008\", \"2009\", \"2010\", \"2011\", \"2012\", \"2013\", \"2014\", \"2015\", \"2016\"], \"y\": [42.24774405250205, 33.63412633305988, 47.47899159663866, 45.41631623212783, 47.51892346509672, 34.87394957983193, 40.7563025210084, 53.36134453781513, 43.313708999158955, 37.426408746846086, 43.73423044575273, 47.539616346955796, 47.09840201850294, 35.74432296047098, 39.52901597981497, 36.58536585365854, 38.78231859883236, 36.69724770642202, 32.916666666666664, 34.166666666666664, 32.916666666666664, 34.166666666666664, 33.36113427856547, 42.95246038365304, 37.94829024186822], \"type\": \"scatter\", \"uid\": \"48313883-b75d-4e11-a49e-c774574fcf3f\"}], {\"margin\": {\"b\": 50, \"l\": 50, \"pad\": 4, \"r\": 50, \"t\": 50}, \"title\": \"<b>The 5 cantons with the most accidents per 100 km</b>\", \"titlefont\": {\"color\": \"#7f7f7f\", \"family\": \"Courier New, monospace\", \"size\": 18}, \"xaxis\": {\"title\": \"Year\", \"titlefont\": {\"color\": \"#7f7f7f\", \"family\": \"Courier New, monospace\", \"size\": 15}}, \"yaxis\": {\"title\": \"Number of accidents per 100 km\", \"titlefont\": {\"color\": \"#7f7f7f\", \"family\": \"Courier New, monospace\", \"size\": 15}}}, {\"showLink\": true, \"linkText\": \"Export to plot.ly\", \"plotlyServerURL\": \"https://plot.ly\"})});</script><script type=\"text/javascript\">window.addEventListener(\"resize\", function(){window._Plotly.Plots.resize(document.getElementById(\"4d158000-a2d0-4afd-8638-7276dc9338ce\"));});</script>"
      ]
     },
     "metadata": {},
     "output_type": "display_data"
    },
    {
     "data": {
      "application/vnd.plotly.v1+json": {
       "config": {
        "linkText": "Export to plot.ly",
        "plotlyServerURL": "https://plot.ly",
        "showLink": true
       },
       "data": [
        {
         "name": "ZG",
         "type": "scatter",
         "uid": "bf4310cd-0e0b-4518-9db2-e71870bcdaef",
         "x": [
          "1992",
          "1993",
          "1994",
          "1995",
          "1996",
          "1997",
          "1998",
          "1999",
          "2000",
          "2001",
          "2002",
          "2003",
          "2004",
          "2005",
          "2006",
          "2007",
          "2008",
          "2009",
          "2010",
          "2011",
          "2012",
          "2013",
          "2014",
          "2015",
          "2016"
         ],
         "y": [
          53.888011233982795,
          54.40505440505441,
          44.40877474585339,
          57.96326021045122,
          50.83527932459134,
          54.78713849470091,
          57.48158792886653,
          54.96676845697862,
          55.86491826836716,
          57.48158792886653,
          56.20398635302568,
          53.95232120451694,
          62.195781503515406,
          56.787452677122765,
          60.93383811069046,
          60.57328285559762,
          61.2943933657833,
          62.55633675860825,
          60.18018018018018,
          56.57657657657658,
          50.270270270270274,
          45.765765765765764,
          49.66708655749505,
          48.04750764801151,
          48.40741407234119
         ]
        },
        {
         "name": "ZH",
         "type": "scatter",
         "uid": "75c96901-20a3-4d19-9605-6961268709cd",
         "x": [
          "1992",
          "1993",
          "1994",
          "1995",
          "1996",
          "1997",
          "1998",
          "1999",
          "2000",
          "2001",
          "2002",
          "2003",
          "2004",
          "2005",
          "2006",
          "2007",
          "2008",
          "2009",
          "2010",
          "2011",
          "2012",
          "2013",
          "2014",
          "2015",
          "2016"
         ],
         "y": [
          42.72844981955426,
          40.77134986225895,
          43.47042347264206,
          42.439185652497315,
          40.20031367801227,
          42.676719038054095,
          42.607930000275154,
          45.1668822056517,
          46.35442480312793,
          46.72511887419949,
          45.63944699447544,
          48.99896066954762,
          47.068640056903675,
          43.08836395450569,
          43.83181007123691,
          44.69858710581068,
          42.35962848634021,
          43.71577292197582,
          41.12782974108716,
          40.8130081300813,
          39.745842909287546,
          38.326348519670134,
          41.15181830471813,
          43.481803367734926,
          46.30635524171646
         ]
        },
        {
         "name": "NW",
         "type": "scatter",
         "uid": "38068387-ab3a-4153-918e-29ca6ab43397",
         "x": [
          "1992",
          "1993",
          "1994",
          "1995",
          "1996",
          "1997",
          "1998",
          "1999",
          "2000",
          "2001",
          "2002",
          "2003",
          "2004",
          "2005",
          "2006",
          "2007",
          "2008",
          "2009",
          "2010",
          "2011",
          "2012",
          "2013",
          "2014",
          "2015",
          "2016"
         ],
         "y": [
          42.24774405250205,
          33.63412633305988,
          47.47899159663866,
          45.41631623212783,
          47.51892346509672,
          34.87394957983193,
          40.7563025210084,
          53.36134453781513,
          43.313708999158955,
          37.426408746846086,
          43.73423044575273,
          47.539616346955796,
          47.09840201850294,
          35.74432296047098,
          39.52901597981497,
          36.58536585365854,
          38.78231859883236,
          36.69724770642202,
          32.916666666666664,
          34.166666666666664,
          32.916666666666664,
          34.166666666666664,
          33.36113427856547,
          42.95246038365304,
          37.94829024186822
         ]
        },
        {
         "name": "SZ",
         "type": "scatter",
         "uid": "feee55fb-749b-45e4-b0be-a2b99a99d7a7",
         "x": [
          "1992",
          "1993",
          "1994",
          "1995",
          "1996",
          "1997",
          "1998",
          "1999",
          "2000",
          "2001",
          "2002",
          "2003",
          "2004",
          "2005",
          "2006",
          "2007",
          "2008",
          "2009",
          "2010",
          "2011",
          "2012",
          "2013",
          "2014",
          "2015",
          "2016"
         ],
         "y": [
          46.80994711376167,
          42.069741282339706,
          46.681664791901014,
          52.54866659165072,
          44.671992798469674,
          45.78177727784027,
          45.78177727784027,
          47.46906636670416,
          43.771801507820406,
          44.671992798469674,
          46.697423202430514,
          51.5359513896703,
          45.459660177787775,
          41.296275458534936,
          37.1328907392821,
          40.283560256554516,
          41.18375154720378,
          39.15832114324294,
          40.269966254218225,
          36.89538807649044,
          35.19553072625698,
          32.625698324022345,
          30.18825888381419,
          33.19594519327169,
          33.08454940403253
         ]
        },
        {
         "name": "SG",
         "type": "scatter",
         "uid": "869df305-e6a6-42de-85d0-7bb426442a68",
         "x": [
          "1992",
          "1993",
          "1994",
          "1995",
          "1996",
          "1997",
          "1998",
          "1999",
          "2000",
          "2001",
          "2002",
          "2003",
          "2004",
          "2005",
          "2006",
          "2007",
          "2008",
          "2009",
          "2010",
          "2011",
          "2012",
          "2013",
          "2014",
          "2015",
          "2016"
         ],
         "y": [
          45.04504504504505,
          45.3796512426198,
          46.30646711519978,
          43.35438692846355,
          40.47095976932583,
          41.63806123850062,
          43.615200273878806,
          48.95583704210887,
          47.99397507873477,
          49.22687465790914,
          44.16392993979201,
          45.898504200532756,
          43.88960994603456,
          42.32370810294218,
          40.856031128404666,
          47.85309577445559,
          43.65485698682504,
          44.84501347708895,
          40.801886792452834,
          42.1832884097035,
          40.76819407008086,
          33.0188679245283,
          32.74050121261116,
          30.685798976017246,
          29.50687146321746
         ]
        }
       ],
       "layout": {
        "margin": {
         "b": 50,
         "l": 50,
         "pad": 4,
         "r": 50,
         "t": 50
        },
        "title": "<b>Without BS and GE, two outliers</b>",
        "titlefont": {
         "color": "#7f7f7f",
         "family": "Courier New, monospace",
         "size": 18
        },
        "xaxis": {
         "title": "Year",
         "titlefont": {
          "color": "#7f7f7f",
          "family": "Courier New, monospace",
          "size": 15
         }
        },
        "yaxis": {
         "title": "Number of accidents per 100 km",
         "titlefont": {
          "color": "#7f7f7f",
          "family": "Courier New, monospace",
          "size": 15
         }
        }
       }
      },
      "text/html": [
       "<div id=\"8404e760-bd12-4cf8-b8a0-100ed5705c96\" style=\"height: 525px; width: 100%;\" class=\"plotly-graph-div\"></div><script type=\"text/javascript\">require([\"plotly\"], function(Plotly) { window.PLOTLYENV=window.PLOTLYENV || {};window.PLOTLYENV.BASE_URL=\"https://plot.ly\";Plotly.newPlot(\"8404e760-bd12-4cf8-b8a0-100ed5705c96\", [{\"name\": \"ZG\", \"x\": [\"1992\", \"1993\", \"1994\", \"1995\", \"1996\", \"1997\", \"1998\", \"1999\", \"2000\", \"2001\", \"2002\", \"2003\", \"2004\", \"2005\", \"2006\", \"2007\", \"2008\", \"2009\", \"2010\", \"2011\", \"2012\", \"2013\", \"2014\", \"2015\", \"2016\"], \"y\": [53.888011233982795, 54.40505440505441, 44.40877474585339, 57.96326021045122, 50.83527932459134, 54.78713849470091, 57.48158792886653, 54.96676845697862, 55.86491826836716, 57.48158792886653, 56.20398635302568, 53.95232120451694, 62.195781503515406, 56.787452677122765, 60.93383811069046, 60.57328285559762, 61.2943933657833, 62.55633675860825, 60.18018018018018, 56.57657657657658, 50.270270270270274, 45.765765765765764, 49.66708655749505, 48.04750764801151, 48.40741407234119], \"type\": \"scatter\", \"uid\": \"bf4310cd-0e0b-4518-9db2-e71870bcdaef\"}, {\"name\": \"ZH\", \"x\": [\"1992\", \"1993\", \"1994\", \"1995\", \"1996\", \"1997\", \"1998\", \"1999\", \"2000\", \"2001\", \"2002\", \"2003\", \"2004\", \"2005\", \"2006\", \"2007\", \"2008\", \"2009\", \"2010\", \"2011\", \"2012\", \"2013\", \"2014\", \"2015\", \"2016\"], \"y\": [42.72844981955426, 40.77134986225895, 43.47042347264206, 42.439185652497315, 40.20031367801227, 42.676719038054095, 42.607930000275154, 45.1668822056517, 46.35442480312793, 46.72511887419949, 45.63944699447544, 48.99896066954762, 47.068640056903675, 43.08836395450569, 43.83181007123691, 44.69858710581068, 42.35962848634021, 43.71577292197582, 41.12782974108716, 40.8130081300813, 39.745842909287546, 38.326348519670134, 41.15181830471813, 43.481803367734926, 46.30635524171646], \"type\": \"scatter\", \"uid\": \"75c96901-20a3-4d19-9605-6961268709cd\"}, {\"name\": \"NW\", \"x\": [\"1992\", \"1993\", \"1994\", \"1995\", \"1996\", \"1997\", \"1998\", \"1999\", \"2000\", \"2001\", \"2002\", \"2003\", \"2004\", \"2005\", \"2006\", \"2007\", \"2008\", \"2009\", \"2010\", \"2011\", \"2012\", \"2013\", \"2014\", \"2015\", \"2016\"], \"y\": [42.24774405250205, 33.63412633305988, 47.47899159663866, 45.41631623212783, 47.51892346509672, 34.87394957983193, 40.7563025210084, 53.36134453781513, 43.313708999158955, 37.426408746846086, 43.73423044575273, 47.539616346955796, 47.09840201850294, 35.74432296047098, 39.52901597981497, 36.58536585365854, 38.78231859883236, 36.69724770642202, 32.916666666666664, 34.166666666666664, 32.916666666666664, 34.166666666666664, 33.36113427856547, 42.95246038365304, 37.94829024186822], \"type\": \"scatter\", \"uid\": \"38068387-ab3a-4153-918e-29ca6ab43397\"}, {\"name\": \"SZ\", \"x\": [\"1992\", \"1993\", \"1994\", \"1995\", \"1996\", \"1997\", \"1998\", \"1999\", \"2000\", \"2001\", \"2002\", \"2003\", \"2004\", \"2005\", \"2006\", \"2007\", \"2008\", \"2009\", \"2010\", \"2011\", \"2012\", \"2013\", \"2014\", \"2015\", \"2016\"], \"y\": [46.80994711376167, 42.069741282339706, 46.681664791901014, 52.54866659165072, 44.671992798469674, 45.78177727784027, 45.78177727784027, 47.46906636670416, 43.771801507820406, 44.671992798469674, 46.697423202430514, 51.5359513896703, 45.459660177787775, 41.296275458534936, 37.1328907392821, 40.283560256554516, 41.18375154720378, 39.15832114324294, 40.269966254218225, 36.89538807649044, 35.19553072625698, 32.625698324022345, 30.18825888381419, 33.19594519327169, 33.08454940403253], \"type\": \"scatter\", \"uid\": \"feee55fb-749b-45e4-b0be-a2b99a99d7a7\"}, {\"name\": \"SG\", \"x\": [\"1992\", \"1993\", \"1994\", \"1995\", \"1996\", \"1997\", \"1998\", \"1999\", \"2000\", \"2001\", \"2002\", \"2003\", \"2004\", \"2005\", \"2006\", \"2007\", \"2008\", \"2009\", \"2010\", \"2011\", \"2012\", \"2013\", \"2014\", \"2015\", \"2016\"], \"y\": [45.04504504504505, 45.3796512426198, 46.30646711519978, 43.35438692846355, 40.47095976932583, 41.63806123850062, 43.615200273878806, 48.95583704210887, 47.99397507873477, 49.22687465790914, 44.16392993979201, 45.898504200532756, 43.88960994603456, 42.32370810294218, 40.856031128404666, 47.85309577445559, 43.65485698682504, 44.84501347708895, 40.801886792452834, 42.1832884097035, 40.76819407008086, 33.0188679245283, 32.74050121261116, 30.685798976017246, 29.50687146321746], \"type\": \"scatter\", \"uid\": \"869df305-e6a6-42de-85d0-7bb426442a68\"}], {\"margin\": {\"b\": 50, \"l\": 50, \"pad\": 4, \"r\": 50, \"t\": 50}, \"title\": \"<b>Without BS and GE, two outliers</b>\", \"titlefont\": {\"color\": \"#7f7f7f\", \"family\": \"Courier New, monospace\", \"size\": 18}, \"xaxis\": {\"title\": \"Year\", \"titlefont\": {\"color\": \"#7f7f7f\", \"family\": \"Courier New, monospace\", \"size\": 15}}, \"yaxis\": {\"title\": \"Number of accidents per 100 km\", \"titlefont\": {\"color\": \"#7f7f7f\", \"family\": \"Courier New, monospace\", \"size\": 15}}}, {\"showLink\": true, \"linkText\": \"Export to plot.ly\", \"plotlyServerURL\": \"https://plot.ly\"})});</script><script type=\"text/javascript\">window.addEventListener(\"resize\", function(){window._Plotly.Plots.resize(document.getElementById(\"8404e760-bd12-4cf8-b8a0-100ed5705c96\"));});</script>"
      ],
      "text/vnd.plotly.v1+html": [
       "<div id=\"8404e760-bd12-4cf8-b8a0-100ed5705c96\" style=\"height: 525px; width: 100%;\" class=\"plotly-graph-div\"></div><script type=\"text/javascript\">require([\"plotly\"], function(Plotly) { window.PLOTLYENV=window.PLOTLYENV || {};window.PLOTLYENV.BASE_URL=\"https://plot.ly\";Plotly.newPlot(\"8404e760-bd12-4cf8-b8a0-100ed5705c96\", [{\"name\": \"ZG\", \"x\": [\"1992\", \"1993\", \"1994\", \"1995\", \"1996\", \"1997\", \"1998\", \"1999\", \"2000\", \"2001\", \"2002\", \"2003\", \"2004\", \"2005\", \"2006\", \"2007\", \"2008\", \"2009\", \"2010\", \"2011\", \"2012\", \"2013\", \"2014\", \"2015\", \"2016\"], \"y\": [53.888011233982795, 54.40505440505441, 44.40877474585339, 57.96326021045122, 50.83527932459134, 54.78713849470091, 57.48158792886653, 54.96676845697862, 55.86491826836716, 57.48158792886653, 56.20398635302568, 53.95232120451694, 62.195781503515406, 56.787452677122765, 60.93383811069046, 60.57328285559762, 61.2943933657833, 62.55633675860825, 60.18018018018018, 56.57657657657658, 50.270270270270274, 45.765765765765764, 49.66708655749505, 48.04750764801151, 48.40741407234119], \"type\": \"scatter\", \"uid\": \"bf4310cd-0e0b-4518-9db2-e71870bcdaef\"}, {\"name\": \"ZH\", \"x\": [\"1992\", \"1993\", \"1994\", \"1995\", \"1996\", \"1997\", \"1998\", \"1999\", \"2000\", \"2001\", \"2002\", \"2003\", \"2004\", \"2005\", \"2006\", \"2007\", \"2008\", \"2009\", \"2010\", \"2011\", \"2012\", \"2013\", \"2014\", \"2015\", \"2016\"], \"y\": [42.72844981955426, 40.77134986225895, 43.47042347264206, 42.439185652497315, 40.20031367801227, 42.676719038054095, 42.607930000275154, 45.1668822056517, 46.35442480312793, 46.72511887419949, 45.63944699447544, 48.99896066954762, 47.068640056903675, 43.08836395450569, 43.83181007123691, 44.69858710581068, 42.35962848634021, 43.71577292197582, 41.12782974108716, 40.8130081300813, 39.745842909287546, 38.326348519670134, 41.15181830471813, 43.481803367734926, 46.30635524171646], \"type\": \"scatter\", \"uid\": \"75c96901-20a3-4d19-9605-6961268709cd\"}, {\"name\": \"NW\", \"x\": [\"1992\", \"1993\", \"1994\", \"1995\", \"1996\", \"1997\", \"1998\", \"1999\", \"2000\", \"2001\", \"2002\", \"2003\", \"2004\", \"2005\", \"2006\", \"2007\", \"2008\", \"2009\", \"2010\", \"2011\", \"2012\", \"2013\", \"2014\", \"2015\", \"2016\"], \"y\": [42.24774405250205, 33.63412633305988, 47.47899159663866, 45.41631623212783, 47.51892346509672, 34.87394957983193, 40.7563025210084, 53.36134453781513, 43.313708999158955, 37.426408746846086, 43.73423044575273, 47.539616346955796, 47.09840201850294, 35.74432296047098, 39.52901597981497, 36.58536585365854, 38.78231859883236, 36.69724770642202, 32.916666666666664, 34.166666666666664, 32.916666666666664, 34.166666666666664, 33.36113427856547, 42.95246038365304, 37.94829024186822], \"type\": \"scatter\", \"uid\": \"38068387-ab3a-4153-918e-29ca6ab43397\"}, {\"name\": \"SZ\", \"x\": [\"1992\", \"1993\", \"1994\", \"1995\", \"1996\", \"1997\", \"1998\", \"1999\", \"2000\", \"2001\", \"2002\", \"2003\", \"2004\", \"2005\", \"2006\", \"2007\", \"2008\", \"2009\", \"2010\", \"2011\", \"2012\", \"2013\", \"2014\", \"2015\", \"2016\"], \"y\": [46.80994711376167, 42.069741282339706, 46.681664791901014, 52.54866659165072, 44.671992798469674, 45.78177727784027, 45.78177727784027, 47.46906636670416, 43.771801507820406, 44.671992798469674, 46.697423202430514, 51.5359513896703, 45.459660177787775, 41.296275458534936, 37.1328907392821, 40.283560256554516, 41.18375154720378, 39.15832114324294, 40.269966254218225, 36.89538807649044, 35.19553072625698, 32.625698324022345, 30.18825888381419, 33.19594519327169, 33.08454940403253], \"type\": \"scatter\", \"uid\": \"feee55fb-749b-45e4-b0be-a2b99a99d7a7\"}, {\"name\": \"SG\", \"x\": [\"1992\", \"1993\", \"1994\", \"1995\", \"1996\", \"1997\", \"1998\", \"1999\", \"2000\", \"2001\", \"2002\", \"2003\", \"2004\", \"2005\", \"2006\", \"2007\", \"2008\", \"2009\", \"2010\", \"2011\", \"2012\", \"2013\", \"2014\", \"2015\", \"2016\"], \"y\": [45.04504504504505, 45.3796512426198, 46.30646711519978, 43.35438692846355, 40.47095976932583, 41.63806123850062, 43.615200273878806, 48.95583704210887, 47.99397507873477, 49.22687465790914, 44.16392993979201, 45.898504200532756, 43.88960994603456, 42.32370810294218, 40.856031128404666, 47.85309577445559, 43.65485698682504, 44.84501347708895, 40.801886792452834, 42.1832884097035, 40.76819407008086, 33.0188679245283, 32.74050121261116, 30.685798976017246, 29.50687146321746], \"type\": \"scatter\", \"uid\": \"869df305-e6a6-42de-85d0-7bb426442a68\"}], {\"margin\": {\"b\": 50, \"l\": 50, \"pad\": 4, \"r\": 50, \"t\": 50}, \"title\": \"<b>Without BS and GE, two outliers</b>\", \"titlefont\": {\"color\": \"#7f7f7f\", \"family\": \"Courier New, monospace\", \"size\": 18}, \"xaxis\": {\"title\": \"Year\", \"titlefont\": {\"color\": \"#7f7f7f\", \"family\": \"Courier New, monospace\", \"size\": 15}}, \"yaxis\": {\"title\": \"Number of accidents per 100 km\", \"titlefont\": {\"color\": \"#7f7f7f\", \"family\": \"Courier New, monospace\", \"size\": 15}}}, {\"showLink\": true, \"linkText\": \"Export to plot.ly\", \"plotlyServerURL\": \"https://plot.ly\"})});</script><script type=\"text/javascript\">window.addEventListener(\"resize\", function(){window._Plotly.Plots.resize(document.getElementById(\"8404e760-bd12-4cf8-b8a0-100ed5705c96\"));});</script>"
      ]
     },
     "metadata": {},
     "output_type": "display_data"
    }
   ],
   "source": [
    "df_cantons_routes = df_Longueur_routes.copy()\n",
    "\n",
    "# Since we are only interested in the cantonal values, we can delete the row with\n",
    "# information on the regions\n",
    "for elem in df_cantons_routes['canton'].unique():\n",
    "    # Check if what is recorded as a 'canton' really is a canton, i.e. is in our\n",
    "    # dictionary\n",
    "    try:\n",
    "        getKeysByValue(dict_cantons, elem)\n",
    "    # If not, we don't keep the rows with those 'cantons'\n",
    "    except:\n",
    "        df_cantons_routes =\\\n",
    "        df_cantons_routes[df_cantons_routes.canton!=elem]\n",
    "\n",
    "# Replace the cantons name by their keys to compare them below\n",
    "df_cantons_routes['canton'] =\\\n",
    "        [getKeysByValue(dict_cantons, canton) for canton in\\\n",
    "                     df_cantons_routes['canton']]\n",
    "\n",
    "# Get the number of accidents by canton from before, until 2016\n",
    "df_cantons_normalized_km = df_cantons.drop(['2017'],axis=1).copy().reset_index()\n",
    "\n",
    "# Replace the cantons name by their keys to compare them with the other set\n",
    "df_cantons_normalized_km['canton'] =\\\n",
    "        [getKeysByValue(dict_cantons, canton) for canton in\\\n",
    "                        df_cantons_normalized_km['canton']]\n",
    "\n",
    "# Set the canton as index\n",
    "df_cantons_normalized_km = df_cantons_normalized_km.set_index('canton')\n",
    "\n",
    "# Normalization: get through the cantons and the year to normalize\n",
    "for canton in df_cantons_normalized_km.index:\n",
    "    for date in df_cantons_normalized_km.columns:\n",
    "        df_cantons_normalized_km.loc[canton,date]=\\\n",
    "        100*df_cantons_normalized_km.loc[canton,date]/\\\n",
    "        df_cantons_routes[(df_cantons_routes.canton == canton) \\\n",
    "                        & (df_cantons_routes.annee==int(date))]['Total'].values[0]\n",
    "        \n",
    "# Sort the cantons for 2016\n",
    "df_cantons_normalized_km = df_cantons_normalized_km.sort_values('2016', ascending=False)\n",
    "\n",
    "# Plot the top 5 cantons with this normalization\n",
    "plot_dataframe(x=df_cantons_normalized_km.columns.values,\\\n",
    "               y=df_cantons_normalized_km.head(5),\\\n",
    "               title=\"The 5 cantons with the most accidents per 100 km\", xlabel='Year',\\\n",
    "               ylabel='Number of accidents per 100 km',\\\n",
    "               labels=df_cantons_normalized_km.head(5).index.values,\\\n",
    "               rotation=45, number_to_plot=None,name_save='accident_canton_per100km')\n",
    "\n",
    "# Get rid of the two ouliers\n",
    "plot_dataframe(x=df_cantons_normalized_km.columns.values,\\\n",
    "               y=df_cantons_normalized_km.iloc[2:7],\\\n",
    "               title=\"Without BS and GE, two outliers\", xlabel='Year',\\\n",
    "               ylabel='Number of accidents per 100 km',\\\n",
    "               labels=df_cantons_normalized_km.iloc[2:7].index.values,\\\n",
    "               rotation=45, number_to_plot=None,name_save='accident_canton_per100km_nooutlier')"
   ]
  },
  {
   "cell_type": "code",
   "execution_count": 37,
   "metadata": {},
   "outputs": [
    {
     "data": {
      "text/html": [
       "<div>\n",
       "<style scoped>\n",
       "    .dataframe tbody tr th:only-of-type {\n",
       "        vertical-align: middle;\n",
       "    }\n",
       "\n",
       "    .dataframe tbody tr th {\n",
       "        vertical-align: top;\n",
       "    }\n",
       "\n",
       "    .dataframe thead th {\n",
       "        text-align: right;\n",
       "    }\n",
       "</style>\n",
       "<table border=\"1\" class=\"dataframe\">\n",
       "  <thead>\n",
       "    <tr style=\"text-align: right;\">\n",
       "      <th></th>\n",
       "      <th>1992</th>\n",
       "      <th>1993</th>\n",
       "      <th>1994</th>\n",
       "      <th>1995</th>\n",
       "      <th>1996</th>\n",
       "      <th>1997</th>\n",
       "      <th>1998</th>\n",
       "      <th>1999</th>\n",
       "      <th>2000</th>\n",
       "      <th>2001</th>\n",
       "      <th>...</th>\n",
       "      <th>2007</th>\n",
       "      <th>2008</th>\n",
       "      <th>2009</th>\n",
       "      <th>2010</th>\n",
       "      <th>2011</th>\n",
       "      <th>2012</th>\n",
       "      <th>2013</th>\n",
       "      <th>2014</th>\n",
       "      <th>2015</th>\n",
       "      <th>2016</th>\n",
       "    </tr>\n",
       "    <tr>\n",
       "      <th>canton</th>\n",
       "      <th></th>\n",
       "      <th></th>\n",
       "      <th></th>\n",
       "      <th></th>\n",
       "      <th></th>\n",
       "      <th></th>\n",
       "      <th></th>\n",
       "      <th></th>\n",
       "      <th></th>\n",
       "      <th></th>\n",
       "      <th></th>\n",
       "      <th></th>\n",
       "      <th></th>\n",
       "      <th></th>\n",
       "      <th></th>\n",
       "      <th></th>\n",
       "      <th></th>\n",
       "      <th></th>\n",
       "      <th></th>\n",
       "      <th></th>\n",
       "      <th></th>\n",
       "    </tr>\n",
       "  </thead>\n",
       "  <tbody>\n",
       "    <tr>\n",
       "      <th>VS</th>\n",
       "      <td>19.945042</td>\n",
       "      <td>20.901939</td>\n",
       "      <td>18.798024</td>\n",
       "      <td>19.055430</td>\n",
       "      <td>17.005901</td>\n",
       "      <td>17.491946</td>\n",
       "      <td>17.873762</td>\n",
       "      <td>17.044913</td>\n",
       "      <td>19.214265</td>\n",
       "      <td>18.132734</td>\n",
       "      <td>...</td>\n",
       "      <td>15.216301</td>\n",
       "      <td>14.117478</td>\n",
       "      <td>14.335806</td>\n",
       "      <td>14.054312</td>\n",
       "      <td>13.458790</td>\n",
       "      <td>13.220581</td>\n",
       "      <td>11.862792</td>\n",
       "      <td>12.624157</td>\n",
       "      <td>12.028678</td>\n",
       "      <td>11.152593</td>\n",
       "    </tr>\n",
       "    <tr>\n",
       "      <th>SH</th>\n",
       "      <td>10.434135</td>\n",
       "      <td>9.377717</td>\n",
       "      <td>12.234505</td>\n",
       "      <td>11.179430</td>\n",
       "      <td>10.730679</td>\n",
       "      <td>10.233827</td>\n",
       "      <td>10.416021</td>\n",
       "      <td>9.486019</td>\n",
       "      <td>12.459707</td>\n",
       "      <td>12.211753</td>\n",
       "      <td>...</td>\n",
       "      <td>12.338025</td>\n",
       "      <td>10.228118</td>\n",
       "      <td>10.290107</td>\n",
       "      <td>8.245505</td>\n",
       "      <td>9.113453</td>\n",
       "      <td>10.415375</td>\n",
       "      <td>9.164087</td>\n",
       "      <td>10.092879</td>\n",
       "      <td>9.783282</td>\n",
       "      <td>10.525012</td>\n",
       "    </tr>\n",
       "    <tr>\n",
       "      <th>JU</th>\n",
       "      <td>13.776138</td>\n",
       "      <td>15.194390</td>\n",
       "      <td>12.118602</td>\n",
       "      <td>13.407134</td>\n",
       "      <td>13.030117</td>\n",
       "      <td>11.800860</td>\n",
       "      <td>12.904398</td>\n",
       "      <td>13.752575</td>\n",
       "      <td>13.146735</td>\n",
       "      <td>12.298558</td>\n",
       "      <td>...</td>\n",
       "      <td>10.320478</td>\n",
       "      <td>9.656588</td>\n",
       "      <td>9.596234</td>\n",
       "      <td>9.354255</td>\n",
       "      <td>8.965102</td>\n",
       "      <td>8.844765</td>\n",
       "      <td>6.919374</td>\n",
       "      <td>9.604486</td>\n",
       "      <td>9.843107</td>\n",
       "      <td>7.970497</td>\n",
       "    </tr>\n",
       "  </tbody>\n",
       "</table>\n",
       "<p>3 rows × 25 columns</p>\n",
       "</div>"
      ],
      "text/plain": [
       "             1992       1993       1994       1995       1996       1997  \\\n",
       "canton                                                                     \n",
       "VS      19.945042  20.901939  18.798024  19.055430  17.005901  17.491946   \n",
       "SH      10.434135   9.377717  12.234505  11.179430  10.730679  10.233827   \n",
       "JU      13.776138  15.194390  12.118602  13.407134  13.030117  11.800860   \n",
       "\n",
       "             1998       1999       2000       2001    ...           2007  \\\n",
       "canton                                                ...                  \n",
       "VS      17.873762  17.044913  19.214265  18.132734    ...      15.216301   \n",
       "SH      10.416021   9.486019  12.459707  12.211753    ...      12.338025   \n",
       "JU      12.904398  13.752575  13.146735  12.298558    ...      10.320478   \n",
       "\n",
       "             2008       2009       2010       2011       2012       2013  \\\n",
       "canton                                                                     \n",
       "VS      14.117478  14.335806  14.054312  13.458790  13.220581  11.862792   \n",
       "SH      10.228118  10.290107   8.245505   9.113453  10.415375   9.164087   \n",
       "JU       9.656588   9.596234   9.354255   8.965102   8.844765   6.919374   \n",
       "\n",
       "             2014       2015       2016  \n",
       "canton                                   \n",
       "VS      12.624157  12.028678  11.152593  \n",
       "SH      10.092879   9.783282  10.525012  \n",
       "JU       9.604486   9.843107   7.970497  \n",
       "\n",
       "[3 rows x 25 columns]"
      ]
     },
     "execution_count": 37,
     "metadata": {},
     "output_type": "execute_result"
    }
   ],
   "source": [
    "df_cantons_normalized_km[23:]"
   ]
  },
  {
   "cell_type": "markdown",
   "metadata": {},
   "source": [
    "With this normalization, the results are as expected. Small cantons basically consisting in one big town (Basel-Town and Geneva, Zug) have the most accidents. Bigger and rural cantons present a smaller number of accidents: we find Valais and Jura among the three cantons with the least accidents per 100km."
   ]
  },
  {
   "cell_type": "code",
   "execution_count": 38,
   "metadata": {},
   "outputs": [],
   "source": [
    "# On the map\n",
    "MAP = create_map(df_cantons_normalized_km.reset_index(),[d for d in df_cantons_normalized_km.columns if IS_DATE.match(d)][-1:],'Number of accidents per 100km')\n",
    "save_it(MAP,'accident_canton_normalized')"
   ]
  },
  {
   "cell_type": "markdown",
   "metadata": {},
   "source": [
    "#### <center>[CLICK HERE TO SEE THE MAPS](./docs/img/maps/accident_canton_normalized.html)</center>"
   ]
  },
  {
   "cell_type": "code",
   "execution_count": 39,
   "metadata": {
    "scrolled": false
   },
   "outputs": [],
   "source": [
    "# On the map\n",
    "MAP = create_map(df_cantons_normalized_km.iloc[2:].reset_index(),[d for d in df_cantons_normalized_km.columns if IS_DATE.match(d)],'Number of accidents per 100km')\n",
    "save_it(MAP,'accident_canton_normalized_nooutlier')"
   ]
  },
  {
   "cell_type": "markdown",
   "metadata": {},
   "source": [
    "#### <center>[CLICK HERE TO SEE THE MAPS](./docs/img/maps/accident_canton_normalized_nooutlier.html)</center>\n"
   ]
  },
  {
   "cell_type": "markdown",
   "metadata": {},
   "source": [
    "##### Relative variations of accidents"
   ]
  },
  {
   "cell_type": "code",
   "execution_count": 40,
   "metadata": {},
   "outputs": [],
   "source": [
    "df_cantons_variation = df_cantons.copy()\n",
    "for i in reversed(range(1993,2018)):\n",
    "    df_cantons_variation[str(i)] = (df_cantons_variation[str(i)]-df_cantons_variation[str(i-1)])*100/df_cantons_variation[str(i-1)]\n",
    "df_cantons_variation = df_cantons_variation.drop(['1992'],axis=1)"
   ]
  },
  {
   "cell_type": "code",
   "execution_count": 41,
   "metadata": {},
   "outputs": [],
   "source": [
    "MAP = create_map(df_cantons_variation.reset_index(),[d for d in df_cantons_variation.columns if IS_DATE.match(d)],'Relative variation compare to the previous year')\n",
    "save_it(MAP,'accident_canton_variations')"
   ]
  },
  {
   "cell_type": "markdown",
   "metadata": {},
   "source": [
    "#### <center>[CLICK HERE TO SEE THE MAPS](./docs/img/maps/accident_canton_variations.html)</center>\n"
   ]
  },
  {
   "cell_type": "markdown",
   "metadata": {},
   "source": [
    "##### Proportion of fatal accident (with death people)"
   ]
  },
  {
   "cell_type": "code",
   "execution_count": 42,
   "metadata": {
    "scrolled": false
   },
   "outputs": [
    {
     "data": {
      "application/vnd.plotly.v1+json": {
       "config": {
        "linkText": "Export to plot.ly",
        "plotlyServerURL": "https://plot.ly",
        "showLink": true
       },
       "data": [
        {
         "name": "BS",
         "type": "scatter",
         "uid": "25f13a50-9ffc-4065-9091-16329b8743ef",
         "x": [
          "1992",
          "1993",
          "1994",
          "1995",
          "1996",
          "1997",
          "1998",
          "1999",
          "2000",
          "2001",
          "2002",
          "2003",
          "2004",
          "2005",
          "2006",
          "2007",
          "2008",
          "2009",
          "2010",
          "2011",
          "2012",
          "2013",
          "2014",
          "2015",
          "2016",
          "2017"
         ],
         "y": [
          3.5398230088495577,
          5.454545454545454,
          6,
          3.1914893617021276,
          6.25,
          1.098901098901099,
          5.042016806722689,
          2.4691358024691357,
          5.4945054945054945,
          2.6785714285714284,
          0,
          1.9047619047619047,
          3.0927835051546393,
          5.376344086021505,
          0,
          4.081632653061225,
          1.1235955056179776,
          1.8181818181818181,
          6.818181818181818,
          2.4096385542168677,
          1.25,
          3.4482758620689653,
          3.1746031746031744,
          1.5151515151515151,
          1.9801980198019802,
          4.123711340206185
         ]
        },
        {
         "name": "GE",
         "type": "scatter",
         "uid": "51f9e06f-7d2b-442a-9dc2-0514b94702ab",
         "x": [
          "1992",
          "1993",
          "1994",
          "1995",
          "1996",
          "1997",
          "1998",
          "1999",
          "2000",
          "2001",
          "2002",
          "2003",
          "2004",
          "2005",
          "2006",
          "2007",
          "2008",
          "2009",
          "2010",
          "2011",
          "2012",
          "2013",
          "2014",
          "2015",
          "2016",
          "2017"
         ],
         "y": [
          4.273504273504273,
          3.7037037037037037,
          4.198473282442748,
          2.6992287917737787,
          3.0748663101604277,
          2.8727770177838576,
          3.3112582781456954,
          3.5952063914780292,
          2.446043165467626,
          2.9792746113989637,
          3.971631205673759,
          2.8846153846153846,
          3.3236994219653178,
          3.1531531531531534,
          2.8846153846153846,
          3.7900874635568513,
          2.622950819672131,
          2.2968197879858656,
          4.7957371225577266,
          3.2319391634980987,
          3.4,
          2.4096385542168677,
          2.8517110266159698,
          3.1055900621118013,
          2.845528455284553,
          3.732809430255403
         ]
        },
        {
         "name": "ZG",
         "type": "scatter",
         "uid": "5aaedc84-e6e4-49e7-958a-ea622556472f",
         "x": [
          "1992",
          "1993",
          "1994",
          "1995",
          "1996",
          "1997",
          "1998",
          "1999",
          "2000",
          "2001",
          "2002",
          "2003",
          "2004",
          "2005",
          "2006",
          "2007",
          "2008",
          "2009",
          "2010",
          "2011",
          "2012",
          "2013",
          "2014",
          "2015",
          "2016",
          "2017"
         ],
         "y": [
          3.7313432835820897,
          4.929577464788732,
          2.4539877300613497,
          5.978260869565218,
          4.819277108433735,
          5.454545454545454,
          3.75,
          4.487179487179487,
          0.6329113924050633,
          1.875,
          6.206896551724138,
          3.1847133757961785,
          3.4482758620689653,
          1.694915254237288,
          3.8461538461538463,
          3.937007874015748,
          4.3478260869565215,
          2.0134228187919465,
          1.834862385321101,
          0.9523809523809523,
          8.49056603773585,
          4.065040650406504,
          2.127659574468085,
          2.5641025641025643,
          1.9607843137254901,
          3.5714285714285716
         ]
        },
        {
         "name": "ZH",
         "type": "scatter",
         "uid": "6ab89d45-de33-4217-97be-e7a7327680ac",
         "x": [
          "1992",
          "1993",
          "1994",
          "1995",
          "1996",
          "1997",
          "1998",
          "1999",
          "2000",
          "2001",
          "2002",
          "2003",
          "2004",
          "2005",
          "2006",
          "2007",
          "2008",
          "2009",
          "2010",
          "2011",
          "2012",
          "2013",
          "2014",
          "2015",
          "2016",
          "2017"
         ],
         "y": [
          3.883495145631068,
          1.2195121951219512,
          0,
          2.7777777777777777,
          1.7699115044247788,
          0,
          0,
          2.3622047244094486,
          0,
          3.3707865168539324,
          0.9615384615384616,
          2.6315789473684212,
          0.8928571428571429,
          1.1764705882352942,
          2.127659574468085,
          0,
          0,
          3.409090909090909,
          0,
          0,
          2.5316455696202533,
          3.658536585365854,
          2.5,
          2.912621359223301,
          1.098901098901099,
          2.5316455696202533
         ]
        },
        {
         "name": "NW",
         "type": "scatter",
         "uid": "0a2fbd82-ce37-490e-88ef-7f6ac8fdebb2",
         "x": [
          "1992",
          "1993",
          "1994",
          "1995",
          "1996",
          "1997",
          "1998",
          "1999",
          "2000",
          "2001",
          "2002",
          "2003",
          "2004",
          "2005",
          "2006",
          "2007",
          "2008",
          "2009",
          "2010",
          "2011",
          "2012",
          "2013",
          "2014",
          "2015",
          "2016",
          "2017"
         ],
         "y": [
          5.0966608084358525,
          3.088803088803089,
          4.2592592592592595,
          2.88659793814433,
          2.127659574468085,
          2.8634361233480177,
          4.612159329140461,
          3.9665970772442587,
          2.912621359223301,
          2.8625954198473282,
          2.1484375,
          4.017857142857143,
          3.587443946188341,
          1.477832512315271,
          1.411764705882353,
          2.34375,
          1.3333333333333333,
          1.6620498614958448,
          1.6286644951140066,
          3.5483870967741935,
          1.6891891891891893,
          2.142857142857143,
          2.456140350877193,
          1.0638297872340425,
          2,
          2.0689655172413794
         ]
        }
       ],
       "layout": {
        "margin": {
         "b": 50,
         "l": 50,
         "pad": 4,
         "r": 50,
         "t": 50
        },
        "title": "<b>The 5 cantons with the higher proportion of fatal accident</b>",
        "titlefont": {
         "color": "#7f7f7f",
         "family": "Courier New, monospace",
         "size": 18
        },
        "xaxis": {
         "title": "Year",
         "titlefont": {
          "color": "#7f7f7f",
          "family": "Courier New, monospace",
          "size": 15
         }
        },
        "yaxis": {
         "title": "Proportion of fatal accident",
         "titlefont": {
          "color": "#7f7f7f",
          "family": "Courier New, monospace",
          "size": 15
         }
        }
       }
      },
      "text/html": [
       "<div id=\"05e18712-2280-4f9c-a55d-482c54ab03b6\" style=\"height: 525px; width: 100%;\" class=\"plotly-graph-div\"></div><script type=\"text/javascript\">require([\"plotly\"], function(Plotly) { window.PLOTLYENV=window.PLOTLYENV || {};window.PLOTLYENV.BASE_URL=\"https://plot.ly\";Plotly.newPlot(\"05e18712-2280-4f9c-a55d-482c54ab03b6\", [{\"name\": \"BS\", \"x\": [\"1992\", \"1993\", \"1994\", \"1995\", \"1996\", \"1997\", \"1998\", \"1999\", \"2000\", \"2001\", \"2002\", \"2003\", \"2004\", \"2005\", \"2006\", \"2007\", \"2008\", \"2009\", \"2010\", \"2011\", \"2012\", \"2013\", \"2014\", \"2015\", \"2016\", \"2017\"], \"y\": [3.5398230088495577, 5.454545454545454, 6.0, 3.1914893617021276, 6.25, 1.098901098901099, 5.042016806722689, 2.4691358024691357, 5.4945054945054945, 2.6785714285714284, 0.0, 1.9047619047619047, 3.0927835051546393, 5.376344086021505, 0.0, 4.081632653061225, 1.1235955056179776, 1.8181818181818181, 6.818181818181818, 2.4096385542168677, 1.25, 3.4482758620689653, 3.1746031746031744, 1.5151515151515151, 1.9801980198019802, 4.123711340206185], \"type\": \"scatter\", \"uid\": \"25f13a50-9ffc-4065-9091-16329b8743ef\"}, {\"name\": \"GE\", \"x\": [\"1992\", \"1993\", \"1994\", \"1995\", \"1996\", \"1997\", \"1998\", \"1999\", \"2000\", \"2001\", \"2002\", \"2003\", \"2004\", \"2005\", \"2006\", \"2007\", \"2008\", \"2009\", \"2010\", \"2011\", \"2012\", \"2013\", \"2014\", \"2015\", \"2016\", \"2017\"], \"y\": [4.273504273504273, 3.7037037037037037, 4.198473282442748, 2.6992287917737787, 3.0748663101604277, 2.8727770177838576, 3.3112582781456954, 3.5952063914780292, 2.446043165467626, 2.9792746113989637, 3.971631205673759, 2.8846153846153846, 3.3236994219653178, 3.1531531531531534, 2.8846153846153846, 3.7900874635568513, 2.622950819672131, 2.2968197879858656, 4.7957371225577266, 3.2319391634980987, 3.4, 2.4096385542168677, 2.8517110266159698, 3.1055900621118013, 2.845528455284553, 3.732809430255403], \"type\": \"scatter\", \"uid\": \"51f9e06f-7d2b-442a-9dc2-0514b94702ab\"}, {\"name\": \"ZG\", \"x\": [\"1992\", \"1993\", \"1994\", \"1995\", \"1996\", \"1997\", \"1998\", \"1999\", \"2000\", \"2001\", \"2002\", \"2003\", \"2004\", \"2005\", \"2006\", \"2007\", \"2008\", \"2009\", \"2010\", \"2011\", \"2012\", \"2013\", \"2014\", \"2015\", \"2016\", \"2017\"], \"y\": [3.7313432835820897, 4.929577464788732, 2.4539877300613497, 5.978260869565218, 4.819277108433735, 5.454545454545454, 3.75, 4.487179487179487, 0.6329113924050633, 1.875, 6.206896551724138, 3.1847133757961785, 3.4482758620689653, 1.694915254237288, 3.8461538461538463, 3.937007874015748, 4.3478260869565215, 2.0134228187919465, 1.834862385321101, 0.9523809523809523, 8.49056603773585, 4.065040650406504, 2.127659574468085, 2.5641025641025643, 1.9607843137254901, 3.5714285714285716], \"type\": \"scatter\", \"uid\": \"5aaedc84-e6e4-49e7-958a-ea622556472f\"}, {\"name\": \"ZH\", \"x\": [\"1992\", \"1993\", \"1994\", \"1995\", \"1996\", \"1997\", \"1998\", \"1999\", \"2000\", \"2001\", \"2002\", \"2003\", \"2004\", \"2005\", \"2006\", \"2007\", \"2008\", \"2009\", \"2010\", \"2011\", \"2012\", \"2013\", \"2014\", \"2015\", \"2016\", \"2017\"], \"y\": [3.883495145631068, 1.2195121951219512, 0.0, 2.7777777777777777, 1.7699115044247788, 0.0, 0.0, 2.3622047244094486, 0.0, 3.3707865168539324, 0.9615384615384616, 2.6315789473684212, 0.8928571428571429, 1.1764705882352942, 2.127659574468085, 0.0, 0.0, 3.409090909090909, 0.0, 0.0, 2.5316455696202533, 3.658536585365854, 2.5, 2.912621359223301, 1.098901098901099, 2.5316455696202533], \"type\": \"scatter\", \"uid\": \"6ab89d45-de33-4217-97be-e7a7327680ac\"}, {\"name\": \"NW\", \"x\": [\"1992\", \"1993\", \"1994\", \"1995\", \"1996\", \"1997\", \"1998\", \"1999\", \"2000\", \"2001\", \"2002\", \"2003\", \"2004\", \"2005\", \"2006\", \"2007\", \"2008\", \"2009\", \"2010\", \"2011\", \"2012\", \"2013\", \"2014\", \"2015\", \"2016\", \"2017\"], \"y\": [5.0966608084358525, 3.088803088803089, 4.2592592592592595, 2.88659793814433, 2.127659574468085, 2.8634361233480177, 4.612159329140461, 3.9665970772442587, 2.912621359223301, 2.8625954198473282, 2.1484375, 4.017857142857143, 3.587443946188341, 1.477832512315271, 1.411764705882353, 2.34375, 1.3333333333333333, 1.6620498614958448, 1.6286644951140066, 3.5483870967741935, 1.6891891891891893, 2.142857142857143, 2.456140350877193, 1.0638297872340425, 2.0, 2.0689655172413794], \"type\": \"scatter\", \"uid\": \"0a2fbd82-ce37-490e-88ef-7f6ac8fdebb2\"}], {\"margin\": {\"b\": 50, \"l\": 50, \"pad\": 4, \"r\": 50, \"t\": 50}, \"title\": \"<b>The 5 cantons with the higher proportion of fatal accident</b>\", \"titlefont\": {\"color\": \"#7f7f7f\", \"family\": \"Courier New, monospace\", \"size\": 18}, \"xaxis\": {\"title\": \"Year\", \"titlefont\": {\"color\": \"#7f7f7f\", \"family\": \"Courier New, monospace\", \"size\": 15}}, \"yaxis\": {\"title\": \"Proportion of fatal accident\", \"titlefont\": {\"color\": \"#7f7f7f\", \"family\": \"Courier New, monospace\", \"size\": 15}}}, {\"showLink\": true, \"linkText\": \"Export to plot.ly\", \"plotlyServerURL\": \"https://plot.ly\"})});</script><script type=\"text/javascript\">window.addEventListener(\"resize\", function(){window._Plotly.Plots.resize(document.getElementById(\"05e18712-2280-4f9c-a55d-482c54ab03b6\"));});</script>"
      ],
      "text/vnd.plotly.v1+html": [
       "<div id=\"05e18712-2280-4f9c-a55d-482c54ab03b6\" style=\"height: 525px; width: 100%;\" class=\"plotly-graph-div\"></div><script type=\"text/javascript\">require([\"plotly\"], function(Plotly) { window.PLOTLYENV=window.PLOTLYENV || {};window.PLOTLYENV.BASE_URL=\"https://plot.ly\";Plotly.newPlot(\"05e18712-2280-4f9c-a55d-482c54ab03b6\", [{\"name\": \"BS\", \"x\": [\"1992\", \"1993\", \"1994\", \"1995\", \"1996\", \"1997\", \"1998\", \"1999\", \"2000\", \"2001\", \"2002\", \"2003\", \"2004\", \"2005\", \"2006\", \"2007\", \"2008\", \"2009\", \"2010\", \"2011\", \"2012\", \"2013\", \"2014\", \"2015\", \"2016\", \"2017\"], \"y\": [3.5398230088495577, 5.454545454545454, 6.0, 3.1914893617021276, 6.25, 1.098901098901099, 5.042016806722689, 2.4691358024691357, 5.4945054945054945, 2.6785714285714284, 0.0, 1.9047619047619047, 3.0927835051546393, 5.376344086021505, 0.0, 4.081632653061225, 1.1235955056179776, 1.8181818181818181, 6.818181818181818, 2.4096385542168677, 1.25, 3.4482758620689653, 3.1746031746031744, 1.5151515151515151, 1.9801980198019802, 4.123711340206185], \"type\": \"scatter\", \"uid\": \"25f13a50-9ffc-4065-9091-16329b8743ef\"}, {\"name\": \"GE\", \"x\": [\"1992\", \"1993\", \"1994\", \"1995\", \"1996\", \"1997\", \"1998\", \"1999\", \"2000\", \"2001\", \"2002\", \"2003\", \"2004\", \"2005\", \"2006\", \"2007\", \"2008\", \"2009\", \"2010\", \"2011\", \"2012\", \"2013\", \"2014\", \"2015\", \"2016\", \"2017\"], \"y\": [4.273504273504273, 3.7037037037037037, 4.198473282442748, 2.6992287917737787, 3.0748663101604277, 2.8727770177838576, 3.3112582781456954, 3.5952063914780292, 2.446043165467626, 2.9792746113989637, 3.971631205673759, 2.8846153846153846, 3.3236994219653178, 3.1531531531531534, 2.8846153846153846, 3.7900874635568513, 2.622950819672131, 2.2968197879858656, 4.7957371225577266, 3.2319391634980987, 3.4, 2.4096385542168677, 2.8517110266159698, 3.1055900621118013, 2.845528455284553, 3.732809430255403], \"type\": \"scatter\", \"uid\": \"51f9e06f-7d2b-442a-9dc2-0514b94702ab\"}, {\"name\": \"ZG\", \"x\": [\"1992\", \"1993\", \"1994\", \"1995\", \"1996\", \"1997\", \"1998\", \"1999\", \"2000\", \"2001\", \"2002\", \"2003\", \"2004\", \"2005\", \"2006\", \"2007\", \"2008\", \"2009\", \"2010\", \"2011\", \"2012\", \"2013\", \"2014\", \"2015\", \"2016\", \"2017\"], \"y\": [3.7313432835820897, 4.929577464788732, 2.4539877300613497, 5.978260869565218, 4.819277108433735, 5.454545454545454, 3.75, 4.487179487179487, 0.6329113924050633, 1.875, 6.206896551724138, 3.1847133757961785, 3.4482758620689653, 1.694915254237288, 3.8461538461538463, 3.937007874015748, 4.3478260869565215, 2.0134228187919465, 1.834862385321101, 0.9523809523809523, 8.49056603773585, 4.065040650406504, 2.127659574468085, 2.5641025641025643, 1.9607843137254901, 3.5714285714285716], \"type\": \"scatter\", \"uid\": \"5aaedc84-e6e4-49e7-958a-ea622556472f\"}, {\"name\": \"ZH\", \"x\": [\"1992\", \"1993\", \"1994\", \"1995\", \"1996\", \"1997\", \"1998\", \"1999\", \"2000\", \"2001\", \"2002\", \"2003\", \"2004\", \"2005\", \"2006\", \"2007\", \"2008\", \"2009\", \"2010\", \"2011\", \"2012\", \"2013\", \"2014\", \"2015\", \"2016\", \"2017\"], \"y\": [3.883495145631068, 1.2195121951219512, 0.0, 2.7777777777777777, 1.7699115044247788, 0.0, 0.0, 2.3622047244094486, 0.0, 3.3707865168539324, 0.9615384615384616, 2.6315789473684212, 0.8928571428571429, 1.1764705882352942, 2.127659574468085, 0.0, 0.0, 3.409090909090909, 0.0, 0.0, 2.5316455696202533, 3.658536585365854, 2.5, 2.912621359223301, 1.098901098901099, 2.5316455696202533], \"type\": \"scatter\", \"uid\": \"6ab89d45-de33-4217-97be-e7a7327680ac\"}, {\"name\": \"NW\", \"x\": [\"1992\", \"1993\", \"1994\", \"1995\", \"1996\", \"1997\", \"1998\", \"1999\", \"2000\", \"2001\", \"2002\", \"2003\", \"2004\", \"2005\", \"2006\", \"2007\", \"2008\", \"2009\", \"2010\", \"2011\", \"2012\", \"2013\", \"2014\", \"2015\", \"2016\", \"2017\"], \"y\": [5.0966608084358525, 3.088803088803089, 4.2592592592592595, 2.88659793814433, 2.127659574468085, 2.8634361233480177, 4.612159329140461, 3.9665970772442587, 2.912621359223301, 2.8625954198473282, 2.1484375, 4.017857142857143, 3.587443946188341, 1.477832512315271, 1.411764705882353, 2.34375, 1.3333333333333333, 1.6620498614958448, 1.6286644951140066, 3.5483870967741935, 1.6891891891891893, 2.142857142857143, 2.456140350877193, 1.0638297872340425, 2.0, 2.0689655172413794], \"type\": \"scatter\", \"uid\": \"0a2fbd82-ce37-490e-88ef-7f6ac8fdebb2\"}], {\"margin\": {\"b\": 50, \"l\": 50, \"pad\": 4, \"r\": 50, \"t\": 50}, \"title\": \"<b>The 5 cantons with the higher proportion of fatal accident</b>\", \"titlefont\": {\"color\": \"#7f7f7f\", \"family\": \"Courier New, monospace\", \"size\": 18}, \"xaxis\": {\"title\": \"Year\", \"titlefont\": {\"color\": \"#7f7f7f\", \"family\": \"Courier New, monospace\", \"size\": 15}}, \"yaxis\": {\"title\": \"Proportion of fatal accident\", \"titlefont\": {\"color\": \"#7f7f7f\", \"family\": \"Courier New, monospace\", \"size\": 15}}}, {\"showLink\": true, \"linkText\": \"Export to plot.ly\", \"plotlyServerURL\": \"https://plot.ly\"})});</script><script type=\"text/javascript\">window.addEventListener(\"resize\", function(){window._Plotly.Plots.resize(document.getElementById(\"05e18712-2280-4f9c-a55d-482c54ab03b6\"));});</script>"
      ]
     },
     "metadata": {},
     "output_type": "display_data"
    }
   ],
   "source": [
    "dates = [d for d in df_Accident_cantons.columns if IS_DATE.match(d)]\n",
    "df_proportion_death_canton = 100*df_Accident_cantons[df_Accident_cantons.gravite_index==317].groupby('canton').sum()[dates]/df_Accident_cantons.groupby('canton').sum()[dates]\n",
    "df_proportion_death_canton = df_proportion_death_canton.sort_values(['2017'], ascending=False)\n",
    "\n",
    "# Plot the top 5 cantons with this caracteristic\n",
    "plot_dataframe(x=df_proportion_death_canton.columns.values,\\\n",
    "               y=df_proportion_death_canton.head(5),\\\n",
    "               title=\"The 5 cantons with the higher proportion of fatal accident\", xlabel='Year',\\\n",
    "               ylabel='Proportion of fatal accident',\\\n",
    "               labels=df_cantons_normalized_km.head(5).index.values,\\\n",
    "               rotation=45, number_to_plot=None,name_save='accident_canton_death')\n",
    "df_proportion_death_canton = clean_cantons_names(df_proportion_death_canton.reset_index())"
   ]
  },
  {
   "cell_type": "code",
   "execution_count": 43,
   "metadata": {},
   "outputs": [],
   "source": [
    "MAP = create_map(df_proportion_death_canton,[d for d in df_proportion_death_canton.columns if IS_DATE.match(d)],'Proportion of fatal accident')\n",
    "save_it(MAP,'accident_canton_death')"
   ]
  },
  {
   "cell_type": "markdown",
   "metadata": {},
   "source": [
    "#### <center>[CLICK HERE TO SEE THE MAPS](./docs/img/maps/accident_canton_death.html)</center>\n"
   ]
  },
  {
   "cell_type": "markdown",
   "metadata": {},
   "source": [
    "### 1.3. When?"
   ]
  },
  {
   "cell_type": "markdown",
   "metadata": {},
   "source": [
    "In this section, we try to analyze the time of the day, day of the week and month when the accidents happened. We base ourselves on the dataset `df_hacked_accident`, which was named like that because the data we retrieved from a Swiss OpenData's API. It contains information about every accident between 2011 and 2017"
   ]
  },
  {
   "cell_type": "markdown",
   "metadata": {},
   "source": [
    "##### Daily analysis"
   ]
  },
  {
   "cell_type": "code",
   "execution_count": 44,
   "metadata": {},
   "outputs": [
    {
     "data": {
      "text/html": [
       "<div>\n",
       "<style scoped>\n",
       "    .dataframe tbody tr th:only-of-type {\n",
       "        vertical-align: middle;\n",
       "    }\n",
       "\n",
       "    .dataframe tbody tr th {\n",
       "        vertical-align: top;\n",
       "    }\n",
       "\n",
       "    .dataframe thead th {\n",
       "        text-align: right;\n",
       "    }\n",
       "</style>\n",
       "<table border=\"1\" class=\"dataframe\">\n",
       "  <thead>\n",
       "    <tr style=\"text-align: right;\">\n",
       "      <th></th>\n",
       "      <th>accidents</th>\n",
       "    </tr>\n",
       "    <tr>\n",
       "      <th>accidentday</th>\n",
       "      <th></th>\n",
       "    </tr>\n",
       "  </thead>\n",
       "  <tbody>\n",
       "    <tr>\n",
       "      <th>lundi</th>\n",
       "      <td>17617</td>\n",
       "    </tr>\n",
       "    <tr>\n",
       "      <th>mardi</th>\n",
       "      <td>17864</td>\n",
       "    </tr>\n",
       "    <tr>\n",
       "      <th>mercredi</th>\n",
       "      <td>18593</td>\n",
       "    </tr>\n",
       "    <tr>\n",
       "      <th>jeudi</th>\n",
       "      <td>19387</td>\n",
       "    </tr>\n",
       "    <tr>\n",
       "      <th>vendredi</th>\n",
       "      <td>21599</td>\n",
       "    </tr>\n",
       "    <tr>\n",
       "      <th>samedi</th>\n",
       "      <td>17882</td>\n",
       "    </tr>\n",
       "    <tr>\n",
       "      <th>dimanche</th>\n",
       "      <td>12584</td>\n",
       "    </tr>\n",
       "  </tbody>\n",
       "</table>\n",
       "</div>"
      ],
      "text/plain": [
       "             accidents\n",
       "accidentday           \n",
       "lundi            17617\n",
       "mardi            17864\n",
       "mercredi         18593\n",
       "jeudi            19387\n",
       "vendredi         21599\n",
       "samedi           17882\n",
       "dimanche         12584"
      ]
     },
     "execution_count": 44,
     "metadata": {},
     "output_type": "execute_result"
    }
   ],
   "source": [
    "df_hacked_accident[['accidentday', 'id']].\\\n",
    "    groupby('accidentday')[['id']].count().\\\n",
    "    reindex(['lundi','mardi','mercredi','jeudi','vendredi','samedi','dimanche']).\\\n",
    "    rename(columns = {'id' : 'accidents'})\n"
   ]
  },
  {
   "cell_type": "code",
   "execution_count": 45,
   "metadata": {
    "scrolled": false
   },
   "outputs": [
    {
     "data": {
      "application/vnd.plotly.v1+json": {
       "config": {
        "linkText": "Export to plot.ly",
        "plotlyServerURL": "https://plot.ly",
        "showLink": true
       },
       "data": [
        {
         "orientation": "h",
         "type": "bar",
         "uid": "567a3bd3-b4d1-4b4c-bdec-5f3e7207578e",
         "x": [
          12584,
          17882,
          21599,
          19387,
          18593,
          17864,
          17617
         ],
         "y": [
          "dimanche",
          "samedi",
          "vendredi",
          "jeudi",
          "mercredi",
          "mardi",
          "lundi"
         ]
        }
       ],
       "layout": {
        "margin": {
         "b": 50,
         "l": 70,
         "pad": 4,
         "r": 50,
         "t": 50
        },
        "title": "<b>Number of accidents per weekday</b>",
        "titlefont": {
         "color": "#7f7f7f",
         "family": "Courier New, monospace",
         "size": 18
        },
        "xaxis": {
         "title": "Number of accidents",
         "titlefont": {
          "color": "#7f7f7f",
          "family": "Courier New, monospace",
          "size": 15
         }
        },
        "yaxis": {
         "title": "Weekday",
         "titlefont": {
          "color": "#7f7f7f",
          "family": "Courier New, monospace",
          "size": 15
         }
        }
       }
      },
      "text/html": [
       "<div id=\"5c3b527b-afaa-4dac-a8d1-aae4a735da80\" style=\"height: 525px; width: 100%;\" class=\"plotly-graph-div\"></div><script type=\"text/javascript\">require([\"plotly\"], function(Plotly) { window.PLOTLYENV=window.PLOTLYENV || {};window.PLOTLYENV.BASE_URL=\"https://plot.ly\";Plotly.newPlot(\"5c3b527b-afaa-4dac-a8d1-aae4a735da80\", [{\"orientation\": \"h\", \"x\": [12584, 17882, 21599, 19387, 18593, 17864, 17617], \"y\": [\"dimanche\", \"samedi\", \"vendredi\", \"jeudi\", \"mercredi\", \"mardi\", \"lundi\"], \"type\": \"bar\", \"uid\": \"567a3bd3-b4d1-4b4c-bdec-5f3e7207578e\"}], {\"margin\": {\"b\": 50, \"l\": 70, \"pad\": 4, \"r\": 50, \"t\": 50}, \"title\": \"<b>Number of accidents per weekday</b>\", \"titlefont\": {\"color\": \"#7f7f7f\", \"family\": \"Courier New, monospace\", \"size\": 18}, \"xaxis\": {\"title\": \"Number of accidents\", \"titlefont\": {\"color\": \"#7f7f7f\", \"family\": \"Courier New, monospace\", \"size\": 15}}, \"yaxis\": {\"title\": \"Weekday\", \"titlefont\": {\"color\": \"#7f7f7f\", \"family\": \"Courier New, monospace\", \"size\": 15}}}, {\"showLink\": true, \"linkText\": \"Export to plot.ly\", \"plotlyServerURL\": \"https://plot.ly\"})});</script><script type=\"text/javascript\">window.addEventListener(\"resize\", function(){window._Plotly.Plots.resize(document.getElementById(\"5c3b527b-afaa-4dac-a8d1-aae4a735da80\"));});</script>"
      ],
      "text/vnd.plotly.v1+html": [
       "<div id=\"5c3b527b-afaa-4dac-a8d1-aae4a735da80\" style=\"height: 525px; width: 100%;\" class=\"plotly-graph-div\"></div><script type=\"text/javascript\">require([\"plotly\"], function(Plotly) { window.PLOTLYENV=window.PLOTLYENV || {};window.PLOTLYENV.BASE_URL=\"https://plot.ly\";Plotly.newPlot(\"5c3b527b-afaa-4dac-a8d1-aae4a735da80\", [{\"orientation\": \"h\", \"x\": [12584, 17882, 21599, 19387, 18593, 17864, 17617], \"y\": [\"dimanche\", \"samedi\", \"vendredi\", \"jeudi\", \"mercredi\", \"mardi\", \"lundi\"], \"type\": \"bar\", \"uid\": \"567a3bd3-b4d1-4b4c-bdec-5f3e7207578e\"}], {\"margin\": {\"b\": 50, \"l\": 70, \"pad\": 4, \"r\": 50, \"t\": 50}, \"title\": \"<b>Number of accidents per weekday</b>\", \"titlefont\": {\"color\": \"#7f7f7f\", \"family\": \"Courier New, monospace\", \"size\": 18}, \"xaxis\": {\"title\": \"Number of accidents\", \"titlefont\": {\"color\": \"#7f7f7f\", \"family\": \"Courier New, monospace\", \"size\": 15}}, \"yaxis\": {\"title\": \"Weekday\", \"titlefont\": {\"color\": \"#7f7f7f\", \"family\": \"Courier New, monospace\", \"size\": 15}}}, {\"showLink\": true, \"linkText\": \"Export to plot.ly\", \"plotlyServerURL\": \"https://plot.ly\"})});</script><script type=\"text/javascript\">window.addEventListener(\"resize\", function(){window._Plotly.Plots.resize(document.getElementById(\"5c3b527b-afaa-4dac-a8d1-aae4a735da80\"));});</script>"
      ]
     },
     "metadata": {},
     "output_type": "display_data"
    }
   ],
   "source": [
    "# Compute the number of accidents per weekday, rename the index and the columns\n",
    "df_day = df_hacked_accident[['accidentday', 'id']].\\\n",
    "    groupby('accidentday')[['id']].count().\\\n",
    "    reindex(['lundi','mardi','mercredi','jeudi','vendredi','samedi','dimanche']).\\\n",
    "    rename(columns = {'id' : 'accidents'})\n",
    "\n",
    "# Plot the results\n",
    "plot_dataframe(x=df_day, title=\"Number of accidents per weekday\",\\\n",
    "               xlabel='Number of accidents', ylabel='Weekday', bars='barh',\\\n",
    "               name_save='accident_weekday',margin=70)"
   ]
  },
  {
   "cell_type": "markdown",
   "metadata": {},
   "source": [
    "The only two outliers are the Fridays and the Sundays. The latter probably follows from the fact that the people move less on Sunday, the 'family day'. It seems like a lot of accidents happen on Fridays, which might be a consequence of the excitment around the coming week end (and of the beer after work ;))."
   ]
  },
  {
   "cell_type": "markdown",
   "metadata": {},
   "source": [
    "Cantonal analysis:"
   ]
  },
  {
   "cell_type": "code",
   "execution_count": 46,
   "metadata": {
    "scrolled": false
   },
   "outputs": [
    {
     "data": {
      "application/vnd.plotly.v1+json": {
       "config": {
        "linkText": "Export to plot.ly",
        "plotlyServerURL": "https://plot.ly",
        "showLink": true
       },
       "data": [
        {
         "orientation": "h",
         "type": "bar",
         "uid": "a56152d9-ba15-427e-bb6d-7ce6cd913698",
         "x": [
          0,
          3,
          15,
          6,
          1,
          0,
          1
         ],
         "y": [
          "dimanche",
          "samedi",
          "vendredi",
          "jeudi",
          "mercredi",
          "mardi",
          "lundi"
         ]
        }
       ],
       "layout": {
        "margin": {
         "b": 50,
         "l": 70,
         "pad": 4,
         "r": 50,
         "t": 50
        },
        "title": "<b>Worst day for the cantons</b>",
        "titlefont": {
         "color": "#7f7f7f",
         "family": "Courier New, monospace",
         "size": 18
        },
        "xaxis": {
         "title": "Number of cantons",
         "titlefont": {
          "color": "#7f7f7f",
          "family": "Courier New, monospace",
          "size": 15
         }
        },
        "yaxis": {
         "title": "Weekday",
         "titlefont": {
          "color": "#7f7f7f",
          "family": "Courier New, monospace",
          "size": 15
         }
        }
       }
      },
      "text/html": [
       "<div id=\"5f0a563b-4f0e-4785-b957-3ea2e4966a3c\" style=\"height: 525px; width: 100%;\" class=\"plotly-graph-div\"></div><script type=\"text/javascript\">require([\"plotly\"], function(Plotly) { window.PLOTLYENV=window.PLOTLYENV || {};window.PLOTLYENV.BASE_URL=\"https://plot.ly\";Plotly.newPlot(\"5f0a563b-4f0e-4785-b957-3ea2e4966a3c\", [{\"orientation\": \"h\", \"x\": [0, 3, 15, 6, 1, 0, 1], \"y\": [\"dimanche\", \"samedi\", \"vendredi\", \"jeudi\", \"mercredi\", \"mardi\", \"lundi\"], \"type\": \"bar\", \"uid\": \"a56152d9-ba15-427e-bb6d-7ce6cd913698\"}], {\"margin\": {\"b\": 50, \"l\": 70, \"pad\": 4, \"r\": 50, \"t\": 50}, \"title\": \"<b>Worst day for the cantons</b>\", \"titlefont\": {\"color\": \"#7f7f7f\", \"family\": \"Courier New, monospace\", \"size\": 18}, \"xaxis\": {\"title\": \"Number of cantons\", \"titlefont\": {\"color\": \"#7f7f7f\", \"family\": \"Courier New, monospace\", \"size\": 15}}, \"yaxis\": {\"title\": \"Weekday\", \"titlefont\": {\"color\": \"#7f7f7f\", \"family\": \"Courier New, monospace\", \"size\": 15}}}, {\"showLink\": true, \"linkText\": \"Export to plot.ly\", \"plotlyServerURL\": \"https://plot.ly\"})});</script><script type=\"text/javascript\">window.addEventListener(\"resize\", function(){window._Plotly.Plots.resize(document.getElementById(\"5f0a563b-4f0e-4785-b957-3ea2e4966a3c\"));});</script>"
      ],
      "text/vnd.plotly.v1+html": [
       "<div id=\"5f0a563b-4f0e-4785-b957-3ea2e4966a3c\" style=\"height: 525px; width: 100%;\" class=\"plotly-graph-div\"></div><script type=\"text/javascript\">require([\"plotly\"], function(Plotly) { window.PLOTLYENV=window.PLOTLYENV || {};window.PLOTLYENV.BASE_URL=\"https://plot.ly\";Plotly.newPlot(\"5f0a563b-4f0e-4785-b957-3ea2e4966a3c\", [{\"orientation\": \"h\", \"x\": [0, 3, 15, 6, 1, 0, 1], \"y\": [\"dimanche\", \"samedi\", \"vendredi\", \"jeudi\", \"mercredi\", \"mardi\", \"lundi\"], \"type\": \"bar\", \"uid\": \"a56152d9-ba15-427e-bb6d-7ce6cd913698\"}], {\"margin\": {\"b\": 50, \"l\": 70, \"pad\": 4, \"r\": 50, \"t\": 50}, \"title\": \"<b>Worst day for the cantons</b>\", \"titlefont\": {\"color\": \"#7f7f7f\", \"family\": \"Courier New, monospace\", \"size\": 18}, \"xaxis\": {\"title\": \"Number of cantons\", \"titlefont\": {\"color\": \"#7f7f7f\", \"family\": \"Courier New, monospace\", \"size\": 15}}, \"yaxis\": {\"title\": \"Weekday\", \"titlefont\": {\"color\": \"#7f7f7f\", \"family\": \"Courier New, monospace\", \"size\": 15}}}, {\"showLink\": true, \"linkText\": \"Export to plot.ly\", \"plotlyServerURL\": \"https://plot.ly\"})});</script><script type=\"text/javascript\">window.addEventListener(\"resize\", function(){window._Plotly.Plots.resize(document.getElementById(\"5f0a563b-4f0e-4785-b957-3ea2e4966a3c\"));});</script>"
      ]
     },
     "metadata": {},
     "output_type": "display_data"
    }
   ],
   "source": [
    "# Group by cantons and weekday to get the number of accidents and create a\n",
    "# dataframe with the cantons as indices and the weekdays as columns\n",
    "df_day_canton = df_hacked_accident[['accidentday','canton', 'id']].\\\n",
    "        groupby(['accidentday', 'canton']).count().reset_index().\\\n",
    "        pivot(index='canton', columns='accidentday', values='id')\n",
    "\n",
    "# Get the worst day for each canton and then compute the number of cantons\n",
    "# for which each weekday was the worst\n",
    "worst_day_canton = pd.DataFrame(df_day_canton.idxmax('columns').reset_index()).\\\n",
    "        groupby(0).count()\n",
    "\n",
    "# Append Tuesday and Sunday that wouldn't appear in the plot otherwise and\n",
    "# profit to rename the data for a better plot below\n",
    "worst_day_canton = worst_day_canton.\\\n",
    "    append(pd.DataFrame({'canton' : pd.Series([0, 0], index=['mardi', 'dimanche'])})).\\\n",
    "    reindex(df_day.index).rename(columns = {'canton' : 'nb cantons'})\n",
    "\n",
    "# Plot the results with our function\n",
    "plot_dataframe(x=worst_day_canton, title=\"Worst day for the cantons\",\\\n",
    "               xlabel='Number of cantons', ylabel='Weekday', bars='barh',\\\n",
    "               labels=worst_day_canton.index, name_save='accident_canton_weekday',\\\n",
    "               margin=70)"
   ]
  },
  {
   "cell_type": "markdown",
   "metadata": {},
   "source": [
    "If we only look at this plot, it looks like the end of the week is tiring for people, almost every canton seems to have more accidents between Thursdays and Saturdays."
   ]
  },
  {
   "cell_type": "markdown",
   "metadata": {},
   "source": [
    "##### Hourly analysis"
   ]
  },
  {
   "cell_type": "code",
   "execution_count": 47,
   "metadata": {},
   "outputs": [
    {
     "data": {
      "application/vnd.plotly.v1+json": {
       "config": {
        "linkText": "Export to plot.ly",
        "plotlyServerURL": "https://plot.ly",
        "showLink": true
       },
       "data": [
        {
         "name": "lundi",
         "type": "scatter",
         "uid": "9c263bcb-1717-42f2-927a-e190b31149b9",
         "x": [
          "00h-01h",
          "01h-02h",
          "02h-03h",
          "03h-04h",
          "04h-05h",
          "05h-06h",
          "06h-07h",
          "07h-08h",
          "08h-09h",
          "09h-10h",
          "10h-11h",
          "11h-12h",
          "12h-13h",
          "13h-14h",
          "14h-15h",
          "15h-16h",
          "16h-17h",
          "17h-18h",
          "18h-19h",
          "19h-20h",
          "20h-21h",
          "21h-22h",
          "22h-23h",
          "23h-00h"
         ],
         "y": [
          122,
          76,
          36,
          68,
          88,
          186,
          905,
          1378,
          982,
          661,
          740,
          955,
          1010,
          1163,
          1007,
          1233,
          1577,
          2197,
          1341,
          685,
          474,
          305,
          261,
          165
         ]
        },
        {
         "name": "mardi",
         "type": "scatter",
         "uid": "3c6ba368-aea3-493a-a861-00b3d50b7a69",
         "x": [
          "00h-01h",
          "01h-02h",
          "02h-03h",
          "03h-04h",
          "04h-05h",
          "05h-06h",
          "06h-07h",
          "07h-08h",
          "08h-09h",
          "09h-10h",
          "10h-11h",
          "11h-12h",
          "12h-13h",
          "13h-14h",
          "14h-15h",
          "15h-16h",
          "16h-17h",
          "17h-18h",
          "18h-19h",
          "19h-20h",
          "20h-21h",
          "21h-22h",
          "22h-23h",
          "23h-00h"
         ],
         "y": [
          97,
          80,
          42,
          34,
          55,
          202,
          899,
          1485,
          1002,
          706,
          790,
          993,
          974,
          1130,
          988,
          1132,
          1510,
          2160,
          1485,
          834,
          458,
          319,
          299,
          189
         ]
        },
        {
         "name": "mercredi",
         "type": "scatter",
         "uid": "d70a2d79-3297-4f68-9a6f-15e6a7072b43",
         "x": [
          "00h-01h",
          "01h-02h",
          "02h-03h",
          "03h-04h",
          "04h-05h",
          "05h-06h",
          "06h-07h",
          "07h-08h",
          "08h-09h",
          "09h-10h",
          "10h-11h",
          "11h-12h",
          "12h-13h",
          "13h-14h",
          "14h-15h",
          "15h-16h",
          "16h-17h",
          "17h-18h",
          "18h-19h",
          "19h-20h",
          "20h-21h",
          "21h-22h",
          "22h-23h",
          "23h-00h"
         ],
         "y": [
          120,
          72,
          39,
          58,
          54,
          180,
          968,
          1517,
          953,
          722,
          781,
          1051,
          1100,
          1051,
          1094,
          1221,
          1515,
          2309,
          1538,
          871,
          466,
          363,
          335,
          215
         ]
        },
        {
         "name": "jeudi",
         "type": "scatter",
         "uid": "b431377c-bbec-4778-8f72-29ba287c7b4e",
         "x": [
          "00h-01h",
          "01h-02h",
          "02h-03h",
          "03h-04h",
          "04h-05h",
          "05h-06h",
          "06h-07h",
          "07h-08h",
          "08h-09h",
          "09h-10h",
          "10h-11h",
          "11h-12h",
          "12h-13h",
          "13h-14h",
          "14h-15h",
          "15h-16h",
          "16h-17h",
          "17h-18h",
          "18h-19h",
          "19h-20h",
          "20h-21h",
          "21h-22h",
          "22h-23h",
          "23h-00h"
         ],
         "y": [
          137,
          116,
          88,
          66,
          91,
          215,
          881,
          1638,
          1031,
          756,
          751,
          939,
          1116,
          1181,
          1120,
          1147,
          1679,
          2392,
          1514,
          890,
          585,
          368,
          384,
          302
         ]
        },
        {
         "name": "vendredi",
         "type": "scatter",
         "uid": "84740aec-a7db-4d4c-8ceb-3e553ba4f25e",
         "x": [
          "00h-01h",
          "01h-02h",
          "02h-03h",
          "03h-04h",
          "04h-05h",
          "05h-06h",
          "06h-07h",
          "07h-08h",
          "08h-09h",
          "09h-10h",
          "10h-11h",
          "11h-12h",
          "12h-13h",
          "13h-14h",
          "14h-15h",
          "15h-16h",
          "16h-17h",
          "17h-18h",
          "18h-19h",
          "19h-20h",
          "20h-21h",
          "21h-22h",
          "22h-23h",
          "23h-00h"
         ],
         "y": [
          238,
          182,
          112,
          105,
          99,
          211,
          838,
          1328,
          926,
          844,
          902,
          1295,
          1227,
          1367,
          1352,
          1523,
          2077,
          2279,
          1607,
          1010,
          611,
          514,
          496,
          456
         ]
        },
        {
         "name": "samedi",
         "type": "scatter",
         "uid": "3f796c25-caba-4f88-982a-a861610fce71",
         "x": [
          "00h-01h",
          "01h-02h",
          "02h-03h",
          "03h-04h",
          "04h-05h",
          "05h-06h",
          "06h-07h",
          "07h-08h",
          "08h-09h",
          "09h-10h",
          "10h-11h",
          "11h-12h",
          "12h-13h",
          "13h-14h",
          "14h-15h",
          "15h-16h",
          "16h-17h",
          "17h-18h",
          "18h-19h",
          "19h-20h",
          "20h-21h",
          "21h-22h",
          "22h-23h",
          "23h-00h"
         ],
         "y": [
          453,
          425,
          435,
          298,
          325,
          333,
          260,
          307,
          514,
          806,
          1073,
          1298,
          1238,
          1259,
          1480,
          1373,
          1375,
          1228,
          959,
          646,
          469,
          423,
          458,
          447
         ]
        },
        {
         "name": "dimanche",
         "type": "scatter",
         "uid": "c0959388-83d3-4dd4-ac58-6cfccc2fd8a4",
         "x": [
          "00h-01h",
          "01h-02h",
          "02h-03h",
          "03h-04h",
          "04h-05h",
          "05h-06h",
          "06h-07h",
          "07h-08h",
          "08h-09h",
          "09h-10h",
          "10h-11h",
          "11h-12h",
          "12h-13h",
          "13h-14h",
          "14h-15h",
          "15h-16h",
          "16h-17h",
          "17h-18h",
          "18h-19h",
          "19h-20h",
          "20h-21h",
          "21h-22h",
          "22h-23h",
          "23h-00h"
         ],
         "y": [
          359,
          406,
          383,
          401,
          366,
          350,
          227,
          204,
          212,
          380,
          514,
          748,
          705,
          722,
          886,
          1108,
          1024,
          1113,
          749,
          577,
          422,
          319,
          245,
          164
         ]
        }
       ],
       "layout": {
        "margin": {
         "b": 50,
         "l": 50,
         "pad": 4,
         "r": 50,
         "t": 50
        },
        "title": "<b>Hour of accidents per weekday</b>",
        "titlefont": {
         "color": "#7f7f7f",
         "family": "Courier New, monospace",
         "size": 18
        },
        "xaxis": {
         "title": "Hour of the day",
         "titlefont": {
          "color": "#7f7f7f",
          "family": "Courier New, monospace",
          "size": 15
         }
        },
        "yaxis": {
         "title": "Number of accidents",
         "titlefont": {
          "color": "#7f7f7f",
          "family": "Courier New, monospace",
          "size": 15
         }
        }
       }
      },
      "text/html": [
       "<div id=\"f43a1940-3ba7-451c-b211-c7d70e82208a\" style=\"height: 525px; width: 100%;\" class=\"plotly-graph-div\"></div><script type=\"text/javascript\">require([\"plotly\"], function(Plotly) { window.PLOTLYENV=window.PLOTLYENV || {};window.PLOTLYENV.BASE_URL=\"https://plot.ly\";Plotly.newPlot(\"f43a1940-3ba7-451c-b211-c7d70e82208a\", [{\"name\": \"lundi\", \"x\": [\"00h-01h\", \"01h-02h\", \"02h-03h\", \"03h-04h\", \"04h-05h\", \"05h-06h\", \"06h-07h\", \"07h-08h\", \"08h-09h\", \"09h-10h\", \"10h-11h\", \"11h-12h\", \"12h-13h\", \"13h-14h\", \"14h-15h\", \"15h-16h\", \"16h-17h\", \"17h-18h\", \"18h-19h\", \"19h-20h\", \"20h-21h\", \"21h-22h\", \"22h-23h\", \"23h-00h\"], \"y\": [122.0, 76.0, 36.0, 68.0, 88.0, 186.0, 905.0, 1378.0, 982.0, 661.0, 740.0, 955.0, 1010.0, 1163.0, 1007.0, 1233.0, 1577.0, 2197.0, 1341.0, 685.0, 474.0, 305.0, 261.0, 165.0], \"type\": \"scatter\", \"uid\": \"9c263bcb-1717-42f2-927a-e190b31149b9\"}, {\"name\": \"mardi\", \"x\": [\"00h-01h\", \"01h-02h\", \"02h-03h\", \"03h-04h\", \"04h-05h\", \"05h-06h\", \"06h-07h\", \"07h-08h\", \"08h-09h\", \"09h-10h\", \"10h-11h\", \"11h-12h\", \"12h-13h\", \"13h-14h\", \"14h-15h\", \"15h-16h\", \"16h-17h\", \"17h-18h\", \"18h-19h\", \"19h-20h\", \"20h-21h\", \"21h-22h\", \"22h-23h\", \"23h-00h\"], \"y\": [97.0, 80.0, 42.0, 34.0, 55.0, 202.0, 899.0, 1485.0, 1002.0, 706.0, 790.0, 993.0, 974.0, 1130.0, 988.0, 1132.0, 1510.0, 2160.0, 1485.0, 834.0, 458.0, 319.0, 299.0, 189.0], \"type\": \"scatter\", \"uid\": \"3c6ba368-aea3-493a-a861-00b3d50b7a69\"}, {\"name\": \"mercredi\", \"x\": [\"00h-01h\", \"01h-02h\", \"02h-03h\", \"03h-04h\", \"04h-05h\", \"05h-06h\", \"06h-07h\", \"07h-08h\", \"08h-09h\", \"09h-10h\", \"10h-11h\", \"11h-12h\", \"12h-13h\", \"13h-14h\", \"14h-15h\", \"15h-16h\", \"16h-17h\", \"17h-18h\", \"18h-19h\", \"19h-20h\", \"20h-21h\", \"21h-22h\", \"22h-23h\", \"23h-00h\"], \"y\": [120.0, 72.0, 39.0, 58.0, 54.0, 180.0, 968.0, 1517.0, 953.0, 722.0, 781.0, 1051.0, 1100.0, 1051.0, 1094.0, 1221.0, 1515.0, 2309.0, 1538.0, 871.0, 466.0, 363.0, 335.0, 215.0], \"type\": \"scatter\", \"uid\": \"d70a2d79-3297-4f68-9a6f-15e6a7072b43\"}, {\"name\": \"jeudi\", \"x\": [\"00h-01h\", \"01h-02h\", \"02h-03h\", \"03h-04h\", \"04h-05h\", \"05h-06h\", \"06h-07h\", \"07h-08h\", \"08h-09h\", \"09h-10h\", \"10h-11h\", \"11h-12h\", \"12h-13h\", \"13h-14h\", \"14h-15h\", \"15h-16h\", \"16h-17h\", \"17h-18h\", \"18h-19h\", \"19h-20h\", \"20h-21h\", \"21h-22h\", \"22h-23h\", \"23h-00h\"], \"y\": [137.0, 116.0, 88.0, 66.0, 91.0, 215.0, 881.0, 1638.0, 1031.0, 756.0, 751.0, 939.0, 1116.0, 1181.0, 1120.0, 1147.0, 1679.0, 2392.0, 1514.0, 890.0, 585.0, 368.0, 384.0, 302.0], \"type\": \"scatter\", \"uid\": \"b431377c-bbec-4778-8f72-29ba287c7b4e\"}, {\"name\": \"vendredi\", \"x\": [\"00h-01h\", \"01h-02h\", \"02h-03h\", \"03h-04h\", \"04h-05h\", \"05h-06h\", \"06h-07h\", \"07h-08h\", \"08h-09h\", \"09h-10h\", \"10h-11h\", \"11h-12h\", \"12h-13h\", \"13h-14h\", \"14h-15h\", \"15h-16h\", \"16h-17h\", \"17h-18h\", \"18h-19h\", \"19h-20h\", \"20h-21h\", \"21h-22h\", \"22h-23h\", \"23h-00h\"], \"y\": [238.0, 182.0, 112.0, 105.0, 99.0, 211.0, 838.0, 1328.0, 926.0, 844.0, 902.0, 1295.0, 1227.0, 1367.0, 1352.0, 1523.0, 2077.0, 2279.0, 1607.0, 1010.0, 611.0, 514.0, 496.0, 456.0], \"type\": \"scatter\", \"uid\": \"84740aec-a7db-4d4c-8ceb-3e553ba4f25e\"}, {\"name\": \"samedi\", \"x\": [\"00h-01h\", \"01h-02h\", \"02h-03h\", \"03h-04h\", \"04h-05h\", \"05h-06h\", \"06h-07h\", \"07h-08h\", \"08h-09h\", \"09h-10h\", \"10h-11h\", \"11h-12h\", \"12h-13h\", \"13h-14h\", \"14h-15h\", \"15h-16h\", \"16h-17h\", \"17h-18h\", \"18h-19h\", \"19h-20h\", \"20h-21h\", \"21h-22h\", \"22h-23h\", \"23h-00h\"], \"y\": [453.0, 425.0, 435.0, 298.0, 325.0, 333.0, 260.0, 307.0, 514.0, 806.0, 1073.0, 1298.0, 1238.0, 1259.0, 1480.0, 1373.0, 1375.0, 1228.0, 959.0, 646.0, 469.0, 423.0, 458.0, 447.0], \"type\": \"scatter\", \"uid\": \"3f796c25-caba-4f88-982a-a861610fce71\"}, {\"name\": \"dimanche\", \"x\": [\"00h-01h\", \"01h-02h\", \"02h-03h\", \"03h-04h\", \"04h-05h\", \"05h-06h\", \"06h-07h\", \"07h-08h\", \"08h-09h\", \"09h-10h\", \"10h-11h\", \"11h-12h\", \"12h-13h\", \"13h-14h\", \"14h-15h\", \"15h-16h\", \"16h-17h\", \"17h-18h\", \"18h-19h\", \"19h-20h\", \"20h-21h\", \"21h-22h\", \"22h-23h\", \"23h-00h\"], \"y\": [359.0, 406.0, 383.0, 401.0, 366.0, 350.0, 227.0, 204.0, 212.0, 380.0, 514.0, 748.0, 705.0, 722.0, 886.0, 1108.0, 1024.0, 1113.0, 749.0, 577.0, 422.0, 319.0, 245.0, 164.0], \"type\": \"scatter\", \"uid\": \"c0959388-83d3-4dd4-ac58-6cfccc2fd8a4\"}], {\"margin\": {\"b\": 50, \"l\": 50, \"pad\": 4, \"r\": 50, \"t\": 50}, \"title\": \"<b>Hour of accidents per weekday</b>\", \"titlefont\": {\"color\": \"#7f7f7f\", \"family\": \"Courier New, monospace\", \"size\": 18}, \"xaxis\": {\"title\": \"Hour of the day\", \"titlefont\": {\"color\": \"#7f7f7f\", \"family\": \"Courier New, monospace\", \"size\": 15}}, \"yaxis\": {\"title\": \"Number of accidents\", \"titlefont\": {\"color\": \"#7f7f7f\", \"family\": \"Courier New, monospace\", \"size\": 15}}}, {\"showLink\": true, \"linkText\": \"Export to plot.ly\", \"plotlyServerURL\": \"https://plot.ly\"})});</script><script type=\"text/javascript\">window.addEventListener(\"resize\", function(){window._Plotly.Plots.resize(document.getElementById(\"f43a1940-3ba7-451c-b211-c7d70e82208a\"));});</script>"
      ],
      "text/vnd.plotly.v1+html": [
       "<div id=\"f43a1940-3ba7-451c-b211-c7d70e82208a\" style=\"height: 525px; width: 100%;\" class=\"plotly-graph-div\"></div><script type=\"text/javascript\">require([\"plotly\"], function(Plotly) { window.PLOTLYENV=window.PLOTLYENV || {};window.PLOTLYENV.BASE_URL=\"https://plot.ly\";Plotly.newPlot(\"f43a1940-3ba7-451c-b211-c7d70e82208a\", [{\"name\": \"lundi\", \"x\": [\"00h-01h\", \"01h-02h\", \"02h-03h\", \"03h-04h\", \"04h-05h\", \"05h-06h\", \"06h-07h\", \"07h-08h\", \"08h-09h\", \"09h-10h\", \"10h-11h\", \"11h-12h\", \"12h-13h\", \"13h-14h\", \"14h-15h\", \"15h-16h\", \"16h-17h\", \"17h-18h\", \"18h-19h\", \"19h-20h\", \"20h-21h\", \"21h-22h\", \"22h-23h\", \"23h-00h\"], \"y\": [122.0, 76.0, 36.0, 68.0, 88.0, 186.0, 905.0, 1378.0, 982.0, 661.0, 740.0, 955.0, 1010.0, 1163.0, 1007.0, 1233.0, 1577.0, 2197.0, 1341.0, 685.0, 474.0, 305.0, 261.0, 165.0], \"type\": \"scatter\", \"uid\": \"9c263bcb-1717-42f2-927a-e190b31149b9\"}, {\"name\": \"mardi\", \"x\": [\"00h-01h\", \"01h-02h\", \"02h-03h\", \"03h-04h\", \"04h-05h\", \"05h-06h\", \"06h-07h\", \"07h-08h\", \"08h-09h\", \"09h-10h\", \"10h-11h\", \"11h-12h\", \"12h-13h\", \"13h-14h\", \"14h-15h\", \"15h-16h\", \"16h-17h\", \"17h-18h\", \"18h-19h\", \"19h-20h\", \"20h-21h\", \"21h-22h\", \"22h-23h\", \"23h-00h\"], \"y\": [97.0, 80.0, 42.0, 34.0, 55.0, 202.0, 899.0, 1485.0, 1002.0, 706.0, 790.0, 993.0, 974.0, 1130.0, 988.0, 1132.0, 1510.0, 2160.0, 1485.0, 834.0, 458.0, 319.0, 299.0, 189.0], \"type\": \"scatter\", \"uid\": \"3c6ba368-aea3-493a-a861-00b3d50b7a69\"}, {\"name\": \"mercredi\", \"x\": [\"00h-01h\", \"01h-02h\", \"02h-03h\", \"03h-04h\", \"04h-05h\", \"05h-06h\", \"06h-07h\", \"07h-08h\", \"08h-09h\", \"09h-10h\", \"10h-11h\", \"11h-12h\", \"12h-13h\", \"13h-14h\", \"14h-15h\", \"15h-16h\", \"16h-17h\", \"17h-18h\", \"18h-19h\", \"19h-20h\", \"20h-21h\", \"21h-22h\", \"22h-23h\", \"23h-00h\"], \"y\": [120.0, 72.0, 39.0, 58.0, 54.0, 180.0, 968.0, 1517.0, 953.0, 722.0, 781.0, 1051.0, 1100.0, 1051.0, 1094.0, 1221.0, 1515.0, 2309.0, 1538.0, 871.0, 466.0, 363.0, 335.0, 215.0], \"type\": \"scatter\", \"uid\": \"d70a2d79-3297-4f68-9a6f-15e6a7072b43\"}, {\"name\": \"jeudi\", \"x\": [\"00h-01h\", \"01h-02h\", \"02h-03h\", \"03h-04h\", \"04h-05h\", \"05h-06h\", \"06h-07h\", \"07h-08h\", \"08h-09h\", \"09h-10h\", \"10h-11h\", \"11h-12h\", \"12h-13h\", \"13h-14h\", \"14h-15h\", \"15h-16h\", \"16h-17h\", \"17h-18h\", \"18h-19h\", \"19h-20h\", \"20h-21h\", \"21h-22h\", \"22h-23h\", \"23h-00h\"], \"y\": [137.0, 116.0, 88.0, 66.0, 91.0, 215.0, 881.0, 1638.0, 1031.0, 756.0, 751.0, 939.0, 1116.0, 1181.0, 1120.0, 1147.0, 1679.0, 2392.0, 1514.0, 890.0, 585.0, 368.0, 384.0, 302.0], \"type\": \"scatter\", \"uid\": \"b431377c-bbec-4778-8f72-29ba287c7b4e\"}, {\"name\": \"vendredi\", \"x\": [\"00h-01h\", \"01h-02h\", \"02h-03h\", \"03h-04h\", \"04h-05h\", \"05h-06h\", \"06h-07h\", \"07h-08h\", \"08h-09h\", \"09h-10h\", \"10h-11h\", \"11h-12h\", \"12h-13h\", \"13h-14h\", \"14h-15h\", \"15h-16h\", \"16h-17h\", \"17h-18h\", \"18h-19h\", \"19h-20h\", \"20h-21h\", \"21h-22h\", \"22h-23h\", \"23h-00h\"], \"y\": [238.0, 182.0, 112.0, 105.0, 99.0, 211.0, 838.0, 1328.0, 926.0, 844.0, 902.0, 1295.0, 1227.0, 1367.0, 1352.0, 1523.0, 2077.0, 2279.0, 1607.0, 1010.0, 611.0, 514.0, 496.0, 456.0], \"type\": \"scatter\", \"uid\": \"84740aec-a7db-4d4c-8ceb-3e553ba4f25e\"}, {\"name\": \"samedi\", \"x\": [\"00h-01h\", \"01h-02h\", \"02h-03h\", \"03h-04h\", \"04h-05h\", \"05h-06h\", \"06h-07h\", \"07h-08h\", \"08h-09h\", \"09h-10h\", \"10h-11h\", \"11h-12h\", \"12h-13h\", \"13h-14h\", \"14h-15h\", \"15h-16h\", \"16h-17h\", \"17h-18h\", \"18h-19h\", \"19h-20h\", \"20h-21h\", \"21h-22h\", \"22h-23h\", \"23h-00h\"], \"y\": [453.0, 425.0, 435.0, 298.0, 325.0, 333.0, 260.0, 307.0, 514.0, 806.0, 1073.0, 1298.0, 1238.0, 1259.0, 1480.0, 1373.0, 1375.0, 1228.0, 959.0, 646.0, 469.0, 423.0, 458.0, 447.0], \"type\": \"scatter\", \"uid\": \"3f796c25-caba-4f88-982a-a861610fce71\"}, {\"name\": \"dimanche\", \"x\": [\"00h-01h\", \"01h-02h\", \"02h-03h\", \"03h-04h\", \"04h-05h\", \"05h-06h\", \"06h-07h\", \"07h-08h\", \"08h-09h\", \"09h-10h\", \"10h-11h\", \"11h-12h\", \"12h-13h\", \"13h-14h\", \"14h-15h\", \"15h-16h\", \"16h-17h\", \"17h-18h\", \"18h-19h\", \"19h-20h\", \"20h-21h\", \"21h-22h\", \"22h-23h\", \"23h-00h\"], \"y\": [359.0, 406.0, 383.0, 401.0, 366.0, 350.0, 227.0, 204.0, 212.0, 380.0, 514.0, 748.0, 705.0, 722.0, 886.0, 1108.0, 1024.0, 1113.0, 749.0, 577.0, 422.0, 319.0, 245.0, 164.0], \"type\": \"scatter\", \"uid\": \"c0959388-83d3-4dd4-ac58-6cfccc2fd8a4\"}], {\"margin\": {\"b\": 50, \"l\": 50, \"pad\": 4, \"r\": 50, \"t\": 50}, \"title\": \"<b>Hour of accidents per weekday</b>\", \"titlefont\": {\"color\": \"#7f7f7f\", \"family\": \"Courier New, monospace\", \"size\": 18}, \"xaxis\": {\"title\": \"Hour of the day\", \"titlefont\": {\"color\": \"#7f7f7f\", \"family\": \"Courier New, monospace\", \"size\": 15}}, \"yaxis\": {\"title\": \"Number of accidents\", \"titlefont\": {\"color\": \"#7f7f7f\", \"family\": \"Courier New, monospace\", \"size\": 15}}}, {\"showLink\": true, \"linkText\": \"Export to plot.ly\", \"plotlyServerURL\": \"https://plot.ly\"})});</script><script type=\"text/javascript\">window.addEventListener(\"resize\", function(){window._Plotly.Plots.resize(document.getElementById(\"f43a1940-3ba7-451c-b211-c7d70e82208a\"));});</script>"
      ]
     },
     "metadata": {},
     "output_type": "display_data"
    },
    {
     "data": {
      "application/vnd.plotly.v1+json": {
       "config": {
        "linkText": "Export to plot.ly",
        "plotlyServerURL": "https://plot.ly",
        "showLink": true
       },
       "data": [
        {
         "name": "vendredi",
         "type": "scatter",
         "uid": "5cee159d-1ccf-491d-8b19-c4f892ba8872",
         "x": [
          "00h-01h",
          "01h-02h",
          "02h-03h",
          "03h-04h",
          "04h-05h",
          "05h-06h",
          "06h-07h",
          "07h-08h",
          "08h-09h",
          "09h-10h",
          "10h-11h",
          "11h-12h",
          "12h-13h",
          "13h-14h",
          "14h-15h",
          "15h-16h",
          "16h-17h",
          "17h-18h",
          "18h-19h",
          "19h-20h",
          "20h-21h",
          "21h-22h",
          "22h-23h",
          "23h-00h"
         ],
         "y": [
          238,
          182,
          112,
          105,
          99,
          211,
          838,
          1328,
          926,
          844,
          902,
          1295,
          1227,
          1367,
          1352,
          1523,
          2077,
          2279,
          1607,
          1010,
          611,
          514,
          496,
          456
         ]
        },
        {
         "name": "samedi",
         "type": "scatter",
         "uid": "79dff2b4-9de1-46ca-a792-63a15b48c227",
         "x": [
          "00h-01h",
          "01h-02h",
          "02h-03h",
          "03h-04h",
          "04h-05h",
          "05h-06h",
          "06h-07h",
          "07h-08h",
          "08h-09h",
          "09h-10h",
          "10h-11h",
          "11h-12h",
          "12h-13h",
          "13h-14h",
          "14h-15h",
          "15h-16h",
          "16h-17h",
          "17h-18h",
          "18h-19h",
          "19h-20h",
          "20h-21h",
          "21h-22h",
          "22h-23h",
          "23h-00h"
         ],
         "y": [
          453,
          425,
          435,
          298,
          325,
          333,
          260,
          307,
          514,
          806,
          1073,
          1298,
          1238,
          1259,
          1480,
          1373,
          1375,
          1228,
          959,
          646,
          469,
          423,
          458,
          447
         ]
        },
        {
         "name": "dimanche",
         "type": "scatter",
         "uid": "4b49ea24-655f-4949-912a-935a47cba74e",
         "x": [
          "00h-01h",
          "01h-02h",
          "02h-03h",
          "03h-04h",
          "04h-05h",
          "05h-06h",
          "06h-07h",
          "07h-08h",
          "08h-09h",
          "09h-10h",
          "10h-11h",
          "11h-12h",
          "12h-13h",
          "13h-14h",
          "14h-15h",
          "15h-16h",
          "16h-17h",
          "17h-18h",
          "18h-19h",
          "19h-20h",
          "20h-21h",
          "21h-22h",
          "22h-23h",
          "23h-00h"
         ],
         "y": [
          359,
          406,
          383,
          401,
          366,
          350,
          227,
          204,
          212,
          380,
          514,
          748,
          705,
          722,
          886,
          1108,
          1024,
          1113,
          749,
          577,
          422,
          319,
          245,
          164
         ]
        }
       ],
       "layout": {
        "margin": {
         "b": 50,
         "l": 50,
         "pad": 4,
         "r": 50,
         "t": 50
        },
        "title": "<b>Special days</b>",
        "titlefont": {
         "color": "#7f7f7f",
         "family": "Courier New, monospace",
         "size": 18
        },
        "xaxis": {
         "title": "Hour of the day",
         "titlefont": {
          "color": "#7f7f7f",
          "family": "Courier New, monospace",
          "size": 15
         }
        },
        "yaxis": {
         "title": "Number of accidents",
         "titlefont": {
          "color": "#7f7f7f",
          "family": "Courier New, monospace",
          "size": 15
         }
        }
       }
      },
      "text/html": [
       "<div id=\"f98d9d5e-d3da-480d-b467-e3020fa6fe17\" style=\"height: 525px; width: 100%;\" class=\"plotly-graph-div\"></div><script type=\"text/javascript\">require([\"plotly\"], function(Plotly) { window.PLOTLYENV=window.PLOTLYENV || {};window.PLOTLYENV.BASE_URL=\"https://plot.ly\";Plotly.newPlot(\"f98d9d5e-d3da-480d-b467-e3020fa6fe17\", [{\"name\": \"vendredi\", \"x\": [\"00h-01h\", \"01h-02h\", \"02h-03h\", \"03h-04h\", \"04h-05h\", \"05h-06h\", \"06h-07h\", \"07h-08h\", \"08h-09h\", \"09h-10h\", \"10h-11h\", \"11h-12h\", \"12h-13h\", \"13h-14h\", \"14h-15h\", \"15h-16h\", \"16h-17h\", \"17h-18h\", \"18h-19h\", \"19h-20h\", \"20h-21h\", \"21h-22h\", \"22h-23h\", \"23h-00h\"], \"y\": [238.0, 182.0, 112.0, 105.0, 99.0, 211.0, 838.0, 1328.0, 926.0, 844.0, 902.0, 1295.0, 1227.0, 1367.0, 1352.0, 1523.0, 2077.0, 2279.0, 1607.0, 1010.0, 611.0, 514.0, 496.0, 456.0], \"type\": \"scatter\", \"uid\": \"5cee159d-1ccf-491d-8b19-c4f892ba8872\"}, {\"name\": \"samedi\", \"x\": [\"00h-01h\", \"01h-02h\", \"02h-03h\", \"03h-04h\", \"04h-05h\", \"05h-06h\", \"06h-07h\", \"07h-08h\", \"08h-09h\", \"09h-10h\", \"10h-11h\", \"11h-12h\", \"12h-13h\", \"13h-14h\", \"14h-15h\", \"15h-16h\", \"16h-17h\", \"17h-18h\", \"18h-19h\", \"19h-20h\", \"20h-21h\", \"21h-22h\", \"22h-23h\", \"23h-00h\"], \"y\": [453.0, 425.0, 435.0, 298.0, 325.0, 333.0, 260.0, 307.0, 514.0, 806.0, 1073.0, 1298.0, 1238.0, 1259.0, 1480.0, 1373.0, 1375.0, 1228.0, 959.0, 646.0, 469.0, 423.0, 458.0, 447.0], \"type\": \"scatter\", \"uid\": \"79dff2b4-9de1-46ca-a792-63a15b48c227\"}, {\"name\": \"dimanche\", \"x\": [\"00h-01h\", \"01h-02h\", \"02h-03h\", \"03h-04h\", \"04h-05h\", \"05h-06h\", \"06h-07h\", \"07h-08h\", \"08h-09h\", \"09h-10h\", \"10h-11h\", \"11h-12h\", \"12h-13h\", \"13h-14h\", \"14h-15h\", \"15h-16h\", \"16h-17h\", \"17h-18h\", \"18h-19h\", \"19h-20h\", \"20h-21h\", \"21h-22h\", \"22h-23h\", \"23h-00h\"], \"y\": [359.0, 406.0, 383.0, 401.0, 366.0, 350.0, 227.0, 204.0, 212.0, 380.0, 514.0, 748.0, 705.0, 722.0, 886.0, 1108.0, 1024.0, 1113.0, 749.0, 577.0, 422.0, 319.0, 245.0, 164.0], \"type\": \"scatter\", \"uid\": \"4b49ea24-655f-4949-912a-935a47cba74e\"}], {\"margin\": {\"b\": 50, \"l\": 50, \"pad\": 4, \"r\": 50, \"t\": 50}, \"title\": \"<b>Special days</b>\", \"titlefont\": {\"color\": \"#7f7f7f\", \"family\": \"Courier New, monospace\", \"size\": 18}, \"xaxis\": {\"title\": \"Hour of the day\", \"titlefont\": {\"color\": \"#7f7f7f\", \"family\": \"Courier New, monospace\", \"size\": 15}}, \"yaxis\": {\"title\": \"Number of accidents\", \"titlefont\": {\"color\": \"#7f7f7f\", \"family\": \"Courier New, monospace\", \"size\": 15}}}, {\"showLink\": true, \"linkText\": \"Export to plot.ly\", \"plotlyServerURL\": \"https://plot.ly\"})});</script><script type=\"text/javascript\">window.addEventListener(\"resize\", function(){window._Plotly.Plots.resize(document.getElementById(\"f98d9d5e-d3da-480d-b467-e3020fa6fe17\"));});</script>"
      ],
      "text/vnd.plotly.v1+html": [
       "<div id=\"f98d9d5e-d3da-480d-b467-e3020fa6fe17\" style=\"height: 525px; width: 100%;\" class=\"plotly-graph-div\"></div><script type=\"text/javascript\">require([\"plotly\"], function(Plotly) { window.PLOTLYENV=window.PLOTLYENV || {};window.PLOTLYENV.BASE_URL=\"https://plot.ly\";Plotly.newPlot(\"f98d9d5e-d3da-480d-b467-e3020fa6fe17\", [{\"name\": \"vendredi\", \"x\": [\"00h-01h\", \"01h-02h\", \"02h-03h\", \"03h-04h\", \"04h-05h\", \"05h-06h\", \"06h-07h\", \"07h-08h\", \"08h-09h\", \"09h-10h\", \"10h-11h\", \"11h-12h\", \"12h-13h\", \"13h-14h\", \"14h-15h\", \"15h-16h\", \"16h-17h\", \"17h-18h\", \"18h-19h\", \"19h-20h\", \"20h-21h\", \"21h-22h\", \"22h-23h\", \"23h-00h\"], \"y\": [238.0, 182.0, 112.0, 105.0, 99.0, 211.0, 838.0, 1328.0, 926.0, 844.0, 902.0, 1295.0, 1227.0, 1367.0, 1352.0, 1523.0, 2077.0, 2279.0, 1607.0, 1010.0, 611.0, 514.0, 496.0, 456.0], \"type\": \"scatter\", \"uid\": \"5cee159d-1ccf-491d-8b19-c4f892ba8872\"}, {\"name\": \"samedi\", \"x\": [\"00h-01h\", \"01h-02h\", \"02h-03h\", \"03h-04h\", \"04h-05h\", \"05h-06h\", \"06h-07h\", \"07h-08h\", \"08h-09h\", \"09h-10h\", \"10h-11h\", \"11h-12h\", \"12h-13h\", \"13h-14h\", \"14h-15h\", \"15h-16h\", \"16h-17h\", \"17h-18h\", \"18h-19h\", \"19h-20h\", \"20h-21h\", \"21h-22h\", \"22h-23h\", \"23h-00h\"], \"y\": [453.0, 425.0, 435.0, 298.0, 325.0, 333.0, 260.0, 307.0, 514.0, 806.0, 1073.0, 1298.0, 1238.0, 1259.0, 1480.0, 1373.0, 1375.0, 1228.0, 959.0, 646.0, 469.0, 423.0, 458.0, 447.0], \"type\": \"scatter\", \"uid\": \"79dff2b4-9de1-46ca-a792-63a15b48c227\"}, {\"name\": \"dimanche\", \"x\": [\"00h-01h\", \"01h-02h\", \"02h-03h\", \"03h-04h\", \"04h-05h\", \"05h-06h\", \"06h-07h\", \"07h-08h\", \"08h-09h\", \"09h-10h\", \"10h-11h\", \"11h-12h\", \"12h-13h\", \"13h-14h\", \"14h-15h\", \"15h-16h\", \"16h-17h\", \"17h-18h\", \"18h-19h\", \"19h-20h\", \"20h-21h\", \"21h-22h\", \"22h-23h\", \"23h-00h\"], \"y\": [359.0, 406.0, 383.0, 401.0, 366.0, 350.0, 227.0, 204.0, 212.0, 380.0, 514.0, 748.0, 705.0, 722.0, 886.0, 1108.0, 1024.0, 1113.0, 749.0, 577.0, 422.0, 319.0, 245.0, 164.0], \"type\": \"scatter\", \"uid\": \"4b49ea24-655f-4949-912a-935a47cba74e\"}], {\"margin\": {\"b\": 50, \"l\": 50, \"pad\": 4, \"r\": 50, \"t\": 50}, \"title\": \"<b>Special days</b>\", \"titlefont\": {\"color\": \"#7f7f7f\", \"family\": \"Courier New, monospace\", \"size\": 18}, \"xaxis\": {\"title\": \"Hour of the day\", \"titlefont\": {\"color\": \"#7f7f7f\", \"family\": \"Courier New, monospace\", \"size\": 15}}, \"yaxis\": {\"title\": \"Number of accidents\", \"titlefont\": {\"color\": \"#7f7f7f\", \"family\": \"Courier New, monospace\", \"size\": 15}}}, {\"showLink\": true, \"linkText\": \"Export to plot.ly\", \"plotlyServerURL\": \"https://plot.ly\"})});</script><script type=\"text/javascript\">window.addEventListener(\"resize\", function(){window._Plotly.Plots.resize(document.getElementById(\"f98d9d5e-d3da-480d-b467-e3020fa6fe17\"));});</script>"
      ]
     },
     "metadata": {},
     "output_type": "display_data"
    }
   ],
   "source": [
    "# Compute the number of accidents per hour and weekday, create a table,\n",
    "# rename the index and transpose it for the plot below\n",
    "df_hour = df_hacked_accident[['accidentday', 'accidenthour', 'id']].\\\n",
    "    groupby(['accidentday', 'accidenthour']).count().reset_index().\\\n",
    "    pivot(index='accidenthour', columns='accidentday', values='id').\\\n",
    "    reindex(columns = df_day.index).dropna(axis=0).transpose()\n",
    "\n",
    "# Plot the results\n",
    "plot_dataframe(x=df_hour.columns, y=df_hour, labels=df_hour.index,\\\n",
    "               title=\"Hour of accidents per weekday\",\\\n",
    "               xlabel='Hour of the day', ylabel='Number of accidents',name_save='accident_hour_weekday')\n",
    "\n",
    "# Plot the results for typical days\n",
    "plot_dataframe(x=df_hour.columns, y=df_hour[4:], labels=df_hour.index[4:],\\\n",
    "               title=\"Special days\", xlabel='Hour of the day',\\\n",
    "               ylabel='Number of accidents',name_save='accident_special_day')"
   ]
  },
  {
   "cell_type": "markdown",
   "metadata": {},
   "source": [
    "Apart from Saturdays and Sundays, we can see a very interesting pattern: all the week days are more or less following the exact same distribution! We identify two picks: one in the morning and one between 17h and 19h: this corresponds to the starting and ending working hours and is as expected. We can see a little bit more accidents on Fridays, corroborating our previous observations.\n",
    "\n",
    "Concerning the weekends, when people don't work, the patterns are clearly different, the two picks corresponding to the work hours disappeared and we observe less accidents in general. However, we see more of them in the early hours of the day, probably explained by the end of Fridays and Saturdays night."
   ]
  },
  {
   "cell_type": "markdown",
   "metadata": {},
   "source": [
    "##### Monthly analysis"
   ]
  },
  {
   "cell_type": "code",
   "execution_count": 48,
   "metadata": {
    "scrolled": false
   },
   "outputs": [
    {
     "data": {
      "application/vnd.plotly.v1+json": {
       "config": {
        "linkText": "Export to plot.ly",
        "plotlyServerURL": "https://plot.ly",
        "showLink": true
       },
       "data": [
        {
         "orientation": "h",
         "type": "bar",
         "uid": "e1c36730-ddef-4353-9701-28639f14744d",
         "x": [
          9153,
          11372,
          11850,
          11405,
          11982,
          12288,
          12749,
          12643,
          7200,
          9972,
          6543,
          8369
         ],
         "y": [
          "décembre",
          "novembre",
          "octobre",
          "septembre",
          "août",
          "juillet",
          "juin",
          "mai",
          "avril",
          "mars",
          "février",
          "janvier"
         ]
        }
       ],
       "layout": {
        "margin": {
         "b": 50,
         "l": 70,
         "pad": 4,
         "r": 50,
         "t": 50
        },
        "title": "<b>Accidents by month</b>",
        "titlefont": {
         "color": "#7f7f7f",
         "family": "Courier New, monospace",
         "size": 18
        },
        "xaxis": {
         "title": "Month",
         "titlefont": {
          "color": "#7f7f7f",
          "family": "Courier New, monospace",
          "size": 15
         }
        },
        "yaxis": {
         "title": "Number of accidents",
         "titlefont": {
          "color": "#7f7f7f",
          "family": "Courier New, monospace",
          "size": 15
         }
        }
       }
      },
      "text/html": [
       "<div id=\"8794d49a-9db6-463b-b9dc-10e714b14aa2\" style=\"height: 525px; width: 100%;\" class=\"plotly-graph-div\"></div><script type=\"text/javascript\">require([\"plotly\"], function(Plotly) { window.PLOTLYENV=window.PLOTLYENV || {};window.PLOTLYENV.BASE_URL=\"https://plot.ly\";Plotly.newPlot(\"8794d49a-9db6-463b-b9dc-10e714b14aa2\", [{\"orientation\": \"h\", \"x\": [9153, 11372, 11850, 11405, 11982, 12288, 12749, 12643, 7200, 9972, 6543, 8369], \"y\": [\"d\\u00e9cembre\", \"novembre\", \"octobre\", \"septembre\", \"ao\\u00fbt\", \"juillet\", \"juin\", \"mai\", \"avril\", \"mars\", \"f\\u00e9vrier\", \"janvier\"], \"type\": \"bar\", \"uid\": \"e1c36730-ddef-4353-9701-28639f14744d\"}], {\"margin\": {\"b\": 50, \"l\": 70, \"pad\": 4, \"r\": 50, \"t\": 50}, \"title\": \"<b>Accidents by month</b>\", \"titlefont\": {\"color\": \"#7f7f7f\", \"family\": \"Courier New, monospace\", \"size\": 18}, \"xaxis\": {\"title\": \"Month\", \"titlefont\": {\"color\": \"#7f7f7f\", \"family\": \"Courier New, monospace\", \"size\": 15}}, \"yaxis\": {\"title\": \"Number of accidents\", \"titlefont\": {\"color\": \"#7f7f7f\", \"family\": \"Courier New, monospace\", \"size\": 15}}}, {\"showLink\": true, \"linkText\": \"Export to plot.ly\", \"plotlyServerURL\": \"https://plot.ly\"})});</script><script type=\"text/javascript\">window.addEventListener(\"resize\", function(){window._Plotly.Plots.resize(document.getElementById(\"8794d49a-9db6-463b-b9dc-10e714b14aa2\"));});</script>"
      ],
      "text/vnd.plotly.v1+html": [
       "<div id=\"8794d49a-9db6-463b-b9dc-10e714b14aa2\" style=\"height: 525px; width: 100%;\" class=\"plotly-graph-div\"></div><script type=\"text/javascript\">require([\"plotly\"], function(Plotly) { window.PLOTLYENV=window.PLOTLYENV || {};window.PLOTLYENV.BASE_URL=\"https://plot.ly\";Plotly.newPlot(\"8794d49a-9db6-463b-b9dc-10e714b14aa2\", [{\"orientation\": \"h\", \"x\": [9153, 11372, 11850, 11405, 11982, 12288, 12749, 12643, 7200, 9972, 6543, 8369], \"y\": [\"d\\u00e9cembre\", \"novembre\", \"octobre\", \"septembre\", \"ao\\u00fbt\", \"juillet\", \"juin\", \"mai\", \"avril\", \"mars\", \"f\\u00e9vrier\", \"janvier\"], \"type\": \"bar\", \"uid\": \"e1c36730-ddef-4353-9701-28639f14744d\"}], {\"margin\": {\"b\": 50, \"l\": 70, \"pad\": 4, \"r\": 50, \"t\": 50}, \"title\": \"<b>Accidents by month</b>\", \"titlefont\": {\"color\": \"#7f7f7f\", \"family\": \"Courier New, monospace\", \"size\": 18}, \"xaxis\": {\"title\": \"Month\", \"titlefont\": {\"color\": \"#7f7f7f\", \"family\": \"Courier New, monospace\", \"size\": 15}}, \"yaxis\": {\"title\": \"Number of accidents\", \"titlefont\": {\"color\": \"#7f7f7f\", \"family\": \"Courier New, monospace\", \"size\": 15}}}, {\"showLink\": true, \"linkText\": \"Export to plot.ly\", \"plotlyServerURL\": \"https://plot.ly\"})});</script><script type=\"text/javascript\">window.addEventListener(\"resize\", function(){window._Plotly.Plots.resize(document.getElementById(\"8794d49a-9db6-463b-b9dc-10e714b14aa2\"));});</script>"
      ]
     },
     "metadata": {},
     "output_type": "display_data"
    }
   ],
   "source": [
    "# Compute the number of accidents per month, define the index and\n",
    "# rename the column for the plot below \n",
    "df_month = df_hacked_accident[['accidentmonth', 'id']].\\\n",
    "    groupby(['accidentmonth']).count().reindex(index=\\\n",
    "    ['janvier','février','mars','avril','mai','juin','juillet',\\\n",
    "     'août','septembre','octobre','novembre','décembre']).\\\n",
    "    rename(columns={'id':'Accidents'})\n",
    "    \n",
    "# Plot the results\n",
    "plot_dataframe(x=df_month, bars='bar', title=\"Accidents by month\",\\\n",
    "               xlabel='Month', ylabel='Number of accidents',\\\n",
    "               rotation=45,name_save='accident_month',margin=70)"
   ]
  },
  {
   "cell_type": "markdown",
   "metadata": {},
   "source": [
    "Surprisingly, we observe far more accidents in Summer, we the roads should be safer. We can thus imagine that the peole aren't carful enough during that time of the year."
   ]
  },
  {
   "cell_type": "markdown",
   "metadata": {},
   "source": [
    "We can also take a look at the evolution through the years. For it to be interesting, we use here another dataset conaining monthly information, but from 1992: `df_Accident_circonstances`. We can retrieve the months with the most accidents for each year and plot it to see the evolution."
   ]
  },
  {
   "cell_type": "code",
   "execution_count": 49,
   "metadata": {},
   "outputs": [
    {
     "data": {
      "text/html": [
       "<script type=\"text/javascript\">window.PlotlyConfig = {MathJaxConfig: 'local'};</script><script type=\"text/javascript\">if (window.MathJax) {MathJax.Hub.Config({SVG: {font: \"STIX-Web\"}});}</script><script>requirejs.config({paths: { 'plotly': ['https://cdn.plot.ly/plotly-latest.min']},});if(!window._Plotly) {require(['plotly'],function(plotly) {window._Plotly=plotly;});}</script>"
      ],
      "text/vnd.plotly.v1+html": [
       "<script type=\"text/javascript\">window.PlotlyConfig = {MathJaxConfig: 'local'};</script><script type=\"text/javascript\">if (window.MathJax) {MathJax.Hub.Config({SVG: {font: \"STIX-Web\"}});}</script><script>requirejs.config({paths: { 'plotly': ['https://cdn.plot.ly/plotly-latest.min']},});if(!window._Plotly) {require(['plotly'],function(plotly) {window._Plotly=plotly;});}</script>"
      ]
     },
     "metadata": {},
     "output_type": "display_data"
    },
    {
     "data": {
      "application/vnd.plotly.v1+json": {
       "config": {
        "linkText": "Export to plot.ly",
        "plotlyServerURL": "https://plot.ly",
        "showLink": true
       },
       "data": [
        {
         "mode": "markers",
         "name": "April",
         "type": "scatter",
         "uid": "cc1435bb-257d-4afa-9cc6-5df91b2e2d12",
         "x": [
          1992,
          1993,
          1994,
          1995,
          1996,
          1997,
          1998,
          1999,
          2000,
          2001,
          2002,
          2003,
          2004,
          2005,
          2006,
          2007,
          2008,
          2009,
          2010,
          2011,
          2012,
          2013,
          2014,
          2015,
          2016,
          2017
         ],
         "y": [
          null,
          null,
          null,
          null,
          null,
          null,
          null,
          null,
          null,
          null,
          null,
          null,
          null,
          null,
          null,
          1476,
          null,
          null,
          null,
          null,
          null,
          null,
          null,
          null,
          null,
          null
         ]
        },
        {
         "mode": "markers",
         "name": "May",
         "type": "scatter",
         "uid": "c7b71c4e-cfec-42c4-9cc7-a17a5c52dadd",
         "x": [
          1992,
          1993,
          1994,
          1995,
          1996,
          1997,
          1998,
          1999,
          2000,
          2001,
          2002,
          2003,
          2004,
          2005,
          2006,
          2007,
          2008,
          2009,
          2010,
          2011,
          2012,
          2013,
          2014,
          2015,
          2016,
          2017
         ],
         "y": [
          1683,
          null,
          1613,
          1721,
          null,
          null,
          1572,
          null,
          1650,
          1684,
          1598,
          null,
          1595,
          1510,
          null,
          null,
          null,
          1464,
          null,
          1388,
          null,
          null,
          null,
          null,
          null,
          1152
         ]
        },
        {
         "mode": "markers",
         "name": "June",
         "type": "scatter",
         "uid": "550e3a94-639b-4982-9ba4-24879be50628",
         "x": [
          1992,
          1993,
          1994,
          1995,
          1996,
          1997,
          1998,
          1999,
          2000,
          2001,
          2002,
          2003,
          2004,
          2005,
          2006,
          2007,
          2008,
          2009,
          2010,
          2011,
          2012,
          2013,
          2014,
          2015,
          2016,
          2017
         ],
         "y": [
          1647,
          1725,
          1819,
          1637,
          1639,
          null,
          1558,
          1683,
          null,
          1661,
          1644,
          1822,
          1593,
          1678,
          1559,
          1484,
          1530,
          null,
          1367,
          null,
          1227,
          1213,
          1266,
          1266,
          1170,
          1252
         ]
        },
        {
         "mode": "markers",
         "name": "July",
         "type": "scatter",
         "uid": "0c714bb7-5130-46f1-80c9-0394a6b99f28",
         "x": [
          1992,
          1993,
          1994,
          1995,
          1996,
          1997,
          1998,
          1999,
          2000,
          2001,
          2002,
          2003,
          2004,
          2005,
          2006,
          2007,
          2008,
          2009,
          2010,
          2011,
          2012,
          2013,
          2014,
          2015,
          2016,
          2017
         ],
         "y": [
          null,
          null,
          null,
          null,
          1516,
          null,
          null,
          null,
          null,
          null,
          null,
          null,
          null,
          null,
          null,
          null,
          1357,
          null,
          null,
          null,
          null,
          1163,
          null,
          1112,
          null,
          null
         ]
        },
        {
         "mode": "markers",
         "name": "August",
         "type": "scatter",
         "uid": "86091ea0-c17d-4017-8e4f-3ad75aa65b5b",
         "x": [
          1992,
          1993,
          1994,
          1995,
          1996,
          1997,
          1998,
          1999,
          2000,
          2001,
          2002,
          2003,
          2004,
          2005,
          2006,
          2007,
          2008,
          2009,
          2010,
          2011,
          2012,
          2013,
          2014,
          2015,
          2016,
          2017
         ],
         "y": [
          null,
          1595,
          null,
          null,
          null,
          1622,
          null,
          null,
          null,
          null,
          null,
          null,
          null,
          null,
          null,
          null,
          null,
          1434,
          null,
          null,
          1224,
          null,
          null,
          null,
          null,
          null
         ]
        },
        {
         "mode": "markers",
         "name": "September",
         "type": "scatter",
         "uid": "0f4ee17e-96f1-4b11-b72e-083cee36a4f2",
         "x": [
          1992,
          1993,
          1994,
          1995,
          1996,
          1997,
          1998,
          1999,
          2000,
          2001,
          2002,
          2003,
          2004,
          2005,
          2006,
          2007,
          2008,
          2009,
          2010,
          2011,
          2012,
          2013,
          2014,
          2015,
          2016,
          2017
         ],
         "y": [
          null,
          null,
          null,
          null,
          null,
          1551,
          null,
          1710,
          1664,
          null,
          null,
          1649,
          null,
          null,
          1488,
          null,
          null,
          null,
          1385,
          1323,
          null,
          null,
          1177,
          null,
          1230,
          null
         ]
        }
       ],
       "layout": {
        "title": "Accidents by month for the 2 months with the most accidents each year",
        "titlefont": {
         "color": "#7f7f7f",
         "family": "Courier New, monospace",
         "size": 18
        },
        "xaxis": {
         "title": "Year",
         "titlefont": {
          "color": "#7f7f7f",
          "family": "Courier New, monospace",
          "size": 15
         }
        },
        "yaxis": {
         "title": "Number of accidents",
         "titlefont": {
          "color": "#7f7f7f",
          "family": "Courier New, monospace",
          "size": 15
         }
        }
       }
      },
      "text/html": [
       "<div id=\"8f118c9d-cfa1-4842-8f24-daea719580f5\" style=\"height: 525px; width: 100%;\" class=\"plotly-graph-div\"></div><script type=\"text/javascript\">require([\"plotly\"], function(Plotly) { window.PLOTLYENV=window.PLOTLYENV || {};window.PLOTLYENV.BASE_URL=\"https://plot.ly\";Plotly.newPlot(\"8f118c9d-cfa1-4842-8f24-daea719580f5\", [{\"mode\": \"markers\", \"name\": \"April\", \"x\": [1992, 1993, 1994, 1995, 1996, 1997, 1998, 1999, 2000, 2001, 2002, 2003, 2004, 2005, 2006, 2007, 2008, 2009, 2010, 2011, 2012, 2013, 2014, 2015, 2016, 2017], \"y\": [null, null, null, null, null, null, null, null, null, null, null, null, null, null, null, 1476.0, null, null, null, null, null, null, null, null, null, null], \"type\": \"scatter\", \"uid\": \"cc1435bb-257d-4afa-9cc6-5df91b2e2d12\"}, {\"mode\": \"markers\", \"name\": \"May\", \"x\": [1992, 1993, 1994, 1995, 1996, 1997, 1998, 1999, 2000, 2001, 2002, 2003, 2004, 2005, 2006, 2007, 2008, 2009, 2010, 2011, 2012, 2013, 2014, 2015, 2016, 2017], \"y\": [1683.0, null, 1613.0, 1721.0, null, null, 1572.0, null, 1650.0, 1684.0, 1598.0, null, 1595.0, 1510.0, null, null, null, 1464.0, null, 1388.0, null, null, null, null, null, 1152.0], \"type\": \"scatter\", \"uid\": \"c7b71c4e-cfec-42c4-9cc7-a17a5c52dadd\"}, {\"mode\": \"markers\", \"name\": \"June\", \"x\": [1992, 1993, 1994, 1995, 1996, 1997, 1998, 1999, 2000, 2001, 2002, 2003, 2004, 2005, 2006, 2007, 2008, 2009, 2010, 2011, 2012, 2013, 2014, 2015, 2016, 2017], \"y\": [1647.0, 1725.0, 1819.0, 1637.0, 1639.0, null, 1558.0, 1683.0, null, 1661.0, 1644.0, 1822.0, 1593.0, 1678.0, 1559.0, 1484.0, 1530.0, null, 1367.0, null, 1227.0, 1213.0, 1266.0, 1266.0, 1170.0, 1252.0], \"type\": \"scatter\", \"uid\": \"550e3a94-639b-4982-9ba4-24879be50628\"}, {\"mode\": \"markers\", \"name\": \"July\", \"x\": [1992, 1993, 1994, 1995, 1996, 1997, 1998, 1999, 2000, 2001, 2002, 2003, 2004, 2005, 2006, 2007, 2008, 2009, 2010, 2011, 2012, 2013, 2014, 2015, 2016, 2017], \"y\": [null, null, null, null, 1516.0, null, null, null, null, null, null, null, null, null, null, null, 1357.0, null, null, null, null, 1163.0, null, 1112.0, null, null], \"type\": \"scatter\", \"uid\": \"0c714bb7-5130-46f1-80c9-0394a6b99f28\"}, {\"mode\": \"markers\", \"name\": \"August\", \"x\": [1992, 1993, 1994, 1995, 1996, 1997, 1998, 1999, 2000, 2001, 2002, 2003, 2004, 2005, 2006, 2007, 2008, 2009, 2010, 2011, 2012, 2013, 2014, 2015, 2016, 2017], \"y\": [null, 1595.0, null, null, null, 1622.0, null, null, null, null, null, null, null, null, null, null, null, 1434.0, null, null, 1224.0, null, null, null, null, null], \"type\": \"scatter\", \"uid\": \"86091ea0-c17d-4017-8e4f-3ad75aa65b5b\"}, {\"mode\": \"markers\", \"name\": \"September\", \"x\": [1992, 1993, 1994, 1995, 1996, 1997, 1998, 1999, 2000, 2001, 2002, 2003, 2004, 2005, 2006, 2007, 2008, 2009, 2010, 2011, 2012, 2013, 2014, 2015, 2016, 2017], \"y\": [null, null, null, null, null, 1551.0, null, 1710.0, 1664.0, null, null, 1649.0, null, null, 1488.0, null, null, null, 1385.0, 1323.0, null, null, 1177.0, null, 1230.0, null], \"type\": \"scatter\", \"uid\": \"0f4ee17e-96f1-4b11-b72e-083cee36a4f2\"}], {\"title\": \"Accidents by month for the 2 months with the most accidents each year\", \"titlefont\": {\"color\": \"#7f7f7f\", \"family\": \"Courier New, monospace\", \"size\": 18}, \"xaxis\": {\"title\": \"Year\", \"titlefont\": {\"color\": \"#7f7f7f\", \"family\": \"Courier New, monospace\", \"size\": 15}}, \"yaxis\": {\"title\": \"Number of accidents\", \"titlefont\": {\"color\": \"#7f7f7f\", \"family\": \"Courier New, monospace\", \"size\": 15}}}, {\"showLink\": true, \"linkText\": \"Export to plot.ly\", \"plotlyServerURL\": \"https://plot.ly\"})});</script><script type=\"text/javascript\">window.addEventListener(\"resize\", function(){window._Plotly.Plots.resize(document.getElementById(\"8f118c9d-cfa1-4842-8f24-daea719580f5\"));});</script>"
      ],
      "text/vnd.plotly.v1+html": [
       "<div id=\"8f118c9d-cfa1-4842-8f24-daea719580f5\" style=\"height: 525px; width: 100%;\" class=\"plotly-graph-div\"></div><script type=\"text/javascript\">require([\"plotly\"], function(Plotly) { window.PLOTLYENV=window.PLOTLYENV || {};window.PLOTLYENV.BASE_URL=\"https://plot.ly\";Plotly.newPlot(\"8f118c9d-cfa1-4842-8f24-daea719580f5\", [{\"mode\": \"markers\", \"name\": \"April\", \"x\": [1992, 1993, 1994, 1995, 1996, 1997, 1998, 1999, 2000, 2001, 2002, 2003, 2004, 2005, 2006, 2007, 2008, 2009, 2010, 2011, 2012, 2013, 2014, 2015, 2016, 2017], \"y\": [null, null, null, null, null, null, null, null, null, null, null, null, null, null, null, 1476.0, null, null, null, null, null, null, null, null, null, null], \"type\": \"scatter\", \"uid\": \"cc1435bb-257d-4afa-9cc6-5df91b2e2d12\"}, {\"mode\": \"markers\", \"name\": \"May\", \"x\": [1992, 1993, 1994, 1995, 1996, 1997, 1998, 1999, 2000, 2001, 2002, 2003, 2004, 2005, 2006, 2007, 2008, 2009, 2010, 2011, 2012, 2013, 2014, 2015, 2016, 2017], \"y\": [1683.0, null, 1613.0, 1721.0, null, null, 1572.0, null, 1650.0, 1684.0, 1598.0, null, 1595.0, 1510.0, null, null, null, 1464.0, null, 1388.0, null, null, null, null, null, 1152.0], \"type\": \"scatter\", \"uid\": \"c7b71c4e-cfec-42c4-9cc7-a17a5c52dadd\"}, {\"mode\": \"markers\", \"name\": \"June\", \"x\": [1992, 1993, 1994, 1995, 1996, 1997, 1998, 1999, 2000, 2001, 2002, 2003, 2004, 2005, 2006, 2007, 2008, 2009, 2010, 2011, 2012, 2013, 2014, 2015, 2016, 2017], \"y\": [1647.0, 1725.0, 1819.0, 1637.0, 1639.0, null, 1558.0, 1683.0, null, 1661.0, 1644.0, 1822.0, 1593.0, 1678.0, 1559.0, 1484.0, 1530.0, null, 1367.0, null, 1227.0, 1213.0, 1266.0, 1266.0, 1170.0, 1252.0], \"type\": \"scatter\", \"uid\": \"550e3a94-639b-4982-9ba4-24879be50628\"}, {\"mode\": \"markers\", \"name\": \"July\", \"x\": [1992, 1993, 1994, 1995, 1996, 1997, 1998, 1999, 2000, 2001, 2002, 2003, 2004, 2005, 2006, 2007, 2008, 2009, 2010, 2011, 2012, 2013, 2014, 2015, 2016, 2017], \"y\": [null, null, null, null, 1516.0, null, null, null, null, null, null, null, null, null, null, null, 1357.0, null, null, null, null, 1163.0, null, 1112.0, null, null], \"type\": \"scatter\", \"uid\": \"0c714bb7-5130-46f1-80c9-0394a6b99f28\"}, {\"mode\": \"markers\", \"name\": \"August\", \"x\": [1992, 1993, 1994, 1995, 1996, 1997, 1998, 1999, 2000, 2001, 2002, 2003, 2004, 2005, 2006, 2007, 2008, 2009, 2010, 2011, 2012, 2013, 2014, 2015, 2016, 2017], \"y\": [null, 1595.0, null, null, null, 1622.0, null, null, null, null, null, null, null, null, null, null, null, 1434.0, null, null, 1224.0, null, null, null, null, null], \"type\": \"scatter\", \"uid\": \"86091ea0-c17d-4017-8e4f-3ad75aa65b5b\"}, {\"mode\": \"markers\", \"name\": \"September\", \"x\": [1992, 1993, 1994, 1995, 1996, 1997, 1998, 1999, 2000, 2001, 2002, 2003, 2004, 2005, 2006, 2007, 2008, 2009, 2010, 2011, 2012, 2013, 2014, 2015, 2016, 2017], \"y\": [null, null, null, null, null, 1551.0, null, 1710.0, 1664.0, null, null, 1649.0, null, null, 1488.0, null, null, null, 1385.0, 1323.0, null, null, 1177.0, null, 1230.0, null], \"type\": \"scatter\", \"uid\": \"0f4ee17e-96f1-4b11-b72e-083cee36a4f2\"}], {\"title\": \"Accidents by month for the 2 months with the most accidents each year\", \"titlefont\": {\"color\": \"#7f7f7f\", \"family\": \"Courier New, monospace\", \"size\": 18}, \"xaxis\": {\"title\": \"Year\", \"titlefont\": {\"color\": \"#7f7f7f\", \"family\": \"Courier New, monospace\", \"size\": 15}}, \"yaxis\": {\"title\": \"Number of accidents\", \"titlefont\": {\"color\": \"#7f7f7f\", \"family\": \"Courier New, monospace\", \"size\": 15}}}, {\"showLink\": true, \"linkText\": \"Export to plot.ly\", \"plotlyServerURL\": \"https://plot.ly\"})});</script><script type=\"text/javascript\">window.addEventListener(\"resize\", function(){window._Plotly.Plots.resize(document.getElementById(\"8f118c9d-cfa1-4842-8f24-daea719580f5\"));});</script>"
      ]
     },
     "metadata": {},
     "output_type": "display_data"
    }
   ],
   "source": [
    "# Number of months to plot for each year\n",
    "months_to_plot = 2\n",
    "\n",
    "# Group by month and only keep the biggest values\n",
    "monthly_basis = df_Accident_circonstances.groupby('mois_index').sum().\\\n",
    "                    reset_index().apply(lambda x: x.nlargest(months_to_plot))\n",
    "\n",
    "# Plot the results (we cannot use our function here)\n",
    "if plotly_ready != True:\n",
    "    plt.figure(figsize=(12,7))\n",
    "    for month in range(monthly_basis.shape[0]):\n",
    "        to_plot = monthly_basis.iloc[month].values[6:]\n",
    "        # Check if there is something to plot: this will control the labels and\n",
    "        # not print the names of the months that don't appear in the plot\n",
    "        if len(to_plot[np.isnan(to_plot)==False]) != 0:\n",
    "            # Scatter plot, where the months indices are transformed to strings\n",
    "            plt.scatter(np.arange(1992,2018,1), monthly_basis.iloc[month].values[6:],\\\n",
    "                label=datetime.date(1900, int(monthly_basis.index[month]+1), 1).strftime('%B'))\n",
    "    # Customization\n",
    "    plt.title('Accidents by month for the {} months with the most accidents each year'.\\\n",
    "              format(months_to_plot), fontsize=23)\n",
    "    plt.legend(fontsize=10, loc=\"best\", bbox_to_anchor=(1,1))\n",
    "    plt.xticks(fontsize=12)\n",
    "    plt.yticks(fontsize=12)\n",
    "    plt.xlabel('Year', fontsize=15)\n",
    "    plt.ylabel('Number of accidents', fontsize=15)\n",
    "    plt.savefig(PLOT_FOLDER+'accident_2months'+'.png')\n",
    "    plt.show()\n",
    "\n",
    "else:\n",
    "    traces = []\n",
    "    for month in range(monthly_basis.shape[0]):\n",
    "        to_plot = monthly_basis.iloc[month].values[6:]\n",
    "        # Check if there is something to plot: this will control the labels and\n",
    "        # not print the names of the months that don't appear in the plot\n",
    "        if len(to_plot[np.isnan(to_plot)==False]) != 0:\n",
    "            # Scatter plot, where the months indices are transformed to strings\n",
    "            traces.append(go.Scatter(x=np.arange(1992,2018,1),y=monthly_basis.iloc[month].values[6:],name=datetime.date(1900, int(monthly_basis.index[month]+1), 1).strftime('%B'),mode = 'markers'))\n",
    "    # Customization\n",
    "    layout = go.Layout(\n",
    "            title='Accidents by month for the {} months with the most accidents each year'.\\\n",
    "              format(months_to_plot),\n",
    "            titlefont=dict(\n",
    "                    family='Courier New, monospace',\n",
    "                    size=18,\n",
    "                    color='#7f7f7f'\n",
    "                ),\n",
    "            xaxis=dict(\n",
    "                title='Year',\n",
    "                titlefont=dict(\n",
    "                    family='Courier New, monospace',\n",
    "                    size=15,\n",
    "                    color='#7f7f7f'\n",
    "                )\n",
    "            ),\n",
    "            yaxis=dict(\n",
    "                title='Number of accidents',\n",
    "                titlefont=dict(\n",
    "                    family='Courier New, monospace',\n",
    "                    size=15,\n",
    "                    color='#7f7f7f'\n",
    "                )\n",
    "            )\n",
    "        )\n",
    "    init_notebook_mode(connected=True)\n",
    "    fig = go.Figure(data=traces,layout=layout)\n",
    "    iplot(fig)\n",
    "    plot(fig,PLOT_FOLDER+'accident_2months'+'.html',auto_open=False)\n",
    "\n"
   ]
  },
  {
   "cell_type": "markdown",
   "metadata": {},
   "source": [
    "The months appearing in the plos above are what we expected: months from the Summer period. We see the usual pick in the early 2000's and a general decrease."
   ]
  },
  {
   "cell_type": "markdown",
   "metadata": {},
   "source": [
    "> This dataset might provide some relevant outcomes regarding the decision makers (drivers and/or walkers)"
   ]
  },
  {
   "cell_type": "markdown",
   "metadata": {},
   "source": [
    "> One more time, since decision makers want to minimize the number of victims, some outcoming correlations between the vehicle type and the accidents for example might be useful in our study. "
   ]
  },
  {
   "cell_type": "markdown",
   "metadata": {},
   "source": [
    "### 1.4 Why?"
   ]
  },
  {
   "cell_type": "markdown",
   "metadata": {},
   "source": [
    "Let's take a look at the different reasons explaining the accidents (except for the road conditions that were analyzed before). We start again from our 'hacked' dataset, and it provides information about the exact circumstances of the accidents."
   ]
  },
  {
   "cell_type": "code",
   "execution_count": 50,
   "metadata": {},
   "outputs": [
    {
     "data": {
      "application/vnd.plotly.v1+json": {
       "config": {
        "linkText": "Export to plot.ly",
        "plotlyServerURL": "https://plot.ly",
        "showLink": true
       },
       "data": [
        {
         "orientation": "h",
         "type": "bar",
         "uid": "2c46c495-ec82-4d89-96c5-88b4776461b9",
         "x": [
          529,
          957,
          1666,
          4951,
          5857,
          6308,
          10446,
          14915,
          15388,
          26628,
          37881
         ],
         "y": [
          "accident impliquant des animaux",
          "autres",
          "accident en parquant",
          "collision frontale",
          "dépacement ou changement de voie",
          "accident en traversant une route",
          "accident en quittant une route",
          "accident impliquant des piétons",
          "accident en s'engageant sur une route",
          "accident par tamponnement",
          "dérapage ou perte de maîtrise"
         ]
        }
       ],
       "layout": {
        "margin": {
         "b": 50,
         "l": 250,
         "pad": 4,
         "r": 50,
         "t": 50
        },
        "title": "<b>Circumstances of the accidents</b>",
        "titlefont": {
         "color": "#7f7f7f",
         "family": "Courier New, monospace",
         "size": 18
        },
        "xaxis": {
         "title": "Number of accidents",
         "titlefont": {
          "color": "#7f7f7f",
          "family": "Courier New, monospace",
          "size": 15
         }
        },
        "yaxis": {
         "title": "Circumstance",
         "titlefont": {
          "color": "#7f7f7f",
          "family": "Courier New, monospace",
          "size": 15
         }
        }
       }
      },
      "text/html": [
       "<div id=\"f7eb7753-ee3a-4ef7-be62-78b25f6d06b8\" style=\"height: 525px; width: 100%;\" class=\"plotly-graph-div\"></div><script type=\"text/javascript\">require([\"plotly\"], function(Plotly) { window.PLOTLYENV=window.PLOTLYENV || {};window.PLOTLYENV.BASE_URL=\"https://plot.ly\";Plotly.newPlot(\"f7eb7753-ee3a-4ef7-be62-78b25f6d06b8\", [{\"orientation\": \"h\", \"x\": [529, 957, 1666, 4951, 5857, 6308, 10446, 14915, 15388, 26628, 37881], \"y\": [\"accident impliquant des animaux\", \"autres\", \"accident en parquant\", \"collision frontale\", \"d\\u00e9pacement ou changement de voie\", \"accident en traversant une route\", \"accident en quittant une route\", \"accident impliquant des pi\\u00e9tons\", \"accident en s'engageant sur une route\", \"accident par tamponnement\", \"d\\u00e9rapage ou perte de ma\\u00eetrise\"], \"type\": \"bar\", \"uid\": \"2c46c495-ec82-4d89-96c5-88b4776461b9\"}], {\"margin\": {\"b\": 50, \"l\": 250, \"pad\": 4, \"r\": 50, \"t\": 50}, \"title\": \"<b>Circumstances of the accidents</b>\", \"titlefont\": {\"color\": \"#7f7f7f\", \"family\": \"Courier New, monospace\", \"size\": 18}, \"xaxis\": {\"title\": \"Number of accidents\", \"titlefont\": {\"color\": \"#7f7f7f\", \"family\": \"Courier New, monospace\", \"size\": 15}}, \"yaxis\": {\"title\": \"Circumstance\", \"titlefont\": {\"color\": \"#7f7f7f\", \"family\": \"Courier New, monospace\", \"size\": 15}}}, {\"showLink\": true, \"linkText\": \"Export to plot.ly\", \"plotlyServerURL\": \"https://plot.ly\"})});</script><script type=\"text/javascript\">window.addEventListener(\"resize\", function(){window._Plotly.Plots.resize(document.getElementById(\"f7eb7753-ee3a-4ef7-be62-78b25f6d06b8\"));});</script>"
      ],
      "text/vnd.plotly.v1+html": [
       "<div id=\"f7eb7753-ee3a-4ef7-be62-78b25f6d06b8\" style=\"height: 525px; width: 100%;\" class=\"plotly-graph-div\"></div><script type=\"text/javascript\">require([\"plotly\"], function(Plotly) { window.PLOTLYENV=window.PLOTLYENV || {};window.PLOTLYENV.BASE_URL=\"https://plot.ly\";Plotly.newPlot(\"f7eb7753-ee3a-4ef7-be62-78b25f6d06b8\", [{\"orientation\": \"h\", \"x\": [529, 957, 1666, 4951, 5857, 6308, 10446, 14915, 15388, 26628, 37881], \"y\": [\"accident impliquant des animaux\", \"autres\", \"accident en parquant\", \"collision frontale\", \"d\\u00e9pacement ou changement de voie\", \"accident en traversant une route\", \"accident en quittant une route\", \"accident impliquant des pi\\u00e9tons\", \"accident en s'engageant sur une route\", \"accident par tamponnement\", \"d\\u00e9rapage ou perte de ma\\u00eetrise\"], \"type\": \"bar\", \"uid\": \"2c46c495-ec82-4d89-96c5-88b4776461b9\"}], {\"margin\": {\"b\": 50, \"l\": 250, \"pad\": 4, \"r\": 50, \"t\": 50}, \"title\": \"<b>Circumstances of the accidents</b>\", \"titlefont\": {\"color\": \"#7f7f7f\", \"family\": \"Courier New, monospace\", \"size\": 18}, \"xaxis\": {\"title\": \"Number of accidents\", \"titlefont\": {\"color\": \"#7f7f7f\", \"family\": \"Courier New, monospace\", \"size\": 15}}, \"yaxis\": {\"title\": \"Circumstance\", \"titlefont\": {\"color\": \"#7f7f7f\", \"family\": \"Courier New, monospace\", \"size\": 15}}}, {\"showLink\": true, \"linkText\": \"Export to plot.ly\", \"plotlyServerURL\": \"https://plot.ly\"})});</script><script type=\"text/javascript\">window.addEventListener(\"resize\", function(){window._Plotly.Plots.resize(document.getElementById(\"f7eb7753-ee3a-4ef7-be62-78b25f6d06b8\"));});</script>"
      ]
     },
     "metadata": {},
     "output_type": "display_data"
    }
   ],
   "source": [
    "# Get the accidents for each recorded circumstance, sort them to have a nice plot\n",
    "# Rename the column and one index to facilitate the plot below\n",
    "df_circumstance = df_hacked_accident[['accidenttype', 'id']].groupby('accidenttype').\\\n",
    "    count().sort_values('id').rename(columns = {'id' : 'nb accidents'},\\\n",
    "    index={\"accident lors d'un dépassement ou lors d'un changement de voie de circulation\":\\\n",
    "           'dépacement ou changement de voie'})\n",
    "\n",
    "# Plot the results\n",
    "plot_dataframe(x=df_circumstance[::-1], bars='barh', title=\"Circumstances of the accidents\",\\\n",
    "               xlabel='Number of accidents', ylabel='Circumstance',\\\n",
    "               name_save='accident_circumstances',margin=250)"
   ]
  },
  {
   "cell_type": "markdown",
   "metadata": {},
   "source": [
    "We can see that the three first circumstances are losses of control, collisions and accidents while entering a road. The incidents involving pedestrians come just after. It is interesting to see that most accidents seem to arise from individual mistakes from the drivers.\n",
    "\n",
    "Let's take a closer look at the biggest reason behind accidents: skids (losses of control)."
   ]
  },
  {
   "cell_type": "code",
   "execution_count": 51,
   "metadata": {},
   "outputs": [
    {
     "data": {
      "application/vnd.plotly.v1+json": {
       "config": {
        "linkText": "Export to plot.ly",
        "plotlyServerURL": "https://plot.ly",
        "showLink": true
       },
       "data": [
        {
         "orientation": "h",
         "type": "bar",
         "uid": "89f01055-89fe-4b14-9ec2-de16d66ee7fc",
         "x": [
          2723,
          2780,
          3449,
          3428,
          3924,
          4344,
          4092,
          4083,
          2064,
          2652,
          1774,
          2568
         ],
         "y": [
          "décembre",
          "novembre",
          "octobre",
          "septembre",
          "août",
          "juillet",
          "juin",
          "mai",
          "avril",
          "mars",
          "février",
          "janvier"
         ]
        }
       ],
       "layout": {
        "margin": {
         "b": 50,
         "l": 70,
         "pad": 4,
         "r": 50,
         "t": 50
        },
        "title": "<b>Skids leading to accidents</b>",
        "titlefont": {
         "color": "#7f7f7f",
         "family": "Courier New, monospace",
         "size": 18
        },
        "xaxis": {
         "title": "Month",
         "titlefont": {
          "color": "#7f7f7f",
          "family": "Courier New, monospace",
          "size": 15
         }
        },
        "yaxis": {
         "title": "Number of accidents",
         "titlefont": {
          "color": "#7f7f7f",
          "family": "Courier New, monospace",
          "size": 15
         }
        }
       }
      },
      "text/html": [
       "<div id=\"4b89960b-0a7c-4294-910b-83f56dafdd62\" style=\"height: 525px; width: 100%;\" class=\"plotly-graph-div\"></div><script type=\"text/javascript\">require([\"plotly\"], function(Plotly) { window.PLOTLYENV=window.PLOTLYENV || {};window.PLOTLYENV.BASE_URL=\"https://plot.ly\";Plotly.newPlot(\"4b89960b-0a7c-4294-910b-83f56dafdd62\", [{\"orientation\": \"h\", \"x\": [2723, 2780, 3449, 3428, 3924, 4344, 4092, 4083, 2064, 2652, 1774, 2568], \"y\": [\"d\\u00e9cembre\", \"novembre\", \"octobre\", \"septembre\", \"ao\\u00fbt\", \"juillet\", \"juin\", \"mai\", \"avril\", \"mars\", \"f\\u00e9vrier\", \"janvier\"], \"type\": \"bar\", \"uid\": \"89f01055-89fe-4b14-9ec2-de16d66ee7fc\"}], {\"margin\": {\"b\": 50, \"l\": 70, \"pad\": 4, \"r\": 50, \"t\": 50}, \"title\": \"<b>Skids leading to accidents</b>\", \"titlefont\": {\"color\": \"#7f7f7f\", \"family\": \"Courier New, monospace\", \"size\": 18}, \"xaxis\": {\"title\": \"Month\", \"titlefont\": {\"color\": \"#7f7f7f\", \"family\": \"Courier New, monospace\", \"size\": 15}}, \"yaxis\": {\"title\": \"Number of accidents\", \"titlefont\": {\"color\": \"#7f7f7f\", \"family\": \"Courier New, monospace\", \"size\": 15}}}, {\"showLink\": true, \"linkText\": \"Export to plot.ly\", \"plotlyServerURL\": \"https://plot.ly\"})});</script><script type=\"text/javascript\">window.addEventListener(\"resize\", function(){window._Plotly.Plots.resize(document.getElementById(\"4b89960b-0a7c-4294-910b-83f56dafdd62\"));});</script>"
      ],
      "text/vnd.plotly.v1+html": [
       "<div id=\"4b89960b-0a7c-4294-910b-83f56dafdd62\" style=\"height: 525px; width: 100%;\" class=\"plotly-graph-div\"></div><script type=\"text/javascript\">require([\"plotly\"], function(Plotly) { window.PLOTLYENV=window.PLOTLYENV || {};window.PLOTLYENV.BASE_URL=\"https://plot.ly\";Plotly.newPlot(\"4b89960b-0a7c-4294-910b-83f56dafdd62\", [{\"orientation\": \"h\", \"x\": [2723, 2780, 3449, 3428, 3924, 4344, 4092, 4083, 2064, 2652, 1774, 2568], \"y\": [\"d\\u00e9cembre\", \"novembre\", \"octobre\", \"septembre\", \"ao\\u00fbt\", \"juillet\", \"juin\", \"mai\", \"avril\", \"mars\", \"f\\u00e9vrier\", \"janvier\"], \"type\": \"bar\", \"uid\": \"89f01055-89fe-4b14-9ec2-de16d66ee7fc\"}], {\"margin\": {\"b\": 50, \"l\": 70, \"pad\": 4, \"r\": 50, \"t\": 50}, \"title\": \"<b>Skids leading to accidents</b>\", \"titlefont\": {\"color\": \"#7f7f7f\", \"family\": \"Courier New, monospace\", \"size\": 18}, \"xaxis\": {\"title\": \"Month\", \"titlefont\": {\"color\": \"#7f7f7f\", \"family\": \"Courier New, monospace\", \"size\": 15}}, \"yaxis\": {\"title\": \"Number of accidents\", \"titlefont\": {\"color\": \"#7f7f7f\", \"family\": \"Courier New, monospace\", \"size\": 15}}}, {\"showLink\": true, \"linkText\": \"Export to plot.ly\", \"plotlyServerURL\": \"https://plot.ly\"})});</script><script type=\"text/javascript\">window.addEventListener(\"resize\", function(){window._Plotly.Plots.resize(document.getElementById(\"4b89960b-0a7c-4294-910b-83f56dafdd62\"));});</script>"
      ]
     },
     "metadata": {},
     "output_type": "display_data"
    }
   ],
   "source": [
    "# get the accidents interesting us, keep only the corresponding month and count them\n",
    "# Rename the column and put the rows in order of the months for the plot\n",
    "df_derapage = df_hacked_accident\\\n",
    "    [df_hacked_accident.accidenttype == 'dérapage ou perte de maîtrise']\\\n",
    "    [['accidentmonth', 'id']].groupby('accidentmonth').count().\\\n",
    "    rename(columns = {'id':'Nb accidents'}).\\\n",
    "    reindex(index=['janvier','février','mars','avril','mai','juin','juillet',\\\n",
    "                   'août','septembre','octobre','novembre','décembre'])\n",
    "\n",
    "# Plot the results using our function\n",
    "plot_dataframe(x=df_derapage, bars='bar', title=\"Skids leading to accidents\",\\\n",
    "               xlabel='Month', ylabel='Number of accidents',\\\n",
    "               name_save='accident_skid_month', margin=70)"
   ]
  },
  {
   "cell_type": "markdown",
   "metadata": {},
   "source": [
    "Surprisingly, we can see that more acidents linked to skids happen in the Summer time, which is quite counterintuitive ! Again, it lookd like people are less careful when there is no snow on the road, leading to less accidents even if the conditions in themselves are worse."
   ]
  },
  {
   "cell_type": "markdown",
   "metadata": {},
   "source": [
    "Another interesting thing to do is to explore the substances taken by the drivers in the case of accidents. This is what do below, starting from `df_Accident_circonstances`, which record those substances from 1992 to 2017"
   ]
  },
  {
   "cell_type": "code",
   "execution_count": 52,
   "metadata": {},
   "outputs": [
    {
     "data": {
      "application/vnd.plotly.v1+json": {
       "config": {
        "linkText": "Export to plot.ly",
        "plotlyServerURL": "https://plot.ly",
        "showLink": true
       },
       "data": [
        {
         "name": "Autre facteur d'influence",
         "type": "scatter",
         "uid": "45caa544-9ac8-4ef8-8f9e-3b778c635474",
         "x": [
          "1992",
          "1993",
          "1994",
          "1995",
          "1996",
          "1997",
          "1998",
          "1999",
          "2000",
          "2001",
          "2002",
          "2003",
          "2004",
          "2005",
          "2006",
          "2007",
          "2008",
          "2009",
          "2010",
          "2011",
          "2012",
          "2013",
          "2014",
          "2015",
          "2016",
          "2017"
         ],
         "y": [
          15441,
          15291,
          16094,
          15570,
          14649,
          15051,
          14853,
          15445,
          15954,
          15776,
          15852,
          15813,
          15058,
          14469,
          14219,
          14711,
          13709,
          13528,
          12446,
          12182,
          11400,
          11038,
          11430,
          11293,
          11346,
          11195
         ]
        },
        {
         "name": "Alcool",
         "type": "scatter",
         "uid": "a46930f3-448c-4b40-95e7-83d60cd58895",
         "x": [
          "1992",
          "1993",
          "1994",
          "1995",
          "1996",
          "1997",
          "1998",
          "1999",
          "2000",
          "2001",
          "2002",
          "2003",
          "2004",
          "2005",
          "2006",
          "2007",
          "2008",
          "2009",
          "2010",
          "2011",
          "2012",
          "2013",
          "2014",
          "2015",
          "2016",
          "2017"
         ],
         "y": [
          980,
          894,
          896,
          787,
          731,
          735,
          798,
          861,
          787,
          763,
          778,
          705,
          654,
          672,
          805,
          720,
          737,
          661,
          658,
          709,
          603,
          555,
          491,
          491,
          439,
          411
         ]
        },
        {
         "name": "Drogues",
         "type": "scatter",
         "uid": "8d4fe86e-a384-4f4a-a8f5-4594bd0ae745",
         "x": [
          "1992",
          "1993",
          "1994",
          "1995",
          "1996",
          "1997",
          "1998",
          "1999",
          "2000",
          "2001",
          "2002",
          "2003",
          "2004",
          "2005",
          "2006",
          "2007",
          "2008",
          "2009",
          "2010",
          "2011",
          "2012",
          "2013",
          "2014",
          "2015",
          "2016",
          "2017"
         ],
         "y": [
          40,
          40,
          49,
          42,
          33,
          46,
          40,
          33,
          46,
          41,
          50,
          50,
          57,
          67,
          63,
          57,
          52,
          59,
          63,
          71,
          59,
          46,
          51,
          61,
          53,
          71
         ]
        }
       ],
       "layout": {
        "margin": {
         "b": 50,
         "l": 50,
         "pad": 4,
         "r": 50,
         "t": 50
        },
        "title": "<b>Substances discovered if any</b>",
        "titlefont": {
         "color": "#7f7f7f",
         "family": "Courier New, monospace",
         "size": 18
        },
        "xaxis": {
         "title": "Year",
         "titlefont": {
          "color": "#7f7f7f",
          "family": "Courier New, monospace",
          "size": 15
         }
        },
        "yaxis": {
         "title": "Number of accidents",
         "titlefont": {
          "color": "#7f7f7f",
          "family": "Courier New, monospace",
          "size": 15
         }
        }
       }
      },
      "text/html": [
       "<div id=\"7c16131a-f9c9-4027-a7c2-4227942082b6\" style=\"height: 525px; width: 100%;\" class=\"plotly-graph-div\"></div><script type=\"text/javascript\">require([\"plotly\"], function(Plotly) { window.PLOTLYENV=window.PLOTLYENV || {};window.PLOTLYENV.BASE_URL=\"https://plot.ly\";Plotly.newPlot(\"7c16131a-f9c9-4027-a7c2-4227942082b6\", [{\"name\": \"Autre facteur d'influence\", \"x\": [\"1992\", \"1993\", \"1994\", \"1995\", \"1996\", \"1997\", \"1998\", \"1999\", \"2000\", \"2001\", \"2002\", \"2003\", \"2004\", \"2005\", \"2006\", \"2007\", \"2008\", \"2009\", \"2010\", \"2011\", \"2012\", \"2013\", \"2014\", \"2015\", \"2016\", \"2017\"], \"y\": [15441.0, 15291.0, 16094.0, 15570.0, 14649.0, 15051.0, 14853.0, 15445.0, 15954.0, 15776.0, 15852.0, 15813.0, 15058.0, 14469.0, 14219.0, 14711.0, 13709.0, 13528.0, 12446.0, 12182.0, 11400.0, 11038.0, 11430.0, 11293.0, 11346.0, 11195.0], \"type\": \"scatter\", \"uid\": \"45caa544-9ac8-4ef8-8f9e-3b778c635474\"}, {\"name\": \"Alcool\", \"x\": [\"1992\", \"1993\", \"1994\", \"1995\", \"1996\", \"1997\", \"1998\", \"1999\", \"2000\", \"2001\", \"2002\", \"2003\", \"2004\", \"2005\", \"2006\", \"2007\", \"2008\", \"2009\", \"2010\", \"2011\", \"2012\", \"2013\", \"2014\", \"2015\", \"2016\", \"2017\"], \"y\": [980.0, 894.0, 896.0, 787.0, 731.0, 735.0, 798.0, 861.0, 787.0, 763.0, 778.0, 705.0, 654.0, 672.0, 805.0, 720.0, 737.0, 661.0, 658.0, 709.0, 603.0, 555.0, 491.0, 491.0, 439.0, 411.0], \"type\": \"scatter\", \"uid\": \"a46930f3-448c-4b40-95e7-83d60cd58895\"}, {\"name\": \"Drogues\", \"x\": [\"1992\", \"1993\", \"1994\", \"1995\", \"1996\", \"1997\", \"1998\", \"1999\", \"2000\", \"2001\", \"2002\", \"2003\", \"2004\", \"2005\", \"2006\", \"2007\", \"2008\", \"2009\", \"2010\", \"2011\", \"2012\", \"2013\", \"2014\", \"2015\", \"2016\", \"2017\"], \"y\": [40.0, 40.0, 49.0, 42.0, 33.0, 46.0, 40.0, 33.0, 46.0, 41.0, 50.0, 50.0, 57.0, 67.0, 63.0, 57.0, 52.0, 59.0, 63.0, 71.0, 59.0, 46.0, 51.0, 61.0, 53.0, 71.0], \"type\": \"scatter\", \"uid\": \"8d4fe86e-a384-4f4a-a8f5-4594bd0ae745\"}], {\"margin\": {\"b\": 50, \"l\": 50, \"pad\": 4, \"r\": 50, \"t\": 50}, \"title\": \"<b>Substances discovered if any</b>\", \"titlefont\": {\"color\": \"#7f7f7f\", \"family\": \"Courier New, monospace\", \"size\": 18}, \"xaxis\": {\"title\": \"Year\", \"titlefont\": {\"color\": \"#7f7f7f\", \"family\": \"Courier New, monospace\", \"size\": 15}}, \"yaxis\": {\"title\": \"Number of accidents\", \"titlefont\": {\"color\": \"#7f7f7f\", \"family\": \"Courier New, monospace\", \"size\": 15}}}, {\"showLink\": true, \"linkText\": \"Export to plot.ly\", \"plotlyServerURL\": \"https://plot.ly\"})});</script><script type=\"text/javascript\">window.addEventListener(\"resize\", function(){window._Plotly.Plots.resize(document.getElementById(\"7c16131a-f9c9-4027-a7c2-4227942082b6\"));});</script>"
      ],
      "text/vnd.plotly.v1+html": [
       "<div id=\"7c16131a-f9c9-4027-a7c2-4227942082b6\" style=\"height: 525px; width: 100%;\" class=\"plotly-graph-div\"></div><script type=\"text/javascript\">require([\"plotly\"], function(Plotly) { window.PLOTLYENV=window.PLOTLYENV || {};window.PLOTLYENV.BASE_URL=\"https://plot.ly\";Plotly.newPlot(\"7c16131a-f9c9-4027-a7c2-4227942082b6\", [{\"name\": \"Autre facteur d'influence\", \"x\": [\"1992\", \"1993\", \"1994\", \"1995\", \"1996\", \"1997\", \"1998\", \"1999\", \"2000\", \"2001\", \"2002\", \"2003\", \"2004\", \"2005\", \"2006\", \"2007\", \"2008\", \"2009\", \"2010\", \"2011\", \"2012\", \"2013\", \"2014\", \"2015\", \"2016\", \"2017\"], \"y\": [15441.0, 15291.0, 16094.0, 15570.0, 14649.0, 15051.0, 14853.0, 15445.0, 15954.0, 15776.0, 15852.0, 15813.0, 15058.0, 14469.0, 14219.0, 14711.0, 13709.0, 13528.0, 12446.0, 12182.0, 11400.0, 11038.0, 11430.0, 11293.0, 11346.0, 11195.0], \"type\": \"scatter\", \"uid\": \"45caa544-9ac8-4ef8-8f9e-3b778c635474\"}, {\"name\": \"Alcool\", \"x\": [\"1992\", \"1993\", \"1994\", \"1995\", \"1996\", \"1997\", \"1998\", \"1999\", \"2000\", \"2001\", \"2002\", \"2003\", \"2004\", \"2005\", \"2006\", \"2007\", \"2008\", \"2009\", \"2010\", \"2011\", \"2012\", \"2013\", \"2014\", \"2015\", \"2016\", \"2017\"], \"y\": [980.0, 894.0, 896.0, 787.0, 731.0, 735.0, 798.0, 861.0, 787.0, 763.0, 778.0, 705.0, 654.0, 672.0, 805.0, 720.0, 737.0, 661.0, 658.0, 709.0, 603.0, 555.0, 491.0, 491.0, 439.0, 411.0], \"type\": \"scatter\", \"uid\": \"a46930f3-448c-4b40-95e7-83d60cd58895\"}, {\"name\": \"Drogues\", \"x\": [\"1992\", \"1993\", \"1994\", \"1995\", \"1996\", \"1997\", \"1998\", \"1999\", \"2000\", \"2001\", \"2002\", \"2003\", \"2004\", \"2005\", \"2006\", \"2007\", \"2008\", \"2009\", \"2010\", \"2011\", \"2012\", \"2013\", \"2014\", \"2015\", \"2016\", \"2017\"], \"y\": [40.0, 40.0, 49.0, 42.0, 33.0, 46.0, 40.0, 33.0, 46.0, 41.0, 50.0, 50.0, 57.0, 67.0, 63.0, 57.0, 52.0, 59.0, 63.0, 71.0, 59.0, 46.0, 51.0, 61.0, 53.0, 71.0], \"type\": \"scatter\", \"uid\": \"8d4fe86e-a384-4f4a-a8f5-4594bd0ae745\"}], {\"margin\": {\"b\": 50, \"l\": 50, \"pad\": 4, \"r\": 50, \"t\": 50}, \"title\": \"<b>Substances discovered if any</b>\", \"titlefont\": {\"color\": \"#7f7f7f\", \"family\": \"Courier New, monospace\", \"size\": 18}, \"xaxis\": {\"title\": \"Year\", \"titlefont\": {\"color\": \"#7f7f7f\", \"family\": \"Courier New, monospace\", \"size\": 15}}, \"yaxis\": {\"title\": \"Number of accidents\", \"titlefont\": {\"color\": \"#7f7f7f\", \"family\": \"Courier New, monospace\", \"size\": 15}}}, {\"showLink\": true, \"linkText\": \"Export to plot.ly\", \"plotlyServerURL\": \"https://plot.ly\"})});</script><script type=\"text/javascript\">window.addEventListener(\"resize\", function(){window._Plotly.Plots.resize(document.getElementById(\"7c16131a-f9c9-4027-a7c2-4227942082b6\"));});</script>"
      ]
     },
     "metadata": {},
     "output_type": "display_data"
    },
    {
     "data": {
      "application/vnd.plotly.v1+json": {
       "config": {
        "linkText": "Export to plot.ly",
        "plotlyServerURL": "https://plot.ly",
        "showLink": true
       },
       "data": [
        {
         "name": "Alcool",
         "type": "scatter",
         "uid": "38283514-c96f-4e3c-a8b8-312a325830e1",
         "x": [
          "1992",
          "1993",
          "1994",
          "1995",
          "1996",
          "1997",
          "1998",
          "1999",
          "2000",
          "2001",
          "2002",
          "2003",
          "2004",
          "2005",
          "2006",
          "2007",
          "2008",
          "2009",
          "2010",
          "2011",
          "2012",
          "2013",
          "2014",
          "2015",
          "2016",
          "2017"
         ],
         "y": [
          980,
          894,
          896,
          787,
          731,
          735,
          798,
          861,
          787,
          763,
          778,
          705,
          654,
          672,
          805,
          720,
          737,
          661,
          658,
          709,
          603,
          555,
          491,
          491,
          439,
          411
         ]
        },
        {
         "name": "Drogues",
         "type": "scatter",
         "uid": "2ca84cdf-bc46-41eb-a3db-24e9c03de08b",
         "x": [
          "1992",
          "1993",
          "1994",
          "1995",
          "1996",
          "1997",
          "1998",
          "1999",
          "2000",
          "2001",
          "2002",
          "2003",
          "2004",
          "2005",
          "2006",
          "2007",
          "2008",
          "2009",
          "2010",
          "2011",
          "2012",
          "2013",
          "2014",
          "2015",
          "2016",
          "2017"
         ],
         "y": [
          40,
          40,
          49,
          42,
          33,
          46,
          40,
          33,
          46,
          41,
          50,
          50,
          57,
          67,
          63,
          57,
          52,
          59,
          63,
          71,
          59,
          46,
          51,
          61,
          53,
          71
         ]
        },
        {
         "name": "Alcool + droques",
         "type": "scatter",
         "uid": "9e62518b-8c4c-4376-8b97-6712ef632397",
         "x": [
          "1992",
          "1993",
          "1994",
          "1995",
          "1996",
          "1997",
          "1998",
          "1999",
          "2000",
          "2001",
          "2002",
          "2003",
          "2004",
          "2005",
          "2006",
          "2007",
          "2008",
          "2009",
          "2010",
          "2011",
          "2012",
          "2013",
          "2014",
          "2015",
          "2016",
          "2017"
         ],
         "y": [
          15,
          9,
          12,
          18,
          27,
          18,
          16,
          21,
          15,
          26,
          24,
          24,
          27,
          39,
          35,
          27,
          17,
          18,
          28,
          30,
          43,
          29,
          38,
          31,
          35,
          31
         ]
        }
       ],
       "layout": {
        "margin": {
         "b": 50,
         "l": 50,
         "pad": 4,
         "r": 50,
         "t": 50
        },
        "title": "<b>Known substances</b>",
        "titlefont": {
         "color": "#7f7f7f",
         "family": "Courier New, monospace",
         "size": 18
        },
        "xaxis": {
         "title": "Year",
         "titlefont": {
          "color": "#7f7f7f",
          "family": "Courier New, monospace",
          "size": 15
         }
        },
        "yaxis": {
         "title": "Number of accidents",
         "titlefont": {
          "color": "#7f7f7f",
          "family": "Courier New, monospace",
          "size": 15
         }
        }
       }
      },
      "text/html": [
       "<div id=\"e0387ae8-2a8a-4025-8d01-2d9bac6fc30e\" style=\"height: 525px; width: 100%;\" class=\"plotly-graph-div\"></div><script type=\"text/javascript\">require([\"plotly\"], function(Plotly) { window.PLOTLYENV=window.PLOTLYENV || {};window.PLOTLYENV.BASE_URL=\"https://plot.ly\";Plotly.newPlot(\"e0387ae8-2a8a-4025-8d01-2d9bac6fc30e\", [{\"name\": \"Alcool\", \"x\": [\"1992\", \"1993\", \"1994\", \"1995\", \"1996\", \"1997\", \"1998\", \"1999\", \"2000\", \"2001\", \"2002\", \"2003\", \"2004\", \"2005\", \"2006\", \"2007\", \"2008\", \"2009\", \"2010\", \"2011\", \"2012\", \"2013\", \"2014\", \"2015\", \"2016\", \"2017\"], \"y\": [980.0, 894.0, 896.0, 787.0, 731.0, 735.0, 798.0, 861.0, 787.0, 763.0, 778.0, 705.0, 654.0, 672.0, 805.0, 720.0, 737.0, 661.0, 658.0, 709.0, 603.0, 555.0, 491.0, 491.0, 439.0, 411.0], \"type\": \"scatter\", \"uid\": \"38283514-c96f-4e3c-a8b8-312a325830e1\"}, {\"name\": \"Drogues\", \"x\": [\"1992\", \"1993\", \"1994\", \"1995\", \"1996\", \"1997\", \"1998\", \"1999\", \"2000\", \"2001\", \"2002\", \"2003\", \"2004\", \"2005\", \"2006\", \"2007\", \"2008\", \"2009\", \"2010\", \"2011\", \"2012\", \"2013\", \"2014\", \"2015\", \"2016\", \"2017\"], \"y\": [40.0, 40.0, 49.0, 42.0, 33.0, 46.0, 40.0, 33.0, 46.0, 41.0, 50.0, 50.0, 57.0, 67.0, 63.0, 57.0, 52.0, 59.0, 63.0, 71.0, 59.0, 46.0, 51.0, 61.0, 53.0, 71.0], \"type\": \"scatter\", \"uid\": \"2ca84cdf-bc46-41eb-a3db-24e9c03de08b\"}, {\"name\": \"Alcool + droques\", \"x\": [\"1992\", \"1993\", \"1994\", \"1995\", \"1996\", \"1997\", \"1998\", \"1999\", \"2000\", \"2001\", \"2002\", \"2003\", \"2004\", \"2005\", \"2006\", \"2007\", \"2008\", \"2009\", \"2010\", \"2011\", \"2012\", \"2013\", \"2014\", \"2015\", \"2016\", \"2017\"], \"y\": [15.0, 9.0, 12.0, 18.0, 27.0, 18.0, 16.0, 21.0, 15.0, 26.0, 24.0, 24.0, 27.0, 39.0, 35.0, 27.0, 17.0, 18.0, 28.0, 30.0, 43.0, 29.0, 38.0, 31.0, 35.0, 31.0], \"type\": \"scatter\", \"uid\": \"9e62518b-8c4c-4376-8b97-6712ef632397\"}], {\"margin\": {\"b\": 50, \"l\": 50, \"pad\": 4, \"r\": 50, \"t\": 50}, \"title\": \"<b>Known substances</b>\", \"titlefont\": {\"color\": \"#7f7f7f\", \"family\": \"Courier New, monospace\", \"size\": 18}, \"xaxis\": {\"title\": \"Year\", \"titlefont\": {\"color\": \"#7f7f7f\", \"family\": \"Courier New, monospace\", \"size\": 15}}, \"yaxis\": {\"title\": \"Number of accidents\", \"titlefont\": {\"color\": \"#7f7f7f\", \"family\": \"Courier New, monospace\", \"size\": 15}}}, {\"showLink\": true, \"linkText\": \"Export to plot.ly\", \"plotlyServerURL\": \"https://plot.ly\"})});</script><script type=\"text/javascript\">window.addEventListener(\"resize\", function(){window._Plotly.Plots.resize(document.getElementById(\"e0387ae8-2a8a-4025-8d01-2d9bac6fc30e\"));});</script>"
      ],
      "text/vnd.plotly.v1+html": [
       "<div id=\"e0387ae8-2a8a-4025-8d01-2d9bac6fc30e\" style=\"height: 525px; width: 100%;\" class=\"plotly-graph-div\"></div><script type=\"text/javascript\">require([\"plotly\"], function(Plotly) { window.PLOTLYENV=window.PLOTLYENV || {};window.PLOTLYENV.BASE_URL=\"https://plot.ly\";Plotly.newPlot(\"e0387ae8-2a8a-4025-8d01-2d9bac6fc30e\", [{\"name\": \"Alcool\", \"x\": [\"1992\", \"1993\", \"1994\", \"1995\", \"1996\", \"1997\", \"1998\", \"1999\", \"2000\", \"2001\", \"2002\", \"2003\", \"2004\", \"2005\", \"2006\", \"2007\", \"2008\", \"2009\", \"2010\", \"2011\", \"2012\", \"2013\", \"2014\", \"2015\", \"2016\", \"2017\"], \"y\": [980.0, 894.0, 896.0, 787.0, 731.0, 735.0, 798.0, 861.0, 787.0, 763.0, 778.0, 705.0, 654.0, 672.0, 805.0, 720.0, 737.0, 661.0, 658.0, 709.0, 603.0, 555.0, 491.0, 491.0, 439.0, 411.0], \"type\": \"scatter\", \"uid\": \"38283514-c96f-4e3c-a8b8-312a325830e1\"}, {\"name\": \"Drogues\", \"x\": [\"1992\", \"1993\", \"1994\", \"1995\", \"1996\", \"1997\", \"1998\", \"1999\", \"2000\", \"2001\", \"2002\", \"2003\", \"2004\", \"2005\", \"2006\", \"2007\", \"2008\", \"2009\", \"2010\", \"2011\", \"2012\", \"2013\", \"2014\", \"2015\", \"2016\", \"2017\"], \"y\": [40.0, 40.0, 49.0, 42.0, 33.0, 46.0, 40.0, 33.0, 46.0, 41.0, 50.0, 50.0, 57.0, 67.0, 63.0, 57.0, 52.0, 59.0, 63.0, 71.0, 59.0, 46.0, 51.0, 61.0, 53.0, 71.0], \"type\": \"scatter\", \"uid\": \"2ca84cdf-bc46-41eb-a3db-24e9c03de08b\"}, {\"name\": \"Alcool + droques\", \"x\": [\"1992\", \"1993\", \"1994\", \"1995\", \"1996\", \"1997\", \"1998\", \"1999\", \"2000\", \"2001\", \"2002\", \"2003\", \"2004\", \"2005\", \"2006\", \"2007\", \"2008\", \"2009\", \"2010\", \"2011\", \"2012\", \"2013\", \"2014\", \"2015\", \"2016\", \"2017\"], \"y\": [15.0, 9.0, 12.0, 18.0, 27.0, 18.0, 16.0, 21.0, 15.0, 26.0, 24.0, 24.0, 27.0, 39.0, 35.0, 27.0, 17.0, 18.0, 28.0, 30.0, 43.0, 29.0, 38.0, 31.0, 35.0, 31.0], \"type\": \"scatter\", \"uid\": \"9e62518b-8c4c-4376-8b97-6712ef632397\"}], {\"margin\": {\"b\": 50, \"l\": 50, \"pad\": 4, \"r\": 50, \"t\": 50}, \"title\": \"<b>Known substances</b>\", \"titlefont\": {\"color\": \"#7f7f7f\", \"family\": \"Courier New, monospace\", \"size\": 18}, \"xaxis\": {\"title\": \"Year\", \"titlefont\": {\"color\": \"#7f7f7f\", \"family\": \"Courier New, monospace\", \"size\": 15}}, \"yaxis\": {\"title\": \"Number of accidents\", \"titlefont\": {\"color\": \"#7f7f7f\", \"family\": \"Courier New, monospace\", \"size\": 15}}}, {\"showLink\": true, \"linkText\": \"Export to plot.ly\", \"plotlyServerURL\": \"https://plot.ly\"})});</script><script type=\"text/javascript\">window.addEventListener(\"resize\", function(){window._Plotly.Plots.resize(document.getElementById(\"e0387ae8-2a8a-4025-8d01-2d9bac6fc30e\"));});</script>"
      ]
     },
     "metadata": {},
     "output_type": "display_data"
    },
    {
     "data": {
      "application/vnd.plotly.v1+json": {
       "config": {
        "linkText": "Export to plot.ly",
        "plotlyServerURL": "https://plot.ly",
        "showLink": true
       },
       "data": [
        {
         "name": "Drogues",
         "type": "scatter",
         "uid": "11d570ff-20d6-47cd-92cf-0e21f92b0234",
         "x": [
          "1992",
          "1993",
          "1994",
          "1995",
          "1996",
          "1997",
          "1998",
          "1999",
          "2000",
          "2001",
          "2002",
          "2003",
          "2004",
          "2005",
          "2006",
          "2007",
          "2008",
          "2009",
          "2010",
          "2011",
          "2012",
          "2013",
          "2014",
          "2015",
          "2016",
          "2017"
         ],
         "y": [
          40,
          40,
          49,
          42,
          33,
          46,
          40,
          33,
          46,
          41,
          50,
          50,
          57,
          67,
          63,
          57,
          52,
          59,
          63,
          71,
          59,
          46,
          51,
          61,
          53,
          71
         ]
        },
        {
         "name": "Alcool + droques",
         "type": "scatter",
         "uid": "e073db6e-b124-41cd-be42-0b39665d662d",
         "x": [
          "1992",
          "1993",
          "1994",
          "1995",
          "1996",
          "1997",
          "1998",
          "1999",
          "2000",
          "2001",
          "2002",
          "2003",
          "2004",
          "2005",
          "2006",
          "2007",
          "2008",
          "2009",
          "2010",
          "2011",
          "2012",
          "2013",
          "2014",
          "2015",
          "2016",
          "2017"
         ],
         "y": [
          15,
          9,
          12,
          18,
          27,
          18,
          16,
          21,
          15,
          26,
          24,
          24,
          27,
          39,
          35,
          27,
          17,
          18,
          28,
          30,
          43,
          29,
          38,
          31,
          35,
          31
         ]
        },
        {
         "name": "Médicaments",
         "type": "scatter",
         "uid": "e5c9321d-8de4-4e00-8884-79d7c698b39c",
         "x": [
          "1992",
          "1993",
          "1994",
          "1995",
          "1996",
          "1997",
          "1998",
          "1999",
          "2000",
          "2001",
          "2002",
          "2003",
          "2004",
          "2005",
          "2006",
          "2007",
          "2008",
          "2009",
          "2010",
          "2011",
          "2012",
          "2013",
          "2014",
          "2015",
          "2016",
          "2017"
         ],
         "y": [
          10,
          11,
          12,
          10,
          8,
          14,
          11,
          13,
          17,
          15,
          15,
          13,
          30,
          23,
          17,
          21,
          23,
          32,
          23,
          38,
          29,
          34,
          34,
          41,
          31,
          29
         ]
        },
        {
         "name": "Alcool + médicaments",
         "type": "scatter",
         "uid": "fbe28169-c696-4452-bb79-285e0c0df02e",
         "x": [
          "1992",
          "1993",
          "1994",
          "1995",
          "1996",
          "1997",
          "1998",
          "1999",
          "2000",
          "2001",
          "2002",
          "2003",
          "2004",
          "2005",
          "2006",
          "2007",
          "2008",
          "2009",
          "2010",
          "2011",
          "2012",
          "2013",
          "2014",
          "2015",
          "2016",
          "2017"
         ],
         "y": [
          5,
          7,
          4,
          6,
          4,
          3,
          6,
          7,
          8,
          6,
          7,
          7,
          8,
          7,
          11,
          10,
          14,
          19,
          17,
          15,
          23,
          25,
          13,
          14,
          9,
          11
         ]
        },
        {
         "name": "Drogues et médicaments",
         "type": "scatter",
         "uid": "02cdfb8e-b1df-4e4a-bc5a-36ca4d2d7b6b",
         "x": [
          "1992",
          "1993",
          "1994",
          "1995",
          "1996",
          "1997",
          "1998",
          "1999",
          "2000",
          "2001",
          "2002",
          "2003",
          "2004",
          "2005",
          "2006",
          "2007",
          "2008",
          "2009",
          "2010",
          "2011",
          "2012",
          "2013",
          "2014",
          "2015",
          "2016",
          "2017"
         ],
         "y": [
          7,
          3,
          5,
          4,
          5,
          2,
          5,
          3,
          2,
          5,
          4,
          4,
          5,
          6,
          2,
          6,
          2,
          0,
          3,
          5,
          3,
          6,
          7,
          5,
          1,
          5
         ]
        },
        {
         "name": "Alcool + drogues + médicaments",
         "type": "scatter",
         "uid": "9af9a35b-0495-486c-b259-e229ec695316",
         "x": [
          "1992",
          "1993",
          "1994",
          "1995",
          "1996",
          "1997",
          "1998",
          "1999",
          "2000",
          "2001",
          "2002",
          "2003",
          "2004",
          "2005",
          "2006",
          "2007",
          "2008",
          "2009",
          "2010",
          "2011",
          "2012",
          "2013",
          "2014",
          "2015",
          "2016",
          "2017"
         ],
         "y": [
          0,
          1,
          0,
          1,
          1,
          2,
          0,
          1,
          0,
          0,
          1,
          0,
          0,
          1,
          1,
          3,
          1,
          1,
          1,
          3,
          1,
          1,
          1,
          2,
          1,
          1
         ]
        }
       ],
       "layout": {
        "margin": {
         "b": 50,
         "l": 50,
         "pad": 4,
         "r": 50,
         "t": 50
        },
        "title": "<b>Known substances except alcohol alone</b>",
        "titlefont": {
         "color": "#7f7f7f",
         "family": "Courier New, monospace",
         "size": 18
        },
        "xaxis": {
         "title": "Year",
         "titlefont": {
          "color": "#7f7f7f",
          "family": "Courier New, monospace",
          "size": 15
         }
        },
        "yaxis": {
         "title": "Number of accidents",
         "titlefont": {
          "color": "#7f7f7f",
          "family": "Courier New, monospace",
          "size": 15
         }
        }
       }
      },
      "text/html": [
       "<div id=\"50dce620-14a4-4d4e-8917-939d5d4e7342\" style=\"height: 525px; width: 100%;\" class=\"plotly-graph-div\"></div><script type=\"text/javascript\">require([\"plotly\"], function(Plotly) { window.PLOTLYENV=window.PLOTLYENV || {};window.PLOTLYENV.BASE_URL=\"https://plot.ly\";Plotly.newPlot(\"50dce620-14a4-4d4e-8917-939d5d4e7342\", [{\"name\": \"Drogues\", \"x\": [\"1992\", \"1993\", \"1994\", \"1995\", \"1996\", \"1997\", \"1998\", \"1999\", \"2000\", \"2001\", \"2002\", \"2003\", \"2004\", \"2005\", \"2006\", \"2007\", \"2008\", \"2009\", \"2010\", \"2011\", \"2012\", \"2013\", \"2014\", \"2015\", \"2016\", \"2017\"], \"y\": [40.0, 40.0, 49.0, 42.0, 33.0, 46.0, 40.0, 33.0, 46.0, 41.0, 50.0, 50.0, 57.0, 67.0, 63.0, 57.0, 52.0, 59.0, 63.0, 71.0, 59.0, 46.0, 51.0, 61.0, 53.0, 71.0], \"type\": \"scatter\", \"uid\": \"11d570ff-20d6-47cd-92cf-0e21f92b0234\"}, {\"name\": \"Alcool + droques\", \"x\": [\"1992\", \"1993\", \"1994\", \"1995\", \"1996\", \"1997\", \"1998\", \"1999\", \"2000\", \"2001\", \"2002\", \"2003\", \"2004\", \"2005\", \"2006\", \"2007\", \"2008\", \"2009\", \"2010\", \"2011\", \"2012\", \"2013\", \"2014\", \"2015\", \"2016\", \"2017\"], \"y\": [15.0, 9.0, 12.0, 18.0, 27.0, 18.0, 16.0, 21.0, 15.0, 26.0, 24.0, 24.0, 27.0, 39.0, 35.0, 27.0, 17.0, 18.0, 28.0, 30.0, 43.0, 29.0, 38.0, 31.0, 35.0, 31.0], \"type\": \"scatter\", \"uid\": \"e073db6e-b124-41cd-be42-0b39665d662d\"}, {\"name\": \"M\\u00e9dicaments\", \"x\": [\"1992\", \"1993\", \"1994\", \"1995\", \"1996\", \"1997\", \"1998\", \"1999\", \"2000\", \"2001\", \"2002\", \"2003\", \"2004\", \"2005\", \"2006\", \"2007\", \"2008\", \"2009\", \"2010\", \"2011\", \"2012\", \"2013\", \"2014\", \"2015\", \"2016\", \"2017\"], \"y\": [10.0, 11.0, 12.0, 10.0, 8.0, 14.0, 11.0, 13.0, 17.0, 15.0, 15.0, 13.0, 30.0, 23.0, 17.0, 21.0, 23.0, 32.0, 23.0, 38.0, 29.0, 34.0, 34.0, 41.0, 31.0, 29.0], \"type\": \"scatter\", \"uid\": \"e5c9321d-8de4-4e00-8884-79d7c698b39c\"}, {\"name\": \"Alcool + m\\u00e9dicaments\", \"x\": [\"1992\", \"1993\", \"1994\", \"1995\", \"1996\", \"1997\", \"1998\", \"1999\", \"2000\", \"2001\", \"2002\", \"2003\", \"2004\", \"2005\", \"2006\", \"2007\", \"2008\", \"2009\", \"2010\", \"2011\", \"2012\", \"2013\", \"2014\", \"2015\", \"2016\", \"2017\"], \"y\": [5.0, 7.0, 4.0, 6.0, 4.0, 3.0, 6.0, 7.0, 8.0, 6.0, 7.0, 7.0, 8.0, 7.0, 11.0, 10.0, 14.0, 19.0, 17.0, 15.0, 23.0, 25.0, 13.0, 14.0, 9.0, 11.0], \"type\": \"scatter\", \"uid\": \"fbe28169-c696-4452-bb79-285e0c0df02e\"}, {\"name\": \"Drogues et m\\u00e9dicaments\", \"x\": [\"1992\", \"1993\", \"1994\", \"1995\", \"1996\", \"1997\", \"1998\", \"1999\", \"2000\", \"2001\", \"2002\", \"2003\", \"2004\", \"2005\", \"2006\", \"2007\", \"2008\", \"2009\", \"2010\", \"2011\", \"2012\", \"2013\", \"2014\", \"2015\", \"2016\", \"2017\"], \"y\": [7.0, 3.0, 5.0, 4.0, 5.0, 2.0, 5.0, 3.0, 2.0, 5.0, 4.0, 4.0, 5.0, 6.0, 2.0, 6.0, 2.0, 0.0, 3.0, 5.0, 3.0, 6.0, 7.0, 5.0, 1.0, 5.0], \"type\": \"scatter\", \"uid\": \"02cdfb8e-b1df-4e4a-bc5a-36ca4d2d7b6b\"}, {\"name\": \"Alcool + drogues + m\\u00e9dicaments\", \"x\": [\"1992\", \"1993\", \"1994\", \"1995\", \"1996\", \"1997\", \"1998\", \"1999\", \"2000\", \"2001\", \"2002\", \"2003\", \"2004\", \"2005\", \"2006\", \"2007\", \"2008\", \"2009\", \"2010\", \"2011\", \"2012\", \"2013\", \"2014\", \"2015\", \"2016\", \"2017\"], \"y\": [0.0, 1.0, 0.0, 1.0, 1.0, 2.0, 0.0, 1.0, 0.0, 0.0, 1.0, 0.0, 0.0, 1.0, 1.0, 3.0, 1.0, 1.0, 1.0, 3.0, 1.0, 1.0, 1.0, 2.0, 1.0, 1.0], \"type\": \"scatter\", \"uid\": \"9af9a35b-0495-486c-b259-e229ec695316\"}], {\"margin\": {\"b\": 50, \"l\": 50, \"pad\": 4, \"r\": 50, \"t\": 50}, \"title\": \"<b>Known substances except alcohol alone</b>\", \"titlefont\": {\"color\": \"#7f7f7f\", \"family\": \"Courier New, monospace\", \"size\": 18}, \"xaxis\": {\"title\": \"Year\", \"titlefont\": {\"color\": \"#7f7f7f\", \"family\": \"Courier New, monospace\", \"size\": 15}}, \"yaxis\": {\"title\": \"Number of accidents\", \"titlefont\": {\"color\": \"#7f7f7f\", \"family\": \"Courier New, monospace\", \"size\": 15}}}, {\"showLink\": true, \"linkText\": \"Export to plot.ly\", \"plotlyServerURL\": \"https://plot.ly\"})});</script><script type=\"text/javascript\">window.addEventListener(\"resize\", function(){window._Plotly.Plots.resize(document.getElementById(\"50dce620-14a4-4d4e-8917-939d5d4e7342\"));});</script>"
      ],
      "text/vnd.plotly.v1+html": [
       "<div id=\"50dce620-14a4-4d4e-8917-939d5d4e7342\" style=\"height: 525px; width: 100%;\" class=\"plotly-graph-div\"></div><script type=\"text/javascript\">require([\"plotly\"], function(Plotly) { window.PLOTLYENV=window.PLOTLYENV || {};window.PLOTLYENV.BASE_URL=\"https://plot.ly\";Plotly.newPlot(\"50dce620-14a4-4d4e-8917-939d5d4e7342\", [{\"name\": \"Drogues\", \"x\": [\"1992\", \"1993\", \"1994\", \"1995\", \"1996\", \"1997\", \"1998\", \"1999\", \"2000\", \"2001\", \"2002\", \"2003\", \"2004\", \"2005\", \"2006\", \"2007\", \"2008\", \"2009\", \"2010\", \"2011\", \"2012\", \"2013\", \"2014\", \"2015\", \"2016\", \"2017\"], \"y\": [40.0, 40.0, 49.0, 42.0, 33.0, 46.0, 40.0, 33.0, 46.0, 41.0, 50.0, 50.0, 57.0, 67.0, 63.0, 57.0, 52.0, 59.0, 63.0, 71.0, 59.0, 46.0, 51.0, 61.0, 53.0, 71.0], \"type\": \"scatter\", \"uid\": \"11d570ff-20d6-47cd-92cf-0e21f92b0234\"}, {\"name\": \"Alcool + droques\", \"x\": [\"1992\", \"1993\", \"1994\", \"1995\", \"1996\", \"1997\", \"1998\", \"1999\", \"2000\", \"2001\", \"2002\", \"2003\", \"2004\", \"2005\", \"2006\", \"2007\", \"2008\", \"2009\", \"2010\", \"2011\", \"2012\", \"2013\", \"2014\", \"2015\", \"2016\", \"2017\"], \"y\": [15.0, 9.0, 12.0, 18.0, 27.0, 18.0, 16.0, 21.0, 15.0, 26.0, 24.0, 24.0, 27.0, 39.0, 35.0, 27.0, 17.0, 18.0, 28.0, 30.0, 43.0, 29.0, 38.0, 31.0, 35.0, 31.0], \"type\": \"scatter\", \"uid\": \"e073db6e-b124-41cd-be42-0b39665d662d\"}, {\"name\": \"M\\u00e9dicaments\", \"x\": [\"1992\", \"1993\", \"1994\", \"1995\", \"1996\", \"1997\", \"1998\", \"1999\", \"2000\", \"2001\", \"2002\", \"2003\", \"2004\", \"2005\", \"2006\", \"2007\", \"2008\", \"2009\", \"2010\", \"2011\", \"2012\", \"2013\", \"2014\", \"2015\", \"2016\", \"2017\"], \"y\": [10.0, 11.0, 12.0, 10.0, 8.0, 14.0, 11.0, 13.0, 17.0, 15.0, 15.0, 13.0, 30.0, 23.0, 17.0, 21.0, 23.0, 32.0, 23.0, 38.0, 29.0, 34.0, 34.0, 41.0, 31.0, 29.0], \"type\": \"scatter\", \"uid\": \"e5c9321d-8de4-4e00-8884-79d7c698b39c\"}, {\"name\": \"Alcool + m\\u00e9dicaments\", \"x\": [\"1992\", \"1993\", \"1994\", \"1995\", \"1996\", \"1997\", \"1998\", \"1999\", \"2000\", \"2001\", \"2002\", \"2003\", \"2004\", \"2005\", \"2006\", \"2007\", \"2008\", \"2009\", \"2010\", \"2011\", \"2012\", \"2013\", \"2014\", \"2015\", \"2016\", \"2017\"], \"y\": [5.0, 7.0, 4.0, 6.0, 4.0, 3.0, 6.0, 7.0, 8.0, 6.0, 7.0, 7.0, 8.0, 7.0, 11.0, 10.0, 14.0, 19.0, 17.0, 15.0, 23.0, 25.0, 13.0, 14.0, 9.0, 11.0], \"type\": \"scatter\", \"uid\": \"fbe28169-c696-4452-bb79-285e0c0df02e\"}, {\"name\": \"Drogues et m\\u00e9dicaments\", \"x\": [\"1992\", \"1993\", \"1994\", \"1995\", \"1996\", \"1997\", \"1998\", \"1999\", \"2000\", \"2001\", \"2002\", \"2003\", \"2004\", \"2005\", \"2006\", \"2007\", \"2008\", \"2009\", \"2010\", \"2011\", \"2012\", \"2013\", \"2014\", \"2015\", \"2016\", \"2017\"], \"y\": [7.0, 3.0, 5.0, 4.0, 5.0, 2.0, 5.0, 3.0, 2.0, 5.0, 4.0, 4.0, 5.0, 6.0, 2.0, 6.0, 2.0, 0.0, 3.0, 5.0, 3.0, 6.0, 7.0, 5.0, 1.0, 5.0], \"type\": \"scatter\", \"uid\": \"02cdfb8e-b1df-4e4a-bc5a-36ca4d2d7b6b\"}, {\"name\": \"Alcool + drogues + m\\u00e9dicaments\", \"x\": [\"1992\", \"1993\", \"1994\", \"1995\", \"1996\", \"1997\", \"1998\", \"1999\", \"2000\", \"2001\", \"2002\", \"2003\", \"2004\", \"2005\", \"2006\", \"2007\", \"2008\", \"2009\", \"2010\", \"2011\", \"2012\", \"2013\", \"2014\", \"2015\", \"2016\", \"2017\"], \"y\": [0.0, 1.0, 0.0, 1.0, 1.0, 2.0, 0.0, 1.0, 0.0, 0.0, 1.0, 0.0, 0.0, 1.0, 1.0, 3.0, 1.0, 1.0, 1.0, 3.0, 1.0, 1.0, 1.0, 2.0, 1.0, 1.0], \"type\": \"scatter\", \"uid\": \"9af9a35b-0495-486c-b259-e229ec695316\"}], {\"margin\": {\"b\": 50, \"l\": 50, \"pad\": 4, \"r\": 50, \"t\": 50}, \"title\": \"<b>Known substances except alcohol alone</b>\", \"titlefont\": {\"color\": \"#7f7f7f\", \"family\": \"Courier New, monospace\", \"size\": 18}, \"xaxis\": {\"title\": \"Year\", \"titlefont\": {\"color\": \"#7f7f7f\", \"family\": \"Courier New, monospace\", \"size\": 15}}, \"yaxis\": {\"title\": \"Number of accidents\", \"titlefont\": {\"color\": \"#7f7f7f\", \"family\": \"Courier New, monospace\", \"size\": 15}}}, {\"showLink\": true, \"linkText\": \"Export to plot.ly\", \"plotlyServerURL\": \"https://plot.ly\"})});</script><script type=\"text/javascript\">window.addEventListener(\"resize\", function(){window._Plotly.Plots.resize(document.getElementById(\"50dce620-14a4-4d4e-8917-939d5d4e7342\"));});</script>"
      ]
     },
     "metadata": {},
     "output_type": "display_data"
    }
   ],
   "source": [
    "df_substances = df_Accident_circonstances.groupby('circonstance').sum()\\\n",
    "    [[col for col in df_Accident_circonstances.columns if IS_DATE.match(col)]].\\\n",
    "    sort_values('2017', ascending=False)\n",
    "\n",
    "plot_dataframe(x=df_substances.columns, y=df_substances[:3],\\\n",
    "               labels=df_substances[:3].index,\\\n",
    "               title=\"Substances discovered if any\", xlabel='Year',\\\n",
    "               ylabel='Number of accidents', rotation=45,name_save='accident_substances')\n",
    "\n",
    "plot_dataframe(x=df_substances.columns, y=df_substances[1:4],\\\n",
    "               labels=df_substances[1:4].index,\\\n",
    "               title=\"Known substances\", xlabel='Year',\\\n",
    "               ylabel='Number of accidents', rotation=45,name_save='accident_known_substances')\n",
    "\n",
    "plot_dataframe(x=df_substances.columns, y=df_substances[2:],\\\n",
    "               labels=df_substances[2:].index,\\\n",
    "               title=\"Known substances except alcohol alone\", xlabel='Year',\\\n",
    "               ylabel='Number of accidents', rotation=45,name_save='accident_substances_noalcool')"
   ]
  },
  {
   "cell_type": "markdown",
   "metadata": {},
   "source": [
    "We can clearly see that most of the accidents were not the consequence of any illegal substance. If we discard those accidents, then the biggest problem in Switzerland is clearly the alcohol. It is still leading to 6 times more accidents than drugs in 2017 and 12 times more than medicines.\n",
    "\n",
    "Interestingly, the accident with unknown circumstances or ensuing from alcohol have had a decreasing tendency for the last 25 years, but this trend is not observed for all the other substances!"
   ]
  },
  {
   "cell_type": "markdown",
   "metadata": {},
   "source": [
    "## 2. Correlations focused on cantons-granulated data"
   ]
  },
  {
   "cell_type": "markdown",
   "metadata": {},
   "source": [
    "As shown above, we have a lot of different information about the Swiss cantons Therefore, we decided to focus on them and base our analysis on the correlations between the different variables have and the accidents.\n",
    "The following datasets have been selected because they are linked to road safety and good operation, such as investment in road sector, expenses of households in alcool and public transport as well as type of cars prefered in each canton. \n",
    "\n",
    "We will identify the most important features corrolated to the accidents in Switzerland as a preparation for the part 3 of our project. Below are listed the variables we will consider for this analysis.\n",
    "\n",
    "For each feature, we plan to measure whether they are correlated to car accidents frequency or not. One approach might be the Pearson coorelation coefficient, however, we could also study if another distribution than normal law is revealed."
   ]
  },
  {
   "cell_type": "markdown",
   "metadata": {},
   "source": [
    "### 2.0 Precomputations"
   ]
  },
  {
   "cell_type": "markdown",
   "metadata": {},
   "source": [
    "As explained before, we had some problems with the fact that the cantons are not labelled the same in every data set. Because of that, we firstly need to change them to their corresponding key so we can identify them. We use our homemade function for this purpose"
   ]
  },
  {
   "cell_type": "code",
   "execution_count": 53,
   "metadata": {},
   "outputs": [],
   "source": [
    "df_Population_canton_1992 = clean_cantons_names(df_Population_canton_1992)\n",
    "df_Population_2010 = clean_cantons_names(df_Population_2010)\n",
    "df_Accident_cantons = clean_cantons_names(df_Accident_cantons)\n",
    "df_Frais_routes_cantonales = clean_cantons_names(df_Frais_routes_cantonales)\n",
    "df_Longueur_routes = clean_cantons_names(df_Longueur_routes)\n",
    "df_Voitures = clean_cantons_names(df_Voitures)"
   ]
  },
  {
   "cell_type": "markdown",
   "metadata": {},
   "source": [
    "### 2.1 Normalized number of accidents"
   ]
  },
  {
   "cell_type": "markdown",
   "metadata": {},
   "source": [
    "To get more meaningful insights, it will often be interesting to compare the different variables on a normalized basis. We will thus use the following dataframe where the number of accidents has been normalized by the population of the cantons (by 1000 people). As usual, we sort them with respect to 2017 to get an idea of the current situation."
   ]
  },
  {
   "cell_type": "code",
   "execution_count": 54,
   "metadata": {},
   "outputs": [
    {
     "data": {
      "application/vnd.plotly.v1+json": {
       "config": {
        "linkText": "Export to plot.ly",
        "plotlyServerURL": "https://plot.ly",
        "showLink": true
       },
       "data": [
        {
         "name": "UR",
         "type": "scatter",
         "uid": "7806cb46-91ec-4d33-b67c-a3ed6a04f196",
         "x": [
          "1992",
          "1993",
          "1994",
          "1995",
          "1996",
          "1997",
          "1998",
          "1999",
          "2000",
          "2001",
          "2002",
          "2003",
          "2004",
          "2005",
          "2006",
          "2007",
          "2008",
          "2009",
          "2010",
          "2011",
          "2012",
          "2013",
          "2014",
          "2015",
          "2016",
          "2017"
         ],
         "y": [
          3.841522848460524,
          4.061784897025172,
          4.63384125540141,
          5.230839208551285,
          4.73555086438067,
          4.731047138433307,
          4.609356994699239,
          4.513888888888888,
          4.592088819135641,
          4.629361726751925,
          4.197545159796202,
          4.519286125503742,
          3.3366891989069467,
          3.4052868521297475,
          3.0079537237888645,
          3.686823235695416,
          3.3190948972523664,
          4.285056942367421,
          3.049633484416093,
          2.9350104821802936,
          2.9334440293344404,
          3.3809785596481583,
          2.574425547065429,
          3.194190395588195,
          2.7977398650501946,
          3.052686091198997
         ]
        },
        {
         "name": "OW",
         "type": "scatter",
         "uid": "8597cd2b-eaf8-4377-aada-bdec8cd0f504",
         "x": [
          "1992",
          "1993",
          "1994",
          "1995",
          "1996",
          "1997",
          "1998",
          "1999",
          "2000",
          "2001",
          "2002",
          "2003",
          "2004",
          "2005",
          "2006",
          "2007",
          "2008",
          "2009",
          "2010",
          "2011",
          "2012",
          "2013",
          "2014",
          "2015",
          "2016",
          "2017"
         ],
         "y": [
          3.7186954947839537,
          3.5672590478661306,
          3.2215456976257206,
          3.000989688088625,
          3.055087038156764,
          2.884310618066561,
          3.7444933920704844,
          2.5350525788683025,
          2.8288103453635487,
          3.447851249846078,
          2.5023650401293906,
          3.1803725579282145,
          2.934947049924357,
          2.8115363685833485,
          2.9935638377488396,
          2.9006955749593017,
          2.6071418109382782,
          3.173046413015259,
          2.445599310785649,
          2.2850535473391513,
          2.1895013410695716,
          1.5712621569636713,
          1.6931842614491506,
          1.7604694585222727,
          2.68160577740017,
          2.5605152707018983
         ]
        },
        {
         "name": "BE",
         "type": "scatter",
         "uid": "b9a1245a-27c3-4afe-8dfe-7d85d76ec114",
         "x": [
          "1992",
          "1993",
          "1994",
          "1995",
          "1996",
          "1997",
          "1998",
          "1999",
          "2000",
          "2001",
          "2002",
          "2003",
          "2004",
          "2005",
          "2006",
          "2007",
          "2008",
          "2009",
          "2010",
          "2011",
          "2012",
          "2013",
          "2014",
          "2015",
          "2016",
          "2017"
         ],
         "y": [
          3.3545988160971,
          3.2876179158614107,
          3.398240354577064,
          3.3368214464322485,
          3.175681788059268,
          3.2269910682627856,
          3.1856647198715597,
          3.2712322132670737,
          3.2116253896186553,
          3.311025452393121,
          3.396383610277279,
          3.462174775673189,
          3.3193053168158375,
          3.100688315448339,
          2.997694320000248,
          2.984822256154456,
          2.8032271999228393,
          2.586891585354151,
          2.59567036912034,
          2.6491213579617683,
          2.5924250458617566,
          2.4413728408675106,
          2.4667179869850884,
          2.4854318230754466,
          2.3865585921918386,
          2.5227393709352652
         ]
        },
        {
         "name": "GR",
         "type": "scatter",
         "uid": "9dc754ad-40e9-4697-9484-9f8c1aa0782e",
         "x": [
          "1992",
          "1993",
          "1994",
          "1995",
          "1996",
          "1997",
          "1998",
          "1999",
          "2000",
          "2001",
          "2002",
          "2003",
          "2004",
          "2005",
          "2006",
          "2007",
          "2008",
          "2009",
          "2010",
          "2011",
          "2012",
          "2013",
          "2014",
          "2015",
          "2016",
          "2017"
         ],
         "y": [
          4.472965592572365,
          4.520341536916122,
          4.185102950337844,
          4.111029501128155,
          3.9517339024957203,
          3.8928326081978475,
          4.031224637990688,
          4.003795875717058,
          3.6948824548905357,
          4.063863723699379,
          3.707716257152474,
          3.807611037887822,
          3.611351751923097,
          3.4814973575121404,
          3.259489868941345,
          3.5751884009631123,
          3.160048695832362,
          2.906245346669884,
          2.798363727639185,
          2.606592796685762,
          2.4731416813406404,
          2.446152712626176,
          2.5791899578307342,
          2.356660860400779,
          2.3971234518577704,
          2.4821277052266097
         ]
        },
        {
         "name": "LU",
         "type": "scatter",
         "uid": "defac423-39a3-4a5f-bb9c-9fb90a50a660",
         "x": [
          "1992",
          "1993",
          "1994",
          "1995",
          "1996",
          "1997",
          "1998",
          "1999",
          "2000",
          "2001",
          "2002",
          "2003",
          "2004",
          "2005",
          "2006",
          "2007",
          "2008",
          "2009",
          "2010",
          "2011",
          "2012",
          "2013",
          "2014",
          "2015",
          "2016",
          "2017"
         ],
         "y": [
          3.3397105181235966,
          3.1629013790608753,
          3.1339597299517012,
          3.1776416539050536,
          3.0334411955396092,
          3.3460396895390847,
          3.170768092244781,
          3.394719972026342,
          3.440709360062843,
          3.7607886190280997,
          3.528802426905411,
          3.6829331911949827,
          3.345662930111249,
          3.401111966854618,
          3.1206647741704976,
          3.0531271758711775,
          3.097496076959814,
          3.113786661131046,
          2.8825043829861166,
          2.8778287600899484,
          2.6503583510709405,
          2.4568588792455133,
          2.538051932060622,
          2.5141716883916247,
          2.1040353182630263,
          2.391047371557527
         ]
        }
       ],
       "layout": {
        "margin": {
         "b": 50,
         "l": 50,
         "pad": 4,
         "r": 50,
         "t": 50
        },
        "title": "<b>Normalized number of accidents </b>",
        "titlefont": {
         "color": "#7f7f7f",
         "family": "Courier New, monospace",
         "size": 18
        },
        "xaxis": {
         "title": "Year",
         "titlefont": {
          "color": "#7f7f7f",
          "family": "Courier New, monospace",
          "size": 15
         }
        },
        "yaxis": {
         "title": "Number of accidents",
         "titlefont": {
          "color": "#7f7f7f",
          "family": "Courier New, monospace",
          "size": 15
         }
        }
       }
      },
      "text/html": [
       "<div id=\"1e132d04-fd12-4944-95a5-76b98bf45cd2\" style=\"height: 525px; width: 100%;\" class=\"plotly-graph-div\"></div><script type=\"text/javascript\">require([\"plotly\"], function(Plotly) { window.PLOTLYENV=window.PLOTLYENV || {};window.PLOTLYENV.BASE_URL=\"https://plot.ly\";Plotly.newPlot(\"1e132d04-fd12-4944-95a5-76b98bf45cd2\", [{\"name\": \"UR\", \"x\": [\"1992\", \"1993\", \"1994\", \"1995\", \"1996\", \"1997\", \"1998\", \"1999\", \"2000\", \"2001\", \"2002\", \"2003\", \"2004\", \"2005\", \"2006\", \"2007\", \"2008\", \"2009\", \"2010\", \"2011\", \"2012\", \"2013\", \"2014\", \"2015\", \"2016\", \"2017\"], \"y\": [3.841522848460524, 4.061784897025172, 4.63384125540141, 5.230839208551285, 4.73555086438067, 4.731047138433307, 4.609356994699239, 4.513888888888888, 4.592088819135641, 4.629361726751925, 4.197545159796202, 4.519286125503742, 3.3366891989069467, 3.4052868521297475, 3.0079537237888645, 3.686823235695416, 3.3190948972523664, 4.285056942367421, 3.049633484416093, 2.9350104821802936, 2.9334440293344404, 3.3809785596481583, 2.574425547065429, 3.194190395588195, 2.7977398650501946, 3.052686091198997], \"type\": \"scatter\", \"uid\": \"7806cb46-91ec-4d33-b67c-a3ed6a04f196\"}, {\"name\": \"OW\", \"x\": [\"1992\", \"1993\", \"1994\", \"1995\", \"1996\", \"1997\", \"1998\", \"1999\", \"2000\", \"2001\", \"2002\", \"2003\", \"2004\", \"2005\", \"2006\", \"2007\", \"2008\", \"2009\", \"2010\", \"2011\", \"2012\", \"2013\", \"2014\", \"2015\", \"2016\", \"2017\"], \"y\": [3.7186954947839537, 3.5672590478661306, 3.2215456976257206, 3.000989688088625, 3.055087038156764, 2.884310618066561, 3.7444933920704844, 2.5350525788683025, 2.8288103453635487, 3.447851249846078, 2.5023650401293906, 3.1803725579282145, 2.934947049924357, 2.8115363685833485, 2.9935638377488396, 2.9006955749593017, 2.6071418109382782, 3.173046413015259, 2.445599310785649, 2.2850535473391513, 2.1895013410695716, 1.5712621569636713, 1.6931842614491506, 1.7604694585222727, 2.68160577740017, 2.5605152707018983], \"type\": \"scatter\", \"uid\": \"8597cd2b-eaf8-4377-aada-bdec8cd0f504\"}, {\"name\": \"BE\", \"x\": [\"1992\", \"1993\", \"1994\", \"1995\", \"1996\", \"1997\", \"1998\", \"1999\", \"2000\", \"2001\", \"2002\", \"2003\", \"2004\", \"2005\", \"2006\", \"2007\", \"2008\", \"2009\", \"2010\", \"2011\", \"2012\", \"2013\", \"2014\", \"2015\", \"2016\", \"2017\"], \"y\": [3.3545988160971, 3.2876179158614107, 3.398240354577064, 3.3368214464322485, 3.175681788059268, 3.2269910682627856, 3.1856647198715597, 3.2712322132670737, 3.2116253896186553, 3.311025452393121, 3.396383610277279, 3.462174775673189, 3.3193053168158375, 3.100688315448339, 2.997694320000248, 2.984822256154456, 2.8032271999228393, 2.586891585354151, 2.59567036912034, 2.6491213579617683, 2.5924250458617566, 2.4413728408675106, 2.4667179869850884, 2.4854318230754466, 2.3865585921918386, 2.5227393709352652], \"type\": \"scatter\", \"uid\": \"b9a1245a-27c3-4afe-8dfe-7d85d76ec114\"}, {\"name\": \"GR\", \"x\": [\"1992\", \"1993\", \"1994\", \"1995\", \"1996\", \"1997\", \"1998\", \"1999\", \"2000\", \"2001\", \"2002\", \"2003\", \"2004\", \"2005\", \"2006\", \"2007\", \"2008\", \"2009\", \"2010\", \"2011\", \"2012\", \"2013\", \"2014\", \"2015\", \"2016\", \"2017\"], \"y\": [4.472965592572365, 4.520341536916122, 4.185102950337844, 4.111029501128155, 3.9517339024957203, 3.8928326081978475, 4.031224637990688, 4.003795875717058, 3.6948824548905357, 4.063863723699379, 3.707716257152474, 3.807611037887822, 3.611351751923097, 3.4814973575121404, 3.259489868941345, 3.5751884009631123, 3.160048695832362, 2.906245346669884, 2.798363727639185, 2.606592796685762, 2.4731416813406404, 2.446152712626176, 2.5791899578307342, 2.356660860400779, 2.3971234518577704, 2.4821277052266097], \"type\": \"scatter\", \"uid\": \"9dc754ad-40e9-4697-9484-9f8c1aa0782e\"}, {\"name\": \"LU\", \"x\": [\"1992\", \"1993\", \"1994\", \"1995\", \"1996\", \"1997\", \"1998\", \"1999\", \"2000\", \"2001\", \"2002\", \"2003\", \"2004\", \"2005\", \"2006\", \"2007\", \"2008\", \"2009\", \"2010\", \"2011\", \"2012\", \"2013\", \"2014\", \"2015\", \"2016\", \"2017\"], \"y\": [3.3397105181235966, 3.1629013790608753, 3.1339597299517012, 3.1776416539050536, 3.0334411955396092, 3.3460396895390847, 3.170768092244781, 3.394719972026342, 3.440709360062843, 3.7607886190280997, 3.528802426905411, 3.6829331911949827, 3.345662930111249, 3.401111966854618, 3.1206647741704976, 3.0531271758711775, 3.097496076959814, 3.113786661131046, 2.8825043829861166, 2.8778287600899484, 2.6503583510709405, 2.4568588792455133, 2.538051932060622, 2.5141716883916247, 2.1040353182630263, 2.391047371557527], \"type\": \"scatter\", \"uid\": \"defac423-39a3-4a5f-bb9c-9fb90a50a660\"}], {\"margin\": {\"b\": 50, \"l\": 50, \"pad\": 4, \"r\": 50, \"t\": 50}, \"title\": \"<b>Normalized number of accidents </b>\", \"titlefont\": {\"color\": \"#7f7f7f\", \"family\": \"Courier New, monospace\", \"size\": 18}, \"xaxis\": {\"title\": \"Year\", \"titlefont\": {\"color\": \"#7f7f7f\", \"family\": \"Courier New, monospace\", \"size\": 15}}, \"yaxis\": {\"title\": \"Number of accidents\", \"titlefont\": {\"color\": \"#7f7f7f\", \"family\": \"Courier New, monospace\", \"size\": 15}}}, {\"showLink\": true, \"linkText\": \"Export to plot.ly\", \"plotlyServerURL\": \"https://plot.ly\"})});</script><script type=\"text/javascript\">window.addEventListener(\"resize\", function(){window._Plotly.Plots.resize(document.getElementById(\"1e132d04-fd12-4944-95a5-76b98bf45cd2\"));});</script>"
      ],
      "text/vnd.plotly.v1+html": [
       "<div id=\"1e132d04-fd12-4944-95a5-76b98bf45cd2\" style=\"height: 525px; width: 100%;\" class=\"plotly-graph-div\"></div><script type=\"text/javascript\">require([\"plotly\"], function(Plotly) { window.PLOTLYENV=window.PLOTLYENV || {};window.PLOTLYENV.BASE_URL=\"https://plot.ly\";Plotly.newPlot(\"1e132d04-fd12-4944-95a5-76b98bf45cd2\", [{\"name\": \"UR\", \"x\": [\"1992\", \"1993\", \"1994\", \"1995\", \"1996\", \"1997\", \"1998\", \"1999\", \"2000\", \"2001\", \"2002\", \"2003\", \"2004\", \"2005\", \"2006\", \"2007\", \"2008\", \"2009\", \"2010\", \"2011\", \"2012\", \"2013\", \"2014\", \"2015\", \"2016\", \"2017\"], \"y\": [3.841522848460524, 4.061784897025172, 4.63384125540141, 5.230839208551285, 4.73555086438067, 4.731047138433307, 4.609356994699239, 4.513888888888888, 4.592088819135641, 4.629361726751925, 4.197545159796202, 4.519286125503742, 3.3366891989069467, 3.4052868521297475, 3.0079537237888645, 3.686823235695416, 3.3190948972523664, 4.285056942367421, 3.049633484416093, 2.9350104821802936, 2.9334440293344404, 3.3809785596481583, 2.574425547065429, 3.194190395588195, 2.7977398650501946, 3.052686091198997], \"type\": \"scatter\", \"uid\": \"7806cb46-91ec-4d33-b67c-a3ed6a04f196\"}, {\"name\": \"OW\", \"x\": [\"1992\", \"1993\", \"1994\", \"1995\", \"1996\", \"1997\", \"1998\", \"1999\", \"2000\", \"2001\", \"2002\", \"2003\", \"2004\", \"2005\", \"2006\", \"2007\", \"2008\", \"2009\", \"2010\", \"2011\", \"2012\", \"2013\", \"2014\", \"2015\", \"2016\", \"2017\"], \"y\": [3.7186954947839537, 3.5672590478661306, 3.2215456976257206, 3.000989688088625, 3.055087038156764, 2.884310618066561, 3.7444933920704844, 2.5350525788683025, 2.8288103453635487, 3.447851249846078, 2.5023650401293906, 3.1803725579282145, 2.934947049924357, 2.8115363685833485, 2.9935638377488396, 2.9006955749593017, 2.6071418109382782, 3.173046413015259, 2.445599310785649, 2.2850535473391513, 2.1895013410695716, 1.5712621569636713, 1.6931842614491506, 1.7604694585222727, 2.68160577740017, 2.5605152707018983], \"type\": \"scatter\", \"uid\": \"8597cd2b-eaf8-4377-aada-bdec8cd0f504\"}, {\"name\": \"BE\", \"x\": [\"1992\", \"1993\", \"1994\", \"1995\", \"1996\", \"1997\", \"1998\", \"1999\", \"2000\", \"2001\", \"2002\", \"2003\", \"2004\", \"2005\", \"2006\", \"2007\", \"2008\", \"2009\", \"2010\", \"2011\", \"2012\", \"2013\", \"2014\", \"2015\", \"2016\", \"2017\"], \"y\": [3.3545988160971, 3.2876179158614107, 3.398240354577064, 3.3368214464322485, 3.175681788059268, 3.2269910682627856, 3.1856647198715597, 3.2712322132670737, 3.2116253896186553, 3.311025452393121, 3.396383610277279, 3.462174775673189, 3.3193053168158375, 3.100688315448339, 2.997694320000248, 2.984822256154456, 2.8032271999228393, 2.586891585354151, 2.59567036912034, 2.6491213579617683, 2.5924250458617566, 2.4413728408675106, 2.4667179869850884, 2.4854318230754466, 2.3865585921918386, 2.5227393709352652], \"type\": \"scatter\", \"uid\": \"b9a1245a-27c3-4afe-8dfe-7d85d76ec114\"}, {\"name\": \"GR\", \"x\": [\"1992\", \"1993\", \"1994\", \"1995\", \"1996\", \"1997\", \"1998\", \"1999\", \"2000\", \"2001\", \"2002\", \"2003\", \"2004\", \"2005\", \"2006\", \"2007\", \"2008\", \"2009\", \"2010\", \"2011\", \"2012\", \"2013\", \"2014\", \"2015\", \"2016\", \"2017\"], \"y\": [4.472965592572365, 4.520341536916122, 4.185102950337844, 4.111029501128155, 3.9517339024957203, 3.8928326081978475, 4.031224637990688, 4.003795875717058, 3.6948824548905357, 4.063863723699379, 3.707716257152474, 3.807611037887822, 3.611351751923097, 3.4814973575121404, 3.259489868941345, 3.5751884009631123, 3.160048695832362, 2.906245346669884, 2.798363727639185, 2.606592796685762, 2.4731416813406404, 2.446152712626176, 2.5791899578307342, 2.356660860400779, 2.3971234518577704, 2.4821277052266097], \"type\": \"scatter\", \"uid\": \"9dc754ad-40e9-4697-9484-9f8c1aa0782e\"}, {\"name\": \"LU\", \"x\": [\"1992\", \"1993\", \"1994\", \"1995\", \"1996\", \"1997\", \"1998\", \"1999\", \"2000\", \"2001\", \"2002\", \"2003\", \"2004\", \"2005\", \"2006\", \"2007\", \"2008\", \"2009\", \"2010\", \"2011\", \"2012\", \"2013\", \"2014\", \"2015\", \"2016\", \"2017\"], \"y\": [3.3397105181235966, 3.1629013790608753, 3.1339597299517012, 3.1776416539050536, 3.0334411955396092, 3.3460396895390847, 3.170768092244781, 3.394719972026342, 3.440709360062843, 3.7607886190280997, 3.528802426905411, 3.6829331911949827, 3.345662930111249, 3.401111966854618, 3.1206647741704976, 3.0531271758711775, 3.097496076959814, 3.113786661131046, 2.8825043829861166, 2.8778287600899484, 2.6503583510709405, 2.4568588792455133, 2.538051932060622, 2.5141716883916247, 2.1040353182630263, 2.391047371557527], \"type\": \"scatter\", \"uid\": \"defac423-39a3-4a5f-bb9c-9fb90a50a660\"}], {\"margin\": {\"b\": 50, \"l\": 50, \"pad\": 4, \"r\": 50, \"t\": 50}, \"title\": \"<b>Normalized number of accidents </b>\", \"titlefont\": {\"color\": \"#7f7f7f\", \"family\": \"Courier New, monospace\", \"size\": 18}, \"xaxis\": {\"title\": \"Year\", \"titlefont\": {\"color\": \"#7f7f7f\", \"family\": \"Courier New, monospace\", \"size\": 15}}, \"yaxis\": {\"title\": \"Number of accidents\", \"titlefont\": {\"color\": \"#7f7f7f\", \"family\": \"Courier New, monospace\", \"size\": 15}}}, {\"showLink\": true, \"linkText\": \"Export to plot.ly\", \"plotlyServerURL\": \"https://plot.ly\"})});</script><script type=\"text/javascript\">window.addEventListener(\"resize\", function(){window._Plotly.Plots.resize(document.getElementById(\"1e132d04-fd12-4944-95a5-76b98bf45cd2\"));});</script>"
      ]
     },
     "metadata": {},
     "output_type": "display_data"
    }
   ],
   "source": [
    "# Get the victims by canton, drop the uninteresting columns and the last row \n",
    "# (which is a row of NaN), group and sum the accidents for the cantons\n",
    "df_victimes_cantons_normalized = df_Accident_cantons.\\\n",
    "    drop(columns = (['canton_index', 'gravite_index', 'ruralite_index']))[:-1].\\\n",
    "    groupby('canton').sum().sort_values('2017', ascending=False)\n",
    "\n",
    "# Get the population from 1992 and the interesting columns\n",
    "df_pop_cantons = df_Population_canton_1992\\\n",
    "    [(df_Population_canton_1992.sexe == 'Sexe - Total')].\\\n",
    "    drop(columns = ['sexe','2010'])\n",
    "\n",
    "# Get the population from 2010, group by canton and keep what we want\n",
    "df_pop_cantons_since_2010 = df_Population_2010[(df_Population_2010.sexe == 'Sexe - Total') &\\\n",
    "                            (df_Population_2010.etat_civil == 'Etat civil - Total')]\\\n",
    "    [['annee', 'canton', 'Age - Total']].groupby(['annee','canton']).sum().\\\n",
    "    reset_index().pivot(index='canton', columns='annee', values='Age - Total').\\\n",
    "    rename(columns = lambda x : str(x)[0:4])\n",
    "\n",
    "# Merge both datasets to have the population by canton from 1992 to 2017\n",
    "df_pop_cantons = df_pop_cantons.\\\n",
    "    merge(df_pop_cantons_since_2010, left_on='canton', right_on='canton').set_index('canton')\n",
    "\n",
    "# Normalization of the number of accidents by year and canton\n",
    "for cant in df_victimes_cantons_normalized.index.values:\n",
    "    for year in df_victimes_cantons_normalized.columns:\n",
    "        df_victimes_cantons_normalized.loc[cant][year] =\\\n",
    "            df_victimes_cantons_normalized.loc[cant][year]/\\\n",
    "            df_pop_cantons.loc[cant][year]*1000\n",
    "        \n",
    "# Sort them wrt the reference year\n",
    "df_victimes_cantons_normalized = df_victimes_cantons_normalized.sort_values('2017', ascending=False)\n",
    "\n",
    "# Plot the 5 cantons with the most accidents per 1000 persons\n",
    "plot_dataframe(x=df_victimes_cantons_normalized.columns, y=df_victimes_cantons_normalized[:5],\\\n",
    "               labels=df_victimes_cantons_normalized[:5].index,\\\n",
    "               title=\"Normalized number of accidents \", xlabel='Year',\\\n",
    "               ylabel='Number of accidents', rotation=45,name_save='correlation_normalized')"
   ]
  },
  {
   "cell_type": "markdown",
   "metadata": {},
   "source": [
    "### 2.2 Expenses for Roads"
   ]
  },
  {
   "cell_type": "markdown",
   "metadata": {},
   "source": [
    "A first correlation we wanted to examine was with the expenses of the different cantons in the roads (new roads, maintenance, police surveillance, ...). Again, to have a more meaningful insight, we normalize these expenses by the road length of the cantons. Alltogether, this means we corrolate the number of accidents for 1000 people with the expenses for 100 km of road.\n",
    "\n",
    "Normalization:"
   ]
  },
  {
   "cell_type": "code",
   "execution_count": 55,
   "metadata": {},
   "outputs": [],
   "source": [
    "df_frais_cantons_normalized = df_Frais_routes_cantonales.copy()\n",
    "\n",
    "# Sum the different types of expenses (with the police surveillance) in a new column\n",
    "df_frais_cantons_normalized['Expenses'] =\\\n",
    "    df_frais_cantons_normalized[['Constructions', 'Amélio-', 'Entretien Construction',\\\n",
    "                      'Entretien Exploitation']].sum(axis=1)\n",
    "\n",
    "# Drop the now useless columns\n",
    "df_frais_cantons_normalized =\\\n",
    "    df_frais_cantons_normalized[['annee', 'canton', 'Expenses']]\n",
    "\n",
    "# Create a dataframe with the cantons in index and the years in columns\n",
    "df_frais_cantons_normalized = df_frais_cantons_normalized.\\\n",
    "    pivot(index = 'canton', columns = 'annee', values = 'Expenses').\\\n",
    "    rename(columns = lambda x : str(x))\n",
    "\n",
    "# Create a dataframe with the cantons in index and the years in columns for\n",
    "# the road length\n",
    "df_routes_cantons =\\\n",
    "    df_Longueur_routes.pivot(index = 'canton', columns='annee', values = 'Total').\\\n",
    "    rename(columns = lambda x : str(x))\n",
    "\n",
    "# Normalization\n",
    "for cant in df_frais_cantons_normalized.index.values:\n",
    "    for year in df_frais_cantons_normalized.columns:\n",
    "        df_frais_cantons_normalized.loc[cant][year] =\\\n",
    "                    df_frais_cantons_normalized.loc[cant][year]/\\\n",
    "                    df_routes_cantons.loc[cant][year]*100"
   ]
  },
  {
   "cell_type": "markdown",
   "metadata": {},
   "source": [
    "To analyze the correlations, we need to restrain ourselves to the period between 1994 and 2015, because of the lack of information."
   ]
  },
  {
   "cell_type": "code",
   "execution_count": 56,
   "metadata": {
    "scrolled": false
   },
   "outputs": [
    {
     "data": {
      "application/vnd.plotly.v1+json": {
       "config": {
        "linkText": "Export to plot.ly",
        "plotlyServerURL": "https://plot.ly",
        "showLink": true
       },
       "data": [
        {
         "mode": "markers",
         "name": "GL",
         "type": "scatter",
         "uid": "68131a7d-1855-4646-af70-52f4bbc643c1",
         "x": [
          2459,
          2819,
          3303,
          1624,
          1540,
          1728,
          2370,
          2953,
          1952,
          1999,
          1233,
          1395,
          1815,
          1796,
          1869,
          1589,
          2644,
          2900,
          2943,
          2821,
          2781,
          2812
         ],
         "y": [
          2.8098498007561052,
          2.0634839761552963,
          2.2547336595864613,
          2.257687816270922,
          2.194300044408453,
          2.6367314971935776,
          2.6434946475776693,
          2.259708865415944,
          2.8829017716741796,
          2.7166105059687067,
          2.612807984741201,
          2.9660349624652214,
          2.2894134364885135,
          2.7343955408318874,
          2.7250098257565836,
          3.1365168979847877,
          2.093759575120008,
          2.158959682683135,
          2.022825462627675,
          2.3157370517928286,
          2.227281726390814,
          2.5911210917256864
         ]
        },
        {
         "mode": "markers",
         "name": "GE",
         "type": "scatter",
         "uid": "7c956649-a0e8-4f9c-a80f-bab34f563586",
         "x": [
          3277,
          1931,
          2057,
          2113,
          2441,
          2194,
          2468,
          2648,
          2543,
          3256,
          3046,
          3315,
          3628,
          2877,
          3454,
          4856,
          5363,
          6661,
          6242,
          8080,
          4933,
          4427
         ],
         "y": [
          2.8660156777426495,
          2.624559205407754,
          2.6087703170931276,
          2.6085864925935223,
          2.912963060033997,
          3.0241536329439715,
          3.0705442882008955,
          3.264033663499505,
          3.2212755777570923,
          3.1501656874979553,
          3.0515807373303874,
          2.807284284474527,
          2.7149629932808077,
          2.7005858437689585,
          2.769841394138586,
          2.517226025736542,
          2.4020065860072273,
          1.9768974339096053,
          2.1896029177582577,
          2.500338741912537,
          2.700361640739733,
          2.5832083283944463
         ]
        },
        {
         "mode": "markers",
         "name": "TE",
         "type": "scatter",
         "uid": "cffc9978-4796-4909-bffb-d2ffb29a2b06",
         "x": [
          6033,
          6659,
          5438,
          4646,
          4384,
          4351,
          3672,
          4310,
          3791,
          3731,
          3632,
          3696,
          3918,
          4008,
          4730,
          4964,
          4565,
          4722,
          4366,
          3775,
          3800,
          4449
         ],
         "y": [
          5.926095335470136,
          5.684881809043889,
          5.4447183577588065,
          5.3961791730729,
          5.139488569525583,
          5.315367500888637,
          5.407385555018851,
          5.2578433516419905,
          5.150785079338705,
          4.818005756332123,
          4.586811273849853,
          4.22480559996275,
          4.6392498391500965,
          4.126581042144846,
          3.7876960193003617,
          3.459574838038535,
          3.550595238095238,
          3.3246973729585383,
          3.0527515467274506,
          2.7337515151688825,
          2.4626563248325875,
          2.5475553050584754
         ]
        },
        {
         "mode": "markers",
         "name": "LU",
         "type": "scatter",
         "uid": "eb6120cc-e5b2-4d29-aa21-94b81d6781bf",
         "x": [
          1092,
          1637,
          1411,
          1360,
          1310,
          1596,
          1821,
          1927,
          1936,
          1962,
          1993,
          2034,
          2134,
          2666,
          2524,
          2564,
          2777,
          2551,
          2105,
          2402,
          3338,
          3025
         ],
         "y": [
          3.1339597299517012,
          3.1776416539050536,
          3.0334411955396092,
          3.3460396895390847,
          3.170768092244781,
          3.394719972026342,
          3.440709360062843,
          3.7607886190280997,
          3.528802426905411,
          3.6829331911949827,
          3.345662930111249,
          3.401111966854618,
          3.1206647741704976,
          3.0531271758711775,
          3.097496076959814,
          3.113786661131046,
          2.8825043829861166,
          2.8778287600899484,
          2.6503583510709405,
          2.4568588792455133,
          2.538051932060622,
          2.5141716883916247
         ]
        },
        {
         "mode": "markers",
         "name": "BE",
         "type": "scatter",
         "uid": "ffe05b6f-fc44-4391-a0a3-d42eecb34112",
         "x": [
          1167,
          1157,
          1221,
          1224,
          1191,
          1533,
          1320,
          1338,
          1166,
          1453,
          1399,
          1744,
          1387,
          1369,
          1516,
          1860,
          1710,
          1741,
          1683,
          1534,
          1615,
          1740
         ],
         "y": [
          3.398240354577064,
          3.3368214464322485,
          3.175681788059268,
          3.2269910682627856,
          3.1856647198715597,
          3.2712322132670737,
          3.2116253896186553,
          3.311025452393121,
          3.396383610277279,
          3.462174775673189,
          3.3193053168158375,
          3.100688315448339,
          2.997694320000248,
          2.984822256154456,
          2.8032271999228393,
          2.586891585354151,
          2.59567036912034,
          2.6491213579617683,
          2.5924250458617566,
          2.4413728408675106,
          2.4667179869850884,
          2.4854318230754466
         ]
        }
       ],
       "layout": {
        "title": "Correlation wrt. the expenses in the roads",
        "titlefont": {
         "color": "#7f7f7f",
         "family": "Courier New, monospace",
         "size": 18
        },
        "xaxis": {
         "title": "Total expenses",
         "titlefont": {
          "color": "#7f7f7f",
          "family": "Courier New, monospace",
          "size": 15
         }
        },
        "yaxis": {
         "title": "Number of victimes",
         "titlefont": {
          "color": "#7f7f7f",
          "family": "Courier New, monospace",
          "size": 15
         }
        }
       }
      },
      "text/html": [
       "<div id=\"67292471-e96b-45a0-b0e9-5f486b33f7da\" style=\"height: 525px; width: 100%;\" class=\"plotly-graph-div\"></div><script type=\"text/javascript\">require([\"plotly\"], function(Plotly) { window.PLOTLYENV=window.PLOTLYENV || {};window.PLOTLYENV.BASE_URL=\"https://plot.ly\";Plotly.newPlot(\"67292471-e96b-45a0-b0e9-5f486b33f7da\", [{\"mode\": \"markers\", \"name\": \"GL\", \"x\": [2459, 2819, 3303, 1624, 1540, 1728, 2370, 2953, 1952, 1999, 1233, 1395, 1815, 1796, 1869, 1589, 2644, 2900, 2943, 2821, 2781, 2812], \"y\": [2.8098498007561052, 2.0634839761552963, 2.2547336595864613, 2.257687816270922, 2.194300044408453, 2.6367314971935776, 2.6434946475776693, 2.259708865415944, 2.8829017716741796, 2.7166105059687067, 2.612807984741201, 2.9660349624652214, 2.2894134364885135, 2.7343955408318874, 2.7250098257565836, 3.1365168979847877, 2.093759575120008, 2.158959682683135, 2.022825462627675, 2.3157370517928286, 2.227281726390814, 2.5911210917256864], \"type\": \"scatter\", \"uid\": \"68131a7d-1855-4646-af70-52f4bbc643c1\"}, {\"mode\": \"markers\", \"name\": \"GE\", \"x\": [3277, 1931, 2057, 2113, 2441, 2194, 2468, 2648, 2543, 3256, 3046, 3315, 3628, 2877, 3454, 4856, 5363, 6661, 6242, 8080, 4933, 4427], \"y\": [2.8660156777426495, 2.624559205407754, 2.6087703170931276, 2.6085864925935223, 2.912963060033997, 3.0241536329439715, 3.0705442882008955, 3.264033663499505, 3.2212755777570923, 3.1501656874979553, 3.0515807373303874, 2.807284284474527, 2.7149629932808077, 2.7005858437689585, 2.769841394138586, 2.517226025736542, 2.4020065860072273, 1.9768974339096053, 2.1896029177582577, 2.500338741912537, 2.700361640739733, 2.5832083283944463], \"type\": \"scatter\", \"uid\": \"7c956649-a0e8-4f9c-a80f-bab34f563586\"}, {\"mode\": \"markers\", \"name\": \"TE\", \"x\": [6033, 6659, 5438, 4646, 4384, 4351, 3672, 4310, 3791, 3731, 3632, 3696, 3918, 4008, 4730, 4964, 4565, 4722, 4366, 3775, 3800, 4449], \"y\": [5.926095335470136, 5.684881809043889, 5.4447183577588065, 5.3961791730729, 5.139488569525583, 5.315367500888637, 5.407385555018851, 5.2578433516419905, 5.150785079338705, 4.818005756332123, 4.586811273849853, 4.22480559996275, 4.6392498391500965, 4.126581042144846, 3.7876960193003617, 3.459574838038535, 3.550595238095238, 3.3246973729585383, 3.0527515467274506, 2.7337515151688825, 2.4626563248325875, 2.5475553050584754], \"type\": \"scatter\", \"uid\": \"cffc9978-4796-4909-bffb-d2ffb29a2b06\"}, {\"mode\": \"markers\", \"name\": \"LU\", \"x\": [1092, 1637, 1411, 1360, 1310, 1596, 1821, 1927, 1936, 1962, 1993, 2034, 2134, 2666, 2524, 2564, 2777, 2551, 2105, 2402, 3338, 3025], \"y\": [3.1339597299517012, 3.1776416539050536, 3.0334411955396092, 3.3460396895390847, 3.170768092244781, 3.394719972026342, 3.440709360062843, 3.7607886190280997, 3.528802426905411, 3.6829331911949827, 3.345662930111249, 3.401111966854618, 3.1206647741704976, 3.0531271758711775, 3.097496076959814, 3.113786661131046, 2.8825043829861166, 2.8778287600899484, 2.6503583510709405, 2.4568588792455133, 2.538051932060622, 2.5141716883916247], \"type\": \"scatter\", \"uid\": \"eb6120cc-e5b2-4d29-aa21-94b81d6781bf\"}, {\"mode\": \"markers\", \"name\": \"BE\", \"x\": [1167, 1157, 1221, 1224, 1191, 1533, 1320, 1338, 1166, 1453, 1399, 1744, 1387, 1369, 1516, 1860, 1710, 1741, 1683, 1534, 1615, 1740], \"y\": [3.398240354577064, 3.3368214464322485, 3.175681788059268, 3.2269910682627856, 3.1856647198715597, 3.2712322132670737, 3.2116253896186553, 3.311025452393121, 3.396383610277279, 3.462174775673189, 3.3193053168158375, 3.100688315448339, 2.997694320000248, 2.984822256154456, 2.8032271999228393, 2.586891585354151, 2.59567036912034, 2.6491213579617683, 2.5924250458617566, 2.4413728408675106, 2.4667179869850884, 2.4854318230754466], \"type\": \"scatter\", \"uid\": \"ffe05b6f-fc44-4391-a0a3-d42eecb34112\"}], {\"title\": \"Correlation wrt. the expenses in the roads\", \"titlefont\": {\"color\": \"#7f7f7f\", \"family\": \"Courier New, monospace\", \"size\": 18}, \"xaxis\": {\"title\": \"Total expenses\", \"titlefont\": {\"color\": \"#7f7f7f\", \"family\": \"Courier New, monospace\", \"size\": 15}}, \"yaxis\": {\"title\": \"Number of victimes\", \"titlefont\": {\"color\": \"#7f7f7f\", \"family\": \"Courier New, monospace\", \"size\": 15}}}, {\"showLink\": true, \"linkText\": \"Export to plot.ly\", \"plotlyServerURL\": \"https://plot.ly\"})});</script><script type=\"text/javascript\">window.addEventListener(\"resize\", function(){window._Plotly.Plots.resize(document.getElementById(\"67292471-e96b-45a0-b0e9-5f486b33f7da\"));});</script>"
      ],
      "text/vnd.plotly.v1+html": [
       "<div id=\"67292471-e96b-45a0-b0e9-5f486b33f7da\" style=\"height: 525px; width: 100%;\" class=\"plotly-graph-div\"></div><script type=\"text/javascript\">require([\"plotly\"], function(Plotly) { window.PLOTLYENV=window.PLOTLYENV || {};window.PLOTLYENV.BASE_URL=\"https://plot.ly\";Plotly.newPlot(\"67292471-e96b-45a0-b0e9-5f486b33f7da\", [{\"mode\": \"markers\", \"name\": \"GL\", \"x\": [2459, 2819, 3303, 1624, 1540, 1728, 2370, 2953, 1952, 1999, 1233, 1395, 1815, 1796, 1869, 1589, 2644, 2900, 2943, 2821, 2781, 2812], \"y\": [2.8098498007561052, 2.0634839761552963, 2.2547336595864613, 2.257687816270922, 2.194300044408453, 2.6367314971935776, 2.6434946475776693, 2.259708865415944, 2.8829017716741796, 2.7166105059687067, 2.612807984741201, 2.9660349624652214, 2.2894134364885135, 2.7343955408318874, 2.7250098257565836, 3.1365168979847877, 2.093759575120008, 2.158959682683135, 2.022825462627675, 2.3157370517928286, 2.227281726390814, 2.5911210917256864], \"type\": \"scatter\", \"uid\": \"68131a7d-1855-4646-af70-52f4bbc643c1\"}, {\"mode\": \"markers\", \"name\": \"GE\", \"x\": [3277, 1931, 2057, 2113, 2441, 2194, 2468, 2648, 2543, 3256, 3046, 3315, 3628, 2877, 3454, 4856, 5363, 6661, 6242, 8080, 4933, 4427], \"y\": [2.8660156777426495, 2.624559205407754, 2.6087703170931276, 2.6085864925935223, 2.912963060033997, 3.0241536329439715, 3.0705442882008955, 3.264033663499505, 3.2212755777570923, 3.1501656874979553, 3.0515807373303874, 2.807284284474527, 2.7149629932808077, 2.7005858437689585, 2.769841394138586, 2.517226025736542, 2.4020065860072273, 1.9768974339096053, 2.1896029177582577, 2.500338741912537, 2.700361640739733, 2.5832083283944463], \"type\": \"scatter\", \"uid\": \"7c956649-a0e8-4f9c-a80f-bab34f563586\"}, {\"mode\": \"markers\", \"name\": \"TE\", \"x\": [6033, 6659, 5438, 4646, 4384, 4351, 3672, 4310, 3791, 3731, 3632, 3696, 3918, 4008, 4730, 4964, 4565, 4722, 4366, 3775, 3800, 4449], \"y\": [5.926095335470136, 5.684881809043889, 5.4447183577588065, 5.3961791730729, 5.139488569525583, 5.315367500888637, 5.407385555018851, 5.2578433516419905, 5.150785079338705, 4.818005756332123, 4.586811273849853, 4.22480559996275, 4.6392498391500965, 4.126581042144846, 3.7876960193003617, 3.459574838038535, 3.550595238095238, 3.3246973729585383, 3.0527515467274506, 2.7337515151688825, 2.4626563248325875, 2.5475553050584754], \"type\": \"scatter\", \"uid\": \"cffc9978-4796-4909-bffb-d2ffb29a2b06\"}, {\"mode\": \"markers\", \"name\": \"LU\", \"x\": [1092, 1637, 1411, 1360, 1310, 1596, 1821, 1927, 1936, 1962, 1993, 2034, 2134, 2666, 2524, 2564, 2777, 2551, 2105, 2402, 3338, 3025], \"y\": [3.1339597299517012, 3.1776416539050536, 3.0334411955396092, 3.3460396895390847, 3.170768092244781, 3.394719972026342, 3.440709360062843, 3.7607886190280997, 3.528802426905411, 3.6829331911949827, 3.345662930111249, 3.401111966854618, 3.1206647741704976, 3.0531271758711775, 3.097496076959814, 3.113786661131046, 2.8825043829861166, 2.8778287600899484, 2.6503583510709405, 2.4568588792455133, 2.538051932060622, 2.5141716883916247], \"type\": \"scatter\", \"uid\": \"eb6120cc-e5b2-4d29-aa21-94b81d6781bf\"}, {\"mode\": \"markers\", \"name\": \"BE\", \"x\": [1167, 1157, 1221, 1224, 1191, 1533, 1320, 1338, 1166, 1453, 1399, 1744, 1387, 1369, 1516, 1860, 1710, 1741, 1683, 1534, 1615, 1740], \"y\": [3.398240354577064, 3.3368214464322485, 3.175681788059268, 3.2269910682627856, 3.1856647198715597, 3.2712322132670737, 3.2116253896186553, 3.311025452393121, 3.396383610277279, 3.462174775673189, 3.3193053168158375, 3.100688315448339, 2.997694320000248, 2.984822256154456, 2.8032271999228393, 2.586891585354151, 2.59567036912034, 2.6491213579617683, 2.5924250458617566, 2.4413728408675106, 2.4667179869850884, 2.4854318230754466], \"type\": \"scatter\", \"uid\": \"ffe05b6f-fc44-4391-a0a3-d42eecb34112\"}], {\"title\": \"Correlation wrt. the expenses in the roads\", \"titlefont\": {\"color\": \"#7f7f7f\", \"family\": \"Courier New, monospace\", \"size\": 18}, \"xaxis\": {\"title\": \"Total expenses\", \"titlefont\": {\"color\": \"#7f7f7f\", \"family\": \"Courier New, monospace\", \"size\": 15}}, \"yaxis\": {\"title\": \"Number of victimes\", \"titlefont\": {\"color\": \"#7f7f7f\", \"family\": \"Courier New, monospace\", \"size\": 15}}}, {\"showLink\": true, \"linkText\": \"Export to plot.ly\", \"plotlyServerURL\": \"https://plot.ly\"})});</script><script type=\"text/javascript\">window.addEventListener(\"resize\", function(){window._Plotly.Plots.resize(document.getElementById(\"67292471-e96b-45a0-b0e9-5f486b33f7da\"));});</script>"
      ]
     },
     "metadata": {},
     "output_type": "display_data"
    }
   ],
   "source": [
    "df_victimes_cantons_normalized_toplot = df_victimes_cantons_normalized.copy()\n",
    "\n",
    "# Drop the uninteresting columns\n",
    "df_victimes_cantons_normalized_toplot = df_victimes_cantons_normalized_toplot.\\\n",
    "    drop(columns = ['1992', '1993', '2016', '2017'])\n",
    "\n",
    "# Order the dataframe wrt to 2015\n",
    "df_victimes_cantons_normalized_toplot =\\\n",
    "    df_victimes_cantons_normalized_toplot.sort_values('2015', ascending = False)\n",
    "\n",
    "# Order both dataframes to have a 1-1 correspondance between the rows\n",
    "df_frais_cantons_normalized =\\\n",
    "    df_frais_cantons_normalized.reindex(df_victimes_cantons_normalized_toplot.index)\n",
    "\n",
    "# Plot with our function\n",
    "plot_correlation(x = df_frais_cantons_normalized[1:6], y = df_victimes_cantons_normalized_toplot[1:6],\\\n",
    "                title='Correlation wrt. the expenses in the roads', xlabel='Total expenses',\\\n",
    "                ylabel='Number of victimes', labels=df_frais_cantons_normalized.index[1:6],name_save='correlation_expenses_roads')"
   ]
  },
  {
   "cell_type": "code",
   "execution_count": 57,
   "metadata": {
    "scrolled": false
   },
   "outputs": [],
   "source": [
    "df_frais_cantons_normalized = df_frais_cantons_normalized.sort_values(['2015'],ascending=False)\n",
    "MAP = create_map(df_frais_cantons_normalized.iloc[1:].reset_index(),[str(i) for i in df_frais_cantons_normalized.columns],'Expenses in the road')\n",
    "save_it(MAP,'expenses_road_canton')"
   ]
  },
  {
   "cell_type": "markdown",
   "metadata": {},
   "source": [
    "#### <center>[CLICK HERE TO SEE THE MAPS](./docs/_stories/maps/expenses_road_canton.html)</center>"
   ]
  },
  {
   "cell_type": "markdown",
   "metadata": {},
   "source": [
    "We discarded Basel Town in the plot above because it is a clear outlier, with three times as much expenses as any other canton. The five cantons plotted are the one investing the most in the roads.\n",
    "\n",
    "But we are interested in a possible correlation, so let's investigate it."
   ]
  },
  {
   "cell_type": "code",
   "execution_count": 148,
   "metadata": {
    "scrolled": false
   },
   "outputs": [
    {
     "name": "stdout",
     "output_type": "stream",
     "text": [
      "Significant correlations:\n",
      "1 Canton: GL / Correlation: -0.575185749755652\n",
      "2 Canton: GE / Correlation: -0.6765201898425918\n",
      "3 Canton: LU / Correlation: -0.5672529711677493\n",
      "4 Canton: BE / Correlation: -0.7589513376028258\n",
      "5 Canton: GR / Correlation: -0.7691095970204213\n",
      "6 Canton: TG / Correlation: -0.6026604096805398\n",
      "7 Canton: ZH / Correlation: -0.7435246851798258\n",
      "8 Canton: ZG / Correlation: -0.4521365168404547\n",
      "9 Canton: BS / Correlation: -0.6234192332442791\n",
      "10 Canton: SZ / Correlation: -0.8183003393095748\n",
      "11 Canton: AG / Correlation: -0.6915021480840923\n",
      "12 Canton: FR / Correlation: -0.6104336535501711\n",
      "13 Canton: BL / Correlation: -0.5697292714527402\n",
      "14 Canton: NE / Correlation: 0.4525181597201256\n",
      "15 Canton: VS / Correlation: -0.5978119924938714\n",
      "Plot the cantons with a correlation of more than 0.75:\n"
     ]
    },
    {
     "data": {
      "application/vnd.plotly.v1+json": {
       "config": {
        "linkText": "Export to plot.ly",
        "plotlyServerURL": "https://plot.ly",
        "showLink": true
       },
       "data": [
        {
         "mode": "markers",
         "name": "BE",
         "type": "scatter",
         "uid": "404d54be-3294-48e1-a3c8-5e06d88d9320",
         "x": [
          1167,
          1157,
          1221,
          1224,
          1191,
          1533,
          1320,
          1338,
          1166,
          1453,
          1399,
          1744,
          1387,
          1369,
          1516,
          1860,
          1710,
          1741,
          1683,
          1534,
          1615,
          1740
         ],
         "y": [
          3.398240354577064,
          3.3368214464322485,
          3.175681788059268,
          3.2269910682627856,
          3.1856647198715597,
          3.2712322132670737,
          3.2116253896186553,
          3.311025452393121,
          3.396383610277279,
          3.462174775673189,
          3.3193053168158375,
          3.100688315448339,
          2.997694320000248,
          2.984822256154456,
          2.8032271999228393,
          2.586891585354151,
          2.59567036912034,
          2.6491213579617683,
          2.5924250458617566,
          2.4413728408675106,
          2.4667179869850884,
          2.4854318230754466
         ]
        },
        {
         "mode": "markers",
         "name": "GR",
         "type": "scatter",
         "uid": "116210c7-45d9-4c91-b05b-bd7d3a5b6eac",
         "x": [
          4764,
          4643,
          4577,
          4859,
          4959,
          5619,
          5378,
          5376,
          5671,
          5806,
          5890,
          5690,
          5143,
          4337,
          5164,
          5528,
          5967,
          5910,
          6361,
          6852,
          6605,
          6730
         ],
         "y": [
          4.185102950337844,
          4.111029501128155,
          3.9517339024957203,
          3.8928326081978475,
          4.031224637990688,
          4.003795875717058,
          3.6948824548905357,
          4.063863723699379,
          3.707716257152474,
          3.807611037887822,
          3.611351751923097,
          3.4814973575121404,
          3.259489868941345,
          3.5751884009631123,
          3.160048695832362,
          2.906245346669884,
          2.798363727639185,
          2.606592796685762,
          2.4731416813406404,
          2.446152712626176,
          2.5791899578307342,
          2.356660860400779
         ]
        },
        {
         "mode": "markers",
         "name": "SZ",
         "type": "scatter",
         "uid": "da0d86e1-c9ec-4b14-9218-e9ee616d3467",
         "x": [
          2519,
          2838,
          3324,
          3140,
          3165,
          3326,
          3265,
          3062,
          3358,
          4372,
          4543,
          3917,
          3146,
          3222,
          4244,
          4940,
          5962,
          4745,
          7103,
          6515,
          8517,
          7678
         ],
         "y": [
          3.4749552023847405,
          3.8502761975430784,
          3.2373015419992988,
          3.2863394861360073,
          3.252799245542386,
          3.3312282917587623,
          3.02893450026474,
          3.0628934699419825,
          3.1520583320674467,
          3.4260665315190644,
          2.988718328093212,
          2.6884674270560915,
          2.3885350318471334,
          2.5594463588658365,
          2.5768659396055846,
          2.421728752461743,
          2.421831662404784,
          2.197743292862695,
          2.081461119627848,
          1.9099572875990136,
          1.7579024526306914,
          1.9126349434553227
         ]
        }
       ],
       "layout": {
        "title": "Correlation wrt. the expenses in the roads",
        "titlefont": {
         "color": "#7f7f7f",
         "family": "Courier New, monospace",
         "size": 18
        },
        "xaxis": {
         "title": "Total expenses",
         "titlefont": {
          "color": "#7f7f7f",
          "family": "Courier New, monospace",
          "size": 15
         }
        },
        "yaxis": {
         "title": "Number of victims",
         "titlefont": {
          "color": "#7f7f7f",
          "family": "Courier New, monospace",
          "size": 15
         }
        }
       }
      },
      "text/html": [
       "<div id=\"ef1e97af-c58e-43c9-9693-3abcad662ffb\" style=\"height: 525px; width: 100%;\" class=\"plotly-graph-div\"></div><script type=\"text/javascript\">require([\"plotly\"], function(Plotly) { window.PLOTLYENV=window.PLOTLYENV || {};window.PLOTLYENV.BASE_URL=\"https://plot.ly\";Plotly.newPlot(\"ef1e97af-c58e-43c9-9693-3abcad662ffb\", [{\"mode\": \"markers\", \"name\": \"BE\", \"x\": [1167, 1157, 1221, 1224, 1191, 1533, 1320, 1338, 1166, 1453, 1399, 1744, 1387, 1369, 1516, 1860, 1710, 1741, 1683, 1534, 1615, 1740], \"y\": [3.398240354577064, 3.3368214464322485, 3.175681788059268, 3.2269910682627856, 3.1856647198715597, 3.2712322132670737, 3.2116253896186553, 3.311025452393121, 3.396383610277279, 3.462174775673189, 3.3193053168158375, 3.100688315448339, 2.997694320000248, 2.984822256154456, 2.8032271999228393, 2.586891585354151, 2.59567036912034, 2.6491213579617683, 2.5924250458617566, 2.4413728408675106, 2.4667179869850884, 2.4854318230754466], \"type\": \"scatter\", \"uid\": \"404d54be-3294-48e1-a3c8-5e06d88d9320\"}, {\"mode\": \"markers\", \"name\": \"GR\", \"x\": [4764, 4643, 4577, 4859, 4959, 5619, 5378, 5376, 5671, 5806, 5890, 5690, 5143, 4337, 5164, 5528, 5967, 5910, 6361, 6852, 6605, 6730], \"y\": [4.185102950337844, 4.111029501128155, 3.9517339024957203, 3.8928326081978475, 4.031224637990688, 4.003795875717058, 3.6948824548905357, 4.063863723699379, 3.707716257152474, 3.807611037887822, 3.611351751923097, 3.4814973575121404, 3.259489868941345, 3.5751884009631123, 3.160048695832362, 2.906245346669884, 2.798363727639185, 2.606592796685762, 2.4731416813406404, 2.446152712626176, 2.5791899578307342, 2.356660860400779], \"type\": \"scatter\", \"uid\": \"116210c7-45d9-4c91-b05b-bd7d3a5b6eac\"}, {\"mode\": \"markers\", \"name\": \"SZ\", \"x\": [2519, 2838, 3324, 3140, 3165, 3326, 3265, 3062, 3358, 4372, 4543, 3917, 3146, 3222, 4244, 4940, 5962, 4745, 7103, 6515, 8517, 7678], \"y\": [3.4749552023847405, 3.8502761975430784, 3.2373015419992988, 3.2863394861360073, 3.252799245542386, 3.3312282917587623, 3.02893450026474, 3.0628934699419825, 3.1520583320674467, 3.4260665315190644, 2.988718328093212, 2.6884674270560915, 2.3885350318471334, 2.5594463588658365, 2.5768659396055846, 2.421728752461743, 2.421831662404784, 2.197743292862695, 2.081461119627848, 1.9099572875990136, 1.7579024526306914, 1.9126349434553227], \"type\": \"scatter\", \"uid\": \"da0d86e1-c9ec-4b14-9218-e9ee616d3467\"}], {\"title\": \"Correlation wrt. the expenses in the roads\", \"titlefont\": {\"color\": \"#7f7f7f\", \"family\": \"Courier New, monospace\", \"size\": 18}, \"xaxis\": {\"title\": \"Total expenses\", \"titlefont\": {\"color\": \"#7f7f7f\", \"family\": \"Courier New, monospace\", \"size\": 15}}, \"yaxis\": {\"title\": \"Number of victims\", \"titlefont\": {\"color\": \"#7f7f7f\", \"family\": \"Courier New, monospace\", \"size\": 15}}}, {\"showLink\": true, \"linkText\": \"Export to plot.ly\", \"plotlyServerURL\": \"https://plot.ly\"})});</script><script type=\"text/javascript\">window.addEventListener(\"resize\", function(){window._Plotly.Plots.resize(document.getElementById(\"ef1e97af-c58e-43c9-9693-3abcad662ffb\"));});</script>"
      ],
      "text/vnd.plotly.v1+html": [
       "<div id=\"ef1e97af-c58e-43c9-9693-3abcad662ffb\" style=\"height: 525px; width: 100%;\" class=\"plotly-graph-div\"></div><script type=\"text/javascript\">require([\"plotly\"], function(Plotly) { window.PLOTLYENV=window.PLOTLYENV || {};window.PLOTLYENV.BASE_URL=\"https://plot.ly\";Plotly.newPlot(\"ef1e97af-c58e-43c9-9693-3abcad662ffb\", [{\"mode\": \"markers\", \"name\": \"BE\", \"x\": [1167, 1157, 1221, 1224, 1191, 1533, 1320, 1338, 1166, 1453, 1399, 1744, 1387, 1369, 1516, 1860, 1710, 1741, 1683, 1534, 1615, 1740], \"y\": [3.398240354577064, 3.3368214464322485, 3.175681788059268, 3.2269910682627856, 3.1856647198715597, 3.2712322132670737, 3.2116253896186553, 3.311025452393121, 3.396383610277279, 3.462174775673189, 3.3193053168158375, 3.100688315448339, 2.997694320000248, 2.984822256154456, 2.8032271999228393, 2.586891585354151, 2.59567036912034, 2.6491213579617683, 2.5924250458617566, 2.4413728408675106, 2.4667179869850884, 2.4854318230754466], \"type\": \"scatter\", \"uid\": \"404d54be-3294-48e1-a3c8-5e06d88d9320\"}, {\"mode\": \"markers\", \"name\": \"GR\", \"x\": [4764, 4643, 4577, 4859, 4959, 5619, 5378, 5376, 5671, 5806, 5890, 5690, 5143, 4337, 5164, 5528, 5967, 5910, 6361, 6852, 6605, 6730], \"y\": [4.185102950337844, 4.111029501128155, 3.9517339024957203, 3.8928326081978475, 4.031224637990688, 4.003795875717058, 3.6948824548905357, 4.063863723699379, 3.707716257152474, 3.807611037887822, 3.611351751923097, 3.4814973575121404, 3.259489868941345, 3.5751884009631123, 3.160048695832362, 2.906245346669884, 2.798363727639185, 2.606592796685762, 2.4731416813406404, 2.446152712626176, 2.5791899578307342, 2.356660860400779], \"type\": \"scatter\", \"uid\": \"116210c7-45d9-4c91-b05b-bd7d3a5b6eac\"}, {\"mode\": \"markers\", \"name\": \"SZ\", \"x\": [2519, 2838, 3324, 3140, 3165, 3326, 3265, 3062, 3358, 4372, 4543, 3917, 3146, 3222, 4244, 4940, 5962, 4745, 7103, 6515, 8517, 7678], \"y\": [3.4749552023847405, 3.8502761975430784, 3.2373015419992988, 3.2863394861360073, 3.252799245542386, 3.3312282917587623, 3.02893450026474, 3.0628934699419825, 3.1520583320674467, 3.4260665315190644, 2.988718328093212, 2.6884674270560915, 2.3885350318471334, 2.5594463588658365, 2.5768659396055846, 2.421728752461743, 2.421831662404784, 2.197743292862695, 2.081461119627848, 1.9099572875990136, 1.7579024526306914, 1.9126349434553227], \"type\": \"scatter\", \"uid\": \"da0d86e1-c9ec-4b14-9218-e9ee616d3467\"}], {\"title\": \"Correlation wrt. the expenses in the roads\", \"titlefont\": {\"color\": \"#7f7f7f\", \"family\": \"Courier New, monospace\", \"size\": 18}, \"xaxis\": {\"title\": \"Total expenses\", \"titlefont\": {\"color\": \"#7f7f7f\", \"family\": \"Courier New, monospace\", \"size\": 15}}, \"yaxis\": {\"title\": \"Number of victims\", \"titlefont\": {\"color\": \"#7f7f7f\", \"family\": \"Courier New, monospace\", \"size\": 15}}}, {\"showLink\": true, \"linkText\": \"Export to plot.ly\", \"plotlyServerURL\": \"https://plot.ly\"})});</script><script type=\"text/javascript\">window.addEventListener(\"resize\", function(){window._Plotly.Plots.resize(document.getElementById(\"ef1e97af-c58e-43c9-9693-3abcad662ffb\"));});</script>"
      ]
     },
     "metadata": {},
     "output_type": "display_data"
    }
   ],
   "source": [
    "# Define our threshold of interest and the wanted confidence\n",
    "alpha = 0.05\n",
    "threshold_of_interest = 0.75\n",
    "\n",
    "# Plot with our function\n",
    "plot_high_correlation(x = df_frais_cantons_normalized, y = df_victimes_cantons_normalized_toplot,\\\n",
    "                title='Correlation wrt. the expenses in the roads', xlabel='Total expenses',\\\n",
    "                ylabel='Number of victims', name_save='correlation_expenses_roads_zoomin',\\\n",
    "                labels=df_frais_cantons_normalized.index, alpha=alpha,\\\n",
    "                threshold_of_interest=threshold_of_interest)"
   ]
  },
  {
   "cell_type": "markdown",
   "metadata": {},
   "source": [
    "In conclustion, 15 cantons exhibit a significant correlation with respect to their expenses with the defined confidence of 95%. However, Neuchatel shows a slight positive (yet unsignificant) correlation of almost 0.5! In general, since only about half of the cantons show a significant correlation, we cannot really draw any conclusion."
   ]
  },
  {
   "cell_type": "markdown",
   "metadata": {},
   "source": [
    "### 2.3 Expenses in the police surveillance on the roads"
   ]
  },
  {
   "cell_type": "markdown",
   "metadata": {},
   "source": [
    "We can do the exact same analysis but for the expenses related to the police on the roads. Contrary to what was done before however, we normalize the expenses with the population and not the road length: a canton with more budget is supposed to have more police officers."
   ]
  },
  {
   "cell_type": "code",
   "execution_count": 59,
   "metadata": {},
   "outputs": [],
   "source": [
    "df_police_cantons_normalized = df_Frais_routes_cantonales.copy()\n",
    "\n",
    "df_police_cantons_normalized = df_police_cantons_normalized[['annee', 'canton', 'Surveillance Policiere']]\n",
    "\n",
    "# Create a dataframe with the cantons in index and the years in columns\n",
    "df_police_cantons_normalized = df_police_cantons_normalized.\\\n",
    "    pivot(index = 'canton', columns = 'annee', values = 'Surveillance Policiere').\\\n",
    "    rename(columns = lambda x : str(x))\n",
    "\n",
    "# Normalization of the number of accidents by year and canton\n",
    "for cant in df_police_cantons_normalized.index.values:\n",
    "    for year in df_police_cantons_normalized.columns:\n",
    "        df_police_cantons_normalized.loc[cant][year] =\\\n",
    "            df_police_cantons_normalized.loc[cant][year]/\\\n",
    "            df_pop_cantons.loc[cant][year]*1000"
   ]
  },
  {
   "cell_type": "markdown",
   "metadata": {},
   "source": [
    "As before, we only have data for the period 1994-2015."
   ]
  },
  {
   "cell_type": "code",
   "execution_count": 60,
   "metadata": {
    "scrolled": false
   },
   "outputs": [
    {
     "data": {
      "application/vnd.plotly.v1+json": {
       "config": {
        "linkText": "Export to plot.ly",
        "plotlyServerURL": "https://plot.ly",
        "showLink": true
       },
       "data": [
        {
         "mode": "markers",
         "name": "UR",
         "type": "scatter",
         "uid": "0dbd9994-a482-49c1-bdb4-83a6eb14e116",
         "x": [
          68,
          71,
          72,
          82,
          126,
          112,
          131,
          120,
          105,
          76,
          80,
          85,
          83,
          83,
          85,
          88,
          86,
          84,
          81,
          81,
          83,
          84
         ],
         "y": [
          4.63384125540141,
          5.230839208551285,
          4.73555086438067,
          4.731047138433307,
          4.609356994699239,
          4.513888888888888,
          4.592088819135641,
          4.629361726751925,
          4.197545159796202,
          4.519286125503742,
          3.3366891989069467,
          3.4052868521297475,
          3.0079537237888645,
          3.686823235695416,
          3.3190948972523664,
          4.285056942367421,
          3.049633484416093,
          2.9350104821802936,
          2.9334440293344404,
          3.3809785596481583,
          2.574425547065429,
          3.194190395588195
         ]
        },
        {
         "mode": "markers",
         "name": "GL",
         "type": "scatter",
         "uid": "adb80f3e-ac96-4847-b0e1-fff69aa7ba6b",
         "x": [
          57,
          65,
          71,
          71,
          72,
          74,
          74,
          72,
          72,
          74,
          75,
          77,
          64,
          72,
          73,
          72,
          69,
          70,
          70,
          79,
          72,
          73
         ],
         "y": [
          2.8098498007561052,
          2.0634839761552963,
          2.2547336595864613,
          2.257687816270922,
          2.194300044408453,
          2.6367314971935776,
          2.6434946475776693,
          2.259708865415944,
          2.8829017716741796,
          2.7166105059687067,
          2.612807984741201,
          2.9660349624652214,
          2.2894134364885135,
          2.7343955408318874,
          2.7250098257565836,
          3.1365168979847877,
          2.093759575120008,
          2.158959682683135,
          2.022825462627675,
          2.3157370517928286,
          2.227281726390814,
          2.5911210917256864
         ]
        },
        {
         "mode": "markers",
         "name": "GE",
         "type": "scatter",
         "uid": "93abeeae-7ee5-4e22-97e1-d3d301a04265",
         "x": [
          24,
          25,
          27,
          28,
          29,
          28,
          32,
          27,
          38,
          36,
          31,
          25,
          26,
          40,
          35,
          33,
          33,
          32,
          33,
          33,
          35,
          32
         ],
         "y": [
          2.8660156777426495,
          2.624559205407754,
          2.6087703170931276,
          2.6085864925935223,
          2.912963060033997,
          3.0241536329439715,
          3.0705442882008955,
          3.264033663499505,
          3.2212755777570923,
          3.1501656874979553,
          3.0515807373303874,
          2.807284284474527,
          2.7149629932808077,
          2.7005858437689585,
          2.769841394138586,
          2.517226025736542,
          2.4020065860072273,
          1.9768974339096053,
          2.1896029177582577,
          2.500338741912537,
          2.700361640739733,
          2.5832083283944463
         ]
        },
        {
         "mode": "markers",
         "name": "TE",
         "type": "scatter",
         "uid": "a9e9f918-0d07-4a6d-93a4-3e4708562890",
         "x": [
          11,
          11,
          11,
          11,
          11,
          11,
          11,
          11,
          11,
          25,
          26,
          26,
          25,
          25,
          32,
          32,
          35,
          29,
          29,
          29,
          29,
          28
         ],
         "y": [
          5.926095335470136,
          5.684881809043889,
          5.4447183577588065,
          5.3961791730729,
          5.139488569525583,
          5.315367500888637,
          5.407385555018851,
          5.2578433516419905,
          5.150785079338705,
          4.818005756332123,
          4.586811273849853,
          4.22480559996275,
          4.6392498391500965,
          4.126581042144846,
          3.7876960193003617,
          3.459574838038535,
          3.550595238095238,
          3.3246973729585383,
          3.0527515467274506,
          2.7337515151688825,
          2.4626563248325875,
          2.5475553050584754
         ]
        },
        {
         "mode": "markers",
         "name": "LU",
         "type": "scatter",
         "uid": "5c69ddb0-a8d9-4db1-a0c6-3f6f3609e726",
         "x": [
          24,
          30,
          29,
          28,
          35,
          34,
          40,
          34,
          42,
          41,
          43,
          41,
          40,
          40,
          45,
          46,
          57,
          65,
          65,
          55,
          53,
          48
         ],
         "y": [
          3.1339597299517012,
          3.1776416539050536,
          3.0334411955396092,
          3.3460396895390847,
          3.170768092244781,
          3.394719972026342,
          3.440709360062843,
          3.7607886190280997,
          3.528802426905411,
          3.6829331911949827,
          3.345662930111249,
          3.401111966854618,
          3.1206647741704976,
          3.0531271758711775,
          3.097496076959814,
          3.113786661131046,
          2.8825043829861166,
          2.8778287600899484,
          2.6503583510709405,
          2.4568588792455133,
          2.538051932060622,
          2.5141716883916247
         ]
        }
       ],
       "layout": {
        "title": "Correlation wrt. the expenses in the police",
        "titlefont": {
         "color": "#7f7f7f",
         "family": "Courier New, monospace",
         "size": 18
        },
        "xaxis": {
         "title": "Total expenses",
         "titlefont": {
          "color": "#7f7f7f",
          "family": "Courier New, monospace",
          "size": 15
         }
        },
        "yaxis": {
         "title": "Number of victimes",
         "titlefont": {
          "color": "#7f7f7f",
          "family": "Courier New, monospace",
          "size": 15
         }
        }
       }
      },
      "text/html": [
       "<div id=\"eb3cfa24-4ae7-410e-b23e-7eeb4a62c8fe\" style=\"height: 525px; width: 100%;\" class=\"plotly-graph-div\"></div><script type=\"text/javascript\">require([\"plotly\"], function(Plotly) { window.PLOTLYENV=window.PLOTLYENV || {};window.PLOTLYENV.BASE_URL=\"https://plot.ly\";Plotly.newPlot(\"eb3cfa24-4ae7-410e-b23e-7eeb4a62c8fe\", [{\"mode\": \"markers\", \"name\": \"UR\", \"x\": [68, 71, 72, 82, 126, 112, 131, 120, 105, 76, 80, 85, 83, 83, 85, 88, 86, 84, 81, 81, 83, 84], \"y\": [4.63384125540141, 5.230839208551285, 4.73555086438067, 4.731047138433307, 4.609356994699239, 4.513888888888888, 4.592088819135641, 4.629361726751925, 4.197545159796202, 4.519286125503742, 3.3366891989069467, 3.4052868521297475, 3.0079537237888645, 3.686823235695416, 3.3190948972523664, 4.285056942367421, 3.049633484416093, 2.9350104821802936, 2.9334440293344404, 3.3809785596481583, 2.574425547065429, 3.194190395588195], \"type\": \"scatter\", \"uid\": \"0dbd9994-a482-49c1-bdb4-83a6eb14e116\"}, {\"mode\": \"markers\", \"name\": \"GL\", \"x\": [57, 65, 71, 71, 72, 74, 74, 72, 72, 74, 75, 77, 64, 72, 73, 72, 69, 70, 70, 79, 72, 73], \"y\": [2.8098498007561052, 2.0634839761552963, 2.2547336595864613, 2.257687816270922, 2.194300044408453, 2.6367314971935776, 2.6434946475776693, 2.259708865415944, 2.8829017716741796, 2.7166105059687067, 2.612807984741201, 2.9660349624652214, 2.2894134364885135, 2.7343955408318874, 2.7250098257565836, 3.1365168979847877, 2.093759575120008, 2.158959682683135, 2.022825462627675, 2.3157370517928286, 2.227281726390814, 2.5911210917256864], \"type\": \"scatter\", \"uid\": \"adb80f3e-ac96-4847-b0e1-fff69aa7ba6b\"}, {\"mode\": \"markers\", \"name\": \"GE\", \"x\": [24, 25, 27, 28, 29, 28, 32, 27, 38, 36, 31, 25, 26, 40, 35, 33, 33, 32, 33, 33, 35, 32], \"y\": [2.8660156777426495, 2.624559205407754, 2.6087703170931276, 2.6085864925935223, 2.912963060033997, 3.0241536329439715, 3.0705442882008955, 3.264033663499505, 3.2212755777570923, 3.1501656874979553, 3.0515807373303874, 2.807284284474527, 2.7149629932808077, 2.7005858437689585, 2.769841394138586, 2.517226025736542, 2.4020065860072273, 1.9768974339096053, 2.1896029177582577, 2.500338741912537, 2.700361640739733, 2.5832083283944463], \"type\": \"scatter\", \"uid\": \"93abeeae-7ee5-4e22-97e1-d3d301a04265\"}, {\"mode\": \"markers\", \"name\": \"TE\", \"x\": [11, 11, 11, 11, 11, 11, 11, 11, 11, 25, 26, 26, 25, 25, 32, 32, 35, 29, 29, 29, 29, 28], \"y\": [5.926095335470136, 5.684881809043889, 5.4447183577588065, 5.3961791730729, 5.139488569525583, 5.315367500888637, 5.407385555018851, 5.2578433516419905, 5.150785079338705, 4.818005756332123, 4.586811273849853, 4.22480559996275, 4.6392498391500965, 4.126581042144846, 3.7876960193003617, 3.459574838038535, 3.550595238095238, 3.3246973729585383, 3.0527515467274506, 2.7337515151688825, 2.4626563248325875, 2.5475553050584754], \"type\": \"scatter\", \"uid\": \"a9e9f918-0d07-4a6d-93a4-3e4708562890\"}, {\"mode\": \"markers\", \"name\": \"LU\", \"x\": [24, 30, 29, 28, 35, 34, 40, 34, 42, 41, 43, 41, 40, 40, 45, 46, 57, 65, 65, 55, 53, 48], \"y\": [3.1339597299517012, 3.1776416539050536, 3.0334411955396092, 3.3460396895390847, 3.170768092244781, 3.394719972026342, 3.440709360062843, 3.7607886190280997, 3.528802426905411, 3.6829331911949827, 3.345662930111249, 3.401111966854618, 3.1206647741704976, 3.0531271758711775, 3.097496076959814, 3.113786661131046, 2.8825043829861166, 2.8778287600899484, 2.6503583510709405, 2.4568588792455133, 2.538051932060622, 2.5141716883916247], \"type\": \"scatter\", \"uid\": \"5c69ddb0-a8d9-4db1-a0c6-3f6f3609e726\"}], {\"title\": \"Correlation wrt. the expenses in the police\", \"titlefont\": {\"color\": \"#7f7f7f\", \"family\": \"Courier New, monospace\", \"size\": 18}, \"xaxis\": {\"title\": \"Total expenses\", \"titlefont\": {\"color\": \"#7f7f7f\", \"family\": \"Courier New, monospace\", \"size\": 15}}, \"yaxis\": {\"title\": \"Number of victimes\", \"titlefont\": {\"color\": \"#7f7f7f\", \"family\": \"Courier New, monospace\", \"size\": 15}}}, {\"showLink\": true, \"linkText\": \"Export to plot.ly\", \"plotlyServerURL\": \"https://plot.ly\"})});</script><script type=\"text/javascript\">window.addEventListener(\"resize\", function(){window._Plotly.Plots.resize(document.getElementById(\"eb3cfa24-4ae7-410e-b23e-7eeb4a62c8fe\"));});</script>"
      ],
      "text/vnd.plotly.v1+html": [
       "<div id=\"eb3cfa24-4ae7-410e-b23e-7eeb4a62c8fe\" style=\"height: 525px; width: 100%;\" class=\"plotly-graph-div\"></div><script type=\"text/javascript\">require([\"plotly\"], function(Plotly) { window.PLOTLYENV=window.PLOTLYENV || {};window.PLOTLYENV.BASE_URL=\"https://plot.ly\";Plotly.newPlot(\"eb3cfa24-4ae7-410e-b23e-7eeb4a62c8fe\", [{\"mode\": \"markers\", \"name\": \"UR\", \"x\": [68, 71, 72, 82, 126, 112, 131, 120, 105, 76, 80, 85, 83, 83, 85, 88, 86, 84, 81, 81, 83, 84], \"y\": [4.63384125540141, 5.230839208551285, 4.73555086438067, 4.731047138433307, 4.609356994699239, 4.513888888888888, 4.592088819135641, 4.629361726751925, 4.197545159796202, 4.519286125503742, 3.3366891989069467, 3.4052868521297475, 3.0079537237888645, 3.686823235695416, 3.3190948972523664, 4.285056942367421, 3.049633484416093, 2.9350104821802936, 2.9334440293344404, 3.3809785596481583, 2.574425547065429, 3.194190395588195], \"type\": \"scatter\", \"uid\": \"0dbd9994-a482-49c1-bdb4-83a6eb14e116\"}, {\"mode\": \"markers\", \"name\": \"GL\", \"x\": [57, 65, 71, 71, 72, 74, 74, 72, 72, 74, 75, 77, 64, 72, 73, 72, 69, 70, 70, 79, 72, 73], \"y\": [2.8098498007561052, 2.0634839761552963, 2.2547336595864613, 2.257687816270922, 2.194300044408453, 2.6367314971935776, 2.6434946475776693, 2.259708865415944, 2.8829017716741796, 2.7166105059687067, 2.612807984741201, 2.9660349624652214, 2.2894134364885135, 2.7343955408318874, 2.7250098257565836, 3.1365168979847877, 2.093759575120008, 2.158959682683135, 2.022825462627675, 2.3157370517928286, 2.227281726390814, 2.5911210917256864], \"type\": \"scatter\", \"uid\": \"adb80f3e-ac96-4847-b0e1-fff69aa7ba6b\"}, {\"mode\": \"markers\", \"name\": \"GE\", \"x\": [24, 25, 27, 28, 29, 28, 32, 27, 38, 36, 31, 25, 26, 40, 35, 33, 33, 32, 33, 33, 35, 32], \"y\": [2.8660156777426495, 2.624559205407754, 2.6087703170931276, 2.6085864925935223, 2.912963060033997, 3.0241536329439715, 3.0705442882008955, 3.264033663499505, 3.2212755777570923, 3.1501656874979553, 3.0515807373303874, 2.807284284474527, 2.7149629932808077, 2.7005858437689585, 2.769841394138586, 2.517226025736542, 2.4020065860072273, 1.9768974339096053, 2.1896029177582577, 2.500338741912537, 2.700361640739733, 2.5832083283944463], \"type\": \"scatter\", \"uid\": \"93abeeae-7ee5-4e22-97e1-d3d301a04265\"}, {\"mode\": \"markers\", \"name\": \"TE\", \"x\": [11, 11, 11, 11, 11, 11, 11, 11, 11, 25, 26, 26, 25, 25, 32, 32, 35, 29, 29, 29, 29, 28], \"y\": [5.926095335470136, 5.684881809043889, 5.4447183577588065, 5.3961791730729, 5.139488569525583, 5.315367500888637, 5.407385555018851, 5.2578433516419905, 5.150785079338705, 4.818005756332123, 4.586811273849853, 4.22480559996275, 4.6392498391500965, 4.126581042144846, 3.7876960193003617, 3.459574838038535, 3.550595238095238, 3.3246973729585383, 3.0527515467274506, 2.7337515151688825, 2.4626563248325875, 2.5475553050584754], \"type\": \"scatter\", \"uid\": \"a9e9f918-0d07-4a6d-93a4-3e4708562890\"}, {\"mode\": \"markers\", \"name\": \"LU\", \"x\": [24, 30, 29, 28, 35, 34, 40, 34, 42, 41, 43, 41, 40, 40, 45, 46, 57, 65, 65, 55, 53, 48], \"y\": [3.1339597299517012, 3.1776416539050536, 3.0334411955396092, 3.3460396895390847, 3.170768092244781, 3.394719972026342, 3.440709360062843, 3.7607886190280997, 3.528802426905411, 3.6829331911949827, 3.345662930111249, 3.401111966854618, 3.1206647741704976, 3.0531271758711775, 3.097496076959814, 3.113786661131046, 2.8825043829861166, 2.8778287600899484, 2.6503583510709405, 2.4568588792455133, 2.538051932060622, 2.5141716883916247], \"type\": \"scatter\", \"uid\": \"5c69ddb0-a8d9-4db1-a0c6-3f6f3609e726\"}], {\"title\": \"Correlation wrt. the expenses in the police\", \"titlefont\": {\"color\": \"#7f7f7f\", \"family\": \"Courier New, monospace\", \"size\": 18}, \"xaxis\": {\"title\": \"Total expenses\", \"titlefont\": {\"color\": \"#7f7f7f\", \"family\": \"Courier New, monospace\", \"size\": 15}}, \"yaxis\": {\"title\": \"Number of victimes\", \"titlefont\": {\"color\": \"#7f7f7f\", \"family\": \"Courier New, monospace\", \"size\": 15}}}, {\"showLink\": true, \"linkText\": \"Export to plot.ly\", \"plotlyServerURL\": \"https://plot.ly\"})});</script><script type=\"text/javascript\">window.addEventListener(\"resize\", function(){window._Plotly.Plots.resize(document.getElementById(\"eb3cfa24-4ae7-410e-b23e-7eeb4a62c8fe\"));});</script>"
      ]
     },
     "metadata": {},
     "output_type": "display_data"
    }
   ],
   "source": [
    "df_victimes_cantons_normalized_toplot = df_victimes_cantons_normalized.copy()\n",
    "\n",
    "# Drop the uninteresting columns\n",
    "df_victimes_cantons_normalized_toplot = df_victimes_cantons_normalized_toplot.\\\n",
    "    drop(columns = ['1992', '1993', '2016', '2017'])\n",
    "\n",
    "# Order the data frames wrt to 2015\n",
    "df_victimes_cantons_normalized_toplot =\\\n",
    "    df_victimes_cantons_normalized_toplot.sort_values('2015', ascending = False)\n",
    "\n",
    "# Order both dataframes to have a 1-1 correspondance between the rows\n",
    "df_police_cantons_normalized =\\\n",
    "    df_police_cantons_normalized.reindex(df_victimes_cantons_normalized_toplot.index)\n",
    "\n",
    "# Plot with our function\n",
    "plot_correlation(x = df_police_cantons_normalized.head(5), y = df_victimes_cantons_normalized_toplot.head(5),\\\n",
    "                title='Correlation wrt. the expenses in the police', xlabel='Total expenses',\\\n",
    "                ylabel='Number of victimes', labels=df_police_cantons_normalized.head(5).index,name_save='correlation_expenses_police')"
   ]
  },
  {
   "cell_type": "code",
   "execution_count": 61,
   "metadata": {
    "scrolled": false
   },
   "outputs": [],
   "source": [
    "df_police_cantons_normalized = df_police_cantons_normalized.sort_values(['2015'],ascending=False)\n",
    "MAP = create_map(df_police_cantons_normalized.reset_index(),[str(i) for i in df_police_cantons_normalized.columns],'Expenses in the police for road')\n",
    "save_it(MAP,'expenses_police_canton')"
   ]
  },
  {
   "cell_type": "markdown",
   "metadata": {},
   "source": [
    "#### <center>[CLICK HERE TO SEE THE MAPS](./docs/img/maps/expenses_police_canton.html)</center>"
   ]
  },
  {
   "cell_type": "markdown",
   "metadata": {},
   "source": [
    "We kept the 5 cantons witht the most investments in the plot. It looks like we can distinguish a negative correlation between the number of victims and the expenses in the police surveillance of the roads.\n",
    "\n",
    "Again, we are interested to see if we can find any significant correlation for some cantons:"
   ]
  },
  {
   "cell_type": "code",
   "execution_count": 149,
   "metadata": {},
   "outputs": [
    {
     "name": "stdout",
     "output_type": "stream",
     "text": [
      "Significant correlations:\n",
      "1 Canton: TE / Correlation: -0.8607482612357543\n",
      "2 Canton: LU / Correlation: -0.5909722464031397\n",
      "3 Canton: BE / Correlation: -0.9304507017823177\n",
      "4 Canton: NW / Correlation: -0.5313076090509561\n",
      "5 Canton: JU / Correlation: -0.5882999556517835\n",
      "6 Canton: ZG / Correlation: -0.5812979552448808\n",
      "7 Canton: BS / Correlation: -0.6813698978909419\n",
      "8 Canton: SZ / Correlation: -0.8315601311262902\n",
      "9 Canton: AG / Correlation: -0.4664903452271328\n",
      "10 Canton: SG / Correlation: -0.5632200696538996\n",
      "11 Canton: VD / Correlation: 0.6212887466992885\n",
      "12 Canton: FR / Correlation: -0.4521853754457579\n",
      "13 Canton: BL / Correlation: -0.8266926998727043\n",
      "14 Canton: NE / Correlation: 0.6108976058121469\n",
      "15 Canton: VS / Correlation: -0.8564941827298188\n",
      "Plot the cantons with a correlation of more than 0.75:\n"
     ]
    },
    {
     "data": {
      "application/vnd.plotly.v1+json": {
       "config": {
        "linkText": "Export to plot.ly",
        "plotlyServerURL": "https://plot.ly",
        "showLink": true
       },
       "data": [
        {
         "mode": "markers",
         "name": "TE",
         "type": "scatter",
         "uid": "12ddca6c-a9b0-4ff6-957b-b9ac93ff3ced",
         "x": [
          11,
          11,
          11,
          11,
          11,
          11,
          11,
          11,
          11,
          25,
          26,
          26,
          25,
          25,
          32,
          32,
          35,
          29,
          29,
          29,
          29,
          28
         ],
         "y": [
          5.926095335470136,
          5.684881809043889,
          5.4447183577588065,
          5.3961791730729,
          5.139488569525583,
          5.315367500888637,
          5.407385555018851,
          5.2578433516419905,
          5.150785079338705,
          4.818005756332123,
          4.586811273849853,
          4.22480559996275,
          4.6392498391500965,
          4.126581042144846,
          3.7876960193003617,
          3.459574838038535,
          3.550595238095238,
          3.3246973729585383,
          3.0527515467274506,
          2.7337515151688825,
          2.4626563248325875,
          2.5475553050584754
         ]
        },
        {
         "mode": "markers",
         "name": "BE",
         "type": "scatter",
         "uid": "13c5d1f7-759c-4945-ab5c-2b5386cfacad",
         "x": [
          32,
          34,
          34,
          33,
          29,
          28,
          28,
          28,
          32,
          42,
          42,
          49,
          50,
          50,
          79,
          84,
          89,
          91,
          86,
          79,
          81,
          83
         ],
         "y": [
          3.398240354577064,
          3.3368214464322485,
          3.175681788059268,
          3.2269910682627856,
          3.1856647198715597,
          3.2712322132670737,
          3.2116253896186553,
          3.311025452393121,
          3.396383610277279,
          3.462174775673189,
          3.3193053168158375,
          3.100688315448339,
          2.997694320000248,
          2.984822256154456,
          2.8032271999228393,
          2.586891585354151,
          2.59567036912034,
          2.6491213579617683,
          2.5924250458617566,
          2.4413728408675106,
          2.4667179869850884,
          2.4854318230754466
         ]
        },
        {
         "mode": "markers",
         "name": "SZ",
         "type": "scatter",
         "uid": "a0df8111-c3b6-449b-87bb-be5cef531b2d",
         "x": [
          27,
          27,
          30,
          34,
          39,
          28,
          28,
          28,
          55,
          56,
          62,
          77,
          76,
          73,
          73,
          85,
          99,
          115,
          87,
          87,
          86,
          70
         ],
         "y": [
          3.4749552023847405,
          3.8502761975430784,
          3.2373015419992988,
          3.2863394861360073,
          3.252799245542386,
          3.3312282917587623,
          3.02893450026474,
          3.0628934699419825,
          3.1520583320674467,
          3.4260665315190644,
          2.988718328093212,
          2.6884674270560915,
          2.3885350318471334,
          2.5594463588658365,
          2.5768659396055846,
          2.421728752461743,
          2.421831662404784,
          2.197743292862695,
          2.081461119627848,
          1.9099572875990136,
          1.7579024526306914,
          1.9126349434553227
         ]
        },
        {
         "mode": "markers",
         "name": "BL",
         "type": "scatter",
         "uid": "4e7f177a-afb9-4887-b48d-fbe4c802c869",
         "x": [
          42,
          38,
          39,
          38,
          43,
          42,
          42,
          46,
          49,
          49,
          52,
          59,
          56,
          62,
          64,
          66,
          68,
          69,
          69,
          78,
          73,
          71
         ],
         "y": [
          2.702594330165604,
          2.89338438052001,
          2.5286762220941097,
          2.810857034268702,
          2.9581719993855193,
          2.8455682329686676,
          2.9649805447470814,
          2.7298839510546054,
          2.5316261772444726,
          2.780387428541,
          2.5262472162043417,
          2.4710576428981654,
          2.6370335817386366,
          2.563171897158808,
          2.6741046392001455,
          2.714615029967727,
          2.2157751586582046,
          1.9637996635549106,
          1.7343931603018277,
          1.6747428073545847,
          1.6797807444080983,
          1.677151789254299
         ]
        },
        {
         "mode": "markers",
         "name": "VS",
         "type": "scatter",
         "uid": "23a5bd50-77e9-4084-9c8a-f40901070959",
         "x": [
          47,
          60,
          59,
          59,
          60,
          61,
          63,
          64,
          63,
          64,
          64,
          65,
          65,
          66,
          70,
          70,
          68,
          71,
          70,
          71,
          72,
          73
         ],
         "y": [
          3.0839533129987506,
          2.9401694133059415,
          2.621056813077069,
          2.720487535119527,
          2.7705134512311953,
          2.6340608007544835,
          2.95753768475437,
          2.7523434808623284,
          2.94516469246167,
          2.6834514616171234,
          2.505679656882418,
          2.144877679801884,
          2.117257180263481,
          2.145337343351643,
          1.963161653573386,
          1.9693424820924184,
          1.841563143766777,
          1.739301755001647,
          1.6823432768409534,
          1.483507153900462,
          1.559511549212888,
          1.467507068734544
         ]
        }
       ],
       "layout": {
        "title": "Correlation wrt. the expenses in the police",
        "titlefont": {
         "color": "#7f7f7f",
         "family": "Courier New, monospace",
         "size": 18
        },
        "xaxis": {
         "title": "Total expenses",
         "titlefont": {
          "color": "#7f7f7f",
          "family": "Courier New, monospace",
          "size": 15
         }
        },
        "yaxis": {
         "title": "Number of victims",
         "titlefont": {
          "color": "#7f7f7f",
          "family": "Courier New, monospace",
          "size": 15
         }
        }
       }
      },
      "text/html": [
       "<div id=\"8075b0f9-a580-4856-be42-666233444129\" style=\"height: 525px; width: 100%;\" class=\"plotly-graph-div\"></div><script type=\"text/javascript\">require([\"plotly\"], function(Plotly) { window.PLOTLYENV=window.PLOTLYENV || {};window.PLOTLYENV.BASE_URL=\"https://plot.ly\";Plotly.newPlot(\"8075b0f9-a580-4856-be42-666233444129\", [{\"mode\": \"markers\", \"name\": \"TE\", \"x\": [11, 11, 11, 11, 11, 11, 11, 11, 11, 25, 26, 26, 25, 25, 32, 32, 35, 29, 29, 29, 29, 28], \"y\": [5.926095335470136, 5.684881809043889, 5.4447183577588065, 5.3961791730729, 5.139488569525583, 5.315367500888637, 5.407385555018851, 5.2578433516419905, 5.150785079338705, 4.818005756332123, 4.586811273849853, 4.22480559996275, 4.6392498391500965, 4.126581042144846, 3.7876960193003617, 3.459574838038535, 3.550595238095238, 3.3246973729585383, 3.0527515467274506, 2.7337515151688825, 2.4626563248325875, 2.5475553050584754], \"type\": \"scatter\", \"uid\": \"12ddca6c-a9b0-4ff6-957b-b9ac93ff3ced\"}, {\"mode\": \"markers\", \"name\": \"BE\", \"x\": [32, 34, 34, 33, 29, 28, 28, 28, 32, 42, 42, 49, 50, 50, 79, 84, 89, 91, 86, 79, 81, 83], \"y\": [3.398240354577064, 3.3368214464322485, 3.175681788059268, 3.2269910682627856, 3.1856647198715597, 3.2712322132670737, 3.2116253896186553, 3.311025452393121, 3.396383610277279, 3.462174775673189, 3.3193053168158375, 3.100688315448339, 2.997694320000248, 2.984822256154456, 2.8032271999228393, 2.586891585354151, 2.59567036912034, 2.6491213579617683, 2.5924250458617566, 2.4413728408675106, 2.4667179869850884, 2.4854318230754466], \"type\": \"scatter\", \"uid\": \"13c5d1f7-759c-4945-ab5c-2b5386cfacad\"}, {\"mode\": \"markers\", \"name\": \"SZ\", \"x\": [27, 27, 30, 34, 39, 28, 28, 28, 55, 56, 62, 77, 76, 73, 73, 85, 99, 115, 87, 87, 86, 70], \"y\": [3.4749552023847405, 3.8502761975430784, 3.2373015419992988, 3.2863394861360073, 3.252799245542386, 3.3312282917587623, 3.02893450026474, 3.0628934699419825, 3.1520583320674467, 3.4260665315190644, 2.988718328093212, 2.6884674270560915, 2.3885350318471334, 2.5594463588658365, 2.5768659396055846, 2.421728752461743, 2.421831662404784, 2.197743292862695, 2.081461119627848, 1.9099572875990136, 1.7579024526306914, 1.9126349434553227], \"type\": \"scatter\", \"uid\": \"a0df8111-c3b6-449b-87bb-be5cef531b2d\"}, {\"mode\": \"markers\", \"name\": \"BL\", \"x\": [42, 38, 39, 38, 43, 42, 42, 46, 49, 49, 52, 59, 56, 62, 64, 66, 68, 69, 69, 78, 73, 71], \"y\": [2.702594330165604, 2.89338438052001, 2.5286762220941097, 2.810857034268702, 2.9581719993855193, 2.8455682329686676, 2.9649805447470814, 2.7298839510546054, 2.5316261772444726, 2.780387428541, 2.5262472162043417, 2.4710576428981654, 2.6370335817386366, 2.563171897158808, 2.6741046392001455, 2.714615029967727, 2.2157751586582046, 1.9637996635549106, 1.7343931603018277, 1.6747428073545847, 1.6797807444080983, 1.677151789254299], \"type\": \"scatter\", \"uid\": \"4e7f177a-afb9-4887-b48d-fbe4c802c869\"}, {\"mode\": \"markers\", \"name\": \"VS\", \"x\": [47, 60, 59, 59, 60, 61, 63, 64, 63, 64, 64, 65, 65, 66, 70, 70, 68, 71, 70, 71, 72, 73], \"y\": [3.0839533129987506, 2.9401694133059415, 2.621056813077069, 2.720487535119527, 2.7705134512311953, 2.6340608007544835, 2.95753768475437, 2.7523434808623284, 2.94516469246167, 2.6834514616171234, 2.505679656882418, 2.144877679801884, 2.117257180263481, 2.145337343351643, 1.963161653573386, 1.9693424820924184, 1.841563143766777, 1.739301755001647, 1.6823432768409534, 1.483507153900462, 1.559511549212888, 1.467507068734544], \"type\": \"scatter\", \"uid\": \"23a5bd50-77e9-4084-9c8a-f40901070959\"}], {\"title\": \"Correlation wrt. the expenses in the police\", \"titlefont\": {\"color\": \"#7f7f7f\", \"family\": \"Courier New, monospace\", \"size\": 18}, \"xaxis\": {\"title\": \"Total expenses\", \"titlefont\": {\"color\": \"#7f7f7f\", \"family\": \"Courier New, monospace\", \"size\": 15}}, \"yaxis\": {\"title\": \"Number of victims\", \"titlefont\": {\"color\": \"#7f7f7f\", \"family\": \"Courier New, monospace\", \"size\": 15}}}, {\"showLink\": true, \"linkText\": \"Export to plot.ly\", \"plotlyServerURL\": \"https://plot.ly\"})});</script><script type=\"text/javascript\">window.addEventListener(\"resize\", function(){window._Plotly.Plots.resize(document.getElementById(\"8075b0f9-a580-4856-be42-666233444129\"));});</script>"
      ],
      "text/vnd.plotly.v1+html": [
       "<div id=\"8075b0f9-a580-4856-be42-666233444129\" style=\"height: 525px; width: 100%;\" class=\"plotly-graph-div\"></div><script type=\"text/javascript\">require([\"plotly\"], function(Plotly) { window.PLOTLYENV=window.PLOTLYENV || {};window.PLOTLYENV.BASE_URL=\"https://plot.ly\";Plotly.newPlot(\"8075b0f9-a580-4856-be42-666233444129\", [{\"mode\": \"markers\", \"name\": \"TE\", \"x\": [11, 11, 11, 11, 11, 11, 11, 11, 11, 25, 26, 26, 25, 25, 32, 32, 35, 29, 29, 29, 29, 28], \"y\": [5.926095335470136, 5.684881809043889, 5.4447183577588065, 5.3961791730729, 5.139488569525583, 5.315367500888637, 5.407385555018851, 5.2578433516419905, 5.150785079338705, 4.818005756332123, 4.586811273849853, 4.22480559996275, 4.6392498391500965, 4.126581042144846, 3.7876960193003617, 3.459574838038535, 3.550595238095238, 3.3246973729585383, 3.0527515467274506, 2.7337515151688825, 2.4626563248325875, 2.5475553050584754], \"type\": \"scatter\", \"uid\": \"12ddca6c-a9b0-4ff6-957b-b9ac93ff3ced\"}, {\"mode\": \"markers\", \"name\": \"BE\", \"x\": [32, 34, 34, 33, 29, 28, 28, 28, 32, 42, 42, 49, 50, 50, 79, 84, 89, 91, 86, 79, 81, 83], \"y\": [3.398240354577064, 3.3368214464322485, 3.175681788059268, 3.2269910682627856, 3.1856647198715597, 3.2712322132670737, 3.2116253896186553, 3.311025452393121, 3.396383610277279, 3.462174775673189, 3.3193053168158375, 3.100688315448339, 2.997694320000248, 2.984822256154456, 2.8032271999228393, 2.586891585354151, 2.59567036912034, 2.6491213579617683, 2.5924250458617566, 2.4413728408675106, 2.4667179869850884, 2.4854318230754466], \"type\": \"scatter\", \"uid\": \"13c5d1f7-759c-4945-ab5c-2b5386cfacad\"}, {\"mode\": \"markers\", \"name\": \"SZ\", \"x\": [27, 27, 30, 34, 39, 28, 28, 28, 55, 56, 62, 77, 76, 73, 73, 85, 99, 115, 87, 87, 86, 70], \"y\": [3.4749552023847405, 3.8502761975430784, 3.2373015419992988, 3.2863394861360073, 3.252799245542386, 3.3312282917587623, 3.02893450026474, 3.0628934699419825, 3.1520583320674467, 3.4260665315190644, 2.988718328093212, 2.6884674270560915, 2.3885350318471334, 2.5594463588658365, 2.5768659396055846, 2.421728752461743, 2.421831662404784, 2.197743292862695, 2.081461119627848, 1.9099572875990136, 1.7579024526306914, 1.9126349434553227], \"type\": \"scatter\", \"uid\": \"a0df8111-c3b6-449b-87bb-be5cef531b2d\"}, {\"mode\": \"markers\", \"name\": \"BL\", \"x\": [42, 38, 39, 38, 43, 42, 42, 46, 49, 49, 52, 59, 56, 62, 64, 66, 68, 69, 69, 78, 73, 71], \"y\": [2.702594330165604, 2.89338438052001, 2.5286762220941097, 2.810857034268702, 2.9581719993855193, 2.8455682329686676, 2.9649805447470814, 2.7298839510546054, 2.5316261772444726, 2.780387428541, 2.5262472162043417, 2.4710576428981654, 2.6370335817386366, 2.563171897158808, 2.6741046392001455, 2.714615029967727, 2.2157751586582046, 1.9637996635549106, 1.7343931603018277, 1.6747428073545847, 1.6797807444080983, 1.677151789254299], \"type\": \"scatter\", \"uid\": \"4e7f177a-afb9-4887-b48d-fbe4c802c869\"}, {\"mode\": \"markers\", \"name\": \"VS\", \"x\": [47, 60, 59, 59, 60, 61, 63, 64, 63, 64, 64, 65, 65, 66, 70, 70, 68, 71, 70, 71, 72, 73], \"y\": [3.0839533129987506, 2.9401694133059415, 2.621056813077069, 2.720487535119527, 2.7705134512311953, 2.6340608007544835, 2.95753768475437, 2.7523434808623284, 2.94516469246167, 2.6834514616171234, 2.505679656882418, 2.144877679801884, 2.117257180263481, 2.145337343351643, 1.963161653573386, 1.9693424820924184, 1.841563143766777, 1.739301755001647, 1.6823432768409534, 1.483507153900462, 1.559511549212888, 1.467507068734544], \"type\": \"scatter\", \"uid\": \"23a5bd50-77e9-4084-9c8a-f40901070959\"}], {\"title\": \"Correlation wrt. the expenses in the police\", \"titlefont\": {\"color\": \"#7f7f7f\", \"family\": \"Courier New, monospace\", \"size\": 18}, \"xaxis\": {\"title\": \"Total expenses\", \"titlefont\": {\"color\": \"#7f7f7f\", \"family\": \"Courier New, monospace\", \"size\": 15}}, \"yaxis\": {\"title\": \"Number of victims\", \"titlefont\": {\"color\": \"#7f7f7f\", \"family\": \"Courier New, monospace\", \"size\": 15}}}, {\"showLink\": true, \"linkText\": \"Export to plot.ly\", \"plotlyServerURL\": \"https://plot.ly\"})});</script><script type=\"text/javascript\">window.addEventListener(\"resize\", function(){window._Plotly.Plots.resize(document.getElementById(\"8075b0f9-a580-4856-be42-666233444129\"));});</script>"
      ]
     },
     "metadata": {},
     "output_type": "display_data"
    }
   ],
   "source": [
    "# Plot with our function\n",
    "plot_high_correlation(x = df_police_cantons_normalized, y = df_victimes_cantons_normalized_toplot,\\\n",
    "                title='Correlation wrt. the expenses in the police', xlabel='Total expenses',\\\n",
    "                ylabel='Number of victims', labels=df_police_cantons_normalized.index,\\\n",
    "                name_save='correlation_expenses_police_best', alpha=alpha,\\\n",
    "                threshold_of_interest=threshold_of_interest)"
   ]
  },
  {
   "cell_type": "markdown",
   "metadata": {},
   "source": [
    "We can see that more cantons exhibit clear negative correlation between the number of victims and their expenses for the police surveillance. With the same confidence of 95% however, only 15 cantons again show any significant correlation, and for Neuchatel and Vaud the correlation is even positive (>0.6 for both !) In general, it is thus hard to draw conclusions and the cantons should probably be treated separately."
   ]
  },
  {
   "cell_type": "markdown",
   "metadata": {},
   "source": [
    "### 2.4 Type of cars"
   ]
  },
  {
   "cell_type": "markdown",
   "metadata": {},
   "source": [
    "Another interesting correlation with the number of victims might be found with the cylinders of the cars. We have information on it in `df_Voitures` and they are separated in 5 categories:"
   ]
  },
  {
   "cell_type": "code",
   "execution_count": 150,
   "metadata": {},
   "outputs": [
    {
     "data": {
      "text/plain": [
       "array([\"jusqu'à 1399 cm3\", 'de 1400 à 1799 cm3', 'de 1800 à 1999 cm3',\n",
       "       'de 2000 à 2499 cm3', '2500 cm3 et plus'], dtype=object)"
      ]
     },
     "execution_count": 150,
     "metadata": {},
     "output_type": "execute_result"
    }
   ],
   "source": [
    "df_Voitures.cylindre.unique()[df_Voitures.cylindre.unique()!='Indéfini']"
   ]
  },
  {
   "cell_type": "markdown",
   "metadata": {},
   "source": [
    "To have a general idea of the kind of cars used in each canton, we thus decided to build a score for it. We give more weight to cars with bigger cylinders and normalize it to get the final score:  \n",
    "<center> $ Score = \\frac{0.2x_0 + 0.4x_1 + 0.6x_2 + 0.8x_3 + x_4}{\\sum_i{x_i}} $</center>\n",
    "where each $x_i$ corresponds to one of the category, from $x_0$ for the smallest cylinder to $x_4$ for the biggest one. In words, this describe how \"big cylinders\" friendly a canton is.\n",
    "\n",
    "We can then look at the correlation between this and the number of victims"
   ]
  },
  {
   "cell_type": "code",
   "execution_count": 151,
   "metadata": {},
   "outputs": [
    {
     "name": "stdout",
     "output_type": "stream",
     "text": [
      "Significant correlations:\n",
      "1 Canton: UR / Correlation: -0.405802212761349\n",
      "2 Canton: OW / Correlation: -0.5456462170435239\n",
      "3 Canton: GR / Correlation: -0.7646539645194823\n",
      "4 Canton: TE / Correlation: 0.4866078254795702\n",
      "5 Canton: SO / Correlation: 0.4921061751722855\n",
      "6 Canton: ZG / Correlation: -0.44311924407931613\n",
      "7 Canton: SZ / Correlation: -0.7603919820000277\n",
      "8 Canton: NW / Correlation: -0.5405557592452666\n",
      "9 Canton: FR / Correlation: 0.7306420462698051\n",
      "10 Canton: NE / Correlation: 0.4478206926911452\n",
      "11 Canton: VS / Correlation: -0.7058881896382888\n",
      "Plot the cantons with a correlation of more than 0.75:\n"
     ]
    },
    {
     "data": {
      "application/vnd.plotly.v1+json": {
       "config": {
        "linkText": "Export to plot.ly",
        "plotlyServerURL": "https://plot.ly",
        "showLink": true
       },
       "data": [
        {
         "mode": "markers",
         "name": "GR",
         "type": "scatter",
         "uid": "850ca308-4442-452b-af8a-ef490d702cbc",
         "x": [
          0.5132545537637918,
          0.5214760962827857,
          0.5276143852381849,
          0.5336806024792069,
          0.5389000605693519,
          0.5435327449057427,
          0.5478004459041547,
          0.5517316935255867,
          0.5563080436733124,
          0.5614597834715879,
          0.5656667346892501,
          0.5686476943876468,
          0.5736009517934255,
          0.5766173792385743,
          0.5798995081636339,
          0.5817843788514967,
          0.5809122190796124,
          0.5828168149739184,
          0.581214354917648,
          0.5786736529287557,
          0.5766060049371377,
          0.5751807183436196,
          0.5736296626790478,
          0.5726866998414575,
          0.5705903113998969,
          0.568266223437528
         ],
         "y": [
          4.472965592572365,
          4.520341536916122,
          4.185102950337844,
          4.111029501128155,
          3.9517339024957203,
          3.8928326081978475,
          4.031224637990688,
          4.003795875717058,
          3.6948824548905357,
          4.063863723699379,
          3.707716257152474,
          3.807611037887822,
          3.611351751923097,
          3.4814973575121404,
          3.259489868941345,
          3.5751884009631123,
          3.160048695832362,
          2.906245346669884,
          2.798363727639185,
          2.606592796685762,
          2.4731416813406404,
          2.446152712626176,
          2.5791899578307342,
          2.356660860400779,
          2.3971234518577704,
          2.4821277052266097
         ]
        },
        {
         "mode": "markers",
         "name": "SZ",
         "type": "scatter",
         "uid": "c5db8689-bafc-4a19-833b-2b38f9304dde",
         "x": [
          0.5158892426866283,
          0.5235426696236996,
          0.5301234266161554,
          0.5356797885140059,
          0.5404857227938987,
          0.5439424553463186,
          0.5466312112534224,
          0.5511562665857912,
          0.5547552848757668,
          0.5590304505320354,
          0.5638296997684202,
          0.5672447375844606,
          0.5713302992257794,
          0.5745100560670747,
          0.5824658608297942,
          0.5854074779470729,
          0.584981358107695,
          0.5858638365460977,
          0.5846703309445952,
          0.5825035561877667,
          0.5799563266067529,
          0.5778475278281128,
          0.5754117821635257,
          0.5740161982886789,
          0.5716942506492846,
          0.5699579600068228
         ],
         "y": [
          3.6065090552853567,
          3.1859613254962094,
          3.4749552023847405,
          3.8502761975430784,
          3.2373015419992988,
          3.2863394861360073,
          3.252799245542386,
          3.3312282917587623,
          3.02893450026474,
          3.0628934699419825,
          3.1520583320674467,
          3.4260665315190644,
          2.988718328093212,
          2.6884674270560915,
          2.3885350318471334,
          2.5594463588658365,
          2.5768659396055846,
          2.421728752461743,
          2.421831662404784,
          2.197743292862695,
          2.081461119627848,
          1.9099572875990136,
          1.7579024526306914,
          1.9126349434553227,
          1.890696119935067,
          1.8829178908792215
         ]
        }
       ],
       "layout": {
        "title": "Correlation wrt. the car cylinders",
        "titlefont": {
         "color": "#7f7f7f",
         "family": "Courier New, monospace",
         "size": 18
        },
        "xaxis": {
         "title": "\"Cylinder score\"",
         "titlefont": {
          "color": "#7f7f7f",
          "family": "Courier New, monospace",
          "size": 15
         }
        },
        "yaxis": {
         "title": "Number of victims",
         "titlefont": {
          "color": "#7f7f7f",
          "family": "Courier New, monospace",
          "size": 15
         }
        }
       }
      },
      "text/html": [
       "<div id=\"3020bfe0-80ab-49ea-8566-855e7c1ae4c8\" style=\"height: 525px; width: 100%;\" class=\"plotly-graph-div\"></div><script type=\"text/javascript\">require([\"plotly\"], function(Plotly) { window.PLOTLYENV=window.PLOTLYENV || {};window.PLOTLYENV.BASE_URL=\"https://plot.ly\";Plotly.newPlot(\"3020bfe0-80ab-49ea-8566-855e7c1ae4c8\", [{\"mode\": \"markers\", \"name\": \"GR\", \"x\": [0.5132545537637918, 0.5214760962827857, 0.5276143852381849, 0.5336806024792069, 0.5389000605693519, 0.5435327449057427, 0.5478004459041547, 0.5517316935255867, 0.5563080436733124, 0.5614597834715879, 0.5656667346892501, 0.5686476943876468, 0.5736009517934255, 0.5766173792385743, 0.5798995081636339, 0.5817843788514967, 0.5809122190796124, 0.5828168149739184, 0.581214354917648, 0.5786736529287557, 0.5766060049371377, 0.5751807183436196, 0.5736296626790478, 0.5726866998414575, 0.5705903113998969, 0.568266223437528], \"y\": [4.472965592572365, 4.520341536916122, 4.185102950337844, 4.111029501128155, 3.9517339024957203, 3.8928326081978475, 4.031224637990688, 4.003795875717058, 3.6948824548905357, 4.063863723699379, 3.707716257152474, 3.807611037887822, 3.611351751923097, 3.4814973575121404, 3.259489868941345, 3.5751884009631123, 3.160048695832362, 2.906245346669884, 2.798363727639185, 2.606592796685762, 2.4731416813406404, 2.446152712626176, 2.5791899578307342, 2.356660860400779, 2.3971234518577704, 2.4821277052266097], \"type\": \"scatter\", \"uid\": \"850ca308-4442-452b-af8a-ef490d702cbc\"}, {\"mode\": \"markers\", \"name\": \"SZ\", \"x\": [0.5158892426866283, 0.5235426696236996, 0.5301234266161554, 0.5356797885140059, 0.5404857227938987, 0.5439424553463186, 0.5466312112534224, 0.5511562665857912, 0.5547552848757668, 0.5590304505320354, 0.5638296997684202, 0.5672447375844606, 0.5713302992257794, 0.5745100560670747, 0.5824658608297942, 0.5854074779470729, 0.584981358107695, 0.5858638365460977, 0.5846703309445952, 0.5825035561877667, 0.5799563266067529, 0.5778475278281128, 0.5754117821635257, 0.5740161982886789, 0.5716942506492846, 0.5699579600068228], \"y\": [3.6065090552853567, 3.1859613254962094, 3.4749552023847405, 3.8502761975430784, 3.2373015419992988, 3.2863394861360073, 3.252799245542386, 3.3312282917587623, 3.02893450026474, 3.0628934699419825, 3.1520583320674467, 3.4260665315190644, 2.988718328093212, 2.6884674270560915, 2.3885350318471334, 2.5594463588658365, 2.5768659396055846, 2.421728752461743, 2.421831662404784, 2.197743292862695, 2.081461119627848, 1.9099572875990136, 1.7579024526306914, 1.9126349434553227, 1.890696119935067, 1.8829178908792215], \"type\": \"scatter\", \"uid\": \"c5db8689-bafc-4a19-833b-2b38f9304dde\"}], {\"title\": \"Correlation wrt. the car cylinders\", \"titlefont\": {\"color\": \"#7f7f7f\", \"family\": \"Courier New, monospace\", \"size\": 18}, \"xaxis\": {\"title\": \"\\\"Cylinder score\\\"\", \"titlefont\": {\"color\": \"#7f7f7f\", \"family\": \"Courier New, monospace\", \"size\": 15}}, \"yaxis\": {\"title\": \"Number of victims\", \"titlefont\": {\"color\": \"#7f7f7f\", \"family\": \"Courier New, monospace\", \"size\": 15}}}, {\"showLink\": true, \"linkText\": \"Export to plot.ly\", \"plotlyServerURL\": \"https://plot.ly\"})});</script><script type=\"text/javascript\">window.addEventListener(\"resize\", function(){window._Plotly.Plots.resize(document.getElementById(\"3020bfe0-80ab-49ea-8566-855e7c1ae4c8\"));});</script>"
      ],
      "text/vnd.plotly.v1+html": [
       "<div id=\"3020bfe0-80ab-49ea-8566-855e7c1ae4c8\" style=\"height: 525px; width: 100%;\" class=\"plotly-graph-div\"></div><script type=\"text/javascript\">require([\"plotly\"], function(Plotly) { window.PLOTLYENV=window.PLOTLYENV || {};window.PLOTLYENV.BASE_URL=\"https://plot.ly\";Plotly.newPlot(\"3020bfe0-80ab-49ea-8566-855e7c1ae4c8\", [{\"mode\": \"markers\", \"name\": \"GR\", \"x\": [0.5132545537637918, 0.5214760962827857, 0.5276143852381849, 0.5336806024792069, 0.5389000605693519, 0.5435327449057427, 0.5478004459041547, 0.5517316935255867, 0.5563080436733124, 0.5614597834715879, 0.5656667346892501, 0.5686476943876468, 0.5736009517934255, 0.5766173792385743, 0.5798995081636339, 0.5817843788514967, 0.5809122190796124, 0.5828168149739184, 0.581214354917648, 0.5786736529287557, 0.5766060049371377, 0.5751807183436196, 0.5736296626790478, 0.5726866998414575, 0.5705903113998969, 0.568266223437528], \"y\": [4.472965592572365, 4.520341536916122, 4.185102950337844, 4.111029501128155, 3.9517339024957203, 3.8928326081978475, 4.031224637990688, 4.003795875717058, 3.6948824548905357, 4.063863723699379, 3.707716257152474, 3.807611037887822, 3.611351751923097, 3.4814973575121404, 3.259489868941345, 3.5751884009631123, 3.160048695832362, 2.906245346669884, 2.798363727639185, 2.606592796685762, 2.4731416813406404, 2.446152712626176, 2.5791899578307342, 2.356660860400779, 2.3971234518577704, 2.4821277052266097], \"type\": \"scatter\", \"uid\": \"850ca308-4442-452b-af8a-ef490d702cbc\"}, {\"mode\": \"markers\", \"name\": \"SZ\", \"x\": [0.5158892426866283, 0.5235426696236996, 0.5301234266161554, 0.5356797885140059, 0.5404857227938987, 0.5439424553463186, 0.5466312112534224, 0.5511562665857912, 0.5547552848757668, 0.5590304505320354, 0.5638296997684202, 0.5672447375844606, 0.5713302992257794, 0.5745100560670747, 0.5824658608297942, 0.5854074779470729, 0.584981358107695, 0.5858638365460977, 0.5846703309445952, 0.5825035561877667, 0.5799563266067529, 0.5778475278281128, 0.5754117821635257, 0.5740161982886789, 0.5716942506492846, 0.5699579600068228], \"y\": [3.6065090552853567, 3.1859613254962094, 3.4749552023847405, 3.8502761975430784, 3.2373015419992988, 3.2863394861360073, 3.252799245542386, 3.3312282917587623, 3.02893450026474, 3.0628934699419825, 3.1520583320674467, 3.4260665315190644, 2.988718328093212, 2.6884674270560915, 2.3885350318471334, 2.5594463588658365, 2.5768659396055846, 2.421728752461743, 2.421831662404784, 2.197743292862695, 2.081461119627848, 1.9099572875990136, 1.7579024526306914, 1.9126349434553227, 1.890696119935067, 1.8829178908792215], \"type\": \"scatter\", \"uid\": \"c5db8689-bafc-4a19-833b-2b38f9304dde\"}], {\"title\": \"Correlation wrt. the car cylinders\", \"titlefont\": {\"color\": \"#7f7f7f\", \"family\": \"Courier New, monospace\", \"size\": 18}, \"xaxis\": {\"title\": \"\\\"Cylinder score\\\"\", \"titlefont\": {\"color\": \"#7f7f7f\", \"family\": \"Courier New, monospace\", \"size\": 15}}, \"yaxis\": {\"title\": \"Number of victims\", \"titlefont\": {\"color\": \"#7f7f7f\", \"family\": \"Courier New, monospace\", \"size\": 15}}}, {\"showLink\": true, \"linkText\": \"Export to plot.ly\", \"plotlyServerURL\": \"https://plot.ly\"})});</script><script type=\"text/javascript\">window.addEventListener(\"resize\", function(){window._Plotly.Plots.resize(document.getElementById(\"3020bfe0-80ab-49ea-8566-855e7c1ae4c8\"));});</script>"
      ]
     },
     "metadata": {},
     "output_type": "display_data"
    }
   ],
   "source": [
    "# Get the accidents for which we know the cylinder for each canton, keep the interesting\n",
    "# columns (the years) and drop the useless ones\n",
    "df_cylindre = df_Voitures[df_Voitures.cylindre_index != -1].\\\n",
    "        groupby(['canton','cylindre_index']).sum()\\\n",
    "        [[d for d in df_Voitures.columns if IS_DATE.match(d)]].reset_index().\\\n",
    "        drop(columns = ['cylindre_index'])\n",
    "\n",
    "# Define a new dataframe\n",
    "df_cylindre_canton = pd.DataFrame()\n",
    "for cant in dict_cantons.keys():\n",
    "    for year in df_cylindre.columns:\n",
    "        if year != 'canton':\n",
    "            # Score the cantons\n",
    "            x = df_cylindre[df_cylindre.canton==cant][year].values\n",
    "            # Give more weight to big cylinders\n",
    "            scoreTot = 0.2*x[0] + 0.4*x[1] + 0.6*x[2] + 0.8*x[3] + x[4]\n",
    "            # Normalization\n",
    "            nTot = sum(x)\n",
    "            scoreNormalized = scoreTot/nTot\n",
    "            # Build a table\n",
    "            df_cylindre_canton.loc[cant,year] = scoreNormalized\n",
    "\n",
    "# Restrain the set for the plot since we only have information on the victims from 1992\n",
    "df_cylindre_canton_toplot = df_cylindre_canton.drop(columns=['1990', '1991']).\\\n",
    "        reindex(df_victimes_cantons_normalized.index)\n",
    "\n",
    "# Plot with our function\n",
    "plot_high_correlation(x = df_cylindre_canton_toplot, y = df_victimes_cantons_normalized,\\\n",
    "                title='Correlation wrt. the car cylinders', xlabel='\"Cylinder score\"',\\\n",
    "                ylabel='Number of victims', labels=df_victimes_cantons_normalized.index,\\\n",
    "                name_save='correlation_car_cylinders_best', alpha=alpha,\\\n",
    "                threshold_of_interest=threshold_of_interest)"
   ]
  },
  {
   "cell_type": "markdown",
   "metadata": {},
   "source": [
    "Again, the correlation is only significant for a few cantons, namely 11. We can also see 4 cantons exhibit positive correlations. In general, as before, we cannot really draw any conclusion from it."
   ]
  },
  {
   "cell_type": "markdown",
   "metadata": {},
   "source": [
    "### 2.5 Expenses of citizens"
   ]
  },
  {
   "cell_type": "code",
   "execution_count": 123,
   "metadata": {
    "scrolled": false
   },
   "outputs": [
    {
     "name": "stdout",
     "output_type": "stream",
     "text": [
      "______________________________ DESCRIPTION ______________________________\n",
      "\n",
      "\n",
      "\n",
      "         ATTRIBUTE: annee\n",
      "   ['2006–2008' '2009–2011' '2012–2014']\n",
      "\n",
      "\n",
      "         ATTRIBUTE: Canton\n",
      "   ['Zurich' 'Berne' 'Lucerne' 'Saint-Gall' 'Argovie' 'Tessin' 'Vaud'\n",
      " 'Genève']\n",
      "\n",
      "\n",
      "         ATTRIBUTE: Mode\n",
      "   ['Tot' 'Pct']\n",
      "\n",
      "\n",
      "         ATTRIBUTE: Eaux-de-vie\n",
      "   ['8.238019489450405' '0.0008621494018315626' '6.333799213914191'\n",
      " '0.0007343997161229671' '5.156219867051217' '0.0006340647802237802'\n",
      " '6.165540104443541' '0.0007455510661787604' '7.5434795580873875'\n",
      " '0.0007784849576252435' '5.278419515015185' '0.0006770809775005115'\n",
      " '6.9150501483013365' '0.000771983924582562' '( )' '7.275282964766955'\n",
      " '0.0007008607934715014' '6.71642564565875' '0.0007634660625028016'\n",
      " '6.948564257722948' '0.0007682185426985355' '5.059274480601428'\n",
      " '0.0005509422562965204' '5.878449772240965' '0.0005960484710698445'\n",
      " '5.217215341684017' '0.0006070893739299509' '7.759730802385281'\n",
      " '0.0007864049698260074' '10.178491310234097' '0.0009437535685670101'\n",
      " '5.74242303016821' '0.0006174927884783257' '8.703803893463878'\n",
      " '0.0009047694738440805' '8.90545668942189' '0.0009121800965134769'\n",
      " '7.009303750177684' '0.0006882908737452704' '4.455537802584808'\n",
      " '0.0005081661197989755' '6.332994780853171' '0.0006231570178313012']\n",
      "\n",
      "\n",
      "         ATTRIBUTE: Vins\n",
      "   [5.62512730e+01 5.88697337e-03 4.34093872e+01 5.03328895e-03\n",
      " 5.86729250e+01 7.21505992e-03 4.93908591e+01 5.97245448e-03\n",
      " 5.52377609e+01 5.70052130e-03 4.24633670e+01 5.44692174e-03\n",
      " 6.60242917e+01 7.37083474e-03 6.35291775e+01 6.84805274e-03\n",
      " 5.81828678e+01 5.60501785e-03 4.86544713e+01 5.53062590e-03\n",
      " 5.17920222e+01 5.72601625e-03 3.78905701e+01 4.12618771e-03\n",
      " 4.96480672e+01 5.03409158e-03 4.33731407e+01 5.04701667e-03\n",
      " 6.55361089e+01 6.64171516e-03 6.12794907e+01 6.11594513e-03\n",
      " 5.40275776e+01 5.00945745e-03 5.30579800e+01 5.70541736e-03\n",
      " 4.18999130e+01 4.35553956e-03 4.10154313e+01 4.20118376e-03\n",
      " 5.30386096e+01 5.20821928e-03 4.14514099e+01 4.72764525e-03\n",
      " 5.85205899e+01 5.75833671e-03 5.62998103e+01 4.68894755e-03]\n",
      "\n",
      "\n",
      "         ATTRIBUTE: Bières\n",
      "   [8.36151030e+00 8.75073325e-04 7.18847958e+00 8.33499324e-04\n",
      " 7.17278493e+00 8.82043516e-04 6.77579539e+00 8.19344517e-04\n",
      " 8.46641619e+00 8.73731757e-04 6.43952260e+00 8.26019653e-04\n",
      " 6.43570734e+00 7.18470944e-04 8.91618116e+00 9.61109228e-04\n",
      " 9.13146124e+00 8.79674811e-04 8.42635795e+00 9.57836603e-04\n",
      " 8.67320586e+00 9.58891264e-04 1.01726704e+01 1.10777820e-03\n",
      " 8.78777693e+00 8.91041211e-04 7.16100002e+00 8.33273448e-04\n",
      " 9.07394936e+00 9.19593611e-04 8.68213338e+00 8.66512609e-04\n",
      " 8.92497267e+00 8.27526845e-04 9.77486898e+00 1.05110875e-03\n",
      " 7.41928159e+00 7.71242044e-04 8.46411415e+00 8.66973669e-04\n",
      " 9.45752829e+00 9.28698575e-04 6.98223772e+00 7.96343070e-04\n",
      " 9.90281734e+00 9.74422108e-04 5.69909155e+00 4.74650647e-04]\n",
      "\n",
      "\n",
      "         ATTRIBUTE: Boissons alcoolisées dans les restaurants, cafés et bars\n",
      "   [7.55905357e+01 7.91092267e-03 6.11886645e+01 7.09478408e-03\n",
      " 7.36588634e+01 9.05789362e-03 6.67495716e+01 8.07150930e-03\n",
      " 7.30392086e+01 7.53762568e-03 4.88806349e+01 6.27008672e-03\n",
      " 5.79154746e+01 6.46558079e-03 6.56653960e+01 7.07832390e-03\n",
      " 6.22949599e+01 6.00115421e-03 4.56207256e+01 5.18577553e-03\n",
      " 6.30593584e+01 6.97170907e-03 5.72953206e+01 6.23931619e-03\n",
      " 5.19662973e+01 5.26914973e-03 4.30482712e+01 5.00921398e-03\n",
      " 4.71709084e+01 4.78050563e-03 6.07333499e+01 6.06143802e-03\n",
      " 6.13801726e+01 5.69119285e-03 4.98008651e+01 5.35517410e-03\n",
      " 5.61061149e+01 5.83228904e-03 4.79172451e+01 4.90813203e-03\n",
      " 4.98462892e+01 4.89474378e-03 4.19629962e+01 4.78599305e-03\n",
      " 5.08761890e+01 5.00613932e-03 4.48752064e+01 3.73744580e-03]\n",
      "\n",
      "\n",
      "         ATTRIBUTE: Boissons alcoolisées en petite restauration\n",
      "   [6.06761715e+00 6.35006084e-04 4.50120458e+00 5.21911613e-04\n",
      " 7.82227447e+00 9.61911802e-04 6.87846863e+00 8.31759997e-04\n",
      " 6.11996061e+00 6.31578204e-04 1.39609738e+00 1.79082200e-04\n",
      " 2.43210776e+00 2.71516193e-04 4.72406293e+00 5.09224790e-04\n",
      " 1.05239122e+01 1.01381589e-03 6.63506913e+00 7.54218147e-04\n",
      " 1.14605124e+01 1.26704997e-03 8.12192843e+00 8.84457563e-04\n",
      " 1.02681984e+01 1.04114931e-03 3.26960918e+00 3.80460621e-04\n",
      " 4.48808712e+00 4.54842327e-04 2.98858393e+00 2.98272964e-04\n",
      " 7.10322499e+00 6.58613711e-04 6.97092262e+00 7.49595498e-04\n",
      " 8.72177723e+00 9.06637821e-04 5.65578875e+00 5.79318737e-04\n",
      " 7.23410053e+00 7.10365188e-04 5.12054138e+00 5.84011573e-04\n",
      " 4.67243027e+00 4.59760005e-04 3.13808398e+00 2.61356319e-04]\n",
      "\n",
      "\n",
      "         ATTRIBUTE: Boissons alcoolisées dans les cantines\n",
      "   ['0.37909465523331387' '3.967412685360722e-05' '0.3677247612306563'\n",
      " '4.2637436258780415e-05' '( )' '0.9928888548856615'\n",
      " '0.00011084434941620867' '0.4346456607717597' '4.940681676835523e-05'\n",
      " '0.9827617933160545' '9.959736724130907e-05' '1.0018515068631422'\n",
      " '9.858065874523346e-05']\n",
      "\n",
      "\n",
      "         ATTRIBUTE: Boissons alcoolisées chez des privés lors d'invitations\n",
      "   ['( )' '9.599401753075146' '0.0009247536298029719' '9.123055209305596'\n",
      " '0.001037031213640581' '12.35301432889411' '0.0013657230923826821'\n",
      " '8.236382951279742' '0.0008969213716905948' '7.387346373562848'\n",
      " '0.000749043826489465' '4.886047509180783' '0.0005685537837859504'\n",
      " '9.671129314417474' '0.0009801144331385877' '7.632257490546019'\n",
      " '0.0007617306779601933' '10.507461418096488' '0.000974255801538889'\n",
      " '9.826892864790493' '0.0010567029710765658' '10.015867862157313'\n",
      " '0.0010411598890160032' '6.428813837570012' '0.0006584991911518099'\n",
      " '9.200122944365965' '0.0009034222064896298' '5.274062536121527'\n",
      " '0.0006015210763116417' '7.720961852961692' '0.0007597308587127345'\n",
      " '7.397381847551513' '0.000616093292667639']\n",
      "\n",
      "\n",
      "         ATTRIBUTE: Automobiles\n",
      "   ['210.53706207375896' '0.022033742741530644' '151.29449094341436'\n",
      " '0.017542493446227773' '153.99110787487078' '0.01893641863393536'\n",
      " '129.78844937255988' '0.015694313096376058' '237.2950361765148'\n",
      " '0.02448878064294673' '146.85776422212112' '0.018837949175922474'\n",
      " '185.532871786341' '0.020712560491824704' '( )' '199.97346040383832'\n",
      " '0.019264344604961417' '152.27066349428213' '0.017308832111885383'\n",
      " '205.3438975253849' '0.022702386256795316' '223.75150555037123'\n",
      " '0.02436597575212218' '291.46127622220195' '0.02955286764355259'\n",
      " '185.9440143694711' '0.02163695149166433' '179.41420494610787'\n",
      " '0.018182618188717373' '157.35375898428163' '0.0145899001180592'\n",
      " '180.49967160366396' '0.019409445272913592' '175.4091509300962'\n",
      " '0.018233963809046693' '239.42966530954638' '0.024524623815157694'\n",
      " '229.34201179168778' '0.02252064103779171' '196.6931056188055'\n",
      " '0.022433379920047472' '189.28847926357665' '0.018625697372171464']\n",
      "\n",
      "\n",
      "         ATTRIBUTE: Motos, scooters et vélomoteurs\n",
      "   ['( )']\n",
      "\n",
      "\n",
      "         ATTRIBUTE: Vélos\n",
      "   ['11.510053967140562' '0.0012045839604442686' '15.413720853958868'\n",
      " '0.0017872104620365076' '( )' '15.08225438891521' '0.0018237803419575488'\n",
      " '9.687951025940764' '0.000999793806800896' '4.851734633257618'\n",
      " '0.0005416390427964453' '18.136661134141026' '0.001747186298451416'\n",
      " '15.139123076220287' '0.001720886568917502' '13.852278461125273'\n",
      " '0.0015314785584133355' '18.01758031626034' '0.0019620691445988124'\n",
      " '10.18720468547158' '0.0010329369157705869' '13.729119534662361'\n",
      " '0.0012729691620498769' '10.37742897053764' '0.0011159030810841085'\n",
      " '13.861276430283311' '0.0013611323471582426']\n",
      "\n",
      "\n",
      "         ATTRIBUTE: Carburants et lubrifiants\n",
      "   [1.41489994e+02 1.48076263e-02 1.41455851e+02 1.64017098e-02\n",
      " 1.48614545e+02 1.82752581e-02 1.57176614e+02 1.90061520e-02\n",
      " 1.83114065e+02 1.88973198e-02 2.06792259e+02 2.65259524e-02\n",
      " 1.94801229e+02 2.17472635e-02 1.51913672e+02 1.63753551e-02\n",
      " 1.22819354e+02 1.18317418e-02 1.29813047e+02 1.47560415e-02\n",
      " 1.41106750e+02 1.56004633e-02 1.53636880e+02 1.67306695e-02\n",
      " 1.53254501e+02 1.55393198e-02 1.85592722e+02 2.15960742e-02\n",
      " 1.79789116e+02 1.82206133e-02 1.25567852e+02 1.25321879e-02\n",
      " 1.45567928e+02 1.34971134e-02 1.40424015e+02 1.51000398e-02\n",
      " 1.47595498e+02 1.53427056e-02 1.72025431e+02 1.76204522e-02\n",
      " 1.76988841e+02 1.73797296e-02 2.00180093e+02 2.28310803e-02\n",
      " 1.75633764e+02 1.72820943e-02 1.39139732e+02 1.15882967e-02]\n",
      "\n",
      "\n",
      "         ATTRIBUTE: Train, billets et abonnements\n",
      "   [3.45735473e+01 3.61829237e-03 3.11976893e+01 3.61735088e-03\n",
      " 2.27333956e+01 2.79554516e-03 2.70801934e+01 3.27459828e-03\n",
      " 2.36149878e+01 2.43706007e-03 1.11642324e+01 1.43207439e-03\n",
      " 2.78719155e+01 3.11157117e-03 2.60474705e+01 2.80775635e-03\n",
      " 3.97919905e+01 3.83334176e-03 3.27404746e+01 3.72165830e-03\n",
      " 2.15971908e+01 2.38773965e-03 3.21984466e+01 3.50632978e-03\n",
      " 2.43315811e+01 2.46711332e-03 1.14229475e+01 1.32920526e-03\n",
      " 3.22420092e+01 3.26754586e-03 3.21949323e+01 3.21318661e-03\n",
      " 3.09428141e+01 2.86902944e-03 3.02379665e+01 3.25154140e-03\n",
      " 2.72515606e+01 2.83282809e-03 2.49148618e+01 2.55201298e-03\n",
      " 2.56050213e+01 2.51432997e-03 1.24682115e+01 1.42203320e-03\n",
      " 2.96328066e+01 2.91582293e-03 2.85328509e+01 2.37636754e-03]\n",
      "\n",
      "\n",
      "         ATTRIBUTE: Tram, billets et abonnements\n",
      "   ['4.047249522742667' '0.0004235646394821113' '1.8606612127142632'\n",
      " '0.00021574240361400937' '( )' '6.718145680009624'\n",
      " '0.0007241745876063295' '3.8660013169845233' '0.0003724293286880334'\n",
      " '1.8598559969153812' '0.00021141258903163823' '1.846170904925576'\n",
      " '0.0001870990130656809' '4.58478881646493' '0.0004575807744689043'\n",
      " '3.396024386459847' '0.00031488066708270924' '1.4342814581729466'\n",
      " '0.00015423079289301832' '2.0717869876273225' '0.0002038606765782948'\n",
      " '4.649041335486711' '0.0003871968817015999']\n",
      "\n",
      "\n",
      "         ATTRIBUTE: Bus, billets et abonnements\n",
      "   [3.84255380e+00 4.02142222e-04 5.42771162e+00 6.29339475e-04\n",
      " 1.09360449e+01 1.34481483e-03 7.53643270e+00 9.11322502e-04\n",
      " 4.84517857e+00 5.00021059e-04 4.25995862e+00 5.46439505e-04\n",
      " 1.02608059e+01 1.14549816e-03 2.02085936e+01 2.17836150e-03\n",
      " 3.53354986e+00 3.40402782e-04 4.66364044e+00 5.30122925e-04\n",
      " 8.91059062e+00 9.85136020e-04 6.36974808e+00 6.93649532e-04\n",
      " 4.19508542e+00 4.25362867e-04 4.56537715e+00 5.31239708e-04\n",
      " 8.78926982e+00 8.90742945e-04 1.16973808e+01 1.16744670e-03\n",
      " 3.23466306e+00 2.99919184e-04 6.17428605e+00 6.63931774e-04\n",
      " 9.10039149e+00 9.45995168e-04 5.36779620e+00 5.49819850e-04\n",
      " 5.13289568e+00 5.04033692e-04 3.32658328e+00 3.79405808e-04\n",
      " 8.21146869e+00 8.07995983e-04 1.07784995e+01 8.97690748e-04]\n",
      "\n",
      "\n",
      "         ATTRIBUTE: Bateau, billets et abonnements\n",
      "   ['3.172501021756669' '0.00033201789115942093' '2.5918517049238923'\n",
      " '0.00030052344446716817' '( )' '4.698557254653512'\n",
      " '0.0004526331940098255' '4.153844338709409' '0.00047217364545289805'\n",
      " '2.872951944381505' '0.00026638119218173374' '3.0638351252769978'\n",
      " '0.00032945954782605334']\n",
      "\n",
      "\n",
      "         ATTRIBUTE: Transport multimodal\n",
      "   [7.23606883e+01 7.57290320e-03 7.09509136e+01 8.22671023e-03\n",
      " 4.95516899e+01 6.09341381e-03 4.80922709e+01 5.81542627e-03\n",
      " 5.38999722e+01 5.56246189e-03 1.47744268e+01 1.89516641e-03\n",
      " 3.24273589e+01 3.62013279e-03 1.47892206e+01 1.59418659e-03\n",
      " 8.81676746e+01 8.49358941e-03 8.41559812e+01 9.56613517e-03\n",
      " 5.77993310e+01 6.39017158e-03 5.73424594e+01 6.24444949e-03\n",
      " 6.66872450e+01 6.76178788e-03 1.95526407e+01 2.27519847e-03\n",
      " 3.66897413e+01 3.71829843e-03 2.20465263e+01 2.20033397e-03\n",
      " 1.00994951e+02 9.36429006e-03 9.16846431e+01 9.85900997e-03\n",
      " 6.59099761e+01 6.85141062e-03 6.12343288e+01 6.27219220e-03\n",
      " 7.20348922e+01 7.07359256e-03 2.26588949e+01 2.58430815e-03\n",
      " 6.24465524e+01 6.14464542e-03 3.89991311e+01 3.24805500e-03]\n",
      "\n",
      "\n",
      "         ATTRIBUTE: Services de téléphonie mobile\n",
      "   [6.43008537e+01 6.72940173e-03 5.72511156e+01 6.63822796e-03\n",
      " 4.46185471e+01 5.48678101e-03 5.00387714e+01 6.05080151e-03\n",
      " 6.03554189e+01 6.22866216e-03 7.63485579e+01 9.79349141e-03\n",
      " 7.30169242e+01 8.15147982e-03 9.24747865e+01 9.96821051e-03\n",
      " 6.63478036e+01 6.39158291e-03 6.07794541e+01 6.90889067e-03\n",
      " 5.09318145e+01 5.63091350e-03 5.89030355e+01 6.41439230e-03\n",
      " 6.08223889e+01 6.16711774e-03 9.09292203e+01 1.05807715e-02\n",
      " 7.82391277e+01 7.92909450e-03 9.96221403e+01 9.94269920e-03\n",
      " 6.39983592e+01 5.93395210e-03 5.59566755e+01 6.01711915e-03\n",
      " 5.60282877e+01 5.82419882e-03 6.43407526e+01 6.59038115e-03\n",
      " 6.52373370e+01 6.40609471e-03 8.01421191e+01 9.14042513e-03\n",
      " 8.22340481e+01 8.09170478e-03 9.32661098e+01 7.76769753e-03]\n",
      "\n",
      "\n",
      "         ATTRIBUTE: Assurance véhicule\n",
      "   [1.01943344e+02 1.06688742e-02 1.01887655e+02 1.18138044e-02\n",
      " 9.96374326e+01 1.22525006e-02 1.06081265e+02 1.28275867e-02\n",
      " 1.27220912e+02 1.31291622e-02 1.33139065e+02 1.70782046e-02\n",
      " 1.25347741e+02 1.39935993e-02 1.12882761e+02 1.21680640e-02\n",
      " 9.84115895e+01 9.48043190e-03 9.77249698e+01 1.11085422e-02\n",
      " 1.07435346e+02 1.18778242e-02 1.06961682e+02 1.16478579e-02\n",
      " 1.17153063e+02 1.18787957e-02 1.34757220e+02 1.56807168e-02\n",
      " 1.23123942e+02 1.24779174e-02 1.06864729e+02 1.06655393e-02\n",
      " 1.02067002e+02 9.46369107e-03 9.55054349e+01 1.02698664e-02\n",
      " 1.02962487e+02 1.07030576e-02 1.08219558e+02 1.10848585e-02\n",
      " 1.21422087e+02 1.19232548e-02 1.35103707e+02 1.54089427e-02\n",
      " 1.19160541e+02 1.17252153e-02 1.08632213e+02 9.04746826e-03]\n",
      "\n",
      "\n",
      "         VALUES: []\n",
      "\n",
      "\n",
      "\n",
      "\n"
     ]
    }
   ],
   "source": [
    "# Using df_Depense_menages_canton\n",
    "describeDf(df_Depense_menages_canton)"
   ]
  },
  {
   "cell_type": "markdown",
   "metadata": {},
   "source": [
    "### 2.7 Impact of the health budget"
   ]
  },
  {
   "cell_type": "code",
   "execution_count": null,
   "metadata": {},
   "outputs": [],
   "source": [
    "# Using df_Besoin_sante\n",
    "df_Besoin_sante.head(2)"
   ]
  },
  {
   "cell_type": "markdown",
   "metadata": {},
   "source": [
    "### 2.3 Road length"
   ]
  },
  {
   "cell_type": "markdown",
   "metadata": {},
   "source": [
    "Yearly information about the road network of each canton."
   ]
  },
  {
   "cell_type": "code",
   "execution_count": null,
   "metadata": {},
   "outputs": [],
   "source": [
    "# Using df_Longueur_routes\n",
    "d = df_cantons_routes.pivot(index = 'canton', columns='annee', values = 'Total')"
   ]
  },
  {
   "cell_type": "markdown",
   "metadata": {},
   "source": [
    "## 3. Predictions"
   ]
  },
  {
   "cell_type": "markdown",
   "metadata": {},
   "source": [
    "For the well correlated features (low p Value of uncorrelation hypothesis), we will use a machine learning technique and apply a regression to predict the potential number of car accidents following different possible decisions made in investment and road infrastructure by a canton for example."
   ]
  },
  {
   "cell_type": "code",
   "execution_count": null,
   "metadata": {},
   "outputs": [],
   "source": [
    "# Get datasets with canton\n",
    "regex_canton = re.compile('.*[C|c]anton.*')\n",
    "regex_population = re.compile('.*Population.*')\n",
    "cantons_dfs=[]\n",
    "for index in dataframes:\n",
    "    if not regex_population.match(index):\n",
    "        for col in dataframes[index].columns:\n",
    "            if regex_canton.match(col):\n",
    "                if index not in ['df_Depense_menages_canton','df_hacked_accident']:\n",
    "                    cantons_dfs.append(index)\n",
    "                break"
   ]
  },
  {
   "cell_type": "code",
   "execution_count": null,
   "metadata": {
    "scrolled": false
   },
   "outputs": [],
   "source": [
    "# Map names of cantons to their index\n",
    "for df in cantons_dfs:\n",
    "    globals()[df] = clean_cantons_names(globals()[df])\n",
    "    globals()[df] = globals()[df].dropna()\n"
   ]
  },
  {
   "cell_type": "code",
   "execution_count": null,
   "metadata": {
    "scrolled": false
   },
   "outputs": [],
   "source": [
    "# Snapshot of dataframes we get to build features for the ML stuff\n",
    "annees_max = []\n",
    "annees_min = []\n",
    "\n",
    "# We get two type of dataframe : one with a column date for the date, the other one with one colum by date\n",
    "cantons_dfs_dateASrows = []\n",
    "cantons_dfs_dateAScolumns = []\n",
    "\n",
    "# If we want to excluded some dataframe from the analyse\n",
    "excluded_df = []\n",
    "\n",
    "\n",
    "for df in [c for c in cantons_dfs if (c not in excluded_df)]:\n",
    "    print(df)\n",
    "    try:\n",
    "        annees_max.append(np.max(globals()[df].annee))\n",
    "        annees_min.append(np.min(globals()[df].annee))\n",
    "        \n",
    "        # Accident is not a feature but what we want to predict\n",
    "        if(not re.compile('.*[A|a]ccident.*').match(df)):\n",
    "            cantons_dfs_dateASrows.append(df)\n",
    "    except:\n",
    "        annees_df = [int(d) for d in globals()[df].columns if IS_DATE.match(d)]\n",
    "        annees_max.append(np.max(annees_df))\n",
    "        annees_min.append(np.min(annees_df))\n",
    "        if(not re.compile('.*[A|a]ccident.*').match(df)):\n",
    "            cantons_dfs_dateAScolumns.append(df)\n",
    "\n",
    "annee_max = int(np.min(annees_max))\n",
    "annee_min = int(np.max(annees_min))\n",
    "print(\"\\n\\n>>  Information from {} to {}\".format(annee_min,annee_max))"
   ]
  },
  {
   "cell_type": "code",
   "execution_count": null,
   "metadata": {},
   "outputs": [],
   "source": [
    "# Array useful to select interesting years\n",
    "annees = [d for d in range(annee_min,annee_max+1)]\n",
    "str_annees = [str(d) for d in annees]"
   ]
  },
  {
   "cell_type": "code",
   "execution_count": null,
   "metadata": {},
   "outputs": [],
   "source": [
    "# Dictionnary of dataframe of features by cantons\n",
    "\n",
    "features_cantons = {}\n",
    "\n",
    "# Run over the canton\n",
    "for canton in dict_cantons:\n",
    "    # Create the dataframe associated\n",
    "    features_cantons[canton] = pd.DataFrame({'annee':annees})\n",
    "    \n",
    "    # Run over the dataframe availables\n",
    "    for df in cantons_dfs_dateASrows:\n",
    "        # Run over columns of this dataframe\n",
    "        for column in globals()[df].columns:\n",
    "            # Annee and Canton are not feature but parameters\n",
    "            if (column not in ['annee','canton']):\n",
    "                \n",
    "                # Name the feature by the canton involve, the dataframe extract and the column name.\n",
    "                # The name of the canton is important even if for now we have one dataframe per canton, \n",
    "                # after we will merge the dataframes.\n",
    "                name = canton+'_'+df.split('_',1)[1]+'-'+column\n",
    "                \n",
    "                # Get the vector associated\n",
    "                feature = globals()[df][(globals()[df].canton==canton) & (globals()[df].annee.isin(annees))]\\\n",
    "                            .sort_values('annee')[column].values\n",
    "                \n",
    "                # Assigned the vector to dataframe\n",
    "                features_cantons[canton][name]=feature\n",
    "                \n",
    "    # Same thing for dataframe with columns as date\n",
    "    for df in cantons_dfs_dateAScolumns:\n",
    "        \n",
    "        # Total of the dataframe is a feature\n",
    "        name = canton+'_'+'total_' + df.split('_',1)[1]\n",
    "        feature = globals()[df][globals()[df].canton==canton].sum()[str_annees].values\n",
    "        features_cantons[canton][name]=feature\n",
    "        \n",
    "        # Select columns with feature get an index\n",
    "        interesting_features = [c for c in globals()[df].columns if ((re.compile('.*_index').match(c)) and (not re.compile('.*canton.*').match(c)))]\n",
    "        \n",
    "        for feature in interesting_features:\n",
    "            \n",
    "            # Iteration over different values of the feature\n",
    "            for i, feature_value in enumerate(globals()[df][globals()[df].canton==canton].groupby(feature).sum()[str_annees].values):\n",
    "                features_cantons[canton][canton+'_'+feature+'_'+str(i)]=feature_value\n",
    "\n",
    "            "
   ]
  },
  {
   "cell_type": "code",
   "execution_count": null,
   "metadata": {},
   "outputs": [],
   "source": [
    "# What we get for the Zurich canton\n",
    "features_cantons['ZH'].head(5)"
   ]
  },
  {
   "cell_type": "code",
   "execution_count": null,
   "metadata": {},
   "outputs": [],
   "source": [
    "# Get a dictionnary of accident by canton\n",
    "accidents_cantons = {}\n",
    "\n",
    "accidents = df_Accident_cantons.groupby('canton').sum()[[d for d in df_Accident_cantons.columns if (IS_DATE.match(d))]]\n",
    "accidents = accidents[[d for d in accidents.columns if ((int(d) in annees))]]\n",
    "\n",
    "for canton in dict_cantons:\n",
    "    accidents_cantons[canton] = accidents[accidents.index==canton].transpose()[canton].values"
   ]
  },
  {
   "cell_type": "code",
   "execution_count": null,
   "metadata": {},
   "outputs": [],
   "source": [
    "# Import ML algorithms\n",
    "from sklearn.tree import DecisionTreeRegressor,export_graphviz,ExtraTreeRegressor\n",
    "from sklearn.linear_model import Ridge,LinearRegression\n",
    "from sklearn.svm import LinearSVR\n",
    "from sklearn.neural_network import MLPRegressor\n",
    "from sklearn.ensemble import RandomForestRegressor"
   ]
  },
  {
   "cell_type": "markdown",
   "metadata": {},
   "source": [
    "# WARNING"
   ]
  },
  {
   "cell_type": "markdown",
   "metadata": {},
   "source": [
    "> `DecisionTreeRegressor` are not reproductible. Sometime results are good, sometimes not..."
   ]
  },
  {
   "cell_type": "code",
   "execution_count": null,
   "metadata": {},
   "outputs": [],
   "source": [
    "# Dictionnary of algo of ML to test\n",
    "ML_stuff = {}\n",
    "ML_stuff['linear'] = LinearRegression()\n",
    "ML_stuff['ridge'] = Ridge()\n",
    "ML_stuff['MLP_lbfgs'] = MLPRegressor(solver='lbfgs')\n",
    "ML_stuff['tree'] = DecisionTreeRegressor()\n",
    "ML_stuff['extra_tree'] = ExtraTreeRegressor()\n",
    "ML_stuff['forest'] = RandomForestRegressor()"
   ]
  },
  {
   "cell_type": "code",
   "execution_count": null,
   "metadata": {},
   "outputs": [],
   "source": [
    "results_ML = pd.DataFrame({'ML_stuff':[],'canton':[],'real_value':[],'prediction':[],'variation':[],'dummy_prediction':[],'winwin':[]})"
   ]
  },
  {
   "cell_type": "code",
   "execution_count": null,
   "metadata": {
    "scrolled": false
   },
   "outputs": [],
   "source": [
    "# Try to do ML_stuff\n",
    "\n",
    "# Iteration of different algorithm\n",
    "for algo in ML_stuff:\n",
    "    \n",
    "    # Iteration over cantons\n",
    "    for canton in dict_cantons:\n",
    "        \n",
    "        # Set the algo\n",
    "        clf = ML_stuff[algo]\n",
    "        \n",
    "        # Normalized all the features together (have to discuss about that)\n",
    "        X = normalize(features_cantons[canton].values)\n",
    "        \n",
    "        # Training without the last year\n",
    "        clf.fit(X[:-1],accidents_cantons[canton][:-1])\n",
    "        \n",
    "        # Predict for the last year\n",
    "        prediction = clf.predict([X[len(X)-1]])\n",
    "        \n",
    "        # Get the true value\n",
    "        real_value = accidents_cantons[canton][len(X)-1]\n",
    "        \n",
    "        # Get the variation\n",
    "        variation = np.abs((prediction-real_value)/real_value)[0]\n",
    "        \n",
    "        \n",
    "        #######################\n",
    "        \n",
    "        # Same thing but now we just use the year to do the prediction\n",
    "        \n",
    "        X = normalize(features_cantons[canton][['annee']].values)\n",
    "        clf.fit(X[:-1],accidents_cantons[canton][:-1])\n",
    "        dummy_prediction = clf.predict([X[len(X)-1]])\n",
    "        dummy_variation = np.abs((dummy_prediction-real_value)/real_value)[0]\n",
    "        if (dummy_variation>variation):\n",
    "            winwin = 1\n",
    "        else:\n",
    "            winwin = 0\n",
    "        local_df = pd.DataFrame({'ML_stuff':[algo],'canton':[canton],'real_value':[real_value],'prediction':[prediction],\\\n",
    "                                 'variation':[variation],'dummy_prediction':[dummy_prediction],'winwin':[winwin]})\n",
    "        results_ML = pd.concat([results_ML,local_df])\n",
    "    "
   ]
  },
  {
   "cell_type": "code",
   "execution_count": null,
   "metadata": {},
   "outputs": [],
   "source": [
    "results_ML.head(10)"
   ]
  },
  {
   "cell_type": "code",
   "execution_count": null,
   "metadata": {},
   "outputs": [],
   "source": [
    "# Display the performance of each ML algo\n",
    "for algo in ML_stuff:\n",
    "    \n",
    "    min_pred = int(results_ML[results_ML.ML_stuff==algo].variation.min()*10000)/100\n",
    "    max_pred = int(results_ML[results_ML.ML_stuff==algo].variation.max()*10000)/100\n",
    "    median_pred = int(results_ML[results_ML.ML_stuff==algo].variation.median()*10000)/100\n",
    "    mean_pred = int(results_ML[results_ML.ML_stuff==algo].variation.mean()*10000)/100\n",
    "    \n",
    "    winwin = int(results_ML[results_ML.ML_stuff==algo]['winwin'].sum()/results_ML[results_ML.ML_stuff=='linear'].winwin.count()*10000)/100\n",
    "    \n",
    "    \n",
    "    print(\"#---------------------#\")\n",
    "    print('# Algo : {}'.format(algo))\n",
    "    print('# Variation to the prediction : MIN={}% ; MEDIAN={}% ; MEAN={}% ; MAX={}%'.format(min_pred,median_pred,mean_pred,max_pred))\n",
    "    print('# > Better than the dummy prediction is {}% of case'.format(winwin))\n",
    "    print(\"#---------------------#\\n\")\n",
    "    "
   ]
  },
  {
   "cell_type": "code",
   "execution_count": null,
   "metadata": {},
   "outputs": [],
   "source": [
    "# Now we concat all the dataframe of all cantons to perform the same ML stuff but each canton get the global knowledge of all cantons\n",
    "\n",
    "# First we set 'annee' as index to concat well\n",
    "for f in features_cantons:\n",
    "    features_cantons[f] = features_cantons[f].set_index('annee')\n",
    "    \n",
    "# Concatenation\n",
    "features_total = pd.concat([features_cantons[c] for c in features_cantons], axis=1, join='inner')\n",
    "\n",
    "# We unset 'annee' as index (if we want to reuse later)\n",
    "for f in features_cantons:\n",
    "    features_cantons[f] = features_cantons[f].reset_index()\n",
    "\n",
    "# Reset index to get the column 'annee' back\n",
    "features_total = features_total.reset_index()"
   ]
  },
  {
   "cell_type": "code",
   "execution_count": null,
   "metadata": {},
   "outputs": [],
   "source": [
    "# New dataframe to store results\n",
    "results_ML_global = pd.DataFrame({'ML_stuff':[],'canton':[],'real_value':[],'prediction':[],'variation':[],'dummy_prediction':[],'winwin':[]})"
   ]
  },
  {
   "cell_type": "code",
   "execution_count": null,
   "metadata": {
    "scrolled": false
   },
   "outputs": [],
   "source": [
    "# Redo the same things\n",
    "\n",
    "# Iteration of different algorithm\n",
    "for algo in ML_stuff:\n",
    "    \n",
    "    # Iteration over cantons\n",
    "    for canton in dict_cantons:\n",
    "        \n",
    "        # Set the algo\n",
    "        clf = ML_stuff[algo]\n",
    "        \n",
    "        # Normalized all the features together (have to discuss about that)\n",
    "        # Notice that here we now use the dataframe 'features_total'\n",
    "        X = normalize(features_total.values)\n",
    "        \n",
    "        # Training without the last year\n",
    "        clf.fit(X[:-1],accidents_cantons[canton][:-1])\n",
    "        \n",
    "        # Predict for the last year\n",
    "        prediction = clf.predict([X[len(X)-1]])\n",
    "        \n",
    "        # Get the true value\n",
    "        real_value = accidents_cantons[canton][len(X)-1]\n",
    "        \n",
    "        # Get the variation\n",
    "        variation = np.abs((prediction-real_value)/real_value)[0]\n",
    "        \n",
    "        \n",
    "        #######################\n",
    "        \n",
    "        # Same thing but now we just use the year to do the prediction\n",
    "        \n",
    "        X = normalize(features_total[['annee']].values)\n",
    "        clf.fit(X[:-1],accidents_cantons[canton][:-1])\n",
    "        dummy_prediction = clf.predict([X[len(X)-1]])\n",
    "        dummy_variation = np.abs((dummy_prediction-real_value)/real_value)[0]\n",
    "        if (dummy_variation>variation):\n",
    "            winwin = 1\n",
    "        else:\n",
    "            winwin = 0\n",
    "        local_df = pd.DataFrame({'ML_stuff':[algo],'canton':[canton],'real_value':[real_value],'prediction':[prediction],\\\n",
    "                                 'variation':[variation],'dummy_prediction':[dummy_prediction],'winwin':[winwin]})\n",
    "        results_ML_global = pd.concat([results_ML_global,local_df])\n",
    "    "
   ]
  },
  {
   "cell_type": "code",
   "execution_count": null,
   "metadata": {},
   "outputs": [],
   "source": [
    "# Same display the performance of each ML algo\n",
    "for algo in ML_stuff:\n",
    "    \n",
    "    min_pred = int(results_ML[results_ML.ML_stuff==algo].variation.min()*10000)/100\n",
    "    max_pred = int(results_ML[results_ML.ML_stuff==algo].variation.max()*10000)/100\n",
    "    median_pred = int(results_ML[results_ML.ML_stuff==algo].variation.median()*10000)/100\n",
    "    mean_pred = int(results_ML[results_ML.ML_stuff==algo].variation.mean()*10000)/100\n",
    "    \n",
    "    winwin = int(results_ML[results_ML.ML_stuff==algo]['winwin'].sum()/results_ML[results_ML.ML_stuff=='linear'].winwin.count()*10000)/100\n",
    "    \n",
    "    \n",
    "    print(\"#---------------------#\")\n",
    "    print('# Algo : {}'.format(algo))\n",
    "    print('# Variation to the prediction : MIN={}% ; MEDIAN={}% ; MEAN={}% ; MAX={}%'.format(min_pred,median_pred,mean_pred,max_pred))\n",
    "    print('# > Better than the dummy prediction is {}% of case'.format(winwin))\n",
    "    print(\"#---------------------#\\n\")\n",
    "    "
   ]
  },
  {
   "cell_type": "code",
   "execution_count": null,
   "metadata": {
    "scrolled": false
   },
   "outputs": [],
   "source": [
    "import graphviz\n",
    "# To see the tree decision of a canton\n",
    "canton = 'ZH'\n",
    "\n",
    "clf = ML_stuff['tree']\n",
    "X = normalize(features_cantons[canton].values)\n",
    "        \n",
    "clf.fit(X[:-1],accidents_cantons[canton][:-1])\n",
    "\n",
    "tree = export_graphviz(clf,out_file=None,feature_names=features_cantons[canton].columns)\n",
    "\n",
    " \n",
    "graphviz.Source(tree)"
   ]
  },
  {
   "cell_type": "markdown",
   "metadata": {},
   "source": [
    "## 4. Conclusion"
   ]
  },
  {
   "cell_type": "markdown",
   "metadata": {},
   "source": [
    "Our recommendations to decision makers based on the results of the study!"
   ]
  },
  {
   "cell_type": "code",
   "execution_count": null,
   "metadata": {},
   "outputs": [],
   "source": []
  },
  {
   "cell_type": "code",
   "execution_count": null,
   "metadata": {},
   "outputs": [],
   "source": []
  },
  {
   "cell_type": "code",
   "execution_count": null,
   "metadata": {},
   "outputs": [],
   "source": []
  },
  {
   "cell_type": "code",
   "execution_count": null,
   "metadata": {},
   "outputs": [],
   "source": []
  }
 ],
 "metadata": {
  "kernelspec": {
   "display_name": "Python 3",
   "language": "python",
   "name": "python3"
  },
  "language_info": {
   "codemirror_mode": {
    "name": "ipython",
    "version": 3
   },
   "file_extension": ".py",
   "mimetype": "text/x-python",
   "name": "python",
   "nbconvert_exporter": "python",
   "pygments_lexer": "ipython3",
   "version": "3.6.6"
  }
 },
 "nbformat": 4,
 "nbformat_minor": 2
}
